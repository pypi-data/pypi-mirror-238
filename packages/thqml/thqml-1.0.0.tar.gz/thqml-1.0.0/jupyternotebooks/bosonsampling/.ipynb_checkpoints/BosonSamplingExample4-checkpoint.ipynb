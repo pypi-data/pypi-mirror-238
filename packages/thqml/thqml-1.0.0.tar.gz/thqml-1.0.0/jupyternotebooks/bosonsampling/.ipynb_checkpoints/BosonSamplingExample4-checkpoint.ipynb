{
 "cells": [
  {
   "cell_type": "markdown",
   "metadata": {},
   "source": [
    "# Model for single mode squeezed vacuum and squeezed coherent state"
   ]
  },
  {
   "cell_type": "markdown",
   "metadata": {},
   "source": [
    "We test the boson sampling operator (no training) \n",
    "on coherent states and squeezed states\n",
    "\n",
    "We compare with theory\n",
    "\n",
    "nonlinearxwaves@gmail.com<br>\n",
    "@version 28 January 2021<br>\n",
    "@version 1 October 2023<br>"
   ]
  },
  {
   "cell_type": "code",
   "execution_count": 1,
   "metadata": {},
   "outputs": [],
   "source": [
    "import os\n",
    "os.environ['TF_CPP_MIN_LOG_LEVEL'] = '2' # disable warning messages "
   ]
  },
  {
   "cell_type": "code",
   "execution_count": 2,
   "metadata": {},
   "outputs": [],
   "source": [
    "import numpy as np\n",
    "import math\n",
    "from thqml import phasespace as ps\n",
    "import tensorflow as tf\n",
    "import matplotlib.pyplot as plt"
   ]
  },
  {
   "cell_type": "code",
   "execution_count": 3,
   "metadata": {},
   "outputs": [],
   "source": [
    "tf_complex = tf.complex\n",
    "tf_real = tf.float32\n",
    "np_complex = complex\n",
    "np_real = np.float64"
   ]
  },
  {
   "cell_type": "code",
   "execution_count": 4,
   "metadata": {},
   "outputs": [],
   "source": [
    "tf.keras.backend.clear_session()"
   ]
  },
  {
   "cell_type": "code",
   "execution_count": 5,
   "metadata": {},
   "outputs": [],
   "source": [
    "np.set_printoptions(precision=2)"
   ]
  },
  {
   "cell_type": "markdown",
   "metadata": {},
   "source": [
    "Check GPU"
   ]
  },
  {
   "cell_type": "code",
   "execution_count": 6,
   "metadata": {},
   "outputs": [
    {
     "name": "stdout",
     "output_type": "stream",
     "text": [
      "Num GPUs Available:  0\n"
     ]
    }
   ],
   "source": [
    "print(\"Num GPUs Available: \", len(tf.config.experimental.list_physical_devices('GPU')))"
   ]
  },
  {
   "cell_type": "markdown",
   "metadata": {},
   "source": [
    "## Dimension"
   ]
  },
  {
   "cell_type": "code",
   "execution_count": 7,
   "metadata": {},
   "outputs": [],
   "source": [
    "N = 4"
   ]
  },
  {
   "cell_type": "code",
   "execution_count": 8,
   "metadata": {},
   "outputs": [],
   "source": [
    "n=np.floor_divide(N,2)"
   ]
  },
  {
   "cell_type": "markdown",
   "metadata": {},
   "source": [
    "## Build vacuum by the Gaussian state"
   ]
  },
  {
   "cell_type": "code",
   "execution_count": 9,
   "metadata": {},
   "outputs": [],
   "source": [
    "vacuum = ps.VacuumLayer(N)"
   ]
  },
  {
   "cell_type": "markdown",
   "metadata": {},
   "source": [
    "## Squeezer for mode 0"
   ]
  },
  {
   "cell_type": "code",
   "execution_count": 10,
   "metadata": {},
   "outputs": [],
   "source": [
    "r_np=0.8;\n",
    "theta_np=np.pi/4;\n",
    "squeezer=ps.SingleModeSqueezerLayer(N, r_np=r_np, theta_np=theta_np, n_squeezed=0)"
   ]
  },
  {
   "cell_type": "markdown",
   "metadata": {},
   "source": [
    "## Displacer for mode 1"
   ]
  },
  {
   "cell_type": "markdown",
   "metadata": {},
   "source": [
    "Define the alpha vector for the alpha"
   ]
  },
  {
   "cell_type": "code",
   "execution_count": 11,
   "metadata": {},
   "outputs": [],
   "source": [
    "alpha=np.zeros([2],dtype=np_complex)"
   ]
  },
  {
   "cell_type": "code",
   "execution_count": 12,
   "metadata": {},
   "outputs": [
    {
     "name": "stdout",
     "output_type": "stream",
     "text": [
      "[0. +0.j 1.5+0.j]\n",
      "[0.   2.25]\n"
     ]
    }
   ],
   "source": [
    "alpha[0]=0\n",
    "alpha[1]=1.5\n",
    "print(alpha)\n",
    "print(np.abs(alpha)**2)"
   ]
  },
  {
   "cell_type": "markdown",
   "metadata": {},
   "source": [
    "Define the corresponding displacement vector"
   ]
  },
  {
   "cell_type": "code",
   "execution_count": 13,
   "metadata": {},
   "outputs": [],
   "source": [
    "dinput_np=np.zeros([N,1], dtype=np_real)\n",
    "for j in range(n):\n",
    "    dinput_np[2*j]=np.sqrt(2)*np.real(alpha[j])\n",
    "    dinput_np[2*j+1]=np.sqrt(2)*np.imag(alpha[j])"
   ]
  },
  {
   "cell_type": "code",
   "execution_count": 14,
   "metadata": {},
   "outputs": [],
   "source": [
    "dinput = tf.constant( dinput_np, dtype=vacuum.dtype)\n",
    "displacer = ps.DisplacementLayerConstant(dinput)"
   ]
  },
  {
   "cell_type": "markdown",
   "metadata": {},
   "source": [
    "## Build the model"
   ]
  },
  {
   "cell_type": "code",
   "execution_count": 15,
   "metadata": {},
   "outputs": [],
   "source": [
    "xin = tf.keras.layers.Input(N)\n",
    "x1, a1 = displacer(xin)\n",
    "x2, a2 = squeezer(x1, a1)\n",
    "chir, chii = vacuum(x2, a2)\n",
    "model = tf.keras.Model(inputs = xin, outputs=[chir, chii])"
   ]
  },
  {
   "cell_type": "markdown",
   "metadata": {},
   "source": [
    "# Evaluate the covariance"
   ]
  },
  {
   "cell_type": "code",
   "execution_count": 16,
   "metadata": {},
   "outputs": [
    {
     "name": "stdout",
     "output_type": "stream",
     "text": [
      "tf.Tensor([[0.   0.   2.12 0.  ]], shape=(1, 4), dtype=float32)\n",
      "[[0.897684276 -1.67978024 -0 -0]\n",
      " [-1.67978024 4.25724459 -0 -0]\n",
      " [-0 -0 1 -0]\n",
      " [-0 -0 -0 1]]\n"
     ]
    }
   ],
   "source": [
    "cov_layer = ps.CovarianceLayer(N)\n",
    "covariance_matrix, mean_R, hessian = cov_layer(chir,chii, model)\n",
    "squeezed_cov = tf.keras.Model(inputs = xin, outputs=[covariance_matrix, mean_R, hessian])\n",
    "xtrain = np.random.rand(1, N)-0.5\n",
    "cov0,d0, hessian0=squeezed_cov(xtrain); print(d0); tf.print(cov0)"
   ]
  },
  {
   "cell_type": "markdown",
   "metadata": {},
   "source": [
    "# Evaluate the Qtransform with calculated covariance and displacemente"
   ]
  },
  {
   "cell_type": "code",
   "execution_count": 17,
   "metadata": {},
   "outputs": [],
   "source": [
    "Qrho = ps.QTransform(cov0, d0)"
   ]
  },
  {
   "cell_type": "markdown",
   "metadata": {},
   "source": [
    "# Test the Pr operator (may take some minutes)"
   ]
  },
  {
   "cell_type": "markdown",
   "metadata": {},
   "source": [
    "Probability of zero photon"
   ]
  },
  {
   "cell_type": "code",
   "execution_count": 18,
   "metadata": {},
   "outputs": [
    {
     "data": {
      "text/plain": [
       "<tf.Tensor: shape=(1, 1), dtype=float32, numpy=array([[0.08]], dtype=float32)>"
      ]
     },
     "execution_count": 18,
     "metadata": {},
     "output_type": "execute_result"
    }
   ],
   "source": [
    "ps.Pr([0,0], Qrho)"
   ]
  },
  {
   "cell_type": "markdown",
   "metadata": {},
   "source": [
    "Probability of two photons"
   ]
  },
  {
   "cell_type": "code",
   "execution_count": 19,
   "metadata": {},
   "outputs": [
    {
     "name": "stdout",
     "output_type": "stream",
     "text": [
      "CPU times: user 113 ms, sys: 600 µs, total: 114 ms\n",
      "Wall time: 113 ms\n"
     ]
    },
    {
     "data": {
      "text/plain": [
       "<tf.Tensor: shape=(1,), dtype=float32, numpy=array([0.2], dtype=float32)>"
      ]
     },
     "execution_count": 19,
     "metadata": {},
     "output_type": "execute_result"
    }
   ],
   "source": [
    "%%time\n",
    "ps.Pr([0,2], Qrho)"
   ]
  },
  {
   "cell_type": "markdown",
   "metadata": {},
   "source": [
    "## Define a function with the expected theoretical value"
   ]
  },
  {
   "cell_type": "code",
   "execution_count": 20,
   "metadata": {},
   "outputs": [],
   "source": [
    "def Psqueeze(n, r):\n",
    "    # returh the theory value for the Boson sampling for coherent states\n",
    "    \n",
    "    scale = 1.0\n",
    "    if n % 2 ==0 :\n",
    "        scale = scale/np.cosh(r)\n",
    "        scale = scale*np.power(np.tanh(r), n)\n",
    "        scale = scale*np.math.factorial(n)\n",
    "        scale = scale/np.power(2.0,n)\n",
    "        n2 = n//2 # floor divide\n",
    "        scale = scale/np.power(np.math.factorial(n2),2)\n",
    "    else:\n",
    "        scale = 0.0\n",
    "    \n",
    "    return scale \n",
    "\n",
    "def Pcoherent(nj, alpha):\n",
    "    # returh the theory value for photon distribution in a coherent state\n",
    "    \n",
    "    scale = 1\n",
    "\n",
    "    aj2 = np.abs(alpha)**2\n",
    "    scale = scale/np.math.factorial(nj)\n",
    "    scale = scale*np.exp(-aj2)*np.power(aj2,nj)\n",
    "    \n",
    "    return scale \n",
    "\n",
    "def theoryPr(nbar, alpha):\n",
    "    # returh the theory value for the Boson sampling for \n",
    "    # one coherent state (mode 1) and one squeezed (mode 0)\n",
    "    n0=nbar[0]\n",
    "    n1=nbar[1]\n",
    "    \n",
    "    P0=Psqueeze(n0, r_np)\n",
    "    P1=Pcoherent(n1,alpha[1])\n",
    "    \n",
    "    return P0*P1  "
   ]
  },
  {
   "cell_type": "markdown",
   "metadata": {},
   "source": [
    "## Compare with some examples (may take some minutes at n>2)"
   ]
  },
  {
   "cell_type": "code",
   "execution_count": 21,
   "metadata": {},
   "outputs": [
    {
     "name": "stdout",
     "output_type": "stream",
     "text": [
      "[[0.0788070112]]\n",
      "0.07880699158719338\n"
     ]
    }
   ],
   "source": [
    "nbar=[0,0]\n",
    "tf.print(ps.Pr(nbar, Qrho))\n",
    "print(theoryPr(nbar,alpha))"
   ]
  },
  {
   "cell_type": "code",
   "execution_count": 22,
   "metadata": {},
   "outputs": [
    {
     "name": "stdout",
     "output_type": "stream",
     "text": [
      "[0]\n",
      "0.0\n"
     ]
    }
   ],
   "source": [
    "nbar=[1,0]\n",
    "tf.print(ps.Pr(nbar, Qrho))\n",
    "print(theoryPr(nbar,alpha))"
   ]
  },
  {
   "cell_type": "code",
   "execution_count": 23,
   "metadata": {},
   "outputs": [
    {
     "name": "stdout",
     "output_type": "stream",
     "text": [
      "[-1.86264515e-09]\n",
      "0.0\n"
     ]
    }
   ],
   "source": [
    "nbar=[1,1]\n",
    "tf.print(ps.Pr(nbar, Qrho))\n",
    "print(theoryPr(nbar,alpha))"
   ]
  },
  {
   "cell_type": "code",
   "execution_count": 24,
   "metadata": {},
   "outputs": [
    {
     "name": "stdout",
     "output_type": "stream",
     "text": [
      "[0.0329849236]\n",
      "0.032984910827838956\n",
      "CPU times: user 28.4 s, sys: 95.1 ms, total: 28.5 s\n",
      "Wall time: 28.5 s\n"
     ]
    }
   ],
   "source": [
    "%%time\n",
    "nbar=[2,3]\n",
    "tf.print(ps.Pr(nbar, Qrho))\n",
    "print(theoryPr(nbar,alpha))"
   ]
  },
  {
   "cell_type": "markdown",
   "metadata": {},
   "source": [
    "## Make a plot versus the probability (may take some minutes at n>2)"
   ]
  },
  {
   "cell_type": "markdown",
   "metadata": {},
   "source": [
    "Build an array of photon number sampling"
   ]
  },
  {
   "cell_type": "code",
   "execution_count": 25,
   "metadata": {},
   "outputs": [
    {
     "name": "stdout",
     "output_type": "stream",
     "text": [
      "[(0, 0), (0, 1), (0, 2), (0, 3), (1, 0), (1, 1), (1, 2), (1, 3), (2, 0), (2, 1), (2, 2), (2, 3), (3, 0), (3, 1), (3, 2), (3, 3)]\n",
      "16\n",
      "CPU times: user 136 µs, sys: 0 ns, total: 136 µs\n",
      "Wall time: 128 µs\n"
     ]
    }
   ],
   "source": [
    "%%time\n",
    "nmax=3 # max number of photons\n",
    "# generate the combinations\n",
    "import itertools as it\n",
    "nlist=it.product(range(nmax+1),repeat=n)\n",
    "ln=list(nlist)\n",
    "print(ln)\n",
    "print(len(ln))"
   ]
  },
  {
   "cell_type": "code",
   "execution_count": 26,
   "metadata": {},
   "outputs": [
    {
     "name": "stdout",
     "output_type": "stream",
     "text": [
      "Computing Pn at n (0, 0)\n",
      "Computed by the neural network: 0.07880701\n",
      "Expected theoretical value: 0.07880699\n",
      "--------------------\n",
      "Computing Pn at n (0, 1)\n",
      "Computed by the neural network: 0.17731574\n",
      "Expected theoretical value: 0.17731573\n",
      "--------------------\n",
      "Computing Pn at n (0, 2)\n",
      "Computed by the neural network: 0.19948022\n",
      "Expected theoretical value: 0.19948019\n",
      "--------------------\n",
      "Computing Pn at n (0, 3)\n",
      "Computed by the neural network: 0.14961013\n",
      "Expected theoretical value: 0.14961015\n",
      "--------------------\n",
      "Computing Pn at n (1, 0)\n",
      "Computed by the neural network: 0.0\n",
      "Expected theoretical value: 0.0\n",
      "--------------------\n",
      "Computing Pn at n (1, 1)\n",
      "Computed by the neural network: -1.8626451e-09\n",
      "Expected theoretical value: 0.0\n",
      "--------------------\n",
      "Computing Pn at n (1, 2)\n",
      "Computed by the neural network: -6.519258e-09\n",
      "Expected theoretical value: 0.0\n",
      "--------------------\n",
      "Computing Pn at n (1, 3)\n",
      "Computed by the neural network: 6.2284045e-09\n",
      "Expected theoretical value: 0.0\n",
      "--------------------\n",
      "Computing Pn at n (2, 0)\n",
      "Computed by the neural network: 0.017374773\n",
      "Expected theoretical value: 0.017374767\n",
      "--------------------\n",
      "Computing Pn at n (2, 1)\n",
      "Computed by the neural network: 0.039093237\n",
      "Expected theoretical value: 0.039093226\n",
      "--------------------\n",
      "Computing Pn at n (2, 2)\n",
      "Computed by the neural network: 0.04397989\n",
      "Expected theoretical value: 0.04397988\n",
      "--------------------\n",
      "Computing Pn at n (2, 3)\n",
      "Computed by the neural network: 0.032984924\n",
      "Expected theoretical value: 0.032984912\n",
      "--------------------\n",
      "Computing Pn at n (3, 0)\n",
      "Computed by the neural network: 7.14014e-09\n",
      "Expected theoretical value: 0.0\n",
      "--------------------\n",
      "Computing Pn at n (3, 1)\n",
      "Computed by the neural network: 1.46683306e-08\n",
      "Expected theoretical value: 0.0\n",
      "--------------------\n",
      "Computing Pn at n (3, 2)\n",
      "Computed by the neural network: 3.170134e-09\n",
      "Expected theoretical value: 0.0\n",
      "--------------------\n",
      "Computing Pn at n (3, 3)\n",
      "Computed by the neural network: -9.931893e-10\n",
      "Expected theoretical value: 0.0\n",
      "--------------------\n",
      "Done\n",
      "CPU times: user 6min 7s, sys: 1.29 s, total: 6min 8s\n",
      "Wall time: 6min 8s\n"
     ]
    }
   ],
   "source": [
    "%%time\n",
    "npatterns=len(ln)\n",
    "Pn = np.zeros([npatterns,], dtype=np.float32)\n",
    "Pth = np.zeros_like(Pn)\n",
    "xaxis=np.zeros_like(Pn)\n",
    "for nbar in range(npatterns):\n",
    "    print('Computing Pn at n '+repr(ln[nbar]))\n",
    "    Pn[nbar]=ps.Pr(ln[nbar],Qrho).numpy()\n",
    "    tf.print('Computed by the neural network: '+repr(Pn[nbar]))\n",
    "    Pth[nbar]=theoryPr(ln[nbar],alpha)\n",
    "    print('Expected theoretical value: '+repr(Pth[nbar]))\n",
    "    xaxis[nbar]=nbar # store for plot\n",
    "    print('--------------------')\n",
    "print('Done')"
   ]
  },
  {
   "cell_type": "code",
   "execution_count": 27,
   "metadata": {},
   "outputs": [
    {
     "data": {
      "image/png": "[encoded data removed]",
      "text/plain": [
       "<Figure size 640x480 with 1 Axes>"
      ]
     },
     "metadata": {},
     "output_type": "display_data"
    }
   ],
   "source": [
    "plt.bar(xaxis,Pn)\n",
    "plt.plot(xaxis, Pth, marker='o', markersize=8, markerfacecolor='red', linestyle='none')\n",
    "plt.xlabel(ln, fontsize=6);\n",
    "plt.ylabel('Sample Probability Pr');\n",
    "plt.savefig('BosonSamplingExample4.pdf', format='pdf')"
   ]
  },
  {
   "cell_type": "markdown",
   "metadata": {},
   "source": [
    "Comparison between the photon number evaluated with the model(bars) and the theory (red dots). Sampling patters are indicate in the labels."
   ]
  }
 ],
 "metadata": {
  "kernelspec": {
   "display_name": "Python 3 (ipykernel)",
   "language": "python",
   "name": "python3"
  },
  "language_info": {
   "codemirror_mode": {
    "name": "ipython",
    "version": 3
   },
   "file_extension": ".py",
   "mimetype": "text/x-python",
   "name": "python",
   "nbconvert_exporter": "python",
   "pygments_lexer": "ipython3",
   "version": "3.10.12"
  }
 },
 "nbformat": 4,
 "nbformat_minor": 4
}
