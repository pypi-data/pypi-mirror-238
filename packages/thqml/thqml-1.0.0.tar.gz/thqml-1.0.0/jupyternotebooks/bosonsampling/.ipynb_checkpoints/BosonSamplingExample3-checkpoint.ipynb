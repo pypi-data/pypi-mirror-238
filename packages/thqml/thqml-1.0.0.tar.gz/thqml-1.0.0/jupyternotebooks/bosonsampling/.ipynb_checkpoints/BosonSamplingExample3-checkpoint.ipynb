{
 "cells": [
  {
   "cell_type": "markdown",
   "metadata": {},
   "source": [
    "# Boson sampling on a multimode coherent state"
   ]
  },
  {
   "cell_type": "markdown",
   "metadata": {},
   "source": [
    "We test the boson sampling operator (no training) \n",
    "on coherent states\n",
    "\n",
    "We compare with theory\n",
    "\n",
    "nonlinearxwaves@gmail.com<br>\n",
    "@created 27 January 2021<br>\n",
    "@version 1 October 2023<br>"
   ]
  },
  {
   "cell_type": "code",
   "execution_count": 1,
   "metadata": {},
   "outputs": [],
   "source": [
    "import os\n",
    "os.environ['TF_CPP_MIN_LOG_LEVEL'] = '2' # disable warning messages "
   ]
  },
  {
   "cell_type": "code",
   "execution_count": 2,
   "metadata": {},
   "outputs": [],
   "source": [
    "import numpy as np\n",
    "from thqml import phasespace as ps\n",
    "from thqml.utilities import utilities\n",
    "import tensorflow as tf\n",
    "import matplotlib.pyplot as plt"
   ]
  },
  {
   "cell_type": "code",
   "execution_count": 3,
   "metadata": {},
   "outputs": [],
   "source": [
    "tf_complex = tf.complex\n",
    "tf_real = tf.float32\n",
    "np_complex = complex\n",
    "np_real = np.float64"
   ]
  },
  {
   "cell_type": "code",
   "execution_count": 4,
   "metadata": {},
   "outputs": [],
   "source": [
    "tf.keras.backend.clear_session()"
   ]
  },
  {
   "cell_type": "code",
   "execution_count": 5,
   "metadata": {},
   "outputs": [],
   "source": [
    "np.set_printoptions(precision=2)"
   ]
  },
  {
   "cell_type": "markdown",
   "metadata": {},
   "source": [
    "Check GPU"
   ]
  },
  {
   "cell_type": "code",
   "execution_count": 6,
   "metadata": {},
   "outputs": [
    {
     "name": "stdout",
     "output_type": "stream",
     "text": [
      "Num GPUs Available:  0\n"
     ]
    }
   ],
   "source": [
    "print(\"Num GPUs Available: \", len(tf.config.experimental.list_physical_devices('GPU')))"
   ]
  },
  {
   "cell_type": "markdown",
   "metadata": {},
   "source": [
    "## Dimension"
   ]
  },
  {
   "cell_type": "code",
   "execution_count": 7,
   "metadata": {},
   "outputs": [],
   "source": [
    "N = 4"
   ]
  },
  {
   "cell_type": "code",
   "execution_count": 8,
   "metadata": {},
   "outputs": [],
   "source": [
    "n=np.floor_divide(N,2)"
   ]
  },
  {
   "cell_type": "markdown",
   "metadata": {},
   "source": [
    "## Build vacuum by the Gaussian state"
   ]
  },
  {
   "cell_type": "code",
   "execution_count": 9,
   "metadata": {},
   "outputs": [],
   "source": [
    "vacuum = ps.VacuumLayer(N)"
   ]
  },
  {
   "cell_type": "markdown",
   "metadata": {},
   "source": [
    "## Displacer"
   ]
  },
  {
   "cell_type": "markdown",
   "metadata": {},
   "source": [
    "Define the alpha vector for the alpha"
   ]
  },
  {
   "cell_type": "code",
   "execution_count": 10,
   "metadata": {},
   "outputs": [],
   "source": [
    "alpha=np.zeros([2],dtype=np_complex)"
   ]
  },
  {
   "cell_type": "code",
   "execution_count": 11,
   "metadata": {},
   "outputs": [
    {
     "name": "stdout",
     "output_type": "stream",
     "text": [
      "[0.5+0.87j 1.5+0.j  ]\n",
      "[1.   2.25]\n"
     ]
    }
   ],
   "source": [
    "alpha[0]=np.exp(1j*np.pi/3)\n",
    "alpha[1]=1.5\n",
    "print(alpha)\n",
    "print(np.abs(alpha)**2)"
   ]
  },
  {
   "cell_type": "markdown",
   "metadata": {},
   "source": [
    "Define the corresponding displacement vector"
   ]
  },
  {
   "cell_type": "code",
   "execution_count": 12,
   "metadata": {},
   "outputs": [],
   "source": [
    "dinput_np=np.zeros([N,1], dtype=np_real)\n",
    "for j in range(n):\n",
    "    dinput_np[2*j]=np.sqrt(2)*np.real(alpha[j])\n",
    "    dinput_np[2*j+1]=np.sqrt(2)*np.imag(alpha[j])"
   ]
  },
  {
   "cell_type": "code",
   "execution_count": 13,
   "metadata": {},
   "outputs": [],
   "source": [
    "dinput = tf.constant( dinput_np, dtype=vacuum.dtype)\n",
    "displacer = ps.DisplacementLayerConstant(dinput)"
   ]
  },
  {
   "cell_type": "markdown",
   "metadata": {},
   "source": [
    "## Build the model"
   ]
  },
  {
   "cell_type": "code",
   "execution_count": 14,
   "metadata": {},
   "outputs": [],
   "source": [
    "xin = tf.keras.layers.Input(N)\n",
    "x1, a1 = displacer(xin)\n",
    "chir, chii = vacuum(x1, a1)\n",
    "model = tf.keras.Model(inputs = xin, outputs=[chir, chii])"
   ]
  },
  {
   "cell_type": "markdown",
   "metadata": {},
   "source": [
    "# Evaluate the covariance"
   ]
  },
  {
   "cell_type": "code",
   "execution_count": 15,
   "metadata": {},
   "outputs": [
    {
     "name": "stdout",
     "output_type": "stream",
     "text": [
      "tf.Tensor([[0.71 1.22 2.12 0.  ]], shape=(1, 4), dtype=float32)\n",
      "[[1 -0 -0 -0]\n",
      " [-0 0.999999762 -0 -0]\n",
      " [-0 -0 1 -0]\n",
      " [-0 -0 -0 1]]\n"
     ]
    }
   ],
   "source": [
    "cov_layer = ps.CovarianceLayer(N)\n",
    "covariance_matrix, mean_R, hessian = cov_layer(chir,chii, model)\n",
    "squeezed_cov = tf.keras.Model(inputs = xin, outputs=[covariance_matrix, mean_R, hessian])\n",
    "xtrain = np.random.rand(1, N)-0.5\n",
    "cov0,d0, hessian0=squeezed_cov(xtrain); print(d0); tf.print(cov0)"
   ]
  },
  {
   "cell_type": "markdown",
   "metadata": {},
   "source": [
    "# Evaluate the Qtransform with calculated covariance and displacemente"
   ]
  },
  {
   "cell_type": "code",
   "execution_count": 16,
   "metadata": {},
   "outputs": [],
   "source": [
    "Qrho = ps.QTransform(cov0, d0)"
   ]
  },
  {
   "cell_type": "markdown",
   "metadata": {},
   "source": [
    "# Test the Pr operator (may be time consuming)"
   ]
  },
  {
   "cell_type": "markdown",
   "metadata": {},
   "source": [
    "Probability of zero photon"
   ]
  },
  {
   "cell_type": "code",
   "execution_count": 17,
   "metadata": {},
   "outputs": [
    {
     "name": "stdout",
     "output_type": "stream",
     "text": [
      "CPU times: user 10.1 ms, sys: 7.43 ms, total: 17.6 ms\n",
      "Wall time: 16.7 ms\n"
     ]
    },
    {
     "data": {
      "text/plain": [
       "<tf.Tensor: shape=(1, 1), dtype=float32, numpy=array([[0.04]], dtype=float32)>"
      ]
     },
     "execution_count": 17,
     "metadata": {},
     "output_type": "execute_result"
    }
   ],
   "source": [
    "%%time\n",
    "ps.Pr([0,0], Qrho)"
   ]
  },
  {
   "cell_type": "markdown",
   "metadata": {},
   "source": [
    "Probability of two photons"
   ]
  },
  {
   "cell_type": "code",
   "execution_count": 18,
   "metadata": {},
   "outputs": [
    {
     "name": "stdout",
     "output_type": "stream",
     "text": [
      "CPU times: user 119 ms, sys: 4.08 ms, total: 123 ms\n",
      "Wall time: 121 ms\n"
     ]
    },
    {
     "data": {
      "text/plain": [
       "<tf.Tensor: shape=(1,), dtype=float32, numpy=array([0.1], dtype=float32)>"
      ]
     },
     "execution_count": 18,
     "metadata": {},
     "output_type": "execute_result"
    }
   ],
   "source": [
    "%%time\n",
    "ps.Pr([0,2], Qrho)"
   ]
  },
  {
   "cell_type": "markdown",
   "metadata": {},
   "source": [
    "## Define a function with the expected theoretical value"
   ]
  },
  {
   "cell_type": "code",
   "execution_count": 19,
   "metadata": {},
   "outputs": [],
   "source": [
    "def theoryPr(nbar, alpha):\n",
    "    # returh the theory value for the Boson sampling for coherent states\n",
    "    n=len(nbar)\n",
    "    \n",
    "    scale = 1\n",
    "    for j in range(n):\n",
    "        nj = nbar[j]\n",
    "        aj2 = np.abs(alpha[j])**2\n",
    "        scale = scale/np.math.factorial(nj)\n",
    "        scale = scale*np.exp(-aj2)*np.power(aj2,nj)\n",
    "    \n",
    "    return scale  "
   ]
  },
  {
   "cell_type": "markdown",
   "metadata": {},
   "source": [
    "## Compare with some examples (may take minutes for high particle number)"
   ]
  },
  {
   "cell_type": "code",
   "execution_count": 20,
   "metadata": {},
   "outputs": [
    {
     "name": "stdout",
     "output_type": "stream",
     "text": [
      "[[0.038774211]]\n",
      "0.03877420783172201\n",
      "CPU times: user 5.46 ms, sys: 0 ns, total: 5.46 ms\n",
      "Wall time: 5 ms\n"
     ]
    }
   ],
   "source": [
    "%%time\n",
    "nbar=[0,0]\n",
    "tf.print(ps.Pr(nbar, Qrho))\n",
    "print(theoryPr(nbar,alpha))"
   ]
  },
  {
   "cell_type": "code",
   "execution_count": 21,
   "metadata": {},
   "outputs": [
    {
     "name": "stdout",
     "output_type": "stream",
     "text": [
      "[0.0387742147]\n",
      "0.03877420783172201\n",
      "CPU times: user 32.6 ms, sys: 250 µs, total: 32.8 ms\n",
      "Wall time: 31.6 ms\n"
     ]
    }
   ],
   "source": [
    "%%time\n",
    "nbar=[1,0]\n",
    "tf.print(ps.Pr(nbar, Qrho))\n",
    "print(theoryPr(nbar,alpha))"
   ]
  },
  {
   "cell_type": "code",
   "execution_count": 22,
   "metadata": {},
   "outputs": [
    {
     "name": "stdout",
     "output_type": "stream",
     "text": [
      "[0.0872419775]\n",
      "0.08724196762137452\n",
      "CPU times: user 118 ms, sys: 237 µs, total: 118 ms\n",
      "Wall time: 117 ms\n"
     ]
    }
   ],
   "source": [
    "%%time\n",
    "nbar=[1,1]\n",
    "tf.print(ps.Pr(nbar, Qrho))\n",
    "print(theoryPr(nbar,alpha))"
   ]
  },
  {
   "cell_type": "code",
   "execution_count": 23,
   "metadata": {},
   "outputs": [
    {
     "name": "stdout",
     "output_type": "stream",
     "text": [
      "[0.0368051939]\n",
      "0.03680520509026738\n",
      "CPU times: user 27.9 s, sys: 115 ms, total: 28 s\n",
      "Wall time: 28 s\n"
     ]
    }
   ],
   "source": [
    "%%time\n",
    "nbar=[2,3]\n",
    "tf.print(ps.Pr(nbar, Qrho))\n",
    "print(theoryPr(nbar,alpha))"
   ]
  },
  {
   "cell_type": "markdown",
   "metadata": {},
   "source": [
    "## Make a plot versus the probability"
   ]
  },
  {
   "cell_type": "markdown",
   "metadata": {},
   "source": [
    "Build an array of photon number sampling"
   ]
  },
  {
   "cell_type": "code",
   "execution_count": 24,
   "metadata": {},
   "outputs": [
    {
     "name": "stdout",
     "output_type": "stream",
     "text": [
      "[(0, 0), (0, 1), (0, 2), (0, 3), (1, 0), (1, 1), (1, 2), (1, 3), (2, 0), (2, 1), (2, 2), (2, 3), (3, 0), (3, 1), (3, 2), (3, 3)]\n",
      "16\n"
     ]
    }
   ],
   "source": [
    "nmax=3 # max number of photons\n",
    "# generate the combinations\n",
    "import itertools as it\n",
    "nlist=it.product(range(nmax+1),repeat=n)\n",
    "ln=list(nlist)\n",
    "print(ln)\n",
    "print(len(ln))"
   ]
  },
  {
   "cell_type": "markdown",
   "metadata": {},
   "source": [
    "The following takes a few minutes and becomes slow at large n values (n>2)"
   ]
  },
  {
   "cell_type": "code",
   "execution_count": 25,
   "metadata": {},
   "outputs": [
    {
     "name": "stdout",
     "output_type": "stream",
     "text": [
      "Computing Pn at n (0, 0)\n",
      "Computed by the neural network: 0.03877421\n",
      "Expected theoretical value: 0.038774207\n",
      "--------------------\n",
      "Computing Pn at n (0, 1)\n",
      "Computed by the neural network: 0.08724196\n",
      "Expected theoretical value: 0.08724197\n",
      "--------------------\n",
      "Computing Pn at n (0, 2)\n",
      "Computed by the neural network: 0.098147206\n",
      "Expected theoretical value: 0.09814721\n",
      "--------------------\n",
      "Computing Pn at n (0, 3)\n",
      "Computed by the neural network: 0.073610395\n",
      "Expected theoretical value: 0.07361041\n",
      "--------------------\n",
      "Computing Pn at n (1, 0)\n",
      "Computed by the neural network: 0.038774215\n",
      "Expected theoretical value: 0.038774207\n",
      "--------------------\n",
      "Computing Pn at n (1, 1)\n",
      "Computed by the neural network: 0.08724198\n",
      "Expected theoretical value: 0.08724197\n",
      "--------------------\n",
      "Computing Pn at n (1, 2)\n",
      "Computed by the neural network: 0.09814721\n",
      "Expected theoretical value: 0.09814721\n",
      "--------------------\n",
      "Computing Pn at n (1, 3)\n",
      "Computed by the neural network: 0.07361041\n",
      "Expected theoretical value: 0.07361041\n",
      "--------------------\n",
      "Computing Pn at n (2, 0)\n",
      "Computed by the neural network: 0.019387107\n",
      "Expected theoretical value: 0.019387104\n",
      "--------------------\n",
      "Computing Pn at n (2, 1)\n",
      "Computed by the neural network: 0.04362099\n",
      "Expected theoretical value: 0.043620985\n",
      "--------------------\n",
      "Computing Pn at n (2, 2)\n",
      "Computed by the neural network: 0.0490736\n",
      "Expected theoretical value: 0.049073607\n",
      "--------------------\n",
      "Computing Pn at n (2, 3)\n",
      "Computed by the neural network: 0.036805194\n",
      "Expected theoretical value: 0.036805205\n",
      "--------------------\n",
      "Computing Pn at n (3, 0)\n",
      "Computed by the neural network: 0.006462368\n",
      "Expected theoretical value: 0.006462368\n",
      "--------------------\n",
      "Computing Pn at n (3, 1)\n",
      "Computed by the neural network: 0.014540324\n",
      "Expected theoretical value: 0.014540328\n",
      "--------------------\n",
      "Computing Pn at n (3, 2)\n",
      "Computed by the neural network: 0.016357865\n",
      "Expected theoretical value: 0.016357869\n",
      "--------------------\n",
      "Computing Pn at n (3, 3)\n",
      "Computed by the neural network: 0.012268395\n",
      "Expected theoretical value: 0.012268402\n",
      "--------------------\n",
      "Done\n",
      "CPU times: user 5min 59s, sys: 1.26 s, total: 6min\n",
      "Wall time: 6min\n"
     ]
    }
   ],
   "source": [
    "%%time \n",
    "npatterns=len(ln)\n",
    "Pn = np.zeros([npatterns,], dtype=np.float32)\n",
    "Pth = np.zeros_like(Pn)\n",
    "xaxis=np.zeros_like(Pn)\n",
    "for nbar in range(npatterns):\n",
    "    print('Computing Pn at n '+repr(ln[nbar]))\n",
    "    Pn[nbar]=ps.Pr(ln[nbar],Qrho).numpy()\n",
    "    tf.print('Computed by the neural network: '+repr(Pn[nbar]))\n",
    "    Pth[nbar]=theoryPr(ln[nbar],alpha)\n",
    "    print('Expected theoretical value: '+repr(Pth[nbar]))\n",
    "    xaxis[nbar]=nbar # store for plot\n",
    "    print('--------------------')\n",
    "print('Done')"
   ]
  },
  {
   "cell_type": "code",
   "execution_count": 26,
   "metadata": {},
   "outputs": [
    {
     "data": {
      "image/png": "[encoded data removed]",
      "text/plain": [
       "<Figure size 640x480 with 1 Axes>"
      ]
     },
     "metadata": {},
     "output_type": "display_data"
    }
   ],
   "source": [
    "plt.bar(xaxis,Pn)\n",
    "plt.plot(xaxis, Pth, marker='o', markersize=8, markerfacecolor='red', linestyle='none')\n",
    "plt.xlabel(ln, fontsize=6);\n",
    "plt.ylabel('Sample Probability Pr');\n",
    "plt.savefig('BosonSamplingExample3.pdf', format='pdf')"
   ]
  },
  {
   "cell_type": "markdown",
   "metadata": {},
   "source": [
    "Comparison between the photon number evaluated with the model(bars) and the theory (red dots). Sampling patters are indicate in the labels."
   ]
  }
 ],
 "metadata": {
  "kernelspec": {
   "display_name": "Python 3 (ipykernel)",
   "language": "python",
   "name": "python3"
  },
  "language_info": {
   "codemirror_mode": {
    "name": "ipython",
    "version": 3
   },
   "file_extension": ".py",
   "mimetype": "text/x-python",
   "name": "python",
   "nbconvert_exporter": "python",
   "pygments_lexer": "ipython3",
   "version": "3.10.12"
  }
 },
 "nbformat": 4,
 "nbformat_minor": 4
}
