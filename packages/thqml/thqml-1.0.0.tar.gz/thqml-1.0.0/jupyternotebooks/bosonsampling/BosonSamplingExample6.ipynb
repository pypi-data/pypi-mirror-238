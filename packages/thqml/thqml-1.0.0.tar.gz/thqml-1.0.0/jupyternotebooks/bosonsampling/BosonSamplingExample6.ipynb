{
 "cells": [
  {
   "cell_type": "markdown",
   "metadata": {},
   "source": [
    "# Haar interferometer and multimode squeezed vacuum"
   ]
  },
  {
   "cell_type": "markdown",
   "metadata": {},
   "source": [
    "We test the boson sampling operator (no training) \n",
    "on squeezed states, and \n",
    "propagating in a Haar random medium\n",
    "\n",
    "nonlinearxwaves@gmail.com<br>\n",
    "@created 30 gennaio 2021<br>\n",
    "@version 1 October 2023<br>"
   ]
  },
  {
   "cell_type": "code",
   "execution_count": 1,
   "metadata": {},
   "outputs": [],
   "source": [
    "import os\n",
    "os.environ['TF_CPP_MIN_LOG_LEVEL'] = '2' # disable warning messages "
   ]
  },
  {
   "cell_type": "code",
   "execution_count": 2,
   "metadata": {},
   "outputs": [],
   "source": [
    "import numpy as np\n",
    "from thqml import phasespace as ps\n",
    "import tensorflow as tf\n",
    "#import tensorflow_addons as tfa\n",
    "from tensorflow import keras\n",
    "import matplotlib.pyplot as plt\n",
    "from tensorflow.keras.callbacks import EarlyStopping\n",
    "import itertools as it"
   ]
  },
  {
   "cell_type": "code",
   "execution_count": 3,
   "metadata": {},
   "outputs": [],
   "source": [
    "tf_complex = tf.complex\n",
    "tf_real = tf.float32\n",
    "np_complex = complex\n",
    "np_real = np.float64"
   ]
  },
  {
   "cell_type": "code",
   "execution_count": 4,
   "metadata": {},
   "outputs": [],
   "source": [
    "tf.keras.backend.clear_session()"
   ]
  },
  {
   "cell_type": "code",
   "execution_count": 5,
   "metadata": {},
   "outputs": [],
   "source": [
    "np.set_printoptions(precision=2)"
   ]
  },
  {
   "cell_type": "markdown",
   "metadata": {},
   "source": [
    "Check GPU"
   ]
  },
  {
   "cell_type": "code",
   "execution_count": 6,
   "metadata": {},
   "outputs": [
    {
     "name": "stdout",
     "output_type": "stream",
     "text": [
      "Num GPUs Available:  0\n"
     ]
    }
   ],
   "source": [
    "print(\"Num GPUs Available: \", len(tf.config.experimental.list_physical_devices('GPU')))"
   ]
  },
  {
   "cell_type": "markdown",
   "metadata": {},
   "source": [
    "## Dimension"
   ]
  },
  {
   "cell_type": "code",
   "execution_count": 7,
   "metadata": {},
   "outputs": [],
   "source": [
    "N = 12"
   ]
  },
  {
   "cell_type": "code",
   "execution_count": 8,
   "metadata": {},
   "outputs": [],
   "source": [
    "n=np.floor_divide(N,2)"
   ]
  },
  {
   "cell_type": "code",
   "execution_count": 9,
   "metadata": {},
   "outputs": [],
   "source": [
    "nmodes = int(n)"
   ]
  },
  {
   "cell_type": "code",
   "execution_count": 10,
   "metadata": {},
   "outputs": [
    {
     "name": "stdout",
     "output_type": "stream",
     "text": [
      "Number of modes 6\n"
     ]
    }
   ],
   "source": [
    "print('Number of modes '+repr(n))"
   ]
  },
  {
   "cell_type": "markdown",
   "metadata": {},
   "source": [
    "## Build vacuum by the Gaussian state"
   ]
  },
  {
   "cell_type": "code",
   "execution_count": 11,
   "metadata": {},
   "outputs": [],
   "source": [
    "vacuum = ps.VacuumLayer(N)"
   ]
  },
  {
   "cell_type": "markdown",
   "metadata": {},
   "source": [
    "## Parameter for squeezing"
   ]
  },
  {
   "cell_type": "code",
   "execution_count": 12,
   "metadata": {},
   "outputs": [],
   "source": [
    "r_np=0.88;\n",
    "theta_np=np.pi/4;"
   ]
  },
  {
   "cell_type": "markdown",
   "metadata": {},
   "source": [
    "## Random medium (Haar measure)"
   ]
  },
  {
   "cell_type": "code",
   "execution_count": 13,
   "metadata": {},
   "outputs": [],
   "source": [
    "HAAR=ps.HaarLayerConstant(N)"
   ]
  },
  {
   "cell_type": "markdown",
   "metadata": {},
   "source": [
    "## Build the model"
   ]
  },
  {
   "cell_type": "code",
   "execution_count": 14,
   "metadata": {},
   "outputs": [],
   "source": [
    "xin = tf.keras.layers.Input(N)\n",
    "x1, a1 = HAAR(xin)\n",
    "for j in range(nmodes):\n",
    "    x1, a1 = ps.SingleModeSqueezerLayer(N, r_np=r_np, theta_np=theta_np, n_squeezed=j)(x1,a1)\n",
    "chir, chii = vacuum(x1, a1)\n",
    "model = tf.keras.Model(inputs = xin, outputs=[chir, chii])"
   ]
  },
  {
   "cell_type": "code",
   "execution_count": 15,
   "metadata": {},
   "outputs": [
    {
     "name": "stdout",
     "output_type": "stream",
     "text": [
      "Model: \"model\"\n",
      "__________________________________________________________________________________________________\n",
      " Layer (type)                   Output Shape         Param #     Connected to                     \n",
      "==================================================================================================\n",
      " input_1 (InputLayer)           [(None, 12)]         0           []                               \n",
      "                                                                                                  \n",
      " haar_layer_constant (HaarLayer  [(None, 12),        0           ['input_1[0][0]']                \n",
      " Constant)                       (12, 1)]                                                         \n",
      "                                                                                                  \n",
      " single_mode_squeezer_layer (Si  [(None, 12),        2           ['haar_layer_constant[0][0]',    \n",
      " ngleModeSqueezerLayer)          (12, 1)]                         'haar_layer_constant[0][1]']    \n",
      "                                                                                                  \n",
      " single_mode_squeezer_layer_1 (  [(None, 12),        2           ['single_mode_squeezer_layer[0][0\n",
      " SingleModeSqueezerLayer)        (12, 1)]                        ]',                              \n",
      "                                                                  'single_mode_squeezer_layer[0][1\n",
      "                                                                 ]']                              \n",
      "                                                                                                  \n",
      " single_mode_squeezer_layer_2 (  [(None, 12),        2           ['single_mode_squeezer_layer_1[0]\n",
      " SingleModeSqueezerLayer)        (12, 1)]                        [0]',                            \n",
      "                                                                  'single_mode_squeezer_layer_1[0]\n",
      "                                                                 [1]']                            \n",
      "                                                                                                  \n",
      " single_mode_squeezer_layer_3 (  [(None, 12),        2           ['single_mode_squeezer_layer_2[0]\n",
      " SingleModeSqueezerLayer)        (12, 1)]                        [0]',                            \n",
      "                                                                  'single_mode_squeezer_layer_2[0]\n",
      "                                                                 [1]']                            \n",
      "                                                                                                  \n",
      " single_mode_squeezer_layer_4 (  [(None, 12),        2           ['single_mode_squeezer_layer_3[0]\n",
      " SingleModeSqueezerLayer)        (12, 1)]                        [0]',                            \n",
      "                                                                  'single_mode_squeezer_layer_3[0]\n",
      "                                                                 [1]']                            \n",
      "                                                                                                  \n",
      " single_mode_squeezer_layer_5 (  [(None, 12),        2           ['single_mode_squeezer_layer_4[0]\n",
      " SingleModeSqueezerLayer)        (12, 1)]                        [0]',                            \n",
      "                                                                  'single_mode_squeezer_layer_4[0]\n",
      "                                                                 [1]']                            \n",
      "                                                                                                  \n",
      " gaussian_layer (GaussianLayer)  [(None, 1),         156         ['single_mode_squeezer_layer_5[0]\n",
      "                                 (None, 1)]                      [0]',                            \n",
      "                                                                  'single_mode_squeezer_layer_5[0]\n",
      "                                                                 [1]']                            \n",
      "                                                                                                  \n",
      "==================================================================================================\n",
      "Total params: 168\n",
      "Trainable params: 12\n",
      "Non-trainable params: 156\n",
      "__________________________________________________________________________________________________\n"
     ]
    }
   ],
   "source": [
    "model.summary()"
   ]
  },
  {
   "cell_type": "code",
   "execution_count": 16,
   "metadata": {},
   "outputs": [],
   "source": [
    "tf.keras.utils.plot_model(\n",
    "    model, to_file='modelHaar.pdf', show_shapes=False, show_dtype=False,\n",
    "    show_layer_names=True, rankdir='TB', expand_nested=False, dpi=96,\n",
    "    layer_range=None, show_layer_activations=False\n",
    ")"
   ]
  },
  {
   "cell_type": "markdown",
   "metadata": {},
   "source": [
    "# Evaluate the covariance"
   ]
  },
  {
   "cell_type": "code",
   "execution_count": 17,
   "metadata": {},
   "outputs": [
    {
     "name": "stdout",
     "output_type": "stream",
     "text": [
      "tf.Tensor([[0. 0. 0. 0. 0. 0. 0. 0. 0. 0. 0. 0.]], shape=(1, 12), dtype=float32)\n",
      "[[3.52306151 2.34875274 -0.546529591 ... 0.213970467 0.475807935 0.0709974468]\n",
      " [2.34875298 2.4614203 0.780656278 ... 0.469459504 0.0709975064 -0.475807965]\n",
      " [-0.546529591 0.780656099 3.64200783 ... -0.681139052 -0.52045691 -0.173872426]\n",
      " ...\n",
      " [0.213970408 0.469459563 -0.681139052 ... 4.69536638 -0.830417871 0.240936011]\n",
      " [0.475807935 0.0709975287 -0.520456851 ... -0.830417812 0.605559766 0.53688556]\n",
      " [0.0709975213 -0.475808 -0.173872441 ... 0.240936115 0.536885679 5.37892246]]\n",
      "CPU times: user 1.99 s, sys: 45.1 ms, total: 2.03 s\n",
      "Wall time: 2.09 s\n"
     ]
    }
   ],
   "source": [
    "%%time\n",
    "cov_layer = ps.covariance(N)\n",
    "covariance_matrix, mean_R, hessian = cov_layer(chir,chii, model)\n",
    "squeezed_cov = tf.keras.Model(inputs = xin, outputs=[covariance_matrix, mean_R, hessian])\n",
    "xtrain = np.random.rand(1, N)-0.5\n",
    "cov0,d0, hessian0=squeezed_cov(xtrain); print(d0); tf.print(cov0)"
   ]
  },
  {
   "cell_type": "markdown",
   "metadata": {},
   "source": [
    "# Evaluate the Qtransform with calculated covariance and displacement"
   ]
  },
  {
   "cell_type": "code",
   "execution_count": 18,
   "metadata": {},
   "outputs": [],
   "source": [
    "Qrho = ps.QTransform(cov0, d0)"
   ]
  },
  {
   "cell_type": "markdown",
   "metadata": {},
   "source": [
    "# Test the Pr operator "
   ]
  },
  {
   "cell_type": "markdown",
   "metadata": {},
   "source": [
    "Probability of zero photon"
   ]
  },
  {
   "cell_type": "code",
   "execution_count": 19,
   "metadata": {},
   "outputs": [
    {
     "name": "stdout",
     "output_type": "stream",
     "text": [
      "CPU times: user 10.9 ms, sys: 3.74 ms, total: 14.6 ms\n",
      "Wall time: 14.7 ms\n"
     ]
    },
    {
     "data": {
      "text/plain": [
       "<tf.Tensor: shape=(1, 1), dtype=float32, numpy=array([[0.13]], dtype=float32)>"
      ]
     },
     "execution_count": 19,
     "metadata": {},
     "output_type": "execute_result"
    }
   ],
   "source": [
    "%%time\n",
    "ps.Pr([0]*nmodes, Qrho)"
   ]
  },
  {
   "cell_type": "markdown",
   "metadata": {},
   "source": [
    "# Generate all the possible photon patterns assuming one photon per mode"
   ]
  },
  {
   "cell_type": "code",
   "execution_count": 20,
   "metadata": {},
   "outputs": [],
   "source": [
    "def patterns(nphotons, nmodes):\n",
    "    l1=[0]*nmodes\n",
    "    for j in range(nphotons):\n",
    "        l1[j]=1\n",
    "    nlist=it.permutations(l1,nmodes)\n",
    "    ln=list(nlist)\n",
    "    ln.sort()\n",
    "    # remove duplicates\n",
    "    ln=list(ln for ln,_ in it.groupby(ln))\n",
    "    return ln"
   ]
  },
  {
   "cell_type": "code",
   "execution_count": 21,
   "metadata": {},
   "outputs": [
    {
     "name": "stdout",
     "output_type": "stream",
     "text": [
      "15\n",
      "CPU times: user 567 µs, sys: 132 µs, total: 699 µs\n",
      "Wall time: 674 µs\n"
     ]
    }
   ],
   "source": [
    "%%time\n",
    "ln =patterns(2,nmodes)\n",
    "# number of generated patterns\n",
    "print(len(ln))"
   ]
  },
  {
   "cell_type": "markdown",
   "metadata": {},
   "source": [
    "## Make a plot versus the probability"
   ]
  },
  {
   "cell_type": "markdown",
   "metadata": {},
   "source": [
    "Build an array of photon number sampling"
   ]
  },
  {
   "cell_type": "code",
   "execution_count": 22,
   "metadata": {},
   "outputs": [
    {
     "name": "stdout",
     "output_type": "stream",
     "text": [
      "Sample 0 of 15 (0, 0, 0, 0, 1, 1)\n",
      "Computed by the neural network: 0.0058979467\n",
      "--------------------\n",
      "Sample 1 of 15 (0, 0, 0, 1, 0, 1)\n",
      "Computed by the neural network: 0.0008230279\n",
      "--------------------\n",
      "Sample 2 of 15 (0, 0, 0, 1, 1, 0)\n",
      "Computed by the neural network: 0.0016531926\n",
      "--------------------\n",
      "Sample 3 of 15 (0, 0, 1, 0, 0, 1)\n",
      "Computed by the neural network: 0.0046109343\n",
      "--------------------\n",
      "Sample 4 of 15 (0, 0, 1, 0, 1, 0)\n",
      "Computed by the neural network: 0.023890592\n",
      "--------------------\n",
      "Sample 5 of 15 (0, 0, 1, 1, 0, 0)\n",
      "Computed by the neural network: 0.0026169836\n",
      "--------------------\n",
      "Sample 6 of 15 (0, 1, 0, 0, 0, 1)\n",
      "Computed by the neural network: 0.0023753466\n",
      "--------------------\n",
      "Sample 7 of 15 (0, 1, 0, 0, 1, 0)\n",
      "Computed by the neural network: 0.0057893256\n",
      "--------------------\n",
      "Sample 8 of 15 (0, 1, 0, 1, 0, 0)\n",
      "Computed by the neural network: 0.016228877\n",
      "--------------------\n",
      "Sample 9 of 15 (0, 1, 1, 0, 0, 0)\n",
      "Computed by the neural network: 0.0148854945\n",
      "--------------------\n",
      "Sample 10 of 15 (1, 0, 0, 0, 0, 1)\n",
      "Computed by the neural network: 0.001825715\n",
      "--------------------\n",
      "Sample 11 of 15 (1, 0, 0, 0, 1, 0)\n",
      "Computed by the neural network: 0.0020997815\n",
      "--------------------\n",
      "Sample 12 of 15 (1, 0, 0, 1, 0, 0)\n",
      "Computed by the neural network: 0.0017632945\n",
      "--------------------\n",
      "Sample 13 of 15 (1, 0, 1, 0, 0, 0)\n",
      "Computed by the neural network: 0.0041482416\n",
      "--------------------\n",
      "Sample 14 of 15 (1, 1, 0, 0, 0, 0)\n",
      "Computed by the neural network: 0.007163889\n",
      "--------------------\n",
      "Done\n",
      "CPU times: user 1.28 s, sys: 886 µs, total: 1.28 s\n",
      "Wall time: 1.27 s\n"
     ]
    }
   ],
   "source": [
    "%%time\n",
    "npatterns=len(ln)\n",
    "Pn = np.zeros([npatterns,], dtype=np.float32)\n",
    "Pth = np.zeros_like(Pn)\n",
    "xaxis=np.zeros_like(Pn)\n",
    "for nbar in range(npatterns):\n",
    "    print('Sample '+repr(nbar)+' of '+repr(npatterns)+' '+repr(ln[nbar]))\n",
    "    Pn[nbar]=ps.Pr(ln[nbar],Qrho).numpy()\n",
    "    tf.print('Computed by the neural network: '+repr(Pn[nbar]))\n",
    "    print('--------------------')\n",
    "    xaxis[nbar]=nbar #store for plot \n",
    "print('Done')"
   ]
  },
  {
   "cell_type": "code",
   "execution_count": 30,
   "metadata": {},
   "outputs": [
    {
     "name": "stderr",
     "output_type": "stream",
     "text": [
      "/home/claudio/.local/lib/python3.10/site-packages/matplotlib/text.py:1279: FutureWarning: elementwise comparison failed; returning scalar instead, but in the future will perform elementwise comparison\n",
      "  if s != self._text:\n"
     ]
    },
    {
     "name": "stdout",
     "output_type": "stream",
     "text": [
      "CPU times: user 394 ms, sys: 180 ms, total: 573 ms\n",
      "Wall time: 230 ms\n"
     ]
    },
    {
     "data": {
      "image/png": "[encoded data removed]",
      "text/plain": [
       "<Figure size 640x480 with 1 Axes>"
      ]
     },
     "metadata": {},
     "output_type": "display_data"
    }
   ],
   "source": [
    "%%time\n",
    "plt.bar(xaxis,Pn)\n",
    "plt.xlabel(np.transpose(np.array(ln)), fontsize=12);\n",
    "plt.ylabel('Sample Probability Pr');\n",
    "plt.savefig('BosonSamplingExample6.pdf', format='pdf', bbox_inches='tight')"
   ]
  },
  {
   "cell_type": "markdown",
   "metadata": {},
   "source": [
    "Probability of the photon patterns\n",
    "Sampling patters are indicate in the labels."
   ]
  },
  {
   "cell_type": "code",
   "execution_count": 24,
   "metadata": {},
   "outputs": [
    {
     "name": "stdout",
     "output_type": "stream",
     "text": [
      "[0.01 0.   0.   0.   0.02 0.   0.   0.01 0.02 0.01 0.   0.   0.   0.\n",
      " 0.01]\n"
     ]
    }
   ],
   "source": [
    "print(Pn)"
   ]
  },
  {
   "cell_type": "code",
   "execution_count": 25,
   "metadata": {},
   "outputs": [
    {
     "data": {
      "text/plain": [
       "0.09577264"
      ]
     },
     "execution_count": 25,
     "metadata": {},
     "output_type": "execute_result"
    }
   ],
   "source": [
    "np.sum(Pn)"
   ]
  },
  {
   "cell_type": "markdown",
   "metadata": {},
   "source": [
    "# Compute the statistical probability of pairs"
   ]
  },
  {
   "cell_type": "code",
   "execution_count": 26,
   "metadata": {},
   "outputs": [
    {
     "name": "stdout",
     "output_type": "stream",
     "text": [
      "Generated 1 patterns with photon number 0\n",
      "Photons 0 Sample 1 of 15 Pr=0.1257302314043045 pattern (0, 0, 0, 0, 0, 0)\n",
      "Generated 15 patterns with photon number 2\n",
      "Photons 2 Sample 1 of 15 Pr=0.005897946655750275 pattern (0, 0, 0, 0, 1, 1)\n",
      "Photons 2 Sample 2 of 15 Pr=0.0008230279199779034 pattern (0, 0, 0, 1, 0, 1)\n",
      "Photons 2 Sample 3 of 15 Pr=0.0016531925648450851 pattern (0, 0, 0, 1, 1, 0)\n",
      "Photons 2 Sample 4 of 15 Pr=0.004610934294760227 pattern (0, 0, 1, 0, 0, 1)\n",
      "Photons 2 Sample 5 of 15 Pr=0.02389059215784073 pattern (0, 0, 1, 0, 1, 0)\n",
      "Photons 2 Sample 6 of 15 Pr=0.0026169836055487394 pattern (0, 0, 1, 1, 0, 0)\n",
      "Photons 2 Sample 7 of 15 Pr=0.0023753466084599495 pattern (0, 1, 0, 0, 0, 1)\n",
      "Photons 2 Sample 8 of 15 Pr=0.005789325572550297 pattern (0, 1, 0, 0, 1, 0)\n",
      "Photons 2 Sample 9 of 15 Pr=0.016228877007961273 pattern (0, 1, 0, 1, 0, 0)\n",
      "Photons 2 Sample 10 of 15 Pr=0.014885494485497475 pattern (0, 1, 1, 0, 0, 0)\n",
      "Photons 2 Sample 11 of 15 Pr=0.0018257149495184422 pattern (1, 0, 0, 0, 0, 1)\n",
      "Photons 2 Sample 12 of 15 Pr=0.0020997815299779177 pattern (1, 0, 0, 0, 1, 0)\n",
      "Photons 2 Sample 13 of 15 Pr=0.0017632944509387016 pattern (1, 0, 0, 1, 0, 0)\n",
      "Photons 2 Sample 14 of 15 Pr=0.004148241598159075 pattern (1, 0, 1, 0, 0, 0)\n",
      "Photons 2 Sample 15 of 15 Pr=0.0071638887748122215 pattern (1, 1, 0, 0, 0, 0)\n",
      "Generated 15 patterns with photon number 4\n",
      "Photons 4 Sample 1 of 15 Pr=0.00028696400113403797 pattern (0, 0, 1, 1, 1, 1)\n",
      "Photons 4 Sample 2 of 15 Pr=0.0003053438267670572 pattern (0, 1, 0, 1, 1, 1)\n",
      "Photons 4 Sample 3 of 15 Pr=0.0011309345718473196 pattern (0, 1, 1, 0, 1, 1)\n",
      "Photons 4 Sample 4 of 15 Pr=0.0015067579224705696 pattern (0, 1, 1, 1, 0, 1)\n",
      "Photons 4 Sample 5 of 15 Pr=0.0010042432695627213 pattern (0, 1, 1, 1, 1, 0)\n",
      "Photons 4 Sample 6 of 15 Pr=1.2726159184239805e-06 pattern (1, 0, 0, 1, 1, 1)\n",
      "Photons 4 Sample 7 of 15 Pr=0.0008166724001057446 pattern (1, 0, 1, 0, 1, 1)\n",
      "Photons 4 Sample 8 of 15 Pr=0.00032964072306640446 pattern (1, 0, 1, 1, 0, 1)\n",
      "Photons 4 Sample 9 of 15 Pr=3.277236828580499e-05 pattern (1, 0, 1, 1, 1, 0)\n",
      "Photons 4 Sample 10 of 15 Pr=0.0009128111996687949 pattern (1, 1, 0, 0, 1, 1)\n",
      "Photons 4 Sample 11 of 15 Pr=0.00024692039005458355 pattern (1, 1, 0, 1, 0, 1)\n",
      "Photons 4 Sample 12 of 15 Pr=0.0002579926804173738 pattern (1, 1, 0, 1, 1, 0)\n",
      "Photons 4 Sample 13 of 15 Pr=0.0006981527549214661 pattern (1, 1, 1, 0, 0, 1)\n",
      "Photons 4 Sample 14 of 15 Pr=0.003327196929603815 pattern (1, 1, 1, 0, 1, 0)\n",
      "Photons 4 Sample 15 of 15 Pr=0.0010920048225671053 pattern (1, 1, 1, 1, 0, 0)\n",
      "Done\n",
      "CPU times: user 46.3 s, sys: 1.1 ms, total: 46.3 s\n",
      "Wall time: 46.3 s\n"
     ]
    }
   ],
   "source": [
    "%%time\n",
    "nmax = 2 # number of couples\n",
    "probn=np.zeros([nmax+1,], dtype=np_real)\n",
    "for j in range(nmax+1):\n",
    "    photon_number=2*j\n",
    "    # generate the patterns\n",
    "    ln=patterns(photon_number,nmodes)\n",
    "    npattern=len(ln)\n",
    "    print('Generated '+repr(npattern)+\\\n",
    "          ' patterns with photon number '+repr(photon_number))\n",
    "    # compute probability for each pattern\n",
    "    Pn=np.zeros([npattern,], dtype=np_real)\n",
    "    for nbar in range(npattern):        \n",
    "        Pn[nbar]=ps.Pr(ln[nbar],Qrho).numpy()\n",
    "        print('Photons '+repr(photon_number)+' Sample '+repr(nbar+1)+\\\n",
    "              ' of '+repr(npatterns)+' Pr=' +repr(Pn[nbar])+\\\n",
    "              ' pattern '+repr(ln[nbar]))\n",
    "    # sum the probability of each pattern\n",
    "    probn[j]=sum(Pn)\n",
    "print('Done')"
   ]
  },
  {
   "cell_type": "code",
   "execution_count": 27,
   "metadata": {},
   "outputs": [
    {
     "data": {
      "text/plain": [
       "array([0.13, 0.1 , 0.01])"
      ]
     },
     "execution_count": 27,
     "metadata": {},
     "output_type": "execute_result"
    }
   ],
   "source": [
    "probn"
   ]
  },
  {
   "cell_type": "code",
   "execution_count": 28,
   "metadata": {},
   "outputs": [
    {
     "data": {
      "image/png": "[encoded data removed]",
      "text/plain": [
       "<Figure size 640x480 with 1 Axes>"
      ]
     },
     "metadata": {},
     "output_type": "display_data"
    }
   ],
   "source": [
    "plt.bar(range(nmax+1),probn)\n",
    "plt.ylabel('Probability of 2 m photons');\n",
    "plt.xlabel('Number of pairs m ');\n",
    "plt.savefig('BosonSamplingExample6ALL.pdf', format='pdf')   "
   ]
  },
  {
   "cell_type": "code",
   "execution_count": null,
   "metadata": {},
   "outputs": [],
   "source": []
  }
 ],
 "metadata": {
  "kernelspec": {
   "display_name": "Python 3 (ipykernel)",
   "language": "python",
   "name": "python3"
  },
  "language_info": {
   "codemirror_mode": {
    "name": "ipython",
    "version": 3
   },
   "file_extension": ".py",
   "mimetype": "text/x-python",
   "name": "python",
   "nbconvert_exporter": "python",
   "pygments_lexer": "ipython3",
   "version": "3.10.12"
  }
 },
 "nbformat": 4,
 "nbformat_minor": 4
}
