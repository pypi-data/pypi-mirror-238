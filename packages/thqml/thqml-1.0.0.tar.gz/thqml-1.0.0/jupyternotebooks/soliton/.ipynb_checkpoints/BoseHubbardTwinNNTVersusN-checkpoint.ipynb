{
 "cells": [
  {
   "cell_type": "markdown",
   "metadata": {},
   "source": [
    "# Discrete solitons, twin soliton, compute entanglement vs N\n",
    "\n",
    "We use a variational ansatz via pullback in the representation\n",
    "of the characteristic function in the quantum phase space\n",
    "\n",
    "\n",
    "<img src=\"../logo_circular.png\" width=\"20\" height=\"20\" />@by claudio<br>\n",
    "<br>nonlinearxwaves@gmail.com<br>\n",
    "@created 31 July 2021<br>\n",
    "@version 2 October 2023<br>"
   ]
  },
  {
   "cell_type": "code",
   "execution_count": 1,
   "metadata": {},
   "outputs": [],
   "source": [
    "import os\n",
    "os.environ['TF_CPP_MIN_LOG_LEVEL'] = '2' # disable warning messages "
   ]
  },
  {
   "cell_type": "markdown",
   "metadata": {},
   "source": [
    "## Disable GPU"
   ]
  },
  {
   "cell_type": "code",
   "execution_count": 2,
   "metadata": {},
   "outputs": [],
   "source": [
    "import os"
   ]
  },
  {
   "cell_type": "code",
   "execution_count": 3,
   "metadata": {},
   "outputs": [],
   "source": [
    "DisableGPU=True\n",
    "if DisableGPU:\n",
    "    try:\n",
    "        # Disable all GPUS        \n",
    "        os.environ[\"CUDA_VISIBLE_DEVICES\"] = \"-1\"\n",
    "        #tf.config.set_visible_devices([], 'GPU')\n",
    "        #visible_devices = tf.config.get_visible_devices()\n",
    "        #for device in visible_devices:\n",
    "        #    assert device.device_type != 'GPU'\n",
    "    except:\n",
    "        # Invalid device or cannot modify virtual devices once initialized.\n",
    "        pass\n",
    "else:\n",
    "    print(\"Nothing to be done\")"
   ]
  },
  {
   "cell_type": "markdown",
   "metadata": {},
   "source": [
    "## Import and setup"
   ]
  },
  {
   "cell_type": "code",
   "execution_count": 4,
   "metadata": {},
   "outputs": [],
   "source": [
    "import sys\n",
    "sys.path.append('../../')\n",
    "import numpy as np\n",
    "import tensorflow as tf\n",
    "import matplotlib.pyplot as plt\n",
    "from thqml import phasespace as qx\n",
    "from thqml import quantumsolitons as qs\n",
    "import random"
   ]
  },
  {
   "cell_type": "markdown",
   "metadata": {},
   "source": [
    "#### Default precision (tr_real and np_real as tf.float32 np.float32 or tf.float64 np.floatt)"
   ]
  },
  {
   "cell_type": "code",
   "execution_count": 5,
   "metadata": {},
   "outputs": [],
   "source": [
    "tf_real = tf.float32\n",
    "np_real = np.float32"
   ]
  },
  {
   "cell_type": "code",
   "execution_count": 6,
   "metadata": {},
   "outputs": [],
   "source": [
    "np.set_printoptions(precision=4)"
   ]
  },
  {
   "cell_type": "markdown",
   "metadata": {},
   "source": [
    "#### Check GPU"
   ]
  },
  {
   "cell_type": "code",
   "execution_count": 7,
   "metadata": {},
   "outputs": [
    {
     "name": "stdout",
     "output_type": "stream",
     "text": [
      "Num GPUs Available:  0\n"
     ]
    }
   ],
   "source": [
    "print(\"Num GPUs Available: \", len(tf.config.experimental.list_physical_devices('GPU')))"
   ]
  },
  {
   "cell_type": "markdown",
   "metadata": {},
   "source": [
    "# Parameters"
   ]
  },
  {
   "cell_type": "code",
   "execution_count": 8,
   "metadata": {},
   "outputs": [],
   "source": [
    "max_number_epochs=10000"
   ]
  },
  {
   "cell_type": "code",
   "execution_count": 9,
   "metadata": {},
   "outputs": [],
   "source": [
    "period_display_epoch=max_number_epochs/10"
   ]
  },
  {
   "cell_type": "code",
   "execution_count": 10,
   "metadata": {},
   "outputs": [],
   "source": [
    "period_checkpoint_epoch=period_display_epoch"
   ]
  },
  {
   "cell_type": "code",
   "execution_count": 11,
   "metadata": {},
   "outputs": [],
   "source": [
    "BosonSampling=True"
   ]
  },
  {
   "cell_type": "code",
   "execution_count": 12,
   "metadata": {},
   "outputs": [],
   "source": [
    "# index of pair modes\n",
    "nA=4\n",
    "nB=5"
   ]
  },
  {
   "cell_type": "markdown",
   "metadata": {},
   "source": [
    "## Target total number of bosons"
   ]
  },
  {
   "cell_type": "code",
   "execution_count": 13,
   "metadata": {},
   "outputs": [],
   "source": [
    "Nmin=20 # minimal value of N\n",
    "Nmax=110 # maximal value of N\n",
    "Nstep=10 # step in N"
   ]
  },
  {
   "cell_type": "markdown",
   "metadata": {},
   "source": [
    "## Dimension (initial minimal value)"
   ]
  },
  {
   "cell_type": "code",
   "execution_count": 14,
   "metadata": {},
   "outputs": [],
   "source": [
    "N=20"
   ]
  },
  {
   "cell_type": "markdown",
   "metadata": {},
   "source": [
    "### Number of modes"
   ]
  },
  {
   "cell_type": "code",
   "execution_count": 15,
   "metadata": {},
   "outputs": [],
   "source": [
    "n=int(N/2)"
   ]
  },
  {
   "cell_type": "markdown",
   "metadata": {},
   "source": [
    "## Value for potential"
   ]
  },
  {
   "cell_type": "code",
   "execution_count": 16,
   "metadata": {},
   "outputs": [],
   "source": [
    "chi=-1"
   ]
  },
  {
   "cell_type": "markdown",
   "metadata": {},
   "source": [
    "# Init the quantum soliton python module"
   ]
  },
  {
   "cell_type": "code",
   "execution_count": 17,
   "metadata": {},
   "outputs": [
    {
     "name": "stdout",
     "output_type": "stream",
     "text": [
      "Setting Bose-Hubbard model L=n (non periodical)\n"
     ]
    }
   ],
   "source": [
    "# bose hubbard model has L=n and U=chi\n",
    "qs.init({\"n\":n,\"dtype\":tf_real,\"chi\":chi,\"L\":n,\"model\":\"nnt\"})"
   ]
  },
  {
   "cell_type": "markdown",
   "metadata": {},
   "source": [
    "## Compute negativity by training for various N"
   ]
  },
  {
   "cell_type": "code",
   "execution_count": 18,
   "metadata": {},
   "outputs": [
    {
     "name": "stdout",
     "output_type": "stream",
     "text": [
      "----------------------- Processing N = 20\n",
      "Training model for epochs 10000 ...\n",
      "Initial loss 396.4403991699219\n",
      "  Final loss 0.005074984859675169\n",
      "Number of total bosons after training 20.000635 ...\n",
      " ################################### \n",
      "EN = 2.00621265883715\n",
      "----------------------- Processing N = 30\n",
      "Training model for epochs 10000 ...\n",
      "Initial loss 894.3579711914062\n",
      "  Final loss 0.0008127509499900043\n",
      "Number of total bosons after training 30.000086 ...\n",
      " ################################### \n",
      "EN = 3.042239508506469\n",
      "----------------------- Processing N = 40\n",
      "Training model for epochs 10000 ...\n",
      "Initial loss 1592.2957763671875\n",
      "  Final loss 0.00014512107009068131\n",
      "Number of total bosons after training 40.000027 ...\n",
      " ################################### \n",
      "EN = 3.43785800246244\n",
      "----------------------- Processing N = 50\n",
      "Training model for epochs 10000 ...\n",
      "Initial loss 2489.99169921875\n",
      "  Final loss 2.7704418243956752e-05\n",
      "Number of total bosons after training 50.000015 ...\n",
      " ################################### \n",
      "EN = 3.566938362006141\n",
      "----------------------- Processing N = 60\n",
      "Training model for epochs 10000 ...\n",
      "Initial loss 3586.368896484375\n",
      "  Final loss 0.0001386204530717805\n",
      "Number of total bosons after training 59.999977 ...\n",
      " ################################### \n",
      "EN = 2.978316736920839\n",
      "----------------------- Processing N = 70\n",
      "Training model for epochs 10000 ...\n",
      "Initial loss 4884.87109375\n",
      "  Final loss 1.2056221976308734e-06\n",
      "Number of total bosons after training 70.0 ...\n",
      " ################################### \n",
      "EN = 4.27158189874364\n",
      "----------------------- Processing N = 80\n",
      "Training model for epochs 10000 ...\n",
      "Initial loss 6381.03515625\n",
      "  Final loss 5.727166580982157e-07\n",
      "Number of total bosons after training 79.999985 ...\n",
      " ################################### \n",
      "EN = 4.134450298446877\n",
      "----------------------- Processing N = 90\n",
      "Training model for epochs 10000 ...\n",
      "Initial loss 8075.3125\n",
      "  Final loss 4.827975885746127e-07\n",
      "Number of total bosons after training 89.99999 ...\n",
      " ################################### \n",
      "EN = 4.4950298119179575\n",
      "----------------------- Processing N = 100\n",
      "Training model for epochs 10000 ...\n",
      "Initial loss 9975.6591796875\n",
      "  Final loss 5.817898340865213e-08\n",
      "Number of total bosons after training 100.0 ...\n",
      " ################################### \n",
      "EN = 4.000006281460422\n"
     ]
    }
   ],
   "source": [
    "ENeg_list=[]\n",
    "N_values=[]\n",
    "for indexn in range(Nmin,Nmax,Nstep):\n",
    "    tf.keras.backend.clear_session()\n",
    "    print('----------------------- Processing N = '+repr(indexn))\n",
    "    ENeg, twin_model = qs.twin_solitons_entanglement(nA,nB,indexn,nepochs=max_number_epochs)\n",
    "    print('EN = '+repr(ENeg))\n",
    "    ENeg_list.append(ENeg)\n",
    "    N_values.append(indexn)\n"
   ]
  },
  {
   "cell_type": "code",
   "execution_count": 29,
   "metadata": {},
   "outputs": [
    {
     "data": {
      "text/plain": [
       "[<matplotlib.lines.Line2D at 0x7f5885725270>]"
      ]
     },
     "execution_count": 29,
     "metadata": {},
     "output_type": "execute_result"
    },
    {
     "data": {
      "image/png": "[encoded data removed]",
      "text/plain": [
       "<Figure size 640x480 with 1 Axes>"
      ]
     },
     "metadata": {},
     "output_type": "display_data"
    }
   ],
   "source": [
    "plt.plot(N_values,ENeg_list)"
   ]
  },
  {
   "cell_type": "markdown",
   "metadata": {},
   "source": [
    "## Save data "
   ]
  },
  {
   "cell_type": "code",
   "execution_count": 20,
   "metadata": {},
   "outputs": [],
   "source": [
    "root_path='./'\n",
    "claudio_arrays_file=root_path+'dataBHT/manyN/data_Nmin'+repr(Nmin)+'_Nmax'+repr(Nmax)+'_Nstep'+repr(Nstep)+'_N'+repr(N)+'_A'+repr(nA)+'_B'+repr(nB)+'_epochs'+repr(max_number_epochs)+'/claudioarrays'\n",
    "claudio_weights_file=root_path+'dataBHT/manyN/data_Nmin'+repr(Nmin)+'_Nmax'+repr(Nmax)+'_Nstep'+repr(Nstep)+'_N'+repr(N)+'_A'+repr(nA)+'_B'+repr(nB)+'_epochs'+repr(max_number_epochs)+'/claudiomodel'"
   ]
  },
  {
   "cell_type": "code",
   "execution_count": 21,
   "metadata": {},
   "outputs": [
    {
     "data": {
      "text/plain": [
       "'./dataBHT/manyN/data_Nmin20_Nmax110_Nstep10_N20_A4_B5_epochs10000/claudioarrays'"
      ]
     },
     "execution_count": 21,
     "metadata": {},
     "output_type": "execute_result"
    }
   ],
   "source": [
    "claudio_arrays_file"
   ]
  },
  {
   "cell_type": "code",
   "execution_count": 22,
   "metadata": {},
   "outputs": [],
   "source": [
    "# Save file\n",
    "twin_model.save_weights(claudio_weights_file)\n",
    "np.savez(claudio_arrays_file,ENeg_list=ENeg_list,N_values=N_values,\n",
    "         nA=nA, nB=nB,Nmin=Nmin,Nmax=Nmax,Nstep=Nstep, chi=chi, N=N, max_number_epochs=max_number_epochs)"
   ]
  },
  {
   "cell_type": "code",
   "execution_count": 23,
   "metadata": {},
   "outputs": [],
   "source": [
    "def plot_nboson(twin_model):\n",
    "    \" Plot the boson profile in the model\"\n",
    "    xtrain = np.random.rand(1, N)-0.5\n",
    "    results=twin_model(xtrain)\n",
    "    plt.stem(results[0][0].numpy());\n"
   ]
  },
  {
   "cell_type": "code",
   "execution_count": 28,
   "metadata": {},
   "outputs": [
    {
     "data": {
      "image/png": "[encoded data removed]",
      "text/plain": [
       "<Figure size 640x480 with 1 Axes>"
      ]
     },
     "metadata": {},
     "output_type": "display_data"
    }
   ],
   "source": [
    "plot_nboson(twin_model)"
   ]
  }
 ],
 "metadata": {
  "kernelspec": {
   "display_name": "Python 3 (ipykernel)",
   "language": "python",
   "name": "python3"
  },
  "language_info": {
   "codemirror_mode": {
    "name": "ipython",
    "version": 3
   },
   "file_extension": ".py",
   "mimetype": "text/x-python",
   "name": "python",
   "nbconvert_exporter": "python",
   "pygments_lexer": "ipython3",
   "version": "3.10.12"
  }
 },
 "nbformat": 4,
 "nbformat_minor": 4
}
