{
 "cells": [
  {
   "cell_type": "markdown",
   "metadata": {},
   "source": [
    "# Makes some test on the PhotonCountingLayer"
   ]
  },
  {
   "cell_type": "markdown",
   "metadata": {},
   "source": [
    "The second derivatives of the chi matrix are used to evaluate the expected number of photons in each channels\n",
    "\n",
    "Here we test the photon counter layer on different states\n",
    "\n",
    "<img src=\"../img/logo_circular.png\" width=\"20\" height=\"20\" />@by claudio<br>\n",
    "\n",
    "nonlinearxwaves@gmail.com<br>\n",
    "@created 15 december 2020<br>\n",
    "@version 23 sep 2023"
   ]
  },
  {
   "cell_type": "code",
   "execution_count": 1,
   "metadata": {},
   "outputs": [],
   "source": [
    "import os\n",
    "os.environ['TF_CPP_MIN_LOG_LEVEL'] = '2' # disable warning messages"
   ]
  },
  {
   "cell_type": "code",
   "execution_count": 2,
   "metadata": {},
   "outputs": [],
   "source": [
    "import numpy as np\n",
    "from thqml import phasespace as ps\n",
    "from thqml.utilities import utilities\n",
    "import tensorflow as tf\n",
    "#import tensorflow_addons as tfa\n",
    "from tensorflow import keras\n",
    "import matplotlib.pyplot as plt"
   ]
  },
  {
   "cell_type": "code",
   "execution_count": 3,
   "metadata": {},
   "outputs": [],
   "source": [
    "tf.keras.backend.clear_session()"
   ]
  },
  {
   "cell_type": "code",
   "execution_count": 4,
   "metadata": {},
   "outputs": [],
   "source": [
    "np.set_printoptions(precision=4)"
   ]
  },
  {
   "cell_type": "code",
   "execution_count": 5,
   "metadata": {},
   "outputs": [],
   "source": [
    "tf_real='float64'"
   ]
  },
  {
   "cell_type": "code",
   "execution_count": 6,
   "metadata": {},
   "outputs": [],
   "source": [
    "tf.keras.backend.set_floatx(tf_real)"
   ]
  },
  {
   "cell_type": "markdown",
   "metadata": {},
   "source": [
    "## Dimension (number of modes times 2, N=2n)"
   ]
  },
  {
   "cell_type": "code",
   "execution_count": 7,
   "metadata": {},
   "outputs": [],
   "source": [
    "N = 4"
   ]
  },
  {
   "cell_type": "markdown",
   "metadata": {},
   "source": [
    "## Build vacuum by the Gaussian state"
   ]
  },
  {
   "cell_type": "code",
   "execution_count": 8,
   "metadata": {},
   "outputs": [],
   "source": [
    "vacuum = ps.VacuumLayer(N, dtype=tf_real)"
   ]
  },
  {
   "cell_type": "code",
   "execution_count": 9,
   "metadata": {},
   "outputs": [
    {
     "data": {
      "text/plain": [
       "'float64'"
      ]
     },
     "execution_count": 9,
     "metadata": {},
     "output_type": "execute_result"
    }
   ],
   "source": [
    "vacuum.dtype"
   ]
  },
  {
   "cell_type": "markdown",
   "metadata": {},
   "source": [
    "## Squeezed mode on mode 0"
   ]
  },
  {
   "cell_type": "code",
   "execution_count": 10,
   "metadata": {},
   "outputs": [],
   "source": [
    "ra=0.1;\n",
    "phia=np.pi/2;"
   ]
  },
  {
   "cell_type": "code",
   "execution_count": 11,
   "metadata": {},
   "outputs": [],
   "source": [
    "squeezer=ps.SingleModeSqueezerLayer(N, r_np=ra, theta_np=phia, n_squeezed=0, trainable=False, dtype=tf_real)"
   ]
  },
  {
   "cell_type": "code",
   "execution_count": 12,
   "metadata": {},
   "outputs": [
    {
     "data": {
      "text/plain": [
       "'float64'"
      ]
     },
     "execution_count": 12,
     "metadata": {},
     "output_type": "execute_result"
    }
   ],
   "source": [
    "squeezer.dtype"
   ]
  },
  {
   "cell_type": "markdown",
   "metadata": {},
   "source": [
    "## Coherent state (Displacer on mode 1)"
   ]
  },
  {
   "cell_type": "code",
   "execution_count": 13,
   "metadata": {},
   "outputs": [],
   "source": [
    "A_np = 1000\n",
    "lambda_np = np.pi/2\n",
    "dinput=np.zeros((N,1));\n",
    "dinput[2]=np.sqrt(2)*A_np*np.cos(lambda_np);\n",
    "dinput[3]=np.sqrt(2)*A_np*np.sin(lambda_np);\n",
    "displacer=ps.DisplacementLayerConstant(dinput, dtype=tf_real)"
   ]
  },
  {
   "cell_type": "code",
   "execution_count": 14,
   "metadata": {},
   "outputs": [
    {
     "data": {
      "text/plain": [
       "'float64'"
      ]
     },
     "execution_count": 14,
     "metadata": {},
     "output_type": "execute_result"
    }
   ],
   "source": [
    "displacer.dtype"
   ]
  },
  {
   "cell_type": "markdown",
   "metadata": {},
   "source": [
    "### Dummy training points (not used for training in this example)"
   ]
  },
  {
   "cell_type": "code",
   "execution_count": 15,
   "metadata": {},
   "outputs": [],
   "source": [
    "Nbatch=10\n",
    "gtarget=np.eye(N)\n",
    "dtarget=2.4*np.ones((N,1))\n",
    "xtrain = np.random.rand(Nbatch, N)-0.5\n",
    "ytrain =np.zeros_like(xtrain)\n",
    "dtrain = np.zeros((Nbatch,N))\n",
    "gtrain = np.zeros((Nbatch,N,N))\n",
    "for j in range(Nbatch):\n",
    "    for i in range(N):\n",
    "        dtrain[j,i]=dtarget[i]\n",
    "        for k in range(N):\n",
    "            gtrain[j,i,k]=gtarget[i,k]"
   ]
  },
  {
   "cell_type": "code",
   "execution_count": 16,
   "metadata": {},
   "outputs": [
    {
     "data": {
      "text/plain": [
       "dtype('float64')"
      ]
     },
     "execution_count": 16,
     "metadata": {},
     "output_type": "execute_result"
    }
   ],
   "source": [
    "dtrain.dtype"
   ]
  },
  {
   "cell_type": "markdown",
   "metadata": {},
   "source": [
    "# Photon counter on the vacuum state"
   ]
  },
  {
   "cell_type": "code",
   "execution_count": 17,
   "metadata": {},
   "outputs": [],
   "source": [
    "xin = tf.keras.layers.Input(N, dtype=tf_real)\n",
    "chir, chii = vacuum(xin)\n",
    "model = tf.keras.Model(inputs = xin, outputs=[chir, chii])"
   ]
  },
  {
   "cell_type": "code",
   "execution_count": 18,
   "metadata": {},
   "outputs": [
    {
     "data": {
      "text/plain": [
       "'float64'"
      ]
     },
     "execution_count": 18,
     "metadata": {},
     "output_type": "execute_result"
    }
   ],
   "source": [
    "model.dtype"
   ]
  },
  {
   "cell_type": "code",
   "execution_count": 19,
   "metadata": {},
   "outputs": [
    {
     "data": {
      "text/plain": [
       "tf.float64"
      ]
     },
     "execution_count": 19,
     "metadata": {},
     "output_type": "execute_result"
    }
   ],
   "source": [
    "xin.dtype"
   ]
  },
  {
   "cell_type": "code",
   "execution_count": 20,
   "metadata": {},
   "outputs": [
    {
     "data": {
      "text/plain": [
       "'float64'"
      ]
     },
     "execution_count": 20,
     "metadata": {},
     "output_type": "execute_result"
    }
   ],
   "source": [
    "vacuum.dtype"
   ]
  },
  {
   "cell_type": "markdown",
   "metadata": {},
   "source": [
    "## Evaluate the number of particles without using the photon counter layer"
   ]
  },
  {
   "cell_type": "markdown",
   "metadata": {},
   "source": [
    "### Evaluate the derivatives by the jacobian and extract the diagonal part "
   ]
  },
  {
   "cell_type": "code",
   "execution_count": 21,
   "metadata": {},
   "outputs": [
    {
     "name": "stdout",
     "output_type": "stream",
     "text": [
      "tf.Tensor([[1.]], shape=(1, 1), dtype=float64)\n",
      "tf.Tensor([[0. 0. 0. 0.]], shape=(1, 4), dtype=float64)\n",
      "tf.Tensor(\n",
      "[[[[-0.5  0.   0.   0. ]]\n",
      "\n",
      "  [[ 0.  -0.5  0.   0. ]]\n",
      "\n",
      "  [[ 0.   0.  -0.5  0. ]]\n",
      "\n",
      "  [[ 0.   0.   0.  -0.5]]]], shape=(1, 4, 1, 4), dtype=float64)\n",
      "tf.Tensor(\n",
      "[[-0.5  0.   0.   0. ]\n",
      " [ 0.  -0.5  0.   0. ]\n",
      " [ 0.   0.  -0.5  0. ]\n",
      " [ 0.   0.   0.  -0.5]], shape=(4, 4), dtype=float64)\n",
      "tf.Tensor([-0.5 -0.5 -0.5 -0.5], shape=(4,), dtype=float64)\n"
     ]
    }
   ],
   "source": [
    "x = tf.Variable(np.zeros((1,N)),dtype=tf_real)\n",
    "with tf.GradientTape() as t1:\n",
    "    with tf.GradientTape() as t2:\n",
    "        cr, _ = model(x) # calll the model\n",
    "    cr_x = t2.gradient(cr, x) # call the gradient\n",
    "cr_xx=t1.jacobian(cr_x,x) # call the jacobian\n",
    "print(cr) # the model is a scalar\n",
    "print(cr_x) # the gradient is a vector \n",
    "print(cr_xx) # the jacobian is a tensor with four indices the first two is the deriver, the second two is the variable\n",
    "# we need to extract the diagonal of the jacobian \n",
    "tmp1 = tf.reshape(cr_xx, [N,N]) # first reshape as a matrix\n",
    "print(tmp1)\n",
    "lapls=tf.linalg.diag_part(tmp1); # then take the diagonal part\n",
    "print(lapls)"
   ]
  },
  {
   "cell_type": "markdown",
   "metadata": {},
   "source": [
    "### Combine the secon derivatives to hava d_qq+d_pp and return the number of photons"
   ]
  },
  {
   "cell_type": "code",
   "execution_count": 22,
   "metadata": {},
   "outputs": [
    {
     "data": {
      "text/plain": [
       "array([0., 0.])"
      ]
     },
     "execution_count": 22,
     "metadata": {},
     "output_type": "execute_result"
    }
   ],
   "source": [
    "RQ, RP, _ = ps.RQRP(N);\n",
    "-0.5*(np.matmul(lapls, tf.constant(RQ))+np.matmul(lapls, tf.constant(RP)))-0.5"
   ]
  },
  {
   "cell_type": "markdown",
   "metadata": {},
   "source": [
    "Remark : The vacuum state has on average 0 photons (zero point energy is not present in normally ordered operator)"
   ]
  },
  {
   "cell_type": "markdown",
   "metadata": {},
   "source": [
    "## Use the photon counting layer"
   ]
  },
  {
   "cell_type": "code",
   "execution_count": 23,
   "metadata": {},
   "outputs": [
    {
     "name": "stdout",
     "output_type": "stream",
     "text": [
      "tf.Tensor([[0. 0.]], shape=(1, 2), dtype=float64)\n"
     ]
    }
   ],
   "source": [
    "photon_counter=ps.PhotonCountingLayer(N,dtype=tf_real) # define the layer\n",
    "n_out = photon_counter(chir,chir, model);  # define the output tensor\n",
    "Nphoton = tf.keras.Model(inputs = xin, outputs=n_out) # define the model with inputs and ouputs\n",
    "print(Nphoton(xtrain)); "
   ]
  },
  {
   "cell_type": "code",
   "execution_count": 24,
   "metadata": {},
   "outputs": [
    {
     "data": {
      "text/plain": [
       "'float64'"
      ]
     },
     "execution_count": 24,
     "metadata": {},
     "output_type": "execute_result"
    }
   ],
   "source": [
    "photon_counter.dtype"
   ]
  },
  {
   "cell_type": "code",
   "execution_count": 25,
   "metadata": {},
   "outputs": [
    {
     "data": {
      "text/plain": [
       "'float64'"
      ]
     },
     "execution_count": 25,
     "metadata": {},
     "output_type": "execute_result"
    }
   ],
   "source": [
    "model.dtype"
   ]
  },
  {
   "cell_type": "markdown",
   "metadata": {},
   "source": [
    "# Photon counting on the coherent state"
   ]
  },
  {
   "cell_type": "code",
   "execution_count": 26,
   "metadata": {},
   "outputs": [
    {
     "name": "stdout",
     "output_type": "stream",
     "text": [
      "tf.Tensor([[      0. 1000000.]], shape=(1, 2), dtype=float64)\n"
     ]
    }
   ],
   "source": [
    "xin = tf.keras.layers.Input(N, dtype=tf_real)\n",
    "x0, a0 = displacer(xin)\n",
    "chir, chii = vacuum(x0,a0)\n",
    "model = tf.keras.Model(inputs = xin, outputs=[chir, chii])\n",
    "photon_counter=ps.PhotonCountingLayer(N, dtype=tf_real) # define the layer\n",
    "n_out = photon_counter(chir,chir, model);  # define the output tensor\n",
    "Nphoton = tf.keras.Model(inputs = xin, outputs=n_out) # define the model with inputs and ouputs\n",
    "print(Nphoton(xtrain)); "
   ]
  },
  {
   "cell_type": "markdown",
   "metadata": {},
   "source": [
    "The ouput is 0 for mode 0 (vacuum) and A_np^2 for mode 1 (coherent state)"
   ]
  },
  {
   "cell_type": "markdown",
   "metadata": {},
   "source": [
    "# Photon counting on the coherent state and squeezed vacuum"
   ]
  },
  {
   "cell_type": "code",
   "execution_count": 27,
   "metadata": {},
   "outputs": [
    {
     "name": "stdout",
     "output_type": "stream",
     "text": [
      "tf.Tensor([[1.0033e-02 1.0000e+06]], shape=(1, 2), dtype=float64)\n"
     ]
    }
   ],
   "source": [
    "xin = tf.keras.layers.Input(N, dtype=tf_real)\n",
    "x0, a0 = squeezer(xin)\n",
    "x1, a1 = displacer(x0,a0)\n",
    "chir, chii = vacuum(x1,a1)\n",
    "model = tf.keras.Model(inputs = xin, outputs=[chir, chii])\n",
    "photon_counter=ps.PhotonCountingLayer(N, dtype=tf_real) # define the layer\n",
    "n_out = photon_counter(chir,chir, model);  # define the output tensor\n",
    "Nphoton = tf.keras.Model(inputs = xin, outputs=n_out) # define the model with inputs and ouputs\n",
    "print(Nphoton(xtrain)); "
   ]
  },
  {
   "cell_type": "markdown",
   "metadata": {},
   "source": [
    "The number of photons does not change in the squeezed vacuum "
   ]
  }
 ],
 "metadata": {
  "kernelspec": {
   "display_name": "Python 3 (ipykernel)",
   "language": "python",
   "name": "python3"
  },
  "language_info": {
   "codemirror_mode": {
    "name": "ipython",
    "version": 3
   },
   "file_extension": ".py",
   "mimetype": "text/x-python",
   "name": "python",
   "nbconvert_exporter": "python",
   "pygments_lexer": "ipython3",
   "version": "3.10.12"
  }
 },
 "nbformat": 4,
 "nbformat_minor": 4
}
