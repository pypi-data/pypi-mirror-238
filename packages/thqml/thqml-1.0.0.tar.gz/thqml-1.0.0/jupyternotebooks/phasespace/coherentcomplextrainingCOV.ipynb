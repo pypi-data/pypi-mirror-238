{
 "cells": [
  {
   "cell_type": "markdown",
   "metadata": {},
   "source": [
    "# Training by using the covariance matrix of multihead coherent state generation by pullback"
   ]
  },
  {
   "cell_type": "markdown",
   "metadata": {},
   "source": [
    "Use the multihead (2-head) gates in the phase space \n",
    "to create a network that represent a coherent state,\n",
    "by starting from a Gaussian state and making a pullback\n",
    "\n",
    "Use the derivative and the covariance matrix for the training\n",
    "\n",
    "NOTE: remember to shut down the kernel when out of memory\n",
    "\n",
    "<img src=\"../img/complexcoherentCOV.png\" width=\"900\" height=\"300\" />\n",
    "\n",
    "<img src=\"../img/logo_circular.png\" width=\"20\" height=\"20\" />@by claudio<br>\n",
    "\n",
    "nonlinearxwaves@gmail.com<br>\n",
    "@created 21 sep 2020<br>\n",
    "@version 15 may 2023"
   ]
  },
  {
   "cell_type": "code",
   "execution_count": 1,
   "metadata": {},
   "outputs": [],
   "source": [
    "import os\n",
    "os.environ['TF_CPP_MIN_LOG_LEVEL'] = '2' # disable warning messages"
   ]
  },
  {
   "cell_type": "code",
   "execution_count": 2,
   "metadata": {},
   "outputs": [],
   "source": [
    "import numpy as np\n",
    "from thqml import phasespace as ps\n",
    "from thqml.utilities import utilities\n",
    "import tensorflow as tf\n",
    "from tensorflow import keras\n",
    "import matplotlib.pyplot as plt"
   ]
  },
  {
   "cell_type": "code",
   "execution_count": 3,
   "metadata": {},
   "outputs": [],
   "source": [
    "tf_complex = tf.complex\n",
    "tf_real = tf.float32\n",
    "np_complex = complex\n",
    "np_real = np.float32"
   ]
  },
  {
   "cell_type": "markdown",
   "metadata": {},
   "source": [
    "Precision for output on the screen"
   ]
  },
  {
   "cell_type": "code",
   "execution_count": 4,
   "metadata": {},
   "outputs": [],
   "source": [
    "np.set_printoptions(precision=2)"
   ]
  },
  {
   "cell_type": "markdown",
   "metadata": {},
   "source": [
    "## Dimension"
   ]
  },
  {
   "cell_type": "code",
   "execution_count": 5,
   "metadata": {},
   "outputs": [],
   "source": [
    "N = 10"
   ]
  },
  {
   "cell_type": "markdown",
   "metadata": {},
   "source": [
    "## Build vacuum by the Gaussian state"
   ]
  },
  {
   "cell_type": "code",
   "execution_count": 6,
   "metadata": {},
   "outputs": [],
   "source": [
    "vacuum = ps.VacuumLayer(N)"
   ]
  },
  {
   "cell_type": "markdown",
   "metadata": {},
   "source": [
    "## Build the pullback layer for generating the input coherent state"
   ]
  },
  {
   "cell_type": "markdown",
   "metadata": {},
   "source": [
    "The target displacement is a normalized vector"
   ]
  },
  {
   "cell_type": "code",
   "execution_count": 7,
   "metadata": {},
   "outputs": [
    {
     "name": "stdout",
     "output_type": "stream",
     "text": [
      "[[0.32 0.32 0.32 0.32 0.32 0.32 0.32 0.32 0.32 0.32]]\n"
     ]
    }
   ],
   "source": [
    "dinput = 3.0*np.ones((N,1)); \n",
    "norm = np.linalg.norm(dinput)\n",
    "dinput = dinput /norm\n",
    "print(dinput.transpose())"
   ]
  },
  {
   "cell_type": "markdown",
   "metadata": {},
   "source": [
    "Check the normalization of the dtarget"
   ]
  },
  {
   "cell_type": "code",
   "execution_count": 8,
   "metadata": {},
   "outputs": [
    {
     "name": "stdout",
     "output_type": "stream",
     "text": [
      "[[1.]]\n"
     ]
    }
   ],
   "source": [
    "print(np.dot(dinput.transpose(), dinput)) "
   ]
  },
  {
   "cell_type": "markdown",
   "metadata": {},
   "source": [
    "### Build the Displacement layer\n",
    "The layer is a constant layer, as no training is needed"
   ]
  },
  {
   "cell_type": "code",
   "execution_count": 9,
   "metadata": {},
   "outputs": [],
   "source": [
    "D = ps.DisplacementLayerConstant(dinput)"
   ]
  },
  {
   "cell_type": "markdown",
   "metadata": {},
   "source": [
    "## Define the layer for the constant random medium\n",
    "The LinearConstantMultiHead generate by default a random medium with \n",
    "the relevant symplectic operator"
   ]
  },
  {
   "cell_type": "code",
   "execution_count": 10,
   "metadata": {},
   "outputs": [],
   "source": [
    "R = ps.RandomLayerConstant(N)"
   ]
  },
  {
   "cell_type": "markdown",
   "metadata": {},
   "source": [
    "## Define the trainable unitary layer"
   ]
  },
  {
   "cell_type": "code",
   "execution_count": 11,
   "metadata": {},
   "outputs": [],
   "source": [
    "T = ps.RandomLayer(N)"
   ]
  },
  {
   "cell_type": "markdown",
   "metadata": {},
   "source": [
    "## Define the normalized target displacement vector"
   ]
  },
  {
   "cell_type": "code",
   "execution_count": 12,
   "metadata": {},
   "outputs": [
    {
     "name": "stdout",
     "output_type": "stream",
     "text": [
      "[[0.89 0.45 0.   0.   0.   0.   0.   0.   0.   0.  ]]\n"
     ]
    }
   ],
   "source": [
    "dtarget = np.zeros((N,1)); dtarget[0]=1.0; dtarget[1]=0.5;\n",
    "norm = np.linalg.norm(dtarget)\n",
    "dtarget = dtarget /norm\n",
    "print(dtarget.transpose())"
   ]
  },
  {
   "cell_type": "markdown",
   "metadata": {},
   "source": [
    "Check the normalization"
   ]
  },
  {
   "cell_type": "code",
   "execution_count": 13,
   "metadata": {},
   "outputs": [
    {
     "name": "stdout",
     "output_type": "stream",
     "text": [
      "[[1.]]\n"
     ]
    }
   ],
   "source": [
    "print(np.dot(dtarget.transpose(), dtarget)) "
   ]
  },
  {
   "cell_type": "markdown",
   "metadata": {},
   "source": [
    "## Define the target covariance matrix"
   ]
  },
  {
   "cell_type": "code",
   "execution_count": 14,
   "metadata": {},
   "outputs": [],
   "source": [
    "gtarget = np.eye(N);"
   ]
  },
  {
   "cell_type": "markdown",
   "metadata": {},
   "source": [
    "## Connect the layers"
   ]
  },
  {
   "cell_type": "markdown",
   "metadata": {},
   "source": [
    "Input layer"
   ]
  },
  {
   "cell_type": "code",
   "execution_count": 15,
   "metadata": {},
   "outputs": [
    {
     "name": "stdout",
     "output_type": "stream",
     "text": [
      "KerasTensor(type_spec=TensorSpec(shape=(None, 10), dtype=tf.float32, name='input_1'), name='input_1', description=\"created by layer 'input_1'\")\n"
     ]
    }
   ],
   "source": [
    "xin = tf.keras.layers.Input(N);print(xin)"
   ]
  },
  {
   "cell_type": "code",
   "execution_count": 16,
   "metadata": {},
   "outputs": [],
   "source": [
    "x3, a3 = R(xin)\n",
    "x2, a2 = T(x3,a3)\n",
    "x1, a1 = D(x2,a2)\n",
    "chir, chii = vacuum(x1, a1) \n",
    "pullback = tf.keras.Model(inputs = xin, outputs=[chir, chii])"
   ]
  },
  {
   "cell_type": "markdown",
   "metadata": {},
   "source": [
    "Add the covariance and derivative layer for evaluating the mean <R>"
   ]
  },
  {
   "cell_type": "code",
   "execution_count": 17,
   "metadata": {},
   "outputs": [],
   "source": [
    "cov_layer = ps.CovarianceLayer(N)\n",
    "g, Re, _ = cov_layer(chir,chii, pullback)"
   ]
  },
  {
   "cell_type": "code",
   "execution_count": 18,
   "metadata": {},
   "outputs": [],
   "source": [
    "pullback_cov = tf.keras.Model(inputs = xin, outputs=[g, Re])"
   ]
  },
  {
   "cell_type": "markdown",
   "metadata": {},
   "source": [
    "### Store the M,d of the LL_complex layer for later chek"
   ]
  },
  {
   "cell_type": "code",
   "execution_count": 19,
   "metadata": {},
   "outputs": [],
   "source": [
    "M_R_tf, _=R.get_M(); M_R_np=M_R_tf.numpy()"
   ]
  },
  {
   "cell_type": "code",
   "execution_count": 20,
   "metadata": {},
   "outputs": [],
   "source": [
    "d_R_np=R.d.numpy()"
   ]
  },
  {
   "cell_type": "markdown",
   "metadata": {},
   "source": [
    "### Store the M, d of the untrained U_train layer for later check"
   ]
  },
  {
   "cell_type": "code",
   "execution_count": 21,
   "metadata": {},
   "outputs": [],
   "source": [
    "WR_untrained_T = T.WR.numpy()"
   ]
  },
  {
   "cell_type": "code",
   "execution_count": 22,
   "metadata": {},
   "outputs": [],
   "source": [
    "WI_untrained_T = T.WI.numpy()"
   ]
  },
  {
   "cell_type": "code",
   "execution_count": 23,
   "metadata": {},
   "outputs": [],
   "source": [
    "M_untrained_T, MI_untrained_T = T.get_M()"
   ]
  },
  {
   "cell_type": "markdown",
   "metadata": {},
   "source": [
    "## Auxiliary staff"
   ]
  },
  {
   "cell_type": "markdown",
   "metadata": {},
   "source": [
    "Tensor flow function that returns the gradient"
   ]
  },
  {
   "cell_type": "code",
   "execution_count": 24,
   "metadata": {},
   "outputs": [],
   "source": [
    "@tf.function\n",
    "def derivative():\n",
    "    x = tf.constant(np.zeros((1,N)))\n",
    "    with tf.GradientTape() as tape:\n",
    "        tape.watch(x)\n",
    "        cr, ci = pullback(x)\n",
    "        chii_x = tape.gradient(ci, x)\n",
    "    return chii_x"
   ]
  },
  {
   "cell_type": "markdown",
   "metadata": {},
   "source": [
    "Tensor flow function that returns the covariance matrix"
   ]
  },
  {
   "cell_type": "code",
   "execution_count": 25,
   "metadata": {},
   "outputs": [],
   "source": [
    "@tf.function\n",
    "def covariance_matrix():\n",
    "    x = tf.constant(np.zeros((1,N)))\n",
    "    with tf.GradientTape(persistent=True) as t1:\n",
    "        t1.watch(x)\n",
    "        with tf.GradientTape(persistent=True) as t2:\n",
    "            t2.watch(x)\n",
    "            cr, ci = pullback(x)\n",
    "        cr_x = t2.gradient(cr, x)\n",
    "        ci_x = t2.gradient(ci, x)\n",
    "    d2cr= t1.jacobian(cr_x,x)\n",
    "    # reshape the Jacobian to a matrix\n",
    "    Hc2 = tf.reshape(d2cr, [N,N])\n",
    "    # evaluate the covariance with the factor 2.0 to account for the definition of g\n",
    "    cov = -2*(Hc2+tf.matmul(ci_x,ci_x,transpose_a=True))      \n",
    "    return cov"
   ]
  },
  {
   "cell_type": "markdown",
   "metadata": {},
   "source": [
    "## Build the training set by using a target characteristic function"
   ]
  },
  {
   "cell_type": "markdown",
   "metadata": {},
   "source": [
    "Number of training points\n",
    "Also a single training point is enough for Gaussian state, more points improve the training"
   ]
  },
  {
   "cell_type": "code",
   "execution_count": 26,
   "metadata": {},
   "outputs": [],
   "source": [
    "Nbatch = 100"
   ]
  },
  {
   "cell_type": "markdown",
   "metadata": {},
   "source": [
    "Define the numpy function for the target characteristic function:\n",
    "    a coherent state with a target displacement\n",
    "One need a target d for any training points"
   ]
  },
  {
   "cell_type": "code",
   "execution_count": 27,
   "metadata": {},
   "outputs": [],
   "source": [
    "xtrain = np.random.rand(Nbatch, N)-0.5\n",
    "Rtrain = np.zeros((Nbatch,N))\n",
    "gtrain = np.zeros((Nbatch,N,N))\n",
    "for j in range(Nbatch):\n",
    "    for i in range(N):\n",
    "        Rtrain[j,i]=dtarget[i]\n",
    "        for k in range(N):\n",
    "            gtrain[j,i,k]=gtarget[i,k]"
   ]
  },
  {
   "cell_type": "markdown",
   "metadata": {},
   "source": [
    "## Train the model"
   ]
  },
  {
   "cell_type": "code",
   "execution_count": 28,
   "metadata": {},
   "outputs": [],
   "source": [
    "pullback_cov.compile(optimizer=tf.keras.optimizers.Adam(learning_rate=0.01),\n",
    "                loss='mean_squared_error')"
   ]
  },
  {
   "cell_type": "markdown",
   "metadata": {},
   "source": [
    "Summary of the derivative model"
   ]
  },
  {
   "cell_type": "code",
   "execution_count": 29,
   "metadata": {},
   "outputs": [
    {
     "name": "stdout",
     "output_type": "stream",
     "text": [
      "Model: \"model_1\"\n",
      "__________________________________________________________________________________________________\n",
      " Layer (type)                   Output Shape         Param #     Connected to                     \n",
      "==================================================================================================\n",
      " input_1 (InputLayer)           [(None, 10)]         0           []                               \n",
      "                                                                                                  \n",
      " random_layer (RandomLayer)     [(None, 10),         50          ['input_1[0][0]']                \n",
      "                                 (10, 1)]                                                         \n",
      "                                                                                                  \n",
      " random_layer_1 (RandomLayer)   [(None, 10),         50          ['random_layer[0][0]',           \n",
      "                                 (10, 1)]                         'random_layer[0][1]']           \n",
      "                                                                                                  \n",
      " linear_layer_constant (LinearL  [(None, 10),        0           ['random_layer_1[0][0]',         \n",
      " ayerConstant)                   (10, 1)]                         'random_layer_1[0][1]']         \n",
      "                                                                                                  \n",
      " gaussian_layer (GaussianLayer)  [(None, 1),         110         ['linear_layer_constant[0][0]',  \n",
      "                                 (None, 1)]                       'linear_layer_constant[0][1]']  \n",
      "                                                                                                  \n",
      " covariance_layer (CovarianceLa  ((10, 10),          0           ['gaussian_layer[0][0]',         \n",
      " yer)                            (1, 10),                         'gaussian_layer[0][1]']         \n",
      "                                 (10, 10))                                                        \n",
      "                                                                                                  \n",
      "==================================================================================================\n",
      "Total params: 210\n",
      "Trainable params: 50\n",
      "Non-trainable params: 160\n",
      "__________________________________________________________________________________________________\n"
     ]
    }
   ],
   "source": [
    "pullback_cov.summary()"
   ]
  },
  {
   "cell_type": "markdown",
   "metadata": {},
   "source": [
    "Test the call of the derivative layer"
   ]
  },
  {
   "cell_type": "code",
   "execution_count": 30,
   "metadata": {},
   "outputs": [
    {
     "data": {
      "text/plain": [
       "[<tf.Tensor: shape=(10, 10), dtype=float32, numpy=\n",
       " array([[ 1.00e+00, -1.49e-07,  3.54e-08, -1.49e-08,  2.97e-07,  3.35e-08,\n",
       "          1.30e-07, -1.79e-07, -4.13e-07,  7.45e-08],\n",
       "        [ 8.94e-08,  1.00e+00, -2.24e-08,  5.96e-08, -5.59e-08,  2.83e-07,\n",
       "          1.64e-07,  1.49e-07, -9.69e-08, -2.98e-07],\n",
       "        [ 1.04e-07, -8.94e-08,  1.00e+00, -7.45e-09,  1.91e-08, -1.14e-07,\n",
       "          2.13e-07, -1.75e-07,  4.14e-08, -2.98e-07],\n",
       "        [-1.49e-08,  5.96e-08, -2.98e-08,  1.00e+00,  1.28e-07, -6.33e-08,\n",
       "          8.94e-08,  2.09e-07,  3.61e-07, -5.96e-08],\n",
       "        [ 2.81e-07, -1.01e-07,  1.96e-08,  1.78e-07,  1.00e+00, -6.71e-08,\n",
       "          2.02e-07,  3.91e-08,  2.94e-07,  6.89e-08],\n",
       "        [ 4.47e-08,  2.76e-07, -1.47e-07,  1.86e-08,  1.26e-08,  1.00e+00,\n",
       "         -4.66e-08,  1.79e-07, -1.36e-07,  2.38e-07],\n",
       "        [ 1.92e-07,  2.91e-07,  2.05e-07,  1.97e-07,  1.93e-07, -5.59e-09,\n",
       "          1.00e+00,  3.73e-08,  6.05e-09,  1.12e-07],\n",
       "        [-1.42e-07,  8.94e-08, -1.60e-07,  1.19e-07, -9.31e-10,  1.19e-07,\n",
       "          3.35e-08,  1.00e+00,  1.12e-08, -5.96e-08],\n",
       "        [-3.91e-07, -3.73e-08,  9.97e-08,  2.91e-07,  2.91e-07, -1.14e-07,\n",
       "          5.08e-08,  2.42e-08,  1.00e+00,  3.73e-08],\n",
       "        [ 1.94e-07, -4.17e-07, -3.20e-07,  2.38e-07,  1.08e-07,  2.83e-07,\n",
       "          2.98e-08, -2.98e-08, -1.49e-08,  1.00e+00]], dtype=float32)>,\n",
       " <tf.Tensor: shape=(1, 10), dtype=float32, numpy=\n",
       " array([[-0.16, -0.66,  0.09, -0.32, -0.02, -0.09, -0.06, -0.26,  0.04,\n",
       "         -0.59]], dtype=float32)>]"
      ]
     },
     "execution_count": 30,
     "metadata": {},
     "output_type": "execute_result"
    }
   ],
   "source": [
    "pullback_cov(xtrain)"
   ]
  },
  {
   "cell_type": "markdown",
   "metadata": {},
   "source": [
    "## Training of the model"
   ]
  },
  {
   "cell_type": "code",
   "execution_count": 31,
   "metadata": {},
   "outputs": [
    {
     "name": "stdout",
     "output_type": "stream",
     "text": [
      "Epoch 1/50\n",
      "4/4 - 2s - loss: 0.2728 - covariance_layer_loss: 2.5033e-14 - covariance_layer_1_loss: 0.2728 - 2s/epoch - 586ms/step\n",
      "Epoch 2/50\n",
      "4/4 - 0s - loss: 0.2141 - covariance_layer_loss: 2.0212e-14 - covariance_layer_1_loss: 0.2141 - 9ms/epoch - 2ms/step\n",
      "Epoch 3/50\n",
      "4/4 - 0s - loss: 0.1537 - covariance_layer_loss: 2.8098e-14 - covariance_layer_1_loss: 0.1537 - 10ms/epoch - 3ms/step\n",
      "Epoch 4/50\n",
      "4/4 - 0s - loss: 0.1042 - covariance_layer_loss: 2.4674e-14 - covariance_layer_1_loss: 0.1042 - 10ms/epoch - 3ms/step\n",
      "Epoch 5/50\n",
      "4/4 - 0s - loss: 0.0751 - covariance_layer_loss: 3.1646e-14 - covariance_layer_1_loss: 0.0751 - 10ms/epoch - 2ms/step\n",
      "Epoch 6/50\n",
      "4/4 - 0s - loss: 0.0663 - covariance_layer_loss: 3.6769e-14 - covariance_layer_1_loss: 0.0663 - 11ms/epoch - 3ms/step\n",
      "Epoch 7/50\n",
      "4/4 - 0s - loss: 0.0671 - covariance_layer_loss: 3.4540e-14 - covariance_layer_1_loss: 0.0671 - 12ms/epoch - 3ms/step\n",
      "Epoch 8/50\n",
      "4/4 - 0s - loss: 0.0665 - covariance_layer_loss: 3.4968e-14 - covariance_layer_1_loss: 0.0665 - 10ms/epoch - 2ms/step\n",
      "Epoch 9/50\n",
      "4/4 - 0s - loss: 0.0618 - covariance_layer_loss: 3.0718e-14 - covariance_layer_1_loss: 0.0618 - 10ms/epoch - 2ms/step\n",
      "Epoch 10/50\n",
      "4/4 - 0s - loss: 0.0555 - covariance_layer_loss: 3.4008e-14 - covariance_layer_1_loss: 0.0555 - 11ms/epoch - 3ms/step\n",
      "Epoch 11/50\n",
      "4/4 - 0s - loss: 0.0508 - covariance_layer_loss: 3.7848e-14 - covariance_layer_1_loss: 0.0508 - 11ms/epoch - 3ms/step\n",
      "Epoch 12/50\n",
      "4/4 - 0s - loss: 0.0483 - covariance_layer_loss: 3.3436e-14 - covariance_layer_1_loss: 0.0483 - 10ms/epoch - 3ms/step\n",
      "Epoch 13/50\n",
      "4/4 - 0s - loss: 0.0470 - covariance_layer_loss: 2.3723e-14 - covariance_layer_1_loss: 0.0470 - 10ms/epoch - 2ms/step\n",
      "Epoch 14/50\n",
      "4/4 - 0s - loss: 0.0454 - covariance_layer_loss: 2.8398e-14 - covariance_layer_1_loss: 0.0454 - 11ms/epoch - 3ms/step\n",
      "Epoch 15/50\n",
      "4/4 - 0s - loss: 0.0433 - covariance_layer_loss: 3.4362e-14 - covariance_layer_1_loss: 0.0433 - 11ms/epoch - 3ms/step\n",
      "Epoch 16/50\n",
      "4/4 - 0s - loss: 0.0412 - covariance_layer_loss: 3.1817e-14 - covariance_layer_1_loss: 0.0412 - 11ms/epoch - 3ms/step\n",
      "Epoch 17/50\n",
      "4/4 - 0s - loss: 0.0395 - covariance_layer_loss: 3.8347e-14 - covariance_layer_1_loss: 0.0395 - 10ms/epoch - 3ms/step\n",
      "Epoch 18/50\n",
      "4/4 - 0s - loss: 0.0379 - covariance_layer_loss: 3.3751e-14 - covariance_layer_1_loss: 0.0379 - 10ms/epoch - 3ms/step\n",
      "Epoch 19/50\n",
      "4/4 - 0s - loss: 0.0362 - covariance_layer_loss: 2.4680e-14 - covariance_layer_1_loss: 0.0362 - 10ms/epoch - 2ms/step\n",
      "Epoch 20/50\n",
      "4/4 - 0s - loss: 0.0345 - covariance_layer_loss: 3.2197e-14 - covariance_layer_1_loss: 0.0345 - 10ms/epoch - 2ms/step\n",
      "Epoch 21/50\n",
      "4/4 - 0s - loss: 0.0326 - covariance_layer_loss: 3.2828e-14 - covariance_layer_1_loss: 0.0326 - 10ms/epoch - 3ms/step\n",
      "Epoch 22/50\n",
      "4/4 - 0s - loss: 0.0309 - covariance_layer_loss: 3.7945e-14 - covariance_layer_1_loss: 0.0309 - 10ms/epoch - 3ms/step\n",
      "Epoch 23/50\n",
      "4/4 - 0s - loss: 0.0291 - covariance_layer_loss: 3.0720e-14 - covariance_layer_1_loss: 0.0291 - 11ms/epoch - 3ms/step\n",
      "Epoch 24/50\n",
      "4/4 - 0s - loss: 0.0272 - covariance_layer_loss: 2.8962e-14 - covariance_layer_1_loss: 0.0272 - 11ms/epoch - 3ms/step\n",
      "Epoch 25/50\n",
      "4/4 - 0s - loss: 0.0254 - covariance_layer_loss: 3.4981e-14 - covariance_layer_1_loss: 0.0254 - 11ms/epoch - 3ms/step\n",
      "Epoch 26/50\n",
      "4/4 - 0s - loss: 0.0236 - covariance_layer_loss: 4.8736e-14 - covariance_layer_1_loss: 0.0236 - 11ms/epoch - 3ms/step\n",
      "Epoch 27/50\n",
      "4/4 - 0s - loss: 0.0218 - covariance_layer_loss: 2.6796e-14 - covariance_layer_1_loss: 0.0218 - 11ms/epoch - 3ms/step\n",
      "Epoch 28/50\n",
      "4/4 - 0s - loss: 0.0200 - covariance_layer_loss: 3.0319e-14 - covariance_layer_1_loss: 0.0200 - 12ms/epoch - 3ms/step\n",
      "Epoch 29/50\n",
      "4/4 - 0s - loss: 0.0182 - covariance_layer_loss: 2.9942e-14 - covariance_layer_1_loss: 0.0182 - 10ms/epoch - 3ms/step\n",
      "Epoch 30/50\n",
      "4/4 - 0s - loss: 0.0165 - covariance_layer_loss: 2.3886e-14 - covariance_layer_1_loss: 0.0165 - 12ms/epoch - 3ms/step\n",
      "Epoch 31/50\n",
      "4/4 - 0s - loss: 0.0149 - covariance_layer_loss: 4.1834e-14 - covariance_layer_1_loss: 0.0149 - 11ms/epoch - 3ms/step\n",
      "Epoch 32/50\n",
      "4/4 - 0s - loss: 0.0133 - covariance_layer_loss: 3.4125e-14 - covariance_layer_1_loss: 0.0133 - 11ms/epoch - 3ms/step\n",
      "Epoch 33/50\n",
      "4/4 - 0s - loss: 0.0118 - covariance_layer_loss: 3.1311e-14 - covariance_layer_1_loss: 0.0118 - 11ms/epoch - 3ms/step\n",
      "Epoch 34/50\n",
      "4/4 - 0s - loss: 0.0105 - covariance_layer_loss: 2.3626e-14 - covariance_layer_1_loss: 0.0105 - 10ms/epoch - 3ms/step\n",
      "Epoch 35/50\n",
      "4/4 - 0s - loss: 0.0092 - covariance_layer_loss: 3.7033e-14 - covariance_layer_1_loss: 0.0092 - 10ms/epoch - 2ms/step\n",
      "Epoch 36/50\n",
      "4/4 - 0s - loss: 0.0080 - covariance_layer_loss: 2.7754e-14 - covariance_layer_1_loss: 0.0080 - 10ms/epoch - 2ms/step\n",
      "Epoch 37/50\n",
      "4/4 - 0s - loss: 0.0069 - covariance_layer_loss: 2.4611e-14 - covariance_layer_1_loss: 0.0069 - 10ms/epoch - 3ms/step\n",
      "Epoch 38/50\n",
      "4/4 - 0s - loss: 0.0060 - covariance_layer_loss: 2.7475e-14 - covariance_layer_1_loss: 0.0060 - 9ms/epoch - 2ms/step\n",
      "Epoch 39/50\n",
      "4/4 - 0s - loss: 0.0051 - covariance_layer_loss: 3.7913e-14 - covariance_layer_1_loss: 0.0051 - 10ms/epoch - 3ms/step\n",
      "Epoch 40/50\n",
      "4/4 - 0s - loss: 0.0044 - covariance_layer_loss: 3.2047e-14 - covariance_layer_1_loss: 0.0044 - 9ms/epoch - 2ms/step\n",
      "Epoch 41/50\n",
      "4/4 - 0s - loss: 0.0037 - covariance_layer_loss: 2.6120e-14 - covariance_layer_1_loss: 0.0037 - 9ms/epoch - 2ms/step\n",
      "Epoch 42/50\n",
      "4/4 - 0s - loss: 0.0031 - covariance_layer_loss: 3.5606e-14 - covariance_layer_1_loss: 0.0031 - 10ms/epoch - 3ms/step\n",
      "Epoch 43/50\n",
      "4/4 - 0s - loss: 0.0027 - covariance_layer_loss: 2.9033e-14 - covariance_layer_1_loss: 0.0027 - 11ms/epoch - 3ms/step\n",
      "Epoch 44/50\n",
      "4/4 - 0s - loss: 0.0022 - covariance_layer_loss: 2.1651e-14 - covariance_layer_1_loss: 0.0022 - 11ms/epoch - 3ms/step\n",
      "Epoch 45/50\n",
      "4/4 - 0s - loss: 0.0019 - covariance_layer_loss: 2.4372e-14 - covariance_layer_1_loss: 0.0019 - 10ms/epoch - 3ms/step\n",
      "Epoch 46/50\n",
      "4/4 - 0s - loss: 0.0016 - covariance_layer_loss: 2.2658e-14 - covariance_layer_1_loss: 0.0016 - 11ms/epoch - 3ms/step\n",
      "Epoch 47/50\n",
      "4/4 - 0s - loss: 0.0013 - covariance_layer_loss: 2.3362e-14 - covariance_layer_1_loss: 0.0013 - 9ms/epoch - 2ms/step\n",
      "Epoch 48/50\n",
      "4/4 - 0s - loss: 0.0011 - covariance_layer_loss: 2.0992e-14 - covariance_layer_1_loss: 0.0011 - 9ms/epoch - 2ms/step\n",
      "Epoch 49/50\n",
      "4/4 - 0s - loss: 9.3717e-04 - covariance_layer_loss: 2.9089e-14 - covariance_layer_1_loss: 9.3717e-04 - 9ms/epoch - 2ms/step\n",
      "Epoch 50/50\n",
      "4/4 - 0s - loss: 7.8382e-04 - covariance_layer_loss: 2.6971e-14 - covariance_layer_1_loss: 7.8382e-04 - 9ms/epoch - 2ms/step\n"
     ]
    }
   ],
   "source": [
    "history = pullback_cov.fit(x=xtrain,y=[gtrain, Rtrain], epochs=50, verbose=2)"
   ]
  },
  {
   "cell_type": "code",
   "execution_count": 32,
   "metadata": {},
   "outputs": [
    {
     "data": {
      "text/plain": [
       "Text(0.5, 0, 'Epoch')"
      ]
     },
     "execution_count": 32,
     "metadata": {},
     "output_type": "execute_result"
    },
    {
     "data": {
      "image/png": "[encoded data removed]",
      "text/plain": [
       "<Figure size 640x480 with 1 Axes>"
      ]
     },
     "metadata": {},
     "output_type": "display_data"
    }
   ],
   "source": [
    "# %%\n",
    "# %matplotlib inline\n",
    "# Plot training & validation accuracy values\n",
    "f1 = plt.figure\n",
    "plt.subplot(2, 1, 1)\n",
    "plt.plot(history.history['loss'])\n",
    "plt.ylabel('Error')\n",
    "plt.xlabel('Epoch')"
   ]
  },
  {
   "cell_type": "markdown",
   "metadata": {},
   "source": [
    "## Test the derivative of the model\n",
    "Evaluate the expectation value of the displacement as derivative of the characterisc function"
   ]
  },
  {
   "cell_type": "markdown",
   "metadata": {},
   "source": [
    "Use the derivative function for the derivative"
   ]
  },
  {
   "cell_type": "code",
   "execution_count": 33,
   "metadata": {},
   "outputs": [
    {
     "name": "stdout",
     "output_type": "stream",
     "text": [
      "+0.9+0.0i +0.4+0.0i +0.0+0.0i +0.0+0.0i -0.0+0.0i -0.0+0.0i +0.0+0.0i -0.0+0.0i +0.1+0.0i +0.0+0.0i \n"
     ]
    }
   ],
   "source": [
    "utilities.printonscreen(derivative())"
   ]
  },
  {
   "cell_type": "markdown",
   "metadata": {},
   "source": [
    "Use the covariance_matrix function for the covariance"
   ]
  },
  {
   "cell_type": "code",
   "execution_count": 34,
   "metadata": {},
   "outputs": [
    {
     "name": "stdout",
     "output_type": "stream",
     "text": [
      "+1.0+0.0i +0.0+0.0i +0.0+0.0i +0.0+0.0i +0.0+0.0i -0.0+0.0i +0.0+0.0i -0.0+0.0i -0.0+0.0i +0.0+0.0i \n",
      "+0.0+0.0i +1.0+0.0i +0.0+0.0i +0.0+0.0i +0.0+0.0i +0.0+0.0i +0.0+0.0i +0.0+0.0i -0.0+0.0i -0.0+0.0i \n",
      "+0.0+0.0i +0.0+0.0i +1.0+0.0i +0.0+0.0i +0.0+0.0i -0.0+0.0i +0.0+0.0i -0.0+0.0i -0.0+0.0i -0.0+0.0i \n",
      "+0.0+0.0i +0.0+0.0i +0.0+0.0i +1.0+0.0i +0.0+0.0i +0.0+0.0i +0.0+0.0i +0.0+0.0i +0.0+0.0i +0.0+0.0i \n",
      "+0.0+0.0i +0.0+0.0i -0.0+0.0i +0.0+0.0i +1.0+0.0i +0.0+0.0i -0.0+0.0i +0.0+0.0i +0.0+0.0i +0.0+0.0i \n",
      "+0.0+0.0i +0.0+0.0i -0.0+0.0i -0.0+0.0i -0.0+0.0i +1.0+0.0i -0.0+0.0i -0.0+0.0i +0.0+0.0i +0.0+0.0i \n",
      "+0.0+0.0i +0.0+0.0i +0.0+0.0i +0.0+0.0i -0.0+0.0i -0.0+0.0i +1.0+0.0i -0.0+0.0i +0.0+0.0i +0.0+0.0i \n",
      "-0.0+0.0i +0.0+0.0i -0.0+0.0i +0.0+0.0i +0.0+0.0i -0.0+0.0i +0.0+0.0i +1.0+0.0i -0.0+0.0i +0.0+0.0i \n",
      "-0.0+0.0i -0.0+0.0i +0.0+0.0i +0.0+0.0i +0.0+0.0i -0.0+0.0i +0.0+0.0i -0.0+0.0i +1.0+0.0i -0.0+0.0i \n",
      "+0.0+0.0i -0.0+0.0i -0.0+0.0i -0.0+0.0i +0.0+0.0i +0.0+0.0i +0.0+0.0i +0.0+0.0i -0.0+0.0i +1.0+0.0i \n"
     ]
    }
   ],
   "source": [
    "utilities.printonscreen(covariance_matrix())"
   ]
  },
  {
   "cell_type": "markdown",
   "metadata": {},
   "source": [
    "Use the model "
   ]
  },
  {
   "cell_type": "code",
   "execution_count": 35,
   "metadata": {},
   "outputs": [
    {
     "data": {
      "text/plain": [
       "[<tf.Tensor: shape=(10, 10), dtype=float32, numpy=\n",
       " array([[ 1.00e+00,  1.19e-07,  3.43e-07,  2.05e-08,  1.22e-07, -7.22e-08,\n",
       "          1.42e-07, -2.81e-07, -2.91e-07,  1.12e-08],\n",
       "        [ 5.96e-08,  1.00e+00,  3.73e-08,  2.40e-07,  6.52e-08,  6.24e-08,\n",
       "          3.32e-07,  6.61e-08, -4.84e-08, -2.89e-07],\n",
       "        [ 2.24e-07,  4.10e-08,  1.00e+00,  3.14e-09,  1.95e-08, -1.76e-07,\n",
       "          1.14e-07, -1.08e-07, -1.40e-08, -6.80e-08],\n",
       "        [ 4.47e-08,  2.67e-07,  3.74e-08,  1.00e+00,  1.49e-07,  4.21e-08,\n",
       "          1.60e-07,  1.36e-07,  3.38e-08,  1.87e-08],\n",
       "        [ 1.56e-07,  1.49e-08, -4.81e-08,  1.63e-07,  1.00e+00,  4.78e-08,\n",
       "         -5.24e-08,  2.17e-07,  7.40e-08,  1.69e-08],\n",
       "        [ 1.54e-07,  1.59e-07, -1.50e-07, -7.87e-09, -3.83e-08,  1.00e+00,\n",
       "         -1.88e-07, -4.60e-08,  3.09e-08,  4.11e-08],\n",
       "        [ 8.20e-08,  2.35e-07,  1.45e-07,  1.80e-07, -3.43e-08, -1.72e-07,\n",
       "          1.00e+00, -8.91e-09,  1.10e-07,  4.81e-08],\n",
       "        [-3.20e-07,  1.05e-07, -1.04e-07,  1.07e-07,  1.62e-07, -1.31e-10,\n",
       "          4.04e-08,  1.00e+00, -3.74e-08,  1.49e-07],\n",
       "        [-2.98e-07, -4.84e-08,  1.63e-08,  6.31e-08,  9.13e-08, -2.72e-08,\n",
       "          1.45e-07, -1.04e-07,  1.00e+00, -1.82e-08],\n",
       "        [ 7.45e-09, -3.22e-07, -4.49e-08, -5.61e-08,  5.45e-08,  6.55e-08,\n",
       "          4.82e-08,  1.43e-07, -1.02e-08,  1.00e+00]], dtype=float32)>,\n",
       " <tf.Tensor: shape=(1, 10), dtype=float32, numpy=\n",
       " array([[ 0.89,  0.45,  0.04,  0.01, -0.01, -0.  ,  0.02, -0.01,  0.06,\n",
       "          0.03]], dtype=float32)>]"
      ]
     },
     "execution_count": 35,
     "metadata": {},
     "output_type": "execute_result"
    }
   ],
   "source": [
    "pullback_cov(xtrain)"
   ]
  },
  {
   "cell_type": "markdown",
   "metadata": {},
   "source": [
    "## Plot the model"
   ]
  },
  {
   "cell_type": "code",
   "execution_count": 36,
   "metadata": {},
   "outputs": [
    {
     "data": {
      "image/png": "[encoded data removed]",
      "text/plain": [
       "<IPython.core.display.Image object>"
      ]
     },
     "execution_count": 36,
     "metadata": {},
     "output_type": "execute_result"
    }
   ],
   "source": [
    "dot_img_file = 'pullback_COV.png'\n",
    "tf.keras.utils.plot_model(pullback, to_file=dot_img_file, show_shapes=True)"
   ]
  },
  {
   "cell_type": "markdown",
   "metadata": {},
   "source": [
    "## Check the weights of the layers"
   ]
  },
  {
   "cell_type": "markdown",
   "metadata": {},
   "source": [
    "### d and M of the complex layer LL_complex (these are unchanged)"
   ]
  },
  {
   "cell_type": "code",
   "execution_count": 37,
   "metadata": {},
   "outputs": [
    {
     "name": "stdout",
     "output_type": "stream",
     "text": [
      "[[0. 0. 0. 0. 0. 0. 0. 0. 0. 0.]]\n"
     ]
    }
   ],
   "source": [
    "print(R.d.numpy().transpose())"
   ]
  },
  {
   "cell_type": "code",
   "execution_count": 38,
   "metadata": {},
   "outputs": [
    {
     "name": "stdout",
     "output_type": "stream",
     "text": [
      "[[0. 0. 0. 0. 0. 0. 0. 0. 0. 0.]]\n"
     ]
    }
   ],
   "source": [
    "print(d_R_np.transpose())"
   ]
  },
  {
   "cell_type": "code",
   "execution_count": 39,
   "metadata": {},
   "outputs": [
    {
     "name": "stdout",
     "output_type": "stream",
     "text": [
      "[[ 0.32  0.13 -0.05  0.4  -0.07  0.45 -0.32  0.61  0.14 -0.15]\n",
      " [-0.13  0.32 -0.4  -0.05 -0.45 -0.07 -0.61 -0.32  0.15  0.14]\n",
      " [ 0.35  0.31  0.53  0.13  0.05 -0.38 -0.24  0.03 -0.27  0.45]\n",
      " [-0.31  0.35 -0.13  0.53  0.38  0.05 -0.03 -0.24 -0.45 -0.27]\n",
      " [ 0.18 -0.1  -0.45 -0.24  0.54  0.28 -0.12  0.   -0.18  0.53]\n",
      " [ 0.1   0.18  0.24 -0.45 -0.28  0.54 -0.   -0.12 -0.53 -0.18]\n",
      " [ 0.08  0.59 -0.39 -0.16 -0.16 -0.22  0.52  0.35 -0.08  0.06]\n",
      " [-0.59  0.08  0.16 -0.39  0.22 -0.16 -0.35  0.52 -0.06 -0.08]\n",
      " [-0.43  0.27  0.29  0.15 -0.04  0.45  0.25 -0.07  0.34  0.49]\n",
      " [-0.27 -0.43 -0.15  0.29 -0.45 -0.04  0.07  0.25 -0.49  0.34]]\n"
     ]
    }
   ],
   "source": [
    "M_R, _ =R.get_M();print(M_R.numpy())"
   ]
  },
  {
   "cell_type": "code",
   "execution_count": 40,
   "metadata": {},
   "outputs": [
    {
     "name": "stdout",
     "output_type": "stream",
     "text": [
      "[[ 0.32  0.13 -0.05  0.4  -0.07  0.45 -0.32  0.61  0.14 -0.15]\n",
      " [-0.13  0.32 -0.4  -0.05 -0.45 -0.07 -0.61 -0.32  0.15  0.14]\n",
      " [ 0.35  0.31  0.53  0.13  0.05 -0.38 -0.24  0.03 -0.27  0.45]\n",
      " [-0.31  0.35 -0.13  0.53  0.38  0.05 -0.03 -0.24 -0.45 -0.27]\n",
      " [ 0.18 -0.1  -0.45 -0.24  0.54  0.28 -0.12  0.   -0.18  0.53]\n",
      " [ 0.1   0.18  0.24 -0.45 -0.28  0.54 -0.   -0.12 -0.53 -0.18]\n",
      " [ 0.08  0.59 -0.39 -0.16 -0.16 -0.22  0.52  0.35 -0.08  0.06]\n",
      " [-0.59  0.08  0.16 -0.39  0.22 -0.16 -0.35  0.52 -0.06 -0.08]\n",
      " [-0.43  0.27  0.29  0.15 -0.04  0.45  0.25 -0.07  0.34  0.49]\n",
      " [-0.27 -0.43 -0.15  0.29 -0.45 -0.04  0.07  0.25 -0.49  0.34]]\n"
     ]
    }
   ],
   "source": [
    "print(M_R_np)"
   ]
  },
  {
   "cell_type": "markdown",
   "metadata": {},
   "source": [
    "### d and M of the trained layer, before and after training (they must change)"
   ]
  },
  {
   "cell_type": "code",
   "execution_count": 41,
   "metadata": {},
   "outputs": [
    {
     "data": {
      "text/plain": [
       "<tf.Variable 'random_layer_1/WR:0' shape=(5, 5) dtype=float32, numpy=\n",
       "array([[-0.18,  0.37,  0.64,  0.43,  0.59],\n",
       "       [ 0.82,  0.5 ,  1.03,  0.57,  0.75],\n",
       "       [ 0.77,  0.95,  0.38,  0.83,  0.56],\n",
       "       [ 0.79, -0.01,  1.12,  1.  ,  0.31],\n",
       "       [ 0.07,  0.94, -0.14,  0.68, -0.22]], dtype=float32)>"
      ]
     },
     "execution_count": 41,
     "metadata": {},
     "output_type": "execute_result"
    }
   ],
   "source": [
    "T.WR"
   ]
  },
  {
   "cell_type": "code",
   "execution_count": 42,
   "metadata": {},
   "outputs": [
    {
     "data": {
      "text/plain": [
       "array([[0.04, 0.31, 0.67, 0.11, 0.89],\n",
       "       [0.75, 0.05, 0.81, 0.74, 0.74],\n",
       "       [0.8 , 0.73, 0.02, 0.67, 0.82],\n",
       "       [0.48, 0.15, 0.96, 0.48, 0.32],\n",
       "       [0.37, 0.93, 0.11, 0.7 , 0.06]], dtype=float32)"
      ]
     },
     "execution_count": 42,
     "metadata": {},
     "output_type": "execute_result"
    }
   ],
   "source": [
    "WR_untrained_T"
   ]
  },
  {
   "cell_type": "code",
   "execution_count": 43,
   "metadata": {},
   "outputs": [
    {
     "data": {
      "text/plain": [
       "<tf.Variable 'random_layer_1/WI:0' shape=(5, 5) dtype=float32, numpy=\n",
       "array([[ 0.5 , -0.09, -0.4 ,  0.07,  0.67],\n",
       "       [ 0.85,  0.3 , -0.68,  0.69,  1.41],\n",
       "       [ 1.01,  1.99,  0.81,  0.22,  1.28],\n",
       "       [ 1.37,  0.79,  0.78,  0.88,  0.5 ],\n",
       "       [ 0.59, -0.51, -0.01,  0.16,  0.47]], dtype=float32)>"
      ]
     },
     "execution_count": 43,
     "metadata": {},
     "output_type": "execute_result"
    }
   ],
   "source": [
    "T.WI"
   ]
  },
  {
   "cell_type": "code",
   "execution_count": 44,
   "metadata": {},
   "outputs": [
    {
     "data": {
      "text/plain": [
       "array([[0.5 , 0.47, 0.07, 0.9 , 0.41],\n",
       "       [0.29, 0.3 , 0.33, 0.75, 0.78],\n",
       "       [0.53, 0.98, 0.81, 0.6 , 0.9 ],\n",
       "       [0.54, 0.73, 0.4 , 0.88, 0.3 ],\n",
       "       [0.84, 0.13, 0.37, 0.36, 0.47]], dtype=float32)"
      ]
     },
     "execution_count": 44,
     "metadata": {},
     "output_type": "execute_result"
    }
   ],
   "source": [
    "WI_untrained_T"
   ]
  },
  {
   "cell_type": "code",
   "execution_count": 45,
   "metadata": {},
   "outputs": [
    {
     "name": "stdout",
     "output_type": "stream",
     "text": [
      "tf.Tensor(\n",
      "[[ 0.04  0.54 -0.03 -0.    0.46  0.18  0.33 -0.46 -0.02 -0.37]\n",
      " [-0.54  0.04  0.   -0.03 -0.18  0.46  0.46  0.33  0.37 -0.02]\n",
      " [ 0.24 -0.45 -0.42 -0.46  0.34  0.12  0.07  0.27  0.03 -0.38]\n",
      " [ 0.45  0.24  0.46 -0.42 -0.12  0.34 -0.27  0.07  0.38  0.03]\n",
      " [ 0.   -0.21  0.17 -0.55 -0.28 -0.12  0.5  -0.39 -0.25  0.24]\n",
      " [ 0.21  0.    0.55  0.17  0.12 -0.28  0.39  0.5  -0.24 -0.25]\n",
      " [-0.39 -0.3   0.35 -0.07 -0.11 -0.2  -0.26 -0.29  0.21 -0.62]\n",
      " [ 0.3  -0.39  0.07  0.35  0.2  -0.11  0.29 -0.26  0.62  0.21]\n",
      " [-0.31 -0.27  0.38 -0.05  0.62  0.31 -0.18 -0.03 -0.23  0.35]\n",
      " [ 0.27 -0.31  0.05  0.38 -0.31  0.62  0.03 -0.18 -0.35 -0.23]], shape=(10, 10), dtype=float32)\n"
     ]
    }
   ],
   "source": [
    "M_T, _= T.get_M(); print(M_T)"
   ]
  },
  {
   "cell_type": "code",
   "execution_count": 46,
   "metadata": {},
   "outputs": [
    {
     "name": "stdout",
     "output_type": "stream",
     "text": [
      "tf.Tensor(\n",
      "[[ 0.42  0.47 -0.02 -0.22  0.25  0.1  -0.46  0.18  0.3   0.37]\n",
      " [-0.47  0.42  0.22 -0.02 -0.1   0.25 -0.18 -0.46 -0.37  0.3 ]\n",
      " [-0.12  0.26  0.19  0.66  0.36  0.26 -0.12  0.22  0.08 -0.42]\n",
      " [-0.26 -0.12 -0.66  0.19 -0.26  0.36 -0.22 -0.12  0.42  0.08]\n",
      " [ 0.38 -0.11 -0.   -0.07  0.05  0.79  0.41  0.01 -0.22  0.09]\n",
      " [ 0.11  0.38  0.07 -0.   -0.79  0.05 -0.01  0.41 -0.09 -0.22]\n",
      " [-0.09  0.43 -0.23  0.25  0.07 -0.23  0.68  0.09  0.15  0.37]\n",
      " [-0.43 -0.09 -0.25 -0.23  0.23  0.07 -0.09  0.68 -0.37  0.15]\n",
      " [-0.11 -0.39  0.52  0.29 -0.2   0.07 -0.05  0.25  0.27  0.55]\n",
      " [ 0.39 -0.11 -0.29  0.52 -0.07 -0.2  -0.25 -0.05 -0.55  0.27]], shape=(10, 10), dtype=float32)\n"
     ]
    }
   ],
   "source": [
    "print(M_untrained_T)"
   ]
  }
 ],
 "metadata": {
  "kernelspec": {
   "display_name": "Python 3 (ipykernel)",
   "language": "python",
   "name": "python3"
  },
  "language_info": {
   "codemirror_mode": {
    "name": "ipython",
    "version": 3
   },
   "file_extension": ".py",
   "mimetype": "text/x-python",
   "name": "python",
   "nbconvert_exporter": "python",
   "pygments_lexer": "ipython3",
   "version": "3.10.12"
  }
 },
 "nbformat": 4,
 "nbformat_minor": 4
}
