{
 "cells": [
  {
   "cell_type": "markdown",
   "metadata": {},
   "source": [
    "# Homodyne detection by a coherent state as local oscillator and a squeezed state"
   ]
  },
  {
   "cell_type": "markdown",
   "metadata": {},
   "source": [
    "Use the multihead (2-head) gates in the phase space \n",
    "to create a network that represents a single mode squeezed vacuum\n",
    "and a coherent state interferring on a Beam splitter\n",
    "\n",
    "The second derivatives of the chi matrix are used to evaluate the expected number of photons in each channels\n",
    "\n",
    "\n",
    "<img src=\"../img/BS.png\" width=\"400\" height=\"400\" /> \n",
    "\n",
    "<img src=\"../img/BellBS.png\" width=\"800\" height=\"200\" />\n",
    "\n",
    "<img src=\"../img/logo_circular.png\" width=\"20\" height=\"20\" />@by claudio<br>\n",
    "\n",
    "\n",
    "nonlinearxwaves@gmail.com<br>\n",
    "@created 7 january 2021<br>\n",
    "@version 23 sep 2023"
   ]
  },
  {
   "cell_type": "code",
   "execution_count": 1,
   "metadata": {},
   "outputs": [],
   "source": [
    "import os\n",
    "os.environ['TF_CPP_MIN_LOG_LEVEL'] = '2' # disable warning messages "
   ]
  },
  {
   "cell_type": "code",
   "execution_count": 2,
   "metadata": {},
   "outputs": [],
   "source": [
    "import numpy as np\n",
    "from scipy.linalg import expm, sinm, cosm\n",
    "from thqml import phasespace as ps\n",
    "from thqml.utilities import utilities\n",
    "#import matplotlib.pyplot as plt\n",
    "import tensorflow as tf\n",
    "#import tensorflow_addons as tfa\n",
    "from tensorflow import keras\n",
    "#import matplotlib.pyplot as plt\n",
    "from tensorflow.keras.callbacks import EarlyStopping\n",
    "import tensorflow.keras.backend as kb"
   ]
  },
  {
   "cell_type": "code",
   "execution_count": 3,
   "metadata": {},
   "outputs": [],
   "source": [
    "tf.keras.backend.clear_session()"
   ]
  },
  {
   "cell_type": "code",
   "execution_count": 4,
   "metadata": {},
   "outputs": [],
   "source": [
    "np.set_printoptions(precision=2)"
   ]
  },
  {
   "cell_type": "markdown",
   "metadata": {},
   "source": [
    "## Dimension (number of modes times 2, N=2n)"
   ]
  },
  {
   "cell_type": "code",
   "execution_count": 5,
   "metadata": {},
   "outputs": [],
   "source": [
    "N = 4"
   ]
  },
  {
   "cell_type": "markdown",
   "metadata": {},
   "source": [
    "## Build vacuum by the Gaussian state"
   ]
  },
  {
   "cell_type": "code",
   "execution_count": 6,
   "metadata": {},
   "outputs": [],
   "source": [
    "vacuum = ps.VacuumLayer(N)"
   ]
  },
  {
   "cell_type": "markdown",
   "metadata": {},
   "source": [
    "## Squeezed mode on mode 0"
   ]
  },
  {
   "cell_type": "code",
   "execution_count": 7,
   "metadata": {},
   "outputs": [],
   "source": [
    "ra=0.1;\n",
    "phia=0;"
   ]
  },
  {
   "cell_type": "code",
   "execution_count": 8,
   "metadata": {},
   "outputs": [],
   "source": [
    "squeezer=ps.SingleModeSqueezerLayer(N, r_np=ra, theta_np=phia, n_squeezed=0, trainable=False)"
   ]
  },
  {
   "cell_type": "markdown",
   "metadata": {},
   "source": [
    "## Coherent state (Displacer on mode 1)"
   ]
  },
  {
   "cell_type": "code",
   "execution_count": 9,
   "metadata": {},
   "outputs": [],
   "source": [
    "A_np = 10\n",
    "lambda_np = 0\n",
    "lambda_np = np.pi*0.5\n",
    "#theta =0\n",
    "dinput=np.zeros((N,1));\n",
    "dinput[2]=np.sqrt(2)*A_np*np.cos(lambda_np);\n",
    "dinput[3]=np.sqrt(2)*A_np*np.sin(lambda_np);\n",
    "displacer=ps.DisplacementLayerConstant(dinput)"
   ]
  },
  {
   "cell_type": "markdown",
   "metadata": {},
   "source": [
    "## Total number of photons"
   ]
  },
  {
   "cell_type": "code",
   "execution_count": 10,
   "metadata": {},
   "outputs": [
    {
     "name": "stdout",
     "output_type": "stream",
     "text": [
      "100.01003337780953\n"
     ]
    }
   ],
   "source": [
    "n_total= A_np**2+np.sinh(ra)**2; print(n_total)"
   ]
  },
  {
   "cell_type": "markdown",
   "metadata": {},
   "source": [
    "## Beam splitter"
   ]
  },
  {
   "cell_type": "code",
   "execution_count": 11,
   "metadata": {},
   "outputs": [],
   "source": [
    "bs0 = ps.BeamSplitterLayer(N, theta=np.pi/4, phi0=0, phi1=0, n_0=0, n_1=1,  trainable_theta=True)"
   ]
  },
  {
   "cell_type": "code",
   "execution_count": 12,
   "metadata": {},
   "outputs": [
    {
     "name": "stdout",
     "output_type": "stream",
     "text": [
      "[[0.707106769 0 -0.707106769 0]\n",
      " [0 0.707106769 0 -0.707106769]\n",
      " [0.707106769 0 0.707106769 0]\n",
      " [0 0.707106769 0 0.707106769]]\n"
     ]
    }
   ],
   "source": [
    "M, MI = bs0.get_M(); tf.print(M)"
   ]
  },
  {
   "cell_type": "markdown",
   "metadata": {},
   "source": [
    "### Dummy training points (not used for training in this example)"
   ]
  },
  {
   "cell_type": "code",
   "execution_count": 13,
   "metadata": {},
   "outputs": [],
   "source": [
    "Nbatch=10\n",
    "gtarget=np.eye(N)\n",
    "dtarget=2.4*np.ones((N,1))\n",
    "xtrain = np.random.rand(Nbatch, N)-0.5\n",
    "ytrain =np.zeros_like(xtrain)\n",
    "dtrain = np.zeros((Nbatch,N))\n",
    "gtrain = np.zeros((Nbatch,N,N))\n",
    "for j in range(Nbatch):\n",
    "    for i in range(N):\n",
    "        dtrain[j,i]=dtarget[i]\n",
    "        for k in range(N):\n",
    "            gtrain[j,i,k]=gtarget[i,k]"
   ]
  },
  {
   "cell_type": "markdown",
   "metadata": {},
   "source": [
    "# Build the model without the BS"
   ]
  },
  {
   "cell_type": "code",
   "execution_count": 14,
   "metadata": {},
   "outputs": [],
   "source": [
    "xin = tf.keras.layers.Input(N)\n",
    "x1, a1 = squeezer(xin)\n",
    "x0, a0 = displacer(x1,a1)\n",
    "chir, chii = vacuum(x0, a0)\n",
    "modelPC = tf.keras.Model(inputs = xin, outputs=[chir, chii])"
   ]
  },
  {
   "cell_type": "markdown",
   "metadata": {},
   "source": [
    "### Add the layer to compute the average photon number"
   ]
  },
  {
   "cell_type": "code",
   "execution_count": 15,
   "metadata": {},
   "outputs": [],
   "source": [
    "photon_counter=ps.PhotonCountingLayer(N) # define the layer\n",
    "n_out = photon_counter(chir,chii, modelPC);  # define the output tensor\n",
    "NphotonPC = tf.keras.Model(inputs = xin, outputs=n_out) # define the model with inputs and ouputs"
   ]
  },
  {
   "cell_type": "markdown",
   "metadata": {},
   "source": [
    "Compute the number of photons in each mode (the number of photons does not depend on xtrain)"
   ]
  },
  {
   "cell_type": "code",
   "execution_count": 16,
   "metadata": {},
   "outputs": [
    {
     "name": "stdout",
     "output_type": "stream",
     "text": [
      "tf.Tensor([[1.e-02 1.e+02]], shape=(1, 2), dtype=float32)\n"
     ]
    }
   ],
   "source": [
    "print(NphotonPC(xtrain)); "
   ]
  },
  {
   "cell_type": "markdown",
   "metadata": {},
   "source": [
    "Note that we have 0 photons in modes 0 and A_np^2 in mode 1"
   ]
  },
  {
   "cell_type": "markdown",
   "metadata": {},
   "source": [
    "# Build the model with the BS"
   ]
  },
  {
   "cell_type": "code",
   "execution_count": 17,
   "metadata": {},
   "outputs": [],
   "source": [
    "xin = tf.keras.layers.Input(N)\n",
    "x2, a2 = bs0(xin)\n",
    "x1, a1 = squeezer(x2,a2)\n",
    "x0, a0 = displacer(x1,a1)\n",
    "chir, chii = vacuum(x0, a0)\n",
    "BellBS = tf.keras.Model(inputs = xin, outputs=[chir, chii])"
   ]
  },
  {
   "cell_type": "markdown",
   "metadata": {},
   "source": [
    "### add the photon counter"
   ]
  },
  {
   "cell_type": "code",
   "execution_count": 18,
   "metadata": {},
   "outputs": [
    {
     "name": "stdout",
     "output_type": "stream",
     "text": [
      "tf.Tensor([[50.01 50.01]], shape=(1, 2), dtype=float32)\n"
     ]
    }
   ],
   "source": [
    "photon_counter=ps.PhotonCountingLayer(N)\n",
    "n_out = photon_counter(chir,chii, BellBS)\n",
    "Nphoton = tf.keras.Model(inputs = xin, outputs=[n_out])\n",
    "print(Nphoton(xtrain)) "
   ]
  },
  {
   "cell_type": "markdown",
   "metadata": {},
   "source": [
    "Remark : the input photons are divided in the two branchs of the interferometer"
   ]
  },
  {
   "cell_type": "markdown",
   "metadata": {},
   "source": [
    "# Define a custom layer to subtract the photon counts on the two channels"
   ]
  },
  {
   "cell_type": "code",
   "execution_count": 19,
   "metadata": {},
   "outputs": [],
   "source": [
    "@tf.function\n",
    "def differential_detector(nphoton, alpha = 1):\n",
    "    n1 = tf.slice(nphoton, [0,0], [1,1])\n",
    "    n2 = tf.slice(nphoton, [0,1], [1,1])\n",
    "    return (n2-n1)/(np.sqrt(2)*alpha)"
   ]
  },
  {
   "cell_type": "code",
   "execution_count": 20,
   "metadata": {},
   "outputs": [
    {
     "name": "stdout",
     "output_type": "stream",
     "text": [
      "tf.Tensor([[0.]], shape=(1, 1), dtype=float32)\n"
     ]
    }
   ],
   "source": [
    "print(differential_detector(Nphoton(xtrain), A_np))"
   ]
  },
  {
   "cell_type": "markdown",
   "metadata": {},
   "source": [
    "# Evaluate the uncertainties by DifferentialGaussianLayer "
   ]
  },
  {
   "cell_type": "markdown",
   "metadata": {},
   "source": []
  },
  {
   "cell_type": "code",
   "execution_count": 21,
   "metadata": {},
   "outputs": [
    {
     "name": "stdout",
     "output_type": "stream",
     "text": [
      "[<tf.Tensor: shape=(1, 2), dtype=float32, numpy=array([[50.01, 50.01]], dtype=float32)>, <tf.Tensor: shape=(2, 2), dtype=float32, numpy=\n",
      "array([[0., 0.],\n",
      "       [0., 0.]], dtype=float32)>, <tf.Tensor: shape=(2, 2), dtype=float32, numpy=\n",
      "array([[  0.  , 122.15],\n",
      "       [122.15,   0.  ]], dtype=float32)>]\n"
     ]
    }
   ],
   "source": [
    "Diff=ps.DifferentialGaussianLayer(N)\n",
    "nboson, Dn, Dn2 = Diff(chir,chii, BellBS)\n",
    "HModel = tf.keras.Model(inputs = xin, outputs=[nboson, Dn, Dn2])\n",
    "print(HModel(xtrain)) "
   ]
  },
  {
   "cell_type": "markdown",
   "metadata": {},
   "source": [
    "## Compare with the theoretical value"
   ]
  },
  {
   "cell_type": "code",
   "execution_count": 22,
   "metadata": {},
   "outputs": [],
   "source": [
    "x2theory= (A_np**2)*(np.exp(-2*ra)*(np.cos(lambda_np-0.5*phia))**2+np.exp(2*ra)*(np.sin(lambda_np-0.5*phia))**2)"
   ]
  },
  {
   "cell_type": "code",
   "execution_count": 23,
   "metadata": {},
   "outputs": [
    {
     "name": "stdout",
     "output_type": "stream",
     "text": [
      "122.14027581601698\n"
     ]
    }
   ],
   "source": [
    "print(x2theory)"
   ]
  },
  {
   "cell_type": "markdown",
   "metadata": {},
   "source": [
    "This is equal within numerical precision to diagonal element in Dn2"
   ]
  },
  {
   "cell_type": "markdown",
   "metadata": {},
   "source": [
    "Dx^2"
   ]
  },
  {
   "cell_type": "code",
   "execution_count": 24,
   "metadata": {},
   "outputs": [
    {
     "data": {
      "text/plain": [
       "0.6107013790800849"
      ]
     },
     "execution_count": 24,
     "metadata": {},
     "output_type": "execute_result"
    }
   ],
   "source": [
    "x2theory/(2*A_np**2)"
   ]
  },
  {
   "cell_type": "markdown",
   "metadata": {},
   "source": [
    "Smaller or larger than 0.5 if the mode is squeezed (depends on ra, the two quadrature correspond to phia=0 and phia=np.pi/2).\n",
    "The proper value of the quadrature is retrieved setting lambda=phia/2, so that lambda =0 for phia=0, and lambda =pi/4 for phia=pi/2\n",
    "For a coherent state (ra=0.0) it is equal to 0.5"
   ]
  },
  {
   "cell_type": "code",
   "execution_count": null,
   "metadata": {},
   "outputs": [],
   "source": []
  }
 ],
 "metadata": {
  "kernelspec": {
   "display_name": "Python 3 (ipykernel)",
   "language": "python",
   "name": "python3"
  },
  "language_info": {
   "codemirror_mode": {
    "name": "ipython",
    "version": 3
   },
   "file_extension": ".py",
   "mimetype": "text/x-python",
   "name": "python",
   "nbconvert_exporter": "python",
   "pygments_lexer": "ipython3",
   "version": "3.10.12"
  }
 },
 "nbformat": 4,
 "nbformat_minor": 4
}
