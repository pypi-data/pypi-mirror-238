{
 "cells": [
  {
   "cell_type": "markdown",
   "metadata": {},
   "source": [
    "# Training by using the derivative of multihead coherent state generation by pullback and a phase modulator"
   ]
  },
  {
   "cell_type": "markdown",
   "metadata": {},
   "source": [
    "Use the multihead (2-head) gates in the phase space \n",
    "to create a network that represent a coherent state,\n",
    "by starting from a Gaussian state and making a pullback\n",
    "\n",
    "Use the derivative for the training\n",
    "\n",
    "\n",
    "NOTE: remember to shut down the kernel when out of memory\n",
    "\n",
    "<img src=\"../img/phasemodulator.png\" width=\"900\" height=\"200\" />\n",
    "\n",
    "<img src=\"../img/logo_circular.png\" width=\"20\" height=\"20\" />@by claudio<br>\n",
    "\n",
    "nonlinearxwaves@gmail.com<br>\n",
    "@created 27 sep 2020<br>\n",
    "@version 15 may 2023"
   ]
  },
  {
   "cell_type": "code",
   "execution_count": 1,
   "metadata": {},
   "outputs": [
    {
     "name": "stderr",
     "output_type": "stream",
     "text": [
      "2023-05-14 11:18:09.681391: W tensorflow/stream_executor/platform/default/dso_loader.cc:64] Could not load dynamic library 'libcudart.so.11.0'; dlerror: libcudart.so.11.0: cannot open shared object file: No such file or directory\n",
      "2023-05-14 11:18:09.681414: I tensorflow/stream_executor/cuda/cudart_stub.cc:29] Ignore above cudart dlerror if you do not have a GPU set up on your machine.\n"
     ]
    }
   ],
   "source": [
    "import numpy as np\n",
    "from thqml import phasespace as ps\n",
    "from thqml.utilities import utilities\n",
    "import tensorflow as tf\n",
    "from tensorflow import keras\n",
    "import matplotlib.pyplot as plt"
   ]
  },
  {
   "cell_type": "code",
   "execution_count": 2,
   "metadata": {},
   "outputs": [],
   "source": [
    "tf_complex = tf.complex\n",
    "tf_real = tf.float32\n",
    "np_complex = complex\n",
    "np_real = np.float32"
   ]
  },
  {
   "cell_type": "markdown",
   "metadata": {},
   "source": [
    "Precision for output on the screen"
   ]
  },
  {
   "cell_type": "code",
   "execution_count": 3,
   "metadata": {},
   "outputs": [],
   "source": [
    "np.set_printoptions(precision=2)"
   ]
  },
  {
   "cell_type": "markdown",
   "metadata": {},
   "source": [
    "## Dimension"
   ]
  },
  {
   "cell_type": "code",
   "execution_count": 4,
   "metadata": {},
   "outputs": [],
   "source": [
    "N = 10"
   ]
  },
  {
   "cell_type": "markdown",
   "metadata": {},
   "source": [
    "## Build vacuum by the Gaussian state"
   ]
  },
  {
   "cell_type": "code",
   "execution_count": 5,
   "metadata": {},
   "outputs": [
    {
     "name": "stderr",
     "output_type": "stream",
     "text": [
      "2023-05-14 11:18:12.152434: W tensorflow/stream_executor/platform/default/dso_loader.cc:64] Could not load dynamic library 'libcuda.so.1'; dlerror: libcuda.so.1: cannot open shared object file: No such file or directory\n",
      "2023-05-14 11:18:12.152477: W tensorflow/stream_executor/cuda/cuda_driver.cc:269] failed call to cuInit: UNKNOWN ERROR (303)\n",
      "2023-05-14 11:18:12.152520: I tensorflow/stream_executor/cuda/cuda_diagnostics.cc:156] kernel driver does not appear to be running on this host (x1): /proc/driver/nvidia/version does not exist\n",
      "2023-05-14 11:18:12.153298: I tensorflow/core/platform/cpu_feature_guard.cc:151] This TensorFlow binary is optimized with oneAPI Deep Neural Network Library (oneDNN) to use the following CPU instructions in performance-critical operations:  AVX2 FMA\n",
      "To enable them in other operations, rebuild TensorFlow with the appropriate compiler flags.\n"
     ]
    }
   ],
   "source": [
    "vacuum = ps.VacuumLayer(N)"
   ]
  },
  {
   "cell_type": "markdown",
   "metadata": {},
   "source": [
    "## Build the pullback layer for generating the input coherent state"
   ]
  },
  {
   "cell_type": "markdown",
   "metadata": {},
   "source": [
    "### Target displacement vector \n",
    "The displacement vector is a normalized column vector"
   ]
  },
  {
   "cell_type": "code",
   "execution_count": 6,
   "metadata": {},
   "outputs": [
    {
     "name": "stdout",
     "output_type": "stream",
     "text": [
      "[[0.32 0.32 0.32 0.32 0.32 0.32 0.32 0.32 0.32 0.32]]\n"
     ]
    }
   ],
   "source": [
    "dinput = 3.0*np.ones((N,1)); \n",
    "norm = np.linalg.norm(dinput)\n",
    "dinput = dinput /norm\n",
    "print(dinput.transpose())"
   ]
  },
  {
   "cell_type": "markdown",
   "metadata": {},
   "source": [
    "Check the normalization of the dtarget"
   ]
  },
  {
   "cell_type": "code",
   "execution_count": 7,
   "metadata": {},
   "outputs": [
    {
     "name": "stdout",
     "output_type": "stream",
     "text": [
      "[[1.]]\n"
     ]
    }
   ],
   "source": [
    "print(np.dot(dinput.transpose(), dinput)) "
   ]
  },
  {
   "cell_type": "markdown",
   "metadata": {},
   "source": [
    "### Build the linear layer\n",
    "The layer is a constant layer, as no training is needed"
   ]
  },
  {
   "cell_type": "code",
   "execution_count": 8,
   "metadata": {},
   "outputs": [],
   "source": [
    "D = ps.DisplacementLayerConstant(dinput)"
   ]
  },
  {
   "cell_type": "markdown",
   "metadata": {},
   "source": [
    "## Define the layer for the complex medium\n",
    "The LinearConstantMultiHead generate by default a random medium with \n",
    "the relevant symplectic operator"
   ]
  },
  {
   "cell_type": "code",
   "execution_count": 9,
   "metadata": {},
   "outputs": [],
   "source": [
    "R = ps.RandomLayerConstant(N)"
   ]
  },
  {
   "cell_type": "markdown",
   "metadata": {},
   "source": [
    "## Define the trainable Phase Modulator layer"
   ]
  },
  {
   "cell_type": "code",
   "execution_count": 10,
   "metadata": {},
   "outputs": [],
   "source": [
    "PM_train = ps.PhaseModulatorLayer(N)"
   ]
  },
  {
   "cell_type": "markdown",
   "metadata": {},
   "source": [
    "### plot the matrix of the theta (initially random)"
   ]
  },
  {
   "cell_type": "code",
   "execution_count": 11,
   "metadata": {},
   "outputs": [
    {
     "name": "stdout",
     "output_type": "stream",
     "text": [
      "[[0.0434630327 0 0 0 0]\n",
      " [0 0.755655766 0 0 0]\n",
      " [0 0 0.253442585 0 0]\n",
      " [0 0 0 0.116642311 0]\n",
      " [0 0 0 0 0.50379163]]\n"
     ]
    }
   ],
   "source": [
    "tf.print(tf.linalg.diag(PM_train.theta))"
   ]
  },
  {
   "cell_type": "markdown",
   "metadata": {},
   "source": [
    "### plot the symplectic matrix"
   ]
  },
  {
   "cell_type": "code",
   "execution_count": 12,
   "metadata": {},
   "outputs": [
    {
     "name": "stdout",
     "output_type": "stream",
     "text": [
      "tf.Tensor(\n",
      "[[ 1.   -0.04  0.    0.    0.    0.    0.    0.    0.    0.  ]\n",
      " [ 0.04  1.    0.    0.    0.    0.    0.    0.    0.    0.  ]\n",
      " [ 0.    0.    0.73 -0.69  0.    0.    0.    0.    0.    0.  ]\n",
      " [ 0.    0.    0.69  0.73  0.    0.    0.    0.    0.    0.  ]\n",
      " [ 0.    0.    0.    0.    0.97 -0.25  0.    0.    0.    0.  ]\n",
      " [ 0.    0.    0.    0.    0.25  0.97  0.    0.    0.    0.  ]\n",
      " [ 0.    0.    0.    0.    0.    0.    0.99 -0.12  0.    0.  ]\n",
      " [ 0.    0.    0.    0.    0.    0.    0.12  0.99  0.    0.  ]\n",
      " [ 0.    0.    0.    0.    0.    0.    0.    0.    0.88 -0.48]\n",
      " [ 0.    0.    0.    0.    0.    0.    0.    0.    0.48  0.88]], shape=(10, 10), dtype=float32)\n"
     ]
    }
   ],
   "source": [
    "M, _ ,_, _ = PM_train.get_M(); print(M)"
   ]
  },
  {
   "cell_type": "markdown",
   "metadata": {},
   "source": [
    "## Define the normalized target displacement vector"
   ]
  },
  {
   "cell_type": "code",
   "execution_count": 13,
   "metadata": {},
   "outputs": [],
   "source": [
    "dtarget = np.zeros((N,1)); dtarget[0]=1.0; dtarget[1]=0.5;\n",
    "norm = np.linalg.norm(dtarget)\n",
    "dtarget = dtarget /norm"
   ]
  },
  {
   "cell_type": "markdown",
   "metadata": {},
   "source": [
    "## Connect the layers"
   ]
  },
  {
   "cell_type": "code",
   "execution_count": 14,
   "metadata": {},
   "outputs": [],
   "source": [
    "xin = tf.keras.layers.Input(N);\n",
    "x3, a3 = R(xin)\n",
    "x2, a2 = PM_train(x3,a3)\n",
    "x1, a1 = D(x2,a2)\n",
    "chir, chii = vacuum(x1, a1) \n",
    "pullback = tf.keras.Model(inputs = xin, outputs=[chir, chii])\n",
    "# Add the derivative layer\n",
    "der_layer = ps.meanRLayer(N)\n",
    "Re = der_layer(chir,chii, pullback)\n",
    "pullback_der = tf.keras.Model(inputs = xin, outputs=Re)"
   ]
  },
  {
   "cell_type": "markdown",
   "metadata": {},
   "source": [
    "### Store the M,d of the LL_complex layer for later chek"
   ]
  },
  {
   "cell_type": "code",
   "execution_count": 15,
   "metadata": {},
   "outputs": [],
   "source": [
    "M_R_tf, _=R.get_M(); M_R=M_R_tf.numpy()"
   ]
  },
  {
   "cell_type": "code",
   "execution_count": 16,
   "metadata": {},
   "outputs": [],
   "source": [
    "d_R=R.d.numpy()"
   ]
  },
  {
   "cell_type": "markdown",
   "metadata": {},
   "source": [
    "### Store the M, d of the untrained U_train layer for later check"
   ]
  },
  {
   "cell_type": "code",
   "execution_count": 17,
   "metadata": {},
   "outputs": [],
   "source": [
    "theta_untrained_PM = PM_train.theta.numpy()"
   ]
  },
  {
   "cell_type": "markdown",
   "metadata": {},
   "source": [
    "## Build the training set by using a target characteristic function"
   ]
  },
  {
   "cell_type": "markdown",
   "metadata": {},
   "source": [
    "Number of training points\n",
    "Also a single training point is enough for Gaussian state, more points improve the training"
   ]
  },
  {
   "cell_type": "code",
   "execution_count": 18,
   "metadata": {},
   "outputs": [],
   "source": [
    "Nbatch = 100"
   ]
  },
  {
   "cell_type": "markdown",
   "metadata": {},
   "source": [
    "Define the numpy function for the target characteristic function:\n",
    "    a coherent state with a target displacement\n",
    "One need a target d for any training points"
   ]
  },
  {
   "cell_type": "code",
   "execution_count": 19,
   "metadata": {},
   "outputs": [],
   "source": [
    "xtrain = np.random.rand(Nbatch, N)-0.5\n",
    "dtrain = np.zeros((Nbatch,N))\n",
    "for j in range(Nbatch):\n",
    "    for i in range(N):\n",
    "        dtrain[j,i]=dtarget[i]"
   ]
  },
  {
   "cell_type": "markdown",
   "metadata": {},
   "source": [
    "## Train the model"
   ]
  },
  {
   "cell_type": "code",
   "execution_count": 20,
   "metadata": {},
   "outputs": [],
   "source": [
    "pullback_der.compile(optimizer=tf.keras.optimizers.Adam(learning_rate=0.01),\n",
    "                loss='mean_squared_error')"
   ]
  },
  {
   "cell_type": "markdown",
   "metadata": {},
   "source": [
    "Summary of the derivative model"
   ]
  },
  {
   "cell_type": "code",
   "execution_count": 21,
   "metadata": {},
   "outputs": [
    {
     "name": "stdout",
     "output_type": "stream",
     "text": [
      "Model: \"model_1\"\n",
      "__________________________________________________________________________________________________\n",
      " Layer (type)                   Output Shape         Param #     Connected to                     \n",
      "==================================================================================================\n",
      " input_1 (InputLayer)           [(None, 10)]         0           []                               \n",
      "                                                                                                  \n",
      " random_layer (RandomLayer)     [(None, 10),         50          ['input_1[0][0]']                \n",
      "                                 (10, 1)]                                                         \n",
      "                                                                                                  \n",
      " phase_modulator_layer (PhaseMo  [(None, 10),        5           ['random_layer[0][0]',           \n",
      " dulatorLayer)                   (10, 1)]                         'random_layer[0][1]']           \n",
      "                                                                                                  \n",
      " linear_layer_constant (LinearL  [(None, 10),        0           ['phase_modulator_layer[0][0]',  \n",
      " ayerConstant)                   (10, 1)]                         'phase_modulator_layer[0][1]']  \n",
      "                                                                                                  \n",
      " gaussian_layer (GaussianLayer)  [(None, 1),         110         ['linear_layer_constant[0][0]',  \n",
      "                                 (None, 1)]                       'linear_layer_constant[0][1]']  \n",
      "                                                                                                  \n",
      " mean_r_layer (meanRLayer)      (1, 10)              0           ['gaussian_layer[0][0]',         \n",
      "                                                                  'gaussian_layer[0][1]']         \n",
      "                                                                                                  \n",
      "==================================================================================================\n",
      "Total params: 165\n",
      "Trainable params: 5\n",
      "Non-trainable params: 160\n",
      "__________________________________________________________________________________________________\n"
     ]
    }
   ],
   "source": [
    "pullback_der.summary()"
   ]
  },
  {
   "cell_type": "markdown",
   "metadata": {},
   "source": [
    "Test the call of the derivative layer"
   ]
  },
  {
   "cell_type": "code",
   "execution_count": 22,
   "metadata": {},
   "outputs": [
    {
     "data": {
      "text/plain": [
       "<tf.Tensor: shape=(1, 10), dtype=float32, numpy=\n",
       "array([[0.44, 0.11, 0.25, 0.21, 0.32, 0.15, 0.59, 0.12, 0.36, 0.28]],\n",
       "      dtype=float32)>"
      ]
     },
     "execution_count": 22,
     "metadata": {},
     "output_type": "execute_result"
    }
   ],
   "source": [
    "pullback_der(xtrain)"
   ]
  },
  {
   "cell_type": "markdown",
   "metadata": {},
   "source": [
    "## Training of the model"
   ]
  },
  {
   "cell_type": "code",
   "execution_count": 23,
   "metadata": {},
   "outputs": [
    {
     "name": "stdout",
     "output_type": "stream",
     "text": [
      "Epoch 1/100\n",
      "4/4 - 1s - loss: 0.1111 - 933ms/epoch - 233ms/step\n",
      "Epoch 2/100\n",
      "4/4 - 0s - loss: 0.1070 - 5ms/epoch - 1ms/step\n",
      "Epoch 3/100\n",
      "4/4 - 0s - loss: 0.1030 - 5ms/epoch - 1ms/step\n",
      "Epoch 4/100\n",
      "4/4 - 0s - loss: 0.0991 - 6ms/epoch - 2ms/step\n",
      "Epoch 5/100\n",
      "4/4 - 0s - loss: 0.0953 - 5ms/epoch - 1ms/step\n",
      "Epoch 6/100\n",
      "4/4 - 0s - loss: 0.0916 - 5ms/epoch - 1ms/step\n",
      "Epoch 7/100\n",
      "4/4 - 0s - loss: 0.0881 - 5ms/epoch - 1ms/step\n",
      "Epoch 8/100\n",
      "4/4 - 0s - loss: 0.0847 - 6ms/epoch - 2ms/step\n",
      "Epoch 9/100\n",
      "4/4 - 0s - loss: 0.0813 - 6ms/epoch - 1ms/step\n",
      "Epoch 10/100\n",
      "4/4 - 0s - loss: 0.0782 - 6ms/epoch - 2ms/step\n",
      "Epoch 11/100\n",
      "4/4 - 0s - loss: 0.0751 - 7ms/epoch - 2ms/step\n",
      "Epoch 12/100\n",
      "4/4 - 0s - loss: 0.0721 - 6ms/epoch - 1ms/step\n",
      "Epoch 13/100\n",
      "4/4 - 0s - loss: 0.0692 - 6ms/epoch - 2ms/step\n",
      "Epoch 14/100\n",
      "4/4 - 0s - loss: 0.0665 - 6ms/epoch - 1ms/step\n",
      "Epoch 15/100\n",
      "4/4 - 0s - loss: 0.0638 - 6ms/epoch - 1ms/step\n",
      "Epoch 16/100\n",
      "4/4 - 0s - loss: 0.0612 - 6ms/epoch - 1ms/step\n",
      "Epoch 17/100\n",
      "4/4 - 0s - loss: 0.0586 - 6ms/epoch - 1ms/step\n",
      "Epoch 18/100\n",
      "4/4 - 0s - loss: 0.0562 - 6ms/epoch - 2ms/step\n",
      "Epoch 19/100\n",
      "4/4 - 0s - loss: 0.0538 - 6ms/epoch - 1ms/step\n",
      "Epoch 20/100\n",
      "4/4 - 0s - loss: 0.0515 - 7ms/epoch - 2ms/step\n",
      "Epoch 21/100\n",
      "4/4 - 0s - loss: 0.0493 - 6ms/epoch - 1ms/step\n",
      "Epoch 22/100\n",
      "4/4 - 0s - loss: 0.0472 - 6ms/epoch - 2ms/step\n",
      "Epoch 23/100\n",
      "4/4 - 0s - loss: 0.0452 - 5ms/epoch - 1ms/step\n",
      "Epoch 24/100\n",
      "4/4 - 0s - loss: 0.0432 - 5ms/epoch - 1ms/step\n",
      "Epoch 25/100\n",
      "4/4 - 0s - loss: 0.0413 - 6ms/epoch - 1ms/step\n",
      "Epoch 26/100\n",
      "4/4 - 0s - loss: 0.0395 - 7ms/epoch - 2ms/step\n",
      "Epoch 27/100\n",
      "4/4 - 0s - loss: 0.0378 - 6ms/epoch - 1ms/step\n",
      "Epoch 28/100\n",
      "4/4 - 0s - loss: 0.0361 - 5ms/epoch - 1ms/step\n",
      "Epoch 29/100\n",
      "4/4 - 0s - loss: 0.0345 - 5ms/epoch - 1ms/step\n",
      "Epoch 30/100\n",
      "4/4 - 0s - loss: 0.0330 - 6ms/epoch - 1ms/step\n",
      "Epoch 31/100\n",
      "4/4 - 0s - loss: 0.0316 - 6ms/epoch - 1ms/step\n",
      "Epoch 32/100\n",
      "4/4 - 0s - loss: 0.0302 - 6ms/epoch - 1ms/step\n",
      "Epoch 33/100\n",
      "4/4 - 0s - loss: 0.0289 - 5ms/epoch - 1ms/step\n",
      "Epoch 34/100\n",
      "4/4 - 0s - loss: 0.0277 - 5ms/epoch - 1ms/step\n",
      "Epoch 35/100\n",
      "4/4 - 0s - loss: 0.0265 - 5ms/epoch - 1ms/step\n",
      "Epoch 36/100\n",
      "4/4 - 0s - loss: 0.0254 - 6ms/epoch - 2ms/step\n",
      "Epoch 37/100\n",
      "4/4 - 0s - loss: 0.0244 - 6ms/epoch - 2ms/step\n",
      "Epoch 38/100\n",
      "4/4 - 0s - loss: 0.0234 - 7ms/epoch - 2ms/step\n",
      "Epoch 39/100\n",
      "4/4 - 0s - loss: 0.0225 - 6ms/epoch - 2ms/step\n",
      "Epoch 40/100\n",
      "4/4 - 0s - loss: 0.0217 - 6ms/epoch - 2ms/step\n",
      "Epoch 41/100\n",
      "4/4 - 0s - loss: 0.0209 - 5ms/epoch - 1ms/step\n",
      "Epoch 42/100\n",
      "4/4 - 0s - loss: 0.0201 - 5ms/epoch - 1ms/step\n",
      "Epoch 43/100\n",
      "4/4 - 0s - loss: 0.0195 - 7ms/epoch - 2ms/step\n",
      "Epoch 44/100\n",
      "4/4 - 0s - loss: 0.0188 - 6ms/epoch - 1ms/step\n",
      "Epoch 45/100\n",
      "4/4 - 0s - loss: 0.0182 - 6ms/epoch - 2ms/step\n",
      "Epoch 46/100\n",
      "4/4 - 0s - loss: 0.0177 - 6ms/epoch - 1ms/step\n",
      "Epoch 47/100\n",
      "4/4 - 0s - loss: 0.0172 - 6ms/epoch - 2ms/step\n",
      "Epoch 48/100\n",
      "4/4 - 0s - loss: 0.0168 - 6ms/epoch - 2ms/step\n",
      "Epoch 49/100\n",
      "4/4 - 0s - loss: 0.0163 - 5ms/epoch - 1ms/step\n",
      "Epoch 50/100\n",
      "4/4 - 0s - loss: 0.0160 - 6ms/epoch - 1ms/step\n",
      "Epoch 51/100\n",
      "4/4 - 0s - loss: 0.0156 - 5ms/epoch - 1ms/step\n",
      "Epoch 52/100\n",
      "4/4 - 0s - loss: 0.0153 - 5ms/epoch - 1ms/step\n",
      "Epoch 53/100\n",
      "4/4 - 0s - loss: 0.0150 - 6ms/epoch - 2ms/step\n",
      "Epoch 54/100\n",
      "4/4 - 0s - loss: 0.0147 - 6ms/epoch - 1ms/step\n",
      "Epoch 55/100\n",
      "4/4 - 0s - loss: 0.0145 - 5ms/epoch - 1ms/step\n",
      "Epoch 56/100\n",
      "4/4 - 0s - loss: 0.0143 - 6ms/epoch - 2ms/step\n",
      "Epoch 57/100\n",
      "4/4 - 0s - loss: 0.0141 - 5ms/epoch - 1ms/step\n",
      "Epoch 58/100\n",
      "4/4 - 0s - loss: 0.0139 - 5ms/epoch - 1ms/step\n",
      "Epoch 59/100\n",
      "4/4 - 0s - loss: 0.0138 - 5ms/epoch - 1ms/step\n",
      "Epoch 60/100\n",
      "4/4 - 0s - loss: 0.0136 - 5ms/epoch - 1ms/step\n",
      "Epoch 61/100\n",
      "4/4 - 0s - loss: 0.0135 - 7ms/epoch - 2ms/step\n",
      "Epoch 62/100\n",
      "4/4 - 0s - loss: 0.0134 - 7ms/epoch - 2ms/step\n",
      "Epoch 63/100\n",
      "4/4 - 0s - loss: 0.0133 - 6ms/epoch - 2ms/step\n",
      "Epoch 64/100\n",
      "4/4 - 0s - loss: 0.0132 - 7ms/epoch - 2ms/step\n",
      "Epoch 65/100\n",
      "4/4 - 0s - loss: 0.0131 - 6ms/epoch - 2ms/step\n",
      "Epoch 66/100\n",
      "4/4 - 0s - loss: 0.0131 - 7ms/epoch - 2ms/step\n",
      "Epoch 67/100\n",
      "4/4 - 0s - loss: 0.0130 - 6ms/epoch - 1ms/step\n",
      "Epoch 68/100\n",
      "4/4 - 0s - loss: 0.0130 - 6ms/epoch - 2ms/step\n",
      "Epoch 69/100\n",
      "4/4 - 0s - loss: 0.0129 - 6ms/epoch - 1ms/step\n",
      "Epoch 70/100\n",
      "4/4 - 0s - loss: 0.0129 - 7ms/epoch - 2ms/step\n",
      "Epoch 71/100\n",
      "4/4 - 0s - loss: 0.0128 - 6ms/epoch - 2ms/step\n",
      "Epoch 72/100\n",
      "4/4 - 0s - loss: 0.0128 - 6ms/epoch - 1ms/step\n",
      "Epoch 73/100\n",
      "4/4 - 0s - loss: 0.0128 - 6ms/epoch - 2ms/step\n",
      "Epoch 74/100\n",
      "4/4 - 0s - loss: 0.0128 - 7ms/epoch - 2ms/step\n",
      "Epoch 75/100\n",
      "4/4 - 0s - loss: 0.0127 - 7ms/epoch - 2ms/step\n",
      "Epoch 76/100\n",
      "4/4 - 0s - loss: 0.0127 - 8ms/epoch - 2ms/step\n",
      "Epoch 77/100\n",
      "4/4 - 0s - loss: 0.0127 - 7ms/epoch - 2ms/step\n",
      "Epoch 78/100\n",
      "4/4 - 0s - loss: 0.0127 - 7ms/epoch - 2ms/step\n",
      "Epoch 79/100\n",
      "4/4 - 0s - loss: 0.0127 - 6ms/epoch - 2ms/step\n",
      "Epoch 80/100\n",
      "4/4 - 0s - loss: 0.0127 - 7ms/epoch - 2ms/step\n",
      "Epoch 81/100\n",
      "4/4 - 0s - loss: 0.0127 - 6ms/epoch - 2ms/step\n",
      "Epoch 82/100\n",
      "4/4 - 0s - loss: 0.0126 - 6ms/epoch - 2ms/step\n",
      "Epoch 83/100\n",
      "4/4 - 0s - loss: 0.0126 - 7ms/epoch - 2ms/step\n",
      "Epoch 84/100\n",
      "4/4 - 0s - loss: 0.0126 - 8ms/epoch - 2ms/step\n",
      "Epoch 85/100\n",
      "4/4 - 0s - loss: 0.0126 - 7ms/epoch - 2ms/step\n",
      "Epoch 86/100\n",
      "4/4 - 0s - loss: 0.0126 - 6ms/epoch - 2ms/step\n",
      "Epoch 87/100\n",
      "4/4 - 0s - loss: 0.0126 - 7ms/epoch - 2ms/step\n",
      "Epoch 88/100\n",
      "4/4 - 0s - loss: 0.0126 - 6ms/epoch - 1ms/step\n",
      "Epoch 89/100\n",
      "4/4 - 0s - loss: 0.0126 - 7ms/epoch - 2ms/step\n",
      "Epoch 90/100\n",
      "4/4 - 0s - loss: 0.0126 - 6ms/epoch - 2ms/step\n",
      "Epoch 91/100\n",
      "4/4 - 0s - loss: 0.0126 - 8ms/epoch - 2ms/step\n",
      "Epoch 92/100\n",
      "4/4 - 0s - loss: 0.0126 - 6ms/epoch - 2ms/step\n",
      "Epoch 93/100\n",
      "4/4 - 0s - loss: 0.0126 - 7ms/epoch - 2ms/step\n",
      "Epoch 94/100\n",
      "4/4 - 0s - loss: 0.0126 - 7ms/epoch - 2ms/step\n",
      "Epoch 95/100\n",
      "4/4 - 0s - loss: 0.0126 - 6ms/epoch - 2ms/step\n",
      "Epoch 96/100\n",
      "4/4 - 0s - loss: 0.0126 - 8ms/epoch - 2ms/step\n",
      "Epoch 97/100\n",
      "4/4 - 0s - loss: 0.0126 - 6ms/epoch - 2ms/step\n",
      "Epoch 98/100\n",
      "4/4 - 0s - loss: 0.0126 - 6ms/epoch - 1ms/step\n",
      "Epoch 99/100\n",
      "4/4 - 0s - loss: 0.0126 - 7ms/epoch - 2ms/step\n",
      "Epoch 100/100\n",
      "4/4 - 0s - loss: 0.0126 - 5ms/epoch - 1ms/step\n"
     ]
    }
   ],
   "source": [
    "history = pullback_der.fit(x=xtrain,\n",
    "                      y=dtrain,\n",
    "                      epochs=100,\n",
    "                      verbose=2)"
   ]
  },
  {
   "cell_type": "code",
   "execution_count": 24,
   "metadata": {},
   "outputs": [
    {
     "data": {
      "image/png": "[encoded data removed]",
      "text/plain": [
       "<Figure size 432x288 with 1 Axes>"
      ]
     },
     "metadata": {
      "needs_background": "light"
     },
     "output_type": "display_data"
    }
   ],
   "source": [
    "# %%\n",
    "# %matplotlib inline\n",
    "# Plot training & validation accuracy values\n",
    "f1 = plt.figure\n",
    "plt.subplot(2, 1, 1)\n",
    "plt.plot(history.history['loss'])\n",
    "plt.ylabel('Error')\n",
    "plt.xlabel('Epoch')\n",
    "plt.ylim(0,0.12)\n",
    "plt.savefig('training_PM.pdf', bbox_inches='tight')"
   ]
  },
  {
   "cell_type": "markdown",
   "metadata": {},
   "source": [
    "## Test the derivative of the model\n",
    "Evaluate the expectation value of the displacement as derivative of the characterisc function"
   ]
  },
  {
   "cell_type": "code",
   "execution_count": 25,
   "metadata": {},
   "outputs": [],
   "source": [
    "x = tf.Variable(np.zeros((1,N)), dtype=tf_real) # the derivative are evaluated at x=0\n",
    "with tf.GradientTape(persistent=True) as tape:\n",
    "    tape.watch(x)\n",
    "    chir, chii = pullback(x)"
   ]
  },
  {
   "cell_type": "code",
   "execution_count": 26,
   "metadata": {},
   "outputs": [
    {
     "name": "stdout",
     "output_type": "stream",
     "text": [
      "tf.Tensor([[0. 0. 0. 0. 0. 0. 0. 0. 0. 0.]], shape=(1, 10), dtype=float32)\n"
     ]
    }
   ],
   "source": [
    "print(tape.gradient(chir,x))"
   ]
  },
  {
   "cell_type": "code",
   "execution_count": 27,
   "metadata": {},
   "outputs": [
    {
     "name": "stdout",
     "output_type": "stream",
     "text": [
      "tf.Tensor([[ 0.84  0.42 -0.11 -0.04  0.09 -0.22  0.07  0.05 -0.08 -0.19]], shape=(1, 10), dtype=float32)\n"
     ]
    }
   ],
   "source": [
    "print(tape.gradient(chii,x))"
   ]
  },
  {
   "cell_type": "markdown",
   "metadata": {},
   "source": [
    "Use the derivative function for the derivative"
   ]
  },
  {
   "cell_type": "markdown",
   "metadata": {},
   "source": [
    "Use the derivative model"
   ]
  },
  {
   "cell_type": "code",
   "execution_count": 28,
   "metadata": {},
   "outputs": [
    {
     "data": {
      "text/plain": [
       "<tf.Tensor: shape=(1, 10), dtype=float32, numpy=\n",
       "array([[ 0.84,  0.42, -0.11, -0.04,  0.09, -0.22,  0.07,  0.05, -0.08,\n",
       "        -0.19]], dtype=float32)>"
      ]
     },
     "execution_count": 28,
     "metadata": {},
     "output_type": "execute_result"
    }
   ],
   "source": [
    "pullback_der(xtrain)"
   ]
  },
  {
   "cell_type": "markdown",
   "metadata": {},
   "source": [
    "## Plot the model"
   ]
  },
  {
   "cell_type": "code",
   "execution_count": 29,
   "metadata": {},
   "outputs": [
    {
     "data": {
      "image/png": "[encoded data removed]",
      "text/plain": [
       "<IPython.core.display.Image object>"
      ]
     },
     "execution_count": 29,
     "metadata": {},
     "output_type": "execute_result"
    }
   ],
   "source": [
    "dot_img_file = 'PhaseModulator.png'\n",
    "tf.keras.utils.plot_model(pullback, to_file=dot_img_file, show_shapes=True)"
   ]
  },
  {
   "cell_type": "markdown",
   "metadata": {},
   "source": [
    "## Check the weights of the layers"
   ]
  },
  {
   "cell_type": "markdown",
   "metadata": {},
   "source": [
    "### d and M of the complex layer LL_complex (these are unchanged)"
   ]
  },
  {
   "cell_type": "code",
   "execution_count": 30,
   "metadata": {},
   "outputs": [
    {
     "name": "stdout",
     "output_type": "stream",
     "text": [
      "[[0. 0. 0. 0. 0. 0. 0. 0. 0. 0.]]\n"
     ]
    }
   ],
   "source": [
    "print(R.d.numpy().transpose())"
   ]
  },
  {
   "cell_type": "code",
   "execution_count": 31,
   "metadata": {},
   "outputs": [
    {
     "name": "stdout",
     "output_type": "stream",
     "text": [
      "[[0. 0. 0. 0. 0. 0. 0. 0. 0. 0.]]\n"
     ]
    }
   ],
   "source": [
    "print(d_R.transpose())"
   ]
  },
  {
   "cell_type": "code",
   "execution_count": 32,
   "metadata": {},
   "outputs": [
    {
     "name": "stdout",
     "output_type": "stream",
     "text": [
      "[[ 0.37  0.17  0.39  0.29 -0.26  0.61  0.31 -0.17 -0.15 -0.12]\n",
      " [-0.17  0.37 -0.29  0.39 -0.61 -0.26  0.17  0.31  0.12 -0.15]\n",
      " [-0.41  0.11  0.55 -0.12 -0.02 -0.07  0.38  0.17  0.23  0.52]\n",
      " [-0.11 -0.41  0.12  0.55  0.07 -0.02 -0.17  0.38 -0.52  0.23]\n",
      " [-0.39  0.06 -0.22  0.4   0.57  0.29  0.27 -0.    0.28 -0.26]\n",
      " [-0.06 -0.39 -0.4  -0.22 -0.29  0.57  0.    0.27  0.26  0.28]\n",
      " [ 0.54  0.19 -0.34 -0.02  0.31 -0.15  0.47  0.25 -0.13  0.37]\n",
      " [-0.19  0.54  0.02 -0.34  0.15  0.31 -0.25  0.47 -0.37 -0.13]\n",
      " [ 0.4   0.07  0.27  0.21  0.15 -0.01 -0.43  0.4   0.59 -0.01]\n",
      " [-0.07  0.4  -0.21  0.27  0.01  0.15 -0.4  -0.43  0.01  0.59]]\n"
     ]
    }
   ],
   "source": [
    "M, _=R.get_M(); print(M.numpy())"
   ]
  },
  {
   "cell_type": "code",
   "execution_count": 33,
   "metadata": {},
   "outputs": [
    {
     "name": "stdout",
     "output_type": "stream",
     "text": [
      "[[ 0.37  0.17  0.39  0.29 -0.26  0.61  0.31 -0.17 -0.15 -0.12]\n",
      " [-0.17  0.37 -0.29  0.39 -0.61 -0.26  0.17  0.31  0.12 -0.15]\n",
      " [-0.41  0.11  0.55 -0.12 -0.02 -0.07  0.38  0.17  0.23  0.52]\n",
      " [-0.11 -0.41  0.12  0.55  0.07 -0.02 -0.17  0.38 -0.52  0.23]\n",
      " [-0.39  0.06 -0.22  0.4   0.57  0.29  0.27 -0.    0.28 -0.26]\n",
      " [-0.06 -0.39 -0.4  -0.22 -0.29  0.57  0.    0.27  0.26  0.28]\n",
      " [ 0.54  0.19 -0.34 -0.02  0.31 -0.15  0.47  0.25 -0.13  0.37]\n",
      " [-0.19  0.54  0.02 -0.34  0.15  0.31 -0.25  0.47 -0.37 -0.13]\n",
      " [ 0.4   0.07  0.27  0.21  0.15 -0.01 -0.43  0.4   0.59 -0.01]\n",
      " [-0.07  0.4  -0.21  0.27  0.01  0.15 -0.4  -0.43  0.01  0.59]]\n"
     ]
    }
   ],
   "source": [
    "print(M_R)"
   ]
  },
  {
   "cell_type": "markdown",
   "metadata": {},
   "source": [
    "### d and M of the trained layer, before and after training (they must change)"
   ]
  },
  {
   "cell_type": "code",
   "execution_count": 34,
   "metadata": {},
   "outputs": [
    {
     "data": {
      "text/plain": [
       "<tf.Variable 'Variable:0' shape=(5,) dtype=float32, numpy=array([ 0.1 ,  0.32,  1.65, -0.82,  3.49], dtype=float32)>"
      ]
     },
     "execution_count": 34,
     "metadata": {},
     "output_type": "execute_result"
    }
   ],
   "source": [
    "PM_train.theta"
   ]
  },
  {
   "cell_type": "code",
   "execution_count": 35,
   "metadata": {},
   "outputs": [
    {
     "data": {
      "text/plain": [
       "array([0.04, 0.76, 0.25, 0.12, 0.5 ], dtype=float32)"
      ]
     },
     "execution_count": 35,
     "metadata": {},
     "output_type": "execute_result"
    }
   ],
   "source": [
    "theta_untrained_PM"
   ]
  },
  {
   "cell_type": "markdown",
   "metadata": {},
   "source": [
    "# Retrieve the covariance matrix (must be a unitary matrix)"
   ]
  },
  {
   "cell_type": "code",
   "execution_count": 36,
   "metadata": {},
   "outputs": [
    {
     "name": "stdout",
     "output_type": "stream",
     "text": [
      "(<tf.Tensor: shape=(10, 10), dtype=float32, numpy=\n",
      "array([[ 1.00e+00, -5.96e-08,  5.96e-08,  9.69e-08,  1.19e-07,  1.79e-07,\n",
      "         5.22e-08,  2.98e-08, -4.47e-08, -2.98e-08],\n",
      "       [-0.00e+00,  1.00e+00, -2.24e-08,  1.19e-07, -7.45e-08,  8.94e-08,\n",
      "        -5.59e-08,  5.59e-08,  7.45e-09,  1.49e-08],\n",
      "       [ 1.49e-07, -3.73e-08,  1.00e+00,  1.49e-08,  5.22e-08,  3.73e-09,\n",
      "        -1.68e-07, -2.42e-08,  6.89e-08,  1.04e-07],\n",
      "       [ 4.47e-08,  7.08e-08,  8.38e-09,  1.00e+00, -9.31e-08,  5.40e-08,\n",
      "         3.63e-08, -9.06e-08, -9.83e-08,  6.61e-08],\n",
      "       [ 1.49e-07, -6.71e-08,  6.52e-08, -4.75e-08,  1.00e+00,  1.86e-08,\n",
      "        -3.26e-08, -6.98e-08, -1.68e-08, -0.00e+00],\n",
      "       [ 5.96e-08,  8.94e-08,  5.59e-08,  3.17e-08, -0.00e+00,  1.00e+00,\n",
      "         7.45e-08, -2.24e-08,  3.73e-09,  4.47e-08],\n",
      "       [-2.24e-08, -6.71e-08, -1.06e-07,  4.14e-08, -1.40e-08,  6.71e-08,\n",
      "         1.00e+00, -6.52e-09, -2.42e-08,  5.59e-09],\n",
      "       [-4.47e-08, -2.24e-08, -5.59e-09, -1.21e-07, -6.98e-08, -1.86e-09,\n",
      "        -1.44e-08,  1.00e+00,  1.91e-08, -6.71e-08],\n",
      "       [-2.98e-08, -0.00e+00,  3.54e-08, -7.59e-08, -6.52e-09, -0.00e+00,\n",
      "        -2.70e-08,  2.47e-08,  1.00e+00,  1.86e-09],\n",
      "       [-5.96e-08, -4.47e-08,  1.30e-07,  8.94e-08, -5.59e-08,  3.73e-08,\n",
      "         2.05e-08, -6.33e-08,  1.30e-08,  1.00e+00]], dtype=float32)>, <tf.Tensor: shape=(1, 10), dtype=float32, numpy=\n",
      "array([[ 0.84,  0.42, -0.11, -0.04,  0.09, -0.22,  0.07,  0.05, -0.08,\n",
      "        -0.19]], dtype=float32)>, <tf.Tensor: shape=(10, 10), dtype=float32, numpy=\n",
      "array([[-1.2 , -0.35,  0.1 ,  0.03, -0.08,  0.19, -0.06, -0.04,  0.07,\n",
      "         0.16],\n",
      "       [-0.35, -0.67,  0.05,  0.02, -0.04,  0.09, -0.03, -0.02,  0.03,\n",
      "         0.08],\n",
      "       [ 0.1 ,  0.05, -0.51, -0.  ,  0.01, -0.03,  0.01,  0.01, -0.01,\n",
      "        -0.02],\n",
      "       [ 0.03,  0.02, -0.  , -0.5 ,  0.  , -0.01,  0.  ,  0.  , -0.  ,\n",
      "        -0.01],\n",
      "       [-0.08, -0.04,  0.01,  0.  , -0.51,  0.02, -0.01, -0.  ,  0.01,\n",
      "         0.02],\n",
      "       [ 0.19,  0.09, -0.03, -0.01,  0.02, -0.55,  0.02,  0.01, -0.02,\n",
      "        -0.04],\n",
      "       [-0.06, -0.03,  0.01,  0.  , -0.01,  0.02, -0.51, -0.  ,  0.01,\n",
      "         0.01],\n",
      "       [-0.04, -0.02,  0.01,  0.  , -0.  ,  0.01, -0.  , -0.5 ,  0.  ,\n",
      "         0.01],\n",
      "       [ 0.07,  0.03, -0.01, -0.  ,  0.01, -0.02,  0.01,  0.  , -0.51,\n",
      "        -0.02],\n",
      "       [ 0.16,  0.08, -0.02, -0.01,  0.02, -0.04,  0.01,  0.01, -0.02,\n",
      "        -0.54]], dtype=float32)>)\n"
     ]
    }
   ],
   "source": [
    "print(ps.covariance(N)(chir, chii, pullback))"
   ]
  },
  {
   "cell_type": "code",
   "execution_count": null,
   "metadata": {},
   "outputs": [],
   "source": []
  }
 ],
 "metadata": {
  "kernelspec": {
   "display_name": "Python 3 (ipykernel)",
   "language": "python",
   "name": "python3"
  },
  "language_info": {
   "codemirror_mode": {
    "name": "ipython",
    "version": 3
   },
   "file_extension": ".py",
   "mimetype": "text/x-python",
   "name": "python",
   "nbconvert_exporter": "python",
   "pygments_lexer": "ipython3",
   "version": "3.8.13"
  }
 },
 "nbformat": 4,
 "nbformat_minor": 4
}
