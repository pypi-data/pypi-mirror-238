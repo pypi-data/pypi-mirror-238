{
 "cells": [
  {
   "cell_type": "markdown",
   "metadata": {},
   "source": [
    "# Training by using the derivative of multihead coherent state generation by pullback"
   ]
  },
  {
   "cell_type": "markdown",
   "metadata": {},
   "source": [
    "Use the multihead (2-head) gates in the phase space \n",
    "to create a network that represent a coherent state,\n",
    "by starting from a Gaussian state and making a pullback\n",
    "\n",
    "Use the derivative for the training\n",
    "\n",
    "NOTE: remember to shut down the kernel when out of memory\n",
    "\n",
    "<img src=\"../img/complexcoherentDER.png\" width=\"800\" height=\"200\" />\n",
    "\n",
    "<img src=\"../img/logo_circular.png\" width=\"20\" height=\"20\" />@by claudio<br>\n",
    "\n",
    "nonlinearxwaves@gmail.com<br>\n",
    "@created 28 july 2020<br>\n",
    "@version 15 may 2023"
   ]
  },
  {
   "cell_type": "code",
   "execution_count": 1,
   "metadata": {},
   "outputs": [
    {
     "name": "stderr",
     "output_type": "stream",
     "text": [
      "2023-05-14 11:12:51.575782: W tensorflow/stream_executor/platform/default/dso_loader.cc:64] Could not load dynamic library 'libcudart.so.11.0'; dlerror: libcudart.so.11.0: cannot open shared object file: No such file or directory\n",
      "2023-05-14 11:12:51.575806: I tensorflow/stream_executor/cuda/cudart_stub.cc:29] Ignore above cudart dlerror if you do not have a GPU set up on your machine.\n"
     ]
    }
   ],
   "source": [
    "import numpy as np\n",
    "from thqml import phasespace as ps\n",
    "from thqml.utilities import utilities\n",
    "import tensorflow as tf\n",
    "from tensorflow import keras\n",
    "import matplotlib.pyplot as plt\n",
    "from tensorflow.keras.callbacks import EarlyStopping"
   ]
  },
  {
   "cell_type": "code",
   "execution_count": 2,
   "metadata": {},
   "outputs": [],
   "source": [
    "tf_complex = tf.complex\n",
    "tf_real = tf.float32\n",
    "np_complex = complex\n",
    "np_real = np.float32"
   ]
  },
  {
   "cell_type": "markdown",
   "metadata": {},
   "source": [
    "Precision for output on the screen"
   ]
  },
  {
   "cell_type": "code",
   "execution_count": 3,
   "metadata": {},
   "outputs": [],
   "source": [
    "np.set_printoptions(precision=2)"
   ]
  },
  {
   "cell_type": "markdown",
   "metadata": {},
   "source": [
    "## Dimension"
   ]
  },
  {
   "cell_type": "code",
   "execution_count": 4,
   "metadata": {},
   "outputs": [],
   "source": [
    "N = 10"
   ]
  },
  {
   "cell_type": "markdown",
   "metadata": {},
   "source": [
    "## Build vacuum by the Gaussian state"
   ]
  },
  {
   "cell_type": "code",
   "execution_count": 5,
   "metadata": {},
   "outputs": [
    {
     "name": "stderr",
     "output_type": "stream",
     "text": [
      "2023-05-14 11:12:55.540067: W tensorflow/stream_executor/platform/default/dso_loader.cc:64] Could not load dynamic library 'libcuda.so.1'; dlerror: libcuda.so.1: cannot open shared object file: No such file or directory\n",
      "2023-05-14 11:12:55.540094: W tensorflow/stream_executor/cuda/cuda_driver.cc:269] failed call to cuInit: UNKNOWN ERROR (303)\n",
      "2023-05-14 11:12:55.540123: I tensorflow/stream_executor/cuda/cuda_diagnostics.cc:156] kernel driver does not appear to be running on this host (x1): /proc/driver/nvidia/version does not exist\n",
      "2023-05-14 11:12:55.540477: I tensorflow/core/platform/cpu_feature_guard.cc:151] This TensorFlow binary is optimized with oneAPI Deep Neural Network Library (oneDNN) to use the following CPU instructions in performance-critical operations:  AVX2 FMA\n",
      "To enable them in other operations, rebuild TensorFlow with the appropriate compiler flags.\n"
     ]
    }
   ],
   "source": [
    "vacuum = ps.VacuumLayer(N, name='Vacuum')"
   ]
  },
  {
   "cell_type": "markdown",
   "metadata": {},
   "source": [
    "## Build the pullback layer for generating the input coherent state"
   ]
  },
  {
   "cell_type": "markdown",
   "metadata": {},
   "source": [
    "### Target displacement vector (IMPORTANT THE DISPLACEMENT VECTOR MUST BE NORMALIZED!!!)\n",
    "The displacement vector is a normalized column vector"
   ]
  },
  {
   "cell_type": "code",
   "execution_count": 6,
   "metadata": {},
   "outputs": [
    {
     "name": "stdout",
     "output_type": "stream",
     "text": [
      "[[0.32 0.32 0.32 0.32 0.32 0.32 0.32 0.32 0.32 0.32]]\n"
     ]
    }
   ],
   "source": [
    "dinput = 3.0*np.ones((N,1)); \n",
    "norm = np.linalg.norm(dinput)\n",
    "dinput = dinput /norm\n",
    "print(dinput.transpose())"
   ]
  },
  {
   "cell_type": "markdown",
   "metadata": {},
   "source": [
    "Check the normalization of the dtarget"
   ]
  },
  {
   "cell_type": "code",
   "execution_count": 7,
   "metadata": {},
   "outputs": [
    {
     "name": "stdout",
     "output_type": "stream",
     "text": [
      "[[1.]]\n"
     ]
    }
   ],
   "source": [
    "print(np.dot(dinput.transpose(), dinput)) "
   ]
  },
  {
   "cell_type": "markdown",
   "metadata": {},
   "source": [
    "### Symplectic operator\n",
    "A simple identity matrix"
   ]
  },
  {
   "cell_type": "code",
   "execution_count": 8,
   "metadata": {},
   "outputs": [],
   "source": [
    "M = np.eye(N)"
   ]
  },
  {
   "cell_type": "markdown",
   "metadata": {},
   "source": [
    "### Build the linear layer\n",
    "The layer is a constant layer, as no training is needed"
   ]
  },
  {
   "cell_type": "code",
   "execution_count": 9,
   "metadata": {},
   "outputs": [],
   "source": [
    "D = ps.DisplacementLayerConstant(dinput, name='Glauber')"
   ]
  },
  {
   "cell_type": "markdown",
   "metadata": {},
   "source": [
    "## Define the layer for the complex medium\n",
    "The LinearConstantMultiHead generate by default a random medium with \n",
    "the relevant symplectic operator"
   ]
  },
  {
   "cell_type": "code",
   "execution_count": 10,
   "metadata": {},
   "outputs": [],
   "source": [
    "R = ps.RandomLayerConstant(N, name='RandomConstant')"
   ]
  },
  {
   "cell_type": "markdown",
   "metadata": {},
   "source": [
    "## Define the trainable unitary layer"
   ]
  },
  {
   "cell_type": "code",
   "execution_count": 11,
   "metadata": {},
   "outputs": [],
   "source": [
    "T = ps.RandomLayer(N, name='Trainable')"
   ]
  },
  {
   "cell_type": "markdown",
   "metadata": {},
   "source": [
    "## Define the normalize target displacement vector"
   ]
  },
  {
   "cell_type": "code",
   "execution_count": 12,
   "metadata": {},
   "outputs": [
    {
     "name": "stdout",
     "output_type": "stream",
     "text": [
      "[[1. 0. 0. 0. 0. 0. 0. 0. 0. 0.]]\n"
     ]
    }
   ],
   "source": [
    "dtarget = np.zeros((N,1)); dtarget[0]=1.0; \n",
    "norm = np.linalg.norm(dtarget)\n",
    "dtarget = dtarget /norm\n",
    "print(dtarget.transpose())"
   ]
  },
  {
   "cell_type": "markdown",
   "metadata": {},
   "source": [
    "Check the normalization"
   ]
  },
  {
   "cell_type": "code",
   "execution_count": 13,
   "metadata": {},
   "outputs": [
    {
     "name": "stdout",
     "output_type": "stream",
     "text": [
      "[[1.]]\n"
     ]
    }
   ],
   "source": [
    "print(np.dot(dtarget.transpose(), dtarget)) "
   ]
  },
  {
   "cell_type": "markdown",
   "metadata": {},
   "source": [
    "## Connect the layers"
   ]
  },
  {
   "cell_type": "markdown",
   "metadata": {},
   "source": [
    "Input layer"
   ]
  },
  {
   "cell_type": "code",
   "execution_count": 14,
   "metadata": {},
   "outputs": [],
   "source": [
    "xin = tf.keras.layers.Input(N)\n",
    "x3, a3 = R(xin)\n",
    "x2, a2 = T(x3,a3)\n",
    "x1, a1 = D(x2,a2)\n",
    "chir, chii = vacuum(x1, a1) \n",
    "pullback = tf.keras.Model(inputs = xin, outputs=[chir, chii])"
   ]
  },
  {
   "cell_type": "markdown",
   "metadata": {},
   "source": [
    "Add the derivative layer for evaluating the mean <R>"
   ]
  },
  {
   "cell_type": "code",
   "execution_count": 15,
   "metadata": {},
   "outputs": [],
   "source": [
    "der_layer = ps.meanRLayer(N, name='meanR')\n",
    "chii_x = der_layer(chir, chii, pullback)\n"
   ]
  },
  {
   "cell_type": "code",
   "execution_count": 16,
   "metadata": {},
   "outputs": [],
   "source": [
    "pullback_der = tf.keras.Model(inputs = xin, outputs=chii_x)"
   ]
  },
  {
   "cell_type": "markdown",
   "metadata": {},
   "source": [
    "### Store the M,d of the random R layer for later chek"
   ]
  },
  {
   "cell_type": "code",
   "execution_count": 17,
   "metadata": {},
   "outputs": [],
   "source": [
    "M_R_tf, _=R.get_M(); M_R=M_R_tf.numpy()"
   ]
  },
  {
   "cell_type": "code",
   "execution_count": 18,
   "metadata": {},
   "outputs": [],
   "source": [
    "d_R=R.d.numpy()"
   ]
  },
  {
   "cell_type": "markdown",
   "metadata": {},
   "source": [
    "### Store the M, d of the untrained U_train layer for later check"
   ]
  },
  {
   "cell_type": "code",
   "execution_count": 19,
   "metadata": {},
   "outputs": [],
   "source": [
    "WR_untrained_T = T.WR.numpy()"
   ]
  },
  {
   "cell_type": "code",
   "execution_count": 20,
   "metadata": {},
   "outputs": [],
   "source": [
    "WI_untrained_T = T.WI.numpy()"
   ]
  },
  {
   "cell_type": "code",
   "execution_count": 21,
   "metadata": {},
   "outputs": [],
   "source": [
    "M_untrained_T, MI_untrained_T = T.get_M()"
   ]
  },
  {
   "cell_type": "markdown",
   "metadata": {},
   "source": [
    "### Auxiliary staff"
   ]
  },
  {
   "cell_type": "code",
   "execution_count": 22,
   "metadata": {},
   "outputs": [],
   "source": [
    "x0 = tf.constant(np.zeros((1,N)))\n",
    "with tf.GradientTape() as tape:\n",
    "    tape.watch(x0)\n",
    "    cr, ci = pullback(x0)\n",
    "    chii_x = tape.gradient(ci, x0)"
   ]
  },
  {
   "cell_type": "code",
   "execution_count": 23,
   "metadata": {},
   "outputs": [],
   "source": [
    "@tf.function\n",
    "def derivative(yr):\n",
    "    x = tf.constant(np.zeros((1,N)))\n",
    "    with tf.GradientTape() as tape:\n",
    "        tape.watch(x)\n",
    "        cr, ci = pullback(x)\n",
    "        chii_x = tape.gradient(ci, x)\n",
    "    return chii_x"
   ]
  },
  {
   "cell_type": "markdown",
   "metadata": {},
   "source": [
    "## Build the training, and train by the targed expected value"
   ]
  },
  {
   "cell_type": "markdown",
   "metadata": {},
   "source": [
    "Number of training points\n",
    "Also a single training point is enough for Gaussian state, more points improve the training"
   ]
  },
  {
   "cell_type": "code",
   "execution_count": 24,
   "metadata": {},
   "outputs": [],
   "source": [
    "Nbatch = 1"
   ]
  },
  {
   "cell_type": "markdown",
   "metadata": {},
   "source": [
    "Define the numpy function for the target characteristic function:\n",
    "    a coherent state with a target mean observable\n",
    "One need a target R (shape (Nbatch,N)) for any training point"
   ]
  },
  {
   "cell_type": "markdown",
   "metadata": {},
   "source": [
    "Remark: d has shape (N,1) and R has shape (1,N)"
   ]
  },
  {
   "cell_type": "code",
   "execution_count": 25,
   "metadata": {},
   "outputs": [],
   "source": [
    "xtrain = np.random.rand(Nbatch, N)-0.5\n",
    "Rtrain = np.zeros((Nbatch,N))\n",
    "for j in range(Nbatch):\n",
    "    for i in range(N):\n",
    "        Rtrain[j,i]=dtarget[i]"
   ]
  },
  {
   "cell_type": "markdown",
   "metadata": {},
   "source": [
    "## Train the model"
   ]
  },
  {
   "cell_type": "code",
   "execution_count": 26,
   "metadata": {},
   "outputs": [],
   "source": [
    "pullback_der.compile(optimizer=tf.keras.optimizers.Adam(learning_rate=0.01),\n",
    "                loss='mean_squared_error')"
   ]
  },
  {
   "cell_type": "markdown",
   "metadata": {},
   "source": [
    "Summary of the derivative model"
   ]
  },
  {
   "cell_type": "code",
   "execution_count": 27,
   "metadata": {},
   "outputs": [
    {
     "name": "stdout",
     "output_type": "stream",
     "text": [
      "Model: \"model_1\"\n",
      "__________________________________________________________________________________________________\n",
      " Layer (type)                   Output Shape         Param #     Connected to                     \n",
      "==================================================================================================\n",
      " input_1 (InputLayer)           [(None, 10)]         0           []                               \n",
      "                                                                                                  \n",
      " RandomConstant (RandomLayer)   [(None, 10),         50          ['input_1[0][0]']                \n",
      "                                 (10, 1)]                                                         \n",
      "                                                                                                  \n",
      " Trainable (RandomLayer)        [(None, 10),         50          ['RandomConstant[0][0]',         \n",
      "                                 (10, 1)]                         'RandomConstant[0][1]']         \n",
      "                                                                                                  \n",
      " Glauber (LinearLayerConstant)  [(None, 10),         0           ['Trainable[0][0]',              \n",
      "                                 (10, 1)]                         'Trainable[0][1]']              \n",
      "                                                                                                  \n",
      " Vacuum (GaussianLayer)         [(None, 1),          110         ['Glauber[0][0]',                \n",
      "                                 (None, 1)]                       'Glauber[0][1]']                \n",
      "                                                                                                  \n",
      " meanR (meanRLayer)             (1, 10)              0           ['Vacuum[0][0]',                 \n",
      "                                                                  'Vacuum[0][1]']                 \n",
      "                                                                                                  \n",
      "==================================================================================================\n",
      "Total params: 210\n",
      "Trainable params: 50\n",
      "Non-trainable params: 160\n",
      "__________________________________________________________________________________________________\n"
     ]
    }
   ],
   "source": [
    "pullback_der.summary()"
   ]
  },
  {
   "cell_type": "markdown",
   "metadata": {},
   "source": [
    "Test the call of the derivative layer"
   ]
  },
  {
   "cell_type": "code",
   "execution_count": 28,
   "metadata": {},
   "outputs": [
    {
     "data": {
      "text/plain": [
       "<tf.Tensor: shape=(1, 10), dtype=float32, numpy=\n",
       "array([[-0.16, -0.08,  0.31, -0.33, -0.  , -0.62,  0.16, -0.46, -0.22,\n",
       "        -0.31]], dtype=float32)>"
      ]
     },
     "execution_count": 28,
     "metadata": {},
     "output_type": "execute_result"
    }
   ],
   "source": [
    "pullback_der(xtrain)"
   ]
  },
  {
   "cell_type": "markdown",
   "metadata": {},
   "source": [
    "## Training of the model"
   ]
  },
  {
   "cell_type": "code",
   "execution_count": 29,
   "metadata": {},
   "outputs": [
    {
     "name": "stdout",
     "output_type": "stream",
     "text": [
      "Epoch 1/200\n",
      "1/1 [==============================] - 2s 2s/step - loss: 0.2314\n",
      "Epoch 2/200\n",
      "1/1 [==============================] - 0s 6ms/step - loss: 0.2258\n",
      "Epoch 3/200\n",
      "1/1 [==============================] - 0s 5ms/step - loss: 0.2203\n",
      "Epoch 4/200\n",
      "1/1 [==============================] - 0s 4ms/step - loss: 0.2149\n",
      "Epoch 5/200\n",
      "1/1 [==============================] - 0s 3ms/step - loss: 0.2096\n",
      "Epoch 6/200\n",
      "1/1 [==============================] - 0s 4ms/step - loss: 0.2044\n",
      "Epoch 7/200\n",
      "1/1 [==============================] - 0s 3ms/step - loss: 0.1994\n",
      "Epoch 8/200\n",
      "1/1 [==============================] - 0s 4ms/step - loss: 0.1945\n",
      "Epoch 9/200\n",
      "1/1 [==============================] - 0s 4ms/step - loss: 0.1897\n",
      "Epoch 10/200\n",
      "1/1 [==============================] - 0s 4ms/step - loss: 0.1851\n",
      "Epoch 11/200\n",
      "1/1 [==============================] - 0s 4ms/step - loss: 0.1805\n",
      "Epoch 12/200\n",
      "1/1 [==============================] - 0s 4ms/step - loss: 0.1760\n",
      "Epoch 13/200\n",
      "1/1 [==============================] - 0s 4ms/step - loss: 0.1715\n",
      "Epoch 14/200\n",
      "1/1 [==============================] - 0s 4ms/step - loss: 0.1671\n",
      "Epoch 15/200\n",
      "1/1 [==============================] - 0s 4ms/step - loss: 0.1628\n",
      "Epoch 16/200\n",
      "1/1 [==============================] - 0s 4ms/step - loss: 0.1585\n",
      "Epoch 17/200\n",
      "1/1 [==============================] - 0s 4ms/step - loss: 0.1542\n",
      "Epoch 18/200\n",
      "1/1 [==============================] - 0s 4ms/step - loss: 0.1501\n",
      "Epoch 19/200\n",
      "1/1 [==============================] - 0s 3ms/step - loss: 0.1461\n",
      "Epoch 20/200\n",
      "1/1 [==============================] - 0s 4ms/step - loss: 0.1423\n",
      "Epoch 21/200\n",
      "1/1 [==============================] - 0s 3ms/step - loss: 0.1385\n",
      "Epoch 22/200\n",
      "1/1 [==============================] - 0s 3ms/step - loss: 0.1350\n",
      "Epoch 23/200\n",
      "1/1 [==============================] - 0s 4ms/step - loss: 0.1316\n",
      "Epoch 24/200\n",
      "1/1 [==============================] - 0s 3ms/step - loss: 0.1285\n",
      "Epoch 25/200\n",
      "1/1 [==============================] - 0s 3ms/step - loss: 0.1254\n",
      "Epoch 26/200\n",
      "1/1 [==============================] - 0s 4ms/step - loss: 0.1226\n",
      "Epoch 27/200\n",
      "1/1 [==============================] - 0s 4ms/step - loss: 0.1199\n",
      "Epoch 28/200\n",
      "1/1 [==============================] - 0s 4ms/step - loss: 0.1174\n",
      "Epoch 29/200\n",
      "1/1 [==============================] - 0s 3ms/step - loss: 0.1150\n",
      "Epoch 30/200\n",
      "1/1 [==============================] - 0s 4ms/step - loss: 0.1127\n",
      "Epoch 31/200\n",
      "1/1 [==============================] - 0s 3ms/step - loss: 0.1106\n",
      "Epoch 32/200\n",
      "1/1 [==============================] - 0s 3ms/step - loss: 0.1086\n",
      "Epoch 33/200\n",
      "1/1 [==============================] - 0s 4ms/step - loss: 0.1067\n",
      "Epoch 34/200\n",
      "1/1 [==============================] - 0s 3ms/step - loss: 0.1048\n",
      "Epoch 35/200\n",
      "1/1 [==============================] - 0s 4ms/step - loss: 0.1031\n",
      "Epoch 36/200\n",
      "1/1 [==============================] - 0s 5ms/step - loss: 0.1013\n",
      "Epoch 37/200\n",
      "1/1 [==============================] - 0s 3ms/step - loss: 0.0996\n",
      "Epoch 38/200\n",
      "1/1 [==============================] - 0s 3ms/step - loss: 0.0980\n",
      "Epoch 39/200\n",
      "1/1 [==============================] - 0s 4ms/step - loss: 0.0963\n",
      "Epoch 40/200\n",
      "1/1 [==============================] - 0s 4ms/step - loss: 0.0947\n",
      "Epoch 41/200\n",
      "1/1 [==============================] - 0s 4ms/step - loss: 0.0930\n",
      "Epoch 42/200\n",
      "1/1 [==============================] - 0s 3ms/step - loss: 0.0914\n",
      "Epoch 43/200\n",
      "1/1 [==============================] - 0s 5ms/step - loss: 0.0897\n",
      "Epoch 44/200\n",
      "1/1 [==============================] - 0s 4ms/step - loss: 0.0880\n",
      "Epoch 45/200\n",
      "1/1 [==============================] - 0s 4ms/step - loss: 0.0863\n",
      "Epoch 46/200\n",
      "1/1 [==============================] - 0s 4ms/step - loss: 0.0845\n",
      "Epoch 47/200\n",
      "1/1 [==============================] - 0s 4ms/step - loss: 0.0827\n",
      "Epoch 48/200\n",
      "1/1 [==============================] - 0s 3ms/step - loss: 0.0809\n",
      "Epoch 49/200\n",
      "1/1 [==============================] - 0s 3ms/step - loss: 0.0790\n",
      "Epoch 50/200\n",
      "1/1 [==============================] - 0s 3ms/step - loss: 0.0770\n",
      "Epoch 51/200\n",
      "1/1 [==============================] - 0s 3ms/step - loss: 0.0750\n",
      "Epoch 52/200\n",
      "1/1 [==============================] - 0s 3ms/step - loss: 0.0729\n",
      "Epoch 53/200\n",
      "1/1 [==============================] - 0s 3ms/step - loss: 0.0708\n",
      "Epoch 54/200\n",
      "1/1 [==============================] - 0s 4ms/step - loss: 0.0686\n",
      "Epoch 55/200\n",
      "1/1 [==============================] - 0s 3ms/step - loss: 0.0664\n",
      "Epoch 56/200\n",
      "1/1 [==============================] - 0s 4ms/step - loss: 0.0641\n",
      "Epoch 57/200\n",
      "1/1 [==============================] - 0s 3ms/step - loss: 0.0618\n",
      "Epoch 58/200\n",
      "1/1 [==============================] - 0s 3ms/step - loss: 0.0594\n",
      "Epoch 59/200\n",
      "1/1 [==============================] - 0s 4ms/step - loss: 0.0570\n",
      "Epoch 60/200\n",
      "1/1 [==============================] - 0s 4ms/step - loss: 0.0546\n",
      "Epoch 61/200\n",
      "1/1 [==============================] - 0s 4ms/step - loss: 0.0522\n",
      "Epoch 62/200\n",
      "1/1 [==============================] - 0s 3ms/step - loss: 0.0497\n",
      "Epoch 63/200\n",
      "1/1 [==============================] - 0s 3ms/step - loss: 0.0473\n",
      "Epoch 64/200\n",
      "1/1 [==============================] - 0s 3ms/step - loss: 0.0448\n",
      "Epoch 65/200\n",
      "1/1 [==============================] - 0s 3ms/step - loss: 0.0424\n",
      "Epoch 66/200\n",
      "1/1 [==============================] - 0s 4ms/step - loss: 0.0400\n",
      "Epoch 67/200\n",
      "1/1 [==============================] - 0s 4ms/step - loss: 0.0377\n",
      "Epoch 68/200\n",
      "1/1 [==============================] - 0s 4ms/step - loss: 0.0354\n",
      "Epoch 69/200\n",
      "1/1 [==============================] - 0s 4ms/step - loss: 0.0331\n",
      "Epoch 70/200\n",
      "1/1 [==============================] - 0s 3ms/step - loss: 0.0309\n",
      "Epoch 71/200\n",
      "1/1 [==============================] - 0s 4ms/step - loss: 0.0288\n",
      "Epoch 72/200\n",
      "1/1 [==============================] - 0s 5ms/step - loss: 0.0268\n",
      "Epoch 73/200\n",
      "1/1 [==============================] - 0s 4ms/step - loss: 0.0248\n",
      "Epoch 74/200\n",
      "1/1 [==============================] - 0s 5ms/step - loss: 0.0229\n",
      "Epoch 75/200\n",
      "1/1 [==============================] - 0s 4ms/step - loss: 0.0211\n",
      "Epoch 76/200\n",
      "1/1 [==============================] - 0s 4ms/step - loss: 0.0194\n",
      "Epoch 77/200\n",
      "1/1 [==============================] - 0s 4ms/step - loss: 0.0178\n",
      "Epoch 78/200\n",
      "1/1 [==============================] - 0s 4ms/step - loss: 0.0162\n",
      "Epoch 79/200\n",
      "1/1 [==============================] - 0s 3ms/step - loss: 0.0148\n",
      "Epoch 80/200\n",
      "1/1 [==============================] - 0s 4ms/step - loss: 0.0135\n",
      "Epoch 81/200\n",
      "1/1 [==============================] - 0s 3ms/step - loss: 0.0122\n",
      "Epoch 82/200\n",
      "1/1 [==============================] - 0s 4ms/step - loss: 0.0111\n",
      "Epoch 83/200\n",
      "1/1 [==============================] - 0s 4ms/step - loss: 0.0100\n",
      "Epoch 84/200\n",
      "1/1 [==============================] - 0s 3ms/step - loss: 0.0090\n",
      "Epoch 85/200\n",
      "1/1 [==============================] - 0s 3ms/step - loss: 0.0081\n",
      "Epoch 86/200\n",
      "1/1 [==============================] - 0s 5ms/step - loss: 0.0072\n",
      "Epoch 87/200\n",
      "1/1 [==============================] - 0s 4ms/step - loss: 0.0064\n",
      "Epoch 88/200\n",
      "1/1 [==============================] - 0s 4ms/step - loss: 0.0057\n",
      "Epoch 89/200\n",
      "1/1 [==============================] - 0s 4ms/step - loss: 0.0051\n",
      "Epoch 90/200\n",
      "1/1 [==============================] - 0s 3ms/step - loss: 0.0045\n",
      "Epoch 91/200\n",
      "1/1 [==============================] - 0s 3ms/step - loss: 0.0040\n",
      "Epoch 92/200\n",
      "1/1 [==============================] - 0s 3ms/step - loss: 0.0035\n",
      "Epoch 93/200\n",
      "1/1 [==============================] - 0s 3ms/step - loss: 0.0030\n",
      "Epoch 94/200\n",
      "1/1 [==============================] - 0s 3ms/step - loss: 0.0026\n",
      "Epoch 95/200\n",
      "1/1 [==============================] - 0s 3ms/step - loss: 0.0023\n",
      "Epoch 96/200\n",
      "1/1 [==============================] - 0s 4ms/step - loss: 0.0019\n",
      "Epoch 97/200\n",
      "1/1 [==============================] - 0s 4ms/step - loss: 0.0016\n",
      "Epoch 98/200\n",
      "1/1 [==============================] - 0s 4ms/step - loss: 0.0014\n",
      "Epoch 99/200\n",
      "1/1 [==============================] - 0s 3ms/step - loss: 0.0012\n",
      "Epoch 100/200\n",
      "1/1 [==============================] - 0s 3ms/step - loss: 9.7402e-04\n",
      "Epoch 101/200\n",
      "1/1 [==============================] - 0s 3ms/step - loss: 8.0395e-04\n",
      "Epoch 102/200\n",
      "1/1 [==============================] - 0s 3ms/step - loss: 6.5736e-04\n",
      "Epoch 103/200\n",
      "1/1 [==============================] - 0s 3ms/step - loss: 5.3197e-04\n",
      "Epoch 104/200\n",
      "1/1 [==============================] - 0s 3ms/step - loss: 4.2562e-04\n",
      "Epoch 105/200\n",
      "1/1 [==============================] - 0s 3ms/step - loss: 3.3619e-04\n",
      "Epoch 106/200\n",
      "1/1 [==============================] - 0s 4ms/step - loss: 2.6170e-04\n",
      "Epoch 107/200\n",
      "1/1 [==============================] - 0s 5ms/step - loss: 2.0030e-04\n",
      "Epoch 108/200\n",
      "1/1 [==============================] - 0s 3ms/step - loss: 1.5027e-04\n",
      "Epoch 109/200\n",
      "1/1 [==============================] - 0s 4ms/step - loss: 1.1007e-04\n",
      "Epoch 110/200\n",
      "1/1 [==============================] - 0s 4ms/step - loss: 7.8276e-05\n",
      "Epoch 111/200\n",
      "1/1 [==============================] - 0s 4ms/step - loss: 5.3641e-05\n",
      "Epoch 112/200\n",
      "1/1 [==============================] - 0s 3ms/step - loss: 3.5044e-05\n",
      "Epoch 113/200\n",
      "1/1 [==============================] - 0s 3ms/step - loss: 2.1491e-05\n",
      "Epoch 114/200\n",
      "1/1 [==============================] - 0s 3ms/step - loss: 1.2105e-05\n",
      "Epoch 115/200\n",
      "1/1 [==============================] - 0s 3ms/step - loss: 6.1088e-06\n",
      "Epoch 116/200\n",
      "1/1 [==============================] - 0s 3ms/step - loss: 2.8201e-06\n",
      "Epoch 117/200\n",
      "1/1 [==============================] - 0s 4ms/step - loss: 1.6389e-06\n",
      "Epoch 118/200\n",
      "1/1 [==============================] - 0s 3ms/step - loss: 2.0441e-06\n",
      "Epoch 119/200\n",
      "1/1 [==============================] - 0s 3ms/step - loss: 3.5879e-06\n",
      "Epoch 120/200\n",
      "1/1 [==============================] - 0s 4ms/step - loss: 5.8916e-06\n",
      "Epoch 121/200\n",
      "1/1 [==============================] - 0s 4ms/step - loss: 8.6430e-06\n",
      "Epoch 122/200\n",
      "1/1 [==============================] - 0s 4ms/step - loss: 1.1589e-05\n",
      "Epoch 123/200\n",
      "1/1 [==============================] - 0s 4ms/step - loss: 1.4536e-05\n",
      "Epoch 124/200\n",
      "1/1 [==============================] - 0s 4ms/step - loss: 1.7336e-05\n",
      "Epoch 125/200\n",
      "1/1 [==============================] - 0s 3ms/step - loss: 1.9887e-05\n",
      "Epoch 126/200\n",
      "1/1 [==============================] - 0s 3ms/step - loss: 2.2122e-05\n",
      "Epoch 127/200\n",
      "1/1 [==============================] - 0s 3ms/step - loss: 2.4005e-05\n",
      "Epoch 128/200\n",
      "1/1 [==============================] - 0s 4ms/step - loss: 2.5518e-05\n",
      "Epoch 129/200\n",
      "1/1 [==============================] - 0s 3ms/step - loss: 2.6663e-05\n",
      "Epoch 130/200\n",
      "1/1 [==============================] - 0s 3ms/step - loss: 2.7453e-05\n",
      "Epoch 131/200\n",
      "1/1 [==============================] - 0s 5ms/step - loss: 2.7908e-05\n",
      "Epoch 132/200\n",
      "1/1 [==============================] - 0s 4ms/step - loss: 2.8053e-05\n",
      "Epoch 133/200\n",
      "1/1 [==============================] - 0s 4ms/step - loss: 2.7918e-05\n",
      "Epoch 134/200\n",
      "1/1 [==============================] - 0s 4ms/step - loss: 2.7530e-05\n",
      "Epoch 135/200\n",
      "1/1 [==============================] - 0s 3ms/step - loss: 2.6919e-05\n",
      "Epoch 136/200\n",
      "1/1 [==============================] - 0s 3ms/step - loss: 2.6117e-05\n",
      "Epoch 137/200\n",
      "1/1 [==============================] - 0s 4ms/step - loss: 2.5151e-05\n",
      "Epoch 138/200\n",
      "1/1 [==============================] - 0s 5ms/step - loss: 2.4051e-05\n",
      "Epoch 139/200\n",
      "1/1 [==============================] - 0s 4ms/step - loss: 2.2844e-05\n",
      "Epoch 140/200\n",
      "1/1 [==============================] - 0s 4ms/step - loss: 2.1556e-05\n",
      "Epoch 141/200\n",
      "1/1 [==============================] - 0s 4ms/step - loss: 2.0213e-05\n",
      "Epoch 142/200\n",
      "1/1 [==============================] - 0s 3ms/step - loss: 1.8837e-05\n",
      "Epoch 143/200\n",
      "1/1 [==============================] - 0s 4ms/step - loss: 1.7450e-05\n",
      "Epoch 144/200\n",
      "1/1 [==============================] - 0s 3ms/step - loss: 1.6070e-05\n",
      "Epoch 145/200\n",
      "1/1 [==============================] - 0s 4ms/step - loss: 1.4713e-05\n",
      "Epoch 146/200\n",
      "1/1 [==============================] - 0s 4ms/step - loss: 1.3393e-05\n",
      "Epoch 147/200\n",
      "1/1 [==============================] - 0s 4ms/step - loss: 1.2120e-05\n",
      "Epoch 148/200\n",
      "1/1 [==============================] - 0s 5ms/step - loss: 1.0903e-05\n",
      "Epoch 149/200\n",
      "1/1 [==============================] - 0s 3ms/step - loss: 9.7488e-06\n",
      "Epoch 150/200\n",
      "1/1 [==============================] - 0s 3ms/step - loss: 8.6618e-06\n",
      "Epoch 151/200\n",
      "1/1 [==============================] - 0s 3ms/step - loss: 7.6448e-06\n",
      "Epoch 152/200\n",
      "1/1 [==============================] - 0s 3ms/step - loss: 6.6999e-06\n",
      "Epoch 153/200\n",
      "1/1 [==============================] - 0s 4ms/step - loss: 5.8283e-06\n",
      "Epoch 154/200\n",
      "1/1 [==============================] - 0s 4ms/step - loss: 5.0294e-06\n",
      "Epoch 155/200\n",
      "1/1 [==============================] - 0s 3ms/step - loss: 4.3036e-06\n",
      "Epoch 156/200\n",
      "1/1 [==============================] - 0s 3ms/step - loss: 3.6490e-06\n",
      "Epoch 157/200\n",
      "1/1 [==============================] - 0s 3ms/step - loss: 3.0636e-06\n",
      "Epoch 158/200\n",
      "1/1 [==============================] - 0s 3ms/step - loss: 2.5456e-06\n",
      "Epoch 159/200\n",
      "1/1 [==============================] - 0s 3ms/step - loss: 2.0915e-06\n",
      "Epoch 160/200\n",
      "1/1 [==============================] - 0s 3ms/step - loss: 1.6975e-06\n",
      "Epoch 161/200\n",
      "1/1 [==============================] - 0s 4ms/step - loss: 1.3599e-06\n",
      "Epoch 162/200\n",
      "1/1 [==============================] - 0s 4ms/step - loss: 1.0739e-06\n",
      "Epoch 163/200\n",
      "1/1 [==============================] - 0s 3ms/step - loss: 8.3481e-07\n",
      "Epoch 164/200\n",
      "1/1 [==============================] - 0s 3ms/step - loss: 6.3762e-07\n",
      "Epoch 165/200\n",
      "1/1 [==============================] - 0s 3ms/step - loss: 4.7744e-07\n",
      "Epoch 166/200\n",
      "1/1 [==============================] - 0s 3ms/step - loss: 3.4960e-07\n",
      "Epoch 167/200\n",
      "1/1 [==============================] - 0s 3ms/step - loss: 2.4936e-07\n",
      "Epoch 168/200\n",
      "1/1 [==============================] - 0s 3ms/step - loss: 1.7259e-07\n",
      "Epoch 169/200\n",
      "1/1 [==============================] - 0s 3ms/step - loss: 1.1537e-07\n",
      "Epoch 170/200\n",
      "1/1 [==============================] - 0s 4ms/step - loss: 7.4255e-08\n",
      "Epoch 171/200\n",
      "1/1 [==============================] - 0s 3ms/step - loss: 4.6202e-08\n",
      "Epoch 172/200\n",
      "1/1 [==============================] - 0s 4ms/step - loss: 2.8532e-08\n",
      "Epoch 173/200\n",
      "1/1 [==============================] - 0s 3ms/step - loss: 1.9023e-08\n",
      "Epoch 174/200\n",
      "1/1 [==============================] - 0s 3ms/step - loss: 1.5752e-08\n",
      "Epoch 175/200\n",
      "1/1 [==============================] - 0s 3ms/step - loss: 1.7136e-08\n",
      "Epoch 176/200\n",
      "1/1 [==============================] - 0s 2ms/step - loss: 2.1835e-08\n",
      "Epoch 177/200\n",
      "1/1 [==============================] - 0s 3ms/step - loss: 2.8776e-08\n",
      "Epoch 178/200\n",
      "1/1 [==============================] - 0s 4ms/step - loss: 3.7038e-08\n",
      "Epoch 179/200\n",
      "1/1 [==============================] - 0s 4ms/step - loss: 4.5925e-08\n",
      "Epoch 180/200\n",
      "1/1 [==============================] - 0s 3ms/step - loss: 5.4820e-08\n",
      "Epoch 181/200\n",
      "1/1 [==============================] - 0s 3ms/step - loss: 6.3321e-08\n",
      "Epoch 182/200\n",
      "1/1 [==============================] - 0s 4ms/step - loss: 7.1038e-08\n",
      "Epoch 183/200\n",
      "1/1 [==============================] - 0s 3ms/step - loss: 7.7756e-08\n",
      "Epoch 184/200\n",
      "1/1 [==============================] - 0s 3ms/step - loss: 8.3350e-08\n",
      "Epoch 185/200\n",
      "1/1 [==============================] - 0s 3ms/step - loss: 8.7733e-08\n",
      "Epoch 186/200\n",
      "1/1 [==============================] - 0s 3ms/step - loss: 9.0844e-08\n",
      "Epoch 187/200\n",
      "1/1 [==============================] - 0s 3ms/step - loss: 9.2782e-08\n",
      "Epoch 188/200\n",
      "1/1 [==============================] - 0s 3ms/step - loss: 9.3531e-08\n",
      "Epoch 189/200\n",
      "1/1 [==============================] - 0s 3ms/step - loss: 9.3231e-08\n",
      "Epoch 190/200\n",
      "1/1 [==============================] - 0s 3ms/step - loss: 9.1940e-08\n",
      "Epoch 191/200\n",
      "1/1 [==============================] - 0s 4ms/step - loss: 8.9733e-08\n",
      "Epoch 192/200\n",
      "1/1 [==============================] - 0s 3ms/step - loss: 8.6729e-08\n",
      "Epoch 193/200\n",
      "1/1 [==============================] - 0s 3ms/step - loss: 8.3042e-08\n",
      "Epoch 194/200\n",
      "1/1 [==============================] - 0s 3ms/step - loss: 7.8782e-08\n",
      "Epoch 195/200\n",
      "1/1 [==============================] - 0s 4ms/step - loss: 7.4037e-08\n",
      "Epoch 196/200\n",
      "1/1 [==============================] - 0s 3ms/step - loss: 6.8956e-08\n",
      "Epoch 197/200\n",
      "1/1 [==============================] - 0s 3ms/step - loss: 6.3632e-08\n",
      "Epoch 198/200\n",
      "1/1 [==============================] - 0s 4ms/step - loss: 5.8197e-08\n",
      "Epoch 199/200\n",
      "1/1 [==============================] - 0s 3ms/step - loss: 5.2735e-08\n",
      "Epoch 200/200\n",
      "1/1 [==============================] - 0s 3ms/step - loss: 4.7355e-08\n"
     ]
    }
   ],
   "source": [
    "history = pullback_der.fit(x=xtrain,\n",
    "                      y=Rtrain,\n",
    "                      epochs=200,\n",
    "                      verbose=1)"
   ]
  },
  {
   "cell_type": "code",
   "execution_count": 30,
   "metadata": {},
   "outputs": [
    {
     "data": {
      "image/png": "[encoded data removed]",
      "text/plain": [
       "<Figure size 432x288 with 1 Axes>"
      ]
     },
     "metadata": {
      "needs_background": "light"
     },
     "output_type": "display_data"
    }
   ],
   "source": [
    "# %%\n",
    "# %matplotlib inline\n",
    "# Plot training & validation accuracy values\n",
    "f1 = plt.figure\n",
    "plt.subplot(2, 1, 1)\n",
    "plt.plot(history.history['loss'])\n",
    "plt.ylabel('Error')\n",
    "plt.xlabel('Epoch')\n",
    "plt.savefig('training_DER.pdf', bbox_inches='tight')"
   ]
  },
  {
   "cell_type": "markdown",
   "metadata": {},
   "source": [
    "## Test the derivative of the model\n",
    "Evaluate the expectation value of the displacement as derivative of the characterisc function"
   ]
  },
  {
   "cell_type": "code",
   "execution_count": 31,
   "metadata": {},
   "outputs": [],
   "source": [
    "x = tf.Variable(np.zeros((1,N)), dtype=tf_real) # the derivative are evaluated at x=0\n",
    "with tf.GradientTape(persistent=True) as tape:\n",
    "    tape.watch(x)\n",
    "    chir, chii = pullback(x)"
   ]
  },
  {
   "cell_type": "code",
   "execution_count": 32,
   "metadata": {},
   "outputs": [
    {
     "name": "stdout",
     "output_type": "stream",
     "text": [
      "tf.Tensor([[0. 0. 0. 0. 0. 0. 0. 0. 0. 0.]], shape=(1, 10), dtype=float32)\n"
     ]
    }
   ],
   "source": [
    "print(tape.gradient(chir,x))"
   ]
  },
  {
   "cell_type": "code",
   "execution_count": 33,
   "metadata": {},
   "outputs": [
    {
     "name": "stdout",
     "output_type": "stream",
     "text": [
      "tf.Tensor(\n",
      "[[ 1.00e+00 -3.33e-05  2.20e-04  2.09e-04  4.50e-04  6.94e-05 -8.78e-05\n",
      "   2.76e-04 -1.87e-04 -5.07e-05]], shape=(1, 10), dtype=float32)\n"
     ]
    }
   ],
   "source": [
    "print(tape.gradient(chii,x))"
   ]
  },
  {
   "cell_type": "markdown",
   "metadata": {},
   "source": [
    "Use the derivative function for the derivative"
   ]
  },
  {
   "cell_type": "code",
   "execution_count": 34,
   "metadata": {},
   "outputs": [
    {
     "name": "stdout",
     "output_type": "stream",
     "text": [
      "tf.Tensor(\n",
      "[[ 1.00e+00 -3.34e-05  2.20e-04  2.09e-04  4.50e-04  6.93e-05 -8.76e-05\n",
      "   2.76e-04 -1.87e-04 -5.07e-05]], shape=(1, 10), dtype=float64)\n"
     ]
    }
   ],
   "source": [
    "print(derivative(x))"
   ]
  },
  {
   "cell_type": "markdown",
   "metadata": {},
   "source": [
    "Use the derivative model"
   ]
  },
  {
   "cell_type": "code",
   "execution_count": 35,
   "metadata": {},
   "outputs": [
    {
     "data": {
      "text/plain": [
       "<tf.Tensor: shape=(1, 10), dtype=float32, numpy=\n",
       "array([[ 1.00e+00, -3.33e-05,  2.20e-04,  2.09e-04,  4.50e-04,  6.94e-05,\n",
       "        -8.78e-05,  2.76e-04, -1.87e-04, -5.07e-05]], dtype=float32)>"
      ]
     },
     "execution_count": 35,
     "metadata": {},
     "output_type": "execute_result"
    }
   ],
   "source": [
    "pullback_der(xtrain)"
   ]
  },
  {
   "cell_type": "markdown",
   "metadata": {},
   "source": [
    "## Plot the model"
   ]
  },
  {
   "cell_type": "code",
   "execution_count": 36,
   "metadata": {},
   "outputs": [
    {
     "data": {
      "image/png": "[encoded data removed]",
      "text/plain": [
       "<IPython.core.display.Image object>"
      ]
     },
     "execution_count": 36,
     "metadata": {},
     "output_type": "execute_result"
    }
   ],
   "source": [
    "dot_img_file = 'pullback_DER.png'\n",
    "#\n",
    "tf.keras.utils.plot_model(pullback_der, to_file=dot_img_file, show_shapes=True)"
   ]
  },
  {
   "cell_type": "markdown",
   "metadata": {},
   "source": [
    "## Check the weights of the layers"
   ]
  },
  {
   "cell_type": "markdown",
   "metadata": {},
   "source": [
    "### d and M of the complex layer LL_complex (these are unchanged)"
   ]
  },
  {
   "cell_type": "code",
   "execution_count": 37,
   "metadata": {},
   "outputs": [
    {
     "name": "stdout",
     "output_type": "stream",
     "text": [
      "[[0. 0. 0. 0. 0. 0. 0. 0. 0. 0.]]\n"
     ]
    }
   ],
   "source": [
    "print(R.d.numpy().transpose())"
   ]
  },
  {
   "cell_type": "code",
   "execution_count": 38,
   "metadata": {},
   "outputs": [
    {
     "name": "stdout",
     "output_type": "stream",
     "text": [
      "[[0. 0. 0. 0. 0. 0. 0. 0. 0. 0.]]\n"
     ]
    }
   ],
   "source": [
    "print(d_R.transpose())"
   ]
  },
  {
   "cell_type": "code",
   "execution_count": 39,
   "metadata": {},
   "outputs": [
    {
     "name": "stdout",
     "output_type": "stream",
     "text": [
      "[[ 0.3  -0.47 -0.1   0.55  0.19 -0.08 -0.17  0.53 -0.19 -0.05]\n",
      " [ 0.47  0.3  -0.55 -0.1   0.08  0.19 -0.53 -0.17  0.05 -0.19]\n",
      " [ 0.41 -0.26  0.35 -0.5   0.24  0.28 -0.08  0.18  0.28  0.36]\n",
      " [ 0.26  0.41  0.5   0.35 -0.28  0.24 -0.18 -0.08 -0.36  0.28]\n",
      " [-0.39  0.32 -0.01  0.15  0.75  0.36 -0.01  0.11 -0.06  0.09]\n",
      " [-0.32 -0.39 -0.15 -0.01 -0.36  0.75 -0.11 -0.01 -0.09 -0.06]\n",
      " [ 0.24  0.37 -0.1   0.01 -0.19  0.29  0.56  0.5   0.2  -0.27]\n",
      " [-0.37  0.24 -0.01 -0.1  -0.29 -0.19 -0.5   0.56  0.27  0.2 ]\n",
      " [ 0.05 -0.01 -0.35  0.4  -0.09  0.04  0.2  -0.2   0.45  0.65]\n",
      " [ 0.01  0.05 -0.4  -0.35 -0.04 -0.09  0.2   0.2  -0.65  0.45]]\n"
     ]
    }
   ],
   "source": [
    "print(M_R)"
   ]
  },
  {
   "cell_type": "code",
   "execution_count": 40,
   "metadata": {},
   "outputs": [
    {
     "name": "stdout",
     "output_type": "stream",
     "text": [
      "tf.Tensor(\n",
      "[[ 0.3  -0.47 -0.1   0.55  0.19 -0.08 -0.17  0.53 -0.19 -0.05]\n",
      " [ 0.47  0.3  -0.55 -0.1   0.08  0.19 -0.53 -0.17  0.05 -0.19]\n",
      " [ 0.41 -0.26  0.35 -0.5   0.24  0.28 -0.08  0.18  0.28  0.36]\n",
      " [ 0.26  0.41  0.5   0.35 -0.28  0.24 -0.18 -0.08 -0.36  0.28]\n",
      " [-0.39  0.32 -0.01  0.15  0.75  0.36 -0.01  0.11 -0.06  0.09]\n",
      " [-0.32 -0.39 -0.15 -0.01 -0.36  0.75 -0.11 -0.01 -0.09 -0.06]\n",
      " [ 0.24  0.37 -0.1   0.01 -0.19  0.29  0.56  0.5   0.2  -0.27]\n",
      " [-0.37  0.24 -0.01 -0.1  -0.29 -0.19 -0.5   0.56  0.27  0.2 ]\n",
      " [ 0.05 -0.01 -0.35  0.4  -0.09  0.04  0.2  -0.2   0.45  0.65]\n",
      " [ 0.01  0.05 -0.4  -0.35 -0.04 -0.09  0.2   0.2  -0.65  0.45]], shape=(10, 10), dtype=float32)\n"
     ]
    }
   ],
   "source": [
    "M_R_final, _=R.get_M();print(M_R_final)"
   ]
  },
  {
   "cell_type": "markdown",
   "metadata": {},
   "source": [
    "### d and M of the trained layer, before and after training (they must change)"
   ]
  },
  {
   "cell_type": "code",
   "execution_count": 41,
   "metadata": {},
   "outputs": [
    {
     "data": {
      "text/plain": [
       "<tf.Variable 'Trainable/WR:0' shape=(5, 5) dtype=float32, numpy=\n",
       "array([[ 0.26,  0.88,  0.18, -0.41,  0.06],\n",
       "       [ 0.02,  1.27,  1.11,  0.23,  0.65],\n",
       "       [ 0.07,  0.96,  0.8 , -0.23, -0.6 ],\n",
       "       [-0.59,  0.26, -0.37,  1.45,  0.27],\n",
       "       [ 0.16,  0.84,  0.1 , -0.2 , -0.06]], dtype=float32)>"
      ]
     },
     "execution_count": 41,
     "metadata": {},
     "output_type": "execute_result"
    }
   ],
   "source": [
    "T.WR"
   ]
  },
  {
   "cell_type": "code",
   "execution_count": 42,
   "metadata": {},
   "outputs": [
    {
     "data": {
      "text/plain": [
       "array([[0.67, 0.95, 0.28, 0.34, 0.23],\n",
       "       [0.08, 0.6 , 0.88, 0.1 , 0.52],\n",
       "       [0.17, 0.73, 0.6 , 0.56, 0.12],\n",
       "       [0.16, 0.13, 0.42, 0.76, 0.98],\n",
       "       [0.33, 0.72, 0.82, 0.51, 0.23]], dtype=float32)"
      ]
     },
     "execution_count": 42,
     "metadata": {},
     "output_type": "execute_result"
    }
   ],
   "source": [
    "WR_untrained_T"
   ]
  },
  {
   "cell_type": "code",
   "execution_count": 43,
   "metadata": {},
   "outputs": [
    {
     "data": {
      "text/plain": [
       "<tf.Variable 'Trainable/WI:0' shape=(5, 5) dtype=float32, numpy=\n",
       "array([[ 0.25,  0.37,  0.03,  0.81,  1.09],\n",
       "       [ 0.05,  0.39,  0.9 , -0.31,  0.46],\n",
       "       [ 0.68,  0.14,  0.72, -0.6 ,  1.04],\n",
       "       [ 0.84,  1.71,  0.78,  0.64,  0.08],\n",
       "       [ 0.63,  0.35, -0.07,  0.05,  0.78]], dtype=float32)>"
      ]
     },
     "execution_count": 43,
     "metadata": {},
     "output_type": "execute_result"
    }
   ],
   "source": [
    "T.WI"
   ]
  },
  {
   "cell_type": "code",
   "execution_count": 44,
   "metadata": {},
   "outputs": [
    {
     "data": {
      "text/plain": [
       "array([[0.25, 0.33, 0.64, 0.86, 0.87],\n",
       "       [0.09, 0.39, 0.47, 0.64, 0.15],\n",
       "       [0.07, 0.58, 0.72, 0.09, 0.95],\n",
       "       [0.8 , 0.76, 0.09, 0.64, 0.06],\n",
       "       [0.84, 0.67, 0.02, 0.07, 0.78]], dtype=float32)"
      ]
     },
     "execution_count": 44,
     "metadata": {},
     "output_type": "execute_result"
    }
   ],
   "source": [
    "WI_untrained_T"
   ]
  },
  {
   "cell_type": "code",
   "execution_count": 45,
   "metadata": {},
   "outputs": [
    {
     "name": "stdout",
     "output_type": "stream",
     "text": [
      "tf.Tensor(\n",
      "[[ 0.38  0.02 -0.3   0.11 -0.05  0.16  0.16  0.64 -0.46  0.28]\n",
      " [-0.02  0.38 -0.11 -0.3  -0.16 -0.05 -0.64  0.16 -0.28 -0.46]\n",
      " [ 0.31 -0.54  0.16  0.01  0.26 -0.53 -0.17  0.32  0.14 -0.27]\n",
      " [ 0.54  0.31 -0.01  0.16  0.53  0.26 -0.32 -0.17  0.27  0.14]\n",
      " [-0.19  0.22  0.66  0.15  0.28 -0.22 -0.08  0.02 -0.5   0.27]\n",
      " [-0.22 -0.19 -0.15  0.66  0.22  0.28 -0.02 -0.08 -0.27 -0.5 ]\n",
      " [ 0.22  0.08 -0.15 -0.43  0.38 -0.11  0.49 -0.33 -0.37 -0.31]\n",
      " [-0.08  0.22  0.43 -0.15  0.11  0.38  0.33  0.49  0.31 -0.37]\n",
      " [-0.29 -0.49 -0.03 -0.45  0.35  0.46 -0.28  0.05 -0.12  0.21]\n",
      " [ 0.49 -0.29  0.45 -0.03 -0.46  0.35 -0.05 -0.28 -0.21 -0.12]], shape=(10, 10), dtype=float32)\n"
     ]
    }
   ],
   "source": [
    "M_T, _= T.get_M(); print(M_T)"
   ]
  },
  {
   "cell_type": "code",
   "execution_count": 46,
   "metadata": {},
   "outputs": [
    {
     "name": "stdout",
     "output_type": "stream",
     "text": [
      "tf.Tensor(\n",
      "[[ 4.44e-01 -4.08e-01 -5.32e-02  1.00e-01 -2.40e-01  6.59e-01  1.17e-01\n",
      "   1.58e-01  3.02e-01  3.21e-02]\n",
      " [ 4.08e-01  4.44e-01 -1.00e-01 -5.32e-02 -6.59e-01 -2.40e-01 -1.58e-01\n",
      "   1.17e-01 -3.21e-02  3.02e-01]\n",
      " [-4.59e-01 -1.17e-01  3.37e-01  2.07e-01 -1.33e-01 -1.19e-01 -8.65e-02\n",
      "   5.94e-01  3.53e-01  3.19e-01]\n",
      " [ 1.17e-01 -4.59e-01 -2.07e-01  3.37e-01  1.19e-01 -1.33e-01 -5.94e-01\n",
      "  -8.65e-02 -3.19e-01  3.53e-01]\n",
      " [ 2.15e-01  2.76e-01  1.28e-01  4.41e-02  3.57e-01  2.59e-01  1.29e-01\n",
      "   5.52e-01 -5.71e-01  1.32e-01]\n",
      " [-2.76e-01  2.15e-01 -4.41e-02  1.28e-01 -2.59e-01  3.57e-01 -5.52e-01\n",
      "   1.29e-01 -1.32e-01 -5.71e-01]\n",
      " [-6.76e-04  2.56e-01  9.57e-02  8.78e-01 -4.43e-02  3.08e-02  2.84e-01\n",
      "  -2.68e-01  1.06e-03 -9.37e-03]\n",
      " [-2.56e-01 -6.76e-04 -8.78e-01  9.57e-02 -3.08e-02 -4.43e-02  2.68e-01\n",
      "   2.84e-01  9.37e-03  1.06e-03]\n",
      " [-2.11e-01  4.23e-01 -1.39e-01 -1.18e-01  2.48e-01  4.65e-01 -2.27e-01\n",
      "  -2.76e-01  2.54e-01  5.23e-01]\n",
      " [-4.23e-01 -2.11e-01  1.18e-01 -1.39e-01 -4.65e-01  2.48e-01  2.76e-01\n",
      "  -2.27e-01 -5.23e-01  2.54e-01]], shape=(10, 10), dtype=float32)\n"
     ]
    }
   ],
   "source": [
    "print(M_untrained_T)"
   ]
  },
  {
   "cell_type": "markdown",
   "metadata": {},
   "source": [
    "# Retrieve the covariance matrix"
   ]
  },
  {
   "cell_type": "code",
   "execution_count": 47,
   "metadata": {},
   "outputs": [
    {
     "name": "stdout",
     "output_type": "stream",
     "text": [
      "(<tf.Tensor: shape=(10, 10), dtype=float32, numpy=\n",
      "array([[ 1.00e+00,  2.01e-07,  6.45e-08,  7.98e-08, -5.73e-08, -4.08e-07,\n",
      "        -3.54e-07, -3.75e-07,  3.19e-07, -1.56e-07],\n",
      "       [ 1.01e-07,  1.00e+00, -3.85e-09,  1.03e-07,  4.13e-07, -2.11e-08,\n",
      "         2.18e-07, -2.79e-07,  8.06e-08,  1.06e-07],\n",
      "       [ 2.69e-08, -3.36e-08,  1.00e+00,  2.59e-08,  3.63e-08, -1.43e-07,\n",
      "        -2.52e-07, -1.97e-07,  2.39e-08,  1.68e-07],\n",
      "       [ 1.01e-07,  1.04e-07, -6.14e-08,  1.00e+00,  1.75e-07,  8.43e-08,\n",
      "         1.79e-07, -2.61e-07, -1.80e-07,  9.76e-08],\n",
      "       [ 7.39e-08,  4.40e-07,  5.01e-08,  1.76e-07,  1.00e+00, -3.35e-08,\n",
      "         8.30e-08, -1.51e-07, -2.92e-08,  2.06e-07],\n",
      "       [-3.61e-07, -4.50e-08, -1.86e-07,  4.61e-08, -3.02e-08,  1.00e+00,\n",
      "         1.33e-07,  1.73e-07, -2.25e-07, -7.30e-08],\n",
      "       [-4.16e-07,  2.06e-07, -2.40e-07,  1.37e-07,  1.79e-07,  1.08e-07,\n",
      "         1.00e+00,  4.64e-08, -4.78e-08, -1.77e-07],\n",
      "       [-2.35e-07, -3.59e-07, -2.32e-07, -2.98e-07, -1.54e-07,  1.47e-07,\n",
      "        -7.10e-08,  1.00e+00,  1.50e-07, -8.90e-08],\n",
      "       [ 1.69e-07,  1.39e-07,  7.67e-08, -2.47e-07, -4.79e-08, -2.11e-07,\n",
      "        -8.93e-08,  1.76e-07,  1.00e+00, -1.28e-08],\n",
      "       [-1.65e-07,  1.21e-07,  2.21e-07, -3.53e-09,  2.17e-07, -6.97e-08,\n",
      "        -2.01e-07, -6.99e-08,  9.65e-09,  1.00e+00]], dtype=float32)>, <tf.Tensor: shape=(1, 10), dtype=float32, numpy=\n",
      "array([[ 1.00e+00, -3.34e-05,  2.20e-04,  2.09e-04,  4.50e-04,  6.93e-05,\n",
      "        -8.76e-05,  2.76e-04, -1.87e-04, -5.07e-05]], dtype=float32)>, <tf.Tensor: shape=(10, 10), dtype=float32, numpy=\n",
      "array([[-1.50e+00,  3.33e-05, -2.20e-04, -2.09e-04, -4.50e-04, -6.91e-05,\n",
      "         8.78e-05, -2.76e-04,  1.87e-04,  5.08e-05],\n",
      "       [ 3.33e-05, -5.00e-01,  9.27e-09, -4.45e-08, -1.91e-07,  1.29e-08,\n",
      "        -1.12e-07,  1.49e-07, -4.65e-08, -5.49e-08],\n",
      "       [-2.20e-04,  2.41e-08, -5.00e-01, -5.90e-08, -1.17e-07,  5.63e-08,\n",
      "         1.45e-07,  3.81e-08,  2.91e-08, -7.30e-08],\n",
      "       [-2.09e-04, -4.50e-08, -1.53e-08, -5.00e-01, -1.82e-07, -5.66e-08,\n",
      "        -7.12e-08,  7.29e-08,  1.29e-07, -3.82e-08],\n",
      "       [-4.50e-04, -2.05e-07, -1.24e-07, -1.82e-07, -5.00e-01, -1.44e-08,\n",
      "        -2.08e-09, -4.83e-08,  9.86e-08, -8.02e-08],\n",
      "       [-6.91e-05,  2.48e-08,  7.79e-08, -3.75e-08, -1.61e-08, -5.00e-01,\n",
      "        -6.03e-08, -1.05e-07,  1.26e-07,  4.00e-08],\n",
      "       [ 8.78e-05, -1.06e-07,  1.39e-07, -4.99e-08, -5.03e-08, -4.81e-08,\n",
      "        -5.00e-01,  9.34e-10,  7.52e-09,  8.38e-08],\n",
      "       [-2.76e-04,  1.88e-07,  5.51e-08,  9.13e-08, -4.69e-08, -9.25e-08,\n",
      "         5.96e-08, -5.00e-01, -2.34e-08,  5.85e-08],\n",
      "       [ 1.87e-04, -7.58e-08,  2.74e-09,  1.63e-07,  1.08e-07,  1.18e-07,\n",
      "         2.83e-08, -3.64e-08, -5.00e-01, -3.08e-09],\n",
      "       [ 5.08e-05, -6.21e-08, -9.95e-08,  1.24e-08, -8.56e-08,  3.83e-08,\n",
      "         9.62e-08,  4.89e-08, -1.43e-08, -5.00e-01]], dtype=float32)>)\n"
     ]
    }
   ],
   "source": [
    "print(ps.covariance(N)(chir, chii, pullback))"
   ]
  },
  {
   "cell_type": "code",
   "execution_count": null,
   "metadata": {},
   "outputs": [],
   "source": []
  }
 ],
 "metadata": {
  "kernelspec": {
   "display_name": "Python 3 (ipykernel)",
   "language": "python",
   "name": "python3"
  },
  "language_info": {
   "codemirror_mode": {
    "name": "ipython",
    "version": 3
   },
   "file_extension": ".py",
   "mimetype": "text/x-python",
   "name": "python",
   "nbconvert_exporter": "python",
   "pygments_lexer": "ipython3",
   "version": "3.8.13"
  }
 },
 "nbformat": 4,
 "nbformat_minor": 4
}
