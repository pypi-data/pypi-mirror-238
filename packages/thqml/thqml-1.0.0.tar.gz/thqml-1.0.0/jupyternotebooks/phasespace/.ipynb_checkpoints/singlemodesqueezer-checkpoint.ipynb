{
 "cells": [
  {
   "cell_type": "markdown",
   "metadata": {},
   "source": [
    "# Model for single mode squeezed vacuum and squeezed coherent state"
   ]
  },
  {
   "cell_type": "markdown",
   "metadata": {},
   "source": [
    "Use the multihead (2-head) gates in the phase space \n",
    "to create a network that represent a squezed vaccum and a squeezed coherent state,\n",
    "by starting from a Gaussian state and making a pullback\n",
    "\n",
    "<img src=\"../img/singlemodesqueezing.png\" widht=\"600\"/>\n",
    "\n",
    "\n",
    "<img src=\"../img/logo_circular.png\" width=\"20\" height=\"20\" />@by claudio<br>\n",
    "nonlinearxwaves@gmail.com<br>\n",
    "@created 8 january 2021<br>\n",
    "@version 15 may 2023"
   ]
  },
  {
   "cell_type": "code",
   "execution_count": 1,
   "metadata": {},
   "outputs": [
    {
     "name": "stderr",
     "output_type": "stream",
     "text": [
      "2023-05-14 11:20:15.930659: W tensorflow/stream_executor/platform/default/dso_loader.cc:64] Could not load dynamic library 'libcudart.so.11.0'; dlerror: libcudart.so.11.0: cannot open shared object file: No such file or directory\n",
      "2023-05-14 11:20:15.930681: I tensorflow/stream_executor/cuda/cudart_stub.cc:29] Ignore above cudart dlerror if you do not have a GPU set up on your machine.\n"
     ]
    }
   ],
   "source": [
    "import numpy as np\n",
    "from scipy.linalg import expm, sinm, cosm\n",
    "from thqml import phasespace as ps\n",
    "from thqml.utilities import utilities\n",
    "import tensorflow as tf\n",
    "#import tensorflow_addons as tfa\n",
    "from tensorflow import keras\n",
    "import matplotlib.pyplot as plt\n",
    "from tensorflow.keras.callbacks import EarlyStopping"
   ]
  },
  {
   "cell_type": "code",
   "execution_count": 2,
   "metadata": {},
   "outputs": [],
   "source": [
    "tf_complex = tf.complex\n",
    "tf_real = tf.float64\n",
    "np_complex = complex\n",
    "np_real = np.float64"
   ]
  },
  {
   "cell_type": "code",
   "execution_count": 3,
   "metadata": {},
   "outputs": [],
   "source": [
    "tf.keras.backend.clear_session()"
   ]
  },
  {
   "cell_type": "code",
   "execution_count": 4,
   "metadata": {},
   "outputs": [],
   "source": [
    "np.set_printoptions(precision=2)"
   ]
  },
  {
   "cell_type": "markdown",
   "metadata": {},
   "source": [
    "Set the layer to float64"
   ]
  },
  {
   "cell_type": "markdown",
   "metadata": {},
   "source": [
    "## Dimension"
   ]
  },
  {
   "cell_type": "code",
   "execution_count": 5,
   "metadata": {},
   "outputs": [],
   "source": [
    "N = 4"
   ]
  },
  {
   "cell_type": "markdown",
   "metadata": {},
   "source": [
    "## Symplectic matrix"
   ]
  },
  {
   "cell_type": "code",
   "execution_count": 6,
   "metadata": {},
   "outputs": [],
   "source": [
    "RP, RQ, J = ps.RQRP(N)"
   ]
  },
  {
   "cell_type": "markdown",
   "metadata": {},
   "source": [
    "## Index of the squeezed mode (between 0 an N/2)"
   ]
  },
  {
   "cell_type": "code",
   "execution_count": 7,
   "metadata": {},
   "outputs": [],
   "source": [
    "n_squeezed=0"
   ]
  },
  {
   "cell_type": "markdown",
   "metadata": {},
   "source": [
    "## Build vacuum by the Gaussian state"
   ]
  },
  {
   "cell_type": "code",
   "execution_count": 8,
   "metadata": {},
   "outputs": [
    {
     "name": "stderr",
     "output_type": "stream",
     "text": [
      "2023-05-14 11:20:18.244482: W tensorflow/stream_executor/platform/default/dso_loader.cc:64] Could not load dynamic library 'libcuda.so.1'; dlerror: libcuda.so.1: cannot open shared object file: No such file or directory\n",
      "2023-05-14 11:20:18.244507: W tensorflow/stream_executor/cuda/cuda_driver.cc:269] failed call to cuInit: UNKNOWN ERROR (303)\n",
      "2023-05-14 11:20:18.244529: I tensorflow/stream_executor/cuda/cuda_diagnostics.cc:156] kernel driver does not appear to be running on this host (x1): /proc/driver/nvidia/version does not exist\n",
      "2023-05-14 11:20:18.245233: I tensorflow/core/platform/cpu_feature_guard.cc:151] This TensorFlow binary is optimized with oneAPI Deep Neural Network Library (oneDNN) to use the following CPU instructions in performance-critical operations:  AVX2 FMA\n",
      "To enable them in other operations, rebuild TensorFlow with the appropriate compiler flags.\n"
     ]
    }
   ],
   "source": [
    "vacuum = ps.VacuumLayer(N)"
   ]
  },
  {
   "cell_type": "markdown",
   "metadata": {},
   "source": [
    "## Single mode squeezer"
   ]
  },
  {
   "cell_type": "code",
   "execution_count": 9,
   "metadata": {},
   "outputs": [],
   "source": [
    "r_np=1.0;\n",
    "theta_np=np.pi/2;"
   ]
  },
  {
   "cell_type": "code",
   "execution_count": 10,
   "metadata": {},
   "outputs": [],
   "source": [
    "squeezer=ps.SingleModeSqueezerLayer(N, r_np=r_np, theta_np=theta_np, n_squeezed=n_squeezed)"
   ]
  },
  {
   "cell_type": "code",
   "execution_count": 11,
   "metadata": {},
   "outputs": [
    {
     "name": "stdout",
     "output_type": "stream",
     "text": [
      "+1.5+0.0i -1.2+0.0i +0.0+0.0i +0.0+0.0i \n",
      "-1.2+0.0i +1.5+0.0i +0.0+0.0i +0.0+0.0i \n",
      "+0.0+0.0i +0.0+0.0i +1.0+0.0i +0.0+0.0i \n",
      "+0.0+0.0i +0.0+0.0i +0.0+0.0i +1.0+0.0i \n"
     ]
    }
   ],
   "source": [
    "Ms, _=squeezer.get_M(); Ms_np = Ms.numpy();utilities.printonscreennp(Ms_np)"
   ]
  },
  {
   "cell_type": "markdown",
   "metadata": {},
   "source": [
    "## Build the model"
   ]
  },
  {
   "cell_type": "code",
   "execution_count": 12,
   "metadata": {},
   "outputs": [],
   "source": [
    "xin = tf.keras.layers.Input(N)\n",
    "x1, a1 = squeezer(xin)\n",
    "chir, chii = vacuum(x1, a1)\n",
    "single_mode_squeezed = tf.keras.Model(inputs = xin, outputs=[chir, chii])"
   ]
  },
  {
   "cell_type": "markdown",
   "metadata": {},
   "source": [
    "## Evaluate the covariance matrix"
   ]
  },
  {
   "cell_type": "code",
   "execution_count": 13,
   "metadata": {},
   "outputs": [],
   "source": [
    "cov_layer = ps.CovarianceLayer(N)\n",
    "covariance_matrix, mean_R, _ = cov_layer(chir,chii, single_mode_squeezed)\n",
    "squeezed_cov = tf.keras.Model(inputs = xin, outputs=[covariance_matrix, mean_R])"
   ]
  },
  {
   "cell_type": "markdown",
   "metadata": {},
   "source": [
    "## Training points \n",
    "Here they are dummy as no training is done"
   ]
  },
  {
   "cell_type": "code",
   "execution_count": 14,
   "metadata": {},
   "outputs": [],
   "source": [
    "xtrain = np.random.rand(1, N)-0.5"
   ]
  },
  {
   "cell_type": "markdown",
   "metadata": {},
   "source": [
    "## Covariance and displacement"
   ]
  },
  {
   "cell_type": "code",
   "execution_count": 15,
   "metadata": {},
   "outputs": [
    {
     "name": "stdout",
     "output_type": "stream",
     "text": [
      "tf.Tensor([[0. 0. 0. 0.]], shape=(1, 4), dtype=float32)\n",
      "[[3.76219535 -3.62686014 -0 -0]\n",
      " [-3.62686014 3.76219535 -0 -0]\n",
      " [-0 -0 1 -0]\n",
      " [-0 -0 -0 1]]\n"
     ]
    }
   ],
   "source": [
    "cov0,d0=squeezed_cov(xtrain); print(d0); tf.print(cov0)"
   ]
  },
  {
   "cell_type": "markdown",
   "metadata": {},
   "source": [
    "### Eigenvalues of the covariance matrix"
   ]
  },
  {
   "cell_type": "code",
   "execution_count": 16,
   "metadata": {},
   "outputs": [
    {
     "data": {
      "text/plain": [
       "(array([7.39, 0.14, 1.  , 1.  ], dtype=float32),\n",
       " array([[ 0.71,  0.71,  0.  ,  0.  ],\n",
       "        [-0.71,  0.71,  0.  ,  0.  ],\n",
       "        [ 0.  ,  0.  ,  1.  ,  0.  ],\n",
       "        [ 0.  ,  0.  ,  0.  ,  1.  ]], dtype=float32))"
      ]
     },
     "execution_count": 16,
     "metadata": {},
     "output_type": "execute_result"
    }
   ],
   "source": [
    "np.linalg.eig(cov0.numpy())"
   ]
  },
  {
   "cell_type": "markdown",
   "metadata": {},
   "source": [
    "### Uncertainty principle by the covariance matrix (g>0 and g+i J>=0, det g=1)"
   ]
  },
  {
   "cell_type": "code",
   "execution_count": 17,
   "metadata": {},
   "outputs": [],
   "source": [
    "sigmaR=0.5*cov0.numpy()"
   ]
  },
  {
   "cell_type": "code",
   "execution_count": 18,
   "metadata": {},
   "outputs": [],
   "source": [
    "w, v =np.linalg.eig(sigmaR)"
   ]
  },
  {
   "cell_type": "code",
   "execution_count": 19,
   "metadata": {},
   "outputs": [
    {
     "name": "stdout",
     "output_type": "stream",
     "text": [
      "[3.69 0.07 0.5  0.5 ]\n"
     ]
    }
   ],
   "source": [
    "print(w)"
   ]
  },
  {
   "cell_type": "code",
   "execution_count": 20,
   "metadata": {},
   "outputs": [
    {
     "data": {
      "text/plain": [
       "0.99999934"
      ]
     },
     "execution_count": 20,
     "metadata": {},
     "output_type": "execute_result"
    }
   ],
   "source": [
    "np.linalg.det(cov0.numpy())"
   ]
  },
  {
   "cell_type": "code",
   "execution_count": 21,
   "metadata": {},
   "outputs": [
    {
     "name": "stdout",
     "output_type": "stream",
     "text": [
      "[ 3.76e+00+2.78e-17j -4.29e-08-2.78e-17j  1.00e+00+0.00e+00j\n",
      "  7.22e-33+0.00e+00j]\n"
     ]
    }
   ],
   "source": [
    "print(np.linalg.eig(sigmaR+0.5*1j*J)[0])"
   ]
  },
  {
   "cell_type": "code",
   "execution_count": 22,
   "metadata": {},
   "outputs": [
    {
     "name": "stdout",
     "output_type": "stream",
     "text": [
      "[ 7.52e+00+5.55e-17j -8.58e-08-5.55e-17j  2.00e+00+0.00e+00j\n",
      "  0.00e+00+0.00e+00j]\n"
     ]
    }
   ],
   "source": [
    "print(np.linalg.eig(cov0.numpy()+1j*J)[0])"
   ]
  },
  {
   "cell_type": "markdown",
   "metadata": {},
   "source": [
    "### Symplectic eigenvalues"
   ]
  },
  {
   "cell_type": "code",
   "execution_count": 23,
   "metadata": {},
   "outputs": [
    {
     "data": {
      "text/plain": [
       "array([[1., 0., 0., 0.],\n",
       "       [0., 1., 0., 0.],\n",
       "       [0., 0., 1., 0.],\n",
       "       [0., 0., 0., 1.]], dtype=float32)"
      ]
     },
     "execution_count": 23,
     "metadata": {},
     "output_type": "execute_result"
    }
   ],
   "source": [
    "np.matmul(J.transpose(),J)"
   ]
  },
  {
   "cell_type": "code",
   "execution_count": 24,
   "metadata": {},
   "outputs": [],
   "source": [
    "ws, vs =np.linalg.eig(J.transpose()*(sigmaR+0.5*1j*J))"
   ]
  },
  {
   "cell_type": "code",
   "execution_count": 25,
   "metadata": {},
   "outputs": [
    {
     "name": "stdout",
     "output_type": "stream",
     "text": [
      "[0.00e+00-1.88j 0.00e+00+1.88j 0.00e+00+0.5j  1.39e-17-0.5j ]\n"
     ]
    }
   ],
   "source": [
    "print(ws)"
   ]
  },
  {
   "cell_type": "code",
   "execution_count": 26,
   "metadata": {},
   "outputs": [
    {
     "name": "stdout",
     "output_type": "stream",
     "text": [
      "[1.88 1.88 0.5  0.5 ]\n"
     ]
    }
   ],
   "source": [
    "print(np.abs(ws))"
   ]
  },
  {
   "cell_type": "markdown",
   "metadata": {},
   "source": [
    "## Count the photons and their uncertainties in the squeezed state with the HeisenbergGaussianLayer"
   ]
  },
  {
   "cell_type": "code",
   "execution_count": 27,
   "metadata": {},
   "outputs": [],
   "source": [
    "photon_counter=ps.HeisenbergGaussianLayer(N) # define the layer\n",
    "n_out, n2_out, Dn2_out = photon_counter(chir,chii, single_mode_squeezed);  # define the output tensor\n",
    "NphotonH = tf.keras.Model(inputs = xin, outputs=[n_out,n2_out, Dn2_out]) # define the model with inputs and ouputs\n",
    "no, no2, Dno2= NphotonH(xtrain);"
   ]
  },
  {
   "cell_type": "markdown",
   "metadata": {},
   "source": [
    "Expected number of photons"
   ]
  },
  {
   "cell_type": "code",
   "execution_count": 28,
   "metadata": {},
   "outputs": [
    {
     "name": "stdout",
     "output_type": "stream",
     "text": [
      "[[1.38109767 0]]\n"
     ]
    }
   ],
   "source": [
    "tf.print(no)"
   ]
  },
  {
   "cell_type": "markdown",
   "metadata": {},
   "source": [
    "The number of expected photons in the squeezed mode is sinh(r)^2 (for the other mode is zero)"
   ]
  },
  {
   "cell_type": "code",
   "execution_count": 29,
   "metadata": {},
   "outputs": [
    {
     "name": "stdout",
     "output_type": "stream",
     "text": [
      "1.3810978455418155\n"
     ]
    }
   ],
   "source": [
    "no_th=np.sinh(r_np)**2\n",
    "print(no_th)"
   ]
  },
  {
   "cell_type": "markdown",
   "metadata": {},
   "source": [
    "Mean value of expected photon number square"
   ]
  },
  {
   "cell_type": "code",
   "execution_count": 30,
   "metadata": {},
   "outputs": [
    {
     "name": "stdout",
     "output_type": "stream",
     "text": [
      "[[8.48448753 0]]\n"
     ]
    }
   ],
   "source": [
    "tf.print(no2)"
   ]
  },
  {
   "cell_type": "markdown",
   "metadata": {},
   "source": [
    "The mean of n square is 3 no^2+2 no for the squeezed mode (for the other is zero)"
   ]
  },
  {
   "cell_type": "code",
   "execution_count": 31,
   "metadata": {},
   "outputs": [
    {
     "name": "stdout",
     "output_type": "stream",
     "text": [
      "8.484489467964364\n"
     ]
    }
   ],
   "source": [
    "no2_th = 3*(no_th**2)+2*no_th\n",
    "print(no2_th)"
   ]
  },
  {
   "cell_type": "markdown",
   "metadata": {},
   "source": [
    "Variance of photon number "
   ]
  },
  {
   "cell_type": "code",
   "execution_count": 32,
   "metadata": {},
   "outputs": [
    {
     "name": "stdout",
     "output_type": "stream",
     "text": [
      "[[6.57705688 0]]\n"
     ]
    }
   ],
   "source": [
    "tf.print(Dno2)"
   ]
  },
  {
   "cell_type": "markdown",
   "metadata": {},
   "source": [
    "The variance of photon number for the squeezed mode (for the other is zero)"
   ]
  },
  {
   "cell_type": "code",
   "execution_count": 33,
   "metadata": {},
   "outputs": [
    {
     "name": "stdout",
     "output_type": "stream",
     "text": [
      "6.57705820900412\n"
     ]
    }
   ],
   "source": [
    "Dno2_th = 2*(no_th**2)+2*no_th\n",
    "print(Dno2_th)"
   ]
  },
  {
   "cell_type": "markdown",
   "metadata": {},
   "source": [
    "# Model for squeezed coherent state (displaced squeezed vacuum)"
   ]
  },
  {
   "cell_type": "markdown",
   "metadata": {},
   "source": [
    "## Linear displacement operator"
   ]
  },
  {
   "cell_type": "code",
   "execution_count": 34,
   "metadata": {},
   "outputs": [],
   "source": [
    "dtarget = 3.0*np.ones((N,1))\n",
    "displacer = ps.DisplacementLayerConstant(dtarget)"
   ]
  },
  {
   "cell_type": "markdown",
   "metadata": {},
   "source": [
    "## Displacement applied to squeezed vacuum"
   ]
  },
  {
   "cell_type": "code",
   "execution_count": 35,
   "metadata": {},
   "outputs": [],
   "source": [
    "xin = tf.keras.layers.Input(N)\n",
    "x2, a2 = displacer(xin)\n",
    "x1, a1 = squeezer(x2, a2)\n",
    "chir, chii = vacuum(x1, a1)\n",
    "single_mode_squeezed_1 = tf.keras.Model(inputs = xin, outputs=[chir, chii])"
   ]
  },
  {
   "cell_type": "markdown",
   "metadata": {},
   "source": [
    "## Covariance matrix calculation"
   ]
  },
  {
   "cell_type": "code",
   "execution_count": 36,
   "metadata": {},
   "outputs": [],
   "source": [
    "cov_layer = ps.CovarianceLayer(N)\n",
    "cova, Re,_ = cov_layer(chir,chii, single_mode_squeezed_1)\n",
    "squeezed_cov_1 = tf.keras.Model(inputs = xin, outputs=[cova, Re])"
   ]
  },
  {
   "cell_type": "code",
   "execution_count": 37,
   "metadata": {},
   "outputs": [],
   "source": [
    "cov1, d1=squeezed_cov_1(xtrain); "
   ]
  },
  {
   "cell_type": "markdown",
   "metadata": {},
   "source": [
    "Print covariance matrix and displacement"
   ]
  },
  {
   "cell_type": "code",
   "execution_count": 38,
   "metadata": {},
   "outputs": [
    {
     "name": "stdout",
     "output_type": "stream",
     "text": [
      "tf.Tensor(\n",
      "[[ 3.76e+00 -3.63e+00 -0.00e+00 -0.00e+00]\n",
      " [-3.63e+00  3.76e+00 -0.00e+00 -0.00e+00]\n",
      " [ 1.91e-06  1.91e-06  1.00e+00 -0.00e+00]\n",
      " [ 1.91e-06  1.91e-06 -0.00e+00  1.00e+00]], shape=(4, 4), dtype=float32)\n"
     ]
    }
   ],
   "source": [
    "print(cov1)"
   ]
  },
  {
   "cell_type": "code",
   "execution_count": 39,
   "metadata": {},
   "outputs": [
    {
     "name": "stdout",
     "output_type": "stream",
     "text": [
      "tf.Tensor([[3. 3. 3. 3.]], shape=(1, 4), dtype=float32)\n"
     ]
    }
   ],
   "source": [
    "print(d1)"
   ]
  },
  {
   "cell_type": "markdown",
   "metadata": {},
   "source": [
    "Displacement is the same as the Displacement operator"
   ]
  },
  {
   "cell_type": "markdown",
   "metadata": {},
   "source": [
    "The eigenvalues of the covariance matrix show that state is squeezed"
   ]
  },
  {
   "cell_type": "code",
   "execution_count": 40,
   "metadata": {},
   "outputs": [
    {
     "data": {
      "text/plain": [
       "(array([1.  , 1.  , 7.39, 0.14], dtype=float32),\n",
       " array([[ 0.00e+00,  0.00e+00,  7.07e-01,  7.07e-01],\n",
       "        [ 0.00e+00,  0.00e+00, -7.07e-01,  7.07e-01],\n",
       "        [ 1.00e+00,  0.00e+00,  0.00e+00, -3.12e-06],\n",
       "        [ 0.00e+00,  1.00e+00,  0.00e+00, -3.12e-06]], dtype=float32))"
      ]
     },
     "execution_count": 40,
     "metadata": {},
     "output_type": "execute_result"
    }
   ],
   "source": [
    "np.linalg.eig(cov1)"
   ]
  },
  {
   "cell_type": "markdown",
   "metadata": {},
   "source": [
    "The eigenvalues corresponds to those estabilished by the r parameter, i.e., exp(2r) and exp(-2r)"
   ]
  },
  {
   "cell_type": "code",
   "execution_count": 41,
   "metadata": {},
   "outputs": [
    {
     "data": {
      "text/plain": [
       "7.38905609893065"
      ]
     },
     "execution_count": 41,
     "metadata": {},
     "output_type": "execute_result"
    }
   ],
   "source": [
    "np.exp(2.0)"
   ]
  },
  {
   "cell_type": "code",
   "execution_count": 42,
   "metadata": {},
   "outputs": [
    {
     "data": {
      "text/plain": [
       "0.1353352832366127"
      ]
     },
     "execution_count": 42,
     "metadata": {},
     "output_type": "execute_result"
    }
   ],
   "source": [
    "np.exp(-2.0)"
   ]
  },
  {
   "cell_type": "markdown",
   "metadata": {},
   "source": [
    "# Second model for squeezed coherent state (squeezed displaced vacuum)"
   ]
  },
  {
   "cell_type": "markdown",
   "metadata": {},
   "source": [
    "Here we expect that squeezing affect the average value of the canonical variables"
   ]
  },
  {
   "cell_type": "code",
   "execution_count": 43,
   "metadata": {},
   "outputs": [],
   "source": [
    "xin = tf.keras.layers.Input(N)\n",
    "x2, a2 = squeezer(xin )\n",
    "x1, a1 = displacer(x2, a2 )\n",
    "chir, chii = vacuum(x1, a1)\n",
    "single_mode_squeezed_2 = tf.keras.Model(inputs = xin, outputs=[chir, chii])\n",
    "cov_layer = ps.CovarianceLayer(N)\n",
    "cova, Re, _ = cov_layer(chir,chii, single_mode_squeezed_2)\n",
    "squeezed_cov_2 = tf.keras.Model(inputs = xin, outputs=[cova, Re])"
   ]
  },
  {
   "cell_type": "code",
   "execution_count": 44,
   "metadata": {},
   "outputs": [
    {
     "name": "stdout",
     "output_type": "stream",
     "text": [
      "tf.Tensor([[1.1 1.1 3.  3. ]], shape=(1, 4), dtype=float32)\n"
     ]
    }
   ],
   "source": [
    "cov2, d2=squeezed_cov_2(xtrain); cov2_np=cov2.numpy();print(d2)"
   ]
  },
  {
   "cell_type": "markdown",
   "metadata": {},
   "source": [
    "The displacement operator of the squeezed mode has changed!"
   ]
  },
  {
   "cell_type": "markdown",
   "metadata": {},
   "source": [
    "### Theoretical value of the displacement"
   ]
  },
  {
   "cell_type": "code",
   "execution_count": 45,
   "metadata": {},
   "outputs": [
    {
     "name": "stdout",
     "output_type": "stream",
     "text": [
      "(2.1213203435596424+2.1213203435596424j)\n"
     ]
    }
   ],
   "source": [
    "a0 = (3+1j*3)/np.sqrt(2); print(a0)"
   ]
  },
  {
   "cell_type": "code",
   "execution_count": 46,
   "metadata": {},
   "outputs": [
    {
     "name": "stdout",
     "output_type": "stream",
     "text": [
      "(0.7803901425343329+0.7803901425343329j)\n"
     ]
    }
   ],
   "source": [
    "a0tilde = a0*np.cosh(r_np)-np.conj(a0)*np.exp(1j*theta_np)*np.sinh(r_np); print(a0tilde)"
   ]
  },
  {
   "cell_type": "code",
   "execution_count": 47,
   "metadata": {},
   "outputs": [
    {
     "name": "stdout",
     "output_type": "stream",
     "text": [
      "1.1036383235143263\n"
     ]
    }
   ],
   "source": [
    "d0_th= np.real(a0tilde)*np.sqrt(2); print(d0_th)"
   ]
  },
  {
   "cell_type": "code",
   "execution_count": 48,
   "metadata": {},
   "outputs": [
    {
     "name": "stdout",
     "output_type": "stream",
     "text": [
      "1.1036383235143263\n"
     ]
    }
   ],
   "source": [
    "d1_th= np.imag(a0tilde)*np.sqrt(2); print(d1_th)"
   ]
  },
  {
   "cell_type": "markdown",
   "metadata": {},
   "source": [
    "Covariance matrix"
   ]
  },
  {
   "cell_type": "code",
   "execution_count": 49,
   "metadata": {},
   "outputs": [
    {
     "name": "stdout",
     "output_type": "stream",
     "text": [
      "[[ 3.76e+00 -3.63e+00 -0.00e+00 -0.00e+00]\n",
      " [-3.63e+00  3.76e+00 -0.00e+00 -0.00e+00]\n",
      " [-2.38e-06 -2.38e-06  1.00e+00 -0.00e+00]\n",
      " [-2.38e-06 -2.38e-06 -0.00e+00  1.00e+00]]\n"
     ]
    }
   ],
   "source": [
    "print(cov2_np)"
   ]
  },
  {
   "cell_type": "markdown",
   "metadata": {},
   "source": [
    "and its eigevalues and eigenvectors"
   ]
  },
  {
   "cell_type": "code",
   "execution_count": 50,
   "metadata": {},
   "outputs": [
    {
     "data": {
      "text/plain": [
       "(array([1.  , 1.  , 7.39, 0.14], dtype=float32),\n",
       " array([[ 0.00e+00,  0.00e+00,  7.07e-01,  7.07e-01],\n",
       "        [ 0.00e+00,  0.00e+00, -7.07e-01,  7.07e-01],\n",
       "        [ 1.00e+00,  0.00e+00,  0.00e+00,  3.90e-06],\n",
       "        [ 0.00e+00,  1.00e+00,  0.00e+00,  3.90e-06]], dtype=float32))"
      ]
     },
     "execution_count": 50,
     "metadata": {},
     "output_type": "execute_result"
    }
   ],
   "source": [
    "np.linalg.eig(cov2_np)"
   ]
  },
  {
   "cell_type": "markdown",
   "metadata": {},
   "source": [
    "## Remarks"
   ]
  },
  {
   "cell_type": "markdown",
   "metadata": {},
   "source": [
    "Note that the unitary eigevalues correspond to eigevectors spanning the space of non squeezed mode  (e.g. mode 1 if n_squeezed=0) "
   ]
  },
  {
   "cell_type": "markdown",
   "metadata": {},
   "source": [
    "While the eigevectors of the squeezed eigenvalues span the space of the squeezed mode (e.g. mode 0 if n_squeezed=0)"
   ]
  },
  {
   "cell_type": "markdown",
   "metadata": {},
   "source": [
    "Also, while the displacement is changed the squeezing is the same as the squeeze operator"
   ]
  },
  {
   "cell_type": "markdown",
   "metadata": {},
   "source": [
    "## Test the uncertainty by the covariance matrix"
   ]
  },
  {
   "cell_type": "markdown",
   "metadata": {},
   "source": [
    "retrieve symplectic matrix"
   ]
  },
  {
   "cell_type": "code",
   "execution_count": 51,
   "metadata": {},
   "outputs": [],
   "source": [
    "RP, RQ, J = ps.RQRP(N)"
   ]
  },
  {
   "cell_type": "code",
   "execution_count": 52,
   "metadata": {},
   "outputs": [
    {
     "name": "stdout",
     "output_type": "stream",
     "text": [
      "[[ 0.  1.  0.  0.]\n",
      " [-1.  0.  0.  0.]\n",
      " [ 0.  0.  0.  1.]\n",
      " [ 0.  0. -1.  0.]]\n"
     ]
    }
   ],
   "source": [
    "print(J)"
   ]
  },
  {
   "cell_type": "code",
   "execution_count": 53,
   "metadata": {},
   "outputs": [],
   "source": [
    "w, v =np.linalg.eig(0.5*cov2_np+0.5*1j*J)"
   ]
  },
  {
   "cell_type": "code",
   "execution_count": 54,
   "metadata": {},
   "outputs": [
    {
     "name": "stdout",
     "output_type": "stream",
     "text": [
      "[ 3.76e+00+4.56e-17j -1.49e-07+4.56e-17j  1.16e-16+5.45e-17j\n",
      "  1.00e+00-9.02e-17j]\n"
     ]
    }
   ],
   "source": [
    "print(w)"
   ]
  },
  {
   "cell_type": "markdown",
   "metadata": {},
   "source": [
    "the matrix COV+1j*J >=0"
   ]
  },
  {
   "cell_type": "code",
   "execution_count": 55,
   "metadata": {},
   "outputs": [],
   "source": [
    "w1, v1 =np.linalg.eig(0.5*J*cov2_np)"
   ]
  },
  {
   "cell_type": "markdown",
   "metadata": {},
   "source": [
    "simplecticy eigenvalues"
   ]
  },
  {
   "cell_type": "code",
   "execution_count": 56,
   "metadata": {},
   "outputs": [
    {
     "name": "stdout",
     "output_type": "stream",
     "text": [
      "[1.81 1.81 0.   0.  ]\n"
     ]
    }
   ],
   "source": [
    "print(np.abs(w1))"
   ]
  },
  {
   "cell_type": "code",
   "execution_count": null,
   "metadata": {},
   "outputs": [],
   "source": []
  }
 ],
 "metadata": {
  "kernelspec": {
   "display_name": "Python 3 (ipykernel)",
   "language": "python",
   "name": "python3"
  },
  "language_info": {
   "codemirror_mode": {
    "name": "ipython",
    "version": 3
   },
   "file_extension": ".py",
   "mimetype": "text/x-python",
   "name": "python",
   "nbconvert_exporter": "python",
   "pygments_lexer": "ipython3",
   "version": "3.8.13"
  }
 },
 "nbformat": 4,
 "nbformat_minor": 4
}
