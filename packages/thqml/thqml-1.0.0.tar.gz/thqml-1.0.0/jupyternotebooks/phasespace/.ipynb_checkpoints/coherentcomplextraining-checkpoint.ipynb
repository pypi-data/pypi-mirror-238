{
 "cells": [
  {
   "cell_type": "markdown",
   "metadata": {},
   "source": [
    "# Training a random medium by a complex medium to generate a target coherent state"
   ]
  },
  {
   "cell_type": "markdown",
   "metadata": {},
   "source": [
    "Use the multi-heads (2-head) gates in the phase space \n",
    "to create a network that represent a coherent state \n",
    "propagating in a random medium. \n",
    "Use a trainable complex medium to obtain a target state\n",
    "\n",
    "NOTE: remember to shut down the kernel when out of memory\n",
    "\n",
    "<img src=\"../img/coherentcomplextraining.png\" width=\"900\" height=\"300\" />\n",
    "\n",
    "<img src=\"../img/logo_circular.png\" width=\"20\" height=\"20\" />@by claudio<br>\n",
    "\n",
    "nonlinearxwaves@gmail.com<br>\n",
    "@created 22 july 2020<br>\n",
    "@version 23 sep 2023"
   ]
  },
  {
   "cell_type": "code",
   "execution_count": 1,
   "metadata": {},
   "outputs": [],
   "source": [
    "import os\n",
    "os.environ['TF_CPP_MIN_LOG_LEVEL'] = '2' # disable warning messages"
   ]
  },
  {
   "cell_type": "code",
   "execution_count": 2,
   "metadata": {},
   "outputs": [],
   "source": [
    "import numpy as np\n",
    "from thqml import phasespace as ps\n",
    "from thqml.utilities import utilities\n",
    "import tensorflow as tf\n",
    "#import tensorflow_addons as tfa\n",
    "from tensorflow import keras\n",
    "import matplotlib.pyplot as plt\n",
    "from tensorflow.keras.callbacks import EarlyStopping"
   ]
  },
  {
   "cell_type": "code",
   "execution_count": 3,
   "metadata": {},
   "outputs": [],
   "source": [
    "tf_complex = tf.complex\n",
    "tf_real = tf.float32\n",
    "np_complex = complex\n",
    "np_real = np.float64"
   ]
  },
  {
   "cell_type": "markdown",
   "metadata": {},
   "source": [
    "Set the precision for the output"
   ]
  },
  {
   "cell_type": "code",
   "execution_count": 4,
   "metadata": {},
   "outputs": [],
   "source": [
    "np.set_printoptions(precision=4)"
   ]
  },
  {
   "cell_type": "markdown",
   "metadata": {},
   "source": [
    "## Dimension"
   ]
  },
  {
   "cell_type": "code",
   "execution_count": 5,
   "metadata": {},
   "outputs": [],
   "source": [
    "N = 20"
   ]
  },
  {
   "cell_type": "markdown",
   "metadata": {},
   "source": [
    "## Build vacuum by the Gaussian state"
   ]
  },
  {
   "cell_type": "code",
   "execution_count": 6,
   "metadata": {},
   "outputs": [],
   "source": [
    "vacuum = ps.VacuumLayer(N, name = 'Vacuum')"
   ]
  },
  {
   "cell_type": "markdown",
   "metadata": {},
   "source": [
    "## Build the pullback layer for generating the input coherent state"
   ]
  },
  {
   "cell_type": "markdown",
   "metadata": {},
   "source": [
    "### Target displacement vector (IMPORTANT THE DISPLACEMENT VECTOR MUST BE NORMALIZED!!!)\n",
    "The displacement vector is a normalized column vector"
   ]
  },
  {
   "cell_type": "code",
   "execution_count": 7,
   "metadata": {},
   "outputs": [],
   "source": [
    "dinput = 3.0*np.ones((N,1)); "
   ]
  },
  {
   "cell_type": "markdown",
   "metadata": {},
   "source": [
    "Normalize the dinput (this is needed as we want to training with constant photon number, the target displacement and the input must have the same norm)"
   ]
  },
  {
   "cell_type": "code",
   "execution_count": 8,
   "metadata": {},
   "outputs": [
    {
     "name": "stdout",
     "output_type": "stream",
     "text": [
      "[[0.2236 0.2236 0.2236 0.2236 0.2236 0.2236 0.2236 0.2236 0.2236 0.2236\n",
      "  0.2236 0.2236 0.2236 0.2236 0.2236 0.2236 0.2236 0.2236 0.2236 0.2236]]\n",
      "[[1.]]\n"
     ]
    }
   ],
   "source": [
    "norm = np.linalg.norm(dinput)\n",
    "dinput = dinput /norm\n",
    "print(dinput.transpose())\n",
    "print(np.dot(dinput.transpose(), dinput))"
   ]
  },
  {
   "cell_type": "markdown",
   "metadata": {},
   "source": [
    "## Define the linear Glauber layer\n",
    "The layer is a constant layer, as no training is needed"
   ]
  },
  {
   "cell_type": "code",
   "execution_count": 9,
   "metadata": {},
   "outputs": [],
   "source": [
    "D = ps.DisplacementLayerConstant(dinput, name = 'GlauberLayer')"
   ]
  },
  {
   "cell_type": "markdown",
   "metadata": {},
   "source": [
    "## Define the layer for the untrainable complex medium\n",
    "We can give a name to the layer to appear in the model summary"
   ]
  },
  {
   "cell_type": "code",
   "execution_count": 10,
   "metadata": {},
   "outputs": [],
   "source": [
    "R = ps.RandomLayerConstant(N, name = 'RandomLayerConstant')"
   ]
  },
  {
   "cell_type": "markdown",
   "metadata": {},
   "source": [
    "## Define the trainable random layer"
   ]
  },
  {
   "cell_type": "code",
   "execution_count": 11,
   "metadata": {},
   "outputs": [],
   "source": [
    "T = ps.RandomLayer(N, name='RandomLayer')"
   ]
  },
  {
   "cell_type": "markdown",
   "metadata": {},
   "source": [
    "## Define the normalize target displacement vector <br>\n",
    "The target displacement vector must have the same norm of the input as the photon number is conserved"
   ]
  },
  {
   "cell_type": "code",
   "execution_count": 12,
   "metadata": {},
   "outputs": [
    {
     "name": "stdout",
     "output_type": "stream",
     "text": [
      "[[0.9528 0.3035 0.     0.     0.     0.     0.     0.     0.     0.\n",
      "  0.     0.     0.     0.     0.     0.     0.     0.     0.     0.    ]]\n"
     ]
    }
   ],
   "source": [
    "dtarget = np.zeros((N,1)); dtarget[0]=3.14; dtarget[1]=1.0; \n",
    "norm = np.linalg.norm(dtarget)\n",
    "dtarget = dtarget /norm\n",
    "print(dtarget.transpose())"
   ]
  },
  {
   "cell_type": "markdown",
   "metadata": {},
   "source": [
    "## Connect the layers (in reverse order)"
   ]
  },
  {
   "cell_type": "code",
   "execution_count": 13,
   "metadata": {},
   "outputs": [],
   "source": [
    "xin = tf.keras.layers.Input(N)\n",
    "x3, a3 = R(xin)\n",
    "x2, a2 = T(x3, a3)\n",
    "x1, a1 = D(x2,a2)\n",
    "chir, chii = vacuum(x1, a1)"
   ]
  },
  {
   "cell_type": "code",
   "execution_count": 14,
   "metadata": {},
   "outputs": [],
   "source": [
    "model = tf.keras.Model(inputs = xin, outputs=[chir, chii])"
   ]
  },
  {
   "cell_type": "markdown",
   "metadata": {},
   "source": [
    "## Test the model by derivatives"
   ]
  },
  {
   "cell_type": "code",
   "execution_count": 15,
   "metadata": {},
   "outputs": [],
   "source": [
    "xzero = tf.constant(np.zeros((1,N)))\n",
    "with tf.GradientTape(persistent=True) as tape:\n",
    "    tape.watch(xzero)\n",
    "    chir, chii = model(xzero)         "
   ]
  },
  {
   "cell_type": "code",
   "execution_count": 16,
   "metadata": {},
   "outputs": [
    {
     "name": "stdout",
     "output_type": "stream",
     "text": [
      "[[0 0 0 ... 0 0 0]]\n"
     ]
    }
   ],
   "source": [
    "tf.print(tape.gradient(chir,xzero))"
   ]
  },
  {
   "cell_type": "code",
   "execution_count": 17,
   "metadata": {},
   "outputs": [
    {
     "name": "stdout",
     "output_type": "stream",
     "text": [
      "[[-0.21607400476932526 0.0488644577562809 -0.31387889385223389 ... -0.28683149814605713 -0.31151878833770752 -0.050944756716489792]]\n"
     ]
    }
   ],
   "source": [
    "tf.print(tape.gradient(chii,xzero))"
   ]
  },
  {
   "cell_type": "markdown",
   "metadata": {},
   "source": [
    "## Build the training set by using a target characteristic function"
   ]
  },
  {
   "cell_type": "markdown",
   "metadata": {},
   "source": [
    "Number of training points"
   ]
  },
  {
   "cell_type": "code",
   "execution_count": 18,
   "metadata": {},
   "outputs": [],
   "source": [
    "Nbatch = 100"
   ]
  },
  {
   "cell_type": "markdown",
   "metadata": {},
   "source": [
    "Define the numpy function for the target characteristic function:\n",
    "    a coherent state with a target displacement"
   ]
  },
  {
   "cell_type": "code",
   "execution_count": 19,
   "metadata": {},
   "outputs": [],
   "source": [
    "def chi_target(x, d):\n",
    "    \"\"\" Characteristic function of a Gaussian coherent state\n",
    "    Parameters\n",
    "    ----------\n",
    "    :param x: input\n",
    "    :param d: displacement vector\n",
    "    \"\"\"\n",
    "    yr = -0.25*np.matmul(x, x.transpose())\n",
    "    yi = np.matmul(x, d)\n",
    "    #return yr, yi\n",
    "    return np.exp(yr)*np.cos(yi), np.exp(yr)*np.sin(yi)"
   ]
  },
  {
   "cell_type": "markdown",
   "metadata": {},
   "source": [
    "Generate the training set"
   ]
  },
  {
   "cell_type": "code",
   "execution_count": 20,
   "metadata": {},
   "outputs": [],
   "source": [
    "xtrain = np.random.rand(Nbatch, N)-0.5\n",
    "chitestr = np.zeros(Nbatch)\n",
    "chitesti = np.zeros(Nbatch)\n",
    "for j in range(Nbatch):\n",
    "    chitestr[j], chitesti[j] = chi_target(xtrain[j], dtarget)"
   ]
  },
  {
   "cell_type": "markdown",
   "metadata": {},
   "source": [
    "## Train the model"
   ]
  },
  {
   "cell_type": "code",
   "execution_count": 21,
   "metadata": {},
   "outputs": [],
   "source": [
    "model.compile(optimizer=tf.keras.optimizers.Adam(learning_rate=0.01),\n",
    "                loss='mean_squared_error')"
   ]
  },
  {
   "cell_type": "code",
   "execution_count": 22,
   "metadata": {},
   "outputs": [
    {
     "name": "stdout",
     "output_type": "stream",
     "text": [
      "Model: \"model\"\n",
      "__________________________________________________________________________________________________\n",
      " Layer (type)                   Output Shape         Param #     Connected to                     \n",
      "==================================================================================================\n",
      " input_1 (InputLayer)           [(None, 20)]         0           []                               \n",
      "                                                                                                  \n",
      " RandomLayerConstant (RandomLay  [(None, 20),        200         ['input_1[0][0]']                \n",
      " er)                             (20, 1)]                                                         \n",
      "                                                                                                  \n",
      " RandomLayer (RandomLayer)      [(None, 20),         200         ['RandomLayerConstant[0][0]',    \n",
      "                                 (20, 1)]                         'RandomLayerConstant[0][1]']    \n",
      "                                                                                                  \n",
      " GlauberLayer (LinearLayerConst  [(None, 20),        0           ['RandomLayer[0][0]',            \n",
      " ant)                            (20, 1)]                         'RandomLayer[0][1]']            \n",
      "                                                                                                  \n",
      " Vacuum (GaussianLayer)         [(None, 1),          420         ['GlauberLayer[0][0]',           \n",
      "                                 (None, 1)]                       'GlauberLayer[0][1]']           \n",
      "                                                                                                  \n",
      "==================================================================================================\n",
      "Total params: 820\n",
      "Trainable params: 200\n",
      "Non-trainable params: 620\n",
      "__________________________________________________________________________________________________\n"
     ]
    }
   ],
   "source": [
    "model.summary()"
   ]
  },
  {
   "cell_type": "markdown",
   "metadata": {},
   "source": [
    "Note the model as 200 trainable weight, corresponding to random layer 1, which is the only trainable"
   ]
  },
  {
   "cell_type": "code",
   "execution_count": 23,
   "metadata": {},
   "outputs": [
    {
     "name": "stdout",
     "output_type": "stream",
     "text": [
      "Epoch 1/100\n",
      "4/4 [==============================] - 1s 4ms/step - loss: 0.0808 - Vacuum_loss: 0.0019 - Vacuum_1_loss: 0.0789\n",
      "Epoch 2/100\n",
      "4/4 [==============================] - 0s 3ms/step - loss: 0.0732 - Vacuum_loss: 0.0019 - Vacuum_1_loss: 0.0713\n",
      "Epoch 3/100\n",
      "4/4 [==============================] - 0s 3ms/step - loss: 0.0663 - Vacuum_loss: 0.0022 - Vacuum_1_loss: 0.0641\n",
      "Epoch 4/100\n",
      "4/4 [==============================] - 0s 3ms/step - loss: 0.0602 - Vacuum_loss: 0.0023 - Vacuum_1_loss: 0.0579\n",
      "Epoch 5/100\n",
      "4/4 [==============================] - 0s 3ms/step - loss: 0.0555 - Vacuum_loss: 0.0021 - Vacuum_1_loss: 0.0534\n",
      "Epoch 6/100\n",
      "4/4 [==============================] - 0s 3ms/step - loss: 0.0535 - Vacuum_loss: 0.0019 - Vacuum_1_loss: 0.0515\n",
      "Epoch 7/100\n",
      "4/4 [==============================] - 0s 3ms/step - loss: 0.0514 - Vacuum_loss: 0.0018 - Vacuum_1_loss: 0.0496\n",
      "Epoch 8/100\n",
      "4/4 [==============================] - 0s 3ms/step - loss: 0.0486 - Vacuum_loss: 0.0017 - Vacuum_1_loss: 0.0469\n",
      "Epoch 9/100\n",
      "4/4 [==============================] - 0s 3ms/step - loss: 0.0447 - Vacuum_loss: 0.0017 - Vacuum_1_loss: 0.0430\n",
      "Epoch 10/100\n",
      "4/4 [==============================] - 0s 3ms/step - loss: 0.0407 - Vacuum_loss: 0.0017 - Vacuum_1_loss: 0.0390\n",
      "Epoch 11/100\n",
      "4/4 [==============================] - 0s 3ms/step - loss: 0.0374 - Vacuum_loss: 0.0017 - Vacuum_1_loss: 0.0358\n",
      "Epoch 12/100\n",
      "4/4 [==============================] - 0s 3ms/step - loss: 0.0346 - Vacuum_loss: 0.0016 - Vacuum_1_loss: 0.0330\n",
      "Epoch 13/100\n",
      "4/4 [==============================] - 0s 3ms/step - loss: 0.0316 - Vacuum_loss: 0.0015 - Vacuum_1_loss: 0.0301\n",
      "Epoch 14/100\n",
      "4/4 [==============================] - 0s 3ms/step - loss: 0.0288 - Vacuum_loss: 0.0014 - Vacuum_1_loss: 0.0274\n",
      "Epoch 15/100\n",
      "4/4 [==============================] - 0s 3ms/step - loss: 0.0263 - Vacuum_loss: 0.0013 - Vacuum_1_loss: 0.0251\n",
      "Epoch 16/100\n",
      "4/4 [==============================] - 0s 3ms/step - loss: 0.0240 - Vacuum_loss: 0.0011 - Vacuum_1_loss: 0.0229\n",
      "Epoch 17/100\n",
      "4/4 [==============================] - 0s 3ms/step - loss: 0.0220 - Vacuum_loss: 0.0010 - Vacuum_1_loss: 0.0210\n",
      "Epoch 18/100\n",
      "4/4 [==============================] - 0s 3ms/step - loss: 0.0202 - Vacuum_loss: 9.1201e-04 - Vacuum_1_loss: 0.0193\n",
      "Epoch 19/100\n",
      "4/4 [==============================] - 0s 3ms/step - loss: 0.0183 - Vacuum_loss: 8.2854e-04 - Vacuum_1_loss: 0.0175\n",
      "Epoch 20/100\n",
      "4/4 [==============================] - 0s 3ms/step - loss: 0.0170 - Vacuum_loss: 7.7337e-04 - Vacuum_1_loss: 0.0162\n",
      "Epoch 21/100\n",
      "4/4 [==============================] - 0s 3ms/step - loss: 0.0155 - Vacuum_loss: 7.2309e-04 - Vacuum_1_loss: 0.0148\n",
      "Epoch 22/100\n",
      "4/4 [==============================] - 0s 3ms/step - loss: 0.0140 - Vacuum_loss: 6.7163e-04 - Vacuum_1_loss: 0.0134\n",
      "Epoch 23/100\n",
      "4/4 [==============================] - 0s 3ms/step - loss: 0.0128 - Vacuum_loss: 6.5150e-04 - Vacuum_1_loss: 0.0121\n",
      "Epoch 24/100\n",
      "4/4 [==============================] - 0s 3ms/step - loss: 0.0116 - Vacuum_loss: 6.2084e-04 - Vacuum_1_loss: 0.0110\n",
      "Epoch 25/100\n",
      "4/4 [==============================] - 0s 3ms/step - loss: 0.0103 - Vacuum_loss: 5.4791e-04 - Vacuum_1_loss: 0.0097\n",
      "Epoch 26/100\n",
      "4/4 [==============================] - 0s 3ms/step - loss: 0.0093 - Vacuum_loss: 4.8153e-04 - Vacuum_1_loss: 0.0088\n",
      "Epoch 27/100\n",
      "4/4 [==============================] - 0s 3ms/step - loss: 0.0083 - Vacuum_loss: 4.0180e-04 - Vacuum_1_loss: 0.0079\n",
      "Epoch 28/100\n",
      "4/4 [==============================] - 0s 3ms/step - loss: 0.0076 - Vacuum_loss: 3.6159e-04 - Vacuum_1_loss: 0.0073\n",
      "Epoch 29/100\n",
      "4/4 [==============================] - 0s 3ms/step - loss: 0.0067 - Vacuum_loss: 3.2025e-04 - Vacuum_1_loss: 0.0064\n",
      "Epoch 30/100\n",
      "4/4 [==============================] - 0s 3ms/step - loss: 0.0061 - Vacuum_loss: 3.0293e-04 - Vacuum_1_loss: 0.0058\n",
      "Epoch 31/100\n",
      "4/4 [==============================] - 0s 3ms/step - loss: 0.0055 - Vacuum_loss: 2.9116e-04 - Vacuum_1_loss: 0.0053\n",
      "Epoch 32/100\n",
      "4/4 [==============================] - 0s 3ms/step - loss: 0.0052 - Vacuum_loss: 2.8251e-04 - Vacuum_1_loss: 0.0049\n",
      "Epoch 33/100\n",
      "4/4 [==============================] - 0s 3ms/step - loss: 0.0046 - Vacuum_loss: 2.5907e-04 - Vacuum_1_loss: 0.0043\n",
      "Epoch 34/100\n",
      "4/4 [==============================] - 0s 3ms/step - loss: 0.0039 - Vacuum_loss: 2.2606e-04 - Vacuum_1_loss: 0.0037\n",
      "Epoch 35/100\n",
      "4/4 [==============================] - 0s 3ms/step - loss: 0.0038 - Vacuum_loss: 2.2112e-04 - Vacuum_1_loss: 0.0035\n",
      "Epoch 36/100\n",
      "4/4 [==============================] - 0s 3ms/step - loss: 0.0034 - Vacuum_loss: 2.0390e-04 - Vacuum_1_loss: 0.0032\n",
      "Epoch 37/100\n",
      "4/4 [==============================] - 0s 3ms/step - loss: 0.0030 - Vacuum_loss: 1.8810e-04 - Vacuum_1_loss: 0.0028\n",
      "Epoch 38/100\n",
      "4/4 [==============================] - 0s 3ms/step - loss: 0.0028 - Vacuum_loss: 1.7964e-04 - Vacuum_1_loss: 0.0026\n",
      "Epoch 39/100\n",
      "4/4 [==============================] - 0s 3ms/step - loss: 0.0026 - Vacuum_loss: 1.6527e-04 - Vacuum_1_loss: 0.0025\n",
      "Epoch 40/100\n",
      "4/4 [==============================] - 0s 3ms/step - loss: 0.0023 - Vacuum_loss: 1.4294e-04 - Vacuum_1_loss: 0.0022\n",
      "Epoch 41/100\n",
      "4/4 [==============================] - 0s 3ms/step - loss: 0.0020 - Vacuum_loss: 1.1854e-04 - Vacuum_1_loss: 0.0019\n",
      "Epoch 42/100\n",
      "4/4 [==============================] - 0s 3ms/step - loss: 0.0017 - Vacuum_loss: 1.0090e-04 - Vacuum_1_loss: 0.0016\n",
      "Epoch 43/100\n",
      "4/4 [==============================] - 0s 5ms/step - loss: 0.0016 - Vacuum_loss: 9.8210e-05 - Vacuum_1_loss: 0.0015\n",
      "Epoch 44/100\n",
      "4/4 [==============================] - 0s 5ms/step - loss: 0.0015 - Vacuum_loss: 9.3221e-05 - Vacuum_1_loss: 0.0014\n",
      "Epoch 45/100\n",
      "4/4 [==============================] - 0s 3ms/step - loss: 0.0013 - Vacuum_loss: 7.1816e-05 - Vacuum_1_loss: 0.0012    \n",
      "Epoch 46/100\n",
      "4/4 [==============================] - 0s 3ms/step - loss: 0.0011 - Vacuum_loss: 6.3104e-05 - Vacuum_1_loss: 0.0010\n",
      "Epoch 47/100\n",
      "4/4 [==============================] - 0s 3ms/step - loss: 0.0010 - Vacuum_loss: 6.1665e-05 - Vacuum_1_loss: 9.5727e-04\n",
      "Epoch 48/100\n",
      "4/4 [==============================] - 0s 4ms/step - loss: 9.3956e-04 - Vacuum_loss: 5.8713e-05 - Vacuum_1_loss: 8.8085e-04\n",
      "Epoch 49/100\n",
      "4/4 [==============================] - 0s 3ms/step - loss: 8.5121e-04 - Vacuum_loss: 5.4205e-05 - Vacuum_1_loss: 7.9701e-04\n",
      "Epoch 50/100\n",
      "4/4 [==============================] - 0s 3ms/step - loss: 7.6512e-04 - Vacuum_loss: 4.8926e-05 - Vacuum_1_loss: 7.1620e-04\n",
      "Epoch 51/100\n",
      "4/4 [==============================] - 0s 4ms/step - loss: 6.8701e-04 - Vacuum_loss: 4.2965e-05 - Vacuum_1_loss: 6.4405e-04\n",
      "Epoch 52/100\n",
      "4/4 [==============================] - 0s 3ms/step - loss: 6.2307e-04 - Vacuum_loss: 3.8097e-05 - Vacuum_1_loss: 5.8497e-04\n",
      "Epoch 53/100\n",
      "4/4 [==============================] - 0s 3ms/step - loss: 5.4328e-04 - Vacuum_loss: 3.3705e-05 - Vacuum_1_loss: 5.0958e-04\n",
      "Epoch 54/100\n",
      "4/4 [==============================] - 0s 3ms/step - loss: 4.6763e-04 - Vacuum_loss: 3.0888e-05 - Vacuum_1_loss: 4.3675e-04\n",
      "Epoch 55/100\n",
      "4/4 [==============================] - 0s 3ms/step - loss: 4.5757e-04 - Vacuum_loss: 2.9090e-05 - Vacuum_1_loss: 4.2848e-04\n",
      "Epoch 56/100\n",
      "4/4 [==============================] - 0s 3ms/step - loss: 4.6146e-04 - Vacuum_loss: 2.9356e-05 - Vacuum_1_loss: 4.3211e-04\n",
      "Epoch 57/100\n",
      "4/4 [==============================] - 0s 3ms/step - loss: 3.8938e-04 - Vacuum_loss: 2.5087e-05 - Vacuum_1_loss: 3.6429e-04\n",
      "Epoch 58/100\n",
      "4/4 [==============================] - 0s 3ms/step - loss: 3.4624e-04 - Vacuum_loss: 2.1895e-05 - Vacuum_1_loss: 3.2434e-04\n",
      "Epoch 59/100\n",
      "4/4 [==============================] - 0s 3ms/step - loss: 3.1050e-04 - Vacuum_loss: 1.9469e-05 - Vacuum_1_loss: 2.9103e-04\n",
      "Epoch 60/100\n",
      "4/4 [==============================] - 0s 3ms/step - loss: 2.6584e-04 - Vacuum_loss: 1.6596e-05 - Vacuum_1_loss: 2.4924e-04\n",
      "Epoch 61/100\n",
      "4/4 [==============================] - 0s 3ms/step - loss: 2.2887e-04 - Vacuum_loss: 1.5458e-05 - Vacuum_1_loss: 2.1341e-04\n",
      "Epoch 62/100\n",
      "4/4 [==============================] - 0s 3ms/step - loss: 2.0244e-04 - Vacuum_loss: 1.3647e-05 - Vacuum_1_loss: 1.8879e-04\n",
      "Epoch 63/100\n",
      "4/4 [==============================] - 0s 3ms/step - loss: 1.8471e-04 - Vacuum_loss: 1.2199e-05 - Vacuum_1_loss: 1.7251e-04\n",
      "Epoch 64/100\n",
      "4/4 [==============================] - 0s 3ms/step - loss: 1.8400e-04 - Vacuum_loss: 1.1245e-05 - Vacuum_1_loss: 1.7275e-04\n",
      "Epoch 65/100\n",
      "4/4 [==============================] - 0s 3ms/step - loss: 1.6337e-04 - Vacuum_loss: 9.9612e-06 - Vacuum_1_loss: 1.5341e-04\n",
      "Epoch 66/100\n",
      "4/4 [==============================] - 0s 3ms/step - loss: 1.4685e-04 - Vacuum_loss: 9.3231e-06 - Vacuum_1_loss: 1.3753e-04\n",
      "Epoch 67/100\n",
      "4/4 [==============================] - 0s 3ms/step - loss: 1.3921e-04 - Vacuum_loss: 8.9731e-06 - Vacuum_1_loss: 1.3024e-04\n",
      "Epoch 68/100\n",
      "4/4 [==============================] - 0s 3ms/step - loss: 1.2075e-04 - Vacuum_loss: 7.2525e-06 - Vacuum_1_loss: 1.1350e-04\n",
      "Epoch 69/100\n",
      "4/4 [==============================] - 0s 3ms/step - loss: 1.0478e-04 - Vacuum_loss: 5.7340e-06 - Vacuum_1_loss: 9.9051e-05\n",
      "Epoch 70/100\n",
      "4/4 [==============================] - 0s 3ms/step - loss: 9.0103e-05 - Vacuum_loss: 4.9592e-06 - Vacuum_1_loss: 8.5144e-05\n",
      "Epoch 71/100\n",
      "4/4 [==============================] - 0s 3ms/step - loss: 7.4975e-05 - Vacuum_loss: 4.5536e-06 - Vacuum_1_loss: 7.0422e-05\n",
      "Epoch 72/100\n",
      "4/4 [==============================] - 0s 3ms/step - loss: 6.8019e-05 - Vacuum_loss: 4.3666e-06 - Vacuum_1_loss: 6.3652e-05\n",
      "Epoch 73/100\n",
      "4/4 [==============================] - 0s 3ms/step - loss: 6.2765e-05 - Vacuum_loss: 4.3437e-06 - Vacuum_1_loss: 5.8421e-05\n",
      "Epoch 74/100\n",
      "4/4 [==============================] - 0s 3ms/step - loss: 5.5023e-05 - Vacuum_loss: 4.0184e-06 - Vacuum_1_loss: 5.1005e-05\n",
      "Epoch 75/100\n",
      "4/4 [==============================] - 0s 4ms/step - loss: 5.2456e-05 - Vacuum_loss: 3.4494e-06 - Vacuum_1_loss: 4.9006e-05\n",
      "Epoch 76/100\n",
      "4/4 [==============================] - 0s 3ms/step - loss: 4.7061e-05 - Vacuum_loss: 2.8264e-06 - Vacuum_1_loss: 4.4234e-05\n",
      "Epoch 77/100\n",
      "4/4 [==============================] - 0s 3ms/step - loss: 4.0639e-05 - Vacuum_loss: 2.3244e-06 - Vacuum_1_loss: 3.8315e-05\n",
      "Epoch 78/100\n",
      "4/4 [==============================] - 0s 3ms/step - loss: 3.8849e-05 - Vacuum_loss: 2.0205e-06 - Vacuum_1_loss: 3.6828e-05\n",
      "Epoch 79/100\n",
      "4/4 [==============================] - 0s 3ms/step - loss: 3.4542e-05 - Vacuum_loss: 1.8954e-06 - Vacuum_1_loss: 3.2647e-05\n",
      "Epoch 80/100\n",
      "4/4 [==============================] - 0s 3ms/step - loss: 2.6184e-05 - Vacuum_loss: 1.5120e-06 - Vacuum_1_loss: 2.4672e-05\n",
      "Epoch 81/100\n",
      "4/4 [==============================] - 0s 3ms/step - loss: 2.5113e-05 - Vacuum_loss: 1.5779e-06 - Vacuum_1_loss: 2.3535e-05\n",
      "Epoch 82/100\n",
      "4/4 [==============================] - 0s 6ms/step - loss: 2.4503e-05 - Vacuum_loss: 1.6659e-06 - Vacuum_1_loss: 2.2837e-05\n",
      "Epoch 83/100\n",
      "4/4 [==============================] - 0s 6ms/step - loss: 2.0640e-05 - Vacuum_loss: 1.5501e-06 - Vacuum_1_loss: 1.9090e-05\n",
      "Epoch 84/100\n",
      "4/4 [==============================] - 0s 3ms/step - loss: 1.9579e-05 - Vacuum_loss: 1.4646e-06 - Vacuum_1_loss: 1.8114e-05\n",
      "Epoch 85/100\n",
      "4/4 [==============================] - 0s 3ms/step - loss: 1.8207e-05 - Vacuum_loss: 1.2992e-06 - Vacuum_1_loss: 1.6908e-05\n",
      "Epoch 86/100\n",
      "4/4 [==============================] - 0s 4ms/step - loss: 1.5599e-05 - Vacuum_loss: 9.3595e-07 - Vacuum_1_loss: 1.4663e-05\n",
      "Epoch 87/100\n",
      "4/4 [==============================] - 0s 3ms/step - loss: 1.2790e-05 - Vacuum_loss: 7.1102e-07 - Vacuum_1_loss: 1.2079e-05\n",
      "Epoch 88/100\n",
      "4/4 [==============================] - 0s 3ms/step - loss: 1.0738e-05 - Vacuum_loss: 6.1931e-07 - Vacuum_1_loss: 1.0119e-05\n",
      "Epoch 89/100\n",
      "4/4 [==============================] - 0s 3ms/step - loss: 1.0128e-05 - Vacuum_loss: 6.1213e-07 - Vacuum_1_loss: 9.5162e-06\n",
      "Epoch 90/100\n",
      "4/4 [==============================] - 0s 3ms/step - loss: 8.8945e-06 - Vacuum_loss: 5.5909e-07 - Vacuum_1_loss: 8.3354e-06\n",
      "Epoch 91/100\n",
      "4/4 [==============================] - 0s 4ms/step - loss: 7.4734e-06 - Vacuum_loss: 4.9258e-07 - Vacuum_1_loss: 6.9808e-06\n",
      "Epoch 92/100\n",
      "4/4 [==============================] - 0s 3ms/step - loss: 6.8537e-06 - Vacuum_loss: 4.0964e-07 - Vacuum_1_loss: 6.4441e-06\n",
      "Epoch 93/100\n",
      "4/4 [==============================] - 0s 3ms/step - loss: 5.8021e-06 - Vacuum_loss: 3.1202e-07 - Vacuum_1_loss: 5.4901e-06\n",
      "Epoch 94/100\n",
      "4/4 [==============================] - 0s 3ms/step - loss: 4.7538e-06 - Vacuum_loss: 2.5170e-07 - Vacuum_1_loss: 4.5021e-06\n",
      "Epoch 95/100\n",
      "4/4 [==============================] - 0s 3ms/step - loss: 4.7762e-06 - Vacuum_loss: 2.6872e-07 - Vacuum_1_loss: 4.5075e-06\n",
      "Epoch 96/100\n",
      "4/4 [==============================] - 0s 3ms/step - loss: 4.0696e-06 - Vacuum_loss: 2.2388e-07 - Vacuum_1_loss: 3.8458e-06\n",
      "Epoch 97/100\n",
      "4/4 [==============================] - 0s 3ms/step - loss: 3.1009e-06 - Vacuum_loss: 1.9751e-07 - Vacuum_1_loss: 2.9034e-06\n",
      "Epoch 98/100\n",
      "4/4 [==============================] - 0s 4ms/step - loss: 2.7872e-06 - Vacuum_loss: 2.0801e-07 - Vacuum_1_loss: 2.5792e-06\n",
      "Epoch 99/100\n",
      "4/4 [==============================] - 0s 3ms/step - loss: 2.4837e-06 - Vacuum_loss: 1.8460e-07 - Vacuum_1_loss: 2.2991e-06\n",
      "Epoch 100/100\n",
      "4/4 [==============================] - 0s 3ms/step - loss: 2.1886e-06 - Vacuum_loss: 1.5768e-07 - Vacuum_1_loss: 2.0309e-06\n"
     ]
    }
   ],
   "source": [
    "history=model.fit(x=xtrain, y=(chitestr, chitesti), epochs=100, verbose=1)"
   ]
  },
  {
   "cell_type": "code",
   "execution_count": 24,
   "metadata": {},
   "outputs": [
    {
     "data": {
      "image/png": "[encoded data removed]",
      "text/plain": [
       "<Figure size 640x480 with 1 Axes>"
      ]
     },
     "metadata": {},
     "output_type": "display_data"
    }
   ],
   "source": [
    "# %%\n",
    "# %matplotlib inline\n",
    "# Plot training & validation accuracy values\n",
    "f1 = plt.figure\n",
    "#plt.subplot(2, 1s'])\n",
    "plt.plot(history.history['loss'])\n",
    "plt.ylabel('Error')\n",
    "plt.xlabel('Epochs')\n",
    "plt.savefig('training1.pdf')"
   ]
  },
  {
   "cell_type": "markdown",
   "metadata": {},
   "source": [
    "## Test the derivative of the model\n",
    "Evaluate the expectation value of the displacement as derivative of the characterisc function"
   ]
  },
  {
   "cell_type": "code",
   "execution_count": 25,
   "metadata": {},
   "outputs": [],
   "source": [
    "#x = tf.constant(np.zeros((1,N)), dtype=tf_real) # the derivative are evaluated at x=0\n",
    "with tf.GradientTape(persistent=True) as tape:\n",
    "    tape.watch(xzero)\n",
    "    chir, chii = model(xzero)"
   ]
  },
  {
   "cell_type": "code",
   "execution_count": 26,
   "metadata": {},
   "outputs": [
    {
     "name": "stdout",
     "output_type": "stream",
     "text": [
      "tf.Tensor([[0. 0. 0. 0. 0. 0. 0. 0. 0. 0. 0. 0. 0. 0. 0. 0. 0. 0. 0. 0.]], shape=(1, 20), dtype=float64)\n"
     ]
    }
   ],
   "source": [
    "print(tape.gradient(chir,xzero))"
   ]
  },
  {
   "cell_type": "markdown",
   "metadata": {},
   "source": [
    "## Compare the derivative of the chi and the target vector"
   ]
  },
  {
   "cell_type": "code",
   "execution_count": 27,
   "metadata": {},
   "outputs": [
    {
     "name": "stdout",
     "output_type": "stream",
     "text": [
      "[[0.95324116945266724 0.30203521251678467 -0.0023171333596110344 ... 0.00096286879852414131 -0.0017163989832624793 0.0011690058745443821]]\n"
     ]
    }
   ],
   "source": [
    "tf.print(tape.gradient(chii,xzero))"
   ]
  },
  {
   "cell_type": "code",
   "execution_count": 28,
   "metadata": {},
   "outputs": [
    {
     "name": "stdout",
     "output_type": "stream",
     "text": [
      "[[0.9528 0.3035 0.     0.     0.     0.     0.     0.     0.     0.\n",
      "  0.     0.     0.     0.     0.     0.     0.     0.     0.     0.    ]]\n"
     ]
    }
   ],
   "source": [
    "print(dtarget.transpose())"
   ]
  },
  {
   "cell_type": "code",
   "execution_count": null,
   "metadata": {},
   "outputs": [],
   "source": []
  }
 ],
 "metadata": {
  "kernelspec": {
   "display_name": "Python 3 (ipykernel)",
   "language": "python",
   "name": "python3"
  },
  "language_info": {
   "codemirror_mode": {
    "name": "ipython",
    "version": 3
   },
   "file_extension": ".py",
   "mimetype": "text/x-python",
   "name": "python",
   "nbconvert_exporter": "python",
   "pygments_lexer": "ipython3",
   "version": "3.10.12"
  }
 },
 "nbformat": 4,
 "nbformat_minor": 4
}
