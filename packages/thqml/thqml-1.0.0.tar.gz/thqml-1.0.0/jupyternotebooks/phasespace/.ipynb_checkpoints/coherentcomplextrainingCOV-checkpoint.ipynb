{
 "cells": [
  {
   "cell_type": "markdown",
   "metadata": {},
   "source": [
    "# Training by using the covariance matrix of multihead coherent state generation by pullback"
   ]
  },
  {
   "cell_type": "markdown",
   "metadata": {},
   "source": [
    "Use the multihead (2-head) gates in the phase space \n",
    "to create a network that represent a coherent state,\n",
    "by starting from a Gaussian state and making a pullback\n",
    "\n",
    "Use the derivative and the covariance matrix for the training\n",
    "\n",
    "NOTE: remember to shut down the kernel when out of memory\n",
    "\n",
    "<img src=\"../img/complexcoherentCOV.png\" width=\"900\" height=\"300\" />\n",
    "\n",
    "<img src=\"../img/logo_circular.png\" width=\"20\" height=\"20\" />@by claudio<br>\n",
    "\n",
    "nonlinearxwaves@gmail.com<br>\n",
    "@created 21 sep 2020<br>\n",
    "@version 15 may 2023"
   ]
  },
  {
   "cell_type": "code",
   "execution_count": 1,
   "metadata": {},
   "outputs": [
    {
     "name": "stderr",
     "output_type": "stream",
     "text": [
      "2023-05-14 11:14:28.652638: W tensorflow/stream_executor/platform/default/dso_loader.cc:64] Could not load dynamic library 'libcudart.so.11.0'; dlerror: libcudart.so.11.0: cannot open shared object file: No such file or directory\n",
      "2023-05-14 11:14:28.652660: I tensorflow/stream_executor/cuda/cudart_stub.cc:29] Ignore above cudart dlerror if you do not have a GPU set up on your machine.\n"
     ]
    }
   ],
   "source": [
    "import numpy as np\n",
    "from thqml import phasespace as ps\n",
    "from thqml.utilities import utilities\n",
    "import tensorflow as tf\n",
    "from tensorflow import keras\n",
    "import matplotlib.pyplot as plt"
   ]
  },
  {
   "cell_type": "code",
   "execution_count": 2,
   "metadata": {},
   "outputs": [],
   "source": [
    "tf_complex = tf.complex\n",
    "tf_real = tf.float32\n",
    "np_complex = complex\n",
    "np_real = np.float32"
   ]
  },
  {
   "cell_type": "markdown",
   "metadata": {},
   "source": [
    "Precision for output on the screen"
   ]
  },
  {
   "cell_type": "code",
   "execution_count": 3,
   "metadata": {},
   "outputs": [],
   "source": [
    "np.set_printoptions(precision=2)"
   ]
  },
  {
   "cell_type": "markdown",
   "metadata": {},
   "source": [
    "## Dimension"
   ]
  },
  {
   "cell_type": "code",
   "execution_count": 4,
   "metadata": {},
   "outputs": [],
   "source": [
    "N = 10"
   ]
  },
  {
   "cell_type": "markdown",
   "metadata": {},
   "source": [
    "## Build vacuum by the Gaussian state"
   ]
  },
  {
   "cell_type": "code",
   "execution_count": 5,
   "metadata": {},
   "outputs": [
    {
     "name": "stderr",
     "output_type": "stream",
     "text": [
      "2023-05-14 11:14:31.629718: W tensorflow/stream_executor/platform/default/dso_loader.cc:64] Could not load dynamic library 'libcuda.so.1'; dlerror: libcuda.so.1: cannot open shared object file: No such file or directory\n",
      "2023-05-14 11:14:31.629752: W tensorflow/stream_executor/cuda/cuda_driver.cc:269] failed call to cuInit: UNKNOWN ERROR (303)\n",
      "2023-05-14 11:14:31.629788: I tensorflow/stream_executor/cuda/cuda_diagnostics.cc:156] kernel driver does not appear to be running on this host (x1): /proc/driver/nvidia/version does not exist\n",
      "2023-05-14 11:14:31.630160: I tensorflow/core/platform/cpu_feature_guard.cc:151] This TensorFlow binary is optimized with oneAPI Deep Neural Network Library (oneDNN) to use the following CPU instructions in performance-critical operations:  AVX2 FMA\n",
      "To enable them in other operations, rebuild TensorFlow with the appropriate compiler flags.\n"
     ]
    }
   ],
   "source": [
    "vacuum = ps.VacuumLayer(N)"
   ]
  },
  {
   "cell_type": "markdown",
   "metadata": {},
   "source": [
    "## Build the pullback layer for generating the input coherent state"
   ]
  },
  {
   "cell_type": "markdown",
   "metadata": {},
   "source": [
    "The target displacement is a normalized vector"
   ]
  },
  {
   "cell_type": "code",
   "execution_count": 6,
   "metadata": {},
   "outputs": [
    {
     "name": "stdout",
     "output_type": "stream",
     "text": [
      "[[0.32 0.32 0.32 0.32 0.32 0.32 0.32 0.32 0.32 0.32]]\n"
     ]
    }
   ],
   "source": [
    "dinput = 3.0*np.ones((N,1)); \n",
    "norm = np.linalg.norm(dinput)\n",
    "dinput = dinput /norm\n",
    "print(dinput.transpose())"
   ]
  },
  {
   "cell_type": "markdown",
   "metadata": {},
   "source": [
    "Check the normalization of the dtarget"
   ]
  },
  {
   "cell_type": "code",
   "execution_count": 7,
   "metadata": {},
   "outputs": [
    {
     "name": "stdout",
     "output_type": "stream",
     "text": [
      "[[1.]]\n"
     ]
    }
   ],
   "source": [
    "print(np.dot(dinput.transpose(), dinput)) "
   ]
  },
  {
   "cell_type": "markdown",
   "metadata": {},
   "source": [
    "### Build the Displacement layer\n",
    "The layer is a constant layer, as no training is needed"
   ]
  },
  {
   "cell_type": "code",
   "execution_count": 8,
   "metadata": {},
   "outputs": [],
   "source": [
    "D = ps.DisplacementLayerConstant(dinput)"
   ]
  },
  {
   "cell_type": "markdown",
   "metadata": {},
   "source": [
    "## Define the layer for the constant random medium\n",
    "The LinearConstantMultiHead generate by default a random medium with \n",
    "the relevant symplectic operator"
   ]
  },
  {
   "cell_type": "code",
   "execution_count": 9,
   "metadata": {},
   "outputs": [],
   "source": [
    "R = ps.RandomLayerConstant(N)"
   ]
  },
  {
   "cell_type": "markdown",
   "metadata": {},
   "source": [
    "## Define the trainable unitary layer"
   ]
  },
  {
   "cell_type": "code",
   "execution_count": 10,
   "metadata": {},
   "outputs": [],
   "source": [
    "T = ps.RandomLayer(N)"
   ]
  },
  {
   "cell_type": "markdown",
   "metadata": {},
   "source": [
    "## Define the normalized target displacement vector"
   ]
  },
  {
   "cell_type": "code",
   "execution_count": 11,
   "metadata": {},
   "outputs": [
    {
     "name": "stdout",
     "output_type": "stream",
     "text": [
      "[[0.89 0.45 0.   0.   0.   0.   0.   0.   0.   0.  ]]\n"
     ]
    }
   ],
   "source": [
    "dtarget = np.zeros((N,1)); dtarget[0]=1.0; dtarget[1]=0.5;\n",
    "norm = np.linalg.norm(dtarget)\n",
    "dtarget = dtarget /norm\n",
    "print(dtarget.transpose())"
   ]
  },
  {
   "cell_type": "markdown",
   "metadata": {},
   "source": [
    "Check the normalization"
   ]
  },
  {
   "cell_type": "code",
   "execution_count": 12,
   "metadata": {},
   "outputs": [
    {
     "name": "stdout",
     "output_type": "stream",
     "text": [
      "[[1.]]\n"
     ]
    }
   ],
   "source": [
    "print(np.dot(dtarget.transpose(), dtarget)) "
   ]
  },
  {
   "cell_type": "markdown",
   "metadata": {},
   "source": [
    "## Define the target covariance matrix"
   ]
  },
  {
   "cell_type": "code",
   "execution_count": 13,
   "metadata": {},
   "outputs": [],
   "source": [
    "gtarget = np.eye(N);"
   ]
  },
  {
   "cell_type": "markdown",
   "metadata": {},
   "source": [
    "## Connect the layers"
   ]
  },
  {
   "cell_type": "markdown",
   "metadata": {},
   "source": [
    "Input layer"
   ]
  },
  {
   "cell_type": "code",
   "execution_count": 14,
   "metadata": {},
   "outputs": [
    {
     "name": "stdout",
     "output_type": "stream",
     "text": [
      "KerasTensor(type_spec=TensorSpec(shape=(None, 10), dtype=tf.float32, name='input_1'), name='input_1', description=\"created by layer 'input_1'\")\n"
     ]
    }
   ],
   "source": [
    "xin = tf.keras.layers.Input(N);print(xin)"
   ]
  },
  {
   "cell_type": "code",
   "execution_count": 15,
   "metadata": {},
   "outputs": [],
   "source": [
    "x3, a3 = R(xin)\n",
    "x2, a2 = T(x3,a3)\n",
    "x1, a1 = D(x2,a2)\n",
    "chir, chii = vacuum(x1, a1) \n",
    "pullback = tf.keras.Model(inputs = xin, outputs=[chir, chii])"
   ]
  },
  {
   "cell_type": "markdown",
   "metadata": {},
   "source": [
    "Add the covariance and derivative layer for evaluating the mean <R>"
   ]
  },
  {
   "cell_type": "code",
   "execution_count": 16,
   "metadata": {},
   "outputs": [],
   "source": [
    "cov_layer = ps.CovarianceLayer(N)\n",
    "g, Re, _ = cov_layer(chir,chii, pullback)"
   ]
  },
  {
   "cell_type": "code",
   "execution_count": 17,
   "metadata": {},
   "outputs": [],
   "source": [
    "pullback_cov = tf.keras.Model(inputs = xin, outputs=[g, Re])"
   ]
  },
  {
   "cell_type": "markdown",
   "metadata": {},
   "source": [
    "### Store the M,d of the LL_complex layer for later chek"
   ]
  },
  {
   "cell_type": "code",
   "execution_count": 18,
   "metadata": {},
   "outputs": [],
   "source": [
    "M_R_tf, _=R.get_M(); M_R_np=M_R_tf.numpy()"
   ]
  },
  {
   "cell_type": "code",
   "execution_count": 19,
   "metadata": {},
   "outputs": [],
   "source": [
    "d_R_np=R.d.numpy()"
   ]
  },
  {
   "cell_type": "markdown",
   "metadata": {},
   "source": [
    "### Store the M, d of the untrained U_train layer for later check"
   ]
  },
  {
   "cell_type": "code",
   "execution_count": 20,
   "metadata": {},
   "outputs": [],
   "source": [
    "WR_untrained_T = T.WR.numpy()"
   ]
  },
  {
   "cell_type": "code",
   "execution_count": 21,
   "metadata": {},
   "outputs": [],
   "source": [
    "WI_untrained_T = T.WI.numpy()"
   ]
  },
  {
   "cell_type": "code",
   "execution_count": 22,
   "metadata": {},
   "outputs": [],
   "source": [
    "M_untrained_T, MI_untrained_T = T.get_M()"
   ]
  },
  {
   "cell_type": "markdown",
   "metadata": {},
   "source": [
    "## Auxiliary staff"
   ]
  },
  {
   "cell_type": "markdown",
   "metadata": {},
   "source": [
    "Tensor flow function that returns the gradient"
   ]
  },
  {
   "cell_type": "code",
   "execution_count": 23,
   "metadata": {},
   "outputs": [],
   "source": [
    "@tf.function\n",
    "def derivative():\n",
    "    x = tf.constant(np.zeros((1,N)))\n",
    "    with tf.GradientTape() as tape:\n",
    "        tape.watch(x)\n",
    "        cr, ci = pullback(x)\n",
    "        chii_x = tape.gradient(ci, x)\n",
    "    return chii_x"
   ]
  },
  {
   "cell_type": "markdown",
   "metadata": {},
   "source": [
    "Tensor flow function that returns the covariance matrix"
   ]
  },
  {
   "cell_type": "code",
   "execution_count": 24,
   "metadata": {},
   "outputs": [],
   "source": [
    "@tf.function\n",
    "def covariance_matrix():\n",
    "    x = tf.constant(np.zeros((1,N)))\n",
    "    with tf.GradientTape(persistent=True) as t1:\n",
    "        t1.watch(x)\n",
    "        with tf.GradientTape(persistent=True) as t2:\n",
    "            t2.watch(x)\n",
    "            cr, ci = pullback(x)\n",
    "        cr_x = t2.gradient(cr, x)\n",
    "        ci_x = t2.gradient(ci, x)\n",
    "    d2cr= t1.jacobian(cr_x,x)\n",
    "    # reshape the Jacobian to a matrix\n",
    "    Hc2 = tf.reshape(d2cr, [N,N])\n",
    "    # evaluate the covariance with the factor 2.0 to account for the definition of g\n",
    "    cov = -2*(Hc2+tf.matmul(ci_x,ci_x,transpose_a=True))      \n",
    "    return cov"
   ]
  },
  {
   "cell_type": "markdown",
   "metadata": {},
   "source": [
    "## Build the training set by using a target characteristic function"
   ]
  },
  {
   "cell_type": "markdown",
   "metadata": {},
   "source": [
    "Number of training points\n",
    "Also a single training point is enough for Gaussian state, more points improve the training"
   ]
  },
  {
   "cell_type": "code",
   "execution_count": 25,
   "metadata": {},
   "outputs": [],
   "source": [
    "Nbatch = 100"
   ]
  },
  {
   "cell_type": "markdown",
   "metadata": {},
   "source": [
    "Define the numpy function for the target characteristic function:\n",
    "    a coherent state with a target displacement\n",
    "One need a target d for any training points"
   ]
  },
  {
   "cell_type": "code",
   "execution_count": 26,
   "metadata": {},
   "outputs": [],
   "source": [
    "xtrain = np.random.rand(Nbatch, N)-0.5\n",
    "Rtrain = np.zeros((Nbatch,N))\n",
    "gtrain = np.zeros((Nbatch,N,N))\n",
    "for j in range(Nbatch):\n",
    "    for i in range(N):\n",
    "        Rtrain[j,i]=dtarget[i]\n",
    "        for k in range(N):\n",
    "            gtrain[j,i,k]=gtarget[i,k]"
   ]
  },
  {
   "cell_type": "markdown",
   "metadata": {},
   "source": [
    "## Train the model"
   ]
  },
  {
   "cell_type": "code",
   "execution_count": 27,
   "metadata": {},
   "outputs": [],
   "source": [
    "pullback_cov.compile(optimizer=tf.keras.optimizers.Adam(learning_rate=0.01),\n",
    "                loss='mean_squared_error')"
   ]
  },
  {
   "cell_type": "markdown",
   "metadata": {},
   "source": [
    "Summary of the derivative model"
   ]
  },
  {
   "cell_type": "code",
   "execution_count": 28,
   "metadata": {},
   "outputs": [
    {
     "name": "stdout",
     "output_type": "stream",
     "text": [
      "Model: \"model_1\"\n",
      "__________________________________________________________________________________________________\n",
      " Layer (type)                   Output Shape         Param #     Connected to                     \n",
      "==================================================================================================\n",
      " input_1 (InputLayer)           [(None, 10)]         0           []                               \n",
      "                                                                                                  \n",
      " random_layer (RandomLayer)     [(None, 10),         50          ['input_1[0][0]']                \n",
      "                                 (10, 1)]                                                         \n",
      "                                                                                                  \n",
      " random_layer_1 (RandomLayer)   [(None, 10),         50          ['random_layer[0][0]',           \n",
      "                                 (10, 1)]                         'random_layer[0][1]']           \n",
      "                                                                                                  \n",
      " linear_layer_constant (LinearL  [(None, 10),        0           ['random_layer_1[0][0]',         \n",
      " ayerConstant)                   (10, 1)]                         'random_layer_1[0][1]']         \n",
      "                                                                                                  \n",
      " gaussian_layer (GaussianLayer)  [(None, 1),         110         ['linear_layer_constant[0][0]',  \n",
      "                                 (None, 1)]                       'linear_layer_constant[0][1]']  \n",
      "                                                                                                  \n",
      " covariance_layer (CovarianceLa  ((10, 10),          0           ['gaussian_layer[0][0]',         \n",
      " yer)                            (1, 10),                         'gaussian_layer[0][1]']         \n",
      "                                 (10, 10))                                                        \n",
      "                                                                                                  \n",
      "==================================================================================================\n",
      "Total params: 210\n",
      "Trainable params: 50\n",
      "Non-trainable params: 160\n",
      "__________________________________________________________________________________________________\n"
     ]
    }
   ],
   "source": [
    "pullback_cov.summary()"
   ]
  },
  {
   "cell_type": "markdown",
   "metadata": {},
   "source": [
    "Test the call of the derivative layer"
   ]
  },
  {
   "cell_type": "code",
   "execution_count": 29,
   "metadata": {},
   "outputs": [
    {
     "data": {
      "text/plain": [
       "[<tf.Tensor: shape=(10, 10), dtype=float32, numpy=\n",
       " array([[ 1.00e+00, -5.22e-08, -8.94e-08, -3.73e-08,  5.96e-08, -1.49e-08,\n",
       "         -5.96e-08,  8.94e-08,  1.79e-07, -5.96e-08],\n",
       "        [-2.24e-08,  1.00e+00,  3.73e-08, -3.26e-08,  6.71e-08,  6.89e-08,\n",
       "         -7.45e-08, -2.98e-08,  5.96e-08,  1.04e-07],\n",
       "        [-5.96e-08,  8.94e-08,  1.00e+00, -3.35e-08,  8.94e-08,  1.42e-07,\n",
       "          1.49e-08, -1.49e-08,  5.96e-08, -1.64e-07],\n",
       "        [-7.45e-09, -4.47e-08,  3.17e-08,  1.00e+00, -6.71e-08,  3.91e-08,\n",
       "         -1.86e-08,  5.40e-08,  1.15e-07,  1.30e-08],\n",
       "        [ 2.98e-08,  2.24e-08, -2.98e-08, -8.20e-08,  1.00e+00,  7.45e-09,\n",
       "         -1.49e-07, -1.19e-07, -1.19e-07, -0.00e+00],\n",
       "        [-7.45e-09,  1.02e-07,  1.64e-07,  4.10e-08,  3.73e-08,  1.00e+00,\n",
       "          2.01e-07, -1.34e-07,  1.49e-08,  6.71e-08],\n",
       "        [-5.96e-08, -7.45e-08,  2.98e-08, -8.20e-08, -1.19e-07,  1.86e-07,\n",
       "          1.00e+00, -2.98e-08, -0.00e+00, -1.34e-07],\n",
       "        [-0.00e+00,  2.24e-08,  2.98e-08, -3.17e-08, -2.09e-07, -8.94e-08,\n",
       "         -8.94e-08,  1.00e+00,  7.45e-08,  2.98e-08],\n",
       "        [-0.00e+00,  5.96e-08,  7.45e-08,  8.20e-08, -8.94e-08, -5.96e-08,\n",
       "         -5.96e-08,  1.04e-07,  1.00e+00,  7.45e-08],\n",
       "        [-5.96e-08,  1.56e-07, -1.49e-07,  1.12e-08,  5.96e-08,  2.98e-08,\n",
       "         -1.34e-07,  2.98e-08,  2.98e-08,  1.00e+00]], dtype=float32)>,\n",
       " <tf.Tensor: shape=(1, 10), dtype=float32, numpy=\n",
       " array([[ 0.49,  0.11,  0.29,  0.05,  0.45, -0.13,  0.38, -0.3 ,  0.36,\n",
       "         -0.3 ]], dtype=float32)>]"
      ]
     },
     "execution_count": 29,
     "metadata": {},
     "output_type": "execute_result"
    }
   ],
   "source": [
    "pullback_cov(xtrain)"
   ]
  },
  {
   "cell_type": "markdown",
   "metadata": {},
   "source": [
    "## Training of the model"
   ]
  },
  {
   "cell_type": "code",
   "execution_count": 30,
   "metadata": {},
   "outputs": [
    {
     "name": "stdout",
     "output_type": "stream",
     "text": [
      "Epoch 1/50\n",
      "4/4 - 2s - loss: 0.0975 - covariance_layer_loss: 1.7383e-14 - covariance_layer_1_loss: 0.0975 - 2s/epoch - 533ms/step\n",
      "Epoch 2/50\n",
      "4/4 - 0s - loss: 0.0825 - covariance_layer_loss: 2.1623e-14 - covariance_layer_1_loss: 0.0825 - 9ms/epoch - 2ms/step\n",
      "Epoch 3/50\n",
      "4/4 - 0s - loss: 0.0729 - covariance_layer_loss: 1.9084e-14 - covariance_layer_1_loss: 0.0729 - 7ms/epoch - 2ms/step\n",
      "Epoch 4/50\n",
      "4/4 - 0s - loss: 0.0630 - covariance_layer_loss: 2.0528e-14 - covariance_layer_1_loss: 0.0630 - 9ms/epoch - 2ms/step\n",
      "Epoch 5/50\n",
      "4/4 - 0s - loss: 0.0523 - covariance_layer_loss: 1.8512e-14 - covariance_layer_1_loss: 0.0523 - 8ms/epoch - 2ms/step\n",
      "Epoch 6/50\n",
      "4/4 - 0s - loss: 0.0414 - covariance_layer_loss: 2.1024e-14 - covariance_layer_1_loss: 0.0414 - 9ms/epoch - 2ms/step\n",
      "Epoch 7/50\n",
      "4/4 - 0s - loss: 0.0308 - covariance_layer_loss: 2.1583e-14 - covariance_layer_1_loss: 0.0308 - 8ms/epoch - 2ms/step\n",
      "Epoch 8/50\n",
      "4/4 - 0s - loss: 0.0215 - covariance_layer_loss: 1.8391e-14 - covariance_layer_1_loss: 0.0215 - 9ms/epoch - 2ms/step\n",
      "Epoch 9/50\n",
      "4/4 - 0s - loss: 0.0139 - covariance_layer_loss: 1.8909e-14 - covariance_layer_1_loss: 0.0139 - 9ms/epoch - 2ms/step\n",
      "Epoch 10/50\n",
      "4/4 - 0s - loss: 0.0083 - covariance_layer_loss: 1.7424e-14 - covariance_layer_1_loss: 0.0083 - 9ms/epoch - 2ms/step\n",
      "Epoch 11/50\n",
      "4/4 - 0s - loss: 0.0045 - covariance_layer_loss: 2.2783e-14 - covariance_layer_1_loss: 0.0045 - 9ms/epoch - 2ms/step\n",
      "Epoch 12/50\n",
      "4/4 - 0s - loss: 0.0022 - covariance_layer_loss: 2.1978e-14 - covariance_layer_1_loss: 0.0022 - 9ms/epoch - 2ms/step\n",
      "Epoch 13/50\n",
      "4/4 - 0s - loss: 8.3546e-04 - covariance_layer_loss: 2.0781e-14 - covariance_layer_1_loss: 8.3546e-04 - 8ms/epoch - 2ms/step\n",
      "Epoch 14/50\n",
      "4/4 - 0s - loss: 2.1544e-04 - covariance_layer_loss: 1.8397e-14 - covariance_layer_1_loss: 2.1544e-04 - 9ms/epoch - 2ms/step\n",
      "Epoch 15/50\n",
      "4/4 - 0s - loss: 3.2900e-05 - covariance_layer_loss: 2.2358e-14 - covariance_layer_1_loss: 3.2900e-05 - 8ms/epoch - 2ms/step\n",
      "Epoch 16/50\n",
      "4/4 - 0s - loss: 6.8542e-05 - covariance_layer_loss: 1.9841e-14 - covariance_layer_1_loss: 6.8542e-05 - 9ms/epoch - 2ms/step\n",
      "Epoch 17/50\n",
      "4/4 - 0s - loss: 1.5361e-04 - covariance_layer_loss: 2.0862e-14 - covariance_layer_1_loss: 1.5361e-04 - 9ms/epoch - 2ms/step\n",
      "Epoch 18/50\n",
      "4/4 - 0s - loss: 2.0386e-04 - covariance_layer_loss: 2.1541e-14 - covariance_layer_1_loss: 2.0386e-04 - 9ms/epoch - 2ms/step\n",
      "Epoch 19/50\n",
      "4/4 - 0s - loss: 1.9800e-04 - covariance_layer_loss: 1.9901e-14 - covariance_layer_1_loss: 1.9800e-04 - 9ms/epoch - 2ms/step\n",
      "Epoch 20/50\n",
      "4/4 - 0s - loss: 1.5242e-04 - covariance_layer_loss: 1.8482e-14 - covariance_layer_1_loss: 1.5242e-04 - 9ms/epoch - 2ms/step\n",
      "Epoch 21/50\n",
      "4/4 - 0s - loss: 9.7345e-05 - covariance_layer_loss: 2.2635e-14 - covariance_layer_1_loss: 9.7345e-05 - 9ms/epoch - 2ms/step\n",
      "Epoch 22/50\n",
      "4/4 - 0s - loss: 5.2130e-05 - covariance_layer_loss: 1.9551e-14 - covariance_layer_1_loss: 5.2130e-05 - 10ms/epoch - 2ms/step\n",
      "Epoch 23/50\n",
      "4/4 - 0s - loss: 2.2884e-05 - covariance_layer_loss: 2.2105e-14 - covariance_layer_1_loss: 2.2884e-05 - 10ms/epoch - 2ms/step\n",
      "Epoch 24/50\n",
      "4/4 - 0s - loss: 7.5680e-06 - covariance_layer_loss: 1.9292e-14 - covariance_layer_1_loss: 7.5680e-06 - 9ms/epoch - 2ms/step\n",
      "Epoch 25/50\n",
      "4/4 - 0s - loss: 1.5013e-06 - covariance_layer_loss: 2.6103e-14 - covariance_layer_1_loss: 1.5013e-06 - 10ms/epoch - 3ms/step\n",
      "Epoch 26/50\n",
      "4/4 - 0s - loss: 7.7271e-07 - covariance_layer_loss: 1.9399e-14 - covariance_layer_1_loss: 7.7271e-07 - 8ms/epoch - 2ms/step\n",
      "Epoch 27/50\n",
      "4/4 - 0s - loss: 2.0572e-06 - covariance_layer_loss: 2.2079e-14 - covariance_layer_1_loss: 2.0572e-06 - 9ms/epoch - 2ms/step\n",
      "Epoch 28/50\n",
      "4/4 - 0s - loss: 3.1707e-06 - covariance_layer_loss: 1.4197e-14 - covariance_layer_1_loss: 3.1707e-06 - 8ms/epoch - 2ms/step\n",
      "Epoch 29/50\n",
      "4/4 - 0s - loss: 3.2579e-06 - covariance_layer_loss: 1.8399e-14 - covariance_layer_1_loss: 3.2579e-06 - 10ms/epoch - 2ms/step\n",
      "Epoch 30/50\n",
      "4/4 - 0s - loss: 2.4859e-06 - covariance_layer_loss: 1.6076e-14 - covariance_layer_1_loss: 2.4859e-06 - 9ms/epoch - 2ms/step\n",
      "Epoch 31/50\n",
      "4/4 - 0s - loss: 1.4624e-06 - covariance_layer_loss: 1.9930e-14 - covariance_layer_1_loss: 1.4624e-06 - 10ms/epoch - 2ms/step\n",
      "Epoch 32/50\n",
      "4/4 - 0s - loss: 6.5537e-07 - covariance_layer_loss: 1.5108e-14 - covariance_layer_1_loss: 6.5537e-07 - 8ms/epoch - 2ms/step\n",
      "Epoch 33/50\n",
      "4/4 - 0s - loss: 2.1786e-07 - covariance_layer_loss: 2.8109e-14 - covariance_layer_1_loss: 2.1786e-07 - 11ms/epoch - 3ms/step\n",
      "Epoch 34/50\n",
      "4/4 - 0s - loss: 4.9571e-08 - covariance_layer_loss: 1.2653e-14 - covariance_layer_1_loss: 4.9571e-08 - 9ms/epoch - 2ms/step\n",
      "Epoch 35/50\n",
      "4/4 - 0s - loss: 2.3357e-08 - covariance_layer_loss: 1.7386e-14 - covariance_layer_1_loss: 2.3357e-08 - 10ms/epoch - 2ms/step\n",
      "Epoch 36/50\n",
      "4/4 - 0s - loss: 5.2219e-08 - covariance_layer_loss: 1.7889e-14 - covariance_layer_1_loss: 5.2219e-08 - 9ms/epoch - 2ms/step\n",
      "Epoch 37/50\n",
      "4/4 - 0s - loss: 8.0522e-08 - covariance_layer_loss: 2.2455e-14 - covariance_layer_1_loss: 8.0522e-08 - 9ms/epoch - 2ms/step\n",
      "Epoch 38/50\n",
      "4/4 - 0s - loss: 8.1668e-08 - covariance_layer_loss: 2.3469e-14 - covariance_layer_1_loss: 8.1668e-08 - 9ms/epoch - 2ms/step\n",
      "Epoch 39/50\n",
      "4/4 - 0s - loss: 5.8802e-08 - covariance_layer_loss: 1.7446e-14 - covariance_layer_1_loss: 5.8802e-08 - 8ms/epoch - 2ms/step\n",
      "Epoch 40/50\n",
      "4/4 - 0s - loss: 3.1005e-08 - covariance_layer_loss: 1.8480e-14 - covariance_layer_1_loss: 3.1005e-08 - 10ms/epoch - 2ms/step\n",
      "Epoch 41/50\n",
      "4/4 - 0s - loss: 1.1252e-08 - covariance_layer_loss: 1.8188e-14 - covariance_layer_1_loss: 1.1252e-08 - 9ms/epoch - 2ms/step\n",
      "Epoch 42/50\n",
      "4/4 - 0s - loss: 2.4578e-09 - covariance_layer_loss: 2.0144e-14 - covariance_layer_1_loss: 2.4578e-09 - 8ms/epoch - 2ms/step\n",
      "Epoch 43/50\n",
      "4/4 - 0s - loss: 7.2613e-10 - covariance_layer_loss: 2.3529e-14 - covariance_layer_1_loss: 7.2611e-10 - 9ms/epoch - 2ms/step\n",
      "Epoch 44/50\n",
      "4/4 - 0s - loss: 1.6144e-09 - covariance_layer_loss: 1.9916e-14 - covariance_layer_1_loss: 1.6144e-09 - 9ms/epoch - 2ms/step\n",
      "Epoch 45/50\n",
      "4/4 - 0s - loss: 2.5722e-09 - covariance_layer_loss: 2.1027e-14 - covariance_layer_1_loss: 2.5722e-09 - 10ms/epoch - 2ms/step\n",
      "Epoch 46/50\n",
      "4/4 - 0s - loss: 2.7526e-09 - covariance_layer_loss: 1.6877e-14 - covariance_layer_1_loss: 2.7525e-09 - 8ms/epoch - 2ms/step\n",
      "Epoch 47/50\n",
      "4/4 - 0s - loss: 2.1013e-09 - covariance_layer_loss: 1.8318e-14 - covariance_layer_1_loss: 2.1013e-09 - 8ms/epoch - 2ms/step\n",
      "Epoch 48/50\n",
      "4/4 - 0s - loss: 1.1253e-09 - covariance_layer_loss: 2.2644e-14 - covariance_layer_1_loss: 1.1253e-09 - 10ms/epoch - 2ms/step\n",
      "Epoch 49/50\n",
      "4/4 - 0s - loss: 3.7542e-10 - covariance_layer_loss: 1.8031e-14 - covariance_layer_1_loss: 3.7540e-10 - 8ms/epoch - 2ms/step\n",
      "Epoch 50/50\n",
      "4/4 - 0s - loss: 5.7888e-11 - covariance_layer_loss: 1.7245e-14 - covariance_layer_1_loss: 5.7871e-11 - 8ms/epoch - 2ms/step\n"
     ]
    }
   ],
   "source": [
    "history = pullback_cov.fit(x=xtrain,y=[gtrain, Rtrain], epochs=50, verbose=2)"
   ]
  },
  {
   "cell_type": "code",
   "execution_count": 31,
   "metadata": {},
   "outputs": [
    {
     "data": {
      "text/plain": [
       "Text(0.5, 0, 'Epoch')"
      ]
     },
     "execution_count": 31,
     "metadata": {},
     "output_type": "execute_result"
    },
    {
     "data": {
      "image/png": "[encoded data removed]",
      "text/plain": [
       "<Figure size 432x288 with 1 Axes>"
      ]
     },
     "metadata": {
      "needs_background": "light"
     },
     "output_type": "display_data"
    }
   ],
   "source": [
    "# %%\n",
    "# %matplotlib inline\n",
    "# Plot training & validation accuracy values\n",
    "f1 = plt.figure\n",
    "plt.subplot(2, 1, 1)\n",
    "plt.plot(history.history['loss'])\n",
    "plt.ylabel('Error')\n",
    "plt.xlabel('Epoch')"
   ]
  },
  {
   "cell_type": "markdown",
   "metadata": {},
   "source": [
    "## Test the derivative of the model\n",
    "Evaluate the expectation value of the displacement as derivative of the characterisc function"
   ]
  },
  {
   "cell_type": "markdown",
   "metadata": {},
   "source": [
    "Use the derivative function for the derivative"
   ]
  },
  {
   "cell_type": "code",
   "execution_count": 32,
   "metadata": {},
   "outputs": [
    {
     "name": "stdout",
     "output_type": "stream",
     "text": [
      "+0.9+0.0i +0.4+0.0i -0.0+0.0i +0.0+0.0i +0.0+0.0i +0.0+0.0i -0.0+0.0i -0.0+0.0i -0.0+0.0i +0.0+0.0i \n"
     ]
    }
   ],
   "source": [
    "utilities.printonscreen(derivative())"
   ]
  },
  {
   "cell_type": "markdown",
   "metadata": {},
   "source": [
    "Use the covariance_matrix function for the covariance"
   ]
  },
  {
   "cell_type": "code",
   "execution_count": 33,
   "metadata": {},
   "outputs": [
    {
     "name": "stdout",
     "output_type": "stream",
     "text": [
      "+1.0+0.0i -0.0+0.0i -0.0+0.0i +0.0+0.0i +0.0+0.0i -0.0+0.0i +0.0+0.0i +0.0+0.0i +0.0+0.0i -0.0+0.0i \n",
      "+0.0+0.0i +1.0+0.0i +0.0+0.0i -0.0+0.0i +0.0+0.0i +0.0+0.0i +0.0+0.0i -0.0+0.0i +0.0+0.0i +0.0+0.0i \n",
      "-0.0+0.0i +0.0+0.0i +1.0+0.0i -0.0+0.0i +0.0+0.0i +0.0+0.0i +0.0+0.0i +0.0+0.0i +0.0+0.0i -0.0+0.0i \n",
      "-0.0+0.0i -0.0+0.0i +0.0+0.0i +1.0+0.0i -0.0+0.0i +0.0+0.0i -0.0+0.0i +0.0+0.0i +0.0+0.0i +0.0+0.0i \n",
      "+0.0+0.0i +0.0+0.0i +0.0+0.0i -0.0+0.0i +1.0+0.0i +0.0+0.0i -0.0+0.0i -0.0+0.0i -0.0+0.0i +0.0+0.0i \n",
      "-0.0+0.0i +0.0+0.0i +0.0+0.0i +0.0+0.0i +0.0+0.0i +1.0+0.0i +0.0+0.0i -0.0+0.0i -0.0+0.0i -0.0+0.0i \n",
      "-0.0+0.0i -0.0+0.0i +0.0+0.0i -0.0+0.0i -0.0+0.0i +0.0+0.0i +1.0+0.0i +0.0+0.0i +0.0+0.0i -0.0+0.0i \n",
      "+0.0+0.0i -0.0+0.0i +0.0+0.0i +0.0+0.0i -0.0+0.0i -0.0+0.0i -0.0+0.0i +1.0+0.0i +0.0+0.0i +0.0+0.0i \n",
      "+0.0+0.0i +0.0+0.0i +0.0+0.0i +0.0+0.0i -0.0+0.0i -0.0+0.0i +0.0+0.0i +0.0+0.0i +1.0+0.0i -0.0+0.0i \n",
      "-0.0+0.0i +0.0+0.0i -0.0+0.0i +0.0+0.0i +0.0+0.0i -0.0+0.0i -0.0+0.0i +0.0+0.0i +0.0+0.0i +1.0+0.0i \n"
     ]
    }
   ],
   "source": [
    "utilities.printonscreen(covariance_matrix())"
   ]
  },
  {
   "cell_type": "markdown",
   "metadata": {},
   "source": [
    "Use the model "
   ]
  },
  {
   "cell_type": "code",
   "execution_count": 34,
   "metadata": {},
   "outputs": [
    {
     "data": {
      "text/plain": [
       "[<tf.Tensor: shape=(10, 10), dtype=float32, numpy=\n",
       " array([[ 1.00e+00, -0.00e+00, -1.79e-07,  5.12e-08,  6.12e-08, -2.14e-07,\n",
       "          8.83e-08,  9.13e-08,  3.49e-08, -1.75e-07],\n",
       "        [ 5.96e-08,  1.00e+00,  7.15e-08, -2.86e-07,  1.86e-07,  4.17e-08,\n",
       "          1.84e-09, -8.72e-08,  2.33e-07,  1.59e-07],\n",
       "        [-1.63e-07,  1.17e-07,  1.00e+00, -9.51e-09,  2.15e-07,  1.99e-07,\n",
       "          1.95e-07,  1.07e-07,  9.57e-08, -6.99e-08],\n",
       "        [-4.53e-08, -2.68e-07,  1.78e-08,  1.00e+00, -2.27e-07,  1.86e-07,\n",
       "         -1.44e-07,  1.74e-07,  6.37e-08,  7.48e-08],\n",
       "        [ 1.48e-07,  7.86e-08,  2.28e-07, -1.85e-07,  1.00e+00,  1.73e-08,\n",
       "         -3.42e-07, -1.41e-07, -9.72e-08,  6.12e-08],\n",
       "        [-1.65e-07,  1.93e-08,  2.32e-07,  1.70e-07,  8.53e-09,  1.00e+00,\n",
       "          1.69e-07, -2.70e-07, -6.30e-08, -1.39e-07],\n",
       "        [-1.13e-07, -3.15e-08,  2.28e-07, -1.42e-07, -3.18e-07,  1.41e-07,\n",
       "          1.00e+00,  3.69e-09,  9.99e-08, -1.40e-07],\n",
       "        [ 5.92e-08, -2.61e-08,  1.96e-07,  2.41e-07, -1.18e-07, -3.48e-07,\n",
       "         -2.24e-08,  1.00e+00,  1.31e-07,  1.07e-07],\n",
       "        [ 1.05e-07,  1.99e-07,  7.24e-08,  1.73e-08, -1.31e-07, -3.79e-08,\n",
       "          9.69e-08,  1.85e-07,  1.00e+00, -1.50e-08],\n",
       "        [-2.27e-07,  1.60e-07, -3.22e-08,  1.07e-07,  8.69e-10, -1.29e-07,\n",
       "         -1.73e-07,  3.27e-08,  3.41e-08,  1.00e+00]], dtype=float32)>,\n",
       " <tf.Tensor: shape=(1, 10), dtype=float32, numpy=\n",
       " array([[ 8.94e-01,  4.47e-01, -5.62e-06,  1.04e-06,  5.39e-06,  2.11e-06,\n",
       "         -8.72e-06, -1.80e-06, -7.86e-07,  5.14e-06]], dtype=float32)>]"
      ]
     },
     "execution_count": 34,
     "metadata": {},
     "output_type": "execute_result"
    }
   ],
   "source": [
    "pullback_cov(xtrain)"
   ]
  },
  {
   "cell_type": "markdown",
   "metadata": {},
   "source": [
    "## Plot the model"
   ]
  },
  {
   "cell_type": "code",
   "execution_count": 35,
   "metadata": {},
   "outputs": [
    {
     "data": {
      "image/png": "[encoded data removed]",
      "text/plain": [
       "<IPython.core.display.Image object>"
      ]
     },
     "execution_count": 35,
     "metadata": {},
     "output_type": "execute_result"
    }
   ],
   "source": [
    "dot_img_file = 'pullback_COV.png'\n",
    "tf.keras.utils.plot_model(pullback, to_file=dot_img_file, show_shapes=True)"
   ]
  },
  {
   "cell_type": "markdown",
   "metadata": {},
   "source": [
    "## Check the weights of the layers"
   ]
  },
  {
   "cell_type": "markdown",
   "metadata": {},
   "source": [
    "### d and M of the complex layer LL_complex (these are unchanged)"
   ]
  },
  {
   "cell_type": "code",
   "execution_count": 36,
   "metadata": {},
   "outputs": [
    {
     "name": "stdout",
     "output_type": "stream",
     "text": [
      "[[0. 0. 0. 0. 0. 0. 0. 0. 0. 0.]]\n"
     ]
    }
   ],
   "source": [
    "print(R.d.numpy().transpose())"
   ]
  },
  {
   "cell_type": "code",
   "execution_count": 37,
   "metadata": {},
   "outputs": [
    {
     "name": "stdout",
     "output_type": "stream",
     "text": [
      "[[0. 0. 0. 0. 0. 0. 0. 0. 0. 0.]]\n"
     ]
    }
   ],
   "source": [
    "print(d_R_np.transpose())"
   ]
  },
  {
   "cell_type": "code",
   "execution_count": 38,
   "metadata": {},
   "outputs": [
    {
     "name": "stdout",
     "output_type": "stream",
     "text": [
      "[[ 0.61  0.21  0.24 -0.22 -0.44 -0.19  0.17  0.28  0.37  0.04]\n",
      " [-0.21  0.61  0.22  0.24  0.19 -0.44 -0.28  0.17 -0.04  0.37]\n",
      " [ 0.01  0.13  0.54  0.12  0.21  0.1   0.45  0.27 -0.43 -0.41]\n",
      " [-0.13  0.01 -0.12  0.54 -0.1   0.21 -0.27  0.45  0.41 -0.43]\n",
      " [-0.06 -0.51  0.43 -0.15  0.46  0.04 -0.06  0.27  0.38  0.31]\n",
      " [ 0.51 -0.06  0.15  0.43 -0.04  0.46 -0.27 -0.06 -0.31  0.38]\n",
      " [ 0.21 -0.01 -0.42  0.42  0.33 -0.16  0.62  0.02  0.17  0.22]\n",
      " [ 0.01  0.21 -0.42 -0.42  0.16  0.33 -0.02  0.62 -0.22  0.17]\n",
      " [ 0.04  0.51  0.11 -0.15  0.32  0.51  0.06 -0.39  0.42 -0.08]\n",
      " [-0.51  0.04  0.15  0.11 -0.51  0.32  0.39  0.06  0.08  0.42]]\n"
     ]
    }
   ],
   "source": [
    "M_R, _ =R.get_M();print(M_R.numpy())"
   ]
  },
  {
   "cell_type": "code",
   "execution_count": 39,
   "metadata": {},
   "outputs": [
    {
     "name": "stdout",
     "output_type": "stream",
     "text": [
      "[[ 0.61  0.21  0.24 -0.22 -0.44 -0.19  0.17  0.28  0.37  0.04]\n",
      " [-0.21  0.61  0.22  0.24  0.19 -0.44 -0.28  0.17 -0.04  0.37]\n",
      " [ 0.01  0.13  0.54  0.12  0.21  0.1   0.45  0.27 -0.43 -0.41]\n",
      " [-0.13  0.01 -0.12  0.54 -0.1   0.21 -0.27  0.45  0.41 -0.43]\n",
      " [-0.06 -0.51  0.43 -0.15  0.46  0.04 -0.06  0.27  0.38  0.31]\n",
      " [ 0.51 -0.06  0.15  0.43 -0.04  0.46 -0.27 -0.06 -0.31  0.38]\n",
      " [ 0.21 -0.01 -0.42  0.42  0.33 -0.16  0.62  0.02  0.17  0.22]\n",
      " [ 0.01  0.21 -0.42 -0.42  0.16  0.33 -0.02  0.62 -0.22  0.17]\n",
      " [ 0.04  0.51  0.11 -0.15  0.32  0.51  0.06 -0.39  0.42 -0.08]\n",
      " [-0.51  0.04  0.15  0.11 -0.51  0.32  0.39  0.06  0.08  0.42]]\n"
     ]
    }
   ],
   "source": [
    "print(M_R_np)"
   ]
  },
  {
   "cell_type": "markdown",
   "metadata": {},
   "source": [
    "### d and M of the trained layer, before and after training (they must change)"
   ]
  },
  {
   "cell_type": "code",
   "execution_count": 40,
   "metadata": {},
   "outputs": [
    {
     "data": {
      "text/plain": [
       "<tf.Variable 'random_layer_1/WR:0' shape=(5, 5) dtype=float32, numpy=\n",
       "array([[ 0.8 ,  0.13,  0.33,  0.39,  0.59],\n",
       "       [ 0.76, -0.39,  0.08,  0.2 ,  0.55],\n",
       "       [-0.41, -0.25,  1.14, -0.23,  0.2 ],\n",
       "       [ 0.06,  0.63,  0.48,  0.15,  0.03],\n",
       "       [ 0.99,  0.15,  0.45,  0.27,  1.19]], dtype=float32)>"
      ]
     },
     "execution_count": 40,
     "metadata": {},
     "output_type": "execute_result"
    }
   ],
   "source": [
    "T.WR"
   ]
  },
  {
   "cell_type": "code",
   "execution_count": 41,
   "metadata": {},
   "outputs": [
    {
     "data": {
      "text/plain": [
       "array([[0.29, 0.17, 0.81, 0.77, 0.39],\n",
       "       [0.8 , 0.11, 0.43, 0.44, 0.51],\n",
       "       [0.07, 0.11, 0.91, 0.19, 0.57],\n",
       "       [0.44, 0.87, 0.89, 0.53, 0.32],\n",
       "       [0.8 , 0.11, 0.81, 0.57, 0.98]], dtype=float32)"
      ]
     },
     "execution_count": 41,
     "metadata": {},
     "output_type": "execute_result"
    }
   ],
   "source": [
    "WR_untrained_T"
   ]
  },
  {
   "cell_type": "code",
   "execution_count": 42,
   "metadata": {},
   "outputs": [
    {
     "data": {
      "text/plain": [
       "<tf.Variable 'random_layer_1/WI:0' shape=(5, 5) dtype=float32, numpy=\n",
       "array([[ 0.92,  0.63,  0.69, -0.02,  0.92],\n",
       "       [ 0.88,  0.33,  0.95,  0.31,  0.66],\n",
       "       [-0.07, -0.3 ,  0.23,  0.55, -0.28],\n",
       "       [ 0.85,  0.38,  0.5 ,  0.81,  0.86],\n",
       "       [-0.36,  0.25,  0.84,  0.26,  0.18]], dtype=float32)>"
      ]
     },
     "execution_count": 42,
     "metadata": {},
     "output_type": "execute_result"
    }
   ],
   "source": [
    "T.WI"
   ]
  },
  {
   "cell_type": "code",
   "execution_count": 43,
   "metadata": {},
   "outputs": [
    {
     "data": {
      "text/plain": [
       "array([[0.92, 0.71, 0.4 , 0.27, 0.55],\n",
       "       [0.8 , 0.33, 0.64, 0.4 , 0.51],\n",
       "       [0.23, 0.01, 0.23, 0.55, 0.04],\n",
       "       [0.55, 0.28, 0.5 , 0.81, 0.49],\n",
       "       [0.01, 0.4 , 0.52, 0.63, 0.18]], dtype=float32)"
      ]
     },
     "execution_count": 43,
     "metadata": {},
     "output_type": "execute_result"
    }
   ],
   "source": [
    "WI_untrained_T"
   ]
  },
  {
   "cell_type": "code",
   "execution_count": 44,
   "metadata": {},
   "outputs": [
    {
     "name": "stdout",
     "output_type": "stream",
     "text": [
      "tf.Tensor(\n",
      "[[ 0.64  0.22  0.28 -0.02  0.48 -0.31  0.21 -0.14 -0.16  0.24]\n",
      " [-0.22  0.64  0.02  0.28  0.31  0.48  0.14  0.21 -0.24 -0.16]\n",
      " [ 0.06  0.07  0.12  0.76 -0.38 -0.06  0.28 -0.28  0.26  0.14]\n",
      " [-0.07  0.06 -0.76  0.12  0.06 -0.38  0.28  0.28 -0.14  0.26]\n",
      " [-0.39  0.3   0.1   0.13  0.04 -0.39 -0.62 -0.25 -0.22  0.31]\n",
      " [-0.3  -0.39 -0.13  0.1   0.39  0.04  0.25 -0.62 -0.31 -0.22]\n",
      " [-0.48  0.24  0.32 -0.37 -0.05 -0.35  0.54 -0.01  0.23 -0.  ]\n",
      " [-0.24 -0.48  0.37  0.32  0.35 -0.05  0.01  0.54  0.    0.23]\n",
      " [-0.06  0.07 -0.23 -0.01  0.48  0.14 -0.15 -0.16  0.78  0.15]\n",
      " [-0.07 -0.06  0.01 -0.23 -0.14  0.48  0.16 -0.15 -0.15  0.78]], shape=(10, 10), dtype=float32)\n"
     ]
    }
   ],
   "source": [
    "M_T, _= T.get_M(); print(M_T)"
   ]
  },
  {
   "cell_type": "code",
   "execution_count": 45,
   "metadata": {},
   "outputs": [
    {
     "name": "stdout",
     "output_type": "stream",
     "text": [
      "tf.Tensor(\n",
      "[[ 0.66  0.4  -0.05 -0.22  0.29  0.3   0.2  -0.13 -0.3   0.17]\n",
      " [-0.4   0.66  0.22 -0.05 -0.3   0.29  0.13  0.2  -0.17 -0.3 ]\n",
      " [ 0.01 -0.01  0.63  0.38 -0.15  0.24  0.07 -0.43  0.19  0.39]\n",
      " [ 0.01  0.01 -0.38  0.63 -0.24 -0.15  0.43  0.07 -0.39  0.19]\n",
      " [-0.16  0.28  0.14  0.41  0.68 -0.16 -0.3   0.31 -0.05  0.16]\n",
      " [-0.28 -0.16 -0.41  0.14  0.16  0.68 -0.31 -0.3  -0.16 -0.05]\n",
      " [-0.4  -0.07 -0.13 -0.3   0.27  0.17  0.57  0.17  0.28  0.45]\n",
      " [ 0.07 -0.4   0.3  -0.13 -0.17  0.27 -0.17  0.57 -0.45  0.28]\n",
      " [ 0.36  0.03 -0.16  0.3  -0.13  0.37 -0.    0.46  0.61 -0.13]\n",
      " [-0.03  0.36 -0.3  -0.16 -0.37 -0.13 -0.46 -0.    0.13  0.61]], shape=(10, 10), dtype=float32)\n"
     ]
    }
   ],
   "source": [
    "print(M_untrained_T)"
   ]
  }
 ],
 "metadata": {
  "kernelspec": {
   "display_name": "Python 3 (ipykernel)",
   "language": "python",
   "name": "python3"
  },
  "language_info": {
   "codemirror_mode": {
    "name": "ipython",
    "version": 3
   },
   "file_extension": ".py",
   "mimetype": "text/x-python",
   "name": "python",
   "nbconvert_exporter": "python",
   "pygments_lexer": "ipython3",
   "version": "3.8.13"
  }
 },
 "nbformat": 4,
 "nbformat_minor": 4
}
