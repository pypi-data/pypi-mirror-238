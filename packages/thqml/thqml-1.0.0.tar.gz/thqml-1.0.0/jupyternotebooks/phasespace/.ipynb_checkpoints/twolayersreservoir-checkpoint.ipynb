{
 "cells": [
  {
   "cell_type": "markdown",
   "metadata": {},
   "source": [
    "# Training a two layer model with a reservoir for the generation of coherent state"
   ]
  },
  {
   "cell_type": "markdown",
   "metadata": {},
   "source": [
    "Model with two trainable complex layers and one untrainable random reservoir \n",
    "\n",
    "Use the derivative for the training\n",
    "\n",
    "NOTE: remember to shut down the kernel when out of memory\n",
    "\n",
    "Bug train model:\n",
    "\n",
    "<img src=\"../img/twolayersreservoir.png\" width=\"900\" height=\"200\" />\n",
    "\n",
    "<img src=\"../img/logo_circular.png\" width=\"20\" height=\"20\" />@by claudio<br>\n",
    "\n",
    "nonlinearxwaves@gmail.com<br>\n",
    "@created 24 sep 2020<br>\n",
    "@version 23 sep 2023"
   ]
  },
  {
   "cell_type": "code",
   "execution_count": 1,
   "metadata": {},
   "outputs": [],
   "source": [
    "import os\n",
    "os.environ['TF_CPP_MIN_LOG_LEVEL'] = '2' # disable warning messages"
   ]
  },
  {
   "cell_type": "code",
   "execution_count": 2,
   "metadata": {},
   "outputs": [],
   "source": [
    "import numpy as np\n",
    "from scipy.linalg import expm, sinm, cosm\n",
    "from thqml import phasespace as ps\n",
    "from thqml.utilities import utilities\n",
    "import tensorflow as tf\n",
    "from tensorflow import keras\n",
    "import matplotlib.pyplot as plt\n",
    "from tensorflow.keras.callbacks import EarlyStopping"
   ]
  },
  {
   "cell_type": "code",
   "execution_count": 3,
   "metadata": {},
   "outputs": [],
   "source": [
    "tf_complex = tf.complex\n",
    "tf_real = tf.float32\n",
    "np_complex = complex\n",
    "np_real = np.float32"
   ]
  },
  {
   "cell_type": "markdown",
   "metadata": {},
   "source": [
    "Precision for output on the screen"
   ]
  },
  {
   "cell_type": "code",
   "execution_count": 4,
   "metadata": {},
   "outputs": [],
   "source": [
    "np.set_printoptions(precision=2)"
   ]
  },
  {
   "cell_type": "markdown",
   "metadata": {},
   "source": [
    "## Dimension"
   ]
  },
  {
   "cell_type": "code",
   "execution_count": 5,
   "metadata": {},
   "outputs": [],
   "source": [
    "N = 10"
   ]
  },
  {
   "cell_type": "markdown",
   "metadata": {},
   "source": [
    "## Build vacuum by the Gaussian state"
   ]
  },
  {
   "cell_type": "code",
   "execution_count": 6,
   "metadata": {},
   "outputs": [],
   "source": [
    "vacuum = ps.VacuumLayer(N)"
   ]
  },
  {
   "cell_type": "markdown",
   "metadata": {},
   "source": [
    "## Build the pullback layer for generating the input coherent state"
   ]
  },
  {
   "cell_type": "markdown",
   "metadata": {},
   "source": [
    "### Target displacement vector \n",
    "The displacement vector is a normalized column vector"
   ]
  },
  {
   "cell_type": "code",
   "execution_count": 7,
   "metadata": {},
   "outputs": [
    {
     "name": "stdout",
     "output_type": "stream",
     "text": [
      "[[0.32 0.32 0.32 0.32 0.32 0.32 0.32 0.32 0.32 0.32]]\n"
     ]
    }
   ],
   "source": [
    "dinput = 3.0*np.ones((N,1)); \n",
    "norm = np.linalg.norm(dinput)\n",
    "dinput = dinput /norm\n",
    "print(dinput.transpose())"
   ]
  },
  {
   "cell_type": "markdown",
   "metadata": {},
   "source": [
    "Check the normalization of the dtarget"
   ]
  },
  {
   "cell_type": "code",
   "execution_count": 8,
   "metadata": {},
   "outputs": [
    {
     "name": "stdout",
     "output_type": "stream",
     "text": [
      "[[1.]]\n"
     ]
    }
   ],
   "source": [
    "print(np.dot(dinput.transpose(), dinput)) "
   ]
  },
  {
   "cell_type": "markdown",
   "metadata": {},
   "source": [
    "### Build the displacement layer\n",
    "The layer is a constant layer, as no training is needed"
   ]
  },
  {
   "cell_type": "code",
   "execution_count": 9,
   "metadata": {},
   "outputs": [],
   "source": [
    "D = ps.DisplacementLayerConstant(dinput)"
   ]
  },
  {
   "cell_type": "markdown",
   "metadata": {},
   "source": [
    "## Define the layer for the complex medium\n",
    "The LinearConstantMultiHead generate by default a random medium with \n",
    "the relevant symplectic operator"
   ]
  },
  {
   "cell_type": "code",
   "execution_count": 10,
   "metadata": {},
   "outputs": [],
   "source": [
    "R = ps.RandomLayerConstant(N)"
   ]
  },
  {
   "cell_type": "markdown",
   "metadata": {},
   "source": [
    "## Define the trainable unitary layer in input"
   ]
  },
  {
   "cell_type": "code",
   "execution_count": 11,
   "metadata": {},
   "outputs": [],
   "source": [
    "Ci = ps.RandomLayer(N)"
   ]
  },
  {
   "cell_type": "markdown",
   "metadata": {},
   "source": [
    "## Define the trainable unitary layer in output"
   ]
  },
  {
   "cell_type": "code",
   "execution_count": 12,
   "metadata": {},
   "outputs": [],
   "source": [
    "Co = ps.RandomLayer(N)"
   ]
  },
  {
   "cell_type": "markdown",
   "metadata": {},
   "source": [
    "## Define the normalize target displacement vector \n",
    "Can be any normalized column vector"
   ]
  },
  {
   "cell_type": "code",
   "execution_count": 13,
   "metadata": {},
   "outputs": [
    {
     "name": "stdout",
     "output_type": "stream",
     "text": [
      "[[0.33 0.67 0.67 0.   0.   0.   0.   0.   0.   0.  ]]\n"
     ]
    }
   ],
   "source": [
    "dtarget = np.zeros((N,1)); dtarget[0]=1.0; dtarget[1]=2.0; dtarget[2]=2.0;\n",
    "norm = np.linalg.norm(dtarget)\n",
    "dtarget = dtarget /norm\n",
    "print(dtarget.transpose())"
   ]
  },
  {
   "cell_type": "markdown",
   "metadata": {},
   "source": [
    "## Connect the layers"
   ]
  },
  {
   "cell_type": "code",
   "execution_count": 14,
   "metadata": {},
   "outputs": [
    {
     "name": "stdout",
     "output_type": "stream",
     "text": [
      "KerasTensor(type_spec=TensorSpec(shape=(None, 10), dtype=tf.float32, name='input_1'), name='input_1', description=\"created by layer 'input_1'\")\n"
     ]
    }
   ],
   "source": [
    "xin = tf.keras.layers.Input(N);print(xin) # input layer\n",
    "x4, a4 = Co(xin) # output trainable layer\n",
    "x3, a3 = R(x4, a4) # reservoir layer (untrainable)\n",
    "x2, a2 = Ci(x3,a3) # input trainable layer\n",
    "x1, a1 = D(x2,a2) # linear layer to generate the input coherent state \n",
    "chir, chii = vacuum(x1, a1)  # vacuum\n",
    "pullback = tf.keras.Model(inputs = xin, outputs=[chir, chii])\n",
    "# Add the derivative layer for training\n",
    "der_layer = ps.avgR(N)\n",
    "Re = der_layer(chir,chii, pullback)\n",
    "pullback_der = tf.keras.Model(inputs = xin, outputs=Re)"
   ]
  },
  {
   "cell_type": "markdown",
   "metadata": {},
   "source": [
    "### Store the M,d of the Random layer for later chek"
   ]
  },
  {
   "cell_type": "code",
   "execution_count": 15,
   "metadata": {},
   "outputs": [],
   "source": [
    "M_R, _ = R.get_M();"
   ]
  },
  {
   "cell_type": "code",
   "execution_count": 16,
   "metadata": {},
   "outputs": [],
   "source": [
    "M_R_random=M_R.numpy()"
   ]
  },
  {
   "cell_type": "code",
   "execution_count": 17,
   "metadata": {},
   "outputs": [],
   "source": [
    "d_R_random=R.d.numpy()"
   ]
  },
  {
   "cell_type": "markdown",
   "metadata": {},
   "source": [
    "### Store the M, d of the untrained U_train layer for later check"
   ]
  },
  {
   "cell_type": "code",
   "execution_count": 18,
   "metadata": {},
   "outputs": [],
   "source": [
    "WR_untrained_Ci = Ci.WR.numpy()"
   ]
  },
  {
   "cell_type": "code",
   "execution_count": 19,
   "metadata": {},
   "outputs": [],
   "source": [
    "WI_untrained_Ci = Ci.WI.numpy()"
   ]
  },
  {
   "cell_type": "code",
   "execution_count": 20,
   "metadata": {},
   "outputs": [],
   "source": [
    "M_untrained_Ci, MI_untrained_Ci = Ci.get_M()"
   ]
  },
  {
   "cell_type": "code",
   "execution_count": 21,
   "metadata": {},
   "outputs": [],
   "source": [
    "WR_untrained_Co = Co.WR.numpy()"
   ]
  },
  {
   "cell_type": "code",
   "execution_count": 22,
   "metadata": {},
   "outputs": [],
   "source": [
    "WI_untrained_Co = Co.WI.numpy()"
   ]
  },
  {
   "cell_type": "code",
   "execution_count": 23,
   "metadata": {},
   "outputs": [],
   "source": [
    "M_untrained_Co, MI_untrained_Co = Co.get_M()"
   ]
  },
  {
   "cell_type": "markdown",
   "metadata": {},
   "source": [
    "### Auxiliary staff"
   ]
  },
  {
   "cell_type": "code",
   "execution_count": 24,
   "metadata": {},
   "outputs": [],
   "source": [
    "x0 = tf.constant(np.zeros((1,N)))\n",
    "with tf.GradientTape() as tape:\n",
    "    tape.watch(x0)\n",
    "    cr, ci = pullback(x0)\n",
    "    chii_x = tape.gradient(ci, x0)"
   ]
  },
  {
   "cell_type": "code",
   "execution_count": 25,
   "metadata": {},
   "outputs": [],
   "source": [
    "@tf.function\n",
    "def derivative(yr):\n",
    "    x = tf.constant(np.zeros((1,N)))\n",
    "    with tf.GradientTape() as tape:\n",
    "        tape.watch(x)\n",
    "        cr, ci = pullback(x)\n",
    "        chii_x = tape.gradient(ci, x)\n",
    "    return chii_x"
   ]
  },
  {
   "cell_type": "markdown",
   "metadata": {},
   "source": [
    "## Build the training set by using a target characteristic function"
   ]
  },
  {
   "cell_type": "markdown",
   "metadata": {},
   "source": [
    "Number of training points\n",
    "Also a single training point is enough for Gaussian state, more points improve the training"
   ]
  },
  {
   "cell_type": "code",
   "execution_count": 26,
   "metadata": {},
   "outputs": [],
   "source": [
    "Nbatch = 100"
   ]
  },
  {
   "cell_type": "markdown",
   "metadata": {},
   "source": [
    "Define the numpy function for the target characteristic function:\n",
    "    a coherent state with a target displacement\n",
    "One need a target d for any training points"
   ]
  },
  {
   "cell_type": "code",
   "execution_count": 27,
   "metadata": {},
   "outputs": [],
   "source": [
    "xtrain = np.random.rand(Nbatch, N)-0.5\n",
    "Rtrain = np.zeros((Nbatch,N))\n",
    "for j in range(Nbatch):\n",
    "    for i in range(N):\n",
    "        Rtrain[j,i]=dtarget[i]"
   ]
  },
  {
   "cell_type": "markdown",
   "metadata": {},
   "source": [
    "## Train the model"
   ]
  },
  {
   "cell_type": "code",
   "execution_count": 28,
   "metadata": {},
   "outputs": [],
   "source": [
    "pullback_der.compile(optimizer=tf.keras.optimizers.Adam(learning_rate=0.01),\n",
    "                loss='mean_squared_error')"
   ]
  },
  {
   "cell_type": "markdown",
   "metadata": {},
   "source": [
    "Summary of the derivative model"
   ]
  },
  {
   "cell_type": "code",
   "execution_count": 29,
   "metadata": {},
   "outputs": [
    {
     "name": "stdout",
     "output_type": "stream",
     "text": [
      "Model: \"model_1\"\n",
      "__________________________________________________________________________________________________\n",
      " Layer (type)                   Output Shape         Param #     Connected to                     \n",
      "==================================================================================================\n",
      " input_1 (InputLayer)           [(None, 10)]         0           []                               \n",
      "                                                                                                  \n",
      " random_layer_2 (RandomLayer)   [(None, 10),         50          ['input_1[0][0]']                \n",
      "                                 (10, 1)]                                                         \n",
      "                                                                                                  \n",
      " random_layer (RandomLayer)     [(None, 10),         50          ['random_layer_2[0][0]',         \n",
      "                                 (10, 1)]                         'random_layer_2[0][1]']         \n",
      "                                                                                                  \n",
      " random_layer_1 (RandomLayer)   [(None, 10),         50          ['random_layer[0][0]',           \n",
      "                                 (10, 1)]                         'random_layer[0][1]']           \n",
      "                                                                                                  \n",
      " linear_layer_constant (LinearL  [(None, 10),        0           ['random_layer_1[0][0]',         \n",
      " ayerConstant)                   (10, 1)]                         'random_layer_1[0][1]']         \n",
      "                                                                                                  \n",
      " gaussian_layer (GaussianLayer)  [(None, 1),         110         ['linear_layer_constant[0][0]',  \n",
      "                                 (None, 1)]                       'linear_layer_constant[0][1]']  \n",
      "                                                                                                  \n",
      " avg_r (avgR)                   (1, 10)              0           ['gaussian_layer[0][0]',         \n",
      "                                                                  'gaussian_layer[0][1]']         \n",
      "                                                                                                  \n",
      "==================================================================================================\n",
      "Total params: 260\n",
      "Trainable params: 100\n",
      "Non-trainable params: 160\n",
      "__________________________________________________________________________________________________\n"
     ]
    }
   ],
   "source": [
    "pullback_der.summary()"
   ]
  },
  {
   "cell_type": "markdown",
   "metadata": {},
   "source": [
    "Test the call of the derivative layer"
   ]
  },
  {
   "cell_type": "code",
   "execution_count": 30,
   "metadata": {},
   "outputs": [
    {
     "data": {
      "text/plain": [
       "<tf.Tensor: shape=(1, 10), dtype=float64, numpy=\n",
       "array([[-0.06, -0.29, -0.16, -0.66, -0.16, -0.26, -0.34, -0.35, -0.28,\n",
       "        -0.19]])>"
      ]
     },
     "execution_count": 30,
     "metadata": {},
     "output_type": "execute_result"
    }
   ],
   "source": [
    "pullback_der(xtrain)"
   ]
  },
  {
   "cell_type": "markdown",
   "metadata": {},
   "source": [
    "## Training of the model"
   ]
  },
  {
   "cell_type": "code",
   "execution_count": 31,
   "metadata": {},
   "outputs": [
    {
     "name": "stdout",
     "output_type": "stream",
     "text": [
      "Epoch 1/50\n",
      "4/4 - 4s - loss: 0.2427 - 4s/epoch - 1s/step\n",
      "Epoch 2/50\n",
      "4/4 - 0s - loss: 0.1609 - 8ms/epoch - 2ms/step\n",
      "Epoch 3/50\n",
      "4/4 - 0s - loss: 0.0957 - 10ms/epoch - 3ms/step\n",
      "Epoch 4/50\n",
      "4/4 - 0s - loss: 0.0677 - 11ms/epoch - 3ms/step\n",
      "Epoch 5/50\n",
      "4/4 - 0s - loss: 0.0612 - 10ms/epoch - 2ms/step\n",
      "Epoch 6/50\n",
      "4/4 - 0s - loss: 0.0505 - 12ms/epoch - 3ms/step\n",
      "Epoch 7/50\n",
      "4/4 - 0s - loss: 0.0372 - 10ms/epoch - 3ms/step\n",
      "Epoch 8/50\n",
      "4/4 - 0s - loss: 0.0298 - 12ms/epoch - 3ms/step\n",
      "Epoch 9/50\n",
      "4/4 - 0s - loss: 0.0250 - 10ms/epoch - 3ms/step\n",
      "Epoch 10/50\n",
      "4/4 - 0s - loss: 0.0183 - 12ms/epoch - 3ms/step\n",
      "Epoch 11/50\n",
      "4/4 - 0s - loss: 0.0124 - 11ms/epoch - 3ms/step\n",
      "Epoch 12/50\n",
      "4/4 - 0s - loss: 0.0088 - 12ms/epoch - 3ms/step\n",
      "Epoch 13/50\n",
      "4/4 - 0s - loss: 0.0056 - 10ms/epoch - 2ms/step\n",
      "Epoch 14/50\n",
      "4/4 - 0s - loss: 0.0031 - 9ms/epoch - 2ms/step\n",
      "Epoch 15/50\n",
      "4/4 - 0s - loss: 0.0016 - 10ms/epoch - 2ms/step\n",
      "Epoch 16/50\n",
      "4/4 - 0s - loss: 5.6248e-04 - 10ms/epoch - 3ms/step\n",
      "Epoch 17/50\n",
      "4/4 - 0s - loss: 1.7918e-04 - 9ms/epoch - 2ms/step\n",
      "Epoch 18/50\n",
      "4/4 - 0s - loss: 1.4774e-04 - 10ms/epoch - 3ms/step\n",
      "Epoch 19/50\n",
      "4/4 - 0s - loss: 7.0829e-05 - 10ms/epoch - 3ms/step\n",
      "Epoch 20/50\n",
      "4/4 - 0s - loss: 1.0494e-04 - 10ms/epoch - 2ms/step\n",
      "Epoch 21/50\n",
      "4/4 - 0s - loss: 1.2894e-04 - 9ms/epoch - 2ms/step\n",
      "Epoch 22/50\n",
      "4/4 - 0s - loss: 1.1891e-04 - 10ms/epoch - 3ms/step\n",
      "Epoch 23/50\n",
      "4/4 - 0s - loss: 9.3036e-05 - 8ms/epoch - 2ms/step\n",
      "Epoch 24/50\n",
      "4/4 - 0s - loss: 5.4544e-05 - 9ms/epoch - 2ms/step\n",
      "Epoch 25/50\n",
      "4/4 - 0s - loss: 3.3272e-05 - 11ms/epoch - 3ms/step\n",
      "Epoch 26/50\n",
      "4/4 - 0s - loss: 1.2438e-05 - 8ms/epoch - 2ms/step\n",
      "Epoch 27/50\n",
      "4/4 - 0s - loss: 3.7777e-06 - 11ms/epoch - 3ms/step\n",
      "Epoch 28/50\n",
      "4/4 - 0s - loss: 1.8752e-06 - 9ms/epoch - 2ms/step\n",
      "Epoch 29/50\n",
      "4/4 - 0s - loss: 1.3986e-06 - 12ms/epoch - 3ms/step\n",
      "Epoch 30/50\n",
      "4/4 - 0s - loss: 2.0406e-06 - 8ms/epoch - 2ms/step\n",
      "Epoch 31/50\n",
      "4/4 - 0s - loss: 2.1425e-06 - 10ms/epoch - 3ms/step\n",
      "Epoch 32/50\n",
      "4/4 - 0s - loss: 2.1938e-06 - 10ms/epoch - 2ms/step\n",
      "Epoch 33/50\n",
      "4/4 - 0s - loss: 1.3719e-06 - 10ms/epoch - 2ms/step\n",
      "Epoch 34/50\n",
      "4/4 - 0s - loss: 8.4182e-07 - 11ms/epoch - 3ms/step\n",
      "Epoch 35/50\n",
      "4/4 - 0s - loss: 3.5347e-07 - 10ms/epoch - 3ms/step\n",
      "Epoch 36/50\n",
      "4/4 - 0s - loss: 1.2336e-07 - 11ms/epoch - 3ms/step\n",
      "Epoch 37/50\n",
      "4/4 - 0s - loss: 2.6606e-08 - 9ms/epoch - 2ms/step\n",
      "Epoch 38/50\n",
      "4/4 - 0s - loss: 4.2363e-08 - 10ms/epoch - 2ms/step\n",
      "Epoch 39/50\n",
      "4/4 - 0s - loss: 5.3198e-08 - 9ms/epoch - 2ms/step\n",
      "Epoch 40/50\n",
      "4/4 - 0s - loss: 5.7625e-08 - 22ms/epoch - 5ms/step\n",
      "Epoch 41/50\n",
      "4/4 - 0s - loss: 5.1429e-08 - 23ms/epoch - 6ms/step\n",
      "Epoch 42/50\n",
      "4/4 - 0s - loss: 3.3759e-08 - 20ms/epoch - 5ms/step\n",
      "Epoch 43/50\n",
      "4/4 - 0s - loss: 1.5767e-08 - 16ms/epoch - 4ms/step\n",
      "Epoch 44/50\n",
      "4/4 - 0s - loss: 5.7963e-09 - 10ms/epoch - 2ms/step\n",
      "Epoch 45/50\n",
      "4/4 - 0s - loss: 1.8113e-09 - 12ms/epoch - 3ms/step\n",
      "Epoch 46/50\n",
      "4/4 - 0s - loss: 8.7837e-10 - 11ms/epoch - 3ms/step\n",
      "Epoch 47/50\n",
      "4/4 - 0s - loss: 1.7428e-09 - 10ms/epoch - 2ms/step\n",
      "Epoch 48/50\n",
      "4/4 - 0s - loss: 2.0497e-09 - 11ms/epoch - 3ms/step\n",
      "Epoch 49/50\n",
      "4/4 - 0s - loss: 1.7309e-09 - 13ms/epoch - 3ms/step\n",
      "Epoch 50/50\n",
      "4/4 - 0s - loss: 1.2248e-09 - 9ms/epoch - 2ms/step\n"
     ]
    }
   ],
   "source": [
    "history = pullback_der.fit(x=xtrain,\n",
    "                      y=Rtrain,\n",
    "                      epochs=50,\n",
    "                      verbose=2)"
   ]
  },
  {
   "cell_type": "code",
   "execution_count": 32,
   "metadata": {},
   "outputs": [
    {
     "data": {
      "text/plain": [
       "Text(0.5, 0, 'Epoch')"
      ]
     },
     "execution_count": 32,
     "metadata": {},
     "output_type": "execute_result"
    },
    {
     "data": {
      "image/png": "[encoded data removed]",
      "text/plain": [
       "<Figure size 640x480 with 1 Axes>"
      ]
     },
     "metadata": {},
     "output_type": "display_data"
    }
   ],
   "source": [
    "# %%\n",
    "# %matplotlib inline\n",
    "# Plot training & validation accuracy values\n",
    "f1 = plt.figure\n",
    "plt.subplot(2, 1, 1)\n",
    "plt.plot(history.history['loss'])\n",
    "plt.ylabel('Error')\n",
    "plt.xlabel('Epoch')"
   ]
  },
  {
   "cell_type": "markdown",
   "metadata": {},
   "source": [
    "## Test the derivative of the model\n",
    "Evaluate the expectation value of the displacement as derivative of the characterisc function"
   ]
  },
  {
   "cell_type": "code",
   "execution_count": 33,
   "metadata": {},
   "outputs": [],
   "source": [
    "x = tf.Variable(np.zeros((1,N)), dtype=tf_real) # the derivative are evaluated at x=0\n",
    "with tf.GradientTape(persistent=True) as tape:\n",
    "    tape.watch(x)\n",
    "    chir, chii = pullback(x)"
   ]
  },
  {
   "cell_type": "code",
   "execution_count": 34,
   "metadata": {},
   "outputs": [
    {
     "name": "stdout",
     "output_type": "stream",
     "text": [
      "tf.Tensor([[0. 0. 0. 0. 0. 0. 0. 0. 0. 0.]], shape=(1, 10), dtype=float32)\n"
     ]
    }
   ],
   "source": [
    "print(tape.gradient(chir,x))"
   ]
  },
  {
   "cell_type": "code",
   "execution_count": 35,
   "metadata": {},
   "outputs": [
    {
     "name": "stdout",
     "output_type": "stream",
     "text": [
      "tf.Tensor(\n",
      "[[ 3.33e-01  6.67e-01  6.67e-01  2.89e-06  3.19e-05 -1.30e-06  4.44e-05\n",
      "   2.76e-05  4.16e-05  8.43e-06]], shape=(1, 10), dtype=float32)\n"
     ]
    }
   ],
   "source": [
    "print(tape.gradient(chii,x))"
   ]
  },
  {
   "cell_type": "markdown",
   "metadata": {},
   "source": [
    "Use the derivative function for the derivative"
   ]
  },
  {
   "cell_type": "code",
   "execution_count": 36,
   "metadata": {},
   "outputs": [
    {
     "name": "stdout",
     "output_type": "stream",
     "text": [
      "tf.Tensor(\n",
      "[[ 3.33e-01  6.67e-01  6.67e-01  2.68e-06  3.19e-05 -1.26e-06  4.45e-05\n",
      "   2.75e-05  4.17e-05  8.48e-06]], shape=(1, 10), dtype=float64)\n"
     ]
    }
   ],
   "source": [
    "print(derivative(x))"
   ]
  },
  {
   "cell_type": "markdown",
   "metadata": {},
   "source": [
    "Use the derivative model"
   ]
  },
  {
   "cell_type": "code",
   "execution_count": 37,
   "metadata": {},
   "outputs": [
    {
     "data": {
      "text/plain": [
       "<tf.Tensor: shape=(1, 10), dtype=float64, numpy=\n",
       "array([[ 3.33e-01,  6.67e-01,  6.67e-01,  2.89e-06,  3.19e-05, -1.30e-06,\n",
       "         4.44e-05,  2.76e-05,  4.16e-05,  8.43e-06]])>"
      ]
     },
     "execution_count": 37,
     "metadata": {},
     "output_type": "execute_result"
    }
   ],
   "source": [
    "pullback_der(xtrain)"
   ]
  },
  {
   "cell_type": "markdown",
   "metadata": {},
   "source": [
    "## Plot the model"
   ]
  },
  {
   "cell_type": "code",
   "execution_count": 38,
   "metadata": {},
   "outputs": [
    {
     "data": {
      "image/png": "[encoded data removed]",
      "text/plain": [
       "<IPython.core.display.Image object>"
      ]
     },
     "execution_count": 38,
     "metadata": {},
     "output_type": "execute_result"
    }
   ],
   "source": [
    "dot_img_file = 'pullback_twolayers_DER.png'\n",
    "tf.keras.utils.plot_model(pullback, to_file=dot_img_file, show_shapes=True)"
   ]
  },
  {
   "cell_type": "markdown",
   "metadata": {},
   "source": [
    "## Check the weights of the layers"
   ]
  },
  {
   "cell_type": "markdown",
   "metadata": {},
   "source": [
    "### d and M of the complex layer R(these are unchanged)"
   ]
  },
  {
   "cell_type": "code",
   "execution_count": 39,
   "metadata": {},
   "outputs": [
    {
     "name": "stdout",
     "output_type": "stream",
     "text": [
      "[[0. 0. 0. 0. 0. 0. 0. 0. 0. 0.]]\n"
     ]
    }
   ],
   "source": [
    "print(R.d.numpy().transpose())"
   ]
  },
  {
   "cell_type": "code",
   "execution_count": 40,
   "metadata": {},
   "outputs": [
    {
     "name": "stdout",
     "output_type": "stream",
     "text": [
      "[[0. 0. 0. 0. 0. 0. 0. 0. 0. 0.]]\n"
     ]
    }
   ],
   "source": [
    "print(d_R_random.transpose())"
   ]
  },
  {
   "cell_type": "code",
   "execution_count": 41,
   "metadata": {},
   "outputs": [
    {
     "name": "stdout",
     "output_type": "stream",
     "text": [
      "[[ 0.7   0.27  0.2  -0.01  0.32  0.03 -0.49  0.15  0.2  -0.09]\n",
      " [-0.27  0.7   0.01  0.2  -0.03  0.32 -0.15 -0.49  0.09  0.2 ]\n",
      " [-0.   -0.    0.47 -0.29  0.07  0.71  0.24  0.22 -0.28 -0.04]\n",
      " [ 0.   -0.    0.29  0.47 -0.71  0.07 -0.22  0.24  0.04 -0.28]\n",
      " [-0.1   0.11  0.46  0.55  0.46 -0.32  0.36  0.05 -0.13 -0.1 ]\n",
      " [-0.11 -0.1  -0.55  0.46  0.32  0.46 -0.05  0.36  0.1  -0.13]\n",
      " [ 0.44  0.28 -0.19  0.03 -0.25  0.04  0.7   0.1   0.34  0.09]\n",
      " [-0.28  0.44 -0.03 -0.19 -0.04 -0.25 -0.1   0.7  -0.09  0.34]\n",
      " [-0.19 -0.34  0.32  0.05  0.06  0.1  -0.06  0.05  0.71  0.47]\n",
      " [ 0.34 -0.19 -0.05  0.32 -0.1   0.06 -0.05 -0.06 -0.47  0.71]]\n"
     ]
    }
   ],
   "source": [
    "M_Random_trained, _ =R.get_M(); print(M_Random_trained.numpy())"
   ]
  },
  {
   "cell_type": "code",
   "execution_count": 42,
   "metadata": {},
   "outputs": [
    {
     "name": "stdout",
     "output_type": "stream",
     "text": [
      "[[ 0.7   0.27  0.2  -0.01  0.32  0.03 -0.49  0.15  0.2  -0.09]\n",
      " [-0.27  0.7   0.01  0.2  -0.03  0.32 -0.15 -0.49  0.09  0.2 ]\n",
      " [-0.   -0.    0.47 -0.29  0.07  0.71  0.24  0.22 -0.28 -0.04]\n",
      " [ 0.   -0.    0.29  0.47 -0.71  0.07 -0.22  0.24  0.04 -0.28]\n",
      " [-0.1   0.11  0.46  0.55  0.46 -0.32  0.36  0.05 -0.13 -0.1 ]\n",
      " [-0.11 -0.1  -0.55  0.46  0.32  0.46 -0.05  0.36  0.1  -0.13]\n",
      " [ 0.44  0.28 -0.19  0.03 -0.25  0.04  0.7   0.1   0.34  0.09]\n",
      " [-0.28  0.44 -0.03 -0.19 -0.04 -0.25 -0.1   0.7  -0.09  0.34]\n",
      " [-0.19 -0.34  0.32  0.05  0.06  0.1  -0.06  0.05  0.71  0.47]\n",
      " [ 0.34 -0.19 -0.05  0.32 -0.1   0.06 -0.05 -0.06 -0.47  0.71]]\n"
     ]
    }
   ],
   "source": [
    "print(M_R_random)"
   ]
  },
  {
   "cell_type": "markdown",
   "metadata": {},
   "source": [
    "The M layer of the reservoir is unchanged"
   ]
  },
  {
   "cell_type": "markdown",
   "metadata": {},
   "source": [
    "### d and M of the trained layer, before and after training (they must change)"
   ]
  },
  {
   "cell_type": "code",
   "execution_count": 43,
   "metadata": {},
   "outputs": [
    {
     "data": {
      "text/plain": [
       "<tf.Variable 'random_layer_1/WR:0' shape=(5, 5) dtype=float32, numpy=\n",
       "array([[ 0.56,  0.21,  0.8 ,  0.72,  0.4 ],\n",
       "       [ 0.03,  0.5 ,  0.08,  0.92,  0.87],\n",
       "       [ 1.13,  0.19,  0.73,  1.17,  0.61],\n",
       "       [-0.  ,  0.18,  1.06,  0.84,  0.71],\n",
       "       [ 0.35,  0.67,  0.08, -0.07,  0.11]], dtype=float32)>"
      ]
     },
     "execution_count": 43,
     "metadata": {},
     "output_type": "execute_result"
    }
   ],
   "source": [
    "Ci.WR"
   ]
  },
  {
   "cell_type": "code",
   "execution_count": 44,
   "metadata": {},
   "outputs": [
    {
     "data": {
      "text/plain": [
       "array([[0.4 , 0.33, 0.59, 0.77, 0.41],\n",
       "       [0.15, 0.62, 0.16, 0.97, 0.9 ],\n",
       "       [0.91, 0.26, 0.48, 0.97, 0.54],\n",
       "       [0.05, 0.23, 0.87, 0.69, 0.81],\n",
       "       [0.36, 0.7 , 0.01, 0.03, 0.01]], dtype=float32)"
      ]
     },
     "execution_count": 44,
     "metadata": {},
     "output_type": "execute_result"
    }
   ],
   "source": [
    "WR_untrained_Ci"
   ]
  },
  {
   "cell_type": "code",
   "execution_count": 45,
   "metadata": {},
   "outputs": [
    {
     "data": {
      "text/plain": [
       "<tf.Variable 'random_layer_2/WI:0' shape=(5, 5) dtype=float32, numpy=\n",
       "array([[0.33, 0.1 , 0.15, 0.71, 0.83],\n",
       "       [0.36, 0.78, 1.15, 0.73, 0.83],\n",
       "       [0.54, 0.38, 0.91, 0.12, 0.33],\n",
       "       [0.54, 0.33, 1.02, 0.65, 0.6 ],\n",
       "       [0.66, 0.31, 0.8 , 0.3 , 0.26]], dtype=float32)>"
      ]
     },
     "execution_count": 45,
     "metadata": {},
     "output_type": "execute_result"
    }
   ],
   "source": [
    "Co.WI"
   ]
  },
  {
   "cell_type": "code",
   "execution_count": 46,
   "metadata": {},
   "outputs": [
    {
     "data": {
      "text/plain": [
       "array([[0.33, 0.09, 0.3 , 0.87, 0.69],\n",
       "       [0.38, 0.78, 0.82, 0.53, 0.65],\n",
       "       [0.39, 0.71, 0.91, 0.47, 0.69],\n",
       "       [0.38, 0.53, 0.67, 0.65, 0.63],\n",
       "       [0.79, 0.49, 0.45, 0.27, 0.26]], dtype=float32)"
      ]
     },
     "execution_count": 46,
     "metadata": {},
     "output_type": "execute_result"
    }
   ],
   "source": [
    "WI_untrained_Co"
   ]
  },
  {
   "cell_type": "code",
   "execution_count": 47,
   "metadata": {},
   "outputs": [
    {
     "name": "stdout",
     "output_type": "stream",
     "text": [
      "[[ 3.44e-01  1.84e-01  3.85e-01 -1.22e-01 -5.76e-02 -2.83e-01  7.04e-02\n",
      "   2.20e-01  4.14e-02 -7.39e-01]\n",
      " [-1.84e-01  3.44e-01  1.22e-01  3.85e-01  2.83e-01 -5.76e-02 -2.20e-01\n",
      "   7.04e-02  7.39e-01  4.14e-02]\n",
      " [-4.06e-01  2.95e-01  1.32e-02 -2.00e-01 -7.06e-03  5.22e-01  2.96e-01\n",
      "  -4.50e-01  5.92e-02 -3.77e-01]\n",
      " [-2.95e-01 -4.06e-01  2.00e-01  1.32e-02 -5.22e-01 -7.06e-03  4.50e-01\n",
      "   2.96e-01  3.77e-01  5.92e-02]\n",
      " [ 4.64e-01 -3.56e-01  4.19e-01  5.63e-02  4.32e-01  4.32e-01  2.48e-01\n",
      "  -1.04e-01  1.27e-01  1.36e-01]\n",
      " [ 3.56e-01  4.64e-01 -5.63e-02  4.19e-01 -4.32e-01  4.32e-01  1.04e-01\n",
      "   2.48e-01 -1.36e-01  1.27e-01]\n",
      " [-1.09e-01  3.50e-01  1.18e-02  6.24e-02  3.55e-01 -3.60e-01  7.05e-01\n",
      "   1.18e-01 -2.03e-01  2.34e-01]\n",
      " [-3.50e-01 -1.09e-01 -6.24e-02  1.18e-02  3.60e-01  3.55e-01 -1.18e-01\n",
      "   7.05e-01 -2.34e-01 -2.03e-01]\n",
      " [ 2.24e-01  2.66e-01 -1.62e-01 -7.67e-01  7.40e-04  1.24e-01 -3.28e-03\n",
      "   2.71e-01  3.26e-01  2.64e-01]\n",
      " [-2.66e-01  2.24e-01  7.67e-01 -1.62e-01 -1.24e-01  7.40e-04 -2.71e-01\n",
      "  -3.28e-03 -2.64e-01  3.26e-01]]\n"
     ]
    }
   ],
   "source": [
    "M_i, _= Ci.get_M(); print(M_i.numpy())"
   ]
  },
  {
   "cell_type": "code",
   "execution_count": 48,
   "metadata": {},
   "outputs": [
    {
     "name": "stdout",
     "output_type": "stream",
     "text": [
      "[[ 0.57  0.16  0.41  0.43 -0.12 -0.25 -0.17  0.44 -0.08  0.01]\n",
      " [-0.16  0.57 -0.43  0.41  0.25 -0.12 -0.44 -0.17 -0.01 -0.08]\n",
      " [-0.08  0.22  0.13  0.01 -0.08  0.65 -0.06  0.3   0.42 -0.48]\n",
      " [-0.22 -0.08 -0.01  0.13 -0.65 -0.08 -0.3  -0.06  0.48  0.42]\n",
      " [-0.17 -0.21  0.32  0.53  0.31  0.47  0.04 -0.18 -0.09  0.41]\n",
      " [ 0.21 -0.17 -0.53  0.32 -0.47  0.31  0.18  0.04 -0.41 -0.09]\n",
      " [-0.34  0.46 -0.04  0.08 -0.06 -0.1   0.63  0.4  -0.01  0.29]\n",
      " [-0.46 -0.34 -0.08 -0.04  0.1  -0.06 -0.4   0.63 -0.29 -0.01]\n",
      " [ 0.43  0.09 -0.35 -0.33  0.25  0.3  -0.16  0.26  0.14  0.55]\n",
      " [-0.09  0.43  0.33 -0.35 -0.3   0.25 -0.26 -0.16 -0.55  0.14]]\n"
     ]
    }
   ],
   "source": [
    "print(M_untrained_Ci.numpy())"
   ]
  },
  {
   "cell_type": "code",
   "execution_count": 49,
   "metadata": {},
   "outputs": [
    {
     "name": "stdout",
     "output_type": "stream",
     "text": [
      "[[ 0.7   0.11 -0.1  -0.04  0.61  0.12 -0.07 -0.26 -0.05 -0.15]\n",
      " [-0.11  0.7   0.04 -0.1  -0.12  0.61  0.26 -0.07  0.15 -0.05]\n",
      " [ 0.04 -0.16  0.6  -0.56  0.21  0.01  0.32  0.37 -0.07 -0.11]\n",
      " [ 0.16  0.04  0.56  0.6  -0.01  0.21 -0.37  0.32  0.11 -0.07]\n",
      " [-0.39 -0.24  0.21  0.32  0.48  0.14  0.34 -0.38  0.11  0.34]\n",
      " [ 0.24 -0.39 -0.32  0.21 -0.14  0.48  0.38  0.34 -0.34  0.11]\n",
      " [ 0.28  0.25  0.16  0.36 -0.22 -0.5   0.62 -0.07 -0.05 -0.11]\n",
      " [-0.25  0.28 -0.36  0.16  0.5  -0.22  0.07  0.62  0.11 -0.05]\n",
      " [ 0.21 -0.27 -0.13 -0.05 -0.11  0.05  0.15  0.08  0.91 -0.02]\n",
      " [ 0.27  0.21  0.05 -0.13 -0.05 -0.11 -0.08  0.15  0.02  0.91]]\n"
     ]
    }
   ],
   "source": [
    "M_o, _= Co.get_M(); print(M_o.numpy())"
   ]
  },
  {
   "cell_type": "code",
   "execution_count": 50,
   "metadata": {},
   "outputs": [
    {
     "name": "stdout",
     "output_type": "stream",
     "text": [
      "[[ 0.59  0.51  0.07 -0.01  0.15  0.18 -0.5   0.12  0.23 -0.03]\n",
      " [-0.51  0.59  0.01  0.07 -0.18  0.15 -0.12 -0.5   0.03  0.23]\n",
      " [-0.22  0.24  0.31 -0.52  0.09  0.37  0.27  0.52 -0.09  0.16]\n",
      " [-0.24 -0.22  0.52  0.31 -0.37  0.09 -0.52  0.27 -0.16 -0.09]\n",
      " [-0.03 -0.18  0.04  0.41  0.64  0.33 -0.05 -0.03 -0.25  0.46]\n",
      " [ 0.18 -0.03 -0.41  0.04 -0.33  0.64  0.03 -0.05 -0.46 -0.25]\n",
      " [ 0.21  0.35  0.03  0.56 -0.31 -0.19  0.46  0.33 -0.1   0.24]\n",
      " [-0.35  0.21 -0.56  0.03  0.19 -0.31 -0.33  0.46 -0.24 -0.1 ]\n",
      " [-0.2  -0.19 -0.32  0.19 -0.13  0.35  0.01  0.25  0.75  0.11]\n",
      " [ 0.19 -0.2  -0.19 -0.32 -0.35 -0.13 -0.25  0.01 -0.11  0.75]]\n"
     ]
    }
   ],
   "source": [
    "print(M_untrained_Co.numpy())"
   ]
  },
  {
   "cell_type": "markdown",
   "metadata": {},
   "source": [
    "The weights of the trainable media are changed"
   ]
  },
  {
   "cell_type": "markdown",
   "metadata": {},
   "source": [
    "# Retrieve the covariance matrix (use the cvovariance layer)"
   ]
  },
  {
   "cell_type": "code",
   "execution_count": 51,
   "metadata": {},
   "outputs": [
    {
     "name": "stdout",
     "output_type": "stream",
     "text": [
      "(<tf.Tensor: shape=(10, 10), dtype=float32, numpy=\n",
      "array([[ 1.00e+00, -0.00e+00, -1.49e-07, -2.15e-07, -2.31e-09, -5.87e-08,\n",
      "        -1.22e-07,  2.93e-07, -9.26e-08, -1.58e-07],\n",
      "       [ 5.96e-08,  1.00e+00,  3.58e-07, -3.22e-07,  9.96e-08,  6.05e-08,\n",
      "        -3.91e-07, -1.40e-07,  2.01e-07, -5.64e-08],\n",
      "       [-1.79e-07,  5.96e-08,  1.00e+00, -1.84e-07, -4.04e-07, -3.11e-08,\n",
      "        -7.74e-08, -1.55e-07, -3.85e-08,  7.95e-08],\n",
      "       [-2.19e-07, -3.53e-07, -3.65e-09,  1.00e+00,  1.84e-08, -4.32e-07,\n",
      "         1.46e-07,  1.87e-08, -1.36e-07, -1.17e-08],\n",
      "       [ 4.48e-08,  1.35e-07, -3.16e-07,  4.63e-08,  1.00e+00,  4.33e-08,\n",
      "         1.75e-08,  1.52e-07, -2.11e-07,  1.74e-07],\n",
      "       [-4.73e-08, -7.12e-08, -1.36e-07, -4.29e-07, -5.79e-08,  1.00e+00,\n",
      "        -1.47e-07,  1.93e-08, -1.50e-07, -2.30e-07],\n",
      "       [-1.45e-07, -2.56e-07,  1.91e-07,  2.12e-07,  2.02e-08, -1.71e-07,\n",
      "         1.00e+00, -3.45e-08,  1.29e-07,  1.90e-08],\n",
      "       [ 3.84e-07, -2.40e-07, -1.88e-07, -4.80e-08,  1.64e-07,  5.07e-08,\n",
      "         4.54e-08,  1.00e+00, -4.65e-08,  5.15e-08],\n",
      "       [-6.38e-08,  1.09e-07, -3.91e-08, -5.52e-08, -2.05e-07, -1.79e-07,\n",
      "         5.76e-08, -1.06e-07,  1.00e+00, -8.87e-10],\n",
      "       [-2.50e-07, -6.50e-08,  1.04e-07, -1.25e-08,  1.61e-07, -2.62e-07,\n",
      "         4.43e-08,  1.13e-07, -4.25e-08,  1.00e+00]], dtype=float32)>, <tf.Tensor: shape=(1, 10), dtype=float32, numpy=\n",
      "array([[ 3.33e-01,  6.67e-01,  6.67e-01,  2.68e-06,  3.19e-05, -1.26e-06,\n",
      "         4.45e-05,  2.75e-05,  4.17e-05,  8.48e-06]], dtype=float32)>, <tf.Tensor: shape=(10, 10), dtype=float32, numpy=\n",
      "array([[-6.11e-01, -2.22e-01, -2.22e-01, -7.85e-07, -1.06e-05,  4.50e-07,\n",
      "        -1.48e-05, -9.32e-06, -1.39e-05, -2.75e-06],\n",
      "       [-2.22e-01, -9.44e-01, -4.44e-01, -1.62e-06, -2.13e-05,  8.10e-07,\n",
      "        -2.95e-05, -1.83e-05, -2.79e-05, -5.62e-06],\n",
      "       [-2.22e-01, -4.44e-01, -9.44e-01, -1.69e-06, -2.10e-05,  8.56e-07,\n",
      "        -2.96e-05, -1.83e-05, -2.78e-05, -5.69e-06],\n",
      "       [-7.83e-07, -1.61e-06, -1.78e-06, -5.00e-01, -9.28e-09,  2.16e-07,\n",
      "        -7.30e-08, -9.42e-09,  6.77e-08,  5.81e-09],\n",
      "       [-1.06e-05, -2.13e-05, -2.11e-05, -2.32e-08, -5.00e-01, -2.16e-08,\n",
      "        -1.02e-08, -7.69e-08,  1.04e-07, -8.72e-08],\n",
      "       [ 4.44e-07,  8.76e-07,  9.09e-07,  2.15e-07,  2.90e-08, -5.00e-01,\n",
      "         7.37e-08, -9.63e-09,  7.52e-08,  1.15e-07],\n",
      "       [-1.48e-05, -2.95e-05, -2.98e-05, -1.06e-07, -1.15e-08,  8.54e-08,\n",
      "        -5.00e-01,  1.60e-08, -6.65e-08, -9.87e-09],\n",
      "       [-9.36e-06, -1.82e-05, -1.82e-05,  2.39e-08, -8.27e-08, -2.53e-08,\n",
      "        -2.39e-08, -5.00e-01,  2.21e-08, -2.60e-08],\n",
      "       [-1.39e-05, -2.79e-05, -2.78e-05,  2.75e-08,  1.01e-07,  8.96e-08,\n",
      "        -3.07e-08,  5.21e-08, -5.00e-01,  8.97e-11],\n",
      "       [-2.70e-06, -5.62e-06, -5.70e-06,  6.23e-09, -8.09e-08,  1.31e-07,\n",
      "        -2.26e-08, -5.68e-08,  2.09e-08, -5.00e-01]], dtype=float32)>)\n"
     ]
    }
   ],
   "source": [
    "print(ps.covariance(N)(chir, chii, pullback))"
   ]
  },
  {
   "cell_type": "markdown",
   "metadata": {},
   "source": [
    "The covariance matrix is the identity matrix"
   ]
  }
 ],
 "metadata": {
  "kernelspec": {
   "display_name": "Python 3 (ipykernel)",
   "language": "python",
   "name": "python3"
  },
  "language_info": {
   "codemirror_mode": {
    "name": "ipython",
    "version": 3
   },
   "file_extension": ".py",
   "mimetype": "text/x-python",
   "name": "python",
   "nbconvert_exporter": "python",
   "pygments_lexer": "ipython3",
   "version": "3.10.12"
  }
 },
 "nbformat": 4,
 "nbformat_minor": 4
}
