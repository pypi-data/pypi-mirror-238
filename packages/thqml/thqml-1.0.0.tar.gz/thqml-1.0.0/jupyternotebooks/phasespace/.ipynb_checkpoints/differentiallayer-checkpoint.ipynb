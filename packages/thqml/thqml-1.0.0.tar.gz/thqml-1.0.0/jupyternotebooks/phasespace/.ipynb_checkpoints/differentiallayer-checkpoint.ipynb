{
 "cells": [
  {
   "cell_type": "markdown",
   "metadata": {},
   "source": [
    "# Test the differential layer and the Heisenber layer with coherent states"
   ]
  },
  {
   "cell_type": "markdown",
   "metadata": {},
   "source": [
    "Creat a multimode coherent state and test the output of the DifferentialGaussianLayer\n",
    "\n",
    "<img src=\"../img/logo_circular.png\" width=\"20\" height=\"20\" />@by claudio<br>\n",
    "\n",
    "\n",
    "nonlinearxwaves@gmail.com<br>\n",
    "@version 5 january 2021<be>\n",
    "@version 23 sep 2023"
   ]
  },
  {
   "cell_type": "code",
   "execution_count": 1,
   "metadata": {},
   "outputs": [],
   "source": [
    "import os\n",
    "os.environ['TF_CPP_MIN_LOG_LEVEL'] = '2' # disable warning messages"
   ]
  },
  {
   "cell_type": "code",
   "execution_count": 2,
   "metadata": {},
   "outputs": [],
   "source": [
    "import numpy as np\n",
    "from thqml import phasespace as ps\n",
    "from thqml.utilities import utilities\n",
    "import tensorflow as tf\n",
    "from tensorflow import keras\n",
    "import matplotlib.pyplot as plt\n",
    "from tensorflow.keras.callbacks import EarlyStopping\n",
    "import tensorflow.keras.backend as kb"
   ]
  },
  {
   "cell_type": "code",
   "execution_count": 3,
   "metadata": {},
   "outputs": [],
   "source": [
    "tf.keras.backend.clear_session()"
   ]
  },
  {
   "cell_type": "code",
   "execution_count": 4,
   "metadata": {},
   "outputs": [],
   "source": [
    " #np.set_printoptions(precision=2)"
   ]
  },
  {
   "cell_type": "markdown",
   "metadata": {},
   "source": [
    "## Dimension (number of modes times 2, N=2n)"
   ]
  },
  {
   "cell_type": "code",
   "execution_count": 5,
   "metadata": {},
   "outputs": [],
   "source": [
    "N = 4"
   ]
  },
  {
   "cell_type": "markdown",
   "metadata": {},
   "source": [
    "## Build vacuum by the Gaussian state"
   ]
  },
  {
   "cell_type": "code",
   "execution_count": 6,
   "metadata": {},
   "outputs": [],
   "source": [
    "vacuum = ps.VacuumLayer(N)"
   ]
  },
  {
   "cell_type": "markdown",
   "metadata": {},
   "source": [
    "## Coherent state (Displacer on mode 0 and 1)"
   ]
  },
  {
   "cell_type": "code",
   "execution_count": 7,
   "metadata": {},
   "outputs": [],
   "source": [
    "A_np = 10.0\n",
    "lambda_np = np.pi/2\n",
    "dinput=np.zeros((N,1));\n",
    "dinput[2]=np.sqrt(2)*A_np*np.cos(lambda_np);\n",
    "dinput[3]=np.sqrt(2)*A_np*np.sin(lambda_np);\n",
    "displacer=ps.DisplacementLayerConstant(dinput)"
   ]
  },
  {
   "cell_type": "markdown",
   "metadata": {},
   "source": [
    "Alpha parameters on the modes"
   ]
  },
  {
   "cell_type": "code",
   "execution_count": 8,
   "metadata": {},
   "outputs": [
    {
     "name": "stdout",
     "output_type": "stream",
     "text": [
      "[0.000000e+00 +0.j 6.123234e-16+10.j]\n"
     ]
    }
   ],
   "source": [
    "alpha=np.zeros((2,),dtype=complex)\n",
    "alpha[0]=complex(dinput[0]/np.sqrt(2), dinput[1]/np.sqrt(2))\n",
    "alpha[1]=complex(dinput[2]/np.sqrt(2), dinput[3]/np.sqrt(2))\n",
    "print(alpha)"
   ]
  },
  {
   "cell_type": "markdown",
   "metadata": {},
   "source": [
    "### Dummy training points (not used for training in this example)"
   ]
  },
  {
   "cell_type": "code",
   "execution_count": 9,
   "metadata": {},
   "outputs": [],
   "source": [
    "Nbatch=10\n",
    "gtarget=np.eye(N)\n",
    "dtarget=2.4*np.ones((N,1))\n",
    "xtrain = np.random.rand(Nbatch, N)-0.5\n",
    "ytrain =np.zeros_like(xtrain)\n",
    "dtrain = np.zeros((Nbatch,N))\n",
    "gtrain = np.zeros((Nbatch,N,N))\n",
    "for j in range(Nbatch):\n",
    "    for i in range(N):\n",
    "        dtrain[j,i]=dtarget[i]\n",
    "        for k in range(N):\n",
    "            gtrain[j,i,k]=gtarget[i,k]"
   ]
  },
  {
   "cell_type": "markdown",
   "metadata": {},
   "source": [
    "# Build the model"
   ]
  },
  {
   "cell_type": "code",
   "execution_count": 10,
   "metadata": {},
   "outputs": [],
   "source": [
    "xin = tf.keras.layers.Input(N)\n",
    "x0, a0 = displacer(xin)\n",
    "chir, chii = vacuum(x0, a0)\n",
    "model = tf.keras.Model(inputs = xin, outputs=[chir, chii])"
   ]
  },
  {
   "cell_type": "markdown",
   "metadata": {},
   "source": [
    "# Evaluate the uncertainties by DifferentialGaussianLayer "
   ]
  },
  {
   "cell_type": "markdown",
   "metadata": {},
   "source": [
    "# Build the tensor with the covariance matrix and "
   ]
  },
  {
   "cell_type": "markdown",
   "metadata": {},
   "source": [
    "### evaluate the covariance and displacement of the model"
   ]
  },
  {
   "cell_type": "code",
   "execution_count": 11,
   "metadata": {},
   "outputs": [
    {
     "name": "stdout",
     "output_type": "stream",
     "text": [
      "[<tf.Tensor: shape=(4, 4), dtype=float32, numpy=\n",
      "array([[ 1., -0., -0., -0.],\n",
      "       [-0.,  1., -0., -0.],\n",
      "       [-0., -0.,  1., -0.],\n",
      "       [-0., -0., -0.,  1.]], dtype=float32)>, <tf.Tensor: shape=(1, 4), dtype=float32, numpy=\n",
      "array([[0.0000000e+00, 0.0000000e+00, 8.6595603e-16, 1.4142136e+01]],\n",
      "      dtype=float32)>]\n"
     ]
    }
   ],
   "source": [
    "g, d, hessian = ps.CovarianceLayer(N)(chir, chii, model)\n",
    "covarianceModel = tf.keras.Model(inputs = xin, outputs=[g, d])\n",
    "print(covarianceModel(xtrain))"
   ]
  },
  {
   "cell_type": "markdown",
   "metadata": {},
   "source": [
    "### build the tensors"
   ]
  },
  {
   "cell_type": "code",
   "execution_count": 12,
   "metadata": {},
   "outputs": [],
   "source": [
    "gdiag = tf.linalg.diag_part(g)\n",
    "d2 = tf.square(d)\n",
    "d4 = tf.square(d2)\n",
    "\n",
    "# build tensor gjj gkk\n",
    "gjjkk = tf.tensordot(gdiag,gdiag, axes=0)\n",
    "\n",
    "# build tensor gjj dk dk\n",
    "gjjdkdk = tf.tensordot(gdiag, d2, axes =0)\n"
   ]
  },
  {
   "cell_type": "code",
   "execution_count": 13,
   "metadata": {},
   "outputs": [
    {
     "name": "stdout",
     "output_type": "stream",
     "text": [
      "KerasTensor(type_spec=TensorSpec(shape=(4,), dtype=tf.float32, name=None), name='tf.linalg.diag_part/diag_part:0', description=\"created by layer 'tf.linalg.diag_part'\")\n",
      "KerasTensor(type_spec=TensorSpec(shape=(4, 4), dtype=tf.float32, name=None), name='tf.tensordot/Tensordot/MatMul:0', description=\"created by layer 'tf.tensordot'\")\n"
     ]
    }
   ],
   "source": [
    "print(gdiag)\n",
    "print(gjjkk)"
   ]
  },
  {
   "cell_type": "markdown",
   "metadata": {},
   "source": [
    "# Compare with the differential layer"
   ]
  },
  {
   "cell_type": "code",
   "execution_count": 14,
   "metadata": {},
   "outputs": [],
   "source": [
    "Diff=ps.DifferentialGaussianLayer(N)\n",
    "nboson, Dn, Dn2 = Diff(chir,chii, model)\n",
    "HModel = tf.keras.Model(inputs = xin, outputs=[nboson, Dn, Dn2])"
   ]
  },
  {
   "cell_type": "markdown",
   "metadata": {},
   "source": [
    "# Run the model"
   ]
  },
  {
   "cell_type": "code",
   "execution_count": 15,
   "metadata": {},
   "outputs": [],
   "source": [
    "nboson1, Dn, Dn2=HModel(xtrain) "
   ]
  },
  {
   "cell_type": "markdown",
   "metadata": {},
   "source": [
    "# Compare the number of bosons with expected values"
   ]
  },
  {
   "cell_type": "markdown",
   "metadata": {},
   "source": [
    "For coherent state <n> = |alpha|^2"
   ]
  },
  {
   "cell_type": "markdown",
   "metadata": {},
   "source": [
    "Computed model"
   ]
  },
  {
   "cell_type": "code",
   "execution_count": 16,
   "metadata": {},
   "outputs": [
    {
     "name": "stdout",
     "output_type": "stream",
     "text": [
      "[[0 100]]\n"
     ]
    }
   ],
   "source": [
    "tf.print(nboson1)"
   ]
  },
  {
   "cell_type": "markdown",
   "metadata": {},
   "source": [
    "Theoretically expected value"
   ]
  },
  {
   "cell_type": "code",
   "execution_count": 17,
   "metadata": {},
   "outputs": [
    {
     "name": "stdout",
     "output_type": "stream",
     "text": [
      "[  0. 100.]\n"
     ]
    }
   ],
   "source": [
    "n0ex=np.abs(alpha)**2\n",
    "print(np.abs(alpha)**2)"
   ]
  },
  {
   "cell_type": "markdown",
   "metadata": {},
   "source": [
    "# Compare the < nj-nk >"
   ]
  },
  {
   "cell_type": "code",
   "execution_count": 18,
   "metadata": {},
   "outputs": [
    {
     "name": "stdout",
     "output_type": "stream",
     "text": [
      "[[0 -100]\n",
      " [100 0]]\n"
     ]
    }
   ],
   "source": [
    "tf.print(Dn)"
   ]
  },
  {
   "cell_type": "markdown",
   "metadata": {},
   "source": [
    "# Compare the < (nj-nk)^2 > "
   ]
  },
  {
   "cell_type": "markdown",
   "metadata": {},
   "source": [
    "For the coherent state \n",
    "< (n1-n0)^2 >= <n1^2>+<n0^2>-2<n0> <n1>=|alpha0|^4+|alpha0|^2+|alpha1|^4+|alpha1|^2-2 |alpha1|^1 |alpha0|^2"
   ]
  },
  {
   "cell_type": "code",
   "execution_count": 19,
   "metadata": {},
   "outputs": [],
   "source": [
    "expected_value = n0ex[0]**2+n0ex[0]+n0ex[1]**2+n0ex[1]-2*n0ex[0]*n0ex[1]"
   ]
  },
  {
   "cell_type": "code",
   "execution_count": 20,
   "metadata": {},
   "outputs": [
    {
     "name": "stdout",
     "output_type": "stream",
     "text": [
      "10100.0\n"
     ]
    }
   ],
   "source": [
    "print(expected_value)"
   ]
  },
  {
   "cell_type": "markdown",
   "metadata": {},
   "source": [
    "Computed value"
   ]
  },
  {
   "cell_type": "code",
   "execution_count": 21,
   "metadata": {},
   "outputs": [
    {
     "name": "stdout",
     "output_type": "stream",
     "text": [
      "[[0 10100]\n",
      " [10100 0]]\n"
     ]
    }
   ],
   "source": [
    "tf.print(Dn2)"
   ]
  },
  {
   "cell_type": "markdown",
   "metadata": {},
   "source": [
    "# Compare with the Heisenberg layer"
   ]
  },
  {
   "cell_type": "code",
   "execution_count": 22,
   "metadata": {},
   "outputs": [],
   "source": [
    "Heis=ps.HeisenbergGaussianLayer(N)\n",
    "nbosonH, nboson2, Dnboson2 = Heis(chir,chii, model)\n",
    "HModel2 = tf.keras.Model(inputs = xin, outputs=[nbosonH, nboson2 , Dnboson2])"
   ]
  },
  {
   "cell_type": "markdown",
   "metadata": {},
   "source": [
    "## Run  the model"
   ]
  },
  {
   "cell_type": "code",
   "execution_count": 23,
   "metadata": {},
   "outputs": [],
   "source": [
    "nbosonH, n2H, Dn2H=HModel2(xtrain) "
   ]
  },
  {
   "cell_type": "markdown",
   "metadata": {},
   "source": [
    "### Mean photon number"
   ]
  },
  {
   "cell_type": "code",
   "execution_count": 24,
   "metadata": {},
   "outputs": [
    {
     "name": "stdout",
     "output_type": "stream",
     "text": [
      "[[0 100]]\n"
     ]
    }
   ],
   "source": [
    "tf.print(nbosonH)"
   ]
  },
  {
   "cell_type": "code",
   "execution_count": 25,
   "metadata": {},
   "outputs": [
    {
     "name": "stdout",
     "output_type": "stream",
     "text": [
      "[  0. 100.]\n"
     ]
    }
   ],
   "source": [
    "print(np.abs(alpha)**2)"
   ]
  },
  {
   "cell_type": "markdown",
   "metadata": {},
   "source": [
    "### Mean photon number square"
   ]
  },
  {
   "cell_type": "code",
   "execution_count": 26,
   "metadata": {},
   "outputs": [
    {
     "name": "stdout",
     "output_type": "stream",
     "text": [
      "[[0 10100]]\n"
     ]
    }
   ],
   "source": [
    "tf.print(n2H)"
   ]
  },
  {
   "cell_type": "code",
   "execution_count": 27,
   "metadata": {},
   "outputs": [
    {
     "name": "stdout",
     "output_type": "stream",
     "text": [
      "[    0. 10100.]\n"
     ]
    }
   ],
   "source": [
    "print(np.abs(alpha)**2+np.abs(alpha)**4)"
   ]
  },
  {
   "cell_type": "markdown",
   "metadata": {},
   "source": [
    "### Variance"
   ]
  },
  {
   "cell_type": "code",
   "execution_count": 28,
   "metadata": {},
   "outputs": [
    {
     "name": "stdout",
     "output_type": "stream",
     "text": [
      "[[0 100]]\n"
     ]
    }
   ],
   "source": [
    "tf.print(Dn2H)"
   ]
  },
  {
   "cell_type": "code",
   "execution_count": 29,
   "metadata": {},
   "outputs": [
    {
     "name": "stdout",
     "output_type": "stream",
     "text": [
      "[  0. 100.]\n"
     ]
    }
   ],
   "source": [
    "print(np.abs(alpha)**2)"
   ]
  }
 ],
 "metadata": {
  "kernelspec": {
   "display_name": "Python 3 (ipykernel)",
   "language": "python",
   "name": "python3"
  },
  "language_info": {
   "codemirror_mode": {
    "name": "ipython",
    "version": 3
   },
   "file_extension": ".py",
   "mimetype": "text/x-python",
   "name": "python",
   "nbconvert_exporter": "python",
   "pygments_lexer": "ipython3",
   "version": "3.10.12"
  }
 },
 "nbformat": 4,
 "nbformat_minor": 4
}
