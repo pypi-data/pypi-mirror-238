{
 "cells": [
  {
   "cell_type": "markdown",
   "metadata": {},
   "source": [
    "# Training by using the derivative of multihead coherent state generation by pullback"
   ]
  },
  {
   "cell_type": "markdown",
   "metadata": {},
   "source": [
    "Use the multihead (2-head) gates in the phase space \n",
    "to create a network that represent a coherent state,\n",
    "by starting from a Gaussian state and making a pullback\n",
    "\n",
    "Use the derivative for the training\n",
    "\n",
    "NOTE: remember to shut down the kernel when out of memory\n",
    "\n",
    "<img src=\"../img/complexcoherentDER.png\" width=\"800\" height=\"200\" />\n",
    "\n",
    "<img src=\"../img/logo_circular.png\" width=\"20\" height=\"20\" />@by claudio<br>\n",
    "\n",
    "nonlinearxwaves@gmail.com<br>\n",
    "@created 28 july 2020<br>\n",
    "@version 15 may 2023"
   ]
  },
  {
   "cell_type": "code",
   "execution_count": 1,
   "metadata": {},
   "outputs": [],
   "source": [
    "import os\n",
    "os.environ['TF_CPP_MIN_LOG_LEVEL'] = '2' # disable warning messages"
   ]
  },
  {
   "cell_type": "code",
   "execution_count": 2,
   "metadata": {},
   "outputs": [],
   "source": [
    "import numpy as np\n",
    "from thqml import phasespace as ps\n",
    "from thqml.utilities import utilities\n",
    "import tensorflow as tf\n",
    "from tensorflow import keras\n",
    "import matplotlib.pyplot as plt\n",
    "from tensorflow.keras.callbacks import EarlyStopping"
   ]
  },
  {
   "cell_type": "code",
   "execution_count": 3,
   "metadata": {},
   "outputs": [],
   "source": [
    "tf_complex = tf.complex\n",
    "tf_real = tf.float32\n",
    "np_complex = complex\n",
    "np_real = np.float32"
   ]
  },
  {
   "cell_type": "markdown",
   "metadata": {},
   "source": [
    "Precision for output on the screen"
   ]
  },
  {
   "cell_type": "code",
   "execution_count": 4,
   "metadata": {},
   "outputs": [],
   "source": [
    "np.set_printoptions(precision=2)"
   ]
  },
  {
   "cell_type": "markdown",
   "metadata": {},
   "source": [
    "## Dimension"
   ]
  },
  {
   "cell_type": "code",
   "execution_count": 5,
   "metadata": {},
   "outputs": [],
   "source": [
    "N = 10"
   ]
  },
  {
   "cell_type": "markdown",
   "metadata": {},
   "source": [
    "## Build vacuum by the Gaussian state"
   ]
  },
  {
   "cell_type": "code",
   "execution_count": 6,
   "metadata": {},
   "outputs": [],
   "source": [
    "vacuum = ps.VacuumLayer(N, name='Vacuum')"
   ]
  },
  {
   "cell_type": "markdown",
   "metadata": {},
   "source": [
    "## Build the pullback layer for generating the input coherent state"
   ]
  },
  {
   "cell_type": "markdown",
   "metadata": {},
   "source": [
    "### Target displacement vector (IMPORTANT THE DISPLACEMENT VECTOR MUST BE NORMALIZED!!!)\n",
    "The displacement vector is a normalized column vector"
   ]
  },
  {
   "cell_type": "code",
   "execution_count": 7,
   "metadata": {},
   "outputs": [
    {
     "name": "stdout",
     "output_type": "stream",
     "text": [
      "[[0.32 0.32 0.32 0.32 0.32 0.32 0.32 0.32 0.32 0.32]]\n"
     ]
    }
   ],
   "source": [
    "dinput = 3.0*np.ones((N,1)); \n",
    "norm = np.linalg.norm(dinput)\n",
    "dinput = dinput /norm\n",
    "print(dinput.transpose())"
   ]
  },
  {
   "cell_type": "markdown",
   "metadata": {},
   "source": [
    "Check the normalization of the dtarget"
   ]
  },
  {
   "cell_type": "code",
   "execution_count": 8,
   "metadata": {},
   "outputs": [
    {
     "name": "stdout",
     "output_type": "stream",
     "text": [
      "[[1.]]\n"
     ]
    }
   ],
   "source": [
    "print(np.dot(dinput.transpose(), dinput)) "
   ]
  },
  {
   "cell_type": "markdown",
   "metadata": {},
   "source": [
    "### Symplectic operator\n",
    "A simple identity matrix"
   ]
  },
  {
   "cell_type": "code",
   "execution_count": 9,
   "metadata": {},
   "outputs": [],
   "source": [
    "M = np.eye(N)"
   ]
  },
  {
   "cell_type": "markdown",
   "metadata": {},
   "source": [
    "### Build the linear layer\n",
    "The layer is a constant layer, as no training is needed"
   ]
  },
  {
   "cell_type": "code",
   "execution_count": 10,
   "metadata": {},
   "outputs": [],
   "source": [
    "D = ps.DisplacementLayerConstant(dinput, name='Glauber')"
   ]
  },
  {
   "cell_type": "markdown",
   "metadata": {},
   "source": [
    "## Define the layer for the complex medium\n",
    "The LinearConstantMultiHead generate by default a random medium with \n",
    "the relevant symplectic operator"
   ]
  },
  {
   "cell_type": "code",
   "execution_count": 11,
   "metadata": {},
   "outputs": [],
   "source": [
    "R = ps.RandomLayerConstant(N, name='RandomConstant')"
   ]
  },
  {
   "cell_type": "markdown",
   "metadata": {},
   "source": [
    "## Define the trainable unitary layer"
   ]
  },
  {
   "cell_type": "code",
   "execution_count": 12,
   "metadata": {},
   "outputs": [],
   "source": [
    "T = ps.RandomLayer(N, name='Trainable')"
   ]
  },
  {
   "cell_type": "markdown",
   "metadata": {},
   "source": [
    "## Define the normalize target displacement vector"
   ]
  },
  {
   "cell_type": "code",
   "execution_count": 13,
   "metadata": {},
   "outputs": [
    {
     "name": "stdout",
     "output_type": "stream",
     "text": [
      "[[1. 0. 0. 0. 0. 0. 0. 0. 0. 0.]]\n"
     ]
    }
   ],
   "source": [
    "dtarget = np.zeros((N,1)); dtarget[0]=1.0; \n",
    "norm = np.linalg.norm(dtarget)\n",
    "dtarget = dtarget /norm\n",
    "print(dtarget.transpose())"
   ]
  },
  {
   "cell_type": "markdown",
   "metadata": {},
   "source": [
    "Check the normalization"
   ]
  },
  {
   "cell_type": "code",
   "execution_count": 14,
   "metadata": {},
   "outputs": [
    {
     "name": "stdout",
     "output_type": "stream",
     "text": [
      "[[1.]]\n"
     ]
    }
   ],
   "source": [
    "print(np.dot(dtarget.transpose(), dtarget)) "
   ]
  },
  {
   "cell_type": "markdown",
   "metadata": {},
   "source": [
    "## Connect the layers"
   ]
  },
  {
   "cell_type": "markdown",
   "metadata": {},
   "source": [
    "Input layer"
   ]
  },
  {
   "cell_type": "code",
   "execution_count": 15,
   "metadata": {},
   "outputs": [],
   "source": [
    "xin = tf.keras.layers.Input(N)\n",
    "x3, a3 = R(xin)\n",
    "x2, a2 = T(x3,a3)\n",
    "x1, a1 = D(x2,a2)\n",
    "chir, chii = vacuum(x1, a1) \n",
    "pullback = tf.keras.Model(inputs = xin, outputs=[chir, chii])"
   ]
  },
  {
   "cell_type": "markdown",
   "metadata": {},
   "source": [
    "Add the derivative layer for evaluating the mean <R>"
   ]
  },
  {
   "cell_type": "code",
   "execution_count": 16,
   "metadata": {},
   "outputs": [],
   "source": [
    "der_layer = ps.meanRLayer(N, name='meanR')\n",
    "chii_x = der_layer(chir, chii, pullback)\n"
   ]
  },
  {
   "cell_type": "code",
   "execution_count": 17,
   "metadata": {},
   "outputs": [],
   "source": [
    "pullback_der = tf.keras.Model(inputs = xin, outputs=chii_x)"
   ]
  },
  {
   "cell_type": "markdown",
   "metadata": {},
   "source": [
    "### Store the M,d of the random R layer for later chek"
   ]
  },
  {
   "cell_type": "code",
   "execution_count": 18,
   "metadata": {},
   "outputs": [],
   "source": [
    "M_R_tf, _=R.get_M(); M_R=M_R_tf.numpy()"
   ]
  },
  {
   "cell_type": "code",
   "execution_count": 19,
   "metadata": {},
   "outputs": [],
   "source": [
    "d_R=R.d.numpy()"
   ]
  },
  {
   "cell_type": "markdown",
   "metadata": {},
   "source": [
    "### Store the M, d of the untrained U_train layer for later check"
   ]
  },
  {
   "cell_type": "code",
   "execution_count": 20,
   "metadata": {},
   "outputs": [],
   "source": [
    "WR_untrained_T = T.WR.numpy()"
   ]
  },
  {
   "cell_type": "code",
   "execution_count": 21,
   "metadata": {},
   "outputs": [],
   "source": [
    "WI_untrained_T = T.WI.numpy()"
   ]
  },
  {
   "cell_type": "code",
   "execution_count": 22,
   "metadata": {},
   "outputs": [],
   "source": [
    "M_untrained_T, MI_untrained_T = T.get_M()"
   ]
  },
  {
   "cell_type": "markdown",
   "metadata": {},
   "source": [
    "### Auxiliary staff"
   ]
  },
  {
   "cell_type": "code",
   "execution_count": 23,
   "metadata": {},
   "outputs": [],
   "source": [
    "x0 = tf.constant(np.zeros((1,N)))\n",
    "with tf.GradientTape() as tape:\n",
    "    tape.watch(x0)\n",
    "    cr, ci = pullback(x0)\n",
    "    chii_x = tape.gradient(ci, x0)"
   ]
  },
  {
   "cell_type": "code",
   "execution_count": 24,
   "metadata": {},
   "outputs": [],
   "source": [
    "@tf.function\n",
    "def derivative(yr):\n",
    "    x = tf.constant(np.zeros((1,N)))\n",
    "    with tf.GradientTape() as tape:\n",
    "        tape.watch(x)\n",
    "        cr, ci = pullback(x)\n",
    "        chii_x = tape.gradient(ci, x)\n",
    "    return chii_x"
   ]
  },
  {
   "cell_type": "markdown",
   "metadata": {},
   "source": [
    "## Build the training, and train by the targed expected value"
   ]
  },
  {
   "cell_type": "markdown",
   "metadata": {},
   "source": [
    "Number of training points\n",
    "Also a single training point is enough for Gaussian state, more points improve the training"
   ]
  },
  {
   "cell_type": "code",
   "execution_count": 25,
   "metadata": {},
   "outputs": [],
   "source": [
    "Nbatch = 1"
   ]
  },
  {
   "cell_type": "markdown",
   "metadata": {},
   "source": [
    "Define the numpy function for the target characteristic function:\n",
    "    a coherent state with a target mean observable\n",
    "One need a target R (shape (Nbatch,N)) for any training point"
   ]
  },
  {
   "cell_type": "markdown",
   "metadata": {},
   "source": [
    "Remark: d has shape (N,1) and R has shape (1,N)"
   ]
  },
  {
   "cell_type": "code",
   "execution_count": 26,
   "metadata": {},
   "outputs": [],
   "source": [
    "xtrain = np.random.rand(Nbatch, N)-0.5\n",
    "Rtrain = np.zeros((Nbatch,N))\n",
    "for j in range(Nbatch):\n",
    "    for i in range(N):\n",
    "        Rtrain[j,i]=dtarget[i]"
   ]
  },
  {
   "cell_type": "markdown",
   "metadata": {},
   "source": [
    "## Train the model"
   ]
  },
  {
   "cell_type": "code",
   "execution_count": 27,
   "metadata": {},
   "outputs": [],
   "source": [
    "pullback_der.compile(optimizer=tf.keras.optimizers.Adam(learning_rate=0.01),\n",
    "                loss='mean_squared_error')"
   ]
  },
  {
   "cell_type": "markdown",
   "metadata": {},
   "source": [
    "Summary of the derivative model"
   ]
  },
  {
   "cell_type": "code",
   "execution_count": 28,
   "metadata": {},
   "outputs": [
    {
     "name": "stdout",
     "output_type": "stream",
     "text": [
      "Model: \"model_1\"\n",
      "__________________________________________________________________________________________________\n",
      " Layer (type)                   Output Shape         Param #     Connected to                     \n",
      "==================================================================================================\n",
      " input_1 (InputLayer)           [(None, 10)]         0           []                               \n",
      "                                                                                                  \n",
      " RandomConstant (RandomLayer)   [(None, 10),         50          ['input_1[0][0]']                \n",
      "                                 (10, 1)]                                                         \n",
      "                                                                                                  \n",
      " Trainable (RandomLayer)        [(None, 10),         50          ['RandomConstant[0][0]',         \n",
      "                                 (10, 1)]                         'RandomConstant[0][1]']         \n",
      "                                                                                                  \n",
      " Glauber (LinearLayerConstant)  [(None, 10),         0           ['Trainable[0][0]',              \n",
      "                                 (10, 1)]                         'Trainable[0][1]']              \n",
      "                                                                                                  \n",
      " Vacuum (GaussianLayer)         [(None, 1),          110         ['Glauber[0][0]',                \n",
      "                                 (None, 1)]                       'Glauber[0][1]']                \n",
      "                                                                                                  \n",
      " meanR (meanRLayer)             (1, 10)              0           ['Vacuum[0][0]',                 \n",
      "                                                                  'Vacuum[0][1]']                 \n",
      "                                                                                                  \n",
      "==================================================================================================\n",
      "Total params: 210\n",
      "Trainable params: 50\n",
      "Non-trainable params: 160\n",
      "__________________________________________________________________________________________________\n"
     ]
    }
   ],
   "source": [
    "pullback_der.summary()"
   ]
  },
  {
   "cell_type": "markdown",
   "metadata": {},
   "source": [
    "Test the call of the derivative layer"
   ]
  },
  {
   "cell_type": "code",
   "execution_count": 29,
   "metadata": {},
   "outputs": [
    {
     "data": {
      "text/plain": [
       "<tf.Tensor: shape=(1, 10), dtype=float32, numpy=\n",
       "array([[ 0.15, -0.33, -0.02, -0.4 ,  0.15, -0.46,  0.08, -0.21,  0.26,\n",
       "        -0.59]], dtype=float32)>"
      ]
     },
     "execution_count": 29,
     "metadata": {},
     "output_type": "execute_result"
    }
   ],
   "source": [
    "pullback_der(xtrain)"
   ]
  },
  {
   "cell_type": "markdown",
   "metadata": {},
   "source": [
    "## Training of the model"
   ]
  },
  {
   "cell_type": "code",
   "execution_count": 30,
   "metadata": {},
   "outputs": [
    {
     "name": "stdout",
     "output_type": "stream",
     "text": [
      "Epoch 1/200\n",
      "1/1 [==============================] - 2s 2s/step - loss: 0.1695\n",
      "Epoch 2/200\n",
      "1/1 [==============================] - 0s 6ms/step - loss: 0.1605\n",
      "Epoch 3/200\n",
      "1/1 [==============================] - 0s 5ms/step - loss: 0.1517\n",
      "Epoch 4/200\n",
      "1/1 [==============================] - 0s 5ms/step - loss: 0.1432\n",
      "Epoch 5/200\n",
      "1/1 [==============================] - 0s 6ms/step - loss: 0.1349\n",
      "Epoch 6/200\n",
      "1/1 [==============================] - 0s 5ms/step - loss: 0.1270\n",
      "Epoch 7/200\n",
      "1/1 [==============================] - 0s 7ms/step - loss: 0.1194\n",
      "Epoch 8/200\n",
      "1/1 [==============================] - 0s 6ms/step - loss: 0.1122\n",
      "Epoch 9/200\n",
      "1/1 [==============================] - 0s 7ms/step - loss: 0.1054\n",
      "Epoch 10/200\n",
      "1/1 [==============================] - 0s 4ms/step - loss: 0.0991\n",
      "Epoch 11/200\n",
      "1/1 [==============================] - 0s 5ms/step - loss: 0.0932\n",
      "Epoch 12/200\n",
      "1/1 [==============================] - 0s 6ms/step - loss: 0.0877\n",
      "Epoch 13/200\n",
      "1/1 [==============================] - 0s 5ms/step - loss: 0.0826\n",
      "Epoch 14/200\n",
      "1/1 [==============================] - 0s 5ms/step - loss: 0.0779\n",
      "Epoch 15/200\n",
      "1/1 [==============================] - 0s 5ms/step - loss: 0.0735\n",
      "Epoch 16/200\n",
      "1/1 [==============================] - 0s 6ms/step - loss: 0.0695\n",
      "Epoch 17/200\n",
      "1/1 [==============================] - 0s 5ms/step - loss: 0.0658\n",
      "Epoch 18/200\n",
      "1/1 [==============================] - 0s 6ms/step - loss: 0.0624\n",
      "Epoch 19/200\n",
      "1/1 [==============================] - 0s 5ms/step - loss: 0.0593\n",
      "Epoch 20/200\n",
      "1/1 [==============================] - 0s 5ms/step - loss: 0.0564\n",
      "Epoch 21/200\n",
      "1/1 [==============================] - 0s 5ms/step - loss: 0.0538\n",
      "Epoch 22/200\n",
      "1/1 [==============================] - 0s 6ms/step - loss: 0.0513\n",
      "Epoch 23/200\n",
      "1/1 [==============================] - 0s 5ms/step - loss: 0.0489\n",
      "Epoch 24/200\n",
      "1/1 [==============================] - 0s 5ms/step - loss: 0.0466\n",
      "Epoch 25/200\n",
      "1/1 [==============================] - 0s 4ms/step - loss: 0.0445\n",
      "Epoch 26/200\n",
      "1/1 [==============================] - 0s 6ms/step - loss: 0.0424\n",
      "Epoch 27/200\n",
      "1/1 [==============================] - 0s 5ms/step - loss: 0.0403\n",
      "Epoch 28/200\n",
      "1/1 [==============================] - 0s 6ms/step - loss: 0.0383\n",
      "Epoch 29/200\n",
      "1/1 [==============================] - 0s 5ms/step - loss: 0.0363\n",
      "Epoch 30/200\n",
      "1/1 [==============================] - 0s 5ms/step - loss: 0.0343\n",
      "Epoch 31/200\n",
      "1/1 [==============================] - 0s 6ms/step - loss: 0.0323\n",
      "Epoch 32/200\n",
      "1/1 [==============================] - 0s 5ms/step - loss: 0.0304\n",
      "Epoch 33/200\n",
      "1/1 [==============================] - 0s 5ms/step - loss: 0.0284\n",
      "Epoch 34/200\n",
      "1/1 [==============================] - 0s 5ms/step - loss: 0.0265\n",
      "Epoch 35/200\n",
      "1/1 [==============================] - 0s 5ms/step - loss: 0.0246\n",
      "Epoch 36/200\n",
      "1/1 [==============================] - 0s 7ms/step - loss: 0.0228\n",
      "Epoch 37/200\n",
      "1/1 [==============================] - 0s 6ms/step - loss: 0.0209\n",
      "Epoch 38/200\n",
      "1/1 [==============================] - 0s 5ms/step - loss: 0.0191\n",
      "Epoch 39/200\n",
      "1/1 [==============================] - 0s 5ms/step - loss: 0.0174\n",
      "Epoch 40/200\n",
      "1/1 [==============================] - 0s 6ms/step - loss: 0.0157\n",
      "Epoch 41/200\n",
      "1/1 [==============================] - 0s 5ms/step - loss: 0.0141\n",
      "Epoch 42/200\n",
      "1/1 [==============================] - 0s 6ms/step - loss: 0.0126\n",
      "Epoch 43/200\n",
      "1/1 [==============================] - 0s 5ms/step - loss: 0.0111\n",
      "Epoch 44/200\n",
      "1/1 [==============================] - 0s 6ms/step - loss: 0.0098\n",
      "Epoch 45/200\n",
      "1/1 [==============================] - 0s 7ms/step - loss: 0.0085\n",
      "Epoch 46/200\n",
      "1/1 [==============================] - 0s 7ms/step - loss: 0.0074\n",
      "Epoch 47/200\n",
      "1/1 [==============================] - 0s 9ms/step - loss: 0.0063\n",
      "Epoch 48/200\n",
      "1/1 [==============================] - 0s 7ms/step - loss: 0.0054\n",
      "Epoch 49/200\n",
      "1/1 [==============================] - 0s 7ms/step - loss: 0.0045\n",
      "Epoch 50/200\n",
      "1/1 [==============================] - 0s 6ms/step - loss: 0.0038\n",
      "Epoch 51/200\n",
      "1/1 [==============================] - 0s 6ms/step - loss: 0.0031\n",
      "Epoch 52/200\n",
      "1/1 [==============================] - 0s 5ms/step - loss: 0.0025\n",
      "Epoch 53/200\n",
      "1/1 [==============================] - 0s 7ms/step - loss: 0.0020\n",
      "Epoch 54/200\n",
      "1/1 [==============================] - 0s 5ms/step - loss: 0.0016\n",
      "Epoch 55/200\n",
      "1/1 [==============================] - 0s 5ms/step - loss: 0.0013\n",
      "Epoch 56/200\n",
      "1/1 [==============================] - 0s 5ms/step - loss: 9.8157e-04\n",
      "Epoch 57/200\n",
      "1/1 [==============================] - 0s 5ms/step - loss: 7.3944e-04\n",
      "Epoch 58/200\n",
      "1/1 [==============================] - 0s 5ms/step - loss: 5.4373e-04\n",
      "Epoch 59/200\n",
      "1/1 [==============================] - 0s 7ms/step - loss: 3.8878e-04\n",
      "Epoch 60/200\n",
      "1/1 [==============================] - 0s 8ms/step - loss: 2.6934e-04\n",
      "Epoch 61/200\n",
      "1/1 [==============================] - 0s 8ms/step - loss: 1.8056e-04\n",
      "Epoch 62/200\n",
      "1/1 [==============================] - 0s 6ms/step - loss: 1.1791e-04\n",
      "Epoch 63/200\n",
      "1/1 [==============================] - 0s 6ms/step - loss: 7.7190e-05\n",
      "Epoch 64/200\n",
      "1/1 [==============================] - 0s 6ms/step - loss: 5.4475e-05\n",
      "Epoch 65/200\n",
      "1/1 [==============================] - 0s 6ms/step - loss: 4.6126e-05\n",
      "Epoch 66/200\n",
      "1/1 [==============================] - 0s 6ms/step - loss: 4.8800e-05\n",
      "Epoch 67/200\n",
      "1/1 [==============================] - 0s 6ms/step - loss: 5.9467e-05\n",
      "Epoch 68/200\n",
      "1/1 [==============================] - 0s 6ms/step - loss: 7.5445e-05\n",
      "Epoch 69/200\n",
      "1/1 [==============================] - 0s 5ms/step - loss: 9.4420e-05\n",
      "Epoch 70/200\n",
      "1/1 [==============================] - 0s 5ms/step - loss: 1.1446e-04\n",
      "Epoch 71/200\n",
      "1/1 [==============================] - 0s 7ms/step - loss: 1.3404e-04\n",
      "Epoch 72/200\n",
      "1/1 [==============================] - 0s 6ms/step - loss: 1.5198e-04\n",
      "Epoch 73/200\n",
      "1/1 [==============================] - 0s 7ms/step - loss: 1.6747e-04\n",
      "Epoch 74/200\n",
      "1/1 [==============================] - 0s 6ms/step - loss: 1.7998e-04\n",
      "Epoch 75/200\n",
      "1/1 [==============================] - 0s 6ms/step - loss: 1.8927e-04\n",
      "Epoch 76/200\n",
      "1/1 [==============================] - 0s 6ms/step - loss: 1.9527e-04\n",
      "Epoch 77/200\n",
      "1/1 [==============================] - 0s 6ms/step - loss: 1.9809e-04\n",
      "Epoch 78/200\n",
      "1/1 [==============================] - 0s 6ms/step - loss: 1.9794e-04\n",
      "Epoch 79/200\n",
      "1/1 [==============================] - 0s 6ms/step - loss: 1.9510e-04\n",
      "Epoch 80/200\n",
      "1/1 [==============================] - 0s 5ms/step - loss: 1.8990e-04\n",
      "Epoch 81/200\n",
      "1/1 [==============================] - 0s 7ms/step - loss: 1.8268e-04\n",
      "Epoch 82/200\n",
      "1/1 [==============================] - 0s 6ms/step - loss: 1.7381e-04\n",
      "Epoch 83/200\n",
      "1/1 [==============================] - 0s 7ms/step - loss: 1.6363e-04\n",
      "Epoch 84/200\n",
      "1/1 [==============================] - 0s 7ms/step - loss: 1.5247e-04\n",
      "Epoch 85/200\n",
      "1/1 [==============================] - 0s 6ms/step - loss: 1.4066e-04\n",
      "Epoch 86/200\n",
      "1/1 [==============================] - 0s 6ms/step - loss: 1.2849e-04\n",
      "Epoch 87/200\n",
      "1/1 [==============================] - 0s 5ms/step - loss: 1.1622e-04\n",
      "Epoch 88/200\n",
      "1/1 [==============================] - 0s 6ms/step - loss: 1.0410e-04\n",
      "Epoch 89/200\n",
      "1/1 [==============================] - 0s 6ms/step - loss: 9.2331e-05\n",
      "Epoch 90/200\n",
      "1/1 [==============================] - 0s 7ms/step - loss: 8.1074e-05\n",
      "Epoch 91/200\n",
      "1/1 [==============================] - 0s 6ms/step - loss: 7.0460e-05\n",
      "Epoch 92/200\n",
      "1/1 [==============================] - 0s 6ms/step - loss: 6.0582e-05\n",
      "Epoch 93/200\n",
      "1/1 [==============================] - 0s 5ms/step - loss: 5.1500e-05\n",
      "Epoch 94/200\n",
      "1/1 [==============================] - 0s 5ms/step - loss: 4.3247e-05\n",
      "Epoch 95/200\n",
      "1/1 [==============================] - 0s 6ms/step - loss: 3.5831e-05\n",
      "Epoch 96/200\n",
      "1/1 [==============================] - 0s 7ms/step - loss: 2.9244e-05\n",
      "Epoch 97/200\n",
      "1/1 [==============================] - 0s 7ms/step - loss: 2.3465e-05\n",
      "Epoch 98/200\n",
      "1/1 [==============================] - 0s 5ms/step - loss: 1.8465e-05\n",
      "Epoch 99/200\n",
      "1/1 [==============================] - 0s 6ms/step - loss: 1.4206e-05\n",
      "Epoch 100/200\n",
      "1/1 [==============================] - 0s 5ms/step - loss: 1.0647e-05\n",
      "Epoch 101/200\n",
      "1/1 [==============================] - 0s 5ms/step - loss: 7.7421e-06\n",
      "Epoch 102/200\n",
      "1/1 [==============================] - 0s 5ms/step - loss: 5.4400e-06\n",
      "Epoch 103/200\n",
      "1/1 [==============================] - 0s 4ms/step - loss: 3.6837e-06\n",
      "Epoch 104/200\n",
      "1/1 [==============================] - 0s 6ms/step - loss: 2.4114e-06\n",
      "Epoch 105/200\n",
      "1/1 [==============================] - 0s 5ms/step - loss: 1.5575e-06\n",
      "Epoch 106/200\n",
      "1/1 [==============================] - 0s 5ms/step - loss: 1.0532e-06\n",
      "Epoch 107/200\n",
      "1/1 [==============================] - 0s 5ms/step - loss: 8.3017e-07\n",
      "Epoch 108/200\n",
      "1/1 [==============================] - 0s 4ms/step - loss: 8.2164e-07\n",
      "Epoch 109/200\n",
      "1/1 [==============================] - 0s 4ms/step - loss: 9.6559e-07\n",
      "Epoch 110/200\n",
      "1/1 [==============================] - 0s 5ms/step - loss: 1.2070e-06\n",
      "Epoch 111/200\n",
      "1/1 [==============================] - 0s 5ms/step - loss: 1.4992e-06\n",
      "Epoch 112/200\n",
      "1/1 [==============================] - 0s 5ms/step - loss: 1.8053e-06\n",
      "Epoch 113/200\n",
      "1/1 [==============================] - 0s 5ms/step - loss: 2.0969e-06\n",
      "Epoch 114/200\n",
      "1/1 [==============================] - 0s 5ms/step - loss: 2.3556e-06\n",
      "Epoch 115/200\n",
      "1/1 [==============================] - 0s 5ms/step - loss: 2.5692e-06\n",
      "Epoch 116/200\n",
      "1/1 [==============================] - 0s 5ms/step - loss: 2.7325e-06\n",
      "Epoch 117/200\n",
      "1/1 [==============================] - 0s 5ms/step - loss: 2.8446e-06\n",
      "Epoch 118/200\n",
      "1/1 [==============================] - 0s 5ms/step - loss: 2.9068e-06\n",
      "Epoch 119/200\n",
      "1/1 [==============================] - 0s 4ms/step - loss: 2.9227e-06\n",
      "Epoch 120/200\n",
      "1/1 [==============================] - 0s 5ms/step - loss: 2.8970e-06\n",
      "Epoch 121/200\n",
      "1/1 [==============================] - 0s 5ms/step - loss: 2.8335e-06\n",
      "Epoch 122/200\n",
      "1/1 [==============================] - 0s 5ms/step - loss: 2.7371e-06\n",
      "Epoch 123/200\n",
      "1/1 [==============================] - 0s 4ms/step - loss: 2.6113e-06\n",
      "Epoch 124/200\n",
      "1/1 [==============================] - 0s 5ms/step - loss: 2.4612e-06\n",
      "Epoch 125/200\n",
      "1/1 [==============================] - 0s 4ms/step - loss: 2.2907e-06\n",
      "Epoch 126/200\n",
      "1/1 [==============================] - 0s 4ms/step - loss: 2.1040e-06\n",
      "Epoch 127/200\n",
      "1/1 [==============================] - 0s 4ms/step - loss: 1.9060e-06\n",
      "Epoch 128/200\n",
      "1/1 [==============================] - 0s 5ms/step - loss: 1.7014e-06\n",
      "Epoch 129/200\n",
      "1/1 [==============================] - 0s 4ms/step - loss: 1.4952e-06\n",
      "Epoch 130/200\n",
      "1/1 [==============================] - 0s 4ms/step - loss: 1.2914e-06\n",
      "Epoch 131/200\n",
      "1/1 [==============================] - 0s 4ms/step - loss: 1.0948e-06\n",
      "Epoch 132/200\n",
      "1/1 [==============================] - 0s 4ms/step - loss: 9.0937e-07\n",
      "Epoch 133/200\n",
      "1/1 [==============================] - 0s 5ms/step - loss: 7.3824e-07\n",
      "Epoch 134/200\n",
      "1/1 [==============================] - 0s 4ms/step - loss: 5.8401e-07\n",
      "Epoch 135/200\n",
      "1/1 [==============================] - 0s 4ms/step - loss: 4.4868e-07\n",
      "Epoch 136/200\n",
      "1/1 [==============================] - 0s 5ms/step - loss: 3.3317e-07\n",
      "Epoch 137/200\n",
      "1/1 [==============================] - 0s 5ms/step - loss: 2.3755e-07\n",
      "Epoch 138/200\n",
      "1/1 [==============================] - 0s 5ms/step - loss: 1.6117e-07\n",
      "Epoch 139/200\n",
      "1/1 [==============================] - 0s 4ms/step - loss: 1.0289e-07\n",
      "Epoch 140/200\n",
      "1/1 [==============================] - 0s 4ms/step - loss: 6.0793e-08\n",
      "Epoch 141/200\n",
      "1/1 [==============================] - 0s 4ms/step - loss: 3.2811e-08\n",
      "Epoch 142/200\n",
      "1/1 [==============================] - 0s 4ms/step - loss: 1.6526e-08\n",
      "Epoch 143/200\n",
      "1/1 [==============================] - 0s 5ms/step - loss: 9.5307e-09\n",
      "Epoch 144/200\n",
      "1/1 [==============================] - 0s 4ms/step - loss: 9.4854e-09\n",
      "Epoch 145/200\n",
      "1/1 [==============================] - 0s 5ms/step - loss: 1.4272e-08\n",
      "Epoch 146/200\n",
      "1/1 [==============================] - 0s 5ms/step - loss: 2.2104e-08\n",
      "Epoch 147/200\n",
      "1/1 [==============================] - 0s 6ms/step - loss: 3.1423e-08\n",
      "Epoch 148/200\n",
      "1/1 [==============================] - 0s 5ms/step - loss: 4.1086e-08\n",
      "Epoch 149/200\n",
      "1/1 [==============================] - 0s 5ms/step - loss: 5.0183e-08\n",
      "Epoch 150/200\n",
      "1/1 [==============================] - 0s 5ms/step - loss: 5.8229e-08\n",
      "Epoch 151/200\n",
      "1/1 [==============================] - 0s 5ms/step - loss: 6.4754e-08\n",
      "Epoch 152/200\n",
      "1/1 [==============================] - 0s 5ms/step - loss: 6.9669e-08\n",
      "Epoch 153/200\n",
      "1/1 [==============================] - 0s 5ms/step - loss: 7.2917e-08\n",
      "Epoch 154/200\n",
      "1/1 [==============================] - 0s 5ms/step - loss: 7.4599e-08\n",
      "Epoch 155/200\n",
      "1/1 [==============================] - 0s 6ms/step - loss: 7.4778e-08\n",
      "Epoch 156/200\n",
      "1/1 [==============================] - 0s 5ms/step - loss: 7.3629e-08\n",
      "Epoch 157/200\n",
      "1/1 [==============================] - 0s 5ms/step - loss: 7.1286e-08\n",
      "Epoch 158/200\n",
      "1/1 [==============================] - 0s 5ms/step - loss: 6.8014e-08\n",
      "Epoch 159/200\n",
      "1/1 [==============================] - 0s 4ms/step - loss: 6.3912e-08\n",
      "Epoch 160/200\n",
      "1/1 [==============================] - 0s 5ms/step - loss: 5.9252e-08\n",
      "Epoch 161/200\n",
      "1/1 [==============================] - 0s 4ms/step - loss: 5.4102e-08\n",
      "Epoch 162/200\n",
      "1/1 [==============================] - 0s 5ms/step - loss: 4.8670e-08\n",
      "Epoch 163/200\n",
      "1/1 [==============================] - 0s 5ms/step - loss: 4.3112e-08\n",
      "Epoch 164/200\n",
      "1/1 [==============================] - 0s 5ms/step - loss: 3.7554e-08\n",
      "Epoch 165/200\n",
      "1/1 [==============================] - 0s 5ms/step - loss: 3.2093e-08\n",
      "Epoch 166/200\n",
      "1/1 [==============================] - 0s 6ms/step - loss: 2.6896e-08\n",
      "Epoch 167/200\n",
      "1/1 [==============================] - 0s 4ms/step - loss: 2.2027e-08\n",
      "Epoch 168/200\n",
      "1/1 [==============================] - 0s 5ms/step - loss: 1.7593e-08\n",
      "Epoch 169/200\n",
      "1/1 [==============================] - 0s 5ms/step - loss: 1.3669e-08\n",
      "Epoch 170/200\n",
      "1/1 [==============================] - 0s 4ms/step - loss: 1.0281e-08\n",
      "Epoch 171/200\n",
      "1/1 [==============================] - 0s 6ms/step - loss: 7.4812e-09\n",
      "Epoch 172/200\n",
      "1/1 [==============================] - 0s 5ms/step - loss: 5.2499e-09\n",
      "Epoch 173/200\n",
      "1/1 [==============================] - 0s 5ms/step - loss: 3.5367e-09\n",
      "Epoch 174/200\n",
      "1/1 [==============================] - 0s 4ms/step - loss: 2.3127e-09\n",
      "Epoch 175/200\n",
      "1/1 [==============================] - 0s 4ms/step - loss: 1.4998e-09\n",
      "Epoch 176/200\n",
      "1/1 [==============================] - 0s 5ms/step - loss: 1.0174e-09\n",
      "Epoch 177/200\n",
      "1/1 [==============================] - 0s 6ms/step - loss: 7.9195e-10\n",
      "Epoch 178/200\n",
      "1/1 [==============================] - 0s 5ms/step - loss: 7.5109e-10\n",
      "Epoch 179/200\n",
      "1/1 [==============================] - 0s 6ms/step - loss: 8.3413e-10\n",
      "Epoch 180/200\n",
      "1/1 [==============================] - 0s 5ms/step - loss: 9.8963e-10\n",
      "Epoch 181/200\n",
      "1/1 [==============================] - 0s 6ms/step - loss: 1.1846e-09\n",
      "Epoch 182/200\n",
      "1/1 [==============================] - 0s 5ms/step - loss: 1.3973e-09\n",
      "Epoch 183/200\n",
      "1/1 [==============================] - 0s 5ms/step - loss: 1.5997e-09\n",
      "Epoch 184/200\n",
      "1/1 [==============================] - 0s 5ms/step - loss: 1.7902e-09\n",
      "Epoch 185/200\n",
      "1/1 [==============================] - 0s 5ms/step - loss: 1.9572e-09\n",
      "Epoch 186/200\n",
      "1/1 [==============================] - 0s 5ms/step - loss: 2.0897e-09\n",
      "Epoch 187/200\n",
      "1/1 [==============================] - 0s 5ms/step - loss: 2.1921e-09\n",
      "Epoch 188/200\n",
      "1/1 [==============================] - 0s 5ms/step - loss: 2.2495e-09\n",
      "Epoch 189/200\n",
      "1/1 [==============================] - 0s 5ms/step - loss: 2.2695e-09\n",
      "Epoch 190/200\n",
      "1/1 [==============================] - 0s 4ms/step - loss: 2.2380e-09\n",
      "Epoch 191/200\n",
      "1/1 [==============================] - 0s 5ms/step - loss: 2.1693e-09\n",
      "Epoch 192/200\n",
      "1/1 [==============================] - 0s 5ms/step - loss: 2.0538e-09\n",
      "Epoch 193/200\n",
      "1/1 [==============================] - 0s 4ms/step - loss: 1.9161e-09\n",
      "Epoch 194/200\n",
      "1/1 [==============================] - 0s 6ms/step - loss: 1.7532e-09\n",
      "Epoch 195/200\n",
      "1/1 [==============================] - 0s 5ms/step - loss: 1.5764e-09\n",
      "Epoch 196/200\n",
      "1/1 [==============================] - 0s 4ms/step - loss: 1.3840e-09\n",
      "Epoch 197/200\n",
      "1/1 [==============================] - 0s 5ms/step - loss: 1.1968e-09\n",
      "Epoch 198/200\n",
      "1/1 [==============================] - 0s 4ms/step - loss: 1.0153e-09\n",
      "Epoch 199/200\n",
      "1/1 [==============================] - 0s 4ms/step - loss: 8.4026e-10\n",
      "Epoch 200/200\n",
      "1/1 [==============================] - 0s 5ms/step - loss: 6.7953e-10\n"
     ]
    }
   ],
   "source": [
    "history = pullback_der.fit(x=xtrain,\n",
    "                      y=Rtrain,\n",
    "                      epochs=200,\n",
    "                      verbose=1)"
   ]
  },
  {
   "cell_type": "code",
   "execution_count": 31,
   "metadata": {},
   "outputs": [
    {
     "data": {
      "image/png": "[encoded data removed]",
      "text/plain": [
       "<Figure size 640x480 with 1 Axes>"
      ]
     },
     "metadata": {},
     "output_type": "display_data"
    }
   ],
   "source": [
    "# %%\n",
    "# %matplotlib inline\n",
    "# Plot training & validation accuracy values\n",
    "f1 = plt.figure\n",
    "plt.subplot(2, 1, 1)\n",
    "plt.plot(history.history['loss'])\n",
    "plt.ylabel('Error')\n",
    "plt.xlabel('Epoch')\n",
    "plt.savefig('training_DER.pdf', bbox_inches='tight')"
   ]
  },
  {
   "cell_type": "markdown",
   "metadata": {},
   "source": [
    "## Test the derivative of the model\n",
    "Evaluate the expectation value of the displacement as derivative of the characterisc function"
   ]
  },
  {
   "cell_type": "code",
   "execution_count": 32,
   "metadata": {},
   "outputs": [],
   "source": [
    "x = tf.Variable(np.zeros((1,N)), dtype=tf_real) # the derivative are evaluated at x=0\n",
    "with tf.GradientTape(persistent=True) as tape:\n",
    "    tape.watch(x)\n",
    "    chir, chii = pullback(x)"
   ]
  },
  {
   "cell_type": "code",
   "execution_count": 33,
   "metadata": {},
   "outputs": [
    {
     "name": "stdout",
     "output_type": "stream",
     "text": [
      "tf.Tensor([[0. 0. 0. 0. 0. 0. 0. 0. 0. 0.]], shape=(1, 10), dtype=float32)\n"
     ]
    }
   ],
   "source": [
    "print(tape.gradient(chir,x))"
   ]
  },
  {
   "cell_type": "code",
   "execution_count": 34,
   "metadata": {},
   "outputs": [
    {
     "name": "stdout",
     "output_type": "stream",
     "text": [
      "tf.Tensor(\n",
      "[[ 1.00e+00  1.30e-05 -1.59e-05 -5.30e-05  3.69e-05 -1.02e-05  1.66e-05\n",
      "   3.37e-06  8.47e-06  1.68e-05]], shape=(1, 10), dtype=float32)\n"
     ]
    }
   ],
   "source": [
    "print(tape.gradient(chii,x))"
   ]
  },
  {
   "cell_type": "markdown",
   "metadata": {},
   "source": [
    "Use the derivative function for the derivative"
   ]
  },
  {
   "cell_type": "code",
   "execution_count": 35,
   "metadata": {},
   "outputs": [
    {
     "name": "stdout",
     "output_type": "stream",
     "text": [
      "tf.Tensor(\n",
      "[[ 1.00e+00  1.29e-05 -1.59e-05 -5.31e-05  3.68e-05 -1.03e-05  1.66e-05\n",
      "   3.42e-06  8.46e-06  1.67e-05]], shape=(1, 10), dtype=float64)\n"
     ]
    }
   ],
   "source": [
    "print(derivative(x))"
   ]
  },
  {
   "cell_type": "markdown",
   "metadata": {},
   "source": [
    "Use the derivative model"
   ]
  },
  {
   "cell_type": "code",
   "execution_count": 36,
   "metadata": {},
   "outputs": [
    {
     "data": {
      "text/plain": [
       "<tf.Tensor: shape=(1, 10), dtype=float32, numpy=\n",
       "array([[ 1.00e+00,  1.30e-05, -1.59e-05, -5.30e-05,  3.69e-05, -1.02e-05,\n",
       "         1.66e-05,  3.37e-06,  8.47e-06,  1.68e-05]], dtype=float32)>"
      ]
     },
     "execution_count": 36,
     "metadata": {},
     "output_type": "execute_result"
    }
   ],
   "source": [
    "pullback_der(xtrain)"
   ]
  },
  {
   "cell_type": "markdown",
   "metadata": {},
   "source": [
    "## Plot the model"
   ]
  },
  {
   "cell_type": "code",
   "execution_count": 37,
   "metadata": {},
   "outputs": [
    {
     "data": {
      "image/png": "[encoded data removed]",
      "text/plain": [
       "<IPython.core.display.Image object>"
      ]
     },
     "execution_count": 37,
     "metadata": {},
     "output_type": "execute_result"
    }
   ],
   "source": [
    "dot_img_file = 'pullback_DER.png'\n",
    "#\n",
    "tf.keras.utils.plot_model(pullback_der, to_file=dot_img_file, show_shapes=True)"
   ]
  },
  {
   "cell_type": "markdown",
   "metadata": {},
   "source": [
    "## Check the weights of the layers"
   ]
  },
  {
   "cell_type": "markdown",
   "metadata": {},
   "source": [
    "### d and M of the complex layer LL_complex (these are unchanged)"
   ]
  },
  {
   "cell_type": "code",
   "execution_count": 38,
   "metadata": {},
   "outputs": [
    {
     "name": "stdout",
     "output_type": "stream",
     "text": [
      "[[0. 0. 0. 0. 0. 0. 0. 0. 0. 0.]]\n"
     ]
    }
   ],
   "source": [
    "print(R.d.numpy().transpose())"
   ]
  },
  {
   "cell_type": "code",
   "execution_count": 39,
   "metadata": {},
   "outputs": [
    {
     "name": "stdout",
     "output_type": "stream",
     "text": [
      "[[0. 0. 0. 0. 0. 0. 0. 0. 0. 0.]]\n"
     ]
    }
   ],
   "source": [
    "print(d_R.transpose())"
   ]
  },
  {
   "cell_type": "code",
   "execution_count": 40,
   "metadata": {},
   "outputs": [
    {
     "name": "stdout",
     "output_type": "stream",
     "text": [
      "[[ 2.58e-01  4.84e-01  2.29e-01 -2.14e-01  5.82e-02  5.90e-01 -2.39e-01\n",
      "  -1.21e-01  3.67e-01 -2.07e-01]\n",
      " [-4.84e-01  2.58e-01  2.14e-01  2.29e-01 -5.90e-01  5.82e-02  1.21e-01\n",
      "  -2.39e-01  2.07e-01  3.67e-01]\n",
      " [-9.68e-03 -3.83e-01  4.56e-01  5.26e-02  2.51e-01  7.29e-02 -1.25e-01\n",
      "   4.39e-01  4.13e-01  4.42e-01]\n",
      " [ 3.83e-01 -9.68e-03 -5.26e-02  4.56e-01 -7.29e-02  2.51e-01 -4.39e-01\n",
      "  -1.25e-01 -4.42e-01  4.13e-01]\n",
      " [-1.91e-01  4.49e-01  4.07e-01  3.19e-01  5.86e-01 -1.29e-01  2.33e-01\n",
      "  -5.89e-02 -2.79e-01  2.46e-04]\n",
      " [-4.49e-01 -1.91e-01 -3.19e-01  4.07e-01  1.29e-01  5.86e-01  5.89e-02\n",
      "   2.33e-01 -2.46e-04 -2.79e-01]\n",
      " [ 4.80e-01 -2.09e-02  2.78e-01  3.66e-01 -3.75e-01  2.49e-02  4.77e-01\n",
      "   3.13e-01 -5.94e-03 -3.00e-01]\n",
      " [ 2.09e-02  4.80e-01 -3.66e-01  2.78e-01 -2.49e-02 -3.75e-01 -3.13e-01\n",
      "   4.77e-01  3.00e-01 -5.94e-03]\n",
      " [ 2.80e-01  7.55e-02 -4.55e-01  6.97e-02  2.54e-01  1.21e-01  5.41e-01\n",
      "  -2.10e-01  3.19e-01  4.31e-01]\n",
      " [-7.55e-02  2.80e-01 -6.97e-02 -4.55e-01 -1.21e-01  2.54e-01  2.10e-01\n",
      "   5.41e-01 -4.31e-01  3.19e-01]]\n"
     ]
    }
   ],
   "source": [
    "print(M_R)"
   ]
  },
  {
   "cell_type": "code",
   "execution_count": 41,
   "metadata": {},
   "outputs": [
    {
     "name": "stdout",
     "output_type": "stream",
     "text": [
      "tf.Tensor(\n",
      "[[ 2.58e-01  4.84e-01  2.29e-01 -2.14e-01  5.82e-02  5.90e-01 -2.39e-01\n",
      "  -1.21e-01  3.67e-01 -2.07e-01]\n",
      " [-4.84e-01  2.58e-01  2.14e-01  2.29e-01 -5.90e-01  5.82e-02  1.21e-01\n",
      "  -2.39e-01  2.07e-01  3.67e-01]\n",
      " [-9.68e-03 -3.83e-01  4.56e-01  5.26e-02  2.51e-01  7.29e-02 -1.25e-01\n",
      "   4.39e-01  4.13e-01  4.42e-01]\n",
      " [ 3.83e-01 -9.68e-03 -5.26e-02  4.56e-01 -7.29e-02  2.51e-01 -4.39e-01\n",
      "  -1.25e-01 -4.42e-01  4.13e-01]\n",
      " [-1.91e-01  4.49e-01  4.07e-01  3.19e-01  5.86e-01 -1.29e-01  2.33e-01\n",
      "  -5.89e-02 -2.79e-01  2.46e-04]\n",
      " [-4.49e-01 -1.91e-01 -3.19e-01  4.07e-01  1.29e-01  5.86e-01  5.89e-02\n",
      "   2.33e-01 -2.46e-04 -2.79e-01]\n",
      " [ 4.80e-01 -2.09e-02  2.78e-01  3.66e-01 -3.75e-01  2.49e-02  4.77e-01\n",
      "   3.13e-01 -5.94e-03 -3.00e-01]\n",
      " [ 2.09e-02  4.80e-01 -3.66e-01  2.78e-01 -2.49e-02 -3.75e-01 -3.13e-01\n",
      "   4.77e-01  3.00e-01 -5.94e-03]\n",
      " [ 2.80e-01  7.55e-02 -4.55e-01  6.97e-02  2.54e-01  1.21e-01  5.41e-01\n",
      "  -2.10e-01  3.19e-01  4.31e-01]\n",
      " [-7.55e-02  2.80e-01 -6.97e-02 -4.55e-01 -1.21e-01  2.54e-01  2.10e-01\n",
      "   5.41e-01 -4.31e-01  3.19e-01]], shape=(10, 10), dtype=float32)\n"
     ]
    }
   ],
   "source": [
    "M_R_final, _=R.get_M();print(M_R_final)"
   ]
  },
  {
   "cell_type": "markdown",
   "metadata": {},
   "source": [
    "### d and M of the trained layer, before and after training (they must change)"
   ]
  },
  {
   "cell_type": "code",
   "execution_count": 42,
   "metadata": {},
   "outputs": [
    {
     "data": {
      "text/plain": [
       "<tf.Variable 'Trainable/WR:0' shape=(5, 5) dtype=float32, numpy=\n",
       "array([[ 0.85, -0.32,  0.51, -0.43, -0.18],\n",
       "       [ 0.13,  0.97,  0.31,  0.38,  0.57],\n",
       "       [ 1.09,  0.2 ,  0.53,  0.45,  0.23],\n",
       "       [ 0.23,  0.26,  0.48,  0.5 ,  0.47],\n",
       "       [-0.22,  0.44, -0.08,  0.66,  1.07]], dtype=float32)>"
      ]
     },
     "execution_count": 42,
     "metadata": {},
     "output_type": "execute_result"
    }
   ],
   "source": [
    "T.WR"
   ]
  },
  {
   "cell_type": "code",
   "execution_count": 43,
   "metadata": {},
   "outputs": [
    {
     "data": {
      "text/plain": [
       "array([[0.59, 0.21, 0.11, 0.01, 0.11],\n",
       "       [0.66, 0.87, 0.39, 0.34, 0.42],\n",
       "       [0.7 , 0.28, 0.13, 0.87, 0.32],\n",
       "       [0.67, 0.22, 0.9 , 0.93, 0.46],\n",
       "       [0.06, 0.29, 0.  , 0.65, 0.88]], dtype=float32)"
      ]
     },
     "execution_count": 43,
     "metadata": {},
     "output_type": "execute_result"
    }
   ],
   "source": [
    "WR_untrained_T"
   ]
  },
  {
   "cell_type": "code",
   "execution_count": 44,
   "metadata": {},
   "outputs": [
    {
     "data": {
      "text/plain": [
       "<tf.Variable 'Trainable/WI:0' shape=(5, 5) dtype=float32, numpy=\n",
       "array([[ 0.3 ,  1.29,  0.84,  0.66,  1.46],\n",
       "       [ 0.03,  0.39,  0.03,  0.42,  0.77],\n",
       "       [ 0.07,  0.09,  0.81,  0.71,  0.92],\n",
       "       [ 0.16,  0.18,  0.79,  0.89,  0.67],\n",
       "       [-0.11,  0.87,  0.18,  0.8 ,  0.69]], dtype=float32)>"
      ]
     },
     "execution_count": 44,
     "metadata": {},
     "output_type": "execute_result"
    }
   ],
   "source": [
    "T.WI"
   ]
  },
  {
   "cell_type": "code",
   "execution_count": 45,
   "metadata": {},
   "outputs": [
    {
     "data": {
      "text/plain": [
       "array([[0.3 , 0.83, 0.73, 0.42, 1.  ],\n",
       "       [0.48, 0.39, 0.1 , 0.35, 0.73],\n",
       "       [0.18, 0.01, 0.81, 0.89, 0.32],\n",
       "       [0.4 , 0.26, 0.61, 0.89, 0.68],\n",
       "       [0.36, 0.91, 0.78, 0.79, 0.69]], dtype=float32)"
      ]
     },
     "execution_count": 45,
     "metadata": {},
     "output_type": "execute_result"
    }
   ],
   "source": [
    "WI_untrained_T"
   ]
  },
  {
   "cell_type": "code",
   "execution_count": 46,
   "metadata": {},
   "outputs": [
    {
     "name": "stdout",
     "output_type": "stream",
     "text": [
      "tf.Tensor(\n",
      "[[ 0.62  0.32  0.14 -0.05 -0.17 -0.5   0.15 -0.07  0.43 -0.06]\n",
      " [-0.32  0.62  0.05  0.14  0.5  -0.17  0.07  0.15  0.06  0.43]\n",
      " [-0.06  0.17  0.39 -0.49 -0.36  0.35 -0.15  0.45  0.22  0.21]\n",
      " [-0.17 -0.06  0.49  0.39 -0.35 -0.36 -0.45 -0.15 -0.21  0.22]\n",
      " [-0.17 -0.28  0.39 -0.25  0.24  0.1   0.19 -0.62  0.37  0.21]\n",
      " [ 0.28 -0.17  0.25  0.39 -0.1   0.24  0.62  0.19 -0.21  0.37]\n",
      " [-0.5   0.35 -0.03  0.01 -0.51 -0.04  0.49 -0.22 -0.03 -0.29]\n",
      " [-0.35 -0.5  -0.01 -0.03  0.04 -0.51  0.22  0.49  0.29 -0.03]\n",
      " [-0.09  0.02 -0.08  0.61 -0.06  0.37 -0.17  0.05  0.65 -0.14]\n",
      " [-0.02 -0.09 -0.61 -0.08 -0.37 -0.06 -0.05 -0.17  0.14  0.65]], shape=(10, 10), dtype=float32)\n"
     ]
    }
   ],
   "source": [
    "M_T, _= T.get_M(); print(M_T)"
   ]
  },
  {
   "cell_type": "code",
   "execution_count": 47,
   "metadata": {},
   "outputs": [
    {
     "name": "stdout",
     "output_type": "stream",
     "text": [
      "tf.Tensor(\n",
      "[[ 0.42 -0.22 -0.21  0.17 -0.13 -0.2   0.34  0.34  0.03  0.64]\n",
      " [ 0.22  0.42 -0.17 -0.21  0.2  -0.13 -0.34  0.34 -0.64  0.03]\n",
      " [-0.39 -0.1   0.31 -0.45 -0.03  0.38  0.11  0.58  0.03  0.19]\n",
      " [ 0.1  -0.39  0.45  0.31 -0.38 -0.03 -0.58  0.11 -0.19  0.03]\n",
      " [ 0.03  0.15 -0.08  0.15  0.3   0.58 -0.37 -0.27  0.13  0.54]\n",
      " [-0.15  0.03 -0.15 -0.08 -0.58  0.3   0.27 -0.37 -0.54  0.13]\n",
      " [-0.58  0.29  0.09  0.66  0.11 -0.16  0.16  0.18 -0.16  0.13]\n",
      " [-0.29 -0.58 -0.66  0.09  0.16  0.11 -0.18  0.16 -0.13 -0.16]\n",
      " [ 0.32  0.27 -0.16  0.35 -0.27  0.51  0.08  0.37  0.17 -0.41]\n",
      " [-0.27  0.32 -0.35 -0.16 -0.51 -0.27 -0.37  0.08  0.41  0.17]], shape=(10, 10), dtype=float32)\n"
     ]
    }
   ],
   "source": [
    "print(M_untrained_T)"
   ]
  },
  {
   "cell_type": "markdown",
   "metadata": {},
   "source": [
    "# Retrieve the covariance matrix"
   ]
  },
  {
   "cell_type": "code",
   "execution_count": 48,
   "metadata": {},
   "outputs": [
    {
     "name": "stdout",
     "output_type": "stream",
     "text": [
      "(<tf.Tensor: shape=(10, 10), dtype=float32, numpy=\n",
      "array([[ 1.00e+00,  9.35e-08, -2.61e-08,  1.11e-07, -1.23e-07,  3.12e-08,\n",
      "        -6.14e-08,  1.39e-07, -1.14e-07,  3.82e-07],\n",
      "       [-9.41e-08,  1.00e+00,  6.78e-08, -3.02e-08,  6.78e-08, -8.77e-08,\n",
      "        -1.70e-07, -4.11e-08, -8.91e-08, -1.68e-09],\n",
      "       [ 1.52e-08,  5.79e-08,  1.00e+00, -3.05e-08, -6.89e-08,  1.17e-08,\n",
      "         2.98e-07,  6.46e-08, -1.47e-07,  1.40e-09],\n",
      "       [ 4.14e-08, -5.74e-08,  1.49e-08,  1.00e+00,  1.20e-08, -5.17e-08,\n",
      "        -5.44e-08,  3.02e-07,  1.05e-08, -1.57e-07],\n",
      "       [-7.23e-08,  7.55e-08, -1.45e-07, -8.89e-08,  1.00e+00, -4.60e-08,\n",
      "         1.55e-07,  1.44e-07,  1.42e-07, -8.95e-08],\n",
      "       [ 3.71e-08, -1.03e-07,  1.75e-08, -3.76e-08,  1.30e-08,  1.00e+00,\n",
      "        -1.63e-07,  1.25e-07,  1.31e-07,  1.19e-07],\n",
      "       [ 4.01e-08, -1.05e-07,  2.93e-07, -2.42e-08,  1.61e-07, -1.12e-07,\n",
      "         1.00e+00, -2.30e-08,  9.39e-09, -2.01e-08],\n",
      "       [ 8.28e-08,  8.18e-09,  4.90e-08,  2.76e-07,  1.25e-07,  1.13e-07,\n",
      "         1.51e-08,  1.00e+00, -1.55e-08, -1.44e-08],\n",
      "       [ 1.90e-08, -4.26e-08, -1.46e-07,  6.79e-09,  8.61e-08,  2.33e-08,\n",
      "        -1.15e-08,  2.01e-08,  1.00e+00,  2.37e-09],\n",
      "       [ 3.03e-07,  5.39e-09, -5.86e-09, -2.41e-07, -1.19e-07,  1.70e-07,\n",
      "         2.41e-08, -1.44e-08, -9.09e-09,  1.00e+00]], dtype=float32)>, <tf.Tensor: shape=(1, 10), dtype=float32, numpy=\n",
      "array([[ 1.00e+00,  1.29e-05, -1.59e-05, -5.31e-05,  3.68e-05, -1.03e-05,\n",
      "         1.66e-05,  3.42e-06,  8.46e-06,  1.67e-05]], dtype=float32)>, <tf.Tensor: shape=(10, 10), dtype=float32, numpy=\n",
      "array([[-1.50e+00, -1.29e-05,  1.59e-05,  5.30e-05, -3.68e-05,  1.03e-05,\n",
      "        -1.66e-05, -3.49e-06, -8.41e-06, -1.68e-05],\n",
      "       [-1.28e-05, -5.00e-01, -3.37e-08,  1.58e-08, -3.44e-08,  4.40e-08,\n",
      "         8.49e-08,  2.05e-08,  4.44e-08,  6.27e-10],\n",
      "       [ 1.59e-05, -2.87e-08, -5.00e-01,  1.44e-08,  3.50e-08, -6.03e-09,\n",
      "        -1.49e-07, -3.23e-08,  7.36e-08, -4.34e-10],\n",
      "       [ 5.31e-05,  2.94e-08, -8.31e-09, -5.00e-01, -4.04e-09,  2.53e-08,\n",
      "         2.81e-08, -1.51e-07, -4.82e-09,  7.94e-08],\n",
      "       [-3.68e-05, -3.82e-08,  7.32e-08,  4.64e-08, -5.00e-01,  2.34e-08,\n",
      "        -7.81e-08, -7.22e-08, -7.15e-08,  4.41e-08],\n",
      "       [ 1.03e-05,  5.15e-08, -8.93e-09,  1.83e-08, -6.12e-09, -5.00e-01,\n",
      "         8.18e-08, -6.26e-08, -6.54e-08, -5.92e-08],\n",
      "       [-1.66e-05,  5.21e-08, -1.46e-07,  1.30e-08, -8.12e-08,  5.63e-08,\n",
      "        -5.00e-01,  1.15e-08, -4.84e-09,  9.75e-09],\n",
      "       [-3.46e-06, -4.13e-09, -2.44e-08, -1.38e-07, -6.28e-08, -5.64e-08,\n",
      "        -7.59e-09, -5.00e-01,  7.71e-09,  7.12e-09],\n",
      "       [-8.47e-06,  2.12e-08,  7.33e-08, -2.95e-09, -4.34e-08, -1.16e-08,\n",
      "         5.60e-09, -1.01e-08, -5.00e-01, -1.32e-09],\n",
      "       [-1.68e-05, -2.91e-09,  3.19e-09,  1.22e-07,  5.87e-08, -8.47e-08,\n",
      "        -1.23e-08,  7.12e-09,  4.40e-09, -5.00e-01]], dtype=float32)>)\n"
     ]
    }
   ],
   "source": [
    "print(ps.covariance(N)(chir, chii, pullback))"
   ]
  },
  {
   "cell_type": "code",
   "execution_count": null,
   "metadata": {},
   "outputs": [],
   "source": []
  }
 ],
 "metadata": {
  "kernelspec": {
   "display_name": "Python 3 (ipykernel)",
   "language": "python",
   "name": "python3"
  },
  "language_info": {
   "codemirror_mode": {
    "name": "ipython",
    "version": 3
   },
   "file_extension": ".py",
   "mimetype": "text/x-python",
   "name": "python",
   "nbconvert_exporter": "python",
   "pygments_lexer": "ipython3",
   "version": "3.10.12"
  }
 },
 "nbformat": 4,
 "nbformat_minor": 4
}
