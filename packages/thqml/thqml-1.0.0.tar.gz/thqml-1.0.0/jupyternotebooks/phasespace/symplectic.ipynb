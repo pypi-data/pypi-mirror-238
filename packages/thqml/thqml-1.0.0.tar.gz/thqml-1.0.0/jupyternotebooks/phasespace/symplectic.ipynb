{
 "cells": [
  {
   "cell_type": "markdown",
   "metadata": {
    "tags": []
   },
   "source": [
    "# Test the generation of symplectic matrices\n",
    "Test the formulas concerning RP, RQ, J, and M\n",
    "\n",
    "\n",
    "<img src=\"../img/logo_circular.png\" width=\"20\" height=\"20\" />@by claudio<br>\n",
    "\n",
    "nonlinearxwaves@gmail.com<br>\n",
    "@created 12 sep 2020<br>\n",
    "@version 23 sep 2023"
   ]
  },
  {
   "cell_type": "code",
   "execution_count": 1,
   "metadata": {},
   "outputs": [],
   "source": [
    "import os\n",
    "os.environ['TF_CPP_MIN_LOG_LEVEL'] = '2' # disable warning messages"
   ]
  },
  {
   "cell_type": "code",
   "execution_count": 2,
   "metadata": {},
   "outputs": [],
   "source": [
    "import numpy as np\n",
    "from thqml import phasespace as ps\n",
    "from thqml.utilities import utilities\n",
    "import tensorflow as tf"
   ]
  },
  {
   "cell_type": "code",
   "execution_count": 3,
   "metadata": {},
   "outputs": [],
   "source": [
    "N=10"
   ]
  },
  {
   "cell_type": "markdown",
   "metadata": {},
   "source": [
    "## Verifies the properties of RQ, RP and J"
   ]
  },
  {
   "cell_type": "code",
   "execution_count": 4,
   "metadata": {},
   "outputs": [],
   "source": [
    "RQ, RP, J = ps.RQRP(N)"
   ]
  },
  {
   "cell_type": "code",
   "execution_count": 5,
   "metadata": {},
   "outputs": [
    {
     "name": "stdout",
     "output_type": "stream",
     "text": [
      "array([[1., 0., 0., 0., 0.],\n",
      "       [0., 0., 0., 0., 0.],\n",
      "       [0., 1., 0., 0., 0.],\n",
      "       [0., 0., 0., 0., 0.],\n",
      "       [0., 0., 1., 0., 0.],\n",
      "       [0., 0., 0., 0., 0.],\n",
      "       [0., 0., 0., 1., 0.],\n",
      "       [0., 0., 0., 0., 0.],\n",
      "       [0., 0., 0., 0., 1.],\n",
      "       [0., 0., 0., 0., 0.]], dtype=float32)\n"
     ]
    }
   ],
   "source": [
    "tf.print(RQ)"
   ]
  },
  {
   "cell_type": "code",
   "execution_count": 6,
   "metadata": {},
   "outputs": [
    {
     "name": "stdout",
     "output_type": "stream",
     "text": [
      "array([[0., 0., 0., 0., 0.],\n",
      "       [1., 0., 0., 0., 0.],\n",
      "       [0., 0., 0., 0., 0.],\n",
      "       [0., 1., 0., 0., 0.],\n",
      "       [0., 0., 0., 0., 0.],\n",
      "       [0., 0., 1., 0., 0.],\n",
      "       [0., 0., 0., 0., 0.],\n",
      "       [0., 0., 0., 1., 0.],\n",
      "       [0., 0., 0., 0., 0.],\n",
      "       [0., 0., 0., 0., 1.]], dtype=float32)\n"
     ]
    }
   ],
   "source": [
    "tf.print(RP)"
   ]
  },
  {
   "cell_type": "code",
   "execution_count": 7,
   "metadata": {},
   "outputs": [
    {
     "data": {
      "text/plain": [
       "(10, 5)"
      ]
     },
     "execution_count": 7,
     "metadata": {},
     "output_type": "execute_result"
    }
   ],
   "source": [
    "RQ.shape"
   ]
  },
  {
   "cell_type": "code",
   "execution_count": 8,
   "metadata": {},
   "outputs": [
    {
     "data": {
      "text/plain": [
       "(10, 5)"
      ]
     },
     "execution_count": 8,
     "metadata": {},
     "output_type": "execute_result"
    }
   ],
   "source": [
    "RP.shape"
   ]
  },
  {
   "cell_type": "code",
   "execution_count": 9,
   "metadata": {},
   "outputs": [
    {
     "name": "stdout",
     "output_type": "stream",
     "text": [
      "array([[ 0.,  1.,  0.,  0.,  0.,  0.,  0.,  0.,  0.,  0.],\n",
      "       [-1.,  0.,  0.,  0.,  0.,  0.,  0.,  0.,  0.,  0.],\n",
      "       [ 0.,  0.,  0.,  1.,  0.,  0.,  0.,  0.,  0.,  0.],\n",
      "       [ 0.,  0., -1.,  0.,  0.,  0.,  0.,  0.,  0.,  0.],\n",
      "       [ 0.,  0.,  0.,  0.,  0.,  1.,  0.,  0.,  0.,  0.],\n",
      "       [ 0.,  0.,  0.,  0., -1.,  0.,  0.,  0.,  0.,  0.],\n",
      "       [ 0.,  0.,  0.,  0.,  0.,  0.,  0.,  1.,  0.,  0.],\n",
      "       [ 0.,  0.,  0.,  0.,  0.,  0., -1.,  0.,  0.,  0.],\n",
      "       [ 0.,  0.,  0.,  0.,  0.,  0.,  0.,  0.,  0.,  1.],\n",
      "       [ 0.,  0.,  0.,  0.,  0.,  0.,  0.,  0., -1.,  0.]], dtype=float32)\n"
     ]
    }
   ],
   "source": [
    "tf.print(J)"
   ]
  },
  {
   "cell_type": "code",
   "execution_count": 10,
   "metadata": {},
   "outputs": [
    {
     "data": {
      "text/plain": [
       "(10, 10)"
      ]
     },
     "execution_count": 10,
     "metadata": {},
     "output_type": "execute_result"
    }
   ],
   "source": [
    "J.shape"
   ]
  },
  {
   "cell_type": "markdown",
   "metadata": {},
   "source": [
    "$${\\bf J} {\\bf R}_\\text{q} = -{\\bf R}_\\text{p}$$"
   ]
  },
  {
   "cell_type": "code",
   "execution_count": 11,
   "metadata": {},
   "outputs": [
    {
     "data": {
      "text/plain": [
       "array([[ 0.,  0.,  0.,  0.,  0.],\n",
       "       [-1.,  0.,  0.,  0.,  0.],\n",
       "       [ 0.,  0.,  0.,  0.,  0.],\n",
       "       [ 0., -1.,  0.,  0.,  0.],\n",
       "       [ 0.,  0.,  0.,  0.,  0.],\n",
       "       [ 0.,  0., -1.,  0.,  0.],\n",
       "       [ 0.,  0.,  0.,  0.,  0.],\n",
       "       [ 0.,  0.,  0., -1.,  0.],\n",
       "       [ 0.,  0.,  0.,  0.,  0.],\n",
       "       [ 0.,  0.,  0.,  0., -1.]], dtype=float32)"
      ]
     },
     "execution_count": 11,
     "metadata": {},
     "output_type": "execute_result"
    }
   ],
   "source": [
    "np.matmul(J,RQ)"
   ]
  },
  {
   "cell_type": "markdown",
   "metadata": {},
   "source": [
    "$${\\bf R}_\\text{q}{\\bf R}_\\text{q}^\\top+{\\bf R}_\\text{p}{\\bf R}_\\text{p}^\\top = {\\bf 1}_N$$"
   ]
  },
  {
   "cell_type": "code",
   "execution_count": 12,
   "metadata": {},
   "outputs": [
    {
     "data": {
      "text/plain": [
       "array([[1., 0., 0., 0., 0., 0., 0., 0., 0., 0.],\n",
       "       [0., 1., 0., 0., 0., 0., 0., 0., 0., 0.],\n",
       "       [0., 0., 1., 0., 0., 0., 0., 0., 0., 0.],\n",
       "       [0., 0., 0., 1., 0., 0., 0., 0., 0., 0.],\n",
       "       [0., 0., 0., 0., 1., 0., 0., 0., 0., 0.],\n",
       "       [0., 0., 0., 0., 0., 1., 0., 0., 0., 0.],\n",
       "       [0., 0., 0., 0., 0., 0., 1., 0., 0., 0.],\n",
       "       [0., 0., 0., 0., 0., 0., 0., 1., 0., 0.],\n",
       "       [0., 0., 0., 0., 0., 0., 0., 0., 1., 0.],\n",
       "       [0., 0., 0., 0., 0., 0., 0., 0., 0., 1.]], dtype=float32)"
      ]
     },
     "execution_count": 12,
     "metadata": {},
     "output_type": "execute_result"
    }
   ],
   "source": [
    "np.matmul(RQ,RQ.transpose())+np.matmul(RP,RP.transpose())"
   ]
  },
  {
   "cell_type": "markdown",
   "metadata": {},
   "source": [
    "$${\\bf R}_\\text{q}{\\bf R}_\\text{p}^\\top-{\\bf R}_\\text{p}{\\bf R}_\\text{q}^\\top = {\\bf J}$$"
   ]
  },
  {
   "cell_type": "code",
   "execution_count": 13,
   "metadata": {},
   "outputs": [
    {
     "data": {
      "text/plain": [
       "array([[ 0.,  1.,  0.,  0.,  0.,  0.,  0.,  0.,  0.,  0.],\n",
       "       [-1.,  0.,  0.,  0.,  0.,  0.,  0.,  0.,  0.,  0.],\n",
       "       [ 0.,  0.,  0.,  1.,  0.,  0.,  0.,  0.,  0.,  0.],\n",
       "       [ 0.,  0., -1.,  0.,  0.,  0.,  0.,  0.,  0.,  0.],\n",
       "       [ 0.,  0.,  0.,  0.,  0.,  1.,  0.,  0.,  0.,  0.],\n",
       "       [ 0.,  0.,  0.,  0., -1.,  0.,  0.,  0.,  0.,  0.],\n",
       "       [ 0.,  0.,  0.,  0.,  0.,  0.,  0.,  1.,  0.,  0.],\n",
       "       [ 0.,  0.,  0.,  0.,  0.,  0., -1.,  0.,  0.,  0.],\n",
       "       [ 0.,  0.,  0.,  0.,  0.,  0.,  0.,  0.,  0.,  1.],\n",
       "       [ 0.,  0.,  0.,  0.,  0.,  0.,  0.,  0., -1.,  0.]], dtype=float32)"
      ]
     },
     "execution_count": 13,
     "metadata": {},
     "output_type": "execute_result"
    }
   ],
   "source": [
    "np.matmul(RQ,RP.transpose())-np.matmul(RP,RQ.transpose())"
   ]
  },
  {
   "cell_type": "markdown",
   "metadata": {},
   "source": [
    "$${\\bf R}_\\text{p}^\\top {\\bf R}_\\text{q} = {\\bf 0}_{n}$$"
   ]
  },
  {
   "cell_type": "code",
   "execution_count": 14,
   "metadata": {},
   "outputs": [
    {
     "data": {
      "text/plain": [
       "array([[0., 0., 0., 0., 0.],\n",
       "       [0., 0., 0., 0., 0.],\n",
       "       [0., 0., 0., 0., 0.],\n",
       "       [0., 0., 0., 0., 0.],\n",
       "       [0., 0., 0., 0., 0.]], dtype=float32)"
      ]
     },
     "execution_count": 14,
     "metadata": {},
     "output_type": "execute_result"
    }
   ],
   "source": [
    "np.matmul(RP.transpose(), RQ)"
   ]
  },
  {
   "cell_type": "markdown",
   "metadata": {},
   "source": [
    "$${\\bf R}_\\text{q}^\\top {\\bf R}_\\text{q} = {\\bf 1}_{n}$$"
   ]
  },
  {
   "cell_type": "code",
   "execution_count": 15,
   "metadata": {},
   "outputs": [
    {
     "data": {
      "text/plain": [
       "array([[1., 0., 0., 0., 0.],\n",
       "       [0., 1., 0., 0., 0.],\n",
       "       [0., 0., 1., 0., 0.],\n",
       "       [0., 0., 0., 1., 0.],\n",
       "       [0., 0., 0., 0., 1.]], dtype=float32)"
      ]
     },
     "execution_count": 15,
     "metadata": {},
     "output_type": "execute_result"
    }
   ],
   "source": [
    "np.matmul(RQ.transpose(), RQ)"
   ]
  },
  {
   "cell_type": "markdown",
   "metadata": {},
   "source": [
    "## Verify the symplectic matrix"
   ]
  },
  {
   "cell_type": "code",
   "execution_count": 16,
   "metadata": {},
   "outputs": [],
   "source": [
    "M, MI, U = ps.RandomSymplectic(N)"
   ]
  },
  {
   "cell_type": "code",
   "execution_count": 17,
   "metadata": {},
   "outputs": [
    {
     "name": "stdout",
     "output_type": "stream",
     "text": [
      "array([[ 0.66057816,  0.35991848, -0.35705431,  0.13566934, -0.19077898,\n",
      "        -0.3794487 ,  0.13754525,  0.14274799,  0.12160596,  0.23181805],\n",
      "       [-0.35991848,  0.66057816, -0.13566934, -0.35705431,  0.3794487 ,\n",
      "        -0.19077898, -0.14274799,  0.13754525, -0.23181805,  0.12160596],\n",
      "       [-0.13970341,  0.54329839,  0.49634949,  0.48239991, -0.19139302,\n",
      "         0.09754611,  0.1803355 ,  0.15863988,  0.18360226, -0.26209446],\n",
      "       [-0.54329839, -0.13970341, -0.48239991,  0.49634949, -0.09754611,\n",
      "        -0.19139302, -0.15863988,  0.1803355 ,  0.26209446,  0.18360226],\n",
      "       [-0.0022795 , -0.12339634,  0.02187031,  0.42942148,  0.45976788,\n",
      "        -0.08622355,  0.5489722 , -0.08439328, -0.48330277,  0.19746332],\n",
      "       [ 0.12339634, -0.0022795 , -0.42942148,  0.02187031,  0.08622355,\n",
      "         0.45976788,  0.08439328,  0.5489722 , -0.19746332, -0.48330277],\n",
      "       [-0.16363392, -0.10168516,  0.15324967, -0.33453815, -0.20485988,\n",
      "         0.18004413,  0.47454327,  0.48848456,  0.17143734,  0.50980402],\n",
      "       [ 0.10168516, -0.16363392,  0.33453815,  0.15324967, -0.18004413,\n",
      "        -0.20485988, -0.48848456,  0.47454327, -0.50980402,  0.17143734],\n",
      "       [ 0.25832571,  0.01802905,  0.13526678,  0.19092958,  0.58602301,\n",
      "         0.36992987, -0.33823388,  0.12772421,  0.39241223,  0.33647808],\n",
      "       [-0.01802905,  0.25832571, -0.19092958,  0.13526678, -0.36992987,\n",
      "         0.58602301, -0.12772421, -0.33823388, -0.33647808,  0.39241223]])\n"
     ]
    }
   ],
   "source": [
    "tf.print(M)"
   ]
  },
  {
   "cell_type": "code",
   "execution_count": 18,
   "metadata": {},
   "outputs": [
    {
     "name": "stdout",
     "output_type": "stream",
     "text": [
      "+0.7+0.0i -0.4+0.0i -0.1+0.0i -0.5+0.0i -0.0+0.0i +0.1+0.0i -0.2+0.0i +0.1+0.0i +0.3+0.0i -0.0+0.0i \n",
      "+0.4+0.0i +0.7+0.0i +0.5+0.0i -0.1+0.0i -0.1+0.0i -0.0+0.0i -0.1+0.0i -0.2+0.0i +0.0+0.0i +0.3+0.0i \n",
      "-0.4+0.0i -0.1+0.0i +0.5+0.0i -0.5+0.0i +0.0+0.0i -0.4+0.0i +0.2+0.0i +0.3+0.0i +0.1+0.0i -0.2+0.0i \n",
      "+0.1+0.0i -0.4+0.0i +0.5+0.0i +0.5+0.0i +0.4+0.0i +0.0+0.0i -0.3+0.0i +0.2+0.0i +0.2+0.0i +0.1+0.0i \n",
      "-0.2+0.0i +0.4+0.0i -0.2+0.0i -0.1+0.0i +0.5+0.0i +0.1+0.0i -0.2+0.0i -0.2+0.0i +0.6+0.0i -0.4+0.0i \n",
      "-0.4+0.0i -0.2+0.0i +0.1+0.0i -0.2+0.0i -0.1+0.0i +0.5+0.0i +0.2+0.0i -0.2+0.0i +0.4+0.0i +0.6+0.0i \n",
      "+0.1+0.0i -0.1+0.0i +0.2+0.0i -0.2+0.0i +0.5+0.0i +0.1+0.0i +0.5+0.0i -0.5+0.0i -0.3+0.0i -0.1+0.0i \n",
      "+0.1+0.0i +0.1+0.0i +0.2+0.0i +0.2+0.0i -0.1+0.0i +0.5+0.0i +0.5+0.0i +0.5+0.0i +0.1+0.0i -0.3+0.0i \n",
      "+0.1+0.0i -0.2+0.0i +0.2+0.0i +0.3+0.0i -0.5+0.0i -0.2+0.0i +0.2+0.0i -0.5+0.0i +0.4+0.0i -0.3+0.0i \n",
      "+0.2+0.0i +0.1+0.0i -0.3+0.0i +0.2+0.0i +0.2+0.0i -0.5+0.0i +0.5+0.0i +0.2+0.0i +0.3+0.0i +0.4+0.0i \n"
     ]
    }
   ],
   "source": [
    "utilities.printonscreennp(MI)"
   ]
  },
  {
   "cell_type": "code",
   "execution_count": 19,
   "metadata": {},
   "outputs": [
    {
     "data": {
      "text/plain": [
       "(10, 10)"
      ]
     },
     "execution_count": 19,
     "metadata": {},
     "output_type": "execute_result"
    }
   ],
   "source": [
    "M.shape"
   ]
  },
  {
   "cell_type": "code",
   "execution_count": 20,
   "metadata": {},
   "outputs": [
    {
     "data": {
      "text/plain": [
       "(10, 10)"
      ]
     },
     "execution_count": 20,
     "metadata": {},
     "output_type": "execute_result"
    }
   ],
   "source": [
    "MI.shape"
   ]
  },
  {
   "cell_type": "markdown",
   "metadata": {},
   "source": [
    "$${\\bf M}{\\bf M_I}={\\bf 1}_N$$"
   ]
  },
  {
   "cell_type": "code",
   "execution_count": 21,
   "metadata": {},
   "outputs": [
    {
     "name": "stdout",
     "output_type": "stream",
     "text": [
      "+1.0+0.0i -0.0+0.0i -0.0+0.0i +0.0+0.0i +0.0+0.0i +0.0+0.0i -0.0+0.0i -0.0+0.0i +0.0+0.0i +0.0+0.0i \n",
      "-0.0+0.0i +1.0+0.0i +0.0+0.0i -0.0+0.0i -0.0+0.0i +0.0+0.0i +0.0+0.0i -0.0+0.0i -0.0+0.0i +0.0+0.0i \n",
      "-0.0+0.0i +0.0+0.0i +1.0+0.0i +0.0+0.0i +0.0+0.0i +0.0+0.0i +0.0+0.0i -0.0+0.0i +0.0+0.0i +0.0+0.0i \n",
      "+0.0+0.0i -0.0+0.0i +0.0+0.0i +1.0+0.0i -0.0+0.0i +0.0+0.0i +0.0+0.0i +0.0+0.0i -0.0+0.0i +0.0+0.0i \n",
      "+0.0+0.0i -0.0+0.0i +0.0+0.0i -0.0+0.0i +1.0+0.0i +0.0+0.0i -0.0+0.0i -0.0+0.0i +0.0+0.0i +0.0+0.0i \n",
      "+0.0+0.0i +0.0+0.0i +0.0+0.0i +0.0+0.0i +0.0+0.0i +1.0+0.0i +0.0+0.0i +0.0+0.0i -0.0+0.0i -0.0+0.0i \n",
      "-0.0+0.0i +0.0+0.0i +0.0+0.0i +0.0+0.0i -0.0+0.0i +0.0+0.0i +1.0+0.0i -0.0+0.0i +0.0+0.0i -0.0+0.0i \n",
      "-0.0+0.0i -0.0+0.0i -0.0+0.0i +0.0+0.0i -0.0+0.0i +0.0+0.0i -0.0+0.0i +1.0+0.0i +0.0+0.0i +0.0+0.0i \n",
      "+0.0+0.0i -0.0+0.0i +0.0+0.0i -0.0+0.0i +0.0+0.0i -0.0+0.0i +0.0+0.0i +0.0+0.0i +1.0+0.0i -0.0+0.0i \n",
      "+0.0+0.0i +0.0+0.0i +0.0+0.0i +0.0+0.0i +0.0+0.0i -0.0+0.0i -0.0+0.0i +0.0+0.0i -0.0+0.0i +1.0+0.0i \n"
     ]
    }
   ],
   "source": [
    "utilities.printonscreennp(np.matmul(M,MI))"
   ]
  },
  {
   "cell_type": "markdown",
   "metadata": {},
   "source": [
    "$${\\bf M}{\\bf J}{\\bf M}^\\top={\\bf J}$$"
   ]
  },
  {
   "cell_type": "code",
   "execution_count": 22,
   "metadata": {},
   "outputs": [
    {
     "name": "stdout",
     "output_type": "stream",
     "text": [
      "+0.0+0.0i +1.0+0.0i -0.0+0.0i -0.0+0.0i -0.0+0.0i +0.0+0.0i +0.0+0.0i -0.0+0.0i -0.0+0.0i +0.0+0.0i \n",
      "-1.0+0.0i -0.0+0.0i +0.0+0.0i +0.0+0.0i -0.0+0.0i -0.0+0.0i +0.0+0.0i +0.0+0.0i -0.0+0.0i -0.0+0.0i \n",
      "-0.0+0.0i -0.0+0.0i -0.0+0.0i +1.0+0.0i -0.0+0.0i +0.0+0.0i +0.0+0.0i +0.0+0.0i -0.0+0.0i +0.0+0.0i \n",
      "+0.0+0.0i +0.0+0.0i -1.0+0.0i +0.0+0.0i -0.0+0.0i -0.0+0.0i -0.0+0.0i +0.0+0.0i -0.0+0.0i -0.0+0.0i \n",
      "+0.0+0.0i +0.0+0.0i +0.0+0.0i +0.0+0.0i -0.0+0.0i +1.0+0.0i +0.0+0.0i -0.0+0.0i -0.0+0.0i +0.0+0.0i \n",
      "-0.0+0.0i +0.0+0.0i -0.0+0.0i +0.0+0.0i -1.0+0.0i +0.0+0.0i -0.0+0.0i +0.0+0.0i +0.0+0.0i -0.0+0.0i \n",
      "-0.0+0.0i -0.0+0.0i -0.0+0.0i +0.0+0.0i -0.0+0.0i -0.0+0.0i +0.0+0.0i +1.0+0.0i +0.0+0.0i +0.0+0.0i \n",
      "+0.0+0.0i -0.0+0.0i -0.0+0.0i -0.0+0.0i -0.0+0.0i -0.0+0.0i -1.0+0.0i -0.0+0.0i -0.0+0.0i +0.0+0.0i \n",
      "+0.0+0.0i +0.0+0.0i +0.0+0.0i +0.0+0.0i +0.0+0.0i +0.0+0.0i -0.0+0.0i +0.0+0.0i +0.0+0.0i +1.0+0.0i \n",
      "-0.0+0.0i +0.0+0.0i -0.0+0.0i +0.0+0.0i +0.0+0.0i +0.0+0.0i -0.0+0.0i -0.0+0.0i -1.0+0.0i -0.0+0.0i \n"
     ]
    }
   ],
   "source": [
    "utilities.printonscreennp(np.matmul(M, np.matmul(J,M.transpose()) ))"
   ]
  },
  {
   "cell_type": "markdown",
   "metadata": {},
   "source": [
    "## Verify the properties of the unitary matrix"
   ]
  },
  {
   "cell_type": "code",
   "execution_count": 23,
   "metadata": {},
   "outputs": [
    {
     "name": "stdout",
     "output_type": "stream",
     "text": [
      "+0.7-0.4i -0.4-0.1i -0.2+0.4i +0.1-0.1i +0.1-0.2i \n",
      "-0.1-0.5i +0.5-0.5i -0.2-0.1i +0.2-0.2i +0.2+0.3i \n",
      "-0.0+0.1i +0.0-0.4i +0.5+0.1i +0.5+0.1i -0.5-0.2i \n",
      "-0.2+0.1i +0.2+0.3i -0.2-0.2i +0.5-0.5i +0.2-0.5i \n",
      "+0.3-0.0i +0.1-0.2i +0.6-0.4i -0.3-0.1i +0.4-0.3i \n"
     ]
    }
   ],
   "source": [
    "utilities.printonscreennp(U)"
   ]
  },
  {
   "cell_type": "markdown",
   "metadata": {},
   "source": [
    "$${\\bf U}^\\dagger = ({\\bf U}^\\top)^*$$"
   ]
  },
  {
   "cell_type": "code",
   "execution_count": 24,
   "metadata": {},
   "outputs": [
    {
     "name": "stdout",
     "output_type": "stream",
     "text": [
      "+0.7+0.4i -0.1+0.5i -0.0-0.1i -0.2-0.1i +0.3+0.0i \n",
      "-0.4+0.1i +0.5+0.5i +0.0+0.4i +0.2-0.3i +0.1+0.2i \n",
      "-0.2-0.4i -0.2+0.1i +0.5-0.1i -0.2+0.2i +0.6+0.4i \n",
      "+0.1+0.1i +0.2+0.2i +0.5-0.1i +0.5+0.5i -0.3+0.1i \n",
      "+0.1+0.2i +0.2-0.3i -0.5+0.2i +0.2+0.5i +0.4+0.3i \n"
     ]
    }
   ],
   "source": [
    "Udagger =U.transpose().conjugate(); utilities.printonscreennp(Udagger)"
   ]
  },
  {
   "cell_type": "markdown",
   "metadata": {},
   "source": [
    "$${\\bf U}^\\dagger {\\bf U}={\\bf 1}_{n}$$"
   ]
  },
  {
   "cell_type": "code",
   "execution_count": 25,
   "metadata": {},
   "outputs": [
    {
     "name": "stdout",
     "output_type": "stream",
     "text": [
      "+1.0+0.0i -0.0-0.0i +0.0+0.0i +0.0+0.0i +0.0-0.0i \n",
      "-0.0+0.0i +1.0+0.0i +0.0-0.0i -0.0+0.0i +0.0-0.0i \n",
      "+0.0+0.0i +0.0+0.0i +1.0+0.0i +0.0-0.0i -0.0-0.0i \n",
      "+0.0-0.0i -0.0-0.0i +0.0+0.0i +1.0+0.0i -0.0+0.0i \n",
      "+0.0+0.0i +0.0+0.0i -0.0+0.0i -0.0-0.0i +1.0+0.0i \n"
     ]
    }
   ],
   "source": [
    "utilities.printonscreennp(np.matmul(Udagger,U))"
   ]
  },
  {
   "cell_type": "markdown",
   "metadata": {},
   "source": [
    "$${\\bf U}_R=\\Re{\\bf U}$$"
   ]
  },
  {
   "cell_type": "code",
   "execution_count": 26,
   "metadata": {},
   "outputs": [
    {
     "name": "stdout",
     "output_type": "stream",
     "text": [
      "+0.7+0.0i -0.4+0.0i -0.2+0.0i +0.1+0.0i +0.1+0.0i \n",
      "-0.1+0.0i +0.5+0.0i -0.2+0.0i +0.2+0.0i +0.2+0.0i \n",
      "-0.0+0.0i +0.0+0.0i +0.5+0.0i +0.5+0.0i -0.5+0.0i \n",
      "-0.2+0.0i +0.2+0.0i -0.2+0.0i +0.5+0.0i +0.2+0.0i \n",
      "+0.3+0.0i +0.1+0.0i +0.6+0.0i -0.3+0.0i +0.4+0.0i \n"
     ]
    }
   ],
   "source": [
    "UR = np.real(U); utilities.printonscreennp(UR)"
   ]
  },
  {
   "cell_type": "markdown",
   "metadata": {},
   "source": [
    "$${\\bf U}_I=\\Im {\\bf U}$$"
   ]
  },
  {
   "cell_type": "code",
   "execution_count": 27,
   "metadata": {},
   "outputs": [
    {
     "name": "stdout",
     "output_type": "stream",
     "text": [
      "-0.4+0.0i -0.1+0.0i +0.4+0.0i -0.1+0.0i -0.2+0.0i \n",
      "-0.5+0.0i -0.5+0.0i -0.1+0.0i -0.2+0.0i +0.3+0.0i \n",
      "+0.1+0.0i -0.4+0.0i +0.1+0.0i +0.1+0.0i -0.2+0.0i \n",
      "+0.1+0.0i +0.3+0.0i -0.2+0.0i -0.5+0.0i -0.5+0.0i \n",
      "-0.0+0.0i -0.2+0.0i -0.4+0.0i -0.1+0.0i -0.3+0.0i \n"
     ]
    }
   ],
   "source": [
    "UI = np.imag(U); utilities.printonscreennp(UI)"
   ]
  },
  {
   "cell_type": "markdown",
   "metadata": {},
   "source": [
    "$${\\bf U}_R {\\bf U}_R^\\top+{\\bf U}_I{\\bf U}_I^\\top={\\bf 1}_{n}$$"
   ]
  },
  {
   "cell_type": "code",
   "execution_count": 28,
   "metadata": {},
   "outputs": [
    {
     "name": "stdout",
     "output_type": "stream",
     "text": [
      "+1.0+0.0i -0.0+0.0i +0.0+0.0i -0.0+0.0i +0.0+0.0i \n",
      "-0.0+0.0i +1.0+0.0i +0.0+0.0i +0.0+0.0i +0.0+0.0i \n",
      "+0.0+0.0i +0.0+0.0i +1.0+0.0i +0.0+0.0i -0.0+0.0i \n",
      "-0.0+0.0i +0.0+0.0i +0.0+0.0i +1.0+0.0i +0.0+0.0i \n",
      "+0.0+0.0i +0.0+0.0i -0.0+0.0i +0.0+0.0i +1.0+0.0i \n"
     ]
    }
   ],
   "source": [
    "utilities.printonscreennp(np.matmul(UR,UR.transpose())+np.matmul(UI,UI.transpose()))"
   ]
  },
  {
   "cell_type": "markdown",
   "metadata": {},
   "source": [
    "$${\\bf U}_R {\\bf U}_I^\\top-{\\bf U}_I{\\bf U}_R^\\top={\\bf 0}_{n}$$"
   ]
  },
  {
   "cell_type": "code",
   "execution_count": 29,
   "metadata": {},
   "outputs": [
    {
     "name": "stdout",
     "output_type": "stream",
     "text": [
      "+0.0+0.0i -0.0+0.0i +0.0+0.0i -0.0+0.0i +0.0+0.0i \n",
      "+0.0+0.0i +0.0+0.0i +0.0+0.0i -0.0+0.0i +0.0+0.0i \n",
      "+0.0+0.0i -0.0+0.0i +0.0+0.0i -0.0+0.0i +0.0+0.0i \n",
      "+0.0+0.0i +0.0+0.0i +0.0+0.0i +0.0+0.0i -0.0+0.0i \n",
      "-0.0+0.0i -0.0+0.0i -0.0+0.0i +0.0+0.0i +0.0+0.0i \n"
     ]
    }
   ],
   "source": [
    "utilities.printonscreennp(np.matmul(UR,UI.transpose())-np.matmul(UI,UR.transpose()))"
   ]
  }
 ],
 "metadata": {
  "kernelspec": {
   "display_name": "Python 3 (ipykernel)",
   "language": "python",
   "name": "python3"
  },
  "language_info": {
   "codemirror_mode": {
    "name": "ipython",
    "version": 3
   },
   "file_extension": ".py",
   "mimetype": "text/x-python",
   "name": "python",
   "nbconvert_exporter": "python",
   "pygments_lexer": "ipython3",
   "version": "3.10.12"
  }
 },
 "nbformat": 4,
 "nbformat_minor": 4
}
