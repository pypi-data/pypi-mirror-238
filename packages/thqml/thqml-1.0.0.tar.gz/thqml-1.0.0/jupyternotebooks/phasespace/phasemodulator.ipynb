{
 "cells": [
  {
   "cell_type": "markdown",
   "metadata": {},
   "source": [
    "# Training by using the derivative of multihead coherent state generation by pullback and a phase modulator"
   ]
  },
  {
   "cell_type": "markdown",
   "metadata": {},
   "source": [
    "Use the multihead (2-head) gates in the phase space \n",
    "to create a network that represent a coherent state,\n",
    "by starting from a Gaussian state and making a pullback\n",
    "\n",
    "Use the derivative for the training\n",
    "\n",
    "\n",
    "NOTE: remember to shut down the kernel when out of memory\n",
    "\n",
    "<img src=\"../img/phasemodulator.png\" width=\"900\" height=\"200\" />\n",
    "\n",
    "<img src=\"../img/logo_circular.png\" width=\"20\" height=\"20\" />@by claudio<br>\n",
    "\n",
    "nonlinearxwaves@gmail.com<br>\n",
    "@created 27 sep 2020<br>\n",
    "@version 15 sep 2023"
   ]
  },
  {
   "cell_type": "code",
   "execution_count": 1,
   "metadata": {},
   "outputs": [],
   "source": [
    "import os\n",
    "os.environ['TF_CPP_MIN_LOG_LEVEL'] = '2' # disable warning messages"
   ]
  },
  {
   "cell_type": "code",
   "execution_count": 2,
   "metadata": {},
   "outputs": [],
   "source": [
    "import numpy as np\n",
    "from thqml import phasespace as ps\n",
    "from thqml.utilities import utilities\n",
    "import tensorflow as tf\n",
    "from tensorflow import keras\n",
    "import matplotlib.pyplot as plt"
   ]
  },
  {
   "cell_type": "code",
   "execution_count": 3,
   "metadata": {},
   "outputs": [],
   "source": [
    "tf_complex = tf.complex\n",
    "tf_real = tf.float32\n",
    "np_complex = complex\n",
    "np_real = np.float32"
   ]
  },
  {
   "cell_type": "markdown",
   "metadata": {},
   "source": [
    "Precision for output on the screen"
   ]
  },
  {
   "cell_type": "code",
   "execution_count": 4,
   "metadata": {},
   "outputs": [],
   "source": [
    "np.set_printoptions(precision=2)"
   ]
  },
  {
   "cell_type": "markdown",
   "metadata": {},
   "source": [
    "## Dimension"
   ]
  },
  {
   "cell_type": "code",
   "execution_count": 5,
   "metadata": {},
   "outputs": [],
   "source": [
    "N = 10"
   ]
  },
  {
   "cell_type": "markdown",
   "metadata": {},
   "source": [
    "## Build vacuum by the Gaussian state"
   ]
  },
  {
   "cell_type": "code",
   "execution_count": 6,
   "metadata": {},
   "outputs": [],
   "source": [
    "vacuum = ps.VacuumLayer(N)"
   ]
  },
  {
   "cell_type": "markdown",
   "metadata": {},
   "source": [
    "## Build the pullback layer for generating the input coherent state"
   ]
  },
  {
   "cell_type": "markdown",
   "metadata": {},
   "source": [
    "### Target displacement vector \n",
    "The displacement vector is a normalized column vector"
   ]
  },
  {
   "cell_type": "code",
   "execution_count": 7,
   "metadata": {},
   "outputs": [
    {
     "name": "stdout",
     "output_type": "stream",
     "text": [
      "[[0.32 0.32 0.32 0.32 0.32 0.32 0.32 0.32 0.32 0.32]]\n"
     ]
    }
   ],
   "source": [
    "dinput = 3.0*np.ones((N,1)); \n",
    "norm = np.linalg.norm(dinput)\n",
    "dinput = dinput /norm\n",
    "print(dinput.transpose())"
   ]
  },
  {
   "cell_type": "markdown",
   "metadata": {},
   "source": [
    "Check the normalization of the dtarget"
   ]
  },
  {
   "cell_type": "code",
   "execution_count": 8,
   "metadata": {},
   "outputs": [
    {
     "name": "stdout",
     "output_type": "stream",
     "text": [
      "[[1.]]\n"
     ]
    }
   ],
   "source": [
    "print(np.dot(dinput.transpose(), dinput)) "
   ]
  },
  {
   "cell_type": "markdown",
   "metadata": {},
   "source": [
    "### Build the linear layer\n",
    "The layer is a constant layer, as no training is needed"
   ]
  },
  {
   "cell_type": "code",
   "execution_count": 9,
   "metadata": {},
   "outputs": [],
   "source": [
    "D = ps.DisplacementLayerConstant(dinput)"
   ]
  },
  {
   "cell_type": "markdown",
   "metadata": {},
   "source": [
    "## Define the layer for the complex medium\n",
    "The LinearConstantMultiHead generate by default a random medium with \n",
    "the relevant symplectic operator"
   ]
  },
  {
   "cell_type": "code",
   "execution_count": 10,
   "metadata": {},
   "outputs": [],
   "source": [
    "R = ps.RandomLayerConstant(N)"
   ]
  },
  {
   "cell_type": "markdown",
   "metadata": {},
   "source": [
    "## Define the trainable Phase Modulator layer"
   ]
  },
  {
   "cell_type": "code",
   "execution_count": 11,
   "metadata": {},
   "outputs": [],
   "source": [
    "PM_train = ps.PhaseModulatorLayer(N)"
   ]
  },
  {
   "cell_type": "markdown",
   "metadata": {},
   "source": [
    "### plot the matrix of the theta (initially random)"
   ]
  },
  {
   "cell_type": "code",
   "execution_count": 12,
   "metadata": {},
   "outputs": [
    {
     "name": "stdout",
     "output_type": "stream",
     "text": [
      "[[0.215320945 0 0 0 0]\n",
      " [0 0.163770884 0 0 0]\n",
      " [0 0 0.63708359 0 0]\n",
      " [0 0 0 0.0245276392 0]\n",
      " [0 0 0 0 0.361202389]]\n"
     ]
    }
   ],
   "source": [
    "tf.print(tf.linalg.diag(PM_train.theta))"
   ]
  },
  {
   "cell_type": "markdown",
   "metadata": {},
   "source": [
    "### plot the symplectic matrix"
   ]
  },
  {
   "cell_type": "code",
   "execution_count": 13,
   "metadata": {},
   "outputs": [
    {
     "name": "stdout",
     "output_type": "stream",
     "text": [
      "tf.Tensor(\n",
      "[[ 0.98 -0.21  0.    0.    0.    0.    0.    0.    0.    0.  ]\n",
      " [ 0.21  0.98  0.    0.    0.    0.    0.    0.    0.    0.  ]\n",
      " [ 0.    0.    0.99 -0.16  0.    0.    0.    0.    0.    0.  ]\n",
      " [ 0.    0.    0.16  0.99  0.    0.    0.    0.    0.    0.  ]\n",
      " [ 0.    0.    0.    0.    0.8  -0.59  0.    0.    0.    0.  ]\n",
      " [ 0.    0.    0.    0.    0.59  0.8   0.    0.    0.    0.  ]\n",
      " [ 0.    0.    0.    0.    0.    0.    1.   -0.02  0.    0.  ]\n",
      " [ 0.    0.    0.    0.    0.    0.    0.02  1.    0.    0.  ]\n",
      " [ 0.    0.    0.    0.    0.    0.    0.    0.    0.94 -0.35]\n",
      " [ 0.    0.    0.    0.    0.    0.    0.    0.    0.35  0.94]], shape=(10, 10), dtype=float32)\n"
     ]
    }
   ],
   "source": [
    "M, _ ,_, _ = PM_train.get_M(); print(M)"
   ]
  },
  {
   "cell_type": "markdown",
   "metadata": {},
   "source": [
    "## Define the normalized target displacement vector"
   ]
  },
  {
   "cell_type": "code",
   "execution_count": 14,
   "metadata": {},
   "outputs": [],
   "source": [
    "dtarget = np.zeros((N,1)); dtarget[0]=1.0; dtarget[1]=0.5;\n",
    "norm = np.linalg.norm(dtarget)\n",
    "dtarget = dtarget /norm"
   ]
  },
  {
   "cell_type": "markdown",
   "metadata": {},
   "source": [
    "## Connect the layers"
   ]
  },
  {
   "cell_type": "code",
   "execution_count": 15,
   "metadata": {},
   "outputs": [],
   "source": [
    "xin = tf.keras.layers.Input(N);\n",
    "x3, a3 = R(xin)\n",
    "x2, a2 = PM_train(x3,a3)\n",
    "x1, a1 = D(x2,a2)\n",
    "chir, chii = vacuum(x1, a1) \n",
    "pullback = tf.keras.Model(inputs = xin, outputs=[chir, chii])\n",
    "# Add the derivative layer\n",
    "der_layer = ps.meanRLayer(N)\n",
    "Re = der_layer(chir,chii, pullback)\n",
    "pullback_der = tf.keras.Model(inputs = xin, outputs=Re)"
   ]
  },
  {
   "cell_type": "markdown",
   "metadata": {},
   "source": [
    "### Store the M,d of the LL_complex layer for later chek"
   ]
  },
  {
   "cell_type": "code",
   "execution_count": 16,
   "metadata": {},
   "outputs": [],
   "source": [
    "M_R_tf, _=R.get_M(); M_R=M_R_tf.numpy()"
   ]
  },
  {
   "cell_type": "code",
   "execution_count": 17,
   "metadata": {},
   "outputs": [],
   "source": [
    "d_R=R.d.numpy()"
   ]
  },
  {
   "cell_type": "markdown",
   "metadata": {},
   "source": [
    "### Store the M, d of the untrained U_train layer for later check"
   ]
  },
  {
   "cell_type": "code",
   "execution_count": 18,
   "metadata": {},
   "outputs": [],
   "source": [
    "theta_untrained_PM = PM_train.theta.numpy()"
   ]
  },
  {
   "cell_type": "markdown",
   "metadata": {},
   "source": [
    "## Build the training set by using a target characteristic function"
   ]
  },
  {
   "cell_type": "markdown",
   "metadata": {},
   "source": [
    "Number of training points\n",
    "Also a single training point is enough for Gaussian state, more points improve the training"
   ]
  },
  {
   "cell_type": "code",
   "execution_count": 19,
   "metadata": {},
   "outputs": [],
   "source": [
    "Nbatch = 100"
   ]
  },
  {
   "cell_type": "markdown",
   "metadata": {},
   "source": [
    "Define the numpy function for the target characteristic function:\n",
    "    a coherent state with a target displacement\n",
    "One need a target d for any training points"
   ]
  },
  {
   "cell_type": "code",
   "execution_count": 20,
   "metadata": {},
   "outputs": [],
   "source": [
    "xtrain = np.random.rand(Nbatch, N)-0.5\n",
    "dtrain = np.zeros((Nbatch,N))\n",
    "for j in range(Nbatch):\n",
    "    for i in range(N):\n",
    "        dtrain[j,i]=dtarget[i]"
   ]
  },
  {
   "cell_type": "markdown",
   "metadata": {},
   "source": [
    "## Train the model"
   ]
  },
  {
   "cell_type": "code",
   "execution_count": 21,
   "metadata": {},
   "outputs": [],
   "source": [
    "pullback_der.compile(optimizer=tf.keras.optimizers.Adam(learning_rate=0.01),\n",
    "                loss='mean_squared_error')"
   ]
  },
  {
   "cell_type": "markdown",
   "metadata": {},
   "source": [
    "Summary of the derivative model"
   ]
  },
  {
   "cell_type": "code",
   "execution_count": 22,
   "metadata": {},
   "outputs": [
    {
     "name": "stdout",
     "output_type": "stream",
     "text": [
      "Model: \"model_1\"\n",
      "__________________________________________________________________________________________________\n",
      " Layer (type)                   Output Shape         Param #     Connected to                     \n",
      "==================================================================================================\n",
      " input_1 (InputLayer)           [(None, 10)]         0           []                               \n",
      "                                                                                                  \n",
      " random_layer (RandomLayer)     [(None, 10),         50          ['input_1[0][0]']                \n",
      "                                 (10, 1)]                                                         \n",
      "                                                                                                  \n",
      " phase_modulator_layer (PhaseMo  [(None, 10),        5           ['random_layer[0][0]',           \n",
      " dulatorLayer)                   (10, 1)]                         'random_layer[0][1]']           \n",
      "                                                                                                  \n",
      " linear_layer_constant (LinearL  [(None, 10),        0           ['phase_modulator_layer[0][0]',  \n",
      " ayerConstant)                   (10, 1)]                         'phase_modulator_layer[0][1]']  \n",
      "                                                                                                  \n",
      " gaussian_layer (GaussianLayer)  [(None, 1),         110         ['linear_layer_constant[0][0]',  \n",
      "                                 (None, 1)]                       'linear_layer_constant[0][1]']  \n",
      "                                                                                                  \n",
      " mean_r_layer (meanRLayer)      (1, 10)              0           ['gaussian_layer[0][0]',         \n",
      "                                                                  'gaussian_layer[0][1]']         \n",
      "                                                                                                  \n",
      "==================================================================================================\n",
      "Total params: 165\n",
      "Trainable params: 5\n",
      "Non-trainable params: 160\n",
      "__________________________________________________________________________________________________\n"
     ]
    }
   ],
   "source": [
    "pullback_der.summary()"
   ]
  },
  {
   "cell_type": "markdown",
   "metadata": {},
   "source": [
    "Test the call of the derivative layer"
   ]
  },
  {
   "cell_type": "code",
   "execution_count": 23,
   "metadata": {},
   "outputs": [
    {
     "data": {
      "text/plain": [
       "<tf.Tensor: shape=(1, 10), dtype=float32, numpy=\n",
       "array([[0.49, 0.11, 0.46, 0.22, 0.34, 0.23, 0.32, 0.13, 0.36, 0.27]],\n",
       "      dtype=float32)>"
      ]
     },
     "execution_count": 23,
     "metadata": {},
     "output_type": "execute_result"
    }
   ],
   "source": [
    "pullback_der(xtrain)"
   ]
  },
  {
   "cell_type": "markdown",
   "metadata": {},
   "source": [
    "## Training of the model"
   ]
  },
  {
   "cell_type": "code",
   "execution_count": 24,
   "metadata": {},
   "outputs": [
    {
     "name": "stdout",
     "output_type": "stream",
     "text": [
      "Epoch 1/100\n",
      "4/4 - 1s - loss: 0.1022 - 1s/epoch - 274ms/step\n",
      "Epoch 2/100\n",
      "4/4 - 0s - loss: 0.0979 - 7ms/epoch - 2ms/step\n",
      "Epoch 3/100\n",
      "4/4 - 0s - loss: 0.0938 - 9ms/epoch - 2ms/step\n",
      "Epoch 4/100\n",
      "4/4 - 0s - loss: 0.0899 - 7ms/epoch - 2ms/step\n",
      "Epoch 5/100\n",
      "4/4 - 0s - loss: 0.0860 - 9ms/epoch - 2ms/step\n",
      "Epoch 6/100\n",
      "4/4 - 0s - loss: 0.0823 - 7ms/epoch - 2ms/step\n",
      "Epoch 7/100\n",
      "4/4 - 0s - loss: 0.0787 - 9ms/epoch - 2ms/step\n",
      "Epoch 8/100\n",
      "4/4 - 0s - loss: 0.0752 - 9ms/epoch - 2ms/step\n",
      "Epoch 9/100\n",
      "4/4 - 0s - loss: 0.0718 - 8ms/epoch - 2ms/step\n",
      "Epoch 10/100\n",
      "4/4 - 0s - loss: 0.0684 - 9ms/epoch - 2ms/step\n",
      "Epoch 11/100\n",
      "4/4 - 0s - loss: 0.0652 - 8ms/epoch - 2ms/step\n",
      "Epoch 12/100\n",
      "4/4 - 0s - loss: 0.0620 - 10ms/epoch - 3ms/step\n",
      "Epoch 13/100\n",
      "4/4 - 0s - loss: 0.0590 - 11ms/epoch - 3ms/step\n",
      "Epoch 14/100\n",
      "4/4 - 0s - loss: 0.0560 - 8ms/epoch - 2ms/step\n",
      "Epoch 15/100\n",
      "4/4 - 0s - loss: 0.0532 - 11ms/epoch - 3ms/step\n",
      "Epoch 16/100\n",
      "4/4 - 0s - loss: 0.0504 - 10ms/epoch - 2ms/step\n",
      "Epoch 17/100\n",
      "4/4 - 0s - loss: 0.0478 - 8ms/epoch - 2ms/step\n",
      "Epoch 18/100\n",
      "4/4 - 0s - loss: 0.0452 - 9ms/epoch - 2ms/step\n",
      "Epoch 19/100\n",
      "4/4 - 0s - loss: 0.0427 - 9ms/epoch - 2ms/step\n",
      "Epoch 20/100\n",
      "4/4 - 0s - loss: 0.0403 - 9ms/epoch - 2ms/step\n",
      "Epoch 21/100\n",
      "4/4 - 0s - loss: 0.0380 - 8ms/epoch - 2ms/step\n",
      "Epoch 22/100\n",
      "4/4 - 0s - loss: 0.0358 - 9ms/epoch - 2ms/step\n",
      "Epoch 23/100\n",
      "4/4 - 0s - loss: 0.0337 - 8ms/epoch - 2ms/step\n",
      "Epoch 24/100\n",
      "4/4 - 0s - loss: 0.0317 - 9ms/epoch - 2ms/step\n",
      "Epoch 25/100\n",
      "4/4 - 0s - loss: 0.0297 - 11ms/epoch - 3ms/step\n",
      "Epoch 26/100\n",
      "4/4 - 0s - loss: 0.0279 - 18ms/epoch - 4ms/step\n",
      "Epoch 27/100\n",
      "4/4 - 0s - loss: 0.0261 - 17ms/epoch - 4ms/step\n",
      "Epoch 28/100\n",
      "4/4 - 0s - loss: 0.0245 - 18ms/epoch - 4ms/step\n",
      "Epoch 29/100\n",
      "4/4 - 0s - loss: 0.0229 - 10ms/epoch - 2ms/step\n",
      "Epoch 30/100\n",
      "4/4 - 0s - loss: 0.0214 - 10ms/epoch - 2ms/step\n",
      "Epoch 31/100\n",
      "4/4 - 0s - loss: 0.0200 - 7ms/epoch - 2ms/step\n",
      "Epoch 32/100\n",
      "4/4 - 0s - loss: 0.0187 - 10ms/epoch - 3ms/step\n",
      "Epoch 33/100\n",
      "4/4 - 0s - loss: 0.0174 - 8ms/epoch - 2ms/step\n",
      "Epoch 34/100\n",
      "4/4 - 0s - loss: 0.0162 - 9ms/epoch - 2ms/step\n",
      "Epoch 35/100\n",
      "4/4 - 0s - loss: 0.0151 - 9ms/epoch - 2ms/step\n",
      "Epoch 36/100\n",
      "4/4 - 0s - loss: 0.0141 - 9ms/epoch - 2ms/step\n",
      "Epoch 37/100\n",
      "4/4 - 0s - loss: 0.0132 - 9ms/epoch - 2ms/step\n",
      "Epoch 38/100\n",
      "4/4 - 0s - loss: 0.0123 - 8ms/epoch - 2ms/step\n",
      "Epoch 39/100\n",
      "4/4 - 0s - loss: 0.0115 - 9ms/epoch - 2ms/step\n",
      "Epoch 40/100\n",
      "4/4 - 0s - loss: 0.0107 - 8ms/epoch - 2ms/step\n",
      "Epoch 41/100\n",
      "4/4 - 0s - loss: 0.0100 - 10ms/epoch - 2ms/step\n",
      "Epoch 42/100\n",
      "4/4 - 0s - loss: 0.0093 - 9ms/epoch - 2ms/step\n",
      "Epoch 43/100\n",
      "4/4 - 0s - loss: 0.0088 - 9ms/epoch - 2ms/step\n",
      "Epoch 44/100\n",
      "4/4 - 0s - loss: 0.0082 - 8ms/epoch - 2ms/step\n",
      "Epoch 45/100\n",
      "4/4 - 0s - loss: 0.0077 - 8ms/epoch - 2ms/step\n",
      "Epoch 46/100\n",
      "4/4 - 0s - loss: 0.0072 - 9ms/epoch - 2ms/step\n",
      "Epoch 47/100\n",
      "4/4 - 0s - loss: 0.0068 - 8ms/epoch - 2ms/step\n",
      "Epoch 48/100\n",
      "4/4 - 0s - loss: 0.0064 - 8ms/epoch - 2ms/step\n",
      "Epoch 49/100\n",
      "4/4 - 0s - loss: 0.0061 - 10ms/epoch - 2ms/step\n",
      "Epoch 50/100\n",
      "4/4 - 0s - loss: 0.0058 - 8ms/epoch - 2ms/step\n",
      "Epoch 51/100\n",
      "4/4 - 0s - loss: 0.0055 - 10ms/epoch - 2ms/step\n",
      "Epoch 52/100\n",
      "4/4 - 0s - loss: 0.0052 - 10ms/epoch - 3ms/step\n",
      "Epoch 53/100\n",
      "4/4 - 0s - loss: 0.0050 - 8ms/epoch - 2ms/step\n",
      "Epoch 54/100\n",
      "4/4 - 0s - loss: 0.0048 - 10ms/epoch - 3ms/step\n",
      "Epoch 55/100\n",
      "4/4 - 0s - loss: 0.0046 - 8ms/epoch - 2ms/step\n",
      "Epoch 56/100\n",
      "4/4 - 0s - loss: 0.0044 - 8ms/epoch - 2ms/step\n",
      "Epoch 57/100\n",
      "4/4 - 0s - loss: 0.0043 - 10ms/epoch - 2ms/step\n",
      "Epoch 58/100\n",
      "4/4 - 0s - loss: 0.0041 - 8ms/epoch - 2ms/step\n",
      "Epoch 59/100\n",
      "4/4 - 0s - loss: 0.0040 - 11ms/epoch - 3ms/step\n",
      "Epoch 60/100\n",
      "4/4 - 0s - loss: 0.0039 - 10ms/epoch - 3ms/step\n",
      "Epoch 61/100\n",
      "4/4 - 0s - loss: 0.0038 - 9ms/epoch - 2ms/step\n",
      "Epoch 62/100\n",
      "4/4 - 0s - loss: 0.0037 - 9ms/epoch - 2ms/step\n",
      "Epoch 63/100\n",
      "4/4 - 0s - loss: 0.0037 - 11ms/epoch - 3ms/step\n",
      "Epoch 64/100\n",
      "4/4 - 0s - loss: 0.0036 - 8ms/epoch - 2ms/step\n",
      "Epoch 65/100\n",
      "4/4 - 0s - loss: 0.0035 - 8ms/epoch - 2ms/step\n",
      "Epoch 66/100\n",
      "4/4 - 0s - loss: 0.0035 - 9ms/epoch - 2ms/step\n",
      "Epoch 67/100\n",
      "4/4 - 0s - loss: 0.0034 - 8ms/epoch - 2ms/step\n",
      "Epoch 68/100\n",
      "4/4 - 0s - loss: 0.0034 - 9ms/epoch - 2ms/step\n",
      "Epoch 69/100\n",
      "4/4 - 0s - loss: 0.0034 - 8ms/epoch - 2ms/step\n",
      "Epoch 70/100\n",
      "4/4 - 0s - loss: 0.0033 - 8ms/epoch - 2ms/step\n",
      "Epoch 71/100\n",
      "4/4 - 0s - loss: 0.0033 - 9ms/epoch - 2ms/step\n",
      "Epoch 72/100\n",
      "4/4 - 0s - loss: 0.0033 - 8ms/epoch - 2ms/step\n",
      "Epoch 73/100\n",
      "4/4 - 0s - loss: 0.0033 - 9ms/epoch - 2ms/step\n",
      "Epoch 74/100\n",
      "4/4 - 0s - loss: 0.0032 - 9ms/epoch - 2ms/step\n",
      "Epoch 75/100\n",
      "4/4 - 0s - loss: 0.0032 - 8ms/epoch - 2ms/step\n",
      "Epoch 76/100\n",
      "4/4 - 0s - loss: 0.0032 - 8ms/epoch - 2ms/step\n",
      "Epoch 77/100\n",
      "4/4 - 0s - loss: 0.0032 - 8ms/epoch - 2ms/step\n",
      "Epoch 78/100\n",
      "4/4 - 0s - loss: 0.0032 - 8ms/epoch - 2ms/step\n",
      "Epoch 79/100\n",
      "4/4 - 0s - loss: 0.0032 - 7ms/epoch - 2ms/step\n",
      "Epoch 80/100\n",
      "4/4 - 0s - loss: 0.0032 - 8ms/epoch - 2ms/step\n",
      "Epoch 81/100\n",
      "4/4 - 0s - loss: 0.0032 - 11ms/epoch - 3ms/step\n",
      "Epoch 82/100\n",
      "4/4 - 0s - loss: 0.0032 - 8ms/epoch - 2ms/step\n",
      "Epoch 83/100\n",
      "4/4 - 0s - loss: 0.0032 - 8ms/epoch - 2ms/step\n",
      "Epoch 84/100\n",
      "4/4 - 0s - loss: 0.0031 - 8ms/epoch - 2ms/step\n",
      "Epoch 85/100\n",
      "4/4 - 0s - loss: 0.0031 - 8ms/epoch - 2ms/step\n",
      "Epoch 86/100\n",
      "4/4 - 0s - loss: 0.0031 - 8ms/epoch - 2ms/step\n",
      "Epoch 87/100\n",
      "4/4 - 0s - loss: 0.0031 - 7ms/epoch - 2ms/step\n",
      "Epoch 88/100\n",
      "4/4 - 0s - loss: 0.0031 - 8ms/epoch - 2ms/step\n",
      "Epoch 89/100\n",
      "4/4 - 0s - loss: 0.0031 - 9ms/epoch - 2ms/step\n",
      "Epoch 90/100\n",
      "4/4 - 0s - loss: 0.0031 - 9ms/epoch - 2ms/step\n",
      "Epoch 91/100\n",
      "4/4 - 0s - loss: 0.0031 - 9ms/epoch - 2ms/step\n",
      "Epoch 92/100\n",
      "4/4 - 0s - loss: 0.0031 - 8ms/epoch - 2ms/step\n",
      "Epoch 93/100\n",
      "4/4 - 0s - loss: 0.0031 - 9ms/epoch - 2ms/step\n",
      "Epoch 94/100\n",
      "4/4 - 0s - loss: 0.0031 - 9ms/epoch - 2ms/step\n",
      "Epoch 95/100\n",
      "4/4 - 0s - loss: 0.0031 - 8ms/epoch - 2ms/step\n",
      "Epoch 96/100\n",
      "4/4 - 0s - loss: 0.0031 - 9ms/epoch - 2ms/step\n",
      "Epoch 97/100\n",
      "4/4 - 0s - loss: 0.0031 - 8ms/epoch - 2ms/step\n",
      "Epoch 98/100\n",
      "4/4 - 0s - loss: 0.0031 - 9ms/epoch - 2ms/step\n",
      "Epoch 99/100\n",
      "4/4 - 0s - loss: 0.0031 - 7ms/epoch - 2ms/step\n",
      "Epoch 100/100\n",
      "4/4 - 0s - loss: 0.0031 - 9ms/epoch - 2ms/step\n"
     ]
    }
   ],
   "source": [
    "history = pullback_der.fit(x=xtrain,\n",
    "                      y=dtrain,\n",
    "                      epochs=100,\n",
    "                      verbose=2)"
   ]
  },
  {
   "cell_type": "code",
   "execution_count": 25,
   "metadata": {},
   "outputs": [
    {
     "data": {
      "image/png": "[encoded data removed]",
      "text/plain": [
       "<Figure size 640x480 with 1 Axes>"
      ]
     },
     "metadata": {},
     "output_type": "display_data"
    }
   ],
   "source": [
    "# %%\n",
    "# %matplotlib inline\n",
    "# Plot training & validation accuracy values\n",
    "f1 = plt.figure\n",
    "plt.subplot(2, 1, 1)\n",
    "plt.plot(history.history['loss'])\n",
    "plt.ylabel('Error')\n",
    "plt.xlabel('Epoch')\n",
    "plt.ylim(0,0.12)\n",
    "plt.savefig('training_PM.pdf', bbox_inches='tight')"
   ]
  },
  {
   "cell_type": "markdown",
   "metadata": {},
   "source": [
    "## Test the derivative of the model\n",
    "Evaluate the expectation value of the displacement as derivative of the characterisc function"
   ]
  },
  {
   "cell_type": "code",
   "execution_count": 26,
   "metadata": {},
   "outputs": [],
   "source": [
    "x = tf.Variable(np.zeros((1,N)), dtype=tf_real) # the derivative are evaluated at x=0\n",
    "with tf.GradientTape(persistent=True) as tape:\n",
    "    tape.watch(x)\n",
    "    chir, chii = pullback(x)"
   ]
  },
  {
   "cell_type": "code",
   "execution_count": 27,
   "metadata": {},
   "outputs": [
    {
     "name": "stdout",
     "output_type": "stream",
     "text": [
      "tf.Tensor([[0. 0. 0. 0. 0. 0. 0. 0. 0. 0.]], shape=(1, 10), dtype=float32)\n"
     ]
    }
   ],
   "source": [
    "print(tape.gradient(chir,x))"
   ]
  },
  {
   "cell_type": "code",
   "execution_count": 28,
   "metadata": {},
   "outputs": [
    {
     "name": "stdout",
     "output_type": "stream",
     "text": [
      "tf.Tensor([[ 0.88  0.44  0.07  0.05 -0.01 -0.1  -0.   -0.01  0.11  0.02]], shape=(1, 10), dtype=float32)\n"
     ]
    }
   ],
   "source": [
    "print(tape.gradient(chii,x))"
   ]
  },
  {
   "cell_type": "markdown",
   "metadata": {},
   "source": [
    "Use the derivative function for the derivative"
   ]
  },
  {
   "cell_type": "markdown",
   "metadata": {},
   "source": [
    "Use the derivative model"
   ]
  },
  {
   "cell_type": "code",
   "execution_count": 29,
   "metadata": {},
   "outputs": [
    {
     "data": {
      "text/plain": [
       "<tf.Tensor: shape=(1, 10), dtype=float32, numpy=\n",
       "array([[ 0.88,  0.44,  0.07,  0.05, -0.01, -0.1 , -0.  , -0.01,  0.11,\n",
       "         0.02]], dtype=float32)>"
      ]
     },
     "execution_count": 29,
     "metadata": {},
     "output_type": "execute_result"
    }
   ],
   "source": [
    "pullback_der(xtrain)"
   ]
  },
  {
   "cell_type": "markdown",
   "metadata": {},
   "source": [
    "## Plot the model"
   ]
  },
  {
   "cell_type": "code",
   "execution_count": 30,
   "metadata": {},
   "outputs": [
    {
     "data": {
      "image/png": "[encoded data removed]",
      "text/plain": [
       "<IPython.core.display.Image object>"
      ]
     },
     "execution_count": 30,
     "metadata": {},
     "output_type": "execute_result"
    }
   ],
   "source": [
    "dot_img_file = 'PhaseModulator.png'\n",
    "tf.keras.utils.plot_model(pullback, to_file=dot_img_file, show_shapes=True)"
   ]
  },
  {
   "cell_type": "markdown",
   "metadata": {},
   "source": [
    "## Check the weights of the layers"
   ]
  },
  {
   "cell_type": "markdown",
   "metadata": {},
   "source": [
    "### d and M of the complex layer LL_complex (these are unchanged)"
   ]
  },
  {
   "cell_type": "code",
   "execution_count": 31,
   "metadata": {},
   "outputs": [
    {
     "name": "stdout",
     "output_type": "stream",
     "text": [
      "[[0. 0. 0. 0. 0. 0. 0. 0. 0. 0.]]\n"
     ]
    }
   ],
   "source": [
    "print(R.d.numpy().transpose())"
   ]
  },
  {
   "cell_type": "code",
   "execution_count": 32,
   "metadata": {},
   "outputs": [
    {
     "name": "stdout",
     "output_type": "stream",
     "text": [
      "[[0. 0. 0. 0. 0. 0. 0. 0. 0. 0.]]\n"
     ]
    }
   ],
   "source": [
    "print(d_R.transpose())"
   ]
  },
  {
   "cell_type": "code",
   "execution_count": 33,
   "metadata": {},
   "outputs": [
    {
     "name": "stdout",
     "output_type": "stream",
     "text": [
      "[[ 0.46  0.17  0.29 -0.27 -0.52  0.08  0.28  0.39  0.24  0.19]\n",
      " [-0.17  0.46  0.27  0.29 -0.08 -0.52 -0.39  0.28 -0.19  0.24]\n",
      " [-0.51  0.24  0.31 -0.02  0.44  0.22  0.39  0.29  0.33  0.04]\n",
      " [-0.24 -0.51  0.02  0.31 -0.22  0.44 -0.29  0.39 -0.04  0.33]\n",
      " [ 0.4   0.06  0.54  0.19  0.31  0.37 -0.03 -0.04 -0.49 -0.17]\n",
      " [-0.06  0.4  -0.19  0.54 -0.37  0.31  0.04 -0.03  0.17 -0.49]\n",
      " [ 0.43 -0.13 -0.36  0.47  0.38 -0.25  0.3   0.36  0.1   0.1 ]\n",
      " [ 0.13  0.43 -0.47 -0.36  0.25  0.38 -0.36  0.3  -0.1   0.1 ]\n",
      " [ 0.23  0.15  0.11  0.22  0.14  0.18 -0.25 -0.5   0.51  0.49]\n",
      " [-0.15  0.23 -0.22  0.11 -0.18  0.14  0.5  -0.25 -0.49  0.51]]\n"
     ]
    }
   ],
   "source": [
    "M, _=R.get_M(); print(M.numpy())"
   ]
  },
  {
   "cell_type": "code",
   "execution_count": 34,
   "metadata": {},
   "outputs": [
    {
     "name": "stdout",
     "output_type": "stream",
     "text": [
      "[[ 0.46  0.17  0.29 -0.27 -0.52  0.08  0.28  0.39  0.24  0.19]\n",
      " [-0.17  0.46  0.27  0.29 -0.08 -0.52 -0.39  0.28 -0.19  0.24]\n",
      " [-0.51  0.24  0.31 -0.02  0.44  0.22  0.39  0.29  0.33  0.04]\n",
      " [-0.24 -0.51  0.02  0.31 -0.22  0.44 -0.29  0.39 -0.04  0.33]\n",
      " [ 0.4   0.06  0.54  0.19  0.31  0.37 -0.03 -0.04 -0.49 -0.17]\n",
      " [-0.06  0.4  -0.19  0.54 -0.37  0.31  0.04 -0.03  0.17 -0.49]\n",
      " [ 0.43 -0.13 -0.36  0.47  0.38 -0.25  0.3   0.36  0.1   0.1 ]\n",
      " [ 0.13  0.43 -0.47 -0.36  0.25  0.38 -0.36  0.3  -0.1   0.1 ]\n",
      " [ 0.23  0.15  0.11  0.22  0.14  0.18 -0.25 -0.5   0.51  0.49]\n",
      " [-0.15  0.23 -0.22  0.11 -0.18  0.14  0.5  -0.25 -0.49  0.51]]\n"
     ]
    }
   ],
   "source": [
    "print(M_R)"
   ]
  },
  {
   "cell_type": "markdown",
   "metadata": {},
   "source": [
    "### d and M of the trained layer, before and after training (they must change)"
   ]
  },
  {
   "cell_type": "code",
   "execution_count": 35,
   "metadata": {},
   "outputs": [
    {
     "data": {
      "text/plain": [
       "<tf.Variable 'Variable:0' shape=(5,) dtype=float32, numpy=array([ 0.03, -1.06,  2.67,  0.63,  0.35], dtype=float32)>"
      ]
     },
     "execution_count": 35,
     "metadata": {},
     "output_type": "execute_result"
    }
   ],
   "source": [
    "PM_train.theta"
   ]
  },
  {
   "cell_type": "code",
   "execution_count": 36,
   "metadata": {},
   "outputs": [
    {
     "data": {
      "text/plain": [
       "array([0.22, 0.16, 0.64, 0.02, 0.36], dtype=float32)"
      ]
     },
     "execution_count": 36,
     "metadata": {},
     "output_type": "execute_result"
    }
   ],
   "source": [
    "theta_untrained_PM"
   ]
  },
  {
   "cell_type": "markdown",
   "metadata": {},
   "source": [
    "# Retrieve the covariance matrix (must be a unitary matrix)"
   ]
  },
  {
   "cell_type": "code",
   "execution_count": 37,
   "metadata": {},
   "outputs": [
    {
     "name": "stdout",
     "output_type": "stream",
     "text": [
      "(<tf.Tensor: shape=(10, 10), dtype=float32, numpy=\n",
      "array([[ 1.00e+00, -5.96e-08,  5.96e-08, -2.01e-07, -2.05e-08, -5.96e-08,\n",
      "         1.81e-07, -1.86e-07, -1.64e-07, -1.64e-07],\n",
      "       [-1.19e-07,  1.00e+00,  1.04e-07,  1.12e-07,  9.92e-08, -8.20e-08,\n",
      "         1.19e-07,  6.89e-08,  9.69e-08, -5.59e-08],\n",
      "       [ 2.98e-08,  1.19e-07,  1.00e+00,  8.85e-09, -1.40e-07,  3.54e-08,\n",
      "        -1.07e-07, -2.91e-09, -2.05e-08,  1.44e-07],\n",
      "       [-2.24e-07,  1.15e-07, -2.61e-08,  1.00e+00, -4.27e-08, -1.17e-07,\n",
      "        -1.21e-08, -8.77e-08, -1.46e-07, -4.89e-09],\n",
      "       [-2.05e-07,  6.98e-08, -9.50e-08, -3.27e-08,  1.00e+00, -4.54e-09,\n",
      "         8.46e-08,  1.01e-07, -3.56e-08,  1.52e-07],\n",
      "       [-8.94e-08, -8.20e-08,  3.45e-08, -8.38e-08,  1.40e-08,  1.00e+00,\n",
      "        -7.81e-08,  9.27e-08, -1.02e-07, -4.66e-09],\n",
      "       [ 1.17e-07,  1.45e-07, -4.67e-08,  5.97e-09,  1.25e-07, -4.14e-08,\n",
      "         1.00e+00, -3.15e-08, -3.47e-08, -1.89e-07],\n",
      "       [-1.25e-07,  5.45e-08,  5.47e-09, -5.13e-08,  5.41e-09,  8.68e-08,\n",
      "         1.46e-08,  1.00e+00,  1.82e-07, -3.42e-08],\n",
      "       [-7.45e-08,  1.42e-07, -1.49e-08, -9.22e-08, -1.05e-08, -1.49e-07,\n",
      "        -6.38e-08,  2.12e-07,  1.00e+00,  5.12e-09],\n",
      "       [-1.45e-07, -1.21e-07,  1.25e-07, -1.12e-08,  1.35e-07, -3.98e-08,\n",
      "        -1.86e-07, -6.50e-08, -1.26e-08,  1.00e+00]], dtype=float32)>, <tf.Tensor: shape=(1, 10), dtype=float32, numpy=\n",
      "array([[ 0.88,  0.44,  0.07,  0.05, -0.01, -0.1 , -0.  , -0.01,  0.11,\n",
      "         0.02]], dtype=float32)>, <tf.Tensor: shape=(10, 10), dtype=float32, numpy=\n",
      "array([[-1.28e+00, -3.87e-01, -6.60e-02, -4.07e-02,  7.58e-03,  8.65e-02,\n",
      "         3.47e-03,  6.16e-03, -1.01e-01, -1.68e-02],\n",
      "       [-3.87e-01, -6.92e-01, -3.28e-02, -2.03e-02,  3.77e-03,  4.31e-02,\n",
      "         1.73e-03,  3.07e-03, -5.03e-02, -8.37e-03],\n",
      "       [-6.60e-02, -3.28e-02, -5.06e-01, -3.46e-03,  6.44e-04,  7.35e-03,\n",
      "         2.95e-04,  5.24e-04, -8.57e-03, -1.43e-03],\n",
      "       [-4.07e-02, -2.03e-02, -3.46e-03, -5.02e-01,  3.97e-04,  4.53e-03,\n",
      "         1.82e-04,  3.23e-04, -5.29e-03, -8.82e-04],\n",
      "       [ 7.58e-03,  3.77e-03,  6.44e-04,  3.97e-04, -5.00e-01, -8.44e-04,\n",
      "        -3.40e-05, -6.02e-05,  9.86e-04,  1.64e-04],\n",
      "       [ 8.65e-02,  4.31e-02,  7.35e-03,  4.53e-03, -8.44e-04, -5.10e-01,\n",
      "        -3.87e-04, -6.86e-04,  1.12e-02,  1.87e-03],\n",
      "       [ 3.47e-03,  1.73e-03,  2.95e-04,  1.82e-04, -3.40e-05, -3.87e-04,\n",
      "        -5.00e-01, -2.76e-05,  4.52e-04,  7.53e-05],\n",
      "       [ 6.16e-03,  3.07e-03,  5.24e-04,  3.23e-04, -6.02e-05, -6.86e-04,\n",
      "        -2.76e-05, -5.00e-01,  8.01e-04,  1.34e-04],\n",
      "       [-1.01e-01, -5.03e-02, -8.57e-03, -5.29e-03,  9.86e-04,  1.12e-02,\n",
      "         4.52e-04,  8.01e-04, -5.13e-01, -2.19e-03],\n",
      "       [-1.68e-02, -8.37e-03, -1.43e-03, -8.82e-04,  1.64e-04,  1.87e-03,\n",
      "         7.53e-05,  1.34e-04, -2.19e-03, -5.00e-01]], dtype=float32)>)\n"
     ]
    }
   ],
   "source": [
    "print(ps.covariance(N)(chir, chii, pullback))"
   ]
  },
  {
   "cell_type": "code",
   "execution_count": null,
   "metadata": {},
   "outputs": [],
   "source": []
  }
 ],
 "metadata": {
  "kernelspec": {
   "display_name": "Python 3 (ipykernel)",
   "language": "python",
   "name": "python3"
  },
  "language_info": {
   "codemirror_mode": {
    "name": "ipython",
    "version": 3
   },
   "file_extension": ".py",
   "mimetype": "text/x-python",
   "name": "python",
   "nbconvert_exporter": "python",
   "pygments_lexer": "ipython3",
   "version": "3.10.12"
  }
 },
 "nbformat": 4,
 "nbformat_minor": 4
}
