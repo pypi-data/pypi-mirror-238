{
 "cells": [
  {
   "cell_type": "markdown",
   "id": "80c43520-5c4b-4087-92f9-899c5cc38266",
   "metadata": {},
   "source": [
    "# Quantum feature map with qubits\n",
    "\n",
    "\n",
    "\n",
    "<img src=\"../img/logo_circular.png\" width=\"20\" height=\"20\" />@by claudio<br>\n",
    "nonlinearxwaves@gmail.com<br>\n",
    "\n",
    "\n",
    "@created 21 January 2022 <br>\n",
    "@version 6 October 2023<br>"
   ]
  },
  {
   "cell_type": "code",
   "execution_count": 1,
   "id": "4f40b697-7337-4a35-9ba3-453634795709",
   "metadata": {},
   "outputs": [],
   "source": [
    "import os\n",
    "os.environ['TF_CPP_MIN_LOG_LEVEL'] = '2' # disable warning messages "
   ]
  },
  {
   "cell_type": "code",
   "execution_count": 2,
   "id": "56fa01ea-76e6-47c8-b926-9fb8d3fd173a",
   "metadata": {},
   "outputs": [],
   "source": [
    "import tensorflow as tf\n",
    "import numpy as np\n",
    "from thqml.utilities import utilities as u\n",
    "import matplotlib.pyplot as plt\n",
    "from matplotlib import cm"
   ]
  },
  {
   "cell_type": "code",
   "execution_count": 3,
   "id": "2cdab3f4-69bc-4c3c-b57f-af2429d11c2d",
   "metadata": {},
   "outputs": [],
   "source": [
    "mytype=tf.complex64"
   ]
  },
  {
   "cell_type": "markdown",
   "id": "cc2957d6-4deb-4c9b-96a8-d10e79a4b4e4",
   "metadata": {},
   "source": [
    "## Define the qbuit as an ancilla state"
   ]
  },
  {
   "cell_type": "code",
   "execution_count": 4,
   "id": "022f971f-c82d-4c13-b3c6-11fc74a15722",
   "metadata": {},
   "outputs": [
    {
     "name": "stdout",
     "output_type": "stream",
     "text": [
      "tf.Tensor([1.+0.j 0.+0.j], shape=(2,), dtype=complex64)\n"
     ]
    }
   ],
   "source": [
    "qubit0 = tf.constant([1,0],dtype=mytype)\n",
    "print(qubit0)"
   ]
  },
  {
   "cell_type": "code",
   "execution_count": 5,
   "id": "34e1296a-d69b-43da-ac1b-ec05ce02ab41",
   "metadata": {},
   "outputs": [
    {
     "name": "stdout",
     "output_type": "stream",
     "text": [
      "tf.Tensor([0.+0.j 1.+0.j], shape=(2,), dtype=complex64)\n"
     ]
    }
   ],
   "source": [
    "qubit1 = tf.constant([0,1],dtype=mytype)\n",
    "print(qubit1)"
   ]
  },
  {
   "cell_type": "markdown",
   "id": "9f35f43c-5d7a-44ac-b1a9-33555ab4335b",
   "metadata": {},
   "source": [
    "Can define any state as a linear combination of qubit0 and qubit1"
   ]
  },
  {
   "cell_type": "code",
   "execution_count": 6,
   "id": "7d3c6fd2-031a-42a3-8a91-46d2b10753e6",
   "metadata": {},
   "outputs": [
    {
     "name": "stdout",
     "output_type": "stream",
     "text": [
      "tf.Tensor([1.+0.j 0.+3.j], shape=(2,), dtype=complex64)\n"
     ]
    }
   ],
   "source": [
    "psi=1.0*qubit0+3j*qubit1\n",
    "print(psi)"
   ]
  },
  {
   "cell_type": "markdown",
   "id": "1d16bf0a-7919-42b3-bf20-ed3519fd24cd",
   "metadata": {},
   "source": [
    "# Scalar product for the single qubit"
   ]
  },
  {
   "cell_type": "code",
   "execution_count": 7,
   "id": "0e24e216-d961-45b0-b01d-b3883a176197",
   "metadata": {},
   "outputs": [],
   "source": [
    "@tf.function\n",
    "def Scalar(psi, phi):\n",
    "    \"\"\" Compute the scalar product of states \"\"\"\n",
    "    cpsi = tf.math.conj(psi)\n",
    "    sc =tf.math.reduce_sum(tf.multiply(cpsi, phi))\n",
    "    return sc"
   ]
  },
  {
   "cell_type": "code",
   "execution_count": 8,
   "id": "0c66f3fd-77a4-4640-b7c0-da7219366994",
   "metadata": {},
   "outputs": [
    {
     "data": {
      "text/plain": [
       "<tf.Tensor: shape=(), dtype=complex64, numpy=(10+0j)>"
      ]
     },
     "execution_count": 8,
     "metadata": {},
     "output_type": "execute_result"
    }
   ],
   "source": [
    "Scalar(psi,psi)"
   ]
  },
  {
   "cell_type": "code",
   "execution_count": 9,
   "id": "62874a03-3e91-41f4-95d5-82b7f5b73591",
   "metadata": {},
   "outputs": [
    {
     "data": {
      "text/plain": [
       "<tf.Tensor: shape=(), dtype=complex64, numpy=0j>"
      ]
     },
     "execution_count": 9,
     "metadata": {},
     "output_type": "execute_result"
    }
   ],
   "source": [
    "Scalar(qubit0,qubit1)"
   ]
  },
  {
   "cell_type": "code",
   "execution_count": 10,
   "id": "45d2e0d2-ca6c-49a6-9ba9-c486c993cb82",
   "metadata": {},
   "outputs": [
    {
     "data": {
      "text/plain": [
       "<tf.Tensor: shape=(), dtype=complex64, numpy=(1+0j)>"
      ]
     },
     "execution_count": 10,
     "metadata": {},
     "output_type": "execute_result"
    }
   ],
   "source": [
    "Scalar(qubit0,qubit0)"
   ]
  },
  {
   "cell_type": "markdown",
   "id": "301b4120-9475-40eb-a29a-0077f9373f11",
   "metadata": {},
   "source": [
    "# Define the I,X,Y,Z,H gate"
   ]
  },
  {
   "cell_type": "markdown",
   "id": "9c0c3d2a-d0e4-40b9-93ee-a88d4c20a20a",
   "metadata": {},
   "source": [
    "## Single Q-bit identity"
   ]
  },
  {
   "cell_type": "code",
   "execution_count": 11,
   "id": "7a929d48-f091-4770-bffd-98835fcecb47",
   "metadata": {},
   "outputs": [],
   "source": [
    "Isingle = tf.constant([[1,0],[0,1]],dtype=mytype)"
   ]
  },
  {
   "cell_type": "markdown",
   "id": "faa55f3f-631d-4b45-949a-975fb412a38c",
   "metadata": {},
   "source": [
    "## X gate for the single qbit"
   ]
  },
  {
   "cell_type": "code",
   "execution_count": 12,
   "id": "8a1d4fc7-cc9b-4519-8ac6-2862ea70aa02",
   "metadata": {},
   "outputs": [
    {
     "name": "stdout",
     "output_type": "stream",
     "text": [
      "tf.Tensor(\n",
      "[[0.+0.j 1.+0.j]\n",
      " [1.+0.j 0.+0.j]], shape=(2, 2), dtype=complex64)\n"
     ]
    }
   ],
   "source": [
    "Xsingle =tf.constant([[0, 1],[1, 0]],dtype=mytype)\n",
    "print(Xsingle)"
   ]
  },
  {
   "cell_type": "markdown",
   "id": "aa9b2a41-0464-467a-8af4-758bc4dcbc82",
   "metadata": {},
   "source": [
    "## Y gate for the single qbit"
   ]
  },
  {
   "cell_type": "code",
   "execution_count": 13,
   "id": "70142503-49eb-49dc-af90-c3650e69de94",
   "metadata": {},
   "outputs": [],
   "source": [
    "Y_np=np.array([[0.0, complex(0,-1)],[complex(0,1), 0.0]],dtype=np.complex64)"
   ]
  },
  {
   "cell_type": "code",
   "execution_count": 14,
   "id": "a9ad9f5d-5cd8-44ae-955a-1b5ccb64bc6f",
   "metadata": {},
   "outputs": [
    {
     "data": {
      "text/plain": [
       "array([[0.+0.j, 0.-1.j],\n",
       "       [0.+1.j, 0.+0.j]], dtype=complex64)"
      ]
     },
     "execution_count": 14,
     "metadata": {},
     "output_type": "execute_result"
    }
   ],
   "source": [
    "Y_np"
   ]
  },
  {
   "cell_type": "code",
   "execution_count": 15,
   "id": "7e7eecab-2e82-4af8-aa07-0eb403f9ccfa",
   "metadata": {},
   "outputs": [
    {
     "name": "stdout",
     "output_type": "stream",
     "text": [
      "tf.Tensor(\n",
      "[[ 0.+0.j -0.-1.j]\n",
      " [ 0.+1.j  0.+0.j]], shape=(2, 2), dtype=complex64)\n"
     ]
    }
   ],
   "source": [
    "Ysingle =tf.constant(np.array([[0.0,-1j],[1j,0.0]]),dtype=mytype)\n",
    "print(Ysingle)"
   ]
  },
  {
   "cell_type": "markdown",
   "id": "e71a39b1-0d2d-4143-81ce-722edd5d54a1",
   "metadata": {
    "tags": []
   },
   "source": [
    "## Single Q-bit Z gate"
   ]
  },
  {
   "cell_type": "code",
   "execution_count": 16,
   "id": "4148f7ff-f9e1-4073-87df-ce5264d78592",
   "metadata": {},
   "outputs": [
    {
     "name": "stdout",
     "output_type": "stream",
     "text": [
      "tf.Tensor(\n",
      "[[ 1.+0.j  0.+0.j]\n",
      " [ 0.+0.j -1.+0.j]], shape=(2, 2), dtype=complex64)\n"
     ]
    }
   ],
   "source": [
    "Zsingle =tf.constant([[1, 0],[0, -1]],dtype=mytype)\n",
    "print(Zsingle)"
   ]
  },
  {
   "cell_type": "markdown",
   "id": "273c4538-7052-42c8-b613-254a7db63257",
   "metadata": {},
   "source": [
    "# Define the Hadamard Gate"
   ]
  },
  {
   "cell_type": "markdown",
   "id": "86e75fea-40ca-4101-9fef-ca1015166455",
   "metadata": {},
   "source": [
    "## Hadamard Gate for the single qubit"
   ]
  },
  {
   "cell_type": "code",
   "execution_count": 17,
   "id": "2092c6ff-359d-486f-a749-f33b6c7b22f3",
   "metadata": {},
   "outputs": [
    {
     "name": "stdout",
     "output_type": "stream",
     "text": [
      "tf.Tensor(\n",
      "[[ 0.70710677+0.j  0.70710677+0.j]\n",
      " [ 0.70710677+0.j -0.70710677+0.j]], shape=(2, 2), dtype=complex64)\n"
     ]
    }
   ],
   "source": [
    "Hsingle= tf.constant([[1/np.sqrt(2), 1/np.sqrt(2)],[1/np.sqrt(2), -1/np.sqrt(2)]],dtype=mytype)\n",
    "print(Hsingle)"
   ]
  },
  {
   "cell_type": "markdown",
   "id": "69dbe51b-bae6-4c0e-a952-dca7ca90200e",
   "metadata": {},
   "source": [
    "Test the Hadamard gate on $|0\\rangle$"
   ]
  },
  {
   "cell_type": "code",
   "execution_count": 18,
   "id": "a75c911c-c4ff-4339-910e-0df692ec2afa",
   "metadata": {},
   "outputs": [
    {
     "data": {
      "text/plain": [
       "<tf.Tensor: shape=(2,), dtype=complex64, numpy=array([0.70710677+0.j, 0.70710677+0.j], dtype=complex64)>"
      ]
     },
     "execution_count": 18,
     "metadata": {},
     "output_type": "execute_result"
    }
   ],
   "source": [
    "tf.tensordot(Hsingle,qubit0,axes=[[1],[0]])"
   ]
  },
  {
   "cell_type": "markdown",
   "id": "0395cbda-688b-4fb9-9085-a7756d87cbde",
   "metadata": {},
   "source": [
    "Different notation"
   ]
  },
  {
   "cell_type": "code",
   "execution_count": 19,
   "id": "6d51ffbe-6bf9-4b7c-b349-3bbe987dd085",
   "metadata": {},
   "outputs": [
    {
     "data": {
      "text/plain": [
       "<tf.Tensor: shape=(2,), dtype=complex64, numpy=array([0.70710677+0.j, 0.70710677+0.j], dtype=complex64)>"
      ]
     },
     "execution_count": 19,
     "metadata": {},
     "output_type": "execute_result"
    }
   ],
   "source": [
    "tf.tensordot(Hsingle,qubit0,axes=1)"
   ]
  },
  {
   "cell_type": "markdown",
   "id": "634f51fb-d2f9-4a21-bc59-12ee9fe92386",
   "metadata": {},
   "source": [
    "Compute $\\hat{\\rm Z}\\hat{\\rm H}|0\\rangle$"
   ]
  },
  {
   "cell_type": "code",
   "execution_count": 20,
   "id": "3ba5f265-50e8-4416-a8df-3c3a709e9fae",
   "metadata": {},
   "outputs": [],
   "source": [
    "ZH0=tf.tensordot(Zsingle,tf.tensordot(Hsingle,qubit0,axes=1),axes=1)"
   ]
  },
  {
   "cell_type": "code",
   "execution_count": 21,
   "id": "462e845b-3c3e-4d26-b949-c10bd8d272fd",
   "metadata": {},
   "outputs": [
    {
     "name": "stdout",
     "output_type": "stream",
     "text": [
      "tf.Tensor([ 0.70710677+0.j -0.70710677+0.j], shape=(2,), dtype=complex64)\n"
     ]
    }
   ],
   "source": [
    "print(ZH0)"
   ]
  },
  {
   "cell_type": "code",
   "execution_count": 22,
   "id": "3129b523-7e29-48bd-a7b7-d89647a26a57",
   "metadata": {},
   "outputs": [
    {
     "data": {
      "text/plain": [
       "<tf.Tensor: shape=(), dtype=complex64, numpy=(0.99999994+0j)>"
      ]
     },
     "execution_count": 22,
     "metadata": {},
     "output_type": "execute_result"
    }
   ],
   "source": [
    "Scalar(ZH0,ZH0)"
   ]
  },
  {
   "cell_type": "markdown",
   "id": "ee0b9eb7-bfc1-4855-8ae7-19562d166101",
   "metadata": {},
   "source": [
    "# Operator Exponent of Z"
   ]
  },
  {
   "cell_type": "code",
   "execution_count": 23,
   "id": "885ee318-f66e-4bcb-bd6a-ab526ebfd2eb",
   "metadata": {},
   "outputs": [],
   "source": [
    "@tf.function\n",
    "def EZ(theta):\n",
    "    \"\"\" return exp(1j theta Z) \"\"\"\n",
    "    ct = tf.cast(tf.math.cos(theta), dtype=mytype)\n",
    "    st = tf.cast(tf.math.sin(theta), dtype=mytype)\n",
    "    EZS = ct*Isingle+1j*st*Zsingle\n",
    "    return EZS"
   ]
  },
  {
   "cell_type": "markdown",
   "id": "9a35782c-5bc8-4b85-b378-0daeb38363cd",
   "metadata": {},
   "source": [
    "Test"
   ]
  },
  {
   "cell_type": "code",
   "execution_count": 24,
   "id": "b8aee3d2-73db-404f-8de1-8eae54a6a7d9",
   "metadata": {},
   "outputs": [
    {
     "data": {
      "text/plain": [
       "<tf.Tensor: shape=(2,), dtype=complex64, numpy=array([-1.-8.742278e-08j,  0.+0.000000e+00j], dtype=complex64)>"
      ]
     },
     "execution_count": 24,
     "metadata": {},
     "output_type": "execute_result"
    }
   ],
   "source": [
    "tf.tensordot(EZ(np.pi),qubit0,axes=1)"
   ]
  },
  {
   "cell_type": "code",
   "execution_count": 25,
   "id": "ecfe57a6-3168-4df5-81f4-e3b5a39e8b7c",
   "metadata": {},
   "outputs": [
    {
     "data": {
      "text/plain": [
       "<tf.Tensor: shape=(2,), dtype=complex64, numpy=array([-4.371139e-08+1.j,  0.000000e+00+0.j], dtype=complex64)>"
      ]
     },
     "execution_count": 25,
     "metadata": {},
     "output_type": "execute_result"
    }
   ],
   "source": [
    "tf.tensordot(EZ(np.pi/2),qubit0,axes=1)"
   ]
  },
  {
   "cell_type": "code",
   "execution_count": 26,
   "id": "e44d64b2-c1c7-4ac3-8f8a-c8f72e2c0294",
   "metadata": {},
   "outputs": [
    {
     "data": {
      "text/plain": [
       "<tf.Tensor: shape=(2,), dtype=complex64, numpy=array([ 0.000000e+00+0.j, -4.371139e-08-1.j], dtype=complex64)>"
      ]
     },
     "execution_count": 26,
     "metadata": {},
     "output_type": "execute_result"
    }
   ],
   "source": [
    "tf.tensordot(EZ(np.pi/2),qubit1,axes=1)"
   ]
  },
  {
   "cell_type": "markdown",
   "id": "f264fad0-becd-42ce-866f-f70e52e887f1",
   "metadata": {},
   "source": [
    "# Define X gate "
   ]
  },
  {
   "cell_type": "markdown",
   "id": "3103182e-001a-4c3f-be3b-d28e308259f9",
   "metadata": {},
   "source": [
    "## X gate for the single qbit"
   ]
  },
  {
   "cell_type": "code",
   "execution_count": 27,
   "id": "33fa5f65-dacb-441a-94b2-f78953276a01",
   "metadata": {},
   "outputs": [
    {
     "name": "stdout",
     "output_type": "stream",
     "text": [
      "tf.Tensor(\n",
      "[[ 1.+0.j  0.+0.j]\n",
      " [ 0.+0.j -1.+0.j]], shape=(2, 2), dtype=complex64)\n"
     ]
    }
   ],
   "source": [
    "Xsingle =tf.constant([[0, 1],[1, 0]],dtype=mytype)\n",
    "print(Zsingle)"
   ]
  },
  {
   "cell_type": "markdown",
   "id": "c1adb3db-3463-4026-a671-84ecdc15b30c",
   "metadata": {},
   "source": [
    "## Exponent of the X gate"
   ]
  },
  {
   "cell_type": "code",
   "execution_count": 28,
   "id": "96013d70-2e1b-4160-a6ba-2768a287a0e9",
   "metadata": {},
   "outputs": [],
   "source": [
    "thetaX=tf.Variable(0.3,dtype=tf.float32)"
   ]
  },
  {
   "cell_type": "code",
   "execution_count": 29,
   "id": "fbe97dc1-52c1-4671-b00c-796f1f4fb035",
   "metadata": {},
   "outputs": [],
   "source": [
    "EthetaXsingle=tf.cast(tf.math.cos(thetaX),dtype=tf.complex64)*Isingle+1j*tf.cast(tf.math.sin(thetaX), dtype=tf.complex64)*Xsingle"
   ]
  },
  {
   "cell_type": "markdown",
   "id": "a37ae37c-23ef-4ef3-933d-8bedaf8c86f2",
   "metadata": {},
   "source": [
    "# Define Y gate "
   ]
  },
  {
   "cell_type": "markdown",
   "id": "964ffcb9-bad6-4e28-89f9-d3a65ecab59a",
   "metadata": {},
   "source": [
    "## Y gate for the single qbit"
   ]
  },
  {
   "cell_type": "code",
   "execution_count": 30,
   "id": "b0beb89e-50ec-4801-ade1-ee551bb6dde8",
   "metadata": {},
   "outputs": [],
   "source": [
    "Y_np=np.array([[0.0, complex(0,-1)],[complex(0,1), 0.0]],dtype=np.complex64)"
   ]
  },
  {
   "cell_type": "code",
   "execution_count": 31,
   "id": "b676045b-a54d-4821-b322-22189d71fcf4",
   "metadata": {},
   "outputs": [
    {
     "data": {
      "text/plain": [
       "array([[0.+0.j, 0.-1.j],\n",
       "       [0.+1.j, 0.+0.j]], dtype=complex64)"
      ]
     },
     "execution_count": 31,
     "metadata": {},
     "output_type": "execute_result"
    }
   ],
   "source": [
    "Y_np"
   ]
  },
  {
   "cell_type": "code",
   "execution_count": 32,
   "id": "dc430721-9937-4546-a564-5d0bc15623a8",
   "metadata": {},
   "outputs": [
    {
     "name": "stdout",
     "output_type": "stream",
     "text": [
      "tf.Tensor(\n",
      "[[0.+0.j 0.-1.j]\n",
      " [0.+1.j 0.+0.j]], shape=(2, 2), dtype=complex64)\n"
     ]
    }
   ],
   "source": [
    "Ysingle =tf.constant(Y_np,dtype=mytype)\n",
    "print(Ysingle)"
   ]
  },
  {
   "cell_type": "markdown",
   "id": "01c65d56-cc1c-4305-af6d-4355b11348c7",
   "metadata": {},
   "source": [
    "## Exponent of the Y gate"
   ]
  },
  {
   "cell_type": "code",
   "execution_count": 33,
   "id": "a4a2befa-2c00-4bf6-88d2-ae73df2cf7d3",
   "metadata": {},
   "outputs": [],
   "source": [
    "thetaY=tf.Variable(-0.7,dtype=tf.float32)"
   ]
  },
  {
   "cell_type": "code",
   "execution_count": 34,
   "id": "3f509777-b369-4d99-a0c0-c40fd82e2c16",
   "metadata": {},
   "outputs": [],
   "source": [
    "EthetaYsingle=tf.cast(tf.math.cos(thetaY),dtype=tf.complex64)*Isingle+1j*tf.cast(tf.math.sin(thetaY), dtype=tf.complex64)*Ysingle"
   ]
  },
  {
   "cell_type": "markdown",
   "id": "fad77251-0f22-4c0a-ba22-8dc3fff72698",
   "metadata": {},
   "source": [
    "# Two qubits"
   ]
  },
  {
   "cell_type": "markdown",
   "id": "6b550c72-8c49-4503-86a8-6108572e92f2",
   "metadata": {},
   "source": [
    "Define $|0\\rangle \\otimes |0 \\rangle$"
   ]
  },
  {
   "cell_type": "code",
   "execution_count": 35,
   "id": "427a16ad-3578-45a6-8efb-cc5413aeb0c0",
   "metadata": {},
   "outputs": [
    {
     "name": "stdout",
     "output_type": "stream",
     "text": [
      "tf.Tensor(\n",
      "[[1.+0.j 0.+0.j]\n",
      " [0.+0.j 0.+0.j]], shape=(2, 2), dtype=complex64)\n"
     ]
    }
   ],
   "source": [
    "q00 = tf.tensordot(qubit0,qubit0,axes=0);\n",
    "print(q00)"
   ]
  },
  {
   "cell_type": "markdown",
   "id": "3cae6db6-71be-464b-a977-060bc75f99f1",
   "metadata": {},
   "source": [
    "Define $|0\\rangle \\otimes |1 \\rangle$"
   ]
  },
  {
   "cell_type": "code",
   "execution_count": 36,
   "id": "ada81fcc-e886-4983-aa59-38b84b899e02",
   "metadata": {},
   "outputs": [
    {
     "name": "stdout",
     "output_type": "stream",
     "text": [
      "tf.Tensor(\n",
      "[[0.+0.j 1.+0.j]\n",
      " [0.+0.j 0.+0.j]], shape=(2, 2), dtype=complex64)\n"
     ]
    }
   ],
   "source": [
    "q01 = tf.tensordot(qubit0,qubit1,axes=0);\n",
    "print(q01)"
   ]
  },
  {
   "cell_type": "markdown",
   "id": "fa516413-8526-4009-8c57-48d55838cd08",
   "metadata": {},
   "source": [
    "Define $|1\\rangle \\otimes |0 \\rangle$"
   ]
  },
  {
   "cell_type": "code",
   "execution_count": 37,
   "id": "ee48c55d-4616-4a0a-ba66-822c3c42d81f",
   "metadata": {},
   "outputs": [
    {
     "name": "stdout",
     "output_type": "stream",
     "text": [
      "tf.Tensor(\n",
      "[[0.+0.j 0.+0.j]\n",
      " [1.+0.j 0.+0.j]], shape=(2, 2), dtype=complex64)\n"
     ]
    }
   ],
   "source": [
    "q10 = tf.tensordot(qubit1,qubit0,axes=0);\n",
    "print(q10)"
   ]
  },
  {
   "cell_type": "markdown",
   "id": "51b63043-6a4a-4d3f-aafb-b37d07c1f723",
   "metadata": {},
   "source": [
    "Define $|1\\rangle \\otimes |1 \\rangle$"
   ]
  },
  {
   "cell_type": "code",
   "execution_count": 38,
   "id": "2ef375fa-b209-4f0e-af36-88c9eaf6f62e",
   "metadata": {},
   "outputs": [
    {
     "name": "stdout",
     "output_type": "stream",
     "text": [
      "tf.Tensor(\n",
      "[[0.+0.j 0.+0.j]\n",
      " [0.+0.j 1.+0.j]], shape=(2, 2), dtype=complex64)\n"
     ]
    }
   ],
   "source": [
    "q11 = tf.tensordot(qubit1,qubit1,axes=0);\n",
    "print(q11)"
   ]
  },
  {
   "cell_type": "markdown",
   "id": "8824a013-a6f5-4536-8112-c3f19a2c5a60",
   "metadata": {},
   "source": [
    "Linear combinations (not normalized)"
   ]
  },
  {
   "cell_type": "code",
   "execution_count": 39,
   "id": "5e570807-1878-4e3b-bfd8-0f17ad9c1ae4",
   "metadata": {},
   "outputs": [
    {
     "data": {
      "text/plain": [
       "<tf.Tensor: shape=(2, 2), dtype=complex64, numpy=\n",
       "array([[0.+0.j, 1.+0.j],\n",
       "       [1.+0.j, 0.+0.j]], dtype=complex64)>"
      ]
     },
     "execution_count": 39,
     "metadata": {},
     "output_type": "execute_result"
    }
   ],
   "source": [
    "q01+q10"
   ]
  },
  {
   "cell_type": "code",
   "execution_count": 40,
   "id": "b8383c9c-e18f-48f7-a47a-6ed5fc8cdac2",
   "metadata": {},
   "outputs": [
    {
     "data": {
      "text/plain": [
       "<tf.Tensor: shape=(2, 2), dtype=complex64, numpy=\n",
       "array([[1.+0.j, 0.+0.j],\n",
       "       [0.+0.j, 0.+3.j]], dtype=complex64)>"
      ]
     },
     "execution_count": 40,
     "metadata": {},
     "output_type": "execute_result"
    }
   ],
   "source": [
    "q00+3j*q11"
   ]
  },
  {
   "cell_type": "markdown",
   "id": "d45a6b68-0a9a-4b5e-af55-fa8ede8b978e",
   "metadata": {},
   "source": [
    "# Define the Hadamard Gate"
   ]
  },
  {
   "cell_type": "markdown",
   "id": "aa8ea344-e491-460c-89e9-7c915e198ed7",
   "metadata": {},
   "source": [
    "## Hadamard Gate for two qubits as an outer tensor product"
   ]
  },
  {
   "cell_type": "code",
   "execution_count": 41,
   "id": "9eac073b-cc2d-4eea-a14b-5a382ca637bb",
   "metadata": {},
   "outputs": [
    {
     "name": "stdout",
     "output_type": "stream",
     "text": [
      "tf.Tensor(\n",
      "[[[[ 0.49999997+0.j  0.49999997+0.j]\n",
      "   [ 0.49999997+0.j -0.49999997+0.j]]\n",
      "\n",
      "  [[ 0.49999997+0.j  0.49999997+0.j]\n",
      "   [ 0.49999997+0.j -0.49999997+0.j]]]\n",
      "\n",
      "\n",
      " [[[ 0.49999997+0.j  0.49999997+0.j]\n",
      "   [ 0.49999997+0.j -0.49999997+0.j]]\n",
      "\n",
      "  [[-0.49999997+0.j -0.49999997+0.j]\n",
      "   [-0.49999997+0.j  0.49999997+0.j]]]], shape=(2, 2, 2, 2), dtype=complex64)\n"
     ]
    }
   ],
   "source": [
    "HH=tf.tensordot(Hsingle,Hsingle,axes=0)\n",
    "print(HH)"
   ]
  },
  {
   "cell_type": "markdown",
   "id": "95fd2418-cb64-4a49-a306-c81ed446ab62",
   "metadata": {},
   "source": [
    "## Apply the Hadamard gate to $|00\\rangle$"
   ]
  },
  {
   "cell_type": "code",
   "execution_count": 42,
   "id": "38ce3fe5-0765-48cd-9089-6fdd6392d0e1",
   "metadata": {},
   "outputs": [
    {
     "data": {
      "text/plain": [
       "(<tf.Tensor: shape=(2, 2), dtype=complex64, numpy=\n",
       " array([[0.49999997+0.j, 0.49999997+0.j],\n",
       "        [0.49999997+0.j, 0.49999997+0.j]], dtype=complex64)>,)"
      ]
     },
     "execution_count": 42,
     "metadata": {},
     "output_type": "execute_result"
    }
   ],
   "source": [
    "tf.tensordot(HH,q00, axes=[[1,3],[0, 1]]),"
   ]
  },
  {
   "cell_type": "markdown",
   "id": "58b77a67-e9c3-4e0e-955d-cd697f6c4809",
   "metadata": {},
   "source": [
    "# Define a function for applying a gate"
   ]
  },
  {
   "cell_type": "code",
   "execution_count": 43,
   "id": "f1d95d26-5081-4622-b744-37fa41607326",
   "metadata": {},
   "outputs": [],
   "source": [
    "@tf.function\n",
    "def gate(A,psi):\n",
    "    \"\"\" A tf.function for applying a gate to a state \"\"\"\n",
    "    return tf.tensordot(A,psi, axes=[[1,3],[0,1]])"
   ]
  },
  {
   "cell_type": "markdown",
   "id": "feb632ac-7f4f-48ca-936c-df29d7d2346f",
   "metadata": {},
   "source": [
    "### Apply the H gate on the $|00\\rangle$ and store the resulting state"
   ]
  },
  {
   "cell_type": "code",
   "execution_count": 44,
   "id": "0956bbaf-4d78-4c3e-ad36-a856fd7caaae",
   "metadata": {},
   "outputs": [],
   "source": [
    "Hq00=gate(HH,q00)"
   ]
  },
  {
   "cell_type": "code",
   "execution_count": 45,
   "id": "2087d3f1-dece-4861-84a9-9325ec1e1f88",
   "metadata": {},
   "outputs": [
    {
     "name": "stdout",
     "output_type": "stream",
     "text": [
      "tf.Tensor(\n",
      "[[0.49999997+0.j 0.49999997+0.j]\n",
      " [0.49999997+0.j 0.49999997+0.j]], shape=(2, 2), dtype=complex64)\n"
     ]
    }
   ],
   "source": [
    "print(Hq00)"
   ]
  },
  {
   "cell_type": "markdown",
   "id": "e223aaef-03d3-4dd1-a09c-c9a96a4e6cfa",
   "metadata": {},
   "source": [
    "# CNOT gate"
   ]
  },
  {
   "cell_type": "code",
   "execution_count": 46,
   "id": "87520788-a5bc-4644-91fe-881c7d7e7623",
   "metadata": {},
   "outputs": [],
   "source": [
    "CNOT_np=np.zeros((2,2,2,2))\n",
    "CNOT_np[0,0,0,0]=1\n",
    "CNOT_np[0,0,1,1]=1\n",
    "CNOT_np[1,1,0,1]=1\n",
    "CNOT_np[1,1,1,0]=1"
   ]
  },
  {
   "cell_type": "code",
   "execution_count": 47,
   "id": "a796bfa7-9876-4aef-b21f-923a1eb1c188",
   "metadata": {},
   "outputs": [],
   "source": [
    "CNOT = tf.constant(CNOT_np,dtype=tf.complex64)"
   ]
  },
  {
   "cell_type": "code",
   "execution_count": 48,
   "id": "74ac052b-2791-4d05-bb35-a9f8b65fab0c",
   "metadata": {},
   "outputs": [
    {
     "data": {
      "text/plain": [
       "<tf.Tensor: shape=(2, 2, 2, 2), dtype=complex64, numpy=\n",
       "array([[[[1.+0.j, 0.+0.j],\n",
       "         [0.+0.j, 1.+0.j]],\n",
       "\n",
       "        [[0.+0.j, 0.+0.j],\n",
       "         [0.+0.j, 0.+0.j]]],\n",
       "\n",
       "\n",
       "       [[[0.+0.j, 0.+0.j],\n",
       "         [0.+0.j, 0.+0.j]],\n",
       "\n",
       "        [[0.+0.j, 1.+0.j],\n",
       "         [1.+0.j, 0.+0.j]]]], dtype=complex64)>"
      ]
     },
     "execution_count": 48,
     "metadata": {},
     "output_type": "execute_result"
    }
   ],
   "source": [
    "CNOT"
   ]
  },
  {
   "cell_type": "code",
   "execution_count": 49,
   "id": "acd0f3e4-143e-4091-b7da-230236005536",
   "metadata": {},
   "outputs": [
    {
     "data": {
      "text/plain": [
       "<tf.Tensor: shape=(2, 2, 2, 2), dtype=complex64, numpy=\n",
       "array([[[[1.+0.j, 0.+0.j],\n",
       "         [0.+0.j, 0.+0.j]],\n",
       "\n",
       "        [[0.+0.j, 1.+0.j],\n",
       "         [0.+0.j, 0.+0.j]]],\n",
       "\n",
       "\n",
       "       [[[0.+0.j, 0.+0.j],\n",
       "         [0.+0.j, 1.+0.j]],\n",
       "\n",
       "        [[0.+0.j, 0.+0.j],\n",
       "         [1.+0.j, 0.+0.j]]]], dtype=complex64)>"
      ]
     },
     "execution_count": 49,
     "metadata": {},
     "output_type": "execute_result"
    }
   ],
   "source": [
    "tf.transpose(CNOT,perm=[1,3,0,2])"
   ]
  },
  {
   "cell_type": "code",
   "execution_count": 50,
   "id": "283bb569-8128-485d-904b-17ed8f47a475",
   "metadata": {},
   "outputs": [
    {
     "name": "stdout",
     "output_type": "stream",
     "text": [
      "tf.Tensor(\n",
      "[[1.+0.j 0.+0.j 0.+0.j 1.+0.j]\n",
      " [0.+0.j 0.+0.j 0.+0.j 0.+0.j]\n",
      " [0.+0.j 0.+0.j 0.+0.j 0.+0.j]\n",
      " [0.+0.j 1.+0.j 1.+0.j 0.+0.j]], shape=(4, 4), dtype=complex64)\n"
     ]
    }
   ],
   "source": [
    "print(tf.reshape(CNOT,(4,4)))"
   ]
  },
  {
   "cell_type": "code",
   "execution_count": 51,
   "id": "615554b1-2821-4fca-a122-b30e8a05ea81",
   "metadata": {},
   "outputs": [
    {
     "name": "stdout",
     "output_type": "stream",
     "text": [
      "tf.Tensor(\n",
      "[[1.+0.j 0.+0.j 0.+0.j 0.+0.j]\n",
      " [0.+0.j 1.+0.j 0.+0.j 0.+0.j]\n",
      " [0.+0.j 0.+0.j 0.+0.j 1.+0.j]\n",
      " [0.+0.j 0.+0.j 1.+0.j 0.+0.j]], shape=(4, 4), dtype=complex64)\n"
     ]
    }
   ],
   "source": [
    "print(tf.reshape(tf.transpose(CNOT,perm=[1,3,0,2]),(4,4)))"
   ]
  },
  {
   "cell_type": "markdown",
   "id": "8d88bbf4-4fc4-41ad-a902-94bbe374a3b2",
   "metadata": {},
   "source": [
    "Reshape does not cust in the proper way, need to transpose some column first"
   ]
  },
  {
   "cell_type": "code",
   "execution_count": 52,
   "id": "be06d265-4881-42cf-86c9-aa4dbd53f346",
   "metadata": {},
   "outputs": [],
   "source": [
    "@tf.function\n",
    "def transform(A):\n",
    "    \"\"\" reshape an operator as 4x4 \"\"\"\n",
    "    return (tf.reshape(tf.transpose(A,perm=[1,3,0,2]),(4,4)))"
   ]
  },
  {
   "cell_type": "code",
   "execution_count": 53,
   "id": "7b4c08e8-4164-48e9-b1c2-4447b3eb9661",
   "metadata": {},
   "outputs": [
    {
     "name": "stdout",
     "output_type": "stream",
     "text": [
      "tf.Tensor(\n",
      "[[1.+0.j 0.+0.j 0.+0.j 0.+0.j]\n",
      " [0.+0.j 1.+0.j 0.+0.j 0.+0.j]\n",
      " [0.+0.j 0.+0.j 0.+0.j 1.+0.j]\n",
      " [0.+0.j 0.+0.j 1.+0.j 0.+0.j]], shape=(4, 4), dtype=complex64)\n"
     ]
    }
   ],
   "source": [
    "print(transform(CNOT))"
   ]
  },
  {
   "cell_type": "markdown",
   "id": "4e852697-9fee-410f-bf33-c6dd4ce8bb08",
   "metadata": {},
   "source": [
    "## Test CNOT"
   ]
  },
  {
   "cell_type": "code",
   "execution_count": 54,
   "id": "c16d502e-2cc1-4b5b-ad74-66628bc43104",
   "metadata": {},
   "outputs": [
    {
     "data": {
      "text/plain": [
       "<tf.Tensor: shape=(2, 2), dtype=complex64, numpy=\n",
       "array([[1.+0.j, 0.+0.j],\n",
       "       [0.+0.j, 0.+0.j]], dtype=complex64)>"
      ]
     },
     "execution_count": 54,
     "metadata": {},
     "output_type": "execute_result"
    }
   ],
   "source": [
    "gate(CNOT, q00)"
   ]
  },
  {
   "cell_type": "code",
   "execution_count": 55,
   "id": "d81395da-e906-4b75-9845-d758fe649ada",
   "metadata": {},
   "outputs": [
    {
     "data": {
      "text/plain": [
       "<tf.Tensor: shape=(2, 2), dtype=complex64, numpy=\n",
       "array([[0.+0.j, 0.+0.j],\n",
       "       [1.+0.j, 0.+0.j]], dtype=complex64)>"
      ]
     },
     "execution_count": 55,
     "metadata": {},
     "output_type": "execute_result"
    }
   ],
   "source": [
    "gate(CNOT, q11)"
   ]
  },
  {
   "cell_type": "code",
   "execution_count": 56,
   "id": "662194f0-a0e4-4b2d-bef0-f80455ad01b8",
   "metadata": {},
   "outputs": [
    {
     "data": {
      "text/plain": [
       "<tf.Tensor: shape=(2, 2), dtype=complex64, numpy=\n",
       "array([[0.+0.j, 1.+0.j],\n",
       "       [0.+0.j, 1.+0.j]], dtype=complex64)>"
      ]
     },
     "execution_count": 56,
     "metadata": {},
     "output_type": "execute_result"
    }
   ],
   "source": [
    "gate(CNOT,q01+q10)"
   ]
  },
  {
   "cell_type": "code",
   "execution_count": 57,
   "id": "59a60a44-f359-4e5a-999c-e1891b7cb32f",
   "metadata": {},
   "outputs": [
    {
     "data": {
      "text/plain": [
       "<tf.Tensor: shape=(2, 2), dtype=complex64, numpy=\n",
       "array([[0.9999999+0.j, 0.       +0.j],\n",
       "       [0.       +0.j, 0.       +0.j]], dtype=complex64)>"
      ]
     },
     "execution_count": 57,
     "metadata": {},
     "output_type": "execute_result"
    }
   ],
   "source": [
    "gate(HH, Hq00)"
   ]
  },
  {
   "cell_type": "markdown",
   "id": "8774f887-1762-45c4-bab1-987fdb751c3b",
   "metadata": {},
   "source": [
    "# Define the two-qubit gates with Z"
   ]
  },
  {
   "cell_type": "markdown",
   "id": "ba5b350c-38a1-4d61-9a9d-4292a0432512",
   "metadata": {},
   "source": [
    "## $Z_0\\otimes Z_1$ gate as a tensor product"
   ]
  },
  {
   "cell_type": "code",
   "execution_count": 58,
   "id": "66df907f-a8ef-435d-9757-8b83e3584fd4",
   "metadata": {},
   "outputs": [
    {
     "name": "stdout",
     "output_type": "stream",
     "text": [
      "tf.Tensor(\n",
      "[[[[ 1.+0.j  0.+0.j]\n",
      "   [ 0.+0.j -1.+0.j]]\n",
      "\n",
      "  [[ 0.+0.j  0.+0.j]\n",
      "   [ 0.+0.j  0.+0.j]]]\n",
      "\n",
      "\n",
      " [[[ 0.+0.j  0.+0.j]\n",
      "   [ 0.+0.j  0.+0.j]]\n",
      "\n",
      "  [[-1.+0.j  0.+0.j]\n",
      "   [ 0.+0.j  1.+0.j]]]], shape=(2, 2, 2, 2), dtype=complex64)\n"
     ]
    }
   ],
   "source": [
    "ZZ = tf.tensordot(Zsingle,Zsingle,axes=0)\n",
    "print(ZZ)"
   ]
  },
  {
   "cell_type": "markdown",
   "id": "61cc73f3-d775-4504-9bf1-48c8ba9ffe92",
   "metadata": {},
   "source": [
    "## Operator $Z_0\\otimes I_1$ ( Z on first qubit)"
   ]
  },
  {
   "cell_type": "code",
   "execution_count": 59,
   "id": "2be78cd7-771b-4e33-bf0c-a07af3be7e4f",
   "metadata": {},
   "outputs": [
    {
     "name": "stdout",
     "output_type": "stream",
     "text": [
      "tf.Tensor(\n",
      "[[[[ 1.+0.j  0.+0.j]\n",
      "   [ 0.+0.j  1.+0.j]]\n",
      "\n",
      "  [[ 0.+0.j  0.+0.j]\n",
      "   [ 0.+0.j  0.+0.j]]]\n",
      "\n",
      "\n",
      " [[[ 0.+0.j  0.+0.j]\n",
      "   [ 0.+0.j  0.+0.j]]\n",
      "\n",
      "  [[-1.+0.j  0.+0.j]\n",
      "   [ 0.+0.j -1.+0.j]]]], shape=(2, 2, 2, 2), dtype=complex64)\n"
     ]
    }
   ],
   "source": [
    "Z0 = tf.tensordot(Zsingle, Isingle,axes=0)\n",
    "print(Z0)"
   ]
  },
  {
   "cell_type": "markdown",
   "id": "0a1123f4-d1d9-427f-96b2-a95c1212fde8",
   "metadata": {},
   "source": [
    "## Operator $I_0\\otimes Z_1$ (Z on the second qbuit)"
   ]
  },
  {
   "cell_type": "code",
   "execution_count": 60,
   "id": "d17eb5fa-ec9a-4471-b059-a4ccadb3035e",
   "metadata": {},
   "outputs": [
    {
     "name": "stdout",
     "output_type": "stream",
     "text": [
      "tf.Tensor(\n",
      "[[[[ 1.+0.j  0.+0.j]\n",
      "   [ 0.+0.j -1.+0.j]]\n",
      "\n",
      "  [[ 0.+0.j  0.+0.j]\n",
      "   [ 0.+0.j  0.+0.j]]]\n",
      "\n",
      "\n",
      " [[[ 0.+0.j  0.+0.j]\n",
      "   [ 0.+0.j  0.+0.j]]\n",
      "\n",
      "  [[ 1.+0.j  0.+0.j]\n",
      "   [ 0.+0.j -1.+0.j]]]], shape=(2, 2, 2, 2), dtype=complex64)\n"
     ]
    }
   ],
   "source": [
    "Z1 = tf.tensordot(Isingle, Zsingle,axes=0)\n",
    "print(Z1)"
   ]
  },
  {
   "cell_type": "markdown",
   "id": "22af7222-2832-4bb4-a7dd-07afa5ea33d7",
   "metadata": {},
   "source": [
    "**Remark the Z0 and Z1 are different ! the outer tensor product takes into account order in the order of the indices !**"
   ]
  },
  {
   "cell_type": "markdown",
   "id": "1e03a9c2-84a5-4518-905d-50fecb7d930a",
   "metadata": {},
   "source": [
    "## Test Z-gate"
   ]
  },
  {
   "cell_type": "code",
   "execution_count": 61,
   "id": "a48d0634-e414-4da9-abe1-5e36b447884f",
   "metadata": {},
   "outputs": [
    {
     "data": {
      "text/plain": [
       "<tf.Tensor: shape=(2, 2), dtype=complex64, numpy=\n",
       "array([[1.+0.j, 0.+0.j],\n",
       "       [0.+0.j, 0.+0.j]], dtype=complex64)>"
      ]
     },
     "execution_count": 61,
     "metadata": {},
     "output_type": "execute_result"
    }
   ],
   "source": [
    "gate(Z0,q00)"
   ]
  },
  {
   "cell_type": "code",
   "execution_count": 62,
   "id": "1134a310-7d3b-4c1d-9e61-876e434fd136",
   "metadata": {},
   "outputs": [
    {
     "data": {
      "text/plain": [
       "<tf.Tensor: shape=(2, 2), dtype=complex64, numpy=\n",
       "array([[1.+0.j, 0.+0.j],\n",
       "       [0.+0.j, 0.+0.j]], dtype=complex64)>"
      ]
     },
     "execution_count": 62,
     "metadata": {},
     "output_type": "execute_result"
    }
   ],
   "source": [
    "gate(Z1,q00)"
   ]
  },
  {
   "cell_type": "code",
   "execution_count": 63,
   "id": "2d77493e-f2d2-4456-ba70-c2778453b28d",
   "metadata": {},
   "outputs": [
    {
     "data": {
      "text/plain": [
       "<tf.Tensor: shape=(2, 2), dtype=complex64, numpy=\n",
       "array([[1.+0.j, 0.+0.j],\n",
       "       [0.+0.j, 0.+0.j]], dtype=complex64)>"
      ]
     },
     "execution_count": 63,
     "metadata": {},
     "output_type": "execute_result"
    }
   ],
   "source": [
    "gate(ZZ, q00)"
   ]
  },
  {
   "cell_type": "code",
   "execution_count": 64,
   "id": "3ac16639-2623-414d-89cd-01434d76ee28",
   "metadata": {},
   "outputs": [
    {
     "data": {
      "text/plain": [
       "<tf.Tensor: shape=(2, 2), dtype=complex64, numpy=\n",
       "array([[ 0.49999997+0.j, -0.49999997+0.j],\n",
       "       [-0.49999997+0.j,  0.49999997+0.j]], dtype=complex64)>"
      ]
     },
     "execution_count": 64,
     "metadata": {},
     "output_type": "execute_result"
    }
   ],
   "source": [
    "gate(ZZ, Hq00)"
   ]
  },
  {
   "cell_type": "code",
   "execution_count": 65,
   "id": "e34f0cd0-b457-4b2f-be3b-c308a8abdca0",
   "metadata": {},
   "outputs": [
    {
     "data": {
      "text/plain": [
       "<tf.Tensor: shape=(2, 2), dtype=complex64, numpy=\n",
       "array([[ 0.49999997+0.j,  0.49999997+0.j],\n",
       "       [-0.49999997+0.j, -0.49999997+0.j]], dtype=complex64)>"
      ]
     },
     "execution_count": 65,
     "metadata": {},
     "output_type": "execute_result"
    }
   ],
   "source": [
    "gate(Z0, Hq00)"
   ]
  },
  {
   "cell_type": "code",
   "execution_count": 66,
   "id": "3d854faf-51f7-442c-b296-b7e7db2c33af",
   "metadata": {},
   "outputs": [
    {
     "data": {
      "text/plain": [
       "<tf.Tensor: shape=(2, 2), dtype=complex64, numpy=\n",
       "array([[ 0.49999997+0.j, -0.49999997+0.j],\n",
       "       [ 0.49999997+0.j, -0.49999997+0.j]], dtype=complex64)>"
      ]
     },
     "execution_count": 66,
     "metadata": {},
     "output_type": "execute_result"
    }
   ],
   "source": [
    "gate(Z1, Hq00)"
   ]
  },
  {
   "cell_type": "markdown",
   "id": "558ba833-879d-42ee-8e68-293201fcf74a",
   "metadata": {},
   "source": [
    "# Operator exponent of Z"
   ]
  },
  {
   "cell_type": "markdown",
   "id": "e2d959ca-a493-4724-9227-82d6afeefb8a",
   "metadata": {},
   "source": [
    "## Exponent of Z in a single Q bit  $e^{\\imath \\theta_z Z}$"
   ]
  },
  {
   "cell_type": "code",
   "execution_count": 67,
   "id": "59488894-83bf-4fc8-bb70-d717cb0e23f7",
   "metadata": {},
   "outputs": [
    {
     "name": "stdout",
     "output_type": "stream",
     "text": [
      "tf.Tensor(\n",
      "[[ 0.+1.j  0.+0.j]\n",
      " [ 0.+0.j -0.-1.j]], shape=(2, 2), dtype=complex64)\n"
     ]
    }
   ],
   "source": [
    "Zsingle_complex=tf.constant(1j*Zsingle.numpy(),dtype=tf.complex64)\n",
    "print(Zsingle_complex)"
   ]
  },
  {
   "cell_type": "code",
   "execution_count": 68,
   "id": "ff1fe2ba-b224-407f-ae0e-958b76c53f76",
   "metadata": {},
   "outputs": [],
   "source": [
    "thetaZ=tf.Variable(1.1,dtype=tf.float32)"
   ]
  },
  {
   "cell_type": "markdown",
   "id": "504d587c-d299-4658-b857-75e77f7d15cd",
   "metadata": {},
   "source": [
    "### Use the exponent of matrix function"
   ]
  },
  {
   "cell_type": "code",
   "execution_count": 69,
   "id": "e9bc6a02-a5bf-4257-a05e-cade51d25da2",
   "metadata": {},
   "outputs": [
    {
     "data": {
      "text/plain": [
       "<tf.Tensor: shape=(2, 2), dtype=complex64, numpy=\n",
       "array([[0.45359603+0.89120734j, 0.        +0.j        ],\n",
       "       [0.        +0.j        , 0.45359603-0.89120734j]], dtype=complex64)>"
      ]
     },
     "execution_count": 69,
     "metadata": {},
     "output_type": "execute_result"
    }
   ],
   "source": [
    "tf.linalg.expm(1j*tf.cast(thetaZ, dtype=tf.complex64)*tf.cast(Zsingle,dtype=tf.complex64))"
   ]
  },
  {
   "cell_type": "markdown",
   "id": "fe642bd9-fdf7-4dd8-b2e1-b87bcd01cba0",
   "metadata": {},
   "source": [
    "### Use the identity $e^{\\imath \\theta_Z Z}=cos(\\theta_Z)I+\\imath sin(\\theta_Z)Z$"
   ]
  },
  {
   "cell_type": "code",
   "execution_count": 70,
   "id": "8e153c0f-976f-4649-9e5a-c3b6402ad325",
   "metadata": {},
   "outputs": [],
   "source": [
    "EthetaZsingle=tf.cast(tf.math.cos(thetaZ),dtype=tf.complex64)*Isingle+1j*tf.cast(tf.math.sin(thetaZ), dtype=tf.complex64)*Zsingle"
   ]
  },
  {
   "cell_type": "code",
   "execution_count": 71,
   "id": "dff6c7c9-3fc6-4333-8d6e-a59d3fcc3036",
   "metadata": {},
   "outputs": [
    {
     "name": "stdout",
     "output_type": "stream",
     "text": [
      "tf.Tensor(\n",
      "[[0.4535961+0.8912074j 0.       +0.j       ]\n",
      " [0.       +0.j        0.4535961-0.8912074j]], shape=(2, 2), dtype=complex64)\n"
     ]
    }
   ],
   "source": [
    "print(EthetaZsingle)"
   ]
  },
  {
   "cell_type": "markdown",
   "id": "9ea88603-ce58-4a8f-b7a0-c354c229e9b6",
   "metadata": {},
   "source": [
    "## Exponent of Z0 only $e^{\\imath \\theta_Z Z}\\otimes I$"
   ]
  },
  {
   "cell_type": "code",
   "execution_count": 72,
   "id": "19b1e434-2214-4d5e-8d97-85a82855ba08",
   "metadata": {},
   "outputs": [],
   "source": [
    "expZ0=tf.tensordot(EthetaZsingle, Isingle,axes=0)"
   ]
  },
  {
   "cell_type": "markdown",
   "id": "2f2415cf-ce8f-47a1-97a7-8edfae018fcb",
   "metadata": {},
   "source": [
    "### Test gate"
   ]
  },
  {
   "cell_type": "code",
   "execution_count": 73,
   "id": "7eda2b43-a733-48f5-b979-68ee63300299",
   "metadata": {},
   "outputs": [
    {
     "data": {
      "text/plain": [
       "<tf.Tensor: shape=(2, 2), dtype=complex64, numpy=\n",
       "array([[0.4535961+0.8912074j, 0.       +0.j       ],\n",
       "       [0.       +0.j       , 0.       +0.j       ]], dtype=complex64)>"
      ]
     },
     "execution_count": 73,
     "metadata": {},
     "output_type": "execute_result"
    }
   ],
   "source": [
    "gate(expZ0, q00)"
   ]
  },
  {
   "cell_type": "code",
   "execution_count": 74,
   "id": "fd6c750b-d994-4214-94a3-d86e179dd4f5",
   "metadata": {},
   "outputs": [
    {
     "data": {
      "text/plain": [
       "<tf.Tensor: shape=(2, 2), dtype=complex64, numpy=\n",
       "array([[0.22679803+0.44560367j, 0.22679803+0.44560367j],\n",
       "       [0.22679803-0.44560367j, 0.22679803-0.44560367j]], dtype=complex64)>"
      ]
     },
     "execution_count": 74,
     "metadata": {},
     "output_type": "execute_result"
    }
   ],
   "source": [
    "gate(expZ0, Hq00)"
   ]
  },
  {
   "cell_type": "markdown",
   "id": "e71959dc-c0dd-4380-a3fa-12f05c90e4ef",
   "metadata": {},
   "source": [
    "## Exponent of Z1 only $I\\otimes e^{\\imath \\theta_Z Z}$"
   ]
  },
  {
   "cell_type": "code",
   "execution_count": 75,
   "id": "e631e9d0-c5b9-40a4-b7fa-08bd448b7248",
   "metadata": {},
   "outputs": [],
   "source": [
    "expZ1=tf.tensordot(Isingle, EthetaZsingle,axes=0)"
   ]
  },
  {
   "cell_type": "markdown",
   "id": "6605f655-6bff-409e-b074-e01534536ce1",
   "metadata": {},
   "source": [
    "### Test gate"
   ]
  },
  {
   "cell_type": "code",
   "execution_count": 76,
   "id": "97b901a2-0fa6-4ac3-a29c-dea16048ddfe",
   "metadata": {},
   "outputs": [
    {
     "data": {
      "text/plain": [
       "<tf.Tensor: shape=(2, 2), dtype=complex64, numpy=\n",
       "array([[0.4535961+0.8912074j, 0.       +0.j       ],\n",
       "       [0.       +0.j       , 0.       +0.j       ]], dtype=complex64)>"
      ]
     },
     "execution_count": 76,
     "metadata": {},
     "output_type": "execute_result"
    }
   ],
   "source": [
    "gate(expZ1, q00)"
   ]
  },
  {
   "cell_type": "code",
   "execution_count": 77,
   "id": "838cb603-ba9e-45e4-82d6-a12754d4dcd3",
   "metadata": {},
   "outputs": [
    {
     "data": {
      "text/plain": [
       "<tf.Tensor: shape=(2, 2), dtype=complex64, numpy=\n",
       "array([[0.22679803+0.44560367j, 0.22679803-0.44560367j],\n",
       "       [0.22679803+0.44560367j, 0.22679803-0.44560367j]], dtype=complex64)>"
      ]
     },
     "execution_count": 77,
     "metadata": {},
     "output_type": "execute_result"
    }
   ],
   "source": [
    "gate(expZ1, Hq00)"
   ]
  },
  {
   "cell_type": "markdown",
   "id": "88e809d5-d13a-4873-b64c-5d38e820374a",
   "metadata": {},
   "source": [
    "## Exponent of X0 only $e^{\\imath \\theta_X X}\\otimes I$"
   ]
  },
  {
   "cell_type": "code",
   "execution_count": 78,
   "id": "88e9abbc-f1d9-4087-a5e8-6a136d15eabc",
   "metadata": {},
   "outputs": [],
   "source": [
    "expX0=tf.tensordot(EthetaXsingle, Isingle,axes=0)"
   ]
  },
  {
   "cell_type": "markdown",
   "id": "8eb01c76-eedd-45fd-90d1-d6cc7eca14b8",
   "metadata": {},
   "source": [
    "## Exponent of X1 only $I\\otimes e^{\\imath \\theta_X X}$"
   ]
  },
  {
   "cell_type": "code",
   "execution_count": 79,
   "id": "73d7946f-fce0-4b63-bb9a-fddbdbb91855",
   "metadata": {},
   "outputs": [],
   "source": [
    "expX1=tf.tensordot(Isingle, EthetaXsingle,axes=0)"
   ]
  },
  {
   "cell_type": "markdown",
   "id": "35400b90-e95c-4298-95b3-eaaf0c56c3b2",
   "metadata": {},
   "source": [
    "## Exponent of Y0 only $e^{\\imath \\theta_Y Y}\\otimes I$"
   ]
  },
  {
   "cell_type": "code",
   "execution_count": 80,
   "id": "ec1c524b-0cb9-4432-aed7-ea17c95e125f",
   "metadata": {},
   "outputs": [],
   "source": [
    "expY0=tf.tensordot(EthetaYsingle, Isingle,axes=0)"
   ]
  },
  {
   "cell_type": "markdown",
   "id": "363e0335-5d99-4764-ad0f-da79db9cb5d3",
   "metadata": {},
   "source": [
    "## Exponent of X1 only $I\\otimes e^{\\imath \\theta_Y Y}$"
   ]
  },
  {
   "cell_type": "code",
   "execution_count": 81,
   "id": "a22cc4f1-34cc-4e78-8acb-9a2aeee6846f",
   "metadata": {},
   "outputs": [],
   "source": [
    "expY1=tf.tensordot(Isingle, EthetaYsingle,axes=0)"
   ]
  },
  {
   "cell_type": "markdown",
   "id": "35d80540-ac83-4d1b-b28c-7f86ce3c41ae",
   "metadata": {},
   "source": [
    "## Exponent of ZZ $e^{\\imath \\theta_{01} Z_0\\otimes Z_1}$"
   ]
  },
  {
   "cell_type": "code",
   "execution_count": 82,
   "id": "8306ffa5-9c87-4c25-a78f-9834c84ba9b3",
   "metadata": {},
   "outputs": [
    {
     "data": {
      "text/plain": [
       "<tf.Tensor: shape=(2, 2, 2, 2), dtype=complex64, numpy=\n",
       "array([[[[1.+0.j, 0.+0.j],\n",
       "         [0.+0.j, 1.+0.j]],\n",
       "\n",
       "        [[0.+0.j, 0.+0.j],\n",
       "         [0.+0.j, 0.+0.j]]],\n",
       "\n",
       "\n",
       "       [[[0.+0.j, 0.+0.j],\n",
       "         [0.+0.j, 0.+0.j]],\n",
       "\n",
       "        [[1.+0.j, 0.+0.j],\n",
       "         [0.+0.j, 1.+0.j]]]], dtype=complex64)>"
      ]
     },
     "execution_count": 82,
     "metadata": {},
     "output_type": "execute_result"
    }
   ],
   "source": [
    "II = tf.tensordot(Isingle, Isingle, axes=0)\n",
    "II"
   ]
  },
  {
   "cell_type": "code",
   "execution_count": 83,
   "id": "8f2444bf-3fa6-483d-a690-39bb7629250a",
   "metadata": {},
   "outputs": [],
   "source": [
    "theta01=tf.Variable(1.1, dtype=tf.float32)"
   ]
  },
  {
   "cell_type": "code",
   "execution_count": 84,
   "id": "72fb2b76-4ae9-48b5-b167-b833a8b74db5",
   "metadata": {},
   "outputs": [],
   "source": [
    "expZ0Z1 = tf.cast(tf.math.cos(theta01),dtype=mytype)*II+1j*ZZ*tf.cast(tf.math.sin(theta01),dtype=mytype)"
   ]
  },
  {
   "cell_type": "code",
   "execution_count": 85,
   "id": "0b1e4ce2-4953-4b3c-8f79-668f8f96afb8",
   "metadata": {},
   "outputs": [
    {
     "name": "stdout",
     "output_type": "stream",
     "text": [
      "tf.Tensor(\n",
      "[[0.4535961+0.8912074j 0.       +0.j        0.       +0.j\n",
      "  0.       +0.j       ]\n",
      " [0.       +0.j        0.4535961-0.8912074j 0.       +0.j\n",
      "  0.       +0.j       ]\n",
      " [0.       +0.j        0.       +0.j        0.4535961-0.8912074j\n",
      "  0.       +0.j       ]\n",
      " [0.       +0.j        0.       +0.j        0.       +0.j\n",
      "  0.4535961+0.8912074j]], shape=(4, 4), dtype=complex64)\n"
     ]
    }
   ],
   "source": [
    "print(transform(expZ0Z1))"
   ]
  },
  {
   "cell_type": "code",
   "execution_count": 86,
   "id": "9e41acaa-89d7-4529-8943-74330a72314b",
   "metadata": {},
   "outputs": [
    {
     "name": "stdout",
     "output_type": "stream",
     "text": [
      "+0.5+0.9i +0.0+0.0i +0.0+0.0i +0.0+0.0i \n",
      "+0.0+0.0i +0.5-0.9i +0.0+0.0i +0.0+0.0i \n",
      "+0.0+0.0i +0.0+0.0i +0.5-0.9i +0.0+0.0i \n",
      "+0.0+0.0i +0.0+0.0i +0.0+0.0i +0.5+0.9i \n"
     ]
    }
   ],
   "source": [
    "u.printonscreen(transform(expZ0Z1))"
   ]
  },
  {
   "cell_type": "markdown",
   "id": "da101e42-edc7-49e9-a8cf-159b88e21595",
   "metadata": {},
   "source": [
    "# Feature MAP"
   ]
  },
  {
   "cell_type": "markdown",
   "id": "7ec2021a-3b53-4b38-90ef-e4e9cf7211b2",
   "metadata": {},
   "source": [
    "## redefine the operators as functions"
   ]
  },
  {
   "cell_type": "code",
   "execution_count": 87,
   "id": "50e94dca-10c7-4e1f-926a-3a4f0cef7776",
   "metadata": {},
   "outputs": [],
   "source": [
    "@tf.function\n",
    "def expZ0(theta):\n",
    "    \"\"\" return exp(theta Z0) I \"\"\"\n",
    "    tc = tf.cast(theta,dtype=tf.complex64)\n",
    "    EZS=tf.math.cos(tc)*Isingle+1j*tf.math.sin(tc)*Zsingle\n",
    "    EZ0=tf.tensordot(EZS, Isingle,axes=0)\n",
    "    return EZ0\n",
    "\n",
    "@tf.function\n",
    "def expX0(theta):\n",
    "    \"\"\" return exp(theta X0) I \"\"\"\n",
    "    tc = tf.cast(theta,dtype=tf.complex64)\n",
    "    EXS=tf.math.cos(tc)*Isingle+1j*tf.math.sin(tc)*Xsingle\n",
    "    EX0=tf.tensordot(EXS, Isingle,axes=0)\n",
    "    return EX0\n",
    "\n",
    "@tf.function\n",
    "def expY0(theta):\n",
    "    \"\"\" return exp(theta Y0) I \"\"\"\n",
    "    tc = tf.cast(theta,dtype=tf.complex64)\n",
    "    EYS=tf.math.cos(tc)*Isingle+1j*tf.math.sin(tc)*Ysingle\n",
    "    EY0=tf.tensordot(EYS, Isingle,axes=0)\n",
    "    return EY0\n",
    "\n",
    "@tf.function\n",
    "def expZ1(theta):\n",
    "    \"\"\" return I exp(theta Z1) \"\"\"\n",
    "    tc = tf.cast(theta,dtype=tf.complex64)\n",
    "    EZS=tf.math.cos(tc)*Isingle+1j*tf.math.sin(tc)*Zsingle\n",
    "    EZ0=tf.tensordot(Isingle,EZS, axes=0)\n",
    "    return EZ0\n",
    "\n",
    "@tf.function\n",
    "def expX1(theta):\n",
    "    \"\"\" return I exp(theta X1) \"\"\"\n",
    "    tc = tf.cast(theta,dtype=tf.complex64)\n",
    "    EXS=tf.math.cos(tc)*Isingle+1j*tf.math.sin(tc)*Xsingle\n",
    "    EX0=tf.tensordot(Isingle, EXS,axes=0)\n",
    "    return EX0\n",
    "\n",
    "@tf.function\n",
    "def expY1(theta):\n",
    "    \"\"\" return I exp(theta Y1) \"\"\"\n",
    "    tc = tf.cast(theta,dtype=tf.complex64)\n",
    "    EYS=tf.math.cos(tc)*Isingle+1j*tf.math.sin(tc)*Ysingle\n",
    "    EY0=tf.tensordot(Isingle, EYS,axes=0)\n",
    "    return EY0\n",
    "\n",
    "@tf.function\n",
    "def expZZ(theta):\n",
    "    \"\"\" return exp(theta Z0 Z1) \"\"\"\n",
    "    tc = tf.cast(theta,dtype=tf.complex64)\n",
    "    EZZ=tf.math.cos(tc)*II+1j*ZZ*tf.math.sin(tc)\n",
    "    return EZZ\n"
   ]
  },
  {
   "cell_type": "markdown",
   "id": "b9b8f2c3-b590-4b24-bc6a-07e0608070a4",
   "metadata": {},
   "source": [
    "### test the function"
   ]
  },
  {
   "cell_type": "code",
   "execution_count": 88,
   "id": "22f5bf67-da5d-4367-be20-d09f4a81536f",
   "metadata": {},
   "outputs": [
    {
     "data": {
      "text/plain": [
       "<tf.Tensor: shape=(2, 2), dtype=complex64, numpy=\n",
       "array([[-0.49999997-4.3711385e-08j, -0.49999997-4.3711385e-08j],\n",
       "       [-0.49999997+4.3711385e-08j, -0.49999997+4.3711385e-08j]],\n",
       "      dtype=complex64)>"
      ]
     },
     "execution_count": 88,
     "metadata": {},
     "output_type": "execute_result"
    }
   ],
   "source": [
    "gate(expZ0(np.pi), Hq00)"
   ]
  },
  {
   "cell_type": "code",
   "execution_count": 89,
   "id": "488a833b-0283-4145-a4ae-eadee05979a8",
   "metadata": {},
   "outputs": [
    {
     "data": {
      "text/plain": [
       "<tf.Tensor: shape=(2, 2), dtype=complex64, numpy=\n",
       "array([[0.22679803+0.44560367j, 0.22679803-0.44560367j],\n",
       "       [0.22679803-0.44560367j, 0.22679803+0.44560367j]], dtype=complex64)>"
      ]
     },
     "execution_count": 89,
     "metadata": {},
     "output_type": "execute_result"
    }
   ],
   "source": [
    "gate(expZZ(1.1),Hq00)"
   ]
  },
  {
   "cell_type": "code",
   "execution_count": 90,
   "id": "3ae0792d-fdf4-4389-86be-6c9a54231a0c",
   "metadata": {},
   "outputs": [
    {
     "data": {
      "text/plain": [
       "<tf.Tensor: shape=(2, 2), dtype=complex64, numpy=\n",
       "array([[0.22679803+0.44560367j, 0.22679803-0.44560367j],\n",
       "       [0.22679803-0.44560367j, 0.22679803+0.44560367j]], dtype=complex64)>"
      ]
     },
     "execution_count": 90,
     "metadata": {},
     "output_type": "execute_result"
    }
   ],
   "source": [
    "gate(expZ0Z1,Hq00)"
   ]
  },
  {
   "cell_type": "code",
   "execution_count": 91,
   "id": "56a9ebc1-6889-421b-8888-cc7528533b02",
   "metadata": {},
   "outputs": [],
   "source": [
    "## Feature map"
   ]
  },
  {
   "cell_type": "code",
   "execution_count": 92,
   "id": "a50b5750-08c3-4dcd-93ce-c88f63d59abe",
   "metadata": {},
   "outputs": [],
   "source": [
    "@tf.function\n",
    "def featuremapU(phi, theta0, theta1, theta01):\n",
    "    phi1=gate(HH,phi)\n",
    "    phi2=gate(expZ0(theta0),phi1)\n",
    "    phi3=gate(expZ1(theta1),phi2)\n",
    "    phi4=gate(expZZ(theta01), phi3)\n",
    "    return phi4"
   ]
  },
  {
   "cell_type": "code",
   "execution_count": 93,
   "id": "78bfdffc-9f9b-4875-8e61-9bf22ff808b8",
   "metadata": {},
   "outputs": [],
   "source": [
    "Upsi=featuremapU(q00,1.0,2.0,-1.0)"
   ]
  },
  {
   "cell_type": "markdown",
   "id": "9625fb21-c06a-448d-a4ed-4293c588f3d2",
   "metadata": {},
   "source": [
    "# Scalar product"
   ]
  },
  {
   "cell_type": "code",
   "execution_count": 94,
   "id": "7db2363a-dfcf-4cf9-82b5-f3dc9c3ce6fd",
   "metadata": {},
   "outputs": [],
   "source": [
    "@tf.function\n",
    "def scalarproduct(a, b):\n",
    "    a1 = tf.reshape(a,(4,1))\n",
    "    b1 = tf.reshape(b, (4,1))\n",
    "    return tf.tensordot(tf.transpose(a1,conjugate=True),b1,axes=1)"
   ]
  },
  {
   "cell_type": "code",
   "execution_count": 95,
   "id": "387b25fa-2be6-4914-aece-baa972ddfdf2",
   "metadata": {},
   "outputs": [
    {
     "data": {
      "text/plain": [
       "<tf.Tensor: shape=(1, 1), dtype=complex64, numpy=array([[0.9999999+0.j]], dtype=complex64)>"
      ]
     },
     "execution_count": 95,
     "metadata": {},
     "output_type": "execute_result"
    }
   ],
   "source": [
    "scalarproduct(gate(HH,q00),gate(HH,q00))"
   ]
  },
  {
   "cell_type": "markdown",
   "id": "e7f07da1-d5db-486b-b9af-38b1c59a80d9",
   "metadata": {},
   "source": [
    "# Project on the 00 state"
   ]
  },
  {
   "cell_type": "code",
   "execution_count": 96,
   "id": "79ab1d0f-ea2c-47c2-a403-4af4f45814db",
   "metadata": {},
   "outputs": [
    {
     "data": {
      "text/plain": [
       "<tf.Tensor: shape=(1, 1), dtype=complex64, numpy=array([[-0.2080734+0.4546486j]], dtype=complex64)>"
      ]
     },
     "execution_count": 96,
     "metadata": {},
     "output_type": "execute_result"
    }
   ],
   "source": [
    "scalarproduct(q00,Upsi)"
   ]
  },
  {
   "cell_type": "code",
   "execution_count": 97,
   "id": "610377b9-58ca-44f7-bd71-c1035a98c410",
   "metadata": {},
   "outputs": [],
   "source": [
    "@tf.function\n",
    "def probability00(psi):\n",
    "    sp = scalarproduct(q00,psi)\n",
    "    return tf.pow(tf.abs(sp),2)"
   ]
  },
  {
   "cell_type": "code",
   "execution_count": 98,
   "id": "2ed3a384-c56c-44c4-bf54-213ea3948224",
   "metadata": {},
   "outputs": [
    {
     "name": "stdout",
     "output_type": "stream",
     "text": [
      "[[1]]\n"
     ]
    }
   ],
   "source": [
    "tf.print(probability00(q00))"
   ]
  },
  {
   "cell_type": "code",
   "execution_count": 99,
   "id": "73b18fa2-202b-45e4-88c3-806259333741",
   "metadata": {},
   "outputs": [
    {
     "name": "stdout",
     "output_type": "stream",
     "text": [
      "[[0.249999911]]\n"
     ]
    }
   ],
   "source": [
    "tf.print(probability00(Upsi))"
   ]
  }
 ],
 "metadata": {
  "kernelspec": {
   "display_name": "Python 3 (ipykernel)",
   "language": "python",
   "name": "python3"
  },
  "language_info": {
   "codemirror_mode": {
    "name": "ipython",
    "version": 3
   },
   "file_extension": ".py",
   "mimetype": "text/x-python",
   "name": "python",
   "nbconvert_exporter": "python",
   "pygments_lexer": "ipython3",
   "version": "3.10.12"
  }
 },
 "nbformat": 4,
 "nbformat_minor": 5
}
