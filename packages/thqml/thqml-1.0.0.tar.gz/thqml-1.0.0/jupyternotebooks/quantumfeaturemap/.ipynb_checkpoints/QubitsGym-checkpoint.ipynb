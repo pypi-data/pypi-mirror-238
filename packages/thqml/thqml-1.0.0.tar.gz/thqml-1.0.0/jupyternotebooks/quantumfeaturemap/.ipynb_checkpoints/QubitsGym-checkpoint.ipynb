{
 "cells": [
  {
   "cell_type": "markdown",
   "id": "0915292a-b237-4a7d-a549-e1e1cf10552e",
   "metadata": {},
   "source": [
    "# Example of tensors representing qubits\n",
    "\n",
    "\n",
    "\n",
    "<img src=\"../logo_circular.png\" width=\"20\" height=\"20\" />@by claudio<br>\n",
    "nonlinearxwaves@gmail.com<br>\n",
    "\n",
    "\n",
    "@created 27 February 2022<br>\n",
    "@version 6 October 2023<br> "
   ]
  },
  {
   "cell_type": "code",
   "execution_count": 1,
   "id": "505b3ac9-7b09-487b-8882-b308af1b1b94",
   "metadata": {},
   "outputs": [],
   "source": [
    "import os\n",
    "os.environ['TF_CPP_MIN_LOG_LEVEL'] = '2' # disable warning messages "
   ]
  },
  {
   "cell_type": "code",
   "execution_count": 2,
   "id": "56ec1e35-3493-4ee1-9f6d-56d6027fa956",
   "metadata": {},
   "outputs": [],
   "source": [
    "from thqml.quantummap import *\n",
    "import tensorflow as  tf\n",
    "import matplotlib.pyplot as plt\n",
    "from matplotlib import cm"
   ]
  },
  {
   "cell_type": "markdown",
   "id": "6176872c-cf77-40a2-b4aa-ceae690d852f",
   "metadata": {},
   "source": [
    "# Single qubit examples"
   ]
  },
  {
   "cell_type": "code",
   "execution_count": 3,
   "id": "a4027317-542e-482c-8a55-575e4a5695de",
   "metadata": {},
   "outputs": [
    {
     "name": "stdout",
     "output_type": "stream",
     "text": [
      "tf.Tensor([3.+0.j 0.+2.j], shape=(2,), dtype=complex64)\n"
     ]
    }
   ],
   "source": [
    "psi = 3.0*qubit0+2j*qubit1\n",
    "print(psi)"
   ]
  },
  {
   "cell_type": "code",
   "execution_count": 4,
   "id": "43979894-0764-44e7-97d6-76ba5e705530",
   "metadata": {},
   "outputs": [
    {
     "name": "stdout",
     "output_type": "stream",
     "text": [
      "tf.Tensor([0. +3.j 1.5+0.j], shape=(2,), dtype=complex64)\n"
     ]
    }
   ],
   "source": [
    "phi = 3j*qubit0+1.5*qubit1\n",
    "print(phi)"
   ]
  },
  {
   "cell_type": "markdown",
   "id": "e5c158df-99eb-40d5-8a09-22ebdedeb80f",
   "metadata": {},
   "source": [
    "# Build the two qubit example as an outer product"
   ]
  },
  {
   "cell_type": "code",
   "execution_count": 5,
   "id": "ef6f90bc-4868-4bac-ae58-d23f41b8d959",
   "metadata": {},
   "outputs": [
    {
     "name": "stdout",
     "output_type": "stream",
     "text": [
      "tf.Tensor(\n",
      "[[ 0. +9.j  4.5+0.j]\n",
      " [-6. +0.j  0. +3.j]], shape=(2, 2), dtype=complex64)\n"
     ]
    }
   ],
   "source": [
    "Psi=tf.tensordot(psi,phi,axes=0)\n",
    "print(Psi)"
   ]
  },
  {
   "cell_type": "code",
   "execution_count": 6,
   "id": "d13f42f9-1c3e-4f59-9d4e-c7a0cae59d9a",
   "metadata": {},
   "outputs": [
    {
     "name": "stdout",
     "output_type": "stream",
     "text": [
      "tf.Tensor([3.+0.j 0.+2.j], shape=(2,), dtype=complex64)\n"
     ]
    }
   ],
   "source": [
    "print(psi)"
   ]
  },
  {
   "cell_type": "code",
   "execution_count": 7,
   "id": "79d72cd8-4118-44c2-84e6-83c374e75050",
   "metadata": {},
   "outputs": [
    {
     "data": {
      "text/plain": [
       "<tf.Tensor: shape=(2,), dtype=complex64, numpy=array([0. +9.j, 4.5+0.j], dtype=complex64)>"
      ]
     },
     "execution_count": 7,
     "metadata": {},
     "output_type": "execute_result"
    }
   ],
   "source": [
    "Psi[0]"
   ]
  },
  {
   "cell_type": "code",
   "execution_count": 8,
   "id": "325d8ced-a907-46da-b73e-e915b1a3420d",
   "metadata": {},
   "outputs": [
    {
     "data": {
      "text/plain": [
       "<tf.Tensor: shape=(2,), dtype=complex64, numpy=array([-6.+0.j,  0.+3.j], dtype=complex64)>"
      ]
     },
     "execution_count": 8,
     "metadata": {},
     "output_type": "execute_result"
    }
   ],
   "source": [
    "Psi[1]"
   ]
  },
  {
   "cell_type": "markdown",
   "id": "822e6264-40e3-4f0c-8da7-1d40e8f50fc4",
   "metadata": {},
   "source": [
    "## Print the components"
   ]
  },
  {
   "cell_type": "code",
   "execution_count": 9,
   "id": "c91e256b-8912-4f2b-9483-81b1a5f2bc6e",
   "metadata": {},
   "outputs": [
    {
     "name": "stdout",
     "output_type": "stream",
     "text": [
      "tf.Tensor(9j, shape=(), dtype=complex64)\n"
     ]
    }
   ],
   "source": [
    "print(Psi[0,0])"
   ]
  },
  {
   "cell_type": "code",
   "execution_count": 10,
   "id": "6671329c-5aa6-4284-98a0-ff6704b9122a",
   "metadata": {},
   "outputs": [
    {
     "name": "stdout",
     "output_type": "stream",
     "text": [
      "tf.Tensor((4.5+0j), shape=(), dtype=complex64)\n"
     ]
    }
   ],
   "source": [
    "print(Psi[0,1])"
   ]
  },
  {
   "cell_type": "code",
   "execution_count": 11,
   "id": "240d86e1-03ca-4355-8403-62e57767e3f4",
   "metadata": {},
   "outputs": [
    {
     "name": "stdout",
     "output_type": "stream",
     "text": [
      "tf.Tensor((-6+0j), shape=(), dtype=complex64)\n"
     ]
    }
   ],
   "source": [
    "print(Psi[1,0])"
   ]
  },
  {
   "cell_type": "code",
   "execution_count": 12,
   "id": "afa65d0c-4de3-4576-86c7-a521f4111a54",
   "metadata": {},
   "outputs": [
    {
     "name": "stdout",
     "output_type": "stream",
     "text": [
      "tf.Tensor(3j, shape=(), dtype=complex64)\n"
     ]
    }
   ],
   "source": [
    "print(Psi[1,1])"
   ]
  },
  {
   "cell_type": "markdown",
   "id": "e1584922-0dff-4eb1-925b-6210d55542cf",
   "metadata": {},
   "source": [
    "#  Two-qubit gate"
   ]
  },
  {
   "cell_type": "code",
   "execution_count": 13,
   "id": "67faf50f-b34b-4e85-a2a6-dc285fdf69ec",
   "metadata": {},
   "outputs": [
    {
     "data": {
      "text/plain": [
       "<tf.Tensor: shape=(2, 2, 2, 2), dtype=complex64, numpy=\n",
       "array([[[[ 0.49999997+0.j,  0.49999997+0.j],\n",
       "         [ 0.49999997+0.j, -0.49999997+0.j]],\n",
       "\n",
       "        [[ 0.49999997+0.j,  0.49999997+0.j],\n",
       "         [ 0.49999997+0.j, -0.49999997+0.j]]],\n",
       "\n",
       "\n",
       "       [[[ 0.49999997+0.j,  0.49999997+0.j],\n",
       "         [ 0.49999997+0.j, -0.49999997+0.j]],\n",
       "\n",
       "        [[-0.49999997+0.j, -0.49999997+0.j],\n",
       "         [-0.49999997+0.j,  0.49999997+0.j]]]], dtype=complex64)>"
      ]
     },
     "execution_count": 13,
     "metadata": {},
     "output_type": "execute_result"
    }
   ],
   "source": [
    "HH"
   ]
  },
  {
   "cell_type": "code",
   "execution_count": 14,
   "id": "29476cc0-deab-4fa5-81d5-5a885ff9070c",
   "metadata": {},
   "outputs": [
    {
     "name": "stdout",
     "output_type": "stream",
     "text": [
      "tf.Tensor(\n",
      "[[ 0.49999997+0.j  0.49999997+0.j]\n",
      " [ 0.49999997+0.j -0.49999997+0.j]], shape=(2, 2), dtype=complex64)\n"
     ]
    }
   ],
   "source": [
    "print(HH[0,0])"
   ]
  },
  {
   "cell_type": "code",
   "execution_count": 15,
   "id": "b53b94ee-9dd8-4b1a-974d-7a6104ba7849",
   "metadata": {},
   "outputs": [
    {
     "name": "stdout",
     "output_type": "stream",
     "text": [
      "tf.Tensor(\n",
      "[[-0.49999997+0.j -0.49999997+0.j]\n",
      " [-0.49999997+0.j  0.49999997+0.j]], shape=(2, 2), dtype=complex64)\n"
     ]
    }
   ],
   "source": [
    "print(HH[1,1])"
   ]
  },
  {
   "cell_type": "code",
   "execution_count": 16,
   "id": "98d914ce-b093-4672-a9f9-8c73976dc63c",
   "metadata": {},
   "outputs": [
    {
     "name": "stdout",
     "output_type": "stream",
     "text": [
      "tf.Tensor((-0.49999997+0j), shape=(), dtype=complex64)\n"
     ]
    }
   ],
   "source": [
    "print(HH[0,0,1,1])"
   ]
  },
  {
   "cell_type": "markdown",
   "id": "df5e77d6-2121-4cb0-9990-730cc299348b",
   "metadata": {},
   "source": [
    "# Building a (2,2,2,2) tensors corresponding to a 4x4 matrix"
   ]
  },
  {
   "cell_type": "code",
   "execution_count": 17,
   "id": "5b2c4c09-598d-4192-bb31-35d7b44f210f",
   "metadata": {},
   "outputs": [],
   "source": [
    "G_np=np.zeros((2,2,2,2))"
   ]
  },
  {
   "cell_type": "code",
   "execution_count": 18,
   "id": "77a3f4d0-bdd6-4016-8541-0c2c72330166",
   "metadata": {},
   "outputs": [],
   "source": [
    "G_np=np.asarray(\n",
    "    [[\n",
    "        [[1,2],[3,4]],\n",
    "        [[5,6],[7,8]]],\n",
    "     \n",
    "    [[[9,10],[11,12]],\n",
    "    [[13,14],[15,16]]\n",
    "    \n",
    "    ]]\n",
    "    , dtype=complex)"
   ]
  },
  {
   "cell_type": "code",
   "execution_count": 19,
   "id": "9efe0e39-48c4-4dbf-ba88-4620e784de28",
   "metadata": {},
   "outputs": [],
   "source": [
    "G=tf.constant(G_np,dtype=tf.complex64)"
   ]
  },
  {
   "cell_type": "code",
   "execution_count": 20,
   "id": "fef91a7e-cf68-47aa-97f7-a5df1b922c2a",
   "metadata": {},
   "outputs": [
    {
     "data": {
      "text/plain": [
       "TensorShape([2, 2, 2, 2])"
      ]
     },
     "execution_count": 20,
     "metadata": {},
     "output_type": "execute_result"
    }
   ],
   "source": [
    "G.shape"
   ]
  },
  {
   "cell_type": "code",
   "execution_count": 21,
   "id": "af632546-dcf3-4db7-9ed0-a8bd67b7b9ac",
   "metadata": {},
   "outputs": [
    {
     "name": "stdout",
     "output_type": "stream",
     "text": [
      "tf.Tensor(\n",
      "[[[[ 1.+0.j  2.+0.j]\n",
      "   [ 3.+0.j  4.+0.j]]\n",
      "\n",
      "  [[ 5.+0.j  6.+0.j]\n",
      "   [ 7.+0.j  8.+0.j]]]\n",
      "\n",
      "\n",
      " [[[ 9.+0.j 10.+0.j]\n",
      "   [11.+0.j 12.+0.j]]\n",
      "\n",
      "  [[13.+0.j 14.+0.j]\n",
      "   [15.+0.j 16.+0.j]]]], shape=(2, 2, 2, 2), dtype=complex64)\n"
     ]
    }
   ],
   "source": [
    "print(G)"
   ]
  },
  {
   "cell_type": "code",
   "execution_count": 22,
   "id": "5e1ee4c8-aee0-40cf-9cbf-95d5db954837",
   "metadata": {},
   "outputs": [
    {
     "name": "stdout",
     "output_type": "stream",
     "text": [
      "tf.Tensor(\n",
      "[[ 1.+0.j  2.+0.j  3.+0.j  4.+0.j]\n",
      " [ 5.+0.j  6.+0.j  7.+0.j  8.+0.j]\n",
      " [ 9.+0.j 10.+0.j 11.+0.j 12.+0.j]\n",
      " [13.+0.j 14.+0.j 15.+0.j 16.+0.j]], shape=(4, 4), dtype=complex64)\n"
     ]
    }
   ],
   "source": [
    "print(tf.reshape(G,[4,4]))"
   ]
  },
  {
   "cell_type": "code",
   "execution_count": 23,
   "id": "cf621ee7-df68-46b1-a929-3fb049f56739",
   "metadata": {},
   "outputs": [
    {
     "name": "stdout",
     "output_type": "stream",
     "text": [
      "tf.Tensor(\n",
      "[[ 1.+0.j  2.+0.j  9.+0.j 10.+0.j]\n",
      " [ 3.+0.j  4.+0.j 11.+0.j 12.+0.j]\n",
      " [ 5.+0.j  6.+0.j 13.+0.j 14.+0.j]\n",
      " [ 7.+0.j  8.+0.j 15.+0.j 16.+0.j]], shape=(4, 4), dtype=complex64)\n"
     ]
    }
   ],
   "source": [
    "print(tf.reshape(tf.transpose(G,perm=[1,2,0,3]),[4,4]))"
   ]
  },
  {
   "cell_type": "code",
   "execution_count": 24,
   "id": "b85608a3-8b62-46e8-b6ad-f7960815959b",
   "metadata": {},
   "outputs": [
    {
     "name": "stdout",
     "output_type": "stream",
     "text": [
      "tf.Tensor(\n",
      "[[[[ 1.+0.j  2.+0.j]\n",
      "   [ 9.+0.j 10.+0.j]]\n",
      "\n",
      "  [[ 3.+0.j  4.+0.j]\n",
      "   [11.+0.j 12.+0.j]]]\n",
      "\n",
      "\n",
      " [[[ 5.+0.j  6.+0.j]\n",
      "   [13.+0.j 14.+0.j]]\n",
      "\n",
      "  [[ 7.+0.j  8.+0.j]\n",
      "   [15.+0.j 16.+0.j]]]], shape=(2, 2, 2, 2), dtype=complex64)\n"
     ]
    }
   ],
   "source": [
    "print(tf.transpose(G,perm=[1,2,0,3]))"
   ]
  },
  {
   "cell_type": "markdown",
   "id": "5fb19660-7c34-4a30-9ba5-20dc3f97d3db",
   "metadata": {},
   "source": [
    "# CNOT gate"
   ]
  },
  {
   "cell_type": "code",
   "execution_count": 25,
   "id": "87520788-a5bc-4644-91fe-881c7d7e7623",
   "metadata": {},
   "outputs": [],
   "source": [
    "CNOT_np=np.zeros((2,2,2,2))\n",
    "CNOT_np[0,0,0,0]=1\n",
    "CNOT_np[0,0,1,1]=1\n",
    "CNOT_np[1,1,0,1]=1\n",
    "CNOT_np[1,1,1,0]=1"
   ]
  },
  {
   "cell_type": "code",
   "execution_count": 26,
   "id": "a796bfa7-9876-4aef-b21f-923a1eb1c188",
   "metadata": {},
   "outputs": [],
   "source": [
    "CNOT = tf.constant(CNOT_np,dtype=tf.complex64)"
   ]
  },
  {
   "cell_type": "code",
   "execution_count": 27,
   "id": "74ac052b-2791-4d05-bb35-a9f8b65fab0c",
   "metadata": {},
   "outputs": [
    {
     "data": {
      "text/plain": [
       "<tf.Tensor: shape=(2, 2, 2, 2), dtype=complex64, numpy=\n",
       "array([[[[1.+0.j, 0.+0.j],\n",
       "         [0.+0.j, 1.+0.j]],\n",
       "\n",
       "        [[0.+0.j, 0.+0.j],\n",
       "         [0.+0.j, 0.+0.j]]],\n",
       "\n",
       "\n",
       "       [[[0.+0.j, 0.+0.j],\n",
       "         [0.+0.j, 0.+0.j]],\n",
       "\n",
       "        [[0.+0.j, 1.+0.j],\n",
       "         [1.+0.j, 0.+0.j]]]], dtype=complex64)>"
      ]
     },
     "execution_count": 27,
     "metadata": {},
     "output_type": "execute_result"
    }
   ],
   "source": [
    "CNOT"
   ]
  },
  {
   "cell_type": "code",
   "execution_count": 28,
   "id": "acd0f3e4-143e-4091-b7da-230236005536",
   "metadata": {},
   "outputs": [
    {
     "data": {
      "text/plain": [
       "<tf.Tensor: shape=(2, 2, 2, 2), dtype=complex64, numpy=\n",
       "array([[[[1.+0.j, 0.+0.j],\n",
       "         [0.+0.j, 0.+0.j]],\n",
       "\n",
       "        [[0.+0.j, 1.+0.j],\n",
       "         [0.+0.j, 0.+0.j]]],\n",
       "\n",
       "\n",
       "       [[[0.+0.j, 0.+0.j],\n",
       "         [0.+0.j, 1.+0.j]],\n",
       "\n",
       "        [[0.+0.j, 0.+0.j],\n",
       "         [1.+0.j, 0.+0.j]]]], dtype=complex64)>"
      ]
     },
     "execution_count": 28,
     "metadata": {},
     "output_type": "execute_result"
    }
   ],
   "source": [
    "tf.transpose(CNOT,perm=[1,3,0,2])"
   ]
  },
  {
   "cell_type": "code",
   "execution_count": 29,
   "id": "283bb569-8128-485d-904b-17ed8f47a475",
   "metadata": {},
   "outputs": [
    {
     "name": "stdout",
     "output_type": "stream",
     "text": [
      "tf.Tensor(\n",
      "[[[[1.+0.j 0.+0.j]\n",
      "   [0.+0.j 1.+0.j]]\n",
      "\n",
      "  [[0.+0.j 0.+0.j]\n",
      "   [0.+0.j 0.+0.j]]]\n",
      "\n",
      "\n",
      " [[[0.+0.j 0.+0.j]\n",
      "   [0.+0.j 0.+0.j]]\n",
      "\n",
      "  [[0.+0.j 1.+0.j]\n",
      "   [1.+0.j 0.+0.j]]]], shape=(2, 2, 2, 2), dtype=complex64)\n",
      "tf.Tensor(\n",
      "[[1.+0.j 0.+0.j 0.+0.j 1.+0.j]\n",
      " [0.+0.j 0.+0.j 0.+0.j 0.+0.j]\n",
      " [0.+0.j 0.+0.j 0.+0.j 0.+0.j]\n",
      " [0.+0.j 1.+0.j 1.+0.j 0.+0.j]], shape=(4, 4), dtype=complex64)\n"
     ]
    }
   ],
   "source": [
    "print(CNOT)\n",
    "print(tf.reshape(CNOT,(4,4)))"
   ]
  },
  {
   "cell_type": "code",
   "execution_count": 30,
   "id": "615554b1-2821-4fca-a122-b30e8a05ea81",
   "metadata": {},
   "outputs": [
    {
     "name": "stdout",
     "output_type": "stream",
     "text": [
      "tf.Tensor(\n",
      "[[[[1.+0.j 0.+0.j]\n",
      "   [0.+0.j 0.+0.j]]\n",
      "\n",
      "  [[0.+0.j 1.+0.j]\n",
      "   [0.+0.j 0.+0.j]]]\n",
      "\n",
      "\n",
      " [[[0.+0.j 0.+0.j]\n",
      "   [0.+0.j 1.+0.j]]\n",
      "\n",
      "  [[0.+0.j 0.+0.j]\n",
      "   [1.+0.j 0.+0.j]]]], shape=(2, 2, 2, 2), dtype=complex64)\n",
      "tf.Tensor(\n",
      "[[1.+0.j 0.+0.j 0.+0.j 0.+0.j]\n",
      " [0.+0.j 1.+0.j 0.+0.j 0.+0.j]\n",
      " [0.+0.j 0.+0.j 0.+0.j 1.+0.j]\n",
      " [0.+0.j 0.+0.j 1.+0.j 0.+0.j]], shape=(4, 4), dtype=complex64)\n"
     ]
    }
   ],
   "source": [
    "print(tf.transpose(CNOT,perm=[1,3,0,2]))\n",
    "print(tf.reshape(tf.transpose(CNOT,perm=[1,2,0,3]),(4,4)))"
   ]
  },
  {
   "cell_type": "markdown",
   "id": "602f62fd-b33e-4df2-8bc6-13b26299b1f7",
   "metadata": {},
   "source": [
    "Reshape does not cust in the proper way, need to transpose some column first"
   ]
  },
  {
   "cell_type": "code",
   "execution_count": 31,
   "id": "be06d265-4881-42cf-86c9-aa4dbd53f346",
   "metadata": {},
   "outputs": [],
   "source": [
    "@tf.function\n",
    "def transform(A):\n",
    "    \"\"\" reshape an operator as 4x4 \"\"\"\n",
    "    return (tf.reshape(tf.transpose(A,perm=[1,3,0,2]),(4,4)))"
   ]
  },
  {
   "cell_type": "code",
   "execution_count": 32,
   "id": "7b4c08e8-4164-48e9-b1c2-4447b3eb9661",
   "metadata": {},
   "outputs": [
    {
     "name": "stdout",
     "output_type": "stream",
     "text": [
      "tf.Tensor(\n",
      "[[1.+0.j 0.+0.j 0.+0.j 0.+0.j]\n",
      " [0.+0.j 1.+0.j 0.+0.j 0.+0.j]\n",
      " [0.+0.j 0.+0.j 0.+0.j 1.+0.j]\n",
      " [0.+0.j 0.+0.j 1.+0.j 0.+0.j]], shape=(4, 4), dtype=complex64)\n"
     ]
    }
   ],
   "source": [
    "print(transform(CNOT))"
   ]
  },
  {
   "cell_type": "markdown",
   "id": "8084894c-7bc7-4863-9c19-855526acb926",
   "metadata": {},
   "source": [
    "## Test CNOT"
   ]
  },
  {
   "cell_type": "code",
   "execution_count": 33,
   "id": "c16d502e-2cc1-4b5b-ad74-66628bc43104",
   "metadata": {},
   "outputs": [
    {
     "name": "stdout",
     "output_type": "stream",
     "text": [
      "tf.Tensor(\n",
      "[[1.+0.j 0.+0.j]\n",
      " [0.+0.j 0.+0.j]], shape=(2, 2), dtype=complex64)\n",
      "tf.Tensor(\n",
      "[[0.+0.j 1.+0.j]\n",
      " [0.+0.j 0.+0.j]], shape=(2, 2), dtype=complex64)\n",
      "tf.Tensor(\n",
      "[[0.+0.j 0.+0.j]\n",
      " [0.+0.j 1.+0.j]], shape=(2, 2), dtype=complex64)\n",
      "tf.Tensor(\n",
      "[[0.+0.j 0.+0.j]\n",
      " [1.+0.j 0.+0.j]], shape=(2, 2), dtype=complex64)\n"
     ]
    }
   ],
   "source": [
    "print(Gate(CNOT, q00))\n",
    "print(Gate(CNOT, q01))\n",
    "print(Gate(CNOT, q10))\n",
    "print(Gate(CNOT, q11))"
   ]
  },
  {
   "cell_type": "markdown",
   "id": "a232ac0b-5605-4c4b-80d1-85399c24458a",
   "metadata": {},
   "source": [
    "# CZ gate"
   ]
  },
  {
   "cell_type": "code",
   "execution_count": 34,
   "id": "cea63841-eb16-46a3-a6e2-05c089e6c2fc",
   "metadata": {},
   "outputs": [
    {
     "name": "stdout",
     "output_type": "stream",
     "text": [
      "tf.Tensor(\n",
      "[[[[ 1.+0.j  0.+0.j]\n",
      "   [ 0.+0.j  1.+0.j]]\n",
      "\n",
      "  [[ 0.+0.j  0.+0.j]\n",
      "   [ 0.+0.j  0.+0.j]]]\n",
      "\n",
      "\n",
      " [[[ 0.+0.j  0.+0.j]\n",
      "   [ 0.+0.j  0.+0.j]]\n",
      "\n",
      "  [[ 1.+0.j  0.+0.j]\n",
      "   [ 0.+0.j -1.+0.j]]]], shape=(2, 2, 2, 2), dtype=complex64)\n"
     ]
    }
   ],
   "source": [
    "print(CZ)"
   ]
  },
  {
   "cell_type": "code",
   "execution_count": 35,
   "id": "401e9e44-58dc-4050-9ccb-596cbb7b4a2e",
   "metadata": {},
   "outputs": [
    {
     "name": "stdout",
     "output_type": "stream",
     "text": [
      "tf.Tensor(\n",
      "[[ 1.+0.j  0.+0.j  0.+0.j  0.+0.j]\n",
      " [ 0.+0.j  1.+0.j  0.+0.j  0.+0.j]\n",
      " [ 0.+0.j  0.+0.j  1.+0.j  0.+0.j]\n",
      " [ 0.+0.j  0.+0.j  0.+0.j -1.+0.j]], shape=(4, 4), dtype=complex64)\n"
     ]
    }
   ],
   "source": [
    "print(transform(CZ))"
   ]
  },
  {
   "cell_type": "markdown",
   "id": "07930a82-ae0e-426c-96aa-6abf4511a883",
   "metadata": {},
   "source": [
    "## Test CZ"
   ]
  },
  {
   "cell_type": "code",
   "execution_count": 36,
   "id": "d0ea4e8f-3949-4085-900d-177e8448a444",
   "metadata": {},
   "outputs": [
    {
     "name": "stdout",
     "output_type": "stream",
     "text": [
      "tf.Tensor(\n",
      "[[1.+0.j 0.+0.j]\n",
      " [0.+0.j 0.+0.j]], shape=(2, 2), dtype=complex64)\n",
      "tf.Tensor(\n",
      "[[0.+0.j 1.+0.j]\n",
      " [0.+0.j 0.+0.j]], shape=(2, 2), dtype=complex64)\n",
      "tf.Tensor(\n",
      "[[0.+0.j 0.+0.j]\n",
      " [1.+0.j 0.+0.j]], shape=(2, 2), dtype=complex64)\n",
      "tf.Tensor(\n",
      "[[ 0.+0.j  0.+0.j]\n",
      " [ 0.+0.j -1.+0.j]], shape=(2, 2), dtype=complex64)\n"
     ]
    }
   ],
   "source": [
    "print(Gate(CZ, q00))\n",
    "print(Gate(CZ, q01))\n",
    "print(Gate(CZ, q10))\n",
    "print(Gate(CZ, q11))"
   ]
  },
  {
   "cell_type": "code",
   "execution_count": 37,
   "id": "15cf0a22-a131-453c-8759-348ba5acd294",
   "metadata": {},
   "outputs": [
    {
     "name": "stdout",
     "output_type": "stream",
     "text": [
      "tf.Tensor(\n",
      "[[ 0.5+0.j  0.5+0.j]\n",
      " [ 0.5+0.j -0.5+0.j]], shape=(2, 2), dtype=complex64)\n",
      "tf.Tensor(\n",
      "[[ 0.5+0.j -0.5+0.j]\n",
      " [ 0.5+0.j  0.5+0.j]], shape=(2, 2), dtype=complex64)\n",
      "tf.Tensor(\n",
      "[[ 0.5+0.j  0.5+0.j]\n",
      " [-0.5+0.j  0.5+0.j]], shape=(2, 2), dtype=complex64)\n",
      "tf.Tensor(\n",
      "[[ 0.5+0.j -0.5+0.j]\n",
      " [-0.5+0.j -0.5+0.j]], shape=(2, 2), dtype=complex64)\n"
     ]
    }
   ],
   "source": [
    "np.set_printoptions(precision=4)\n",
    "print(Gate(CZ, Gate(HH,q00)))\n",
    "print(Gate(CZ, Gate(HH, q01)))\n",
    "print(Gate(CZ, Gate(HH, q10)))\n",
    "print(Gate(CZ, Gate(HH, q11)))"
   ]
  },
  {
   "cell_type": "code",
   "execution_count": null,
   "id": "29a289b6-e5cc-428a-9a13-abd71ff1b22f",
   "metadata": {},
   "outputs": [],
   "source": []
  }
 ],
 "metadata": {
  "kernelspec": {
   "display_name": "Python 3 (ipykernel)",
   "language": "python",
   "name": "python3"
  },
  "language_info": {
   "codemirror_mode": {
    "name": "ipython",
    "version": 3
   },
   "file_extension": ".py",
   "mimetype": "text/x-python",
   "name": "python",
   "nbconvert_exporter": "python",
   "pygments_lexer": "ipython3",
   "version": "3.10.12"
  }
 },
 "nbformat": 4,
 "nbformat_minor": 5
}
