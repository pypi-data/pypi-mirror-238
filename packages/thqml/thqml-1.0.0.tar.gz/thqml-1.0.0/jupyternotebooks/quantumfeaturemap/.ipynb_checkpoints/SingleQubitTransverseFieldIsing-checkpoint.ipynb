{
 "cells": [
  {
   "cell_type": "markdown",
   "id": "0915292a-b237-4a7d-a549-e1e1cf10552e",
   "metadata": {},
   "source": [
    "# Single qubit Ising Model\n",
    "\n",
    "\n",
    "\n",
    "<img src=\"../logo_circular.png\" width=\"20\" height=\"20\" />@by claudio<br>\n",
    "nonlinearxwaves@gmail.com<br>\n",
    "\n",
    "\n",
    "@created 18 July 2022<br>\n",
    "@version 6 October 2023<br>"
   ]
  },
  {
   "cell_type": "code",
   "execution_count": 1,
   "id": "d035dd91-fabb-48db-a9b7-8a5b78038233",
   "metadata": {},
   "outputs": [],
   "source": [
    "import os\n",
    "os.environ['TF_CPP_MIN_LOG_LEVEL'] = '2' # disable warning messages "
   ]
  },
  {
   "cell_type": "code",
   "execution_count": 2,
   "id": "56ec1e35-3493-4ee1-9f6d-56d6027fa956",
   "metadata": {},
   "outputs": [],
   "source": [
    "from thqml import quantummap\n",
    "import tensorflow as  tf\n",
    "import numpy as np\n",
    "import matplotlib.pyplot as plt\n",
    "np.set_printoptions(precision=2)"
   ]
  },
  {
   "cell_type": "markdown",
   "id": "ffe871d0-34a0-4b84-b2c5-58d407ae5a25",
   "metadata": {
    "tags": []
   },
   "source": [
    "# Define Hamiltonian operator"
   ]
  },
  {
   "cell_type": "code",
   "execution_count": 3,
   "id": "5c119c43-4975-4435-9e6c-afd062fa48c8",
   "metadata": {},
   "outputs": [],
   "source": [
    "@tf.function\n",
    "def Hamiltonian(J=1.0,h=0.0):\n",
    "    \"\"\" single qubit tranverse Ising model Hamiltonian\n",
    "    \n",
    "        H=-J Z-h X\n",
    "        \n",
    "        Params\n",
    "        ------\n",
    "        h = field/gap (positive)\n",
    "        J = Z coefficient (positive)\n",
    "    \"\"\"\n",
    "    out =-J*quantummap.Zsingle -h*quantummap.Xsingle\n",
    "        \n",
    "    return out"
   ]
  },
  {
   "cell_type": "markdown",
   "id": "894cbf2d-495d-44a2-b4ed-201baaf9fbe8",
   "metadata": {},
   "source": [
    "## Test the Hamiltonian"
   ]
  },
  {
   "cell_type": "code",
   "execution_count": 4,
   "id": "5413673c-4599-4eff-bb93-f87dc43e6af1",
   "metadata": {},
   "outputs": [
    {
     "name": "stdout",
     "output_type": "stream",
     "text": [
      "tf.Tensor(\n",
      "[[-1.+0.j -0.+0.j]\n",
      " [-0.+0.j  1.-0.j]], shape=(2, 2), dtype=complex64)\n"
     ]
    }
   ],
   "source": [
    "H=Hamiltonian()\n",
    "print(H)"
   ]
  },
  {
   "cell_type": "code",
   "execution_count": 5,
   "id": "61ade790-a740-44f8-bbf1-0f8adeede21b",
   "metadata": {},
   "outputs": [
    {
     "name": "stdout",
     "output_type": "stream",
     "text": [
      "tf.Tensor(\n",
      "[[-1.+0.j -1.+0.j]\n",
      " [-1.+0.j  1.-0.j]], shape=(2, 2), dtype=complex64)\n"
     ]
    }
   ],
   "source": [
    "H=Hamiltonian(J=1.0,h=1.0)\n",
    "print(H)"
   ]
  },
  {
   "cell_type": "markdown",
   "id": "89831b38-4f76-4df6-8c80-38899cb82bdf",
   "metadata": {
    "tags": []
   },
   "source": [
    "# Variational ansatz (feature map nqubits=1)"
   ]
  },
  {
   "cell_type": "code",
   "execution_count": 6,
   "id": "92f7d822-306f-497a-b5e2-ad2860fa2ae2",
   "metadata": {},
   "outputs": [],
   "source": [
    "@tf.function\n",
    "def FeatureMapU(theta, psi=quantummap.qubit0):\n",
    "    \"\"\" feature map with 1 qubits \n",
    "    \n",
    "        Hadamard and rotation\n",
    "        \n",
    "        Exp( theta(0) X)Exp(theta(1)*Y)Exp(theta(2)*Z)H|0\\rangle\n",
    "    \n",
    "        Params\n",
    "        ------\n",
    "        theta[0] : rotation in the X\n",
    "        theta[1] : rotation in the Y\n",
    "        theta[2] : rotation in the Z\n",
    "    \n",
    "    \"\"\"\n",
    "    thetaX=theta[0]\n",
    "    thetaY=theta[1]\n",
    "    thetaZ=theta[2]\n",
    "    psi=quantummap.Gate1(quantummap.Hsingle,psi)\n",
    "    psi=quantummap.Gate1(quantummap.EX(thetaX),psi)\n",
    "    psi=quantummap.Gate1(quantummap.EY(thetaY),psi)\n",
    "    psi=quantummap.Gate1(quantummap.EZ(thetaZ),psi)\n",
    "    \n",
    "    return psi"
   ]
  },
  {
   "cell_type": "markdown",
   "id": "22218a7b-2c93-4bad-a29b-ee9ac16d52ad",
   "metadata": {},
   "source": [
    "## Test the feature map"
   ]
  },
  {
   "cell_type": "markdown",
   "id": "60eb3fd7-c383-4a83-ac4d-9466bca44b2c",
   "metadata": {},
   "source": [
    "Define a vector of parameters"
   ]
  },
  {
   "cell_type": "code",
   "execution_count": 7,
   "id": "5c7cbf82-1fd4-4236-a074-1447df54100d",
   "metadata": {},
   "outputs": [],
   "source": [
    "theta=[2.0,0.0,1.0]"
   ]
  },
  {
   "cell_type": "markdown",
   "id": "6a9af000-1a46-4723-845d-9553e7601107",
   "metadata": {},
   "source": [
    "Print the feature map at theta"
   ]
  },
  {
   "cell_type": "code",
   "execution_count": 8,
   "id": "29367e0f-5fa2-4511-a503-be2a9a6aa755",
   "metadata": {},
   "outputs": [
    {
     "name": "stdout",
     "output_type": "stream",
     "text": [
      "tf.Tensor([-0.7 +0.1j  0.38+0.6j], shape=(2,), dtype=complex64)\n"
     ]
    }
   ],
   "source": [
    "print(FeatureMapU(theta))"
   ]
  },
  {
   "cell_type": "markdown",
   "id": "8446962c-a567-40f0-9fcb-2803c726f4df",
   "metadata": {
    "tags": []
   },
   "source": [
    "# Layer with weights theta and output mean Hamiltonian"
   ]
  },
  {
   "cell_type": "code",
   "execution_count": 9,
   "id": "dd112102-a986-4cd5-955b-45d0c2a03283",
   "metadata": {},
   "outputs": [],
   "source": [
    "class HamiltonianLayer(tf.keras.layers.Layer):\n",
    "    # Define a Layer returning the mean value of the Hamiltonian\n",
    "    # on the variational ansatz\n",
    "    #\n",
    "    # The layer has a trainable parameters the \n",
    "    # parameters theta of the trainable feature map\n",
    "    # theta[0] as theta_x\n",
    "    # theta[1] as theta_y\n",
    "    # theta[2] as theta_z\n",
    "    #\n",
    "    # The Layer use the functions\n",
    "    # Hamiltonian\n",
    "    # FeatureMapU\n",
    "    #\n",
    "    # The constructor use parameters \n",
    "    #\n",
    "    #  Params\n",
    "    #  ------\n",
    "    #  J : positive Z coefficinet\n",
    "    #  h : positive field \n",
    "    #\n",
    "    #  Example\n",
    "    #  -------\n",
    "    #  HL=HL(J=.5, h=1.2)\n",
    "    #\n",
    "    #  The call return the real part of \n",
    "    #  <\\psi|H\\psi>\n",
    "    #\n",
    "    def __init__(self, J=1.0, h=0.0, **kwargs):\n",
    "        super(HamiltonianLayer, self).__init__(**kwargs)\n",
    "        # trainable parameter of the model\n",
    "        # initially set as random (real variables)\n",
    "        self.theta=tf.Variable(np.random.random(3),\n",
    "                               dtype=tf.float32,\n",
    "                              name='theta')\n",
    "        # gap coefficient\n",
    "        self.J=J\n",
    "        # field coefficient\n",
    "        self.h=h\n",
    "        # Hamiltonian\n",
    "        self.H=Hamiltonian(J=self.J,h=self.h)\n",
    "        # Feature map for the ground state\n",
    "        self.FeatureMap=FeatureMapU\n",
    "    def ground_state(self):\n",
    "        \"\"\" Return the current ground state \"\"\"\n",
    "        psi=self.FeatureMap(self.theta,quantummap.qubit0)\n",
    "        return psi\n",
    "    def call(self,dummy):\n",
    "        \"\"\" Return Re<H> \n",
    "        Remark:  this layer has a dummy variable as input\n",
    "        (required for compatibility with tensorflow call)\n",
    "        \"\"\"\n",
    "        #psi=self.FeatureMap(self.theta,quantummap.qubit0)\n",
    "        psi=self.ground_state()\n",
    "        meanH=quantummap.Scalar(psi, \n",
    "                                quantummap.Gate1(self.H, psi))\n",
    "        return tf.math.real(meanH)"
   ]
  },
  {
   "cell_type": "markdown",
   "id": "12a2daca-0172-4179-9eca-ef3189e388e5",
   "metadata": {},
   "source": [
    "## test the layer"
   ]
  },
  {
   "cell_type": "markdown",
   "id": "3c793cce-4eaf-4e32-b333-eec7865cc91f",
   "metadata": {},
   "source": [
    "create a layer with a name scope"
   ]
  },
  {
   "cell_type": "code",
   "execution_count": 10,
   "id": "3c51c2f1-a6c0-42dc-80f2-ebef62453c09",
   "metadata": {},
   "outputs": [],
   "source": [
    "HL=HamiltonianLayer()"
   ]
  },
  {
   "cell_type": "markdown",
   "id": "bb33cb78-3b76-47c0-b765-a584533376a4",
   "metadata": {},
   "source": [
    "print the parameters of the Hamiltonian"
   ]
  },
  {
   "cell_type": "code",
   "execution_count": 11,
   "id": "634d6a2a-447e-4a24-a674-437f02fac4e1",
   "metadata": {},
   "outputs": [
    {
     "name": "stdout",
     "output_type": "stream",
     "text": [
      "[1.0, 0.0]\n"
     ]
    }
   ],
   "source": [
    "print([HL.J, HL.h])"
   ]
  },
  {
   "cell_type": "markdown",
   "id": "2be3a8d2-4c4b-4e22-bc70-c562898d9865",
   "metadata": {},
   "source": [
    "print the Hamiltonian"
   ]
  },
  {
   "cell_type": "code",
   "execution_count": 12,
   "id": "df59be30-b30f-4600-b492-699f07f65260",
   "metadata": {},
   "outputs": [
    {
     "name": "stdout",
     "output_type": "stream",
     "text": [
      "tf.Tensor(\n",
      "[[-1.+0.j -0.+0.j]\n",
      " [-0.+0.j  1.-0.j]], shape=(2, 2), dtype=complex64)\n"
     ]
    }
   ],
   "source": [
    "print(HL.H)"
   ]
  },
  {
   "cell_type": "markdown",
   "id": "a54c4b1b-674a-4f7c-8862-77e4b12a5804",
   "metadata": {},
   "source": [
    "Print the randomly generated ground state"
   ]
  },
  {
   "cell_type": "code",
   "execution_count": 13,
   "id": "25eb6840-5bcb-485c-a5b7-44c3fe432e18",
   "metadata": {},
   "outputs": [
    {
     "name": "stdout",
     "output_type": "stream",
     "text": [
      "tf.Tensor([ 0.39+0.92j -0.01+0.j  ], shape=(2,), dtype=complex64)\n"
     ]
    }
   ],
   "source": [
    "print(HL.ground_state())"
   ]
  },
  {
   "cell_type": "markdown",
   "id": "90bca971-00dd-4c22-913f-4b5b871a495a",
   "metadata": {},
   "source": [
    "print the weights"
   ]
  },
  {
   "cell_type": "code",
   "execution_count": 14,
   "id": "fc161867-065e-4b46-b3ad-c63d398031f1",
   "metadata": {},
   "outputs": [
    {
     "name": "stdout",
     "output_type": "stream",
     "text": [
      "[[0.514301121 0.792673767 0.656175673]]\n"
     ]
    }
   ],
   "source": [
    "tf.print(HL.weights)"
   ]
  },
  {
   "cell_type": "code",
   "execution_count": 15,
   "id": "cbc94d5f-37fd-49c5-9acd-0e42e56bf734",
   "metadata": {},
   "outputs": [
    {
     "name": "stdout",
     "output_type": "stream",
     "text": [
      "[<tf.Variable 'theta:0' shape=(3,) dtype=float32, numpy=array([0.51, 0.79, 0.66], dtype=float32)>]\n"
     ]
    }
   ],
   "source": [
    "print(HL.weights)"
   ]
  },
  {
   "cell_type": "markdown",
   "id": "f877fe81-f4fd-490e-9ad6-484695e7fbce",
   "metadata": {},
   "source": [
    "the weights correspond to the variable theta"
   ]
  },
  {
   "cell_type": "code",
   "execution_count": 16,
   "id": "817e4446-5c7a-4d5a-868f-fa94d978f90c",
   "metadata": {},
   "outputs": [
    {
     "name": "stdout",
     "output_type": "stream",
     "text": [
      "<tf.Variable 'theta:0' shape=(3,) dtype=float32, numpy=array([0.51, 0.79, 0.66], dtype=float32)>\n"
     ]
    }
   ],
   "source": [
    "print(HL.theta)"
   ]
  },
  {
   "cell_type": "code",
   "execution_count": 17,
   "id": "0212d14b-fe0a-4e2a-9f26-de3b8e059a6c",
   "metadata": {},
   "outputs": [
    {
     "data": {
      "text/plain": [
       "<tf.Tensor: shape=(1, 1), dtype=float32, numpy=array([[-1.]], dtype=float32)>"
      ]
     },
     "execution_count": 17,
     "metadata": {},
     "output_type": "execute_result"
    }
   ],
   "source": [
    "HL(0)"
   ]
  },
  {
   "cell_type": "markdown",
   "id": "36786539-6cc7-4a60-8f8c-2bf0f24fb0f2",
   "metadata": {
    "tags": []
   },
   "source": [
    "# Define and train the model"
   ]
  },
  {
   "cell_type": "code",
   "execution_count": 18,
   "id": "b7969efe-966f-4268-9f51-c28383a43845",
   "metadata": {},
   "outputs": [],
   "source": [
    "# hyperparameter for the Hamiltonain\n",
    "J=1.0\n",
    "h=1.7\n",
    "# Input layer (one dummy input)\n",
    "xin = tf.keras.layers.Input(1);\n",
    "# Hamiltonianl layer\n",
    "HL=HamiltonianLayer(J=J,h=h)\n",
    "# output\n",
    "meanH=HL(xin)\n",
    "# trainable model returning meanH\n",
    "Ising = tf.keras.Model(inputs = xin, outputs=meanH)"
   ]
  },
  {
   "cell_type": "markdown",
   "id": "5e223d0d-ca6b-408d-a53f-9a479fd31705",
   "metadata": {},
   "source": [
    "## Test the model"
   ]
  },
  {
   "cell_type": "code",
   "execution_count": 19,
   "id": "12852e1b-a3d7-4678-b21c-eb222f67c266",
   "metadata": {},
   "outputs": [
    {
     "name": "stdout",
     "output_type": "stream",
     "text": [
      "[[-0.783797]]\n"
     ]
    }
   ],
   "source": [
    "tf.print(Ising(2.5))"
   ]
  },
  {
   "cell_type": "markdown",
   "id": "27aac158-5bea-4960-9d3a-2b7027d1ea3d",
   "metadata": {},
   "source": [
    "## Add loss function"
   ]
  },
  {
   "cell_type": "code",
   "execution_count": 20,
   "id": "358a5e97-835c-4d2b-93d2-00c87ac00cbf",
   "metadata": {},
   "outputs": [],
   "source": [
    "# add loss function\n",
    "Ising.add_loss(meanH)"
   ]
  },
  {
   "cell_type": "markdown",
   "id": "d6cb30eb-3b1d-454c-aaca-5c4c6c9ba0fb",
   "metadata": {},
   "source": [
    "## Summary of the model"
   ]
  },
  {
   "cell_type": "code",
   "execution_count": 21,
   "id": "04c8f62f-f489-46fe-9b4a-6c7dc9f9adf6",
   "metadata": {},
   "outputs": [
    {
     "name": "stdout",
     "output_type": "stream",
     "text": [
      "Model: \"model\"\n",
      "_________________________________________________________________\n",
      " Layer (type)                Output Shape              Param #   \n",
      "=================================================================\n",
      " input_1 (InputLayer)        [(None, 1)]               0         \n",
      "                                                                 \n",
      " hamiltonian_layer_1 (Hamilt  (1, 1)                   3         \n",
      " onianLayer)                                                     \n",
      "                                                                 \n",
      " add_loss (AddLoss)          (1, 1)                    0         \n",
      "                                                                 \n",
      "=================================================================\n",
      "Total params: 3\n",
      "Trainable params: 3\n",
      "Non-trainable params: 0\n",
      "_________________________________________________________________\n"
     ]
    }
   ],
   "source": [
    "Ising.summary()"
   ]
  },
  {
   "cell_type": "markdown",
   "id": "3d526dac-2488-45b5-8c7f-1df7e32f5024",
   "metadata": {},
   "source": [
    "## Plot model"
   ]
  },
  {
   "cell_type": "code",
   "execution_count": 22,
   "id": "334eb9e2-b802-4e52-a2b1-88bcca265755",
   "metadata": {},
   "outputs": [
    {
     "data": {
      "image/png": "[encoded data removed]",
      "text/plain": [
       "<IPython.core.display.Image object>"
      ]
     },
     "execution_count": 22,
     "metadata": {},
     "output_type": "execute_result"
    }
   ],
   "source": [
    "from keras.utils.vis_utils import plot_model\n",
    "# save as pdf\n",
    "plot_model(Ising, to_file='singlequbitIsing_plot.pdf', show_shapes=True, show_layer_names=True)\n",
    "# save and display as png\n",
    "plot_model(Ising, to_file='singlequbitIsing_plot.png', show_shapes=True, show_layer_names=True)"
   ]
  },
  {
   "cell_type": "markdown",
   "id": "c1b7d50f-b61a-4ef7-a28c-dea8ec9a59ec",
   "metadata": {},
   "source": [
    "## Store the ground state before training"
   ]
  },
  {
   "cell_type": "code",
   "execution_count": 23,
   "id": "c0ce70a0-84ba-4d27-8b7b-4d4008306726",
   "metadata": {},
   "outputs": [
    {
     "name": "stdout",
     "output_type": "stream",
     "text": [
      "tf.Tensor([ 0.44+0.9j  -0.09-0.02j], shape=(2,), dtype=complex64)\n"
     ]
    }
   ],
   "source": [
    "ground_state_0=tf.identity(HL.ground_state())\n",
    "print(ground_state_0)"
   ]
  },
  {
   "cell_type": "markdown",
   "id": "97901a4a-70f3-4af0-9e5d-b65cd7295faf",
   "metadata": {},
   "source": [
    "## Store the weights before training"
   ]
  },
  {
   "cell_type": "code",
   "execution_count": 24,
   "id": "96accb82-0a79-41e9-bac1-bd90e9ca9373",
   "metadata": {},
   "outputs": [
    {
     "name": "stdout",
     "output_type": "stream",
     "text": [
      "tf.Tensor([[0.69 0.88 0.43]], shape=(1, 3), dtype=float32)\n"
     ]
    }
   ],
   "source": [
    "weight0=tf.identity(Ising.weights)\n",
    "print(weight0)"
   ]
  },
  {
   "cell_type": "markdown",
   "id": "149dc207-37ad-4516-97a2-f548efa999c5",
   "metadata": {},
   "source": [
    "## Train"
   ]
  },
  {
   "cell_type": "code",
   "execution_count": 25,
   "id": "0cbc57f5-8c8f-4a53-88b5-0325d462235c",
   "metadata": {},
   "outputs": [],
   "source": [
    "Ising.compile(optimizer=tf.keras.optimizers.Adam(learning_rate=0.01))"
   ]
  },
  {
   "cell_type": "code",
   "execution_count": 26,
   "id": "cf5e5a6e-c202-4737-8b2b-173fade084d9",
   "metadata": {},
   "outputs": [],
   "source": [
    "history = Ising.fit(x=np.zeros(10,),epochs=1000, verbose=0)"
   ]
  },
  {
   "cell_type": "code",
   "execution_count": 27,
   "id": "e7b94b7c-7f1d-420e-b02d-82b1af50e30b",
   "metadata": {},
   "outputs": [
    {
     "data": {
      "text/plain": [
       "[<tf.Variable 'theta:0' shape=(3,) dtype=float32, numpy=array([ 8.67e-01,  2.66e-01, -8.96e-09], dtype=float32)>]"
      ]
     },
     "execution_count": 27,
     "metadata": {},
     "output_type": "execute_result"
    }
   ],
   "source": [
    "Ising.weights"
   ]
  },
  {
   "cell_type": "code",
   "execution_count": 28,
   "id": "0705e5d8-5841-497f-9a80-3867d1ab9186",
   "metadata": {},
   "outputs": [
    {
     "data": {
      "image/png": "[encoded data removed]",
      "text/plain": [
       "<Figure size 640x480 with 1 Axes>"
      ]
     },
     "metadata": {},
     "output_type": "display_data"
    }
   ],
   "source": [
    "# %%\n",
    "# %matplotlib inline\n",
    "# Plot training & validation accuracy values\n",
    "f1 = plt.figure\n",
    "plt.subplot(2, 1, 1)\n",
    "plt.plot(history.history['loss'])\n",
    "plt.ylabel('<H>')\n",
    "plt.xlabel('Epoch')\n",
    "#print the training hystory on a file\n",
    "plt. savefig(\"trainingIsing1.pdf\", format=\"pdf\", bbox_inches=\"tight\")"
   ]
  },
  {
   "cell_type": "markdown",
   "id": "df0e2bed-b231-4837-8b1a-af5a09e6559e",
   "metadata": {},
   "source": [
    "Final value for the mean Hamiltonian"
   ]
  },
  {
   "cell_type": "code",
   "execution_count": 29,
   "id": "f1eed22e-f398-48fb-a5f6-17a66b742fba",
   "metadata": {},
   "outputs": [
    {
     "name": "stdout",
     "output_type": "stream",
     "text": [
      "-1.9723081588745117\n"
     ]
    }
   ],
   "source": [
    "print(history.history['loss'][-1])"
   ]
  },
  {
   "cell_type": "markdown",
   "id": "f42d0602-beef-4abe-be35-68516a61936b",
   "metadata": {},
   "source": [
    "Theoretical value for the eigenvalue"
   ]
  },
  {
   "cell_type": "code",
   "execution_count": 30,
   "id": "ff446191-482c-4528-bd5b-b03f41448e29",
   "metadata": {},
   "outputs": [
    {
     "data": {
      "text/plain": [
       "-1.972308292331602"
      ]
     },
     "execution_count": 30,
     "metadata": {},
     "output_type": "execute_result"
    }
   ],
   "source": [
    "-np.sqrt(J**2+h**2)"
   ]
  },
  {
   "cell_type": "markdown",
   "id": "de327daf-73bd-45fd-b003-c19c14f84e1b",
   "metadata": {},
   "source": [
    "## Ground state after training"
   ]
  },
  {
   "cell_type": "code",
   "execution_count": 31,
   "id": "95ccd8e9-027b-4b8d-ad7b-ff391703242d",
   "metadata": {},
   "outputs": [
    {
     "name": "stdout",
     "output_type": "stream",
     "text": [
      "array([0.56, 0.32], dtype=float32)\n",
      "array([0.66, 0.38], dtype=float32)\n",
      "[0.56+0.66j 0.32+0.38j]\n"
     ]
    }
   ],
   "source": [
    "ground_state=HL.ground_state()\n",
    "tf.print(tf.math.real(ground_state).numpy())\n",
    "tf.print(tf.math.imag(ground_state).numpy())\n",
    "print(HL.ground_state().numpy())"
   ]
  },
  {
   "cell_type": "code",
   "execution_count": 32,
   "id": "ab772531-27d2-4505-8dca-ed3b4b30adbb",
   "metadata": {},
   "outputs": [
    {
     "name": "stdout",
     "output_type": "stream",
     "text": [
      "[0.56+0.66j 0.32+0.38j]\n"
     ]
    }
   ],
   "source": [
    "ev=HL.ground_state().numpy()\n",
    "print(ev)"
   ]
  },
  {
   "cell_type": "code",
   "execution_count": 33,
   "id": "2d385587-13cc-4ece-a709-dd8009fc2ae6",
   "metadata": {},
   "outputs": [
    {
     "data": {
      "text/plain": [
       "array([1.75+1.83e-07j, 1.  +0.00e+00j], dtype=complex64)"
      ]
     },
     "execution_count": 33,
     "metadata": {},
     "output_type": "execute_result"
    }
   ],
   "source": [
    "ev/ev[1]"
   ]
  },
  {
   "cell_type": "code",
   "execution_count": 34,
   "id": "7c9c2cc5-b5ec-44af-a0c9-ad16664dcac0",
   "metadata": {},
   "outputs": [
    {
     "data": {
      "text/plain": [
       "1.7484166425480012"
      ]
     },
     "execution_count": 34,
     "metadata": {},
     "output_type": "execute_result"
    }
   ],
   "source": [
    "# theoretical value of the first component\n",
    "(J+np.sqrt(J**2+h**2))/h"
   ]
  },
  {
   "cell_type": "code",
   "execution_count": 35,
   "id": "2f077625-3f83-4428-87d6-a818ec7eae63",
   "metadata": {},
   "outputs": [
    {
     "data": {
      "text/plain": [
       "<tf.Tensor: shape=(1, 1), dtype=complex64, numpy=array([[1.+0.j]], dtype=complex64)>"
      ]
     },
     "execution_count": 35,
     "metadata": {},
     "output_type": "execute_result"
    }
   ],
   "source": [
    "# check if gound state is normalized\n",
    "quantummap.Scalar(ground_state,ground_state)"
   ]
  },
  {
   "cell_type": "code",
   "execution_count": 36,
   "id": "4c63447f-7ae6-47a8-a2f2-6d7031868d9e",
   "metadata": {},
   "outputs": [
    {
     "name": "stdout",
     "output_type": "stream",
     "text": [
      "tf.Tensor([ 0.44+0.9j  -0.09-0.02j], shape=(2,), dtype=complex64)\n"
     ]
    }
   ],
   "source": [
    "# ground state before training\n",
    "print(ground_state_0)"
   ]
  },
  {
   "cell_type": "code",
   "execution_count": 37,
   "id": "ffd2d3d3-b2f7-4ba1-9129-41425dd05785",
   "metadata": {},
   "outputs": [
    {
     "data": {
      "text/plain": [
       "<tf.Variable 'theta:0' shape=(3,) dtype=float32, numpy=array([ 8.67e-01,  2.66e-01, -8.96e-09], dtype=float32)>"
      ]
     },
     "execution_count": 37,
     "metadata": {},
     "output_type": "execute_result"
    }
   ],
   "source": [
    "Ising.weights[0]"
   ]
  },
  {
   "cell_type": "code",
   "execution_count": 38,
   "id": "2713436a-b703-4ff3-9f56-c98f2245847c",
   "metadata": {},
   "outputs": [
    {
     "data": {
      "text/plain": [
       "<tf.Tensor: shape=(1, 3), dtype=float32, numpy=array([[0.69, 0.88, 0.43]], dtype=float32)>"
      ]
     },
     "execution_count": 38,
     "metadata": {},
     "output_type": "execute_result"
    }
   ],
   "source": [
    "# weights before training\n",
    "weight0"
   ]
  },
  {
   "cell_type": "code",
   "execution_count": 39,
   "id": "c3d3cbd2-3afe-4c88-8280-75d3c6d71e3b",
   "metadata": {},
   "outputs": [
    {
     "data": {
      "text/plain": [
       "<tf.Variable 'theta:0' shape=(3,) dtype=float32, numpy=array([ 8.67e-01,  2.66e-01, -8.96e-09], dtype=float32)>"
      ]
     },
     "execution_count": 39,
     "metadata": {},
     "output_type": "execute_result"
    }
   ],
   "source": [
    "HL.theta"
   ]
  },
  {
   "cell_type": "code",
   "execution_count": 40,
   "id": "376166ab-ffaf-490d-967f-bfdba6238a59",
   "metadata": {},
   "outputs": [
    {
     "name": "stdout",
     "output_type": "stream",
     "text": [
      "tf.Tensor([0.56+0.66j 0.32+0.38j], shape=(2,), dtype=complex64)\n"
     ]
    }
   ],
   "source": [
    "psi=FeatureMapU(Ising.weights[0],quantummap.qubit0)\n",
    "print(psi)"
   ]
  },
  {
   "cell_type": "code",
   "execution_count": 41,
   "id": "5a752e70-46eb-49af-9346-a0fa2a8cdfc2",
   "metadata": {},
   "outputs": [
    {
     "data": {
      "text/plain": [
       "<tf.Variable 'theta:0' shape=(3,) dtype=float32, numpy=array([ 8.67e-01,  2.66e-01, -8.96e-09], dtype=float32)>"
      ]
     },
     "execution_count": 41,
     "metadata": {},
     "output_type": "execute_result"
    }
   ],
   "source": [
    "HL.theta"
   ]
  },
  {
   "cell_type": "code",
   "execution_count": 42,
   "id": "7fc209d4-6740-4e2c-96c0-f1829ab17625",
   "metadata": {},
   "outputs": [
    {
     "data": {
      "text/plain": [
       "[<tf.Variable 'theta:0' shape=(3,) dtype=float32, numpy=array([ 8.67e-01,  2.66e-01, -8.96e-09], dtype=float32)>]"
      ]
     },
     "execution_count": 42,
     "metadata": {},
     "output_type": "execute_result"
    }
   ],
   "source": [
    "HL.weights"
   ]
  },
  {
   "cell_type": "code",
   "execution_count": 43,
   "id": "31e54deb-e907-4d05-9a63-b80d99177aa3",
   "metadata": {},
   "outputs": [
    {
     "data": {
      "text/plain": [
       "<tf.Tensor: shape=(1, 1), dtype=float32, numpy=array([[-1.97]], dtype=float32)>"
      ]
     },
     "execution_count": 43,
     "metadata": {},
     "output_type": "execute_result"
    }
   ],
   "source": [
    "HL(0)"
   ]
  },
  {
   "cell_type": "code",
   "execution_count": null,
   "id": "fe3ab877-2fa0-4657-a47e-f323a125b2a2",
   "metadata": {},
   "outputs": [],
   "source": []
  }
 ],
 "metadata": {
  "kernelspec": {
   "display_name": "Python 3 (ipykernel)",
   "language": "python",
   "name": "python3"
  },
  "language_info": {
   "codemirror_mode": {
    "name": "ipython",
    "version": 3
   },
   "file_extension": ".py",
   "mimetype": "text/x-python",
   "name": "python",
   "nbconvert_exporter": "python",
   "pygments_lexer": "ipython3",
   "version": "3.10.12"
  }
 },
 "nbformat": 4,
 "nbformat_minor": 5
}
