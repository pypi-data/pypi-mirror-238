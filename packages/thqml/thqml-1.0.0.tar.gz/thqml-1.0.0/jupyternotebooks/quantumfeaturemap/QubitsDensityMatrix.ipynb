{
 "cells": [
  {
   "cell_type": "markdown",
   "id": "475fd5e6",
   "metadata": {},
   "source": [
    "# Bra and Ket with tensors and the density matrix\n",
    "\n",
    "\n",
    "\n",
    "<img src=\"../logo_circular.png\" width=\"20\" height=\"20\" />@by claudio<br>\n",
    "nonlinearxwaves@gmail.com<br>\n",
    "\n",
    "\n",
    "@created 1 August 2022<br>\n",
    "@version 6 October 2023<br>"
   ]
  },
  {
   "cell_type": "code",
   "execution_count": 1,
   "id": "f19963c5-1c2b-4f7b-81c4-6cb759dc9c98",
   "metadata": {},
   "outputs": [],
   "source": [
    "import os\n",
    "os.environ['TF_CPP_MIN_LOG_LEVEL'] = '2' # disable warning messages "
   ]
  },
  {
   "cell_type": "code",
   "execution_count": 2,
   "id": "64b94ee2",
   "metadata": {},
   "outputs": [],
   "source": [
    "from thqml import quantummap as qm\n",
    "import tensorflow as tf\n",
    "import numpy as np\n",
    "#from quomplex2021.utilities import utilities as u\n",
    "import matplotlib.pyplot as plt\n",
    "from matplotlib import cm"
   ]
  },
  {
   "cell_type": "code",
   "execution_count": 3,
   "id": "dc1929f5",
   "metadata": {},
   "outputs": [],
   "source": [
    "mytype=tf.complex64"
   ]
  },
  {
   "cell_type": "markdown",
   "id": "5f889465",
   "metadata": {},
   "source": [
    "define the type for the qubits"
   ]
  },
  {
   "cell_type": "markdown",
   "id": "b7b6a484",
   "metadata": {},
   "source": [
    "## Define the qbuit as an ancilla state"
   ]
  },
  {
   "cell_type": "code",
   "execution_count": 4,
   "id": "bf9d0e45",
   "metadata": {},
   "outputs": [
    {
     "name": "stdout",
     "output_type": "stream",
     "text": [
      "tf.Tensor([1.+0.j 0.+0.j], shape=(2,), dtype=complex64)\n"
     ]
    }
   ],
   "source": [
    "qubit0 = tf.constant([1,0],dtype=mytype)\n",
    "print(qubit0)"
   ]
  },
  {
   "cell_type": "code",
   "execution_count": 5,
   "id": "4455ca48",
   "metadata": {},
   "outputs": [
    {
     "name": "stdout",
     "output_type": "stream",
     "text": [
      "tf.Tensor([0.+0.j 1.+0.j], shape=(2,), dtype=complex64)\n"
     ]
    }
   ],
   "source": [
    "qubit1 = tf.constant([0,1],dtype=mytype)\n",
    "print(qubit1)"
   ]
  },
  {
   "cell_type": "markdown",
   "id": "f3fc1863",
   "metadata": {},
   "source": [
    "### Test the covectors for the states"
   ]
  },
  {
   "cell_type": "code",
   "execution_count": 6,
   "id": "3ff844bc",
   "metadata": {},
   "outputs": [
    {
     "name": "stdout",
     "output_type": "stream",
     "text": [
      "tf.Tensor([1.-0.j 0.-0.j], shape=(2,), dtype=complex64)\n"
     ]
    }
   ],
   "source": [
    "coqubit0=tf.transpose(qubit0,conjugate=True); \n",
    "print(coqubit0)"
   ]
  },
  {
   "cell_type": "code",
   "execution_count": 7,
   "id": "d2cd4faa",
   "metadata": {},
   "outputs": [
    {
     "name": "stdout",
     "output_type": "stream",
     "text": [
      "tf.Tensor([1.-0.j 0.-0.j], shape=(2,), dtype=complex64)\n"
     ]
    }
   ],
   "source": [
    "# alternative definition of covector\n",
    "coqubit0=tf.math.conj(qubit0); \n",
    "print(coqubit0)"
   ]
  },
  {
   "cell_type": "code",
   "execution_count": 8,
   "id": "f14a4c02",
   "metadata": {},
   "outputs": [
    {
     "name": "stdout",
     "output_type": "stream",
     "text": [
      "tf.Tensor([0.-0.j 1.-0.j], shape=(2,), dtype=complex64)\n"
     ]
    }
   ],
   "source": [
    "coqubit1=tf.transpose(qubit1,conjugate=True); \n",
    "print(coqubit1)"
   ]
  },
  {
   "cell_type": "markdown",
   "id": "a53796c6",
   "metadata": {},
   "source": [
    "### Test the scalar product"
   ]
  },
  {
   "cell_type": "markdown",
   "id": "6a613ee9",
   "metadata": {},
   "source": [
    "$\\langle 0|0\\rangle$"
   ]
  },
  {
   "cell_type": "code",
   "execution_count": 9,
   "id": "547eaa79",
   "metadata": {},
   "outputs": [
    {
     "data": {
      "text/plain": [
       "<tf.Tensor: shape=(), dtype=complex64, numpy=(1+0j)>"
      ]
     },
     "execution_count": 9,
     "metadata": {},
     "output_type": "execute_result"
    }
   ],
   "source": [
    "tf.tensordot(coqubit0,qubit0,axes=1)"
   ]
  },
  {
   "cell_type": "markdown",
   "id": "16e90adc",
   "metadata": {},
   "source": [
    "$\\langle 1|1\\rangle$"
   ]
  },
  {
   "cell_type": "code",
   "execution_count": 10,
   "id": "922e0423",
   "metadata": {},
   "outputs": [
    {
     "data": {
      "text/plain": [
       "<tf.Tensor: shape=(), dtype=complex64, numpy=(1+0j)>"
      ]
     },
     "execution_count": 10,
     "metadata": {},
     "output_type": "execute_result"
    }
   ],
   "source": [
    "tf.tensordot(coqubit1,qubit1,axes=1)"
   ]
  },
  {
   "cell_type": "markdown",
   "id": "0bfd2ce4",
   "metadata": {},
   "source": [
    "$\\langle 0|1\\rangle$"
   ]
  },
  {
   "cell_type": "code",
   "execution_count": 11,
   "id": "43b39237",
   "metadata": {},
   "outputs": [
    {
     "data": {
      "text/plain": [
       "<tf.Tensor: shape=(), dtype=complex64, numpy=0j>"
      ]
     },
     "execution_count": 11,
     "metadata": {},
     "output_type": "execute_result"
    }
   ],
   "source": [
    "tf.tensordot(coqubit0,qubit1,axes=1)"
   ]
  },
  {
   "cell_type": "markdown",
   "id": "bd0e9c16",
   "metadata": {},
   "source": [
    "$\\langle 1|0\\rangle$"
   ]
  },
  {
   "cell_type": "code",
   "execution_count": 12,
   "id": "9f09b2cf",
   "metadata": {},
   "outputs": [
    {
     "data": {
      "text/plain": [
       "<tf.Tensor: shape=(), dtype=complex64, numpy=0j>"
      ]
     },
     "execution_count": 12,
     "metadata": {},
     "output_type": "execute_result"
    }
   ],
   "source": [
    "tf.tensordot(coqubit1,qubit0,axes=1)"
   ]
  },
  {
   "cell_type": "markdown",
   "id": "4e5b8c73",
   "metadata": {},
   "source": [
    "### Test the density matrix"
   ]
  },
  {
   "cell_type": "markdown",
   "id": "cb27e527",
   "metadata": {},
   "source": [
    "$|0\\rangle\\langle 0|$"
   ]
  },
  {
   "cell_type": "markdown",
   "id": "5cacdea4",
   "metadata": {},
   "source": [
    "Note the order in the tensor dot opposite with respect to the scalar product"
   ]
  },
  {
   "cell_type": "code",
   "execution_count": 13,
   "id": "74ef7f6c",
   "metadata": {},
   "outputs": [
    {
     "data": {
      "text/plain": [
       "<tf.Tensor: shape=(2, 2), dtype=complex64, numpy=\n",
       "array([[1.+0.j, 0.+0.j],\n",
       "       [0.+0.j, 0.+0.j]], dtype=complex64)>"
      ]
     },
     "execution_count": 13,
     "metadata": {},
     "output_type": "execute_result"
    }
   ],
   "source": [
    "tf.tensordot(qubit0,coqubit0,axes=0)"
   ]
  },
  {
   "cell_type": "markdown",
   "id": "ccb4555d",
   "metadata": {},
   "source": [
    "$|1\\rangle\\langle 1|$"
   ]
  },
  {
   "cell_type": "code",
   "execution_count": 14,
   "id": "f35f8015",
   "metadata": {},
   "outputs": [
    {
     "data": {
      "text/plain": [
       "<tf.Tensor: shape=(2, 2), dtype=complex64, numpy=\n",
       "array([[0.+0.j, 0.+0.j],\n",
       "       [0.+0.j, 1.+0.j]], dtype=complex64)>"
      ]
     },
     "execution_count": 14,
     "metadata": {},
     "output_type": "execute_result"
    }
   ],
   "source": [
    "tf.tensordot(qubit1, coqubit1,axes=0)"
   ]
  },
  {
   "cell_type": "markdown",
   "id": "c0de9e7c",
   "metadata": {},
   "source": [
    "$|1\\rangle\\langle 0|$"
   ]
  },
  {
   "cell_type": "code",
   "execution_count": 15,
   "id": "a206d428",
   "metadata": {},
   "outputs": [
    {
     "data": {
      "text/plain": [
       "<tf.Tensor: shape=(2, 2), dtype=complex64, numpy=\n",
       "array([[0.+0.j, 0.+0.j],\n",
       "       [1.+0.j, 0.+0.j]], dtype=complex64)>"
      ]
     },
     "execution_count": 15,
     "metadata": {},
     "output_type": "execute_result"
    }
   ],
   "source": [
    "tf.tensordot(qubit1,coqubit0,axes=0)"
   ]
  },
  {
   "cell_type": "markdown",
   "id": "8896daff",
   "metadata": {},
   "source": [
    "$|0\\rangle\\langle 1|$"
   ]
  },
  {
   "cell_type": "code",
   "execution_count": 16,
   "id": "9f97d5ed",
   "metadata": {},
   "outputs": [
    {
     "data": {
      "text/plain": [
       "<tf.Tensor: shape=(2, 2), dtype=complex64, numpy=\n",
       "array([[0.+0.j, 1.+0.j],\n",
       "       [0.+0.j, 0.+0.j]], dtype=complex64)>"
      ]
     },
     "execution_count": 16,
     "metadata": {},
     "output_type": "execute_result"
    }
   ],
   "source": [
    "tf.tensordot(qubit0,coqubit1,axes=0)"
   ]
  },
  {
   "cell_type": "markdown",
   "id": "49c29574",
   "metadata": {},
   "source": [
    "### Consider a state as a linear combination of `qubit0` and `qubit1`"
   ]
  },
  {
   "cell_type": "code",
   "execution_count": 17,
   "id": "33cabef4",
   "metadata": {},
   "outputs": [
    {
     "name": "stdout",
     "output_type": "stream",
     "text": [
      "tf.Tensor([0.70710677+0.j         0.        +0.70710677j], shape=(2,), dtype=complex64)\n"
     ]
    }
   ],
   "source": [
    "psi=qubit0/np.sqrt(2.0)+1j*qubit1/np.sqrt(2.0)\n",
    "print(psi)"
   ]
  },
  {
   "cell_type": "markdown",
   "id": "3011c366",
   "metadata": {},
   "source": [
    "Note that in general linear combinations are not normalized"
   ]
  },
  {
   "cell_type": "markdown",
   "id": "44a72be8",
   "metadata": {},
   "source": [
    "### Normalize the state"
   ]
  },
  {
   "cell_type": "code",
   "execution_count": 18,
   "id": "acf15aaa",
   "metadata": {},
   "outputs": [
    {
     "name": "stdout",
     "output_type": "stream",
     "text": [
      "tf.Tensor((0.99999994+0j), shape=(), dtype=complex64)\n"
     ]
    }
   ],
   "source": [
    "normpsi=tf.tensordot(tf.math.conj(psi),psi,axes=1);\n",
    "print(normpsi)"
   ]
  },
  {
   "cell_type": "code",
   "execution_count": 19,
   "id": "5052f043",
   "metadata": {},
   "outputs": [
    {
     "name": "stdout",
     "output_type": "stream",
     "text": [
      "tf.Tensor((0.99999994+0j), shape=(), dtype=complex64)\n"
     ]
    }
   ],
   "source": [
    "print(tf.sqrt(normpsi))"
   ]
  },
  {
   "cell_type": "code",
   "execution_count": 20,
   "id": "2fd2f990",
   "metadata": {},
   "outputs": [
    {
     "name": "stdout",
     "output_type": "stream",
     "text": [
      "tf.Tensor([0.7071068+0.j        0.       +0.7071068j], shape=(2,), dtype=complex64)\n"
     ]
    }
   ],
   "source": [
    "psi=psi/tf.sqrt(normpsi);\n",
    "print(psi)"
   ]
  },
  {
   "cell_type": "code",
   "execution_count": 21,
   "id": "f2fc24fb",
   "metadata": {},
   "outputs": [
    {
     "name": "stdout",
     "output_type": "stream",
     "text": [
      "tf.Tensor((1.0000001+0j), shape=(), dtype=complex64)\n"
     ]
    }
   ],
   "source": [
    "normpsi=tf.tensordot(tf.math.conj(psi),psi,axes=1);\n",
    "print(normpsi)"
   ]
  },
  {
   "cell_type": "markdown",
   "id": "0765b180",
   "metadata": {},
   "source": [
    "## Compute the covector of psi"
   ]
  },
  {
   "cell_type": "code",
   "execution_count": 22,
   "id": "73c6180c",
   "metadata": {},
   "outputs": [
    {
     "name": "stdout",
     "output_type": "stream",
     "text": [
      "tf.Tensor([0.7071068-0.j        0.       -0.7071068j], shape=(2,), dtype=complex64)\n"
     ]
    }
   ],
   "source": [
    "copsi=tf.math.conj(psi);\n",
    "print(copsi)"
   ]
  },
  {
   "cell_type": "markdown",
   "id": "344cc88f",
   "metadata": {},
   "source": [
    "### Self scalar product"
   ]
  },
  {
   "cell_type": "code",
   "execution_count": 23,
   "id": "ba5f7a11",
   "metadata": {},
   "outputs": [
    {
     "data": {
      "text/plain": [
       "<tf.Tensor: shape=(), dtype=complex64, numpy=(1.0000001+0j)>"
      ]
     },
     "execution_count": 23,
     "metadata": {},
     "output_type": "execute_result"
    }
   ],
   "source": [
    "tf.tensordot(copsi,psi, axes=1)"
   ]
  },
  {
   "cell_type": "markdown",
   "id": "e92c3b03",
   "metadata": {},
   "source": [
    "### Density matrix"
   ]
  },
  {
   "cell_type": "code",
   "execution_count": 24,
   "id": "ac2bd91f",
   "metadata": {},
   "outputs": [
    {
     "name": "stdout",
     "output_type": "stream",
     "text": [
      "tf.Tensor(\n",
      "[[0.50000006+0.j         0.        -0.50000006j]\n",
      " [0.        +0.50000006j 0.50000006+0.j        ]], shape=(2, 2), dtype=complex64)\n"
     ]
    }
   ],
   "source": [
    "rho1=tf.tensordot(psi, copsi, axes=0)\n",
    "print(rho1)"
   ]
  },
  {
   "cell_type": "markdown",
   "id": "a668646d",
   "metadata": {},
   "source": [
    "### Trace of the density matrix (first version)"
   ]
  },
  {
   "cell_type": "code",
   "execution_count": 25,
   "id": "66d62ad2",
   "metadata": {},
   "outputs": [
    {
     "data": {
      "text/plain": [
       "<tf.Tensor: shape=(), dtype=complex64, numpy=(1.0000001+0j)>"
      ]
     },
     "execution_count": 25,
     "metadata": {},
     "output_type": "execute_result"
    }
   ],
   "source": [
    "tf.linalg.trace(rho1)"
   ]
  },
  {
   "cell_type": "markdown",
   "id": "044047ed",
   "metadata": {},
   "source": [
    "# Two qubits"
   ]
  },
  {
   "cell_type": "markdown",
   "id": "48e54901",
   "metadata": {},
   "source": [
    "Define $|0\\rangle \\otimes |0 \\rangle$"
   ]
  },
  {
   "cell_type": "code",
   "execution_count": 26,
   "id": "795a2fb7",
   "metadata": {},
   "outputs": [
    {
     "name": "stdout",
     "output_type": "stream",
     "text": [
      "tf.Tensor(\n",
      "[[1.+0.j 0.+0.j]\n",
      " [0.+0.j 0.+0.j]], shape=(2, 2), dtype=complex64)\n"
     ]
    }
   ],
   "source": [
    "q00 = tf.tensordot(qubit0,qubit0,axes=0);\n",
    "print(q00)"
   ]
  },
  {
   "cell_type": "markdown",
   "id": "d2d29b52",
   "metadata": {},
   "source": [
    "Define $|0\\rangle \\otimes |1 \\rangle$"
   ]
  },
  {
   "cell_type": "code",
   "execution_count": 27,
   "id": "5c114608",
   "metadata": {},
   "outputs": [
    {
     "name": "stdout",
     "output_type": "stream",
     "text": [
      "tf.Tensor(\n",
      "[[0.+0.j 1.+0.j]\n",
      " [0.+0.j 0.+0.j]], shape=(2, 2), dtype=complex64)\n"
     ]
    }
   ],
   "source": [
    "q01 = tf.tensordot(qubit0,qubit1,axes=0);\n",
    "print(q01)"
   ]
  },
  {
   "cell_type": "markdown",
   "id": "e5b8ae97",
   "metadata": {},
   "source": [
    "Define $|1\\rangle \\otimes |0 \\rangle$"
   ]
  },
  {
   "cell_type": "code",
   "execution_count": 28,
   "id": "c3201b62",
   "metadata": {},
   "outputs": [
    {
     "name": "stdout",
     "output_type": "stream",
     "text": [
      "tf.Tensor(\n",
      "[[0.+0.j 0.+0.j]\n",
      " [1.+0.j 0.+0.j]], shape=(2, 2), dtype=complex64)\n"
     ]
    }
   ],
   "source": [
    "q10 = tf.tensordot(qubit1,qubit0,axes=0);\n",
    "print(q10)"
   ]
  },
  {
   "cell_type": "markdown",
   "id": "4f52aad7",
   "metadata": {},
   "source": [
    "Define $|1\\rangle \\otimes |1 \\rangle$"
   ]
  },
  {
   "cell_type": "code",
   "execution_count": 29,
   "id": "adf11fac",
   "metadata": {},
   "outputs": [
    {
     "name": "stdout",
     "output_type": "stream",
     "text": [
      "tf.Tensor(\n",
      "[[0.+0.j 0.+0.j]\n",
      " [0.+0.j 1.+0.j]], shape=(2, 2), dtype=complex64)\n"
     ]
    }
   ],
   "source": [
    "q11 = tf.tensordot(qubit1,qubit1,axes=0);\n",
    "print(q11)"
   ]
  },
  {
   "cell_type": "markdown",
   "id": "2ddf5e1c",
   "metadata": {},
   "source": [
    "Linear combinations (not normalized)"
   ]
  },
  {
   "cell_type": "code",
   "execution_count": 30,
   "id": "04b991d4",
   "metadata": {},
   "outputs": [
    {
     "data": {
      "text/plain": [
       "<tf.Tensor: shape=(2, 2), dtype=complex64, numpy=\n",
       "array([[0.+0.j, 1.+0.j],\n",
       "       [1.+0.j, 0.+0.j]], dtype=complex64)>"
      ]
     },
     "execution_count": 30,
     "metadata": {},
     "output_type": "execute_result"
    }
   ],
   "source": [
    "q01+q10"
   ]
  },
  {
   "cell_type": "code",
   "execution_count": 31,
   "id": "ee9bd3a4",
   "metadata": {},
   "outputs": [
    {
     "data": {
      "text/plain": [
       "<tf.Tensor: shape=(2, 2), dtype=complex64, numpy=\n",
       "array([[1.+0.j, 0.+0.j],\n",
       "       [0.+0.j, 0.+3.j]], dtype=complex64)>"
      ]
     },
     "execution_count": 31,
     "metadata": {},
     "output_type": "execute_result"
    }
   ],
   "source": [
    "q00+3j*q11"
   ]
  },
  {
   "cell_type": "markdown",
   "id": "27a6a6be",
   "metadata": {},
   "source": [
    "## Define a state $|\\psi\\rangle$"
   ]
  },
  {
   "cell_type": "code",
   "execution_count": 32,
   "id": "90b5ade4",
   "metadata": {},
   "outputs": [
    {
     "name": "stdout",
     "output_type": "stream",
     "text": [
      "tf.Tensor(\n",
      "[[ 1.+0.j  0.+1.j]\n",
      " [ 1.+3.j -2.+0.j]], shape=(2, 2), dtype=complex64)\n"
     ]
    }
   ],
   "source": [
    "psiu=q00+1j*q01+(1.0+3j)*q10-2.0*q11\n",
    "print(psiu)"
   ]
  },
  {
   "cell_type": "markdown",
   "id": "ae670fb3",
   "metadata": {},
   "source": [
    "This state is not normalized, so we first define its dual, then compute the norm, and normalized the state"
   ]
  },
  {
   "cell_type": "code",
   "execution_count": 33,
   "id": "8fd998af",
   "metadata": {},
   "outputs": [
    {
     "name": "stdout",
     "output_type": "stream",
     "text": [
      "tf.Tensor(\n",
      "[[ 1.-0.j  0.-1.j]\n",
      " [ 1.-3.j -2.-0.j]], shape=(2, 2), dtype=complex64)\n"
     ]
    }
   ],
   "source": [
    "copsiu=tf.math.conj(psiu)\n",
    "print(copsiu)"
   ]
  },
  {
   "cell_type": "markdown",
   "id": "f41f5071",
   "metadata": {},
   "source": [
    "To compute the norm we contract with the axes corresponding to qubit 0 and 1\n",
    "We specify for each tensor the axes of contraction\n",
    "So axes is a list of two list of indices "
   ]
  },
  {
   "cell_type": "code",
   "execution_count": 34,
   "id": "9a386402",
   "metadata": {},
   "outputs": [
    {
     "name": "stdout",
     "output_type": "stream",
     "text": [
      "tf.Tensor((16+0j), shape=(), dtype=complex64)\n"
     ]
    }
   ],
   "source": [
    "norm2psiu=tf.tensordot(copsiu,psiu,axes=[[0,1],[0,1]])\n",
    "print(norm2psiu)"
   ]
  },
  {
   "cell_type": "markdown",
   "id": "cd646421",
   "metadata": {},
   "source": [
    "We now normalize the state with the sqrt of the norm"
   ]
  },
  {
   "cell_type": "code",
   "execution_count": 35,
   "id": "407277c8",
   "metadata": {},
   "outputs": [
    {
     "name": "stdout",
     "output_type": "stream",
     "text": [
      "tf.Tensor(\n",
      "[[ 0.25+0.j    0.  +0.25j]\n",
      " [ 0.25+0.75j -0.5 +0.j  ]], shape=(2, 2), dtype=complex64)\n"
     ]
    }
   ],
   "source": [
    "psi=psiu/tf.sqrt(norm2psiu)\n",
    "print(psi)"
   ]
  },
  {
   "cell_type": "markdown",
   "id": "0c8e2eef",
   "metadata": {},
   "source": [
    "We compute the dual"
   ]
  },
  {
   "cell_type": "code",
   "execution_count": 36,
   "id": "2e51bf58",
   "metadata": {},
   "outputs": [],
   "source": [
    "copsi=tf.math.conj(psi)"
   ]
  },
  {
   "cell_type": "markdown",
   "id": "30fd3dc7",
   "metadata": {},
   "source": [
    "And we compute again the norm to check normalization"
   ]
  },
  {
   "cell_type": "code",
   "execution_count": 37,
   "id": "fe146208",
   "metadata": {},
   "outputs": [
    {
     "data": {
      "text/plain": [
       "<tf.Tensor: shape=(), dtype=complex64, numpy=(1+0j)>"
      ]
     },
     "execution_count": 37,
     "metadata": {},
     "output_type": "execute_result"
    }
   ],
   "source": [
    "tf.tensordot(copsi,psi,axes=[[0,1],[0,1]])"
   ]
  },
  {
   "cell_type": "markdown",
   "id": "d5a5ccd3",
   "metadata": {},
   "source": [
    "We also check the normalization with the scalar 2 functions"
   ]
  },
  {
   "cell_type": "code",
   "execution_count": 38,
   "id": "aa9cfdc1",
   "metadata": {},
   "outputs": [
    {
     "data": {
      "text/plain": [
       "<tf.Tensor: shape=(1, 1), dtype=complex64, numpy=array([[1.+0.j]], dtype=complex64)>"
      ]
     },
     "execution_count": 38,
     "metadata": {},
     "output_type": "execute_result"
    }
   ],
   "source": [
    "qm.Scalar2(psi,psi)"
   ]
  },
  {
   "cell_type": "markdown",
   "id": "c7c7bdee",
   "metadata": {},
   "source": [
    "To check let us redefine manually the tensor"
   ]
  },
  {
   "cell_type": "code",
   "execution_count": 39,
   "id": "d61edc31",
   "metadata": {},
   "outputs": [
    {
     "name": "stdout",
     "output_type": "stream",
     "text": [
      "tf.Tensor(\n",
      "[[ 0.25+0.j    0.  +0.25j]\n",
      " [ 0.25+0.75j -0.5 +0.j  ]], shape=(2, 2), dtype=complex64)\n"
     ]
    }
   ],
   "source": [
    "psi=0.25*q00+0.25*1j*q01+0.25*(1.0+3j)*q10-0.5*q11\n",
    "print(psi)"
   ]
  },
  {
   "cell_type": "code",
   "execution_count": 40,
   "id": "5e0fa57e",
   "metadata": {},
   "outputs": [
    {
     "name": "stdout",
     "output_type": "stream",
     "text": [
      "tf.Tensor(\n",
      "[[ 0.25-0.j    0.  -0.25j]\n",
      " [ 0.25-0.75j -0.5 -0.j  ]], shape=(2, 2), dtype=complex64)\n"
     ]
    }
   ],
   "source": [
    "copsi=tf.math.conj(psi)\n",
    "print(copsi)"
   ]
  },
  {
   "cell_type": "code",
   "execution_count": 41,
   "id": "e364e799",
   "metadata": {},
   "outputs": [
    {
     "data": {
      "text/plain": [
       "<tf.Tensor: shape=(), dtype=complex64, numpy=(1+0j)>"
      ]
     },
     "execution_count": 41,
     "metadata": {},
     "output_type": "execute_result"
    }
   ],
   "source": [
    "tf.tensordot(copsi,psi,axes=[[0, 1],[0,1]])"
   ]
  },
  {
   "cell_type": "markdown",
   "id": "f8529cd5",
   "metadata": {},
   "source": [
    "## Now compute the density matrix"
   ]
  },
  {
   "cell_type": "markdown",
   "id": "8c28670a",
   "metadata": {},
   "source": [
    "note the order in the <code>tensordot</code>"
   ]
  },
  {
   "cell_type": "code",
   "execution_count": 42,
   "id": "2b0bc8ad",
   "metadata": {},
   "outputs": [
    {
     "name": "stdout",
     "output_type": "stream",
     "text": [
      "tf.Tensor(\n",
      "[[[[ 0.0625+0.j      0.    -0.0625j]\n",
      "   [ 0.0625-0.1875j -0.125 +0.j    ]]\n",
      "\n",
      "  [[ 0.    +0.0625j  0.0625+0.j    ]\n",
      "   [ 0.1875+0.0625j  0.    -0.125j ]]]\n",
      "\n",
      "\n",
      " [[[ 0.0625+0.1875j  0.1875-0.0625j]\n",
      "   [ 0.625 +0.j     -0.125 -0.375j ]]\n",
      "\n",
      "  [[-0.125 +0.j      0.    +0.125j ]\n",
      "   [-0.125 +0.375j   0.25  +0.j    ]]]], shape=(2, 2, 2, 2), dtype=complex64)\n"
     ]
    }
   ],
   "source": [
    "rho=tf.tensordot(psi,copsi,axes=0);\n",
    "print(rho)"
   ]
  },
  {
   "cell_type": "markdown",
   "id": "5daeb397",
   "metadata": {},
   "source": [
    "The overal density matrix has 16 complex elements with shape (2,2,2,2)"
   ]
  },
  {
   "cell_type": "markdown",
   "id": "8426747d",
   "metadata": {},
   "source": [
    "Access the elements of rho"
   ]
  },
  {
   "cell_type": "code",
   "execution_count": 43,
   "id": "f484706f",
   "metadata": {},
   "outputs": [
    {
     "name": "stdout",
     "output_type": "stream",
     "text": [
      "tf.Tensor((0.0625+0j), shape=(), dtype=complex64)\n"
     ]
    }
   ],
   "source": [
    "print(rho[0,0,0,0])"
   ]
  },
  {
   "cell_type": "code",
   "execution_count": 44,
   "id": "04b124d5",
   "metadata": {},
   "outputs": [
    {
     "name": "stdout",
     "output_type": "stream",
     "text": [
      "tf.Tensor((0.1875-0.0625j), shape=(), dtype=complex64)\n"
     ]
    }
   ],
   "source": [
    "print(rho[1,0,0,1])"
   ]
  },
  {
   "cell_type": "code",
   "execution_count": 45,
   "id": "66e151be-4da0-42e5-b65c-dbbfa150590a",
   "metadata": {},
   "outputs": [
    {
     "name": "stdout",
     "output_type": "stream",
     "text": [
      "tf.Tensor((-0.125-0.375j), shape=(), dtype=complex64)\n"
     ]
    }
   ],
   "source": [
    "print(rho[1,0,1,1])"
   ]
  },
  {
   "cell_type": "code",
   "execution_count": 46,
   "id": "550e4fdd-c402-4c7d-b556-8498500c156b",
   "metadata": {},
   "outputs": [
    {
     "name": "stdout",
     "output_type": "stream",
     "text": [
      "tf.Tensor((-0.125+0j), shape=(), dtype=complex64)\n"
     ]
    }
   ],
   "source": [
    "print(rho[1,1,0,0])"
   ]
  },
  {
   "cell_type": "code",
   "execution_count": 47,
   "id": "f191edac-4c99-46b3-b12f-6746d83dd2b7",
   "metadata": {},
   "outputs": [
    {
     "name": "stdout",
     "output_type": "stream",
     "text": [
      "tf.Tensor(0.0625j, shape=(), dtype=complex64)\n"
     ]
    }
   ],
   "source": [
    "print(rho[0,1,0,0])"
   ]
  },
  {
   "cell_type": "code",
   "execution_count": 48,
   "id": "1b7e4fa2-1e11-4001-838b-aa8c97f86ce1",
   "metadata": {},
   "outputs": [
    {
     "name": "stdout",
     "output_type": "stream",
     "text": [
      "tf.Tensor((0.0625-0.1875j), shape=(), dtype=complex64)\n"
     ]
    }
   ],
   "source": [
    "print(rho[0,0,1,0])"
   ]
  },
  {
   "cell_type": "markdown",
   "id": "01c8c9b2",
   "metadata": {},
   "source": [
    "## We compute the trace by summing over specific indices"
   ]
  },
  {
   "cell_type": "markdown",
   "id": "9b2dba14",
   "metadata": {},
   "source": [
    "For high dimensional tensors, we need to use <code>tf.einsum</code>"
   ]
  },
  {
   "cell_type": "markdown",
   "id": "993b37d0",
   "metadata": {},
   "source": [
    "trace of the one-qubit density matrix"
   ]
  },
  {
   "cell_type": "code",
   "execution_count": 49,
   "id": "9b90d8f6",
   "metadata": {},
   "outputs": [
    {
     "data": {
      "text/plain": [
       "<tf.Tensor: shape=(), dtype=complex64, numpy=(1.0000001+0j)>"
      ]
     },
     "execution_count": 49,
     "metadata": {},
     "output_type": "execute_result"
    }
   ],
   "source": [
    "tf.einsum('uu',rho1)"
   ]
  },
  {
   "cell_type": "markdown",
   "id": "ef2da59f",
   "metadata": {},
   "source": [
    "check that the letter in <code>tf.einsum</code> is not significant"
   ]
  },
  {
   "cell_type": "code",
   "execution_count": 50,
   "id": "4142358e",
   "metadata": {},
   "outputs": [
    {
     "data": {
      "text/plain": [
       "<tf.Tensor: shape=(), dtype=complex64, numpy=(1.0000001+0j)>"
      ]
     },
     "execution_count": 50,
     "metadata": {},
     "output_type": "execute_result"
    }
   ],
   "source": [
    "tf.einsum('ii',rho1)"
   ]
  },
  {
   "cell_type": "markdown",
   "id": "7890e6e7",
   "metadata": {},
   "source": [
    "trace of two-qubit density matrix"
   ]
  },
  {
   "cell_type": "code",
   "execution_count": 51,
   "id": "92a9cd27",
   "metadata": {},
   "outputs": [
    {
     "data": {
      "text/plain": [
       "<tf.Tensor: shape=(), dtype=complex64, numpy=(1+0j)>"
      ]
     },
     "execution_count": 51,
     "metadata": {},
     "output_type": "execute_result"
    }
   ],
   "source": [
    "tf.einsum('uvuv',rho)"
   ]
  },
  {
   "cell_type": "markdown",
   "id": "a499b29d",
   "metadata": {},
   "source": [
    "## Partial trace of the density matrix on the first qubit"
   ]
  },
  {
   "cell_type": "code",
   "execution_count": 52,
   "id": "c6368f4c",
   "metadata": {},
   "outputs": [
    {
     "name": "stdout",
     "output_type": "stream",
     "text": [
      "tf.Tensor(\n",
      "[[ 0.6875+0.j     -0.125 -0.4375j]\n",
      " [-0.125 +0.4375j  0.3125+0.j    ]], shape=(2, 2), dtype=complex64)\n"
     ]
    }
   ],
   "source": [
    "rhoB=tf.einsum('iuiv',rho);\n",
    "print(rhoB)"
   ]
  },
  {
   "cell_type": "markdown",
   "id": "f13f407f",
   "metadata": {},
   "source": [
    "we check that the trace of the partial trace is unitary"
   ]
  },
  {
   "cell_type": "code",
   "execution_count": 53,
   "id": "9bde3ee9",
   "metadata": {},
   "outputs": [
    {
     "data": {
      "text/plain": [
       "<tf.Tensor: shape=(), dtype=complex64, numpy=(1+0j)>"
      ]
     },
     "execution_count": 53,
     "metadata": {},
     "output_type": "execute_result"
    }
   ],
   "source": [
    "tf.einsum('vv',rhoB)"
   ]
  },
  {
   "cell_type": "markdown",
   "id": "cf992997",
   "metadata": {},
   "source": [
    "as <code>rhoB</code> is a matrix we can also use <code>linalg.trace</code> "
   ]
  },
  {
   "cell_type": "code",
   "execution_count": 54,
   "id": "6e19463e",
   "metadata": {},
   "outputs": [
    {
     "data": {
      "text/plain": [
       "<tf.Tensor: shape=(), dtype=complex64, numpy=(1+0j)>"
      ]
     },
     "execution_count": 54,
     "metadata": {},
     "output_type": "execute_result"
    }
   ],
   "source": [
    "tf.linalg.trace(rhoB)"
   ]
  },
  {
   "cell_type": "markdown",
   "id": "2d1a4bac",
   "metadata": {},
   "source": [
    "## Partial trace of the density matrix on the second qubit"
   ]
  },
  {
   "cell_type": "code",
   "execution_count": 55,
   "id": "1aebc949",
   "metadata": {},
   "outputs": [
    {
     "name": "stdout",
     "output_type": "stream",
     "text": [
      "tf.Tensor(\n",
      "[[0.125 +0.j     0.0625-0.3125j]\n",
      " [0.0625+0.3125j 0.875 +0.j    ]], shape=(2, 2), dtype=complex64)\n"
     ]
    }
   ],
   "source": [
    "rhoA=tf.einsum('xuyu',rho);\n",
    "print(rhoA)"
   ]
  },
  {
   "cell_type": "code",
   "execution_count": 56,
   "id": "8c87cdf4",
   "metadata": {},
   "outputs": [
    {
     "data": {
      "text/plain": [
       "<tf.Tensor: shape=(), dtype=complex64, numpy=(1+0j)>"
      ]
     },
     "execution_count": 56,
     "metadata": {},
     "output_type": "execute_result"
    }
   ],
   "source": [
    "tf.einsum('uu',rhoA)"
   ]
  },
  {
   "cell_type": "code",
   "execution_count": 57,
   "id": "90a5dd98",
   "metadata": {},
   "outputs": [
    {
     "data": {
      "text/plain": [
       "<tf.Tensor: shape=(), dtype=complex64, numpy=(1+0j)>"
      ]
     },
     "execution_count": 57,
     "metadata": {},
     "output_type": "execute_result"
    }
   ],
   "source": [
    "tf.linalg.trace(rhoA)"
   ]
  },
  {
   "cell_type": "markdown",
   "id": "ba560fff",
   "metadata": {},
   "source": [
    "## Compute the degree of entanglement by the eigenvalues"
   ]
  },
  {
   "cell_type": "markdown",
   "id": "db388e87",
   "metadata": {},
   "source": [
    "### Eigenvalues of the system one-qubit rho"
   ]
  },
  {
   "cell_type": "code",
   "execution_count": 58,
   "id": "45daf84a",
   "metadata": {},
   "outputs": [],
   "source": [
    "rho1_np=rho1.numpy()"
   ]
  },
  {
   "cell_type": "code",
   "execution_count": 59,
   "id": "bd94c12b",
   "metadata": {},
   "outputs": [
    {
     "data": {
      "text/plain": [
       "array([1.0000001+0.j, 0.       +0.j], dtype=complex64)"
      ]
     },
     "execution_count": 59,
     "metadata": {},
     "output_type": "execute_result"
    }
   ],
   "source": [
    "np.linalg.eig(rho1_np)[0]"
   ]
  },
  {
   "cell_type": "markdown",
   "id": "7f43dd61",
   "metadata": {},
   "source": [
    "As we have one unitary and one zero eigenvalue, the state is a pure state, as expected"
   ]
  },
  {
   "cell_type": "markdown",
   "id": "53851e09",
   "metadata": {},
   "source": [
    "### Eigenvalues of the two-qubit rho"
   ]
  },
  {
   "cell_type": "markdown",
   "id": "87c6a190",
   "metadata": {},
   "source": [
    "as rho for two qubit is not matrix, we shoud recast rho as a matrix and the compute the eigenvalues"
   ]
  },
  {
   "cell_type": "markdown",
   "id": "3db83d64",
   "metadata": {},
   "source": [
    "### Eigenvalues of the system rhoA"
   ]
  },
  {
   "cell_type": "code",
   "execution_count": 60,
   "id": "b3153a62",
   "metadata": {},
   "outputs": [
    {
     "name": "stdout",
     "output_type": "stream",
     "text": [
      "tf.Tensor([0.00787451-4.8248174e-09j 0.9921254 +4.8248174e-09j], shape=(2,), dtype=complex64)\n"
     ]
    }
   ],
   "source": [
    "eA=tf.linalg.eig(rhoA); print(eA[0])"
   ]
  },
  {
   "cell_type": "markdown",
   "id": "25349b39",
   "metadata": {},
   "source": [
    "The imaginary part must be zero within numerical errors"
   ]
  },
  {
   "cell_type": "markdown",
   "id": "278c4d73",
   "metadata": {},
   "source": [
    "The eigenvalues correspond to the probabiliets <code>p</code>"
   ]
  },
  {
   "cell_type": "markdown",
   "id": "3880a106",
   "metadata": {},
   "source": [
    "Compute the von Neuman entropy"
   ]
  },
  {
   "cell_type": "code",
   "execution_count": 61,
   "id": "fd0f8ca7",
   "metadata": {},
   "outputs": [],
   "source": [
    "eAr=np.real(eA[0].numpy());"
   ]
  },
  {
   "cell_type": "code",
   "execution_count": 62,
   "id": "79ca006c",
   "metadata": {},
   "outputs": [
    {
     "data": {
      "text/plain": [
       "0.06634756"
      ]
     },
     "execution_count": 62,
     "metadata": {},
     "output_type": "execute_result"
    }
   ],
   "source": [
    "-eAr[0]*np.log2(eAr[0])-eAr[1]*np.log2(eAr[1])"
   ]
  },
  {
   "cell_type": "markdown",
   "id": "ea5e6f21",
   "metadata": {},
   "source": [
    "### Eigenvalues of the system rhoB"
   ]
  },
  {
   "cell_type": "code",
   "execution_count": 63,
   "id": "bcacee83",
   "metadata": {},
   "outputs": [
    {
     "name": "stdout",
     "output_type": "stream",
     "text": [
      "tf.Tensor([0.00787451+1.5521238e-08j 0.9921255 -2.2971818e-08j], shape=(2,), dtype=complex64)\n"
     ]
    }
   ],
   "source": [
    "eB=tf.linalg.eig(rhoB); print(eB[0])"
   ]
  },
  {
   "cell_type": "markdown",
   "id": "9517f304",
   "metadata": {},
   "source": [
    "The imaginary part must be zero within numerical errors"
   ]
  },
  {
   "cell_type": "markdown",
   "id": "cc756ecb",
   "metadata": {},
   "source": [
    "Compute the von Neuman entropy"
   ]
  },
  {
   "cell_type": "code",
   "execution_count": 64,
   "id": "e5eef830",
   "metadata": {},
   "outputs": [
    {
     "data": {
      "text/plain": [
       "0.0663474"
      ]
     },
     "execution_count": 64,
     "metadata": {},
     "output_type": "execute_result"
    }
   ],
   "source": [
    "eBr=np.real(eB[0].numpy())\n",
    "-eBr[0]*np.log2(eBr[0])-eBr[1]*np.log2(eBr[1])"
   ]
  },
  {
   "cell_type": "markdown",
   "id": "548bf24f",
   "metadata": {},
   "source": [
    "As expected the two entropy are the same, and the system is entangled"
   ]
  },
  {
   "cell_type": "markdown",
   "id": "6312e274",
   "metadata": {},
   "source": [
    "### Compute the orthonormal basis"
   ]
  },
  {
   "cell_type": "code",
   "execution_count": 65,
   "id": "ac2be1b0",
   "metadata": {},
   "outputs": [
    {
     "data": {
      "text/plain": [
       "(<tf.Tensor: shape=(2,), dtype=complex64, numpy=\n",
       " array([0.00787451-4.8248174e-09j, 0.9921254 +4.8248174e-09j],\n",
       "       dtype=complex64)>,\n",
       " <tf.Tensor: shape=(2, 2), dtype=complex64, numpy=\n",
       " array([[-0.9386162 +0.0000000e+00j,  0.34496322+1.2747664e-08j],\n",
       "        [ 0.06765284+3.3826429e-01j,  0.18407774+9.2038894e-01j]],\n",
       "       dtype=complex64)>)"
      ]
     },
     "execution_count": 65,
     "metadata": {},
     "output_type": "execute_result"
    }
   ],
   "source": [
    "eA"
   ]
  },
  {
   "cell_type": "code",
   "execution_count": 66,
   "id": "8f0e8344",
   "metadata": {},
   "outputs": [
    {
     "data": {
      "text/plain": [
       "(<tf.Tensor: shape=(2,), dtype=complex64, numpy=\n",
       " array([0.00787451+1.5521238e-08j, 0.9921255 -2.2971818e-08j],\n",
       "       dtype=complex64)>,\n",
       " <tf.Tensor: shape=(2, 2), dtype=complex64, numpy=\n",
       " array([[-0.55632716+3.2900608e-08j,  0.83096343+0.0000000e+00j],\n",
       "        [-0.22828314+7.9899126e-01j, -0.15283479+5.3492188e-01j]],\n",
       "       dtype=complex64)>)"
      ]
     },
     "execution_count": 66,
     "metadata": {},
     "output_type": "execute_result"
    }
   ],
   "source": [
    "eB"
   ]
  },
  {
   "cell_type": "markdown",
   "id": "b9321f4a",
   "metadata": {},
   "source": [
    "# Principal values of Psi"
   ]
  },
  {
   "cell_type": "markdown",
   "id": "7bd12374",
   "metadata": {},
   "source": [
    "Compute the principal values of the two qubit vector"
   ]
  },
  {
   "cell_type": "code",
   "execution_count": 67,
   "id": "a53c93dd",
   "metadata": {},
   "outputs": [
    {
     "name": "stdout",
     "output_type": "stream",
     "text": [
      "tf.Tensor([0.996055   0.08873843], shape=(2,), dtype=float32)\n"
     ]
    }
   ],
   "source": [
    "d=tf.linalg.svd(psi,compute_uv=False)\n",
    "print(d)"
   ]
  },
  {
   "cell_type": "markdown",
   "id": "6ccb02e9",
   "metadata": {},
   "source": [
    "Compute the propbabilities"
   ]
  },
  {
   "cell_type": "code",
   "execution_count": 68,
   "id": "1414d568",
   "metadata": {},
   "outputs": [
    {
     "name": "stdout",
     "output_type": "stream",
     "text": [
      "[0.9921256  0.00787451]\n"
     ]
    }
   ],
   "source": [
    "# we determine the probabilities and the convert to numbpy to use np.log2\n",
    "p=(tf.abs(d)**2).numpy()\n",
    "print(p)"
   ]
  },
  {
   "cell_type": "markdown",
   "id": "a5759ab1",
   "metadata": {},
   "source": [
    "Compute the entanglement entropy"
   ]
  },
  {
   "cell_type": "code",
   "execution_count": 69,
   "id": "f1609af9",
   "metadata": {},
   "outputs": [
    {
     "data": {
      "text/plain": [
       "0.0663473"
      ]
     },
     "execution_count": 69,
     "metadata": {},
     "output_type": "execute_result"
    }
   ],
   "source": [
    "-p[0]*np.log2(p[0])-p[1]*np.log2(p[1])"
   ]
  },
  {
   "cell_type": "markdown",
   "id": "e84d7047",
   "metadata": {},
   "source": [
    "We can also use <code>tf.math.log</code> but we have to account for the basis of the log"
   ]
  },
  {
   "cell_type": "code",
   "execution_count": 70,
   "id": "47c2df38",
   "metadata": {},
   "outputs": [
    {
     "data": {
      "text/plain": [
       "<tf.Tensor: shape=(), dtype=float32, numpy=0.04598844>"
      ]
     },
     "execution_count": 70,
     "metadata": {},
     "output_type": "execute_result"
    }
   ],
   "source": [
    "-p[0]*tf.math.log(p[0])-p[1]*tf.math.log(p[1])"
   ]
  },
  {
   "cell_type": "markdown",
   "id": "bdb33437",
   "metadata": {},
   "source": [
    "this result is different because the log is in the natural basis"
   ]
  },
  {
   "cell_type": "markdown",
   "id": "6d6e8100",
   "metadata": {},
   "source": [
    "Let us normalize to log(2.0) and we get the same result"
   ]
  },
  {
   "cell_type": "code",
   "execution_count": 71,
   "id": "bfb1b6a8",
   "metadata": {},
   "outputs": [
    {
     "data": {
      "text/plain": [
       "<tf.Tensor: shape=(), dtype=float32, numpy=0.06634729>"
      ]
     },
     "execution_count": 71,
     "metadata": {},
     "output_type": "execute_result"
    }
   ],
   "source": [
    "(-p[0]*tf.math.log(p[0])-p[1]*tf.math.log(p[1]))/tf.math.log(2.0)"
   ]
  },
  {
   "cell_type": "markdown",
   "id": "7ccd62e3",
   "metadata": {},
   "source": [
    "# Compute the orthonormal basis by SVD"
   ]
  },
  {
   "cell_type": "code",
   "execution_count": 72,
   "id": "f3c3a2ee",
   "metadata": {},
   "outputs": [],
   "source": [
    "d, U, V=tf.linalg.svd(psi)"
   ]
  },
  {
   "cell_type": "code",
   "execution_count": 73,
   "id": "eb7056f4",
   "metadata": {},
   "outputs": [],
   "source": [
    "VH=tf.transpose(V, conjugate=True)"
   ]
  },
  {
   "cell_type": "markdown",
   "id": "cb7e57d9",
   "metadata": {},
   "source": [
    "print the matrix u"
   ]
  },
  {
   "cell_type": "code",
   "execution_count": 74,
   "id": "72a08aa9",
   "metadata": {},
   "outputs": [
    {
     "name": "stdout",
     "output_type": "stream",
     "text": [
      "tf.Tensor(\n",
      "[[-0.05729683+0.34017158j  0.43057674+0.8340288j ]\n",
      " [-0.9381789 +0.02864844j  0.26953763-0.21528839j]], shape=(2, 2), dtype=complex64)\n"
     ]
    }
   ],
   "source": [
    "print(U)"
   ]
  },
  {
   "cell_type": "code",
   "execution_count": 75,
   "id": "31275234",
   "metadata": {},
   "outputs": [
    {
     "name": "stdout",
     "output_type": "stream",
     "text": [
      "tf.Tensor(\n",
      "[[-0.22828318-0.7989912j  0.5563271 -0.j       ]\n",
      " [ 0.15283479+0.5349218j  0.83096343-0.j       ]], shape=(2, 2), dtype=complex64)\n"
     ]
    }
   ],
   "source": [
    "print(VH)"
   ]
  },
  {
   "cell_type": "markdown",
   "id": "c423d011",
   "metadata": {},
   "source": [
    "check if V is unitary"
   ]
  },
  {
   "cell_type": "code",
   "execution_count": 76,
   "id": "7079970c",
   "metadata": {},
   "outputs": [
    {
     "data": {
      "text/plain": [
       "<tf.Tensor: shape=(2, 2), dtype=complex64, numpy=\n",
       "array([[1.0000000e+00+0.j, 2.9802322e-08+0.j],\n",
       "       [2.9802322e-08+0.j, 1.0000000e+00+0.j]], dtype=complex64)>"
      ]
     },
     "execution_count": 76,
     "metadata": {},
     "output_type": "execute_result"
    }
   ],
   "source": [
    "tf.tensordot(VH,V,axes=1)"
   ]
  },
  {
   "cell_type": "markdown",
   "id": "540e474b",
   "metadata": {},
   "source": [
    "compute the elements of the new basis"
   ]
  },
  {
   "cell_type": "code",
   "execution_count": 77,
   "id": "38b8ba49",
   "metadata": {},
   "outputs": [
    {
     "name": "stdout",
     "output_type": "stream",
     "text": [
      "tf.Tensor([-0.05729683+0.34017158j -0.9381789 +0.02864844j], shape=(2,), dtype=complex64)\n",
      "tf.Tensor([0.43057674+0.8340288j  0.26953763-0.21528839j], shape=(2,), dtype=complex64)\n"
     ]
    }
   ],
   "source": [
    "u0=U[:,0]\n",
    "u1=U[:,1]\n",
    "print(u0)\n",
    "print(u1)"
   ]
  },
  {
   "cell_type": "code",
   "execution_count": 78,
   "id": "9bb841bc",
   "metadata": {},
   "outputs": [
    {
     "name": "stdout",
     "output_type": "stream",
     "text": [
      "tf.Tensor([-0.22828318-0.7989912j  0.5563271 -0.j       ], shape=(2,), dtype=complex64)\n",
      "tf.Tensor([0.15283479+0.5349218j 0.83096343-0.j       ], shape=(2,), dtype=complex64)\n"
     ]
    }
   ],
   "source": [
    "v0=VH[0,:]\n",
    "v1=VH[1,:]\n",
    "print(v0)\n",
    "print(v1)"
   ]
  },
  {
   "cell_type": "markdown",
   "id": "eebf4c13",
   "metadata": {},
   "source": [
    "### Other strategy, returns the compontens by contracting the proper indices"
   ]
  },
  {
   "cell_type": "markdown",
   "id": "a050f24c",
   "metadata": {},
   "source": [
    "define a list of the one-qubit basis"
   ]
  },
  {
   "cell_type": "code",
   "execution_count": 79,
   "id": "6e125795",
   "metadata": {},
   "outputs": [],
   "source": [
    "basis=[qubit0,qubit1]"
   ]
  },
  {
   "cell_type": "markdown",
   "id": "ecb3fbeb",
   "metadata": {},
   "source": [
    "contract with the first index of U"
   ]
  },
  {
   "cell_type": "code",
   "execution_count": 80,
   "id": "ba8c516a",
   "metadata": {},
   "outputs": [],
   "source": [
    "ucomponents=tf.tensordot(U,basis,[[0],[0]])"
   ]
  },
  {
   "cell_type": "markdown",
   "id": "ca6ad384",
   "metadata": {},
   "source": [
    "component of u0"
   ]
  },
  {
   "cell_type": "code",
   "execution_count": 81,
   "id": "ae4f70ef",
   "metadata": {},
   "outputs": [
    {
     "data": {
      "text/plain": [
       "<tf.Tensor: shape=(2,), dtype=complex64, numpy=array([-0.05729683+0.34017158j, -0.9381789 +0.02864844j], dtype=complex64)>"
      ]
     },
     "execution_count": 81,
     "metadata": {},
     "output_type": "execute_result"
    }
   ],
   "source": [
    "ucomponents[0]"
   ]
  },
  {
   "cell_type": "code",
   "execution_count": 82,
   "id": "f4b2fc15",
   "metadata": {},
   "outputs": [
    {
     "data": {
      "text/plain": [
       "<tf.Tensor: shape=(2,), dtype=complex64, numpy=array([0.43057674+0.8340288j , 0.26953763-0.21528839j], dtype=complex64)>"
      ]
     },
     "execution_count": 82,
     "metadata": {},
     "output_type": "execute_result"
    }
   ],
   "source": [
    "ucomponents[1]"
   ]
  },
  {
   "cell_type": "code",
   "execution_count": 83,
   "id": "2f81df51",
   "metadata": {},
   "outputs": [],
   "source": [
    "vcomponents=tf.tensordot(VH,basis,[[1],[0]])"
   ]
  },
  {
   "cell_type": "code",
   "execution_count": 84,
   "id": "1ffd6610",
   "metadata": {},
   "outputs": [
    {
     "data": {
      "text/plain": [
       "<tf.Tensor: shape=(2,), dtype=complex64, numpy=array([-0.22828318-0.7989912j,  0.5563271 +0.j       ], dtype=complex64)>"
      ]
     },
     "execution_count": 84,
     "metadata": {},
     "output_type": "execute_result"
    }
   ],
   "source": [
    "vcomponents[0]"
   ]
  },
  {
   "cell_type": "code",
   "execution_count": 85,
   "id": "688b28fd",
   "metadata": {},
   "outputs": [
    {
     "data": {
      "text/plain": [
       "<tf.Tensor: shape=(2,), dtype=complex64, numpy=array([0.15283479+0.5349218j, 0.83096343+0.j       ], dtype=complex64)>"
      ]
     },
     "execution_count": 85,
     "metadata": {},
     "output_type": "execute_result"
    }
   ],
   "source": [
    "vcomponents[1]"
   ]
  },
  {
   "cell_type": "markdown",
   "id": "0f9c9c17",
   "metadata": {},
   "source": [
    "### Components of the reduced density matrix"
   ]
  },
  {
   "cell_type": "markdown",
   "id": "b259b94b",
   "metadata": {},
   "source": [
    "$|u_0\\rangle\\langle u_0|$"
   ]
  },
  {
   "cell_type": "code",
   "execution_count": 86,
   "id": "7fbfb624",
   "metadata": {},
   "outputs": [
    {
     "name": "stdout",
     "output_type": "stream",
     "text": [
      "tf.Tensor(\n",
      "[[0.11899963+0.j         0.06350006-0.31750035j]\n",
      " [0.06350006+0.31750035j 0.8810004 +0.j        ]], shape=(2, 2), dtype=complex64)\n"
     ]
    }
   ],
   "source": [
    "print(tf.tensordot(U[:,0],tf.math.conj(U[:,0]),axes=0))"
   ]
  },
  {
   "cell_type": "markdown",
   "id": "3dbd024a",
   "metadata": {},
   "source": [
    "$|u_1\\rangle\\langle u_1|$"
   ]
  },
  {
   "cell_type": "code",
   "execution_count": 87,
   "id": "605339c4",
   "metadata": {},
   "outputs": [
    {
     "name": "stdout",
     "output_type": "stream",
     "text": [
      "tf.Tensor(\n",
      "[[ 0.88100034+0.j        -0.06350008+0.3175003j]\n",
      " [-0.06350008-0.3175003j  0.11899962+0.j       ]], shape=(2, 2), dtype=complex64)\n"
     ]
    }
   ],
   "source": [
    "print(tf.tensordot(U[:,1],tf.math.conj(U[:,1]),axes=0))"
   ]
  },
  {
   "cell_type": "markdown",
   "id": "15504dc7",
   "metadata": {},
   "source": [
    "$|v_0\\rangle\\langle v_0|$"
   ]
  },
  {
   "cell_type": "code",
   "execution_count": 88,
   "id": "28c141da",
   "metadata": {},
   "outputs": [
    {
     "name": "stdout",
     "output_type": "stream",
     "text": [
      "tf.Tensor(\n",
      "[[ 0.6905002 +0.j -0.46228746+0.j]\n",
      " [-0.46228746+0.j  0.30949983+0.j]], shape=(2, 2), dtype=complex64)\n"
     ]
    }
   ],
   "source": [
    "print(tf.tensordot(VH[:,0],tf.math.conj(VH[:,0]),axes=0))"
   ]
  },
  {
   "cell_type": "markdown",
   "id": "9b765457",
   "metadata": {},
   "source": [
    "$|v_1\\rangle\\langle v_1|$"
   ]
  },
  {
   "cell_type": "code",
   "execution_count": 89,
   "id": "12592cb9",
   "metadata": {},
   "outputs": [
    {
     "name": "stdout",
     "output_type": "stream",
     "text": [
      "tf.Tensor(\n",
      "[[0.30949986+0.j 0.4622875 +0.j]\n",
      " [0.4622875 +0.j 0.6905002 +0.j]], shape=(2, 2), dtype=complex64)\n"
     ]
    }
   ],
   "source": [
    "print(tf.tensordot(VH[:,1],tf.math.conj(VH[:,1]),axes=0))"
   ]
  },
  {
   "cell_type": "markdown",
   "id": "a500bc36",
   "metadata": {},
   "source": [
    "### Compare with the diagonalization of the density matrix"
   ]
  },
  {
   "cell_type": "code",
   "execution_count": 90,
   "id": "9915c65b",
   "metadata": {},
   "outputs": [
    {
     "name": "stdout",
     "output_type": "stream",
     "text": [
      "tf.Tensor([0.00787451-4.8248174e-09j 0.9921254 +4.8248174e-09j], shape=(2,), dtype=complex64)\n"
     ]
    }
   ],
   "source": [
    "print(eA[0])"
   ]
  },
  {
   "cell_type": "code",
   "execution_count": 91,
   "id": "8835c6d9",
   "metadata": {},
   "outputs": [
    {
     "name": "stdout",
     "output_type": "stream",
     "text": [
      "tf.Tensor(\n",
      "[[-0.9386162 +0.0000000e+00j  0.34496322+1.2747664e-08j]\n",
      " [ 0.06765284+3.3826429e-01j  0.18407774+9.2038894e-01j]], shape=(2, 2), dtype=complex64)\n"
     ]
    }
   ],
   "source": [
    "print(eA[1])"
   ]
  },
  {
   "cell_type": "markdown",
   "id": "d1dfa427",
   "metadata": {},
   "source": [
    "Compare the decomposition by diagonalizing rhoA and rhoB, with U and V"
   ]
  },
  {
   "cell_type": "code",
   "execution_count": 92,
   "id": "f175be4e",
   "metadata": {},
   "outputs": [
    {
     "name": "stdout",
     "output_type": "stream",
     "text": [
      "tf.Tensor(\n",
      "[[ 0.88100034+0.j        -0.06350008+0.3175003j]\n",
      " [-0.06350008-0.3175003j  0.11899962+0.j       ]], shape=(2, 2), dtype=complex64)\n",
      "tf.Tensor(\n",
      "[[0.11899963+0.j         0.06350006-0.31750035j]\n",
      " [0.06350006+0.31750035j 0.8810004 +0.j        ]], shape=(2, 2), dtype=complex64)\n"
     ]
    }
   ],
   "source": [
    "print(tf.tensordot(U[:,1],tf.math.conj(U[:,1]),axes=0))\n",
    "print(tf.tensordot(U[:,0],tf.math.conj(U[:,0]),axes=0))"
   ]
  },
  {
   "cell_type": "code",
   "execution_count": 93,
   "id": "d8648493",
   "metadata": {},
   "outputs": [
    {
     "name": "stdout",
     "output_type": "stream",
     "text": [
      "tf.Tensor(\n",
      "[[ 0.8810004 +0.j         -0.06350005+0.31750035j]\n",
      " [-0.06350005-0.31750035j  0.11899964+0.j        ]], shape=(2, 2), dtype=complex64)\n",
      "tf.Tensor(\n",
      "[[ 0.88100034+0.j        -0.06350008+0.3175003j]\n",
      " [-0.06350008-0.3175003j  0.11899962+0.j       ]], shape=(2, 2), dtype=complex64)\n"
     ]
    }
   ],
   "source": [
    "print(tf.tensordot(eA[1][:,0],tf.math.conj(eA[1][:,0]),axes=0))\n",
    "print(tf.tensordot(U[:,1],tf.math.conj(U[:,1]),axes=0))"
   ]
  },
  {
   "cell_type": "code",
   "execution_count": 94,
   "id": "f64a032d",
   "metadata": {},
   "outputs": [
    {
     "name": "stdout",
     "output_type": "stream",
     "text": [
      "tf.Tensor(\n",
      "[[0.11899962+0.j         0.06350006-0.31750032j]\n",
      " [0.06350006+0.31750032j 0.8810004 +0.j        ]], shape=(2, 2), dtype=complex64)\n",
      "tf.Tensor(\n",
      "[[0.11899963+0.j         0.06350006-0.31750035j]\n",
      " [0.06350006+0.31750035j 0.8810004 +0.j        ]], shape=(2, 2), dtype=complex64)\n"
     ]
    }
   ],
   "source": [
    "print(tf.tensordot(eA[1][:,1],tf.math.conj(eA[1][:,1]),axes=0))\n",
    "print(tf.tensordot(U[:,0],tf.math.conj(U[:,0]),axes=0))"
   ]
  },
  {
   "cell_type": "code",
   "execution_count": 95,
   "id": "2c1077a5",
   "metadata": {},
   "outputs": [
    {
     "name": "stdout",
     "output_type": "stream",
     "text": [
      "tf.Tensor([0.00787451+1.5521238e-08j 0.9921255 -2.2971818e-08j], shape=(2,), dtype=complex64)\n"
     ]
    }
   ],
   "source": [
    "print(eB[0])"
   ]
  },
  {
   "cell_type": "code",
   "execution_count": 96,
   "id": "c5c171b2",
   "metadata": {},
   "outputs": [
    {
     "name": "stdout",
     "output_type": "stream",
     "text": [
      "tf.Tensor(\n",
      "[[-0.55632716+3.2900608e-08j  0.83096343+0.0000000e+00j]\n",
      " [-0.22828314+7.9899126e-01j -0.15283479+5.3492188e-01j]], shape=(2, 2), dtype=complex64)\n"
     ]
    }
   ],
   "source": [
    "print(eB[1])"
   ]
  },
  {
   "cell_type": "code",
   "execution_count": 97,
   "id": "b24d9cf5",
   "metadata": {},
   "outputs": [
    {
     "name": "stdout",
     "output_type": "stream",
     "text": [
      "tf.Tensor(\n",
      "[[0.30949992+0.j         0.12700014+0.44450054j]\n",
      " [0.12700014-0.44450054j 0.6905002 +0.j        ]], shape=(2, 2), dtype=complex64)\n",
      "tf.Tensor(\n",
      "[[0.30949983+0.j         0.12700012+0.44450048j]\n",
      " [0.12700012-0.44450048j 0.6905002 +0.j        ]], shape=(2, 2), dtype=complex64)\n"
     ]
    }
   ],
   "source": [
    "print(tf.tensordot(eB[1][:,0],tf.math.conj(eB[1][:,0]),axes=0))\n",
    "print(tf.tensordot(VH[1,:],tf.math.conj(VH[1,:]),axes=0))"
   ]
  },
  {
   "cell_type": "code",
   "execution_count": 98,
   "id": "9e5d9993",
   "metadata": {},
   "outputs": [
    {
     "name": "stdout",
     "output_type": "stream",
     "text": [
      "tf.Tensor(\n",
      "[[ 0.6905002 +0.j         -0.12700012-0.44450054j]\n",
      " [-0.12700012+0.44450054j  0.3094999 +0.j        ]], shape=(2, 2), dtype=complex64)\n",
      "tf.Tensor(\n",
      "[[ 0.6905002 +0.j -0.46228746+0.j]\n",
      " [-0.46228746+0.j  0.30949983+0.j]], shape=(2, 2), dtype=complex64)\n"
     ]
    }
   ],
   "source": [
    "print(tf.tensordot(eB[1][:,1],tf.math.conj(eB[1][:,1]),axes=0))\n",
    "print(tf.tensordot(VH[:,0],tf.math.conj(VH[:,0]),axes=0))"
   ]
  },
  {
   "cell_type": "markdown",
   "id": "99332d8d",
   "metadata": {},
   "source": [
    "### Check the rebuild of rhoB by eigenvector"
   ]
  },
  {
   "cell_type": "code",
   "execution_count": 99,
   "id": "33c05826",
   "metadata": {},
   "outputs": [
    {
     "data": {
      "text/plain": [
       "<tf.Tensor: shape=(2, 2), dtype=complex64, numpy=\n",
       "array([[ 0.6875+0.j    , -0.125 -0.4375j],\n",
       "       [-0.125 +0.4375j,  0.3125+0.j    ]], dtype=complex64)>"
      ]
     },
     "execution_count": 99,
     "metadata": {},
     "output_type": "execute_result"
    }
   ],
   "source": [
    "rhoB"
   ]
  },
  {
   "cell_type": "code",
   "execution_count": 100,
   "id": "b5459bbb",
   "metadata": {},
   "outputs": [
    {
     "data": {
      "text/plain": [
       "<tf.Tensor: shape=(2, 2), dtype=complex64, numpy=\n",
       "array([[ 0.68750006-1.1058225e-08j, -0.12500001-4.3750009e-01j],\n",
       "       [-0.12499998+4.3750009e-01j,  0.3125001 +3.6076431e-09j]],\n",
       "      dtype=complex64)>"
      ]
     },
     "execution_count": 100,
     "metadata": {},
     "output_type": "execute_result"
    }
   ],
   "source": [
    "eB[0][1]*tf.tensordot(eB[1][:,1],tf.math.conj(eB[1][:,1]),axes=0)+eB[0][0]*tf.tensordot(eB[1][:,0],tf.math.conj(eB[1][:,0]),axes=0)"
   ]
  },
  {
   "cell_type": "code",
   "execution_count": 101,
   "id": "0867bb95",
   "metadata": {},
   "outputs": [
    {
     "name": "stdout",
     "output_type": "stream",
     "text": [
      "tf.Tensor([0.9921256 +0.j 0.00787451+0.j], shape=(2,), dtype=complex64)\n"
     ]
    }
   ],
   "source": [
    "pr=tf.constant(tf.complex(d**2,0*d),dtype=tf.complex64)\n",
    "print(pr)"
   ]
  },
  {
   "cell_type": "code",
   "execution_count": 102,
   "id": "15fcf230",
   "metadata": {},
   "outputs": [
    {
     "data": {
      "text/plain": [
       "<tf.Tensor: shape=(2, 2), dtype=complex64, numpy=\n",
       "array([[ 0.69050026+0.j       , -0.12700014+0.4445005j],\n",
       "       [-0.12700014-0.4445005j,  0.30949986+0.j       ]], dtype=complex64)>"
      ]
     },
     "execution_count": 102,
     "metadata": {},
     "output_type": "execute_result"
    }
   ],
   "source": [
    "pr[0]*tf.tensordot(V[:,0],tf.math.conj(V[:,0]),axes=0)+pr[1]*tf.tensordot(V[:,0],tf.math.conj(V[:,0]),axes=0)"
   ]
  },
  {
   "cell_type": "code",
   "execution_count": 103,
   "id": "6948c87c",
   "metadata": {},
   "outputs": [
    {
     "data": {
      "text/plain": [
       "<tf.Tensor: shape=(2, 2), dtype=complex64, numpy=\n",
       "array([[0.125 +0.j    , 0.0625-0.3125j],\n",
       "       [0.0625+0.3125j, 0.875 +0.j    ]], dtype=complex64)>"
      ]
     },
     "execution_count": 103,
     "metadata": {},
     "output_type": "execute_result"
    }
   ],
   "source": [
    "rhoA"
   ]
  },
  {
   "cell_type": "code",
   "execution_count": 104,
   "id": "8d42341f",
   "metadata": {},
   "outputs": [
    {
     "data": {
      "text/plain": [
       "<tf.Tensor: shape=(2, 2), dtype=complex64, numpy=\n",
       "array([[0.11899965+0.j        , 0.06350007-0.31750035j],\n",
       "       [0.06350007+0.31750035j, 0.88100046+0.j        ]], dtype=complex64)>"
      ]
     },
     "execution_count": 104,
     "metadata": {},
     "output_type": "execute_result"
    }
   ],
   "source": [
    "pr[0]*tf.tensordot(U[:,0],tf.math.conj(U[:,0]),axes=0)+pr[1]*tf.tensordot(U[:,0],tf.math.conj(U[:,0]),axes=0)"
   ]
  },
  {
   "cell_type": "markdown",
   "id": "c28a0c38",
   "metadata": {},
   "source": [
    "# Define a function that returns the von Neumann entropy for a two qubit"
   ]
  },
  {
   "cell_type": "code",
   "execution_count": 105,
   "id": "04a6f1cc",
   "metadata": {},
   "outputs": [],
   "source": [
    "@tf.function\n",
    "def VonNeumannEntropy2(psi):\n",
    "    \"\"\" Return the entanglement entropy for a two-qubit\n",
    "    with tensor (2,2) psi \n",
    "    Return the entropy and \n",
    "    the squared principal values pr\n",
    "    \"\"\"\n",
    "    d=tf.linalg.svd(psi,compute_uv=False)\n",
    "    d2=tf.abs(d)**2\n",
    "    logd2=tf.math.log(d2+1e-12)/tf.math.log(2.0)\n",
    "    return tf.reduce_sum(-d2*logd2),d2"
   ]
  },
  {
   "cell_type": "code",
   "execution_count": 106,
   "id": "4d9d6285",
   "metadata": {},
   "outputs": [
    {
     "name": "stdout",
     "output_type": "stream",
     "text": [
      "(0.0663472936, [0.992125571 0.00787450839])\n"
     ]
    }
   ],
   "source": [
    "tf.print(VonNeumannEntropy2(psi))"
   ]
  },
  {
   "cell_type": "markdown",
   "id": "10c88e81",
   "metadata": {},
   "source": [
    "# Compute entanglement for a product state"
   ]
  },
  {
   "cell_type": "markdown",
   "id": "03230094",
   "metadata": {},
   "source": [
    "define a product state"
   ]
  },
  {
   "cell_type": "code",
   "execution_count": 107,
   "id": "6b55ab75",
   "metadata": {},
   "outputs": [],
   "source": [
    "phiA=(qubit0+1j*qubit1)/np.sqrt(2.0)"
   ]
  },
  {
   "cell_type": "code",
   "execution_count": 108,
   "id": "78560f41",
   "metadata": {},
   "outputs": [
    {
     "name": "stdout",
     "output_type": "stream",
     "text": [
      "tf.Tensor([0.70710677+0.j         0.        +0.70710677j], shape=(2,), dtype=complex64)\n"
     ]
    }
   ],
   "source": [
    "print(phiA)"
   ]
  },
  {
   "cell_type": "code",
   "execution_count": 109,
   "id": "1eeb820d",
   "metadata": {},
   "outputs": [],
   "source": [
    "phiB=qubit1"
   ]
  },
  {
   "cell_type": "code",
   "execution_count": 110,
   "id": "d339d87c",
   "metadata": {},
   "outputs": [
    {
     "name": "stdout",
     "output_type": "stream",
     "text": [
      "tf.Tensor(\n",
      "[[0.        +0.j         0.70710677+0.j        ]\n",
      " [0.        +0.j         0.        +0.70710677j]], shape=(2, 2), dtype=complex64)\n"
     ]
    }
   ],
   "source": [
    "phi=tf.tensordot(phiA,phiB,axes=0)\n",
    "print(phi)"
   ]
  },
  {
   "cell_type": "code",
   "execution_count": 111,
   "id": "7d53a886",
   "metadata": {},
   "outputs": [
    {
     "name": "stdout",
     "output_type": "stream",
     "text": [
      "(1.71982634e-07, [0.999999881 0])\n"
     ]
    }
   ],
   "source": [
    "tf.print(VonNeumannEntropy2(phi))"
   ]
  },
  {
   "cell_type": "markdown",
   "id": "78ea1fea",
   "metadata": {},
   "source": [
    "# Compute entanglement for a maximally entangled state"
   ]
  },
  {
   "cell_type": "code",
   "execution_count": 112,
   "id": "7bbd9846",
   "metadata": {},
   "outputs": [],
   "source": [
    "PHIplus=(q00+q11)/np.sqrt(2.0)"
   ]
  },
  {
   "cell_type": "code",
   "execution_count": 113,
   "id": "35eb1679",
   "metadata": {},
   "outputs": [
    {
     "name": "stdout",
     "output_type": "stream",
     "text": [
      "(1, [0.49999997 0.49999997])\n"
     ]
    }
   ],
   "source": [
    "tf.print(VonNeumannEntropy2(PHIplus))"
   ]
  },
  {
   "cell_type": "code",
   "execution_count": 114,
   "id": "2cd88302",
   "metadata": {},
   "outputs": [
    {
     "name": "stdout",
     "output_type": "stream",
     "text": [
      "(1, [0.49999997 0.49999997])\n"
     ]
    }
   ],
   "source": [
    "PHIminus=(q00-q11)/np.sqrt(2.0)\n",
    "tf.print(VonNeumannEntropy2(PHIminus))"
   ]
  },
  {
   "cell_type": "code",
   "execution_count": 115,
   "id": "acdebe24",
   "metadata": {},
   "outputs": [],
   "source": [
    "PSIplus=(q01+q10)/np.sqrt(2.0)"
   ]
  },
  {
   "cell_type": "code",
   "execution_count": 116,
   "id": "66d62a1d",
   "metadata": {},
   "outputs": [
    {
     "name": "stdout",
     "output_type": "stream",
     "text": [
      "(1, [0.49999997 0.49999997])\n"
     ]
    }
   ],
   "source": [
    "tf.print(VonNeumannEntropy2(PSIplus))"
   ]
  },
  {
   "cell_type": "code",
   "execution_count": 117,
   "id": "580e443a",
   "metadata": {},
   "outputs": [
    {
     "name": "stdout",
     "output_type": "stream",
     "text": [
      "(1, [0.49999997 0.49999997])\n"
     ]
    }
   ],
   "source": [
    "PSIminus=(q01-q10)/np.sqrt(2.0)\n",
    "tf.print(VonNeumannEntropy2(PSIminus))"
   ]
  },
  {
   "cell_type": "markdown",
   "id": "14d2a19a",
   "metadata": {},
   "source": [
    "# SVD for a maximally entangled state"
   ]
  },
  {
   "cell_type": "code",
   "execution_count": 118,
   "id": "0556e88d",
   "metadata": {},
   "outputs": [],
   "source": [
    "dm, Um, Vm=tf.linalg.svd(PHIplus)\n",
    "VHm=tf.transpose(Vm, conjugate=True)"
   ]
  },
  {
   "cell_type": "code",
   "execution_count": 119,
   "id": "ef9f62f8",
   "metadata": {},
   "outputs": [
    {
     "name": "stdout",
     "output_type": "stream",
     "text": [
      "tf.Tensor([0.70710677 0.70710677], shape=(2,), dtype=float32)\n"
     ]
    }
   ],
   "source": [
    "print(dm)"
   ]
  },
  {
   "cell_type": "code",
   "execution_count": 120,
   "id": "6bdfbe9c",
   "metadata": {},
   "outputs": [
    {
     "data": {
      "text/plain": [
       "<tf.Tensor: shape=(2,), dtype=complex64, numpy=array([1.+0.j, 0.+0.j], dtype=complex64)>"
      ]
     },
     "execution_count": 120,
     "metadata": {},
     "output_type": "execute_result"
    }
   ],
   "source": [
    "Um[:,0]"
   ]
  },
  {
   "cell_type": "code",
   "execution_count": 121,
   "id": "40affaee",
   "metadata": {},
   "outputs": [
    {
     "data": {
      "text/plain": [
       "<tf.Tensor: shape=(2,), dtype=complex64, numpy=array([0.+0.j, 1.+0.j], dtype=complex64)>"
      ]
     },
     "execution_count": 121,
     "metadata": {},
     "output_type": "execute_result"
    }
   ],
   "source": [
    "Um[:,1]"
   ]
  },
  {
   "cell_type": "code",
   "execution_count": 122,
   "id": "54cf411e",
   "metadata": {},
   "outputs": [
    {
     "data": {
      "text/plain": [
       "<tf.Tensor: shape=(2,), dtype=complex64, numpy=array([1.-0.j, 0.-0.j], dtype=complex64)>"
      ]
     },
     "execution_count": 122,
     "metadata": {},
     "output_type": "execute_result"
    }
   ],
   "source": [
    "VHm[0,:]"
   ]
  },
  {
   "cell_type": "code",
   "execution_count": 123,
   "id": "dbc436f2",
   "metadata": {},
   "outputs": [
    {
     "data": {
      "text/plain": [
       "<tf.Tensor: shape=(2,), dtype=complex64, numpy=array([0.-0.j, 1.-0.j], dtype=complex64)>"
      ]
     },
     "execution_count": 123,
     "metadata": {},
     "output_type": "execute_result"
    }
   ],
   "source": [
    "VHm[1,:]"
   ]
  },
  {
   "cell_type": "code",
   "execution_count": 124,
   "id": "fadd0567",
   "metadata": {},
   "outputs": [],
   "source": [
    "dm, Um, Vm=tf.linalg.svd(PSIplus)\n",
    "VHm=tf.transpose(Vm, conjugate=True)"
   ]
  },
  {
   "cell_type": "code",
   "execution_count": 125,
   "id": "74abb3be",
   "metadata": {},
   "outputs": [
    {
     "data": {
      "text/plain": [
       "<tf.Tensor: shape=(2,), dtype=complex64, numpy=array([-0.-0.j,  1.-0.j], dtype=complex64)>"
      ]
     },
     "execution_count": 125,
     "metadata": {},
     "output_type": "execute_result"
    }
   ],
   "source": [
    "Um[:,0]"
   ]
  },
  {
   "cell_type": "code",
   "execution_count": 126,
   "id": "dd50c825",
   "metadata": {},
   "outputs": [
    {
     "data": {
      "text/plain": [
       "<tf.Tensor: shape=(2,), dtype=complex64, numpy=array([1.+0.j, 0.+0.j], dtype=complex64)>"
      ]
     },
     "execution_count": 126,
     "metadata": {},
     "output_type": "execute_result"
    }
   ],
   "source": [
    "Um[:,1]"
   ]
  },
  {
   "cell_type": "code",
   "execution_count": 127,
   "id": "ac2d6edd",
   "metadata": {},
   "outputs": [
    {
     "data": {
      "text/plain": [
       "<tf.Tensor: shape=(2,), dtype=complex64, numpy=array([1.-0.j, 0.-0.j], dtype=complex64)>"
      ]
     },
     "execution_count": 127,
     "metadata": {},
     "output_type": "execute_result"
    }
   ],
   "source": [
    "VHm[0,:]"
   ]
  },
  {
   "cell_type": "code",
   "execution_count": 128,
   "id": "6840cc59",
   "metadata": {},
   "outputs": [
    {
     "data": {
      "text/plain": [
       "<tf.Tensor: shape=(2,), dtype=complex64, numpy=array([0.-0.j, 1.-0.j], dtype=complex64)>"
      ]
     },
     "execution_count": 128,
     "metadata": {},
     "output_type": "execute_result"
    }
   ],
   "source": [
    "VHm[1,:]"
   ]
  },
  {
   "cell_type": "code",
   "execution_count": 129,
   "id": "1eff9087",
   "metadata": {},
   "outputs": [],
   "source": [
    "dm, Um, Vm=tf.linalg.svd(PSIminus)\n",
    "VHm=tf.transpose(Vm, conjugate=True)"
   ]
  },
  {
   "cell_type": "code",
   "execution_count": 130,
   "id": "7dedc7d8",
   "metadata": {},
   "outputs": [
    {
     "data": {
      "text/plain": [
       "<tf.Tensor: shape=(2,), dtype=complex64, numpy=array([ 0.+0.j, -1.+0.j], dtype=complex64)>"
      ]
     },
     "execution_count": 130,
     "metadata": {},
     "output_type": "execute_result"
    }
   ],
   "source": [
    "Um[:,0]"
   ]
  },
  {
   "cell_type": "code",
   "execution_count": 131,
   "id": "ba571eb4",
   "metadata": {},
   "outputs": [
    {
     "data": {
      "text/plain": [
       "<tf.Tensor: shape=(2,), dtype=complex64, numpy=array([1.+0.j, 0.+0.j], dtype=complex64)>"
      ]
     },
     "execution_count": 131,
     "metadata": {},
     "output_type": "execute_result"
    }
   ],
   "source": [
    "Um[:,1]"
   ]
  },
  {
   "cell_type": "code",
   "execution_count": 132,
   "id": "0302d8e3",
   "metadata": {},
   "outputs": [
    {
     "data": {
      "text/plain": [
       "<tf.Tensor: shape=(2,), dtype=complex64, numpy=array([1.-0.j, 0.-0.j], dtype=complex64)>"
      ]
     },
     "execution_count": 132,
     "metadata": {},
     "output_type": "execute_result"
    }
   ],
   "source": [
    "VHm[0,:]"
   ]
  },
  {
   "cell_type": "code",
   "execution_count": 133,
   "id": "a8766cd2",
   "metadata": {},
   "outputs": [
    {
     "data": {
      "text/plain": [
       "<tf.Tensor: shape=(2,), dtype=complex64, numpy=array([0.-0.j, 1.-0.j], dtype=complex64)>"
      ]
     },
     "execution_count": 133,
     "metadata": {},
     "output_type": "execute_result"
    }
   ],
   "source": [
    "VHm[1,:]"
   ]
  },
  {
   "cell_type": "code",
   "execution_count": 134,
   "id": "aee0084a",
   "metadata": {},
   "outputs": [],
   "source": [
    "dm, Um, Vm=tf.linalg.svd(PHIminus)\n",
    "VHm=tf.transpose(Vm, conjugate=True)"
   ]
  },
  {
   "cell_type": "code",
   "execution_count": 135,
   "id": "3b8bbf45",
   "metadata": {},
   "outputs": [
    {
     "data": {
      "text/plain": [
       "<tf.Tensor: shape=(2,), dtype=complex64, numpy=array([1.+0.j, 0.+0.j], dtype=complex64)>"
      ]
     },
     "execution_count": 135,
     "metadata": {},
     "output_type": "execute_result"
    }
   ],
   "source": [
    "Um[:,0]"
   ]
  },
  {
   "cell_type": "code",
   "execution_count": 136,
   "id": "2e8484d5",
   "metadata": {},
   "outputs": [
    {
     "data": {
      "text/plain": [
       "<tf.Tensor: shape=(2,), dtype=complex64, numpy=array([-0.-0.j, -1.-0.j], dtype=complex64)>"
      ]
     },
     "execution_count": 136,
     "metadata": {},
     "output_type": "execute_result"
    }
   ],
   "source": [
    "Um[:,1]"
   ]
  },
  {
   "cell_type": "code",
   "execution_count": 137,
   "id": "41e64a70",
   "metadata": {},
   "outputs": [
    {
     "data": {
      "text/plain": [
       "<tf.Tensor: shape=(2,), dtype=complex64, numpy=array([1.-0.j, 0.-0.j], dtype=complex64)>"
      ]
     },
     "execution_count": 137,
     "metadata": {},
     "output_type": "execute_result"
    }
   ],
   "source": [
    "VHm[0,:]"
   ]
  },
  {
   "cell_type": "code",
   "execution_count": 138,
   "id": "93bf215b",
   "metadata": {},
   "outputs": [
    {
     "data": {
      "text/plain": [
       "<tf.Tensor: shape=(2,), dtype=complex64, numpy=array([0.-0.j, 1.-0.j], dtype=complex64)>"
      ]
     },
     "execution_count": 138,
     "metadata": {},
     "output_type": "execute_result"
    }
   ],
   "source": [
    "VHm[1,:]"
   ]
  },
  {
   "cell_type": "code",
   "execution_count": null,
   "id": "ad1ddbc6",
   "metadata": {},
   "outputs": [],
   "source": []
  }
 ],
 "metadata": {
  "kernelspec": {
   "display_name": "Python 3 (ipykernel)",
   "language": "python",
   "name": "python3"
  },
  "language_info": {
   "codemirror_mode": {
    "name": "ipython",
    "version": 3
   },
   "file_extension": ".py",
   "mimetype": "text/x-python",
   "name": "python",
   "nbconvert_exporter": "python",
   "pygments_lexer": "ipython3",
   "version": "3.10.12"
  }
 },
 "nbformat": 4,
 "nbformat_minor": 5
}
