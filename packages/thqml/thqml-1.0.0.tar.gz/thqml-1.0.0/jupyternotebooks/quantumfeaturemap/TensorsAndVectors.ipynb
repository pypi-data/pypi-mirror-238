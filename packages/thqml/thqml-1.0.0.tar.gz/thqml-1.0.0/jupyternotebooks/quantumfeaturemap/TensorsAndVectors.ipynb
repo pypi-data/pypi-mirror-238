{
 "cells": [
  {
   "cell_type": "markdown",
   "id": "80c43520-5c4b-4087-92f9-899c5cc38266",
   "metadata": {},
   "source": [
    "# Some remarks on tensors and vectors in TensorFlow\n",
    "\n",
    "<img src=\"../logo_circular.png\" width=\"20\" height=\"20\" />@by claudio<br>\n",
    "nonlinearxwaves@gmail.com<br>\n",
    "\n",
    "\n",
    "@created 25 June 2022<br>\n",
    "@version 6 October 2023<br>"
   ]
  },
  {
   "cell_type": "code",
   "execution_count": 1,
   "id": "7444893f-3428-4dd6-a01a-c5368353c594",
   "metadata": {},
   "outputs": [],
   "source": [
    "import os\n",
    "os.environ['TF_CPP_MIN_LOG_LEVEL'] = '2' # disable warning messages "
   ]
  },
  {
   "cell_type": "code",
   "execution_count": 2,
   "id": "56fa01ea-76e6-47c8-b926-9fb8d3fd173a",
   "metadata": {},
   "outputs": [],
   "source": [
    "import tensorflow as tf\n",
    "import numpy as np\n",
    "import matplotlib.pyplot as plt\n",
    "from matplotlib import cm"
   ]
  },
  {
   "cell_type": "code",
   "execution_count": 3,
   "id": "2cdab3f4-69bc-4c3c-b57f-af2429d11c2d",
   "metadata": {},
   "outputs": [],
   "source": [
    "mytype=tf.complex64"
   ]
  },
  {
   "cell_type": "markdown",
   "id": "4990c95a-dd5f-421a-b7f8-5043d28508be",
   "metadata": {},
   "source": [
    "# Define a column vector as a list of numbers"
   ]
  },
  {
   "cell_type": "markdown",
   "id": "2c1e1b0a-39ae-436d-8bcb-83655de25e0c",
   "metadata": {},
   "source": [
    "$V=\\begin{pmatrix}V^0\\\\V^1\\end{pmatrix}=\\begin{pmatrix}1.0\\\\2.0\\end{pmatrix}$"
   ]
  },
  {
   "cell_type": "markdown",
   "id": "67390923-0a3d-4847-aa8c-f74b9e458010",
   "metadata": {},
   "source": [
    "Note we use contravariant indices for vectors"
   ]
  },
  {
   "cell_type": "code",
   "execution_count": 4,
   "id": "0c18a893-f265-4f9f-b7a0-54b5286e7fb3",
   "metadata": {},
   "outputs": [
    {
     "name": "stdout",
     "output_type": "stream",
     "text": [
      "tf.Tensor([1. 2.], shape=(2,), dtype=float32)\n"
     ]
    }
   ],
   "source": [
    "V=tf.constant([1.0, 2.0])\n",
    "print(V)"
   ]
  },
  {
   "cell_type": "markdown",
   "id": "95b99d16-9567-466d-a0e1-bef7bfa84ec3",
   "metadata": {},
   "source": [
    "Note the shape is (2,)"
   ]
  },
  {
   "cell_type": "markdown",
   "id": "ff62b49d-e716-4b39-b150-1f1ec0c6d80e",
   "metadata": {},
   "source": [
    "V[0] and V[1] are the elements of the list with empty shape"
   ]
  },
  {
   "cell_type": "code",
   "execution_count": 5,
   "id": "33e98517-2d7f-411a-ad0c-c30c43d0eb63",
   "metadata": {},
   "outputs": [
    {
     "name": "stdout",
     "output_type": "stream",
     "text": [
      "tf.Tensor(1.0, shape=(), dtype=float32)\n"
     ]
    }
   ],
   "source": [
    "print(V[0])"
   ]
  },
  {
   "cell_type": "code",
   "execution_count": 6,
   "id": "c62c27c9-71f4-4e68-bc49-a8aa8848753a",
   "metadata": {},
   "outputs": [
    {
     "name": "stdout",
     "output_type": "stream",
     "text": [
      "tf.Tensor(2.0, shape=(), dtype=float32)\n"
     ]
    }
   ],
   "source": [
    "print(V[1])"
   ]
  },
  {
   "cell_type": "markdown",
   "id": "b905b520-8ccf-46ba-a363-5e09ad5f5f34",
   "metadata": {},
   "source": [
    "`tf.print` returns the elements with no information on the shape (but does not handle tf.complex type)"
   ]
  },
  {
   "cell_type": "code",
   "execution_count": 7,
   "id": "52c86bd7-2323-4bba-a0fb-92f3a12bda6a",
   "metadata": {},
   "outputs": [
    {
     "name": "stdout",
     "output_type": "stream",
     "text": [
      "[1 2]\n"
     ]
    }
   ],
   "source": [
    "tf.print(V)"
   ]
  },
  {
   "cell_type": "code",
   "execution_count": 8,
   "id": "e4660d00-5b67-460e-94b7-ce59d6efe139",
   "metadata": {},
   "outputs": [
    {
     "name": "stdout",
     "output_type": "stream",
     "text": [
      "1\n"
     ]
    }
   ],
   "source": [
    "tf.print(V[0])"
   ]
  },
  {
   "cell_type": "code",
   "execution_count": 9,
   "id": "505e2c10-0cbe-4dbe-b203-101ec76c66e3",
   "metadata": {},
   "outputs": [
    {
     "name": "stdout",
     "output_type": "stream",
     "text": [
      "2\n"
     ]
    }
   ],
   "source": [
    "tf.print(V[1])"
   ]
  },
  {
   "cell_type": "markdown",
   "id": "a576c900-fe9c-49ca-8aeb-d77ca8cdee3e",
   "metadata": {},
   "source": [
    "# Define a matrix as a shape=(2,2) tensor"
   ]
  },
  {
   "cell_type": "markdown",
   "id": "3d4ff7b0-a85e-469e-b3db-43ba36a13339",
   "metadata": {},
   "source": [
    "$M=\\left(\\begin{array}{cc}M^0{}_0{} & M^0{}_1{}\\\\M^1{}_0{} & M^1{}_1{}\\end{array}\\right)=\\left(\\begin{array}{cc}3.0  & 4.0\\\\5.0 & 6.0\\end{array}\\right)$"
   ]
  },
  {
   "cell_type": "code",
   "execution_count": 10,
   "id": "06c0dc31-68a4-44fd-a948-822eec1ec878",
   "metadata": {},
   "outputs": [],
   "source": [
    "M=tf.constant([[3.0,4.0],[5.0,6.0]])"
   ]
  },
  {
   "cell_type": "code",
   "execution_count": 11,
   "id": "f4fbabe0-30ca-4bef-b56b-60e3272c00a4",
   "metadata": {},
   "outputs": [
    {
     "name": "stdout",
     "output_type": "stream",
     "text": [
      "tf.Tensor(\n",
      "[[3. 4.]\n",
      " [5. 6.]], shape=(2, 2), dtype=float32)\n"
     ]
    }
   ],
   "source": [
    "print(M)"
   ]
  },
  {
   "cell_type": "code",
   "execution_count": 12,
   "id": "4fb0d743-9aaf-43e3-83d5-b7e09c0c2858",
   "metadata": {},
   "outputs": [
    {
     "name": "stdout",
     "output_type": "stream",
     "text": [
      "[[3 4]\n",
      " [5 6]]\n"
     ]
    }
   ],
   "source": [
    "tf.print(M)"
   ]
  },
  {
   "cell_type": "markdown",
   "id": "62313ac2-0b05-4f29-9682-5b2476040728",
   "metadata": {},
   "source": [
    "## Access the rows of the matrix as the sublists"
   ]
  },
  {
   "cell_type": "code",
   "execution_count": 13,
   "id": "b7f7dd31-8a86-4367-8274-4d16f0db8d81",
   "metadata": {},
   "outputs": [
    {
     "name": "stdout",
     "output_type": "stream",
     "text": [
      "tf.Tensor([3. 4.], shape=(2,), dtype=float32)\n"
     ]
    }
   ],
   "source": [
    "print(M[0])"
   ]
  },
  {
   "cell_type": "code",
   "execution_count": 14,
   "id": "a0d9dd02-26ee-47a7-8bf1-8f6c3bfbee36",
   "metadata": {},
   "outputs": [
    {
     "name": "stdout",
     "output_type": "stream",
     "text": [
      "[3 4]\n"
     ]
    }
   ],
   "source": [
    "tf.print(M[0])"
   ]
  },
  {
   "cell_type": "code",
   "execution_count": 15,
   "id": "7080cf15-e78f-4151-b2cb-a0defd2a078a",
   "metadata": {},
   "outputs": [
    {
     "name": "stdout",
     "output_type": "stream",
     "text": [
      "tf.Tensor([5. 6.], shape=(2,), dtype=float32)\n"
     ]
    }
   ],
   "source": [
    "print(M[1])"
   ]
  },
  {
   "cell_type": "code",
   "execution_count": 16,
   "id": "24f6bec7-344d-4413-a875-be8710fa2520",
   "metadata": {},
   "outputs": [
    {
     "name": "stdout",
     "output_type": "stream",
     "text": [
      "[5 6]\n"
     ]
    }
   ],
   "source": [
    "tf.print(M[1])"
   ]
  },
  {
   "cell_type": "markdown",
   "id": "6efe7ca0-125c-4a03-9e74-7b6199a3d155",
   "metadata": {},
   "source": [
    "## Access the columns"
   ]
  },
  {
   "cell_type": "code",
   "execution_count": 17,
   "id": "1a65e650-b65f-4ed0-ba46-1ee3f233e2dc",
   "metadata": {},
   "outputs": [
    {
     "name": "stdout",
     "output_type": "stream",
     "text": [
      "tf.Tensor([3. 5.], shape=(2,), dtype=float32)\n"
     ]
    }
   ],
   "source": [
    "print(M[:,0])"
   ]
  },
  {
   "cell_type": "code",
   "execution_count": 18,
   "id": "b5af2546-8544-4c1e-ac79-e109a003c76d",
   "metadata": {},
   "outputs": [
    {
     "name": "stdout",
     "output_type": "stream",
     "text": [
      "tf.Tensor([4. 6.], shape=(2,), dtype=float32)\n"
     ]
    }
   ],
   "source": [
    "print(M[:,1])"
   ]
  },
  {
   "cell_type": "markdown",
   "id": "bc827c16-e823-4115-9b7c-01c285a1f0a5",
   "metadata": {},
   "source": [
    "## Access the elements of the matrix"
   ]
  },
  {
   "cell_type": "code",
   "execution_count": 19,
   "id": "269f8e39-e41f-4822-9d49-80d3806eb576",
   "metadata": {},
   "outputs": [
    {
     "data": {
      "text/plain": [
       "<tf.Tensor: shape=(), dtype=float32, numpy=3.0>"
      ]
     },
     "execution_count": 19,
     "metadata": {},
     "output_type": "execute_result"
    }
   ],
   "source": [
    "M[0,0]"
   ]
  },
  {
   "cell_type": "code",
   "execution_count": 20,
   "id": "8acdbe70-1205-4b3a-ad44-7156894666ce",
   "metadata": {},
   "outputs": [
    {
     "name": "stdout",
     "output_type": "stream",
     "text": [
      "3\n"
     ]
    }
   ],
   "source": [
    "tf.print(M[0,0])"
   ]
  },
  {
   "cell_type": "code",
   "execution_count": 21,
   "id": "b01df8e2-e24b-43cb-be98-534afc7af932",
   "metadata": {},
   "outputs": [
    {
     "data": {
      "text/plain": [
       "<tf.Tensor: shape=(), dtype=float32, numpy=4.0>"
      ]
     },
     "execution_count": 21,
     "metadata": {},
     "output_type": "execute_result"
    }
   ],
   "source": [
    "M[0,1]"
   ]
  },
  {
   "cell_type": "code",
   "execution_count": 22,
   "id": "bbe9feda-a33c-4710-97c7-0de1d8758244",
   "metadata": {},
   "outputs": [
    {
     "data": {
      "text/plain": [
       "<tf.Tensor: shape=(), dtype=float32, numpy=5.0>"
      ]
     },
     "execution_count": 22,
     "metadata": {},
     "output_type": "execute_result"
    }
   ],
   "source": [
    "M[1,0]"
   ]
  },
  {
   "cell_type": "code",
   "execution_count": 23,
   "id": "773a0f6a-e12e-4916-bc30-c7d64cc20a87",
   "metadata": {},
   "outputs": [
    {
     "data": {
      "text/plain": [
       "<tf.Tensor: shape=(), dtype=float32, numpy=6.0>"
      ]
     },
     "execution_count": 23,
     "metadata": {},
     "output_type": "execute_result"
    }
   ],
   "source": [
    "M[1,1]"
   ]
  },
  {
   "cell_type": "markdown",
   "id": "a281ff36-0344-4823-b8a8-5a72d4fa6d03",
   "metadata": {},
   "source": [
    "# Outer product of M and V"
   ]
  },
  {
   "cell_type": "code",
   "execution_count": 24,
   "id": "0a7a1891-6150-4e8f-bb2b-0254f12a6023",
   "metadata": {},
   "outputs": [],
   "source": [
    "outerMV=tf.tensordot(M,V,axes=0)"
   ]
  },
  {
   "cell_type": "code",
   "execution_count": 25,
   "id": "1df7c8f6-af8b-428c-b147-d3050e62149e",
   "metadata": {},
   "outputs": [
    {
     "name": "stdout",
     "output_type": "stream",
     "text": [
      "tf.Tensor(6.0, shape=(), dtype=float32)\n"
     ]
    }
   ],
   "source": [
    "print(outerMV[0,0,1])"
   ]
  },
  {
   "cell_type": "code",
   "execution_count": 26,
   "id": "08489197-83b5-4df0-b55e-286ba3231353",
   "metadata": {},
   "outputs": [
    {
     "name": "stdout",
     "output_type": "stream",
     "text": [
      "[[[3 6]\n",
      "  [4 8]]\n",
      "\n",
      " [[5 10]\n",
      "  [6 12]]]\n"
     ]
    }
   ],
   "source": [
    "tf.print(outerMV)"
   ]
  },
  {
   "cell_type": "code",
   "execution_count": 27,
   "id": "3175d448-a60d-4f6b-8553-f36a773d251c",
   "metadata": {},
   "outputs": [
    {
     "name": "stdout",
     "output_type": "stream",
     "text": [
      "6\n"
     ]
    }
   ],
   "source": [
    "tf.print(outerMV[0,0,1])"
   ]
  },
  {
   "cell_type": "markdown",
   "id": "952e4d8b-ba11-4fbb-b38e-e26773ae07f0",
   "metadata": {},
   "source": [
    "# Inner Product of matrix and vector"
   ]
  },
  {
   "cell_type": "markdown",
   "id": "e0850b19-9841-4fc6-8785-1003af81e569",
   "metadata": {},
   "source": [
    "Contraction of the outer product $M^i{}_j{} V^k$ with respect to indices $j$ and $k$"
   ]
  },
  {
   "cell_type": "code",
   "execution_count": 28,
   "id": "e7615a98-95c9-453f-9923-da431e91126d",
   "metadata": {},
   "outputs": [],
   "source": [
    "innerMV=tf.tensordot(M,V,axes=[1,0])"
   ]
  },
  {
   "cell_type": "markdown",
   "id": "025841cc-500c-46ff-9306-41c7fddd9d37",
   "metadata": {},
   "source": [
    "This is equivalent to the matrix vector multiplication $M^i{}_j{} V^j$"
   ]
  },
  {
   "cell_type": "code",
   "execution_count": 29,
   "id": "04e41b3a-310f-424e-b269-22fdfefe4c48",
   "metadata": {},
   "outputs": [
    {
     "name": "stdout",
     "output_type": "stream",
     "text": [
      "tf.Tensor([11. 17.], shape=(2,), dtype=float32)\n"
     ]
    }
   ],
   "source": [
    "print(innerMV)"
   ]
  },
  {
   "cell_type": "code",
   "execution_count": 30,
   "id": "21d19fda-9adb-4a8b-ac05-a1d0cde1d206",
   "metadata": {},
   "outputs": [
    {
     "data": {
      "text/plain": [
       "<tf.Tensor: shape=(2,), dtype=float32, numpy=array([11., 17.], dtype=float32)>"
      ]
     },
     "execution_count": 30,
     "metadata": {},
     "output_type": "execute_result"
    }
   ],
   "source": [
    "tf.tensordot(M,V,axes=1)"
   ]
  },
  {
   "cell_type": "markdown",
   "id": "9d14128b-dade-4ea1-8342-47c381b9900a",
   "metadata": {},
   "source": [
    "This a simplified notation for the matrix vector multiplication"
   ]
  },
  {
   "cell_type": "markdown",
   "id": "7a908bce-1d89-41d2-835d-42f1eb686687",
   "metadata": {},
   "source": [
    "# Define the column and row vectors as tensors with shape (1,2) or (2,1)"
   ]
  },
  {
   "cell_type": "code",
   "execution_count": 31,
   "id": "e4a92dd5-02d3-4b25-8e8e-4c2e7fbac8dd",
   "metadata": {},
   "outputs": [],
   "source": [
    "VR=tf.constant([1.0, 2.0],shape=(1,2))"
   ]
  },
  {
   "cell_type": "code",
   "execution_count": 32,
   "id": "d1484c6f-7203-4266-b526-c88d39f9daa5",
   "metadata": {},
   "outputs": [
    {
     "name": "stdout",
     "output_type": "stream",
     "text": [
      "tf.Tensor([[1. 2.]], shape=(1, 2), dtype=float32)\n"
     ]
    }
   ],
   "source": [
    "print(VR)"
   ]
  },
  {
   "cell_type": "code",
   "execution_count": 33,
   "id": "fd627a0f-739b-425b-8a63-8c05835c7beb",
   "metadata": {},
   "outputs": [
    {
     "name": "stdout",
     "output_type": "stream",
     "text": [
      "[[1 2]]\n"
     ]
    }
   ],
   "source": [
    "tf.print(VR)"
   ]
  },
  {
   "cell_type": "code",
   "execution_count": 34,
   "id": "35749b91-9875-4de2-8fab-5f53ce45f912",
   "metadata": {},
   "outputs": [
    {
     "name": "stdout",
     "output_type": "stream",
     "text": [
      "tf.Tensor([1. 2.], shape=(2,), dtype=float32)\n"
     ]
    }
   ],
   "source": [
    "print(VR[0])"
   ]
  },
  {
   "cell_type": "code",
   "execution_count": 35,
   "id": "5290f9f9-7238-49f2-80bd-ba92f9d3d636",
   "metadata": {},
   "outputs": [
    {
     "name": "stdout",
     "output_type": "stream",
     "text": [
      "[1 2]\n"
     ]
    }
   ],
   "source": [
    "tf.print(VR[0])"
   ]
  },
  {
   "cell_type": "code",
   "execution_count": 36,
   "id": "b2923fad-04cc-4da1-a478-751241ca5a3d",
   "metadata": {},
   "outputs": [
    {
     "name": "stdout",
     "output_type": "stream",
     "text": [
      "tf.Tensor(1.0, shape=(), dtype=float32)\n"
     ]
    }
   ],
   "source": [
    "print(VR[0,0])"
   ]
  },
  {
   "cell_type": "code",
   "execution_count": 37,
   "id": "2d3ec4c7-c0ef-4527-8b9b-982bbfaae666",
   "metadata": {},
   "outputs": [
    {
     "name": "stdout",
     "output_type": "stream",
     "text": [
      "tf.Tensor(2.0, shape=(), dtype=float32)\n"
     ]
    }
   ],
   "source": [
    "print(VR[0,1])"
   ]
  },
  {
   "cell_type": "code",
   "execution_count": 38,
   "id": "291de222-650d-4436-b02f-d42bc0db1665",
   "metadata": {},
   "outputs": [],
   "source": [
    "VC=tf.constant([1.0, 2.0],shape=(2,1))"
   ]
  },
  {
   "cell_type": "code",
   "execution_count": 39,
   "id": "607bb22c-2cdc-4801-a3c7-fedee08b23d3",
   "metadata": {},
   "outputs": [
    {
     "name": "stdout",
     "output_type": "stream",
     "text": [
      "tf.Tensor(\n",
      "[[1.]\n",
      " [2.]], shape=(2, 1), dtype=float32)\n"
     ]
    }
   ],
   "source": [
    "print(VC)"
   ]
  },
  {
   "cell_type": "code",
   "execution_count": 40,
   "id": "321a603b-3d4d-46a4-ae46-3ff16156f733",
   "metadata": {},
   "outputs": [
    {
     "name": "stdout",
     "output_type": "stream",
     "text": [
      "tf.Tensor([1.], shape=(1,), dtype=float32)\n"
     ]
    }
   ],
   "source": [
    "print(VC[0])"
   ]
  },
  {
   "cell_type": "code",
   "execution_count": 41,
   "id": "3892fb78-4180-4521-a873-a1e39bd48fdd",
   "metadata": {},
   "outputs": [
    {
     "name": "stdout",
     "output_type": "stream",
     "text": [
      "tf.Tensor([2.], shape=(1,), dtype=float32)\n"
     ]
    }
   ],
   "source": [
    "print(VC[1])"
   ]
  },
  {
   "cell_type": "code",
   "execution_count": 42,
   "id": "f31dda9f-681f-4cf3-9ed8-231a5cd4f40b",
   "metadata": {},
   "outputs": [
    {
     "name": "stdout",
     "output_type": "stream",
     "text": [
      "tf.Tensor(1.0, shape=(), dtype=float32)\n"
     ]
    }
   ],
   "source": [
    "print(VC[0,0])"
   ]
  },
  {
   "cell_type": "code",
   "execution_count": 43,
   "id": "ea2867cf-2e03-4fee-a8ae-56c827e6572b",
   "metadata": {},
   "outputs": [
    {
     "name": "stdout",
     "output_type": "stream",
     "text": [
      "tf.Tensor(2.0, shape=(), dtype=float32)\n"
     ]
    }
   ],
   "source": [
    "print(VC[1,0])"
   ]
  },
  {
   "cell_type": "markdown",
   "id": "4e3999c4-b4f3-43e4-91cc-739715047a34",
   "metadata": {},
   "source": [
    "# Inner product with shape (2,2) and (2,1)"
   ]
  },
  {
   "cell_type": "code",
   "execution_count": 44,
   "id": "0a678591-5228-4a1e-ae82-fa0017254152",
   "metadata": {},
   "outputs": [
    {
     "data": {
      "text/plain": [
       "<tf.Tensor: shape=(2, 1), dtype=float32, numpy=\n",
       "array([[11.],\n",
       "       [17.]], dtype=float32)>"
      ]
     },
     "execution_count": 44,
     "metadata": {},
     "output_type": "execute_result"
    }
   ],
   "source": [
    "tf.tensordot(M,VC,axes=[1,0])"
   ]
  },
  {
   "cell_type": "code",
   "execution_count": 45,
   "id": "7ae9218a-b8c5-4243-939f-c0795cfbfa3c",
   "metadata": {},
   "outputs": [
    {
     "data": {
      "text/plain": [
       "<tf.Tensor: shape=(2, 1), dtype=float32, numpy=\n",
       "array([[11.],\n",
       "       [17.]], dtype=float32)>"
      ]
     },
     "execution_count": 45,
     "metadata": {},
     "output_type": "execute_result"
    }
   ],
   "source": [
    "tf.tensordot(M,VC,axes=1)"
   ]
  },
  {
   "cell_type": "code",
   "execution_count": 46,
   "id": "e38dc055-b8a8-4e13-b291-6fe3e8a49b8f",
   "metadata": {},
   "outputs": [
    {
     "data": {
      "text/plain": [
       "<tf.Tensor: shape=(2, 1), dtype=float32, numpy=\n",
       "array([[11.],\n",
       "       [17.]], dtype=float32)>"
      ]
     },
     "execution_count": 46,
     "metadata": {},
     "output_type": "execute_result"
    }
   ],
   "source": [
    "tf.tensordot(M,VR,axes=[1,1])"
   ]
  },
  {
   "cell_type": "code",
   "execution_count": null,
   "id": "7caec2ba-a14c-4ca7-9047-e97449bbaad3",
   "metadata": {},
   "outputs": [],
   "source": []
  }
 ],
 "metadata": {
  "kernelspec": {
   "display_name": "Python 3 (ipykernel)",
   "language": "python",
   "name": "python3"
  },
  "language_info": {
   "codemirror_mode": {
    "name": "ipython",
    "version": 3
   },
   "file_extension": ".py",
   "mimetype": "text/x-python",
   "name": "python",
   "nbconvert_exporter": "python",
   "pygments_lexer": "ipython3",
   "version": "3.10.12"
  }
 },
 "nbformat": 4,
 "nbformat_minor": 5
}
