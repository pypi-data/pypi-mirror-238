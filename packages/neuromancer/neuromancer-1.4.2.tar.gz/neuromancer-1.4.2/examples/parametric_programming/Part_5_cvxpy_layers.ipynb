{
 "cells": [
  {
   "cell_type": "markdown",
   "metadata": {
    "id": "34qVD_ntSKLF"
   },
   "source": [
    "# Cvxpylayers + Neuromancer\n",
    "\n",
    "\n",
    "This example demonstrates integration of Cvxpylayers into Neuromancer.\n",
    "We will demonstrate this capability on learning to optimize\n",
    "for [parametric nonlinear programming problem (pNLP)](https://en.wikipedia.org/wiki/Parametric_programming) defined as:\n",
    "\n",
    "$$\n",
    "\\begin{align}\n",
    "&\\text{minimize } &&  f(x, \\theta) \\\\\n",
    "&\\text{subject to} && g(x, \\theta) \\le 0\n",
    "\\end{align}\n",
    "$$\n",
    "\n",
    "with  parameters $\\theta$ and decision variables $x$.\n",
    "\n",
    "\n",
    "### Cvxpy Layes References\n",
    "[1] [Agrawal, A. and Amos, B. and Barratt, S. and Boyd, S. and Diamond, S. and Kolter, Z., Differentiable Convex Optimization Layers, NeurIPS 2019](https://arxiv.org/abs/1910.12430)  \n",
    "[2] https://github.com/cvxgrp/cvxpylayers/tree/master  \n",
    "[3] https://locuslab.github.io/2019-10-28-cvxpylayers/  \n",
    "\n",
    "### Learning to Optimize References\n",
    "[1] [F. Fioretto, et al., Predicting AC Optimal Power Flows: Combining Deep Learning and Lagrangian Dual Methods, 2019](https://arxiv.org/abs/1909.10461)  \n",
    "[2] [S. Gould, et al., Deep Declarative Networks: A New Hope, 2020](https://arxiv.org/abs/1909.04866)  \n",
    "[3] [P. Donti, et al., DC3: A learning method for optimization with hard constraints, 2021](https://arxiv.org/abs/2104.12225)  \n",
    "[4] [J. Kotary, et al., End-to-End Constrained Optimization Learning: A Survey, 2021](https://arxiv.org/abs/2103.16378)  \n",
    "[5] [M. Li, et al., Learning to Solve Optimization Problems with Hard Linear Constraints, 2022](https://arxiv.org/abs/2208.10611)  \n",
    "[6] [R. Sambharya, et al., End-to-End Learning to Warm-Start for Real-Time Quadratic Optimization, 2022](https://arxiv.org/abs/2212.08260)  \n",
    "[7] [Parametric programming in Neuromancer](https://github.com/pnnl/neuromancer/tree/master/examples/parametric_programming)"
   ]
  },
  {
   "cell_type": "markdown",
   "metadata": {
    "id": "OCn3zpaIqgMc"
   },
   "source": [
    "## NeuroMANCER and Dependencies"
   ]
  },
  {
   "cell_type": "markdown",
   "metadata": {
    "id": "Qzy5Wot5k2Gf"
   },
   "source": [
    "### Install (Colab only)\n",
    "Skip this step when running locally."
   ]
  },
  {
   "cell_type": "code",
   "execution_count": null,
   "metadata": {
    "colab": {
     "base_uri": "https://localhost:8080/",
     "height": 1000
    },
    "id": "X_3EvkSz0Fnz",
    "outputId": "23c06f6b-ab48-4763-c43c-40a325cacf87"
   },
   "outputs": [],
   "source": [
    "!pip install \"neuromancer[examples] @ git+https://github.com/pnnl/neuromancer.git@master\""
   ]
  },
  {
   "cell_type": "markdown",
   "metadata": {
    "id": "LWyvndXlz0Fv"
   },
   "source": [
    "### Import"
   ]
  },
  {
   "cell_type": "code",
   "execution_count": 1,
   "metadata": {
    "id": "KbP0n-4evRqt"
   },
   "outputs": [],
   "source": [
    "import torch\n",
    "import torch.nn as nn\n",
    "import numpy as np\n",
    "import cvxpy\n",
    "from cvxpylayers.torch import CvxpyLayer\n",
    "\n",
    "# plotting\n",
    "import matplotlib.pyplot as plt\n",
    "import matplotlib.patheffects as patheffects\n",
    "\n",
    "# neuromancer\n",
    "from neuromancer.trainer import Trainer\n",
    "from neuromancer.problem import Problem\n",
    "from neuromancer.constraint import variable\n",
    "from neuromancer.dataset import DictDataset\n",
    "from neuromancer.loss import PenaltyLoss\n",
    "from neuromancer.modules import blocks\n",
    "from neuromancer.system import Node"
   ]
  },
  {
   "cell_type": "markdown",
   "metadata": {},
   "source": [
    "# Problem Formulation\n",
    "\n",
    "Specifically we will focus on solving the [Rosenbrock problem](https://en.wikipedia.org/wiki/Rosenbrock_function):\n",
    "\n",
    "$$\n",
    "\\begin{align}\n",
    "&\\text{minimize } &&  (1-x_1)^2 + p(x_2-x_1^2)^2\\\\\n",
    "&\\text{subject to} && Ax \\le b\n",
    "\\end{align}\n",
    "$$\n",
    "\n",
    "with parameters $p, b$ and decision variables $x= [x_1, x_2]$.\n",
    "\n",
    "In this tutorial, we will use neuromancer to train the neural network to minimize the nonlinear objective function,\n",
    "and cvxpy layers to project the solution onto feasible region."
   ]
  },
  {
   "cell_type": "code",
   "execution_count": 2,
   "metadata": {},
   "outputs": [],
   "source": [
    "nx = 2              #  number of decision variables\n",
    "n_con = 4           #  number of constraints\n",
    "n_p = 1             #  number of objective parameters\n",
    "\n",
    "# generate fixed parameters of the inequality constraints: Ax <= b\n",
    "torch.manual_seed(7)\n",
    "A = torch.FloatTensor(n_con, nx).uniform_(-4, 4)\n",
    "x0 = torch.full([nx], 0.5)       # controls center of the polytope\n",
    "s0 = torch.full([n_con], 0.2)    # controls offset from the center of the polytope\n",
    "b0 = A.mv(x0) + s0"
   ]
  },
  {
   "cell_type": "markdown",
   "metadata": {
    "id": "_WH7o7Wu1epw"
   },
   "source": [
    "## Dataset\n",
    "\n",
    "We constructy the dataset by sampling the parametric space."
   ]
  },
  {
   "cell_type": "code",
   "execution_count": 3,
   "metadata": {
    "id": "_r6p2p6myHAh"
   },
   "outputs": [],
   "source": [
    "data_seed = 408  # random seed used for simulated data\n",
    "np.random.seed(data_seed)\n",
    "torch.manual_seed(data_seed);"
   ]
  },
  {
   "cell_type": "markdown",
   "metadata": {
    "id": "JZ9qrw0tlJhs"
   },
   "source": [
    "Randomly sample parameters from a uniform distribution: $0.5\\le p\\le2.0$;  $0.2\\le a\\le1.2$"
   ]
  },
  {
   "cell_type": "code",
   "execution_count": 4,
   "metadata": {
    "id": "Nu58M-8JyHy6"
   },
   "outputs": [],
   "source": [
    "nsim = 1000  # number of datapoints: increase sample density for more robust results\n",
    "# create dictionaries with sampled datapoints with uniform distribution\n",
    "p_low, p_high = 0.2, 5.0,\n",
    "b_low, b_high = 0.0, 1.0,\n",
    "# we sample objective and constraints parameters\n",
    "samples_train = {\"p\": torch.FloatTensor(nsim, n_p).uniform_(p_low, p_high),\n",
    "                 \"b_param\": torch.FloatTensor(nsim, n_con).uniform_(b_low, b_high)}\n",
    "samples_dev = {\"p\": torch.FloatTensor(nsim, n_p).uniform_(p_low, p_high),\n",
    "               \"b_param\": torch.FloatTensor(nsim, n_con).uniform_(b_low, b_high)}\n",
    "samples_test = {\"p\": torch.FloatTensor(nsim, n_p).uniform_(p_low, p_high),\n",
    "                \"b_param\": torch.FloatTensor(nsim, n_con).uniform_(b_low, b_high)}\n",
    "# create named dictionary datasets\n",
    "train_data = DictDataset(samples_train, name='train')\n",
    "dev_data = DictDataset(samples_dev, name='dev')\n",
    "test_data = DictDataset(samples_test, name='test')\n",
    "# create torch dataloaders for the Trainer\n",
    "train_loader = torch.utils.data.DataLoader(train_data, batch_size=32, num_workers=0,\n",
    "                                           collate_fn=train_data.collate_fn, shuffle=True)\n",
    "dev_loader = torch.utils.data.DataLoader(dev_data, batch_size=32, num_workers=0,\n",
    "                                         collate_fn=dev_data.collate_fn, shuffle=True)\n",
    "test_loader = torch.utils.data.DataLoader(test_data, batch_size=32, num_workers=0,\n",
    "                                         collate_fn=test_data.collate_fn, shuffle=True)\n",
    "# note: training quality will depend on the DataLoader parameters such as batch size and shuffle"
   ]
  },
  {
   "cell_type": "markdown",
   "metadata": {
    "id": "Y2htUaWMDjsk"
   },
   "source": [
    "## Primal Solution Map Architecture\n",
    "\n",
    "A neural network mapping problem parameters onto primal decision variables:  \n",
    "$$x = \\pi(\\theta)$$"
   ]
  },
  {
   "cell_type": "code",
   "execution_count": 5,
   "metadata": {
    "id": "Ta_I_pjyyLzf"
   },
   "outputs": [],
   "source": [
    "# define neural architecture for the trainable solution map\n",
    "# mapping problem parameters to decitionv ariables\n",
    "func = blocks.MLP(insize=n_con+n_p, outsize=nx,\n",
    "                bias=True,\n",
    "                linear_map=torch.nn.Linear,\n",
    "                nonlin=nn.ReLU,\n",
    "                hsizes=[80] * 4)\n",
    "# wrap neural net into symbolic representation of the solution map via the Node class:\n",
    "# sol_map(p, bparam) -> xy\n",
    "sol_map = Node(func, ['p', 'b_param'], ['x'], name='map')"
   ]
  },
  {
   "cell_type": "markdown",
   "metadata": {
    "id": "Lxj77EFj7EO-"
   },
   "source": [
    "## Objective in NeuroMANCER\n",
    "\n",
    "\n",
    "We want to minimize the objective:\n",
    "$$\n",
    "\\begin{align}\n",
    "&\\text{minimize } &&  (1-x_1)^2 + p(x_2-x_1^2)^2\n",
    "\\end{align}\n",
    "$$\n",
    "\n",
    "with $x = [x_1, x_2]$ being decision variables and $p$ being problem parameter."
   ]
  },
  {
   "cell_type": "code",
   "execution_count": 6,
   "metadata": {
    "id": "bcoVjphjyPp9"
   },
   "outputs": [],
   "source": [
    "# define decision variables\n",
    "x1 = variable(\"x\")[:, [0]]\n",
    "x2 = variable(\"x\")[:, [1]]\n",
    "# problem parameters sampled in the dataset\n",
    "p = variable('p')\n",
    "b_param = variable('b_param')\n",
    "\n",
    "# objective function\n",
    "f = (1-x1)**2 + p*(x2-x1**2)**2\n",
    "nm_obj = f.minimize(weight=10.0, name='obj')"
   ]
  },
  {
   "cell_type": "markdown",
   "metadata": {},
   "source": [
    "## Cvxpy projection layer\n",
    "\n",
    "We will use cvxpy layer to implement the projection onto the polytopic constraints:\n",
    "\n",
    "$$\n",
    "\\begin{align}\n",
    "& \\hat{x}  = \\text{argmin}_x && ||x -  \\hat{x}  ||_2^2 \\\\\n",
    "&\\text{subject to} && A \\hat{x} \\le b\n",
    "\\end{align}\n",
    "$$\n",
    "\n",
    "with $x$ being solution obtained from the neural network $x = \\pi(\\theta)$, and $\\hat{x}$ being projected solution onto the feasible set satisfying $A \\hat{x} \\le b$. Here the problem constraints are parametrized by $b$ and solution from neural network $x$. Hence we can compactly represent this projection operator as:  \n",
    "\n",
    "$$\\hat{x} = \\text{proj}_{A x \\le b}(x, b) $$\n",
    "\n",
    "Cvxpy layers allow us to use this projection operator as a differentiable layer in our end-to-end solver pipeline.\n",
    "\n",
    "\n",
    "<img src=\"./figs/cvxpylayers_overview.png\" width=\"600\">  "
   ]
  },
  {
   "cell_type": "code",
   "execution_count": 7,
   "metadata": {},
   "outputs": [],
   "source": [
    "# constants, parameters, and variables\n",
    "A_cvxpy = A.detach().numpy()\n",
    "b0_cvxpy = b0.detach().numpy()\n",
    "b_cvxpy = cvxpy.Parameter(n_con)\n",
    "xy_net = cvxpy.Parameter(nx)      # primal decision from neural net\n",
    "xy_cvxpy = cvxpy.Variable(nx)     # cvxpy decision variable\n",
    "\n",
    "# projection problem formulation\n",
    "cvxpy_obj = cvxpy.Minimize(1.0 * cvxpy.sum_squares(xy_net - xy_cvxpy))\n",
    "cvxpy_cons = [xy_cvxpy@A_cvxpy.T <= b0_cvxpy + b_cvxpy]\n",
    "cvxpy_prob = cvxpy.Problem(cvxpy_obj, cvxpy_cons)\n",
    "\n",
    "# cvxpy layer\n",
    "cvxpy_layer = CvxpyLayer(cvxpy_prob,\n",
    "                   parameters=[b_cvxpy, xy_net],\n",
    "                   variables=[xy_cvxpy])\n",
    "\n",
    "# symbolic wrapper: sol_map(bparam, xy) -> xy\n",
    "project = Node(cvxpy_layer, ['b_param', 'xy'], ['xy_cvx'], name='proj')"
   ]
  },
  {
   "cell_type": "markdown",
   "metadata": {},
   "source": [
    "## Self-supervised loss\n",
    "\n",
    "We can use the correction form the cvxpylayer as a supervisory signal for the neural network alongside with the objective minimization loss function term. This extra term can be used as a guide for the neural network to satisfy constraints of the problem by following the projected solution. The larger the weigthing factor of this loss function term the closer the neural network will be to feasible region on its own without the subsequent projection."
   ]
  },
  {
   "cell_type": "code",
   "execution_count": 8,
   "metadata": {},
   "outputs": [],
   "source": [
    "# corrected variable by the cvxpy layer\n",
    "xy_cvx = variable(\"xy_cvx\")\n",
    "# cvxpy-supervised loss for the neural net\n",
    "residual = torch.abs(xy - xy_cvx)\n",
    "cvxp_loss = 1.*(residual == 0)"
   ]
  },
  {
   "cell_type": "markdown",
   "metadata": {},
   "source": [
    "## Construct differentiable parametric optimization problem \n",
    "\n",
    "Here we put all the pieces together and construct differentiable parametric constrained optimization problem with neural network and cvxpy projection layer as solvers."
   ]
  },
  {
   "cell_type": "code",
   "execution_count": 15,
   "metadata": {
    "colab": {
     "base_uri": "https://localhost:8080/",
     "height": 496
    },
    "id": "n7VPa9Wc8JRB",
    "outputId": "0da17c45-6370-4f46-f626-bd5686b94bfc"
   },
   "outputs": [],
   "source": [
    "# constrained optimization problem construction\n",
    "objectives = [nm_obj, cvxp_loss]\n",
    "constraints = []\n",
    "nodes = [sol_map, project]\n",
    "\n",
    "# create penalty method loss function\n",
    "loss = PenaltyLoss(objectives, constraints)\n",
    "# construct constrained optimization problem\n",
    "problem = Problem(nodes, loss)\n",
    "# plot computational graph\n",
    "# problem.show()"
   ]
  },
  {
   "cell_type": "markdown",
   "metadata": {
    "id": "icWSMeG28SKc"
   },
   "source": [
    "## Parametric Problem Solution in NeuroMANCER\n",
    "\n",
    "Here we will use stochastic gradient descent to optimize the neural network $x = \\pi({\\theta})$ to solve a distribution of sampled problem instances."
   ]
  },
  {
   "cell_type": "code",
   "execution_count": 10,
   "metadata": {
    "id": "rk1bRczByUvl"
   },
   "outputs": [],
   "source": [
    "lr = 0.001      # step size for gradient descent\n",
    "epochs = 10    # number of training epochs\n",
    "warmup = 10    # number of epochs to wait before enacting early stopping policy\n",
    "patience = 10  # number of epochs with no improvement in eval metric to allow before early stopping"
   ]
  },
  {
   "cell_type": "code",
   "execution_count": 11,
   "metadata": {
    "id": "x4oS2N2ZyWtD"
   },
   "outputs": [],
   "source": [
    "optimizer = torch.optim.AdamW(problem.parameters(), lr=lr)\n",
    "# define trainer\n",
    "trainer = Trainer(\n",
    "    problem,\n",
    "    train_loader,\n",
    "    dev_loader,\n",
    "    test_loader,\n",
    "    optimizer,\n",
    "    epochs=epochs,\n",
    "    patience=patience,\n",
    "    warmup=warmup,\n",
    "    train_metric=\"train_loss\",\n",
    "    dev_metric=\"dev_loss\",\n",
    "    test_metric=\"test_loss\",\n",
    "    eval_metric=\"dev_loss\",\n",
    ")"
   ]
  },
  {
   "cell_type": "code",
   "execution_count": 12,
   "metadata": {
    "colab": {
     "base_uri": "https://localhost:8080/"
    },
    "id": "27ASQD3q-M0A",
    "outputId": "04eec20c-51c3-4a71-e570-9636af9421c0"
   },
   "outputs": [
    {
     "name": "stderr",
     "output_type": "stream",
     "text": [
      "C:\\Users\\drgo694\\OneDrive - PNNL\\Documents\\anaconda3\\envs\\neuromancer\\lib\\site-packages\\threadpoolctl.py:1010: RuntimeWarning: \n",
      "Found Intel OpenMP ('libiomp') and LLVM OpenMP ('libomp') loaded at\n",
      "the same time. Both libraries are known to be incompatible and this\n",
      "can cause random crashes or deadlocks on Linux when loaded in the\n",
      "same Python program.\n",
      "Using threadpoolctl may cause crashes or deadlocks. For more\n",
      "information and possible workarounds, please see\n",
      "    https://github.com/joblib/threadpoolctl/blob/master/multiple_openmp.md\n",
      "\n",
      "  warnings.warn(msg, RuntimeWarning)\n",
      "C:\\Users\\drgo694\\OneDrive - PNNL\\Documents\\Codes_dev\\neuromancer\\neuromancer\\src\\neuromancer\\constraint.py:160: UserWarning: Using a target size (torch.Size([])) that is different to the input size (torch.Size([32, 2])). This will likely lead to incorrect results due to broadcasting. Please ensure they have the same size.\n",
      "  loss = F.l1_loss(left, right)\n",
      "C:\\Users\\drgo694\\OneDrive - PNNL\\Documents\\Codes_dev\\neuromancer\\neuromancer\\src\\neuromancer\\constraint.py:160: UserWarning: Using a target size (torch.Size([])) that is different to the input size (torch.Size([8, 2])). This will likely lead to incorrect results due to broadcasting. Please ensure they have the same size.\n",
      "  loss = F.l1_loss(left, right)\n"
     ]
    },
    {
     "name": "stdout",
     "output_type": "stream",
     "text": [
      "epoch: 0  train_loss: 3.2589502334594727\n",
      "epoch: 1  train_loss: 0.3854717016220093\n",
      "epoch: 2  train_loss: 0.2311873733997345\n",
      "epoch: 3  train_loss: 0.19490069150924683\n",
      "epoch: 4  train_loss: 0.18166537582874298\n",
      "epoch: 5  train_loss: 0.17738522589206696\n",
      "epoch: 6  train_loss: 0.17531147599220276\n",
      "epoch: 7  train_loss: 0.1747892051935196\n",
      "epoch: 8  train_loss: 0.17444591224193573\n",
      "epoch: 9  train_loss: 0.17344164848327637\n"
     ]
    },
    {
     "data": {
      "text/plain": [
       "<All keys matched successfully>"
      ]
     },
     "execution_count": 12,
     "metadata": {},
     "output_type": "execute_result"
    }
   ],
   "source": [
    "# Train NLP solution map\n",
    "best_model = trainer.train()\n",
    "best_outputs = trainer.test(best_model)\n",
    "# load best model dict\n",
    "problem.load_state_dict(best_model)"
   ]
  },
  {
   "cell_type": "markdown",
   "metadata": {
    "id": "0hhUw4PVBWmb"
   },
   "source": [
    "## Plot the solution"
   ]
  },
  {
   "cell_type": "code",
   "execution_count": 16,
   "metadata": {
    "colab": {
     "base_uri": "https://localhost:8080/",
     "height": 281
    },
    "id": "kvYCfjq6zxxC",
    "outputId": "322e5b72-b93d-4d9e-a913-8703aad67d1a"
   },
   "outputs": [],
   "source": [
    "def plot_pNLP(p, b_param, savedir=None):\n",
    "    # sample primal solution domain\n",
    "    x1 = np.arange(-0.5, 1.5, 0.02)\n",
    "    y1 = np.arange(-0.5, 1.5, 0.02)\n",
    "    xx, yy = np.meshgrid(x1, y1)\n",
    "    xy_samples = np.stack([xx.flatten(), yy.flatten()])\n",
    "\n",
    "    # eval constraints Ax - b <= 0\n",
    "    A_np = A.detach().numpy()\n",
    "    b = b0 + b_param\n",
    "    b_np = b.detach().numpy()\n",
    "    C_samples = np.subtract(np.matmul(A_np, xy_samples).T, b_np).T\n",
    "    C_samples = C_samples.reshape(n_con, x1.shape[0], y1.shape[0])\n",
    "\n",
    "    # eval objective\n",
    "    p_np = p.detach().numpy()\n",
    "    J = (1 - xx) ** 2 + p_np * (yy - xx ** 2) ** 2\n",
    "\n",
    "    # plot objective and constraints\n",
    "    fig, ax = plt.subplots(1, 1)\n",
    "    cp = ax.contourf(xx, yy, J,\n",
    "                     levels=[0, 0.05, 0.2, 0.5, 1.0, 2.0, 4.0, 6.0, 8.0, 16],\n",
    "                     alpha=0.6)\n",
    "    fig.colorbar(cp)\n",
    "    ax.set_title('Rosenbrock problem')\n",
    "    for k in range(n_con):\n",
    "        cg1 = ax.contour(xx, yy, -C_samples[k], [0],\n",
    "                         colors='mediumblue', alpha=0.7)\n",
    "        plt.setp(cg1.collections,\n",
    "                 path_effects=[patheffects.withTickedStroke()], alpha=0.7)\n",
    "\n",
    "    # Solution to pNLP via Neuromancer\n",
    "    datapoint = {'p': p, 'b_param': b_param,\n",
    "                 'name': 'test'}\n",
    "    # evaluate neuromancer model\n",
    "    model_out = problem.step(datapoint)\n",
    "    # neural net solution\n",
    "    x_nm_net = model_out[\"xy\"][0].detach().numpy()\n",
    "    y_nm_net = model_out[\"xy\"][1].detach().numpy()\n",
    "    # cvxpy projected solution\n",
    "    x_nm_cvx = model_out[\"xy_cvx\"][0].detach().numpy()\n",
    "    y_nm_cvx = model_out[\"xy_cvx\"][1].detach().numpy()\n",
    "\n",
    "    # plot optimal solutions CasADi vs Neuromancer\n",
    "    ax.plot(x_nm_net, y_nm_net, 'r*', fillstyle='none',\n",
    "            markersize=16, label='net')\n",
    "    ax.plot(x_nm_cvx, y_nm_cvx, 'g*', fillstyle='none',\n",
    "            markersize=14, label='cvxpy')\n",
    "    # plot projection step\n",
    "    ax.plot([x_nm_net, x_nm_cvx],\n",
    "            [y_nm_net, y_nm_cvx], '--', c='orange')\n",
    "    plt.legend(bbox_to_anchor=(1.0, 0.15))\n",
    "\n",
    "    if savedir is not None:\n",
    "        if not os.path.exists(savedir):\n",
    "            os.mkdir(savedir)\n",
    "        figure_path = os.path.join(savedir, f'pNLP_p={p}_bsum={b_np}.png')\n",
    "        plt.savefig(figure_path)\n",
    "        return figure_path\n",
    "    else:\n",
    "        plt.show(block=True)\n"
   ]
  },
  {
   "cell_type": "code",
   "execution_count": 18,
   "metadata": {
    "id": "yD5kAnjy4CUL"
   },
   "outputs": [
    {
     "data": {
      "image/png": "[encoded data removed]",
      "text/plain": [
       "<Figure size 640x480 with 2 Axes>"
      ]
     },
     "metadata": {},
     "output_type": "display_data"
    }
   ],
   "source": [
    "# sample random scenario\n",
    "p = torch.FloatTensor(n_p).uniform_(p_low, p_high)\n",
    "b_param = torch.rand(n_con)\n",
    "# plot single random scenario\n",
    "plot_pNLP(p, b_param)"
   ]
  },
  {
   "cell_type": "code",
   "execution_count": null,
   "metadata": {},
   "outputs": [],
   "source": []
  },
  {
   "cell_type": "code",
   "execution_count": null,
   "metadata": {},
   "outputs": [],
   "source": []
  }
 ],
 "metadata": {
  "colab": {
   "provenance": []
  },
  "kernelspec": {
   "display_name": "neuromancer",
   "language": "python",
   "name": "neuromancer"
  },
  "language_info": {
   "codemirror_mode": {
    "name": "ipython",
    "version": 3
   },
   "file_extension": ".py",
   "mimetype": "text/x-python",
   "name": "python",
   "nbconvert_exporter": "python",
   "pygments_lexer": "ipython3",
   "version": "3.10.4"
  }
 },
 "nbformat": 4,
 "nbformat_minor": 1
}
