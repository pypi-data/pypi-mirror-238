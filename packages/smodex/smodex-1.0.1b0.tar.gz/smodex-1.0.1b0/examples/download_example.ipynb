{
 "cells": [
  {
   "cell_type": "markdown",
   "metadata": {},
   "source": [
    "## smodex downloader\n",
    "In this notebook, we show an example of how to quickly utilize the `smodex downloader` module with the `cds_downloader` functionality that allows you to download climate datasets from the Climate Data Store using your own your personal or organization CDS token. \n",
    "\n",
    "In order for this function to effectively work with the CDS API, you are expected to specify your API keys (consult the [README.md](https://gitlab.inf.unibz.it/earth_observation_public/smodex/-/blob/master/README.md?ref_type=heads)) in a .env file. \n",
    "\n",
    "Additionally, you can create a JSON file that contains the specification of the dataset you would like to download (see examples/download.json for example on the expected structure)"
   ]
  },
  {
   "cell_type": "markdown",
   "metadata": {},
   "source": [
    "In this notebook, we showcase an example on how to use the smodex package to quickly download a set of volumetric soil moisture layers for the **Autonomonous Province of Bolzano, South Tyrol** for only the synoptic hours *(\"00:00\", \"06:00\", \"12:00\", \"18:00\")* \n",
    "\n",
    "Take a look at the download.json file to see how this configuration were specified."
   ]
  },
  {
   "cell_type": "code",
   "execution_count": 3,
   "metadata": {},
   "outputs": [],
   "source": [
    "from smodex.downloader import cds_downloader"
   ]
  },
  {
   "cell_type": "code",
   "execution_count": 4,
   "metadata": {},
   "outputs": [
    {
     "name": "stdout",
     "output_type": "stream",
     "text": [
      "2023-10-26 17:37:24,830 [INFO] downloading ERA5 Soil Moisture from CDS API for 2020\n",
      "2023-10-26 17:37:24,830 [INFO]:smodex.downloader:downloading ERA5 Soil Moisture from CDS API for 2020\n"
     ]
    },
    {
     "name": "stderr",
     "output_type": "stream",
     "text": [
      "2023-10-26 17:37:24,930 INFO Welcome to the CDS\n"
     ]
    },
    {
     "name": "stdout",
     "output_type": "stream",
     "text": [
      "2023-10-26 17:37:24,930 [INFO]:cdsapi:Welcome to the CDS\n"
     ]
    },
    {
     "name": "stderr",
     "output_type": "stream",
     "text": [
      "2023-10-26 17:37:24,931 INFO Sending request to https://cds.climate.copernicus.eu/api/v2/resources/reanalysis-era5-single-levels\n"
     ]
    },
    {
     "name": "stdout",
     "output_type": "stream",
     "text": [
      "2023-10-26 17:37:24,931 [INFO]:cdsapi:Sending request to https://cds.climate.copernicus.eu/api/v2/resources/reanalysis-era5-single-levels\n"
     ]
    },
    {
     "name": "stderr",
     "output_type": "stream",
     "text": [
      "2023-10-26 17:37:25,048 INFO Request is queued\n"
     ]
    },
    {
     "name": "stdout",
     "output_type": "stream",
     "text": [
      "2023-10-26 17:37:25,048 [INFO]:cdsapi:Request is queued\n"
     ]
    },
    {
     "name": "stderr",
     "output_type": "stream",
     "text": [
      "2023-10-26 17:47:43,336 INFO Request is completed\n"
     ]
    },
    {
     "name": "stdout",
     "output_type": "stream",
     "text": [
      "2023-10-26 17:47:43,336 [INFO]:cdsapi:Request is completed\n"
     ]
    },
    {
     "name": "stderr",
     "output_type": "stream",
     "text": [
      "2023-10-26 17:47:43,337 INFO Downloading https://download-0012-clone.copernicus-climate.eu/cache-compute-0012/cache/data9/adaptor.mars.internal-1698335182.29258-11653-11-20c97bc4-15df-4311-8780-07fd8a46ad9d.nc to ./ERA5_SM_2020.nc (52.5K)\n"
     ]
    },
    {
     "name": "stdout",
     "output_type": "stream",
     "text": [
      "2023-10-26 17:47:43,337 [INFO]:cdsapi:Downloading https://download-0012-clone.copernicus-climate.eu/cache-compute-0012/cache/data9/adaptor.mars.internal-1698335182.29258-11653-11-20c97bc4-15df-4311-8780-07fd8a46ad9d.nc to ./ERA5_SM_2020.nc (52.5K)\n"
     ]
    },
    {
     "name": "stderr",
     "output_type": "stream",
     "text": [
      "2023-10-26 17:47:43,573 INFO Download rate 222.6K/s\n"
     ]
    },
    {
     "name": "stdout",
     "output_type": "stream",
     "text": [
      "2023-10-26 17:47:43,573 [INFO]:cdsapi:Download rate 222.6K/s\n",
      "2023-10-26 17:47:43,593 [INFO] Downloaded soil moisture now available at ./ERA5_SM_2020.nc\n",
      "2023-10-26 17:47:43,593 [INFO]:smodex.downloader:Downloaded soil moisture now available at ./ERA5_SM_2020.nc\n",
      "2023-10-26 17:47:43,594 [INFO] downloading ERA5 Soil Moisture from CDS API for 2021\n",
      "2023-10-26 17:47:43,594 [INFO]:smodex.downloader:downloading ERA5 Soil Moisture from CDS API for 2021\n"
     ]
    },
    {
     "name": "stderr",
     "output_type": "stream",
     "text": [
      "2023-10-26 17:47:43,607 INFO Welcome to the CDS\n"
     ]
    },
    {
     "name": "stdout",
     "output_type": "stream",
     "text": [
      "2023-10-26 17:47:43,607 [INFO]:cdsapi:Welcome to the CDS\n"
     ]
    },
    {
     "name": "stderr",
     "output_type": "stream",
     "text": [
      "2023-10-26 17:47:43,607 INFO Sending request to https://cds.climate.copernicus.eu/api/v2/resources/reanalysis-era5-single-levels\n"
     ]
    },
    {
     "name": "stdout",
     "output_type": "stream",
     "text": [
      "2023-10-26 17:47:43,607 [INFO]:cdsapi:Sending request to https://cds.climate.copernicus.eu/api/v2/resources/reanalysis-era5-single-levels\n"
     ]
    },
    {
     "name": "stderr",
     "output_type": "stream",
     "text": [
      "2023-10-26 17:47:43,677 INFO Request is queued\n"
     ]
    },
    {
     "name": "stdout",
     "output_type": "stream",
     "text": [
      "2023-10-26 17:47:43,677 [INFO]:cdsapi:Request is queued\n"
     ]
    },
    {
     "name": "stderr",
     "output_type": "stream",
     "text": [
      "2023-10-26 17:56:01,903 INFO Request is completed\n"
     ]
    },
    {
     "name": "stdout",
     "output_type": "stream",
     "text": [
      "2023-10-26 17:56:01,903 [INFO]:cdsapi:Request is completed\n"
     ]
    },
    {
     "name": "stderr",
     "output_type": "stream",
     "text": [
      "2023-10-26 17:56:01,904 INFO Downloading https://download-0018.copernicus-climate.eu/cache-compute-0018/cache/data1/adaptor.mars.internal-1698335725.4849708-27865-3-aab3472d-41b9-4b4f-9465-5a7ca14efe8b.nc to ./ERA5_SM_2021.nc (52.5K)\n"
     ]
    },
    {
     "name": "stdout",
     "output_type": "stream",
     "text": [
      "2023-10-26 17:56:01,904 [INFO]:cdsapi:Downloading https://download-0018.copernicus-climate.eu/cache-compute-0018/cache/data1/adaptor.mars.internal-1698335725.4849708-27865-3-aab3472d-41b9-4b4f-9465-5a7ca14efe8b.nc to ./ERA5_SM_2021.nc (52.5K)\n"
     ]
    },
    {
     "name": "stderr",
     "output_type": "stream",
     "text": [
      "2023-10-26 17:56:02,044 INFO Download rate 378K/s\n"
     ]
    },
    {
     "name": "stdout",
     "output_type": "stream",
     "text": [
      "2023-10-26 17:56:02,044 [INFO]:cdsapi:Download rate 378K/s\n",
      "2023-10-26 17:56:02,065 [INFO] Downloaded soil moisture now available at ./ERA5_SM_2021.nc\n",
      "2023-10-26 17:56:02,065 [INFO]:smodex.downloader:Downloaded soil moisture now available at ./ERA5_SM_2021.nc\n"
     ]
    }
   ],
   "source": [
    "start_date = \"2020-12-15\"\n",
    "end_date = \"2021-01-03\"\n",
    "conf_path = \"download.json\"\n",
    "download_path = \"./\"\n",
    "\n",
    "cds_downloader(start_date, end_date, conf_path, download_path)"
   ]
  }
 ],
 "metadata": {
  "kernelspec": {
   "display_name": "ado_test",
   "language": "python",
   "name": "python3"
  },
  "language_info": {
   "codemirror_mode": {
    "name": "ipython",
    "version": 3
   },
   "file_extension": ".py",
   "mimetype": "text/x-python",
   "name": "python",
   "nbconvert_exporter": "python",
   "pygments_lexer": "ipython3",
   "version": "3.8.13"
  }
 },
 "nbformat": 4,
 "nbformat_minor": 2
}
