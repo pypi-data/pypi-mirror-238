{
 "cells": [
  {
   "cell_type": "markdown",
   "source": [
    "# Welcome to the Image Puzzle Game"
   ],
   "metadata": {
    "collapsed": false
   },
   "id": "a89e1c4fdb74b066"
  },
  {
   "cell_type": "code",
   "execution_count": null,
   "outputs": [],
   "source": [
    "!pip install image-puzzle-game\n",
    "\"\"\"\n",
    "██████╗ ██╗      █████╗ ██╗   ██╗\n",
    "██╔══██╗██║     ██╔══██╗╚██╗ ██╔╝\n",
    "██████╔╝██║     ███████║ ╚████╔╝ \n",
    "██╔═══╝ ██║     ██╔══██║  ╚██╔╝  \n",
    "██║     ███████╗██║  ██║   ██║   \n",
    "╚═╝     ╚══════╝╚═╝  ╚═╝   ╚═╝                                    \n",
    "\"\"\"\n",
    "from image_puzzle_game.game import play\n",
    "play()"
   ],
   "metadata": {
    "collapsed": false
   },
   "id": "c59a401934400085"
  }
 ],
 "metadata": {
  "kernelspec": {
   "display_name": "Python 3",
   "language": "python",
   "name": "python3"
  },
  "language_info": {
   "codemirror_mode": {
    "name": "ipython",
    "version": 2
   },
   "file_extension": ".py",
   "mimetype": "text/x-python",
   "name": "python",
   "nbconvert_exporter": "python",
   "pygments_lexer": "ipython2",
   "version": "2.7.6"
  }
 },
 "nbformat": 4,
 "nbformat_minor": 5
}
