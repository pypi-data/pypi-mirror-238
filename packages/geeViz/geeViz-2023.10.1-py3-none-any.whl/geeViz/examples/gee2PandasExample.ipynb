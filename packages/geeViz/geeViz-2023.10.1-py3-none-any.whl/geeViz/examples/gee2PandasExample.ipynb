{
 "cells": [
  {
   "attachments": {},
   "cell_type": "markdown",
   "id": "3d8516ba",
   "metadata": {},
   "source": [
    "\n",
    "Copyright 2023 Ian Housman\n",
    "\n",
    "   Licensed under the Apache License, Version 2.0 (the \"License\");\n",
    "   you may not use this file except in compliance with the License.\n",
    "   You may obtain a copy of the License at\n",
    "\n",
    "       http://www.apache.org/licenses/LICENSE-2.0\n",
    "\n",
    "   Unless required by applicable law or agreed to in writing, software\n",
    "   distributed under the License is distributed on an \"AS IS\" BASIS,\n",
    "   WITHOUT WARRANTIES OR CONDITIONS OF ANY KIND, either express or implied.\n",
    "   See the License for the specific language governing permissions and\n",
    "   limitations under the License.\n",
    "\n",
    "\n",
    "* Example of the functionality of gee2Pandas module\n",
    "* Use this module to go between local data and GEE for more general data science/statistical analysis"
   ]
  },
  {
   "cell_type": "code",
   "execution_count": 1,
   "id": "145cfa94",
   "metadata": {
    "scrolled": false
   },
   "outputs": [
    {
     "name": "stdout",
     "output_type": "stream",
     "text": [
      "Initializing GEE\n",
      "Successfully initialized\n",
      "geeViz package folder: c:\\Users\\ihousman\\AppData\\Local\\Programs\\Python\\Python311\\Lib\\site-packages\\geeViz\n",
      "PyTables is not installed. No support for HDF output.\n",
      "SQLalchemy is not installed. No support for SQL output.\n",
      "done\n"
     ]
    }
   ],
   "source": [
    "# Import Modules\n",
    "import geeViz.getImagesLib as gil\n",
    "import  geeViz.foliumView as fv\n",
    "import geeViz.gee2Pandas as g2p\n",
    "import pandas as pd\n",
    "import matplotlib.pyplot as plt\n",
    "import numpy\n",
    "ee = fv.ee\n",
    "\n",
    "# Choose whether to use Folium-based map or geeView (syntax remains the same)\n",
    "# Map = fv.foliumMapper()\n",
    "Map = gil.Map\n",
    "\n",
    "Map.port = 1233\n",
    "print('done')"
   ]
  },
  {
   "cell_type": "code",
   "execution_count": 4,
   "id": "151174d6",
   "metadata": {},
   "outputs": [
    {
     "name": "stdout",
     "output_type": "stream",
     "text": [
      "Get Processed Sentinel2: \n",
      "Start date: Jun 09 2021 , End date: Jul 08 2024\n",
      "Using S2 Collection: COPERNICUS/S2_HARMONIZED\n",
      "Joining pre-computed cloud probabilities from: COPERNICUS/S2_CLOUD_PROBABILITY\n",
      "Setting to aggregate instead of resample \n",
      "Converting S2 data to daily mosaics\n",
      "Applying Cloud Probability\n",
      "Applying TDOM\n",
      "Computing irMean for TDOM\n",
      "Computing irStdDev for TDOM\n",
      "Adding layer: S2 Median 2023\n",
      "Adding layer: S2 Water 2023\n",
      "Adding layer: Water_Transition_2022-2023\n",
      "Adding layer: S2 Median 2022\n",
      "Adding layer: S2 Water 2022\n",
      "Adding layer: Study Area\n",
      "Starting webmap\n",
      "Using default refresh token for geeView: C:\\Users\\ihousman/.config/earthengine/credentials\n",
      "Local web server at: http://localhost:1233/geeView/ already serving.\n",
      "cwd a:\\GEE\\gee_py_modules_package\\geeViz\\examples\n"
     ]
    },
    {
     "data": {
      "text/html": [
       "\n",
       "        <iframe\n",
       "            width=\"100%\"\n",
       "            height=\"525px\"\n",
       "            src=\"http://localhost:1233/geeView/?accessToken=ya29.a0AfB_byAJPShtwStKxjxpnjEo7uEnQupusQhNAc_gSs-8xISsjrlwnAdYKnvDt_VdwPdZpbh_aUZmqZKpArZqMb1CFB8Y9z-RDzdbse9MQuAf683k6hJIUDONzeL0qJYzz9KGgrKADqrSQP9aWjI1k9r139MmMHuxp8zEjBp7tU4FaCgYKAT8SARESFQGOcNnC_MCMnTJLJ3VOD9tJ90ZtAg0179\"\n",
       "            frameborder=\"0\"\n",
       "            allowfullscreen\n",
       "            \n",
       "        ></iframe>\n",
       "        "
      ],
      "text/plain": [
       "<IPython.lib.display.IFrame at 0x1da30b9b810>"
      ]
     },
     "metadata": {},
     "output_type": "display_data"
    }
   ],
   "source": [
    "# Set up study area and bring in some Sentinel 2 data for pre and post years\n",
    "Map.clearMap()\n",
    "# Map.setMapArg('tiles',\"cartodb positron\")\n",
    "studyArea = ee.Geometry.Polygon(\n",
    "        [[[-113.21807278537877, 41.786028237932015],\n",
    "          [-113.21807278537877, 40.595571243156144],\n",
    "          [-111.82280911350377, 40.595571243156144],\n",
    "          [-111.82280911350377, 41.786028237932015]]], None, False)\n",
    "\n",
    "preYear = 2022\n",
    "postYear = 2023\n",
    "startJulian = 160\n",
    "endJulian = 190\n",
    "s2s  = gil.getProcessedSentinel2Scenes(studyArea,preYear-1,postYear+1,startJulian,endJulian)\n",
    "post = s2s.filter(ee.Filter.calendarRange(postYear,postYear,'year')).median()\n",
    "postWater = gil.simpleWaterMask(post).rename(['Water'])\n",
    "post = post.addBands(postWater)\n",
    "\n",
    "Map.addLayer(post,gil.vizParamsFalse,'S2 Median {}'.format(postYear),False)\n",
    "Map.addLayer(postWater,{'palette':'888,00F'},'S2 Water {}'.format(postYear))\n",
    "pre = s2s.filter(ee.Filter.calendarRange(preYear,preYear,'year')).median()\n",
    "preWater = gil.simpleWaterMask(pre).rename(['Water'])\n",
    "pre = pre.addBands(preWater)\n",
    "\n",
    "waterTransitionClasses=preWater.add(1).multiply(10).add(postWater).rename('Water_Transition_{}-{}'.format(preYear,postYear))\n",
    "Map.addLayer(waterTransitionClasses,{'min':1,'max':21,'palette':'0F0,00F'},'Water_Transition_{}-{}'.format(preYear,postYear))\n",
    "Map.addLayer(pre,gil.vizParamsFalse,'S2 Median {}'.format(preYear))\n",
    "Map.addLayer(preWater,{'palette':'888,00F'},'S2 Water {}'.format(preYear))\n",
    "Map.centerObject(studyArea)\n",
    "\n",
    "Map.addLayer(studyArea,{'strokeColor':'F00','strokeWidth':10},'Study Area')\n",
    "# print(Map.mapArgs)\n",
    "Map.view()"
   ]
  },
  {
   "cell_type": "code",
   "execution_count": 15,
   "id": "8daf03c9",
   "metadata": {},
   "outputs": [
    {
     "name": "stdout",
     "output_type": "stream",
     "text": [
      "Adding layer: Sample\n"
     ]
    }
   ],
   "source": [
    "# Format a stack raster and get a csv local table\n",
    "nSamples = 500\n",
    "Map.clearMap()\n",
    "preBns = pre.bandNames().map(lambda bn:ee.String(bn).cat('_yr{}_jd{}-{}'.format(preYear,startJulian,endJulian)))\n",
    "postBns = post.bandNames().map(lambda bn:ee.String(bn).cat('_yr{}_jd{}-{}'.format(postYear,startJulian,endJulian)))\n",
    "stack = pre.rename(preBns).addBands(post.rename(postBns)).addBands(waterTransitionClasses)\n",
    "sample =ee.FeatureCollection.randomPoints(studyArea, nSamples, 0, 50)\n",
    "\n",
    "Map.addLayer(sample.map(lambda f:ee.Feature(f).buffer(10).bounds()),{},'Sample')\n",
    "\n",
    "outDir = '/tmp'\n",
    "if not g2p.os.path.exists(outDir):g2p.os.makedirs(outDir)\n",
    "out_csv = '/tmp/gee2Pandas_test_csv.csv'\n",
    "g2p.geeToLocalZonalStats(sample,stack,out_csv,reducer=ee.Reducer.first(),scale=10,crs='EPSG:5070',transform=None,tileScale=4,overwrite=True,maxNumberOfFeatures=5000)\n",
    "Map.view()"
   ]
  },
  {
   "cell_type": "code",
   "execution_count": 14,
   "id": "e5ee4c87",
   "metadata": {},
   "outputs": [
    {
     "data": {
      "image/png": "[encoded data removed]",
      "text/plain": [
       "<Figure size 640x480 with 1 Axes>"
      ]
     },
     "metadata": {},
     "output_type": "display_data"
    },
    {
     "data": {
      "image/png": "[encoded data removed]",
      "text/plain": [
       "<Figure size 640x480 with 1 Axes>"
      ]
     },
     "metadata": {},
     "output_type": "display_data"
    }
   ],
   "source": [
    "# Visualize xy scatter of pre and post years for some bands\n",
    "t = pd.read_csv(out_csv)\n",
    "plotBandNames = ['NBR','NDMI']\n",
    "for plotBandName in plotBandNames:\n",
    "    preColumn = '{}_yr{}_jd{}-{}'.format(plotBandName,preYear,startJulian,endJulian)\n",
    "    postColumn = '{}_yr{}_jd{}-{}'.format(plotBandName,postYear,startJulian,endJulian)\n",
    "    waterColumn = 'Water_yr{}_jd{}-{}'.format(postYear,startJulian,endJulian)\n",
    "    # display(t)\n",
    "    columns = t.columns\n",
    "\n",
    "    fig, ax = plt.subplots()\n",
    "    scat = ax.scatter(t[preColumn],t[postColumn],c=t[waterColumn],alpha=0.2)\n",
    "    ax.set_xlabel(preColumn)\n",
    "    ax.set_ylabel(postColumn)                                                                                                                                                                                                                                                                                                                                                                                                                                                                                                                                                                                                                                                                                                                                                                                                                                                                                                                                                                                                                                                                                                                                                                                                                                                                                                                                                                                                                                                                                                                                                                                                                                                                                                                                                                                                                                                                                                                                                                                                                                                                                                                                                                                                                                                                                                                                                                                                                                                                                                                                                                                                                                                                                                                                                                                                                                                                                                                                                                                                                                                                                                                                                                                                                                                                                                                                                                                                                                                                                                                                                                                                                                                                                                                                                                                                                                                                                                                                                                                                                                                                                                                                                                                                                                                                                                                                                                                                                                                                                                                                            \n",
    "    plt.show()\n"
   ]
  },
  {
   "cell_type": "code",
   "execution_count": 10,
   "id": "a59a6afa",
   "metadata": {},
   "outputs": [
    {
     "name": "stdout",
     "output_type": "stream",
     "text": [
      "{'type': 'Feature', 'geometry': {'type': 'Point', 'coordinates': [-112.22488689511812, 41.05892928752082]}, 'id': '0', 'properties': {'ID': 0, 'NBR_yr2022_jd140-160': 0.7031987905502319, 'NBR_yr2023_jd140-160': 0.7334120869636536, 'NDCI_yr2022_jd140-160': 0.0951059758663177, 'NDCI_yr2023_jd140-160': -0.0659213736653328, 'NDMI_yr2022_jd140-160': 0.5660930275917053, 'NDMI_yr2023_jd140-160': 0.6154418587684631, 'NDSI_yr2022_jd140-160': 0.8247419595718384, 'NDSI_yr2023_jd140-160': 0.8681382536888123, 'NDVI_yr2022_jd140-160': -0.321634978055954, 'NDVI_yr2023_jd140-160': -0.4360703527927398, 'QA60_yr2022_jd140-160': 0, 'QA60_yr2023_jd140-160': 0, 'Water_Transition_2022-2023': 21, 'Water_yr2022_jd140-160': 1, 'Water_yr2023_jd140-160': 1, 'blue_yr2022_jd140-160': 0.0987450927495956, 'blue_yr2023_jd140-160': 0.112457126379013, 'brightness_yr2022_jd140-160': 0.1309919506311416, 'brightness_yr2023_jd140-160': 0.127576470375061, 'cb_yr2022_jd140-160': 0.1186233609914779, 'cb_yr2023_jd140-160': 0.1278518140316009, 'cirrus_yr2022_jd140-160': 0.0012576639419421, 'cirrus_yr2023_jd140-160': 0.0010000000474974, 'cloud_probability_yr2022_jd140-160': 0, 'cloud_probability_yr2023_jd140-160': 0, 'fifth_yr2022_jd140-160': -0.0786548778414726, 'fifth_yr2023_jd140-160': -0.0873141288757324, 'fourth_yr2022_jd140-160': -0.0179955456405878, 'fourth_yr2023_jd140-160': -0.0187679007649421, 'green_yr2022_jd140-160': 0.1110294908285141, 'green_yr2023_jd140-160': 0.1081169098615646, 'greenness_yr2022_jd140-160': -0.0547178573906421, 'greenness_yr2023_jd140-160': -0.0639177560806274, 'nir2_yr2022_jd140-160': 0.0287153273820877, 'nir2_yr2023_jd140-160': 0.0250558406114578, 'nir_yr2022_jd140-160': 0.0361416079103946, 'nir_yr2023_jd140-160': 0.0278996471315622, 're1_yr2022_jd140-160': 0.0873810201883316, 're1_yr2023_jd140-160': 0.0649518221616745, 're2_yr2022_jd140-160': 0.0448270104825496, 're2_yr2023_jd140-160': 0.0346094891428947, 're3_yr2022_jd140-160': 0.0439883172512054, 're3_yr2023_jd140-160': 0.0332923382520675, 'red_yr2022_jd140-160': 0.0729789063334465, 'red_yr2023_jd140-160': 0.0743534862995147, 'sensor_yr2022_jd140-160': 22, 'sensor_yr2023_jd140-160': 21, 'sixth_yr2022_jd140-160': -0.0191630385816097, 'sixth_yr2023_jd140-160': -0.0135175250470638, 'swir1_yr2022_jd140-160': 0.0100423358380794, 'swir1_yr2023_jd140-160': 0.0076135043054819, 'swir2_yr2022_jd140-160': 0.0070613110437989, 'swir2_yr2023_jd140-160': 0.0047806557267904, 'tcAngleBG_yr2022_jd140-160': -0.1250139613677603, 'tcAngleBG_yr2023_jd140-160': -0.1443873943026501, 'waterVapor_yr2022_jd140-160': 0.0098693445324897, 'waterVapor_yr2023_jd140-160': 0.009763503447175, 'wetness_yr2022_jd140-160': 0.0421093478798866, 'wetness_yr2023_jd140-160': 0.0459575057029724}}\n",
      "Adding layer: Test Sample\n",
      "Starting webmap\n",
      "Using default refresh token for geeView: C:\\Users\\ihousman/.config/earthengine/credentials\n",
      "Local web server at: http://localhost:1233/geeView/ already serving.\n",
      "cwd a:\\GEE\\gee_py_modules_package\\geeViz\\examples\n"
     ]
    },
    {
     "data": {
      "text/html": [
       "\n",
       "        <iframe\n",
       "            width=\"100%\"\n",
       "            height=\"525px\"\n",
       "            src=\"http://localhost:1233/geeView/?accessToken=ya29.a0AWY7CkmqHz14ovqqAlUw1_8atZibWlD9rWp9zFM15BdfB0Sd0QdJ3lYbFMt093sc0-4F0PqOwoSkvof2zSYeLAlPVSEE7PCMJWub7t0n0uxF9fVPA5-Sc2E8O-hZxxogjcZXj1KSPUMMATXuxcwCLxxCLIhdUyolVslzrFsaCgYKAXYSARASFQG1tDrp1xQtwfRlFF9l-TOjJidVFw0174\"\n",
       "            frameborder=\"0\"\n",
       "            allowfullscreen\n",
       "            \n",
       "        ></iframe>\n",
       "        "
      ],
      "text/plain": [
       "<IPython.lib.display.IFrame at 0x205c3647a90>"
      ]
     },
     "metadata": {},
     "output_type": "display_data"
    }
   ],
   "source": [
    "# Now go from a local csv to a GEE featureCollection\n",
    "fc = g2p.tableToFeatureCollection(out_csv)\n",
    "print(fc.first().getInfo())\n",
    "Map.clearMap()\n",
    "Map.addLayer(fc.map(lambda f:ee.Feature(f).buffer(10).bounds()),{},'Test Sample')\n",
    "Map.turnOnInspector()\n",
    "Map.centerObject(fc)\n",
    "Map.view()"
   ]
  }
 ],
 "metadata": {
  "kernelspec": {
   "display_name": "Python 3 (ipykernel)",
   "language": "python",
   "name": "python3"
  },
  "language_info": {
   "codemirror_mode": {
    "name": "ipython",
    "version": 3
   },
   "file_extension": ".py",
   "mimetype": "text/x-python",
   "name": "python",
   "nbconvert_exporter": "python",
   "pygments_lexer": "ipython3",
   "version": "3.11.4"
  }
 },
 "nbformat": 4,
 "nbformat_minor": 5
}
