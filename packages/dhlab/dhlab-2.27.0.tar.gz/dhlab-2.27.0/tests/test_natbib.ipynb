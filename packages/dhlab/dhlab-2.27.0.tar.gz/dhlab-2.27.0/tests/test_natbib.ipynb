{
 "cells": [
  {
   "cell_type": "code",
   "execution_count": 1,
   "metadata": {},
   "outputs": [],
   "source": [
    "from dhlab.metadata.natbib import metadata_query, metadata_from_urn\n",
    "import pandas as pd\n",
    "\n",
    "def test_metadata_query():\n",
    "    conditions = [\n",
    "        [\"245\", \"a\", \"kongen\"],\n",
    "       # [\"008\", \"\", \"nno\"]\n",
    "        ]\n",
    "    res = metadata_query(conditions)\n",
    "    assert len(res) > 0\n",
    "    assert isinstance(res, pd.DataFrame)"
   ]
  },
  {
   "cell_type": "code",
   "execution_count": 2,
   "metadata": {},
   "outputs": [
    {
     "ename": "AssertionError",
     "evalue": "",
     "output_type": "error",
     "traceback": [
      "\u001b[0;31m---------------------------------------------------------------------------\u001b[0m",
      "\u001b[0;31mAssertionError\u001b[0m                            Traceback (most recent call last)",
      "\u001b[1;32m/home/larsm/DHLAB/tests/test_natbib.ipynb Cell 2\u001b[0m line \u001b[0;36m1\n\u001b[0;32m----> <a href='vscode-notebook-cell:/home/larsm/DHLAB/tests/test_natbib.ipynb#W1sZmlsZQ%3D%3D?line=0'>1</a>\u001b[0m test_metadata_query()\n",
      "\u001b[1;32m/home/larsm/DHLAB/tests/test_natbib.ipynb Cell 2\u001b[0m line \u001b[0;36m1\n\u001b[1;32m      <a href='vscode-notebook-cell:/home/larsm/DHLAB/tests/test_natbib.ipynb#W1sZmlsZQ%3D%3D?line=8'>9</a>\u001b[0m res \u001b[39m=\u001b[39m metadata_query(conditions)\n\u001b[1;32m     <a href='vscode-notebook-cell:/home/larsm/DHLAB/tests/test_natbib.ipynb#W1sZmlsZQ%3D%3D?line=9'>10</a>\u001b[0m \u001b[39massert\u001b[39;00m \u001b[39mlen\u001b[39m(res) \u001b[39m>\u001b[39m \u001b[39m0\u001b[39m\n\u001b[0;32m---> <a href='vscode-notebook-cell:/home/larsm/DHLAB/tests/test_natbib.ipynb#W1sZmlsZQ%3D%3D?line=10'>11</a>\u001b[0m \u001b[39massert\u001b[39;00m \u001b[39misinstance\u001b[39m(res, pd\u001b[39m.\u001b[39mDataFrame)\n",
      "\u001b[0;31mAssertionError\u001b[0m: "
     ]
    }
   ],
   "source": [
    "test_metadata_query()"
   ]
  },
  {
   "cell_type": "code",
   "execution_count": 3,
   "metadata": {},
   "outputs": [],
   "source": [
    "conditions = [\n",
    "        [\"245\", \"a\", \"kongen\"],\n",
    "       # [\"008\", \"\", \"nno\"]\n",
    "        ]\n",
    "res = metadata_query(conditions)"
   ]
  },
  {
   "cell_type": "code",
   "execution_count": 4,
   "metadata": {},
   "outputs": [
    {
     "data": {
      "text/plain": [
       "['URN:NBN:no-nb_digibok_2010100609054',\n",
       " 'URN:NBN:no-nb_digibok_2011061408114',\n",
       " 'URN:NBN:no-nb_digibok_2017010348086',\n",
       " 'URN:NBN:no-nb_digibok_2007111201063',\n",
       " 'URN:NBN:no-nb_digibok_2014031906085']"
      ]
     },
     "execution_count": 4,
     "metadata": {},
     "output_type": "execute_result"
    }
   ],
   "source": [
    "res"
   ]
  }
 ],
 "metadata": {
  "kernelspec": {
   "display_name": "venv",
   "language": "python",
   "name": "python3"
  },
  "language_info": {
   "codemirror_mode": {
    "name": "ipython",
    "version": 3
   },
   "file_extension": ".py",
   "mimetype": "text/x-python",
   "name": "python",
   "nbconvert_exporter": "python",
   "pygments_lexer": "ipython3",
   "version": "3.10.12"
  },
  "orig_nbformat": 4
 },
 "nbformat": 4,
 "nbformat_minor": 2
}
