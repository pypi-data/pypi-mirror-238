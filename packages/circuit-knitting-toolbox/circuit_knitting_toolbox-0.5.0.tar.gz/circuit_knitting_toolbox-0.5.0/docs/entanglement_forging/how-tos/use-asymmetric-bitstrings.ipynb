{
 "cells": [
  {
   "cell_type": "markdown",
   "metadata": {},
   "source": [
    "# How to use asymmetric bitstrings (with the CH₃ molecule as an example)\n",
    "\n",
    "In this guide, we apply Entanglement Forging to compute the ground state energy of a $\\mathrm{CH}_3$ molecule. We use separate bitstrings lists for each subsystem, U and V."
   ]
  },
  {
   "cell_type": "markdown",
   "metadata": {},
   "source": [
    "### Import the relevant modules"
   ]
  },
  {
   "cell_type": "code",
   "execution_count": 1,
   "metadata": {
    "ExecuteTime": {
     "end_time": "2021-04-27T13:41:07.878080Z",
     "start_time": "2021-04-27T13:41:05.980627Z"
    },
    "tags": []
   },
   "outputs": [],
   "source": [
    "from qiskit.circuit import QuantumCircuit, Parameter\n",
    "from qiskit_nature.second_q.drivers import PySCFDriver\n",
    "from qiskit_nature.second_q.hamiltonians import ElectronicEnergy\n",
    "from qiskit_nature.second_q.problems import ElectronicStructureProblem, ElectronicBasis\n",
    "from qiskit_nature.second_q.transformers import ActiveSpaceTransformer\n",
    "\n",
    "from circuit_knitting.forging import (\n",
    "    EntanglementForgingAnsatz,\n",
    ")"
   ]
  },
  {
   "cell_type": "markdown",
   "metadata": {},
   "source": [
    "### Define the $\\mathrm{CH}_3$ molecule, define the active space transform, and instantiate an `ElectronicStructureProblem`"
   ]
  },
  {
   "cell_type": "code",
   "execution_count": 2,
   "metadata": {
    "ExecuteTime": {
     "end_time": "2021-04-27T13:41:07.934705Z",
     "start_time": "2021-04-27T13:41:07.880717Z"
    }
   },
   "outputs": [],
   "source": [
    "# Define a molecular system of interest - Methyl radical\n",
    "driver = PySCFDriver(\n",
    "    atom=\"C 0.0 0.0 0.0; H 1.0790 0.0 0.0; H -0.5395 -0.9344 0.0; H -0.5395 0.9344 0.0\",\n",
    "    spin=1,\n",
    ")\n",
    "problem = driver.run()\n",
    "\n",
    "# Construct an active space composed of 6 molecular orbitals\n",
    "transformer = ActiveSpaceTransformer(num_electrons=(3, 2), num_spatial_orbitals=6)\n",
    "problem_reduced = transformer.transform(problem)"
   ]
  },
  {
   "cell_type": "markdown",
   "metadata": {},
   "source": [
    "### Retrieve the one and two-body integrals and the nuclear repulsion energy. These will be used to decompose the operator into a bipartite system."
   ]
  },
  {
   "cell_type": "code",
   "execution_count": 3,
   "metadata": {},
   "outputs": [],
   "source": [
    "nuclear_repulsion_energy = problem_reduced.nuclear_repulsion_energy\n",
    "\n",
    "# These are the integrals in the molecular orbital basis retrieved from the 6 orbital active space.\n",
    "one_body_integrals_alpha = (\n",
    "    problem_reduced.hamiltonian.electronic_integrals.one_body.alpha[\"+-\"]\n",
    ")\n",
    "one_body_integrals_beta = (\n",
    "    problem_reduced.hamiltonian.electronic_integrals.one_body.beta[\"+-\"]\n",
    ")\n",
    "two_body_integrals_alpha_alpha = (\n",
    "    problem_reduced.hamiltonian.electronic_integrals.two_body.alpha[\"++--\"]\n",
    ")\n",
    "two_body_integrals_beta_beta = (\n",
    "    problem_reduced.hamiltonian.electronic_integrals.two_body.beta[\"++--\"]\n",
    ")\n",
    "two_body_integrals_alpha_beta = (\n",
    "    problem_reduced.hamiltonian.electronic_integrals.two_body.alpha_beta[\"++--\"]\n",
    ")\n",
    "two_body_integrals_beta_alpha = (\n",
    "    problem_reduced.hamiltonian.electronic_integrals.two_body.beta_alpha[\"++--\"]\n",
    ")\n",
    "two_body_integrals_beta_beta = (\n",
    "    problem_reduced.hamiltonian.electronic_integrals.two_body.beta[\"++--\"]\n",
    ")"
   ]
  },
  {
   "cell_type": "markdown",
   "metadata": {},
   "source": [
    "### Set up the reduced `ElectronicStructureProblem` "
   ]
  },
  {
   "cell_type": "code",
   "execution_count": 4,
   "metadata": {},
   "outputs": [],
   "source": [
    "# Create an ElectronicStructureProblem from our IntegralDriver and performing second quantization transformation\n",
    "hamiltonian = ElectronicEnergy.from_raw_integrals(\n",
    "    one_body_integrals_alpha, two_body_integrals_alpha_alpha\n",
    ")\n",
    "hamiltonian.nuclear_repulsion_energy = nuclear_repulsion_energy\n",
    "problem = ElectronicStructureProblem(hamiltonian)\n",
    "problem.num_particles = (3, 2)\n",
    "problem.basis = ElectronicBasis.MO"
   ]
  },
  {
   "cell_type": "markdown",
   "metadata": {},
   "source": [
    "### Prepare the bitstrings and the ansatz. \n",
    "\n",
    "The ansatz for Entanglement Forging consists of a set of input bitstrings and a parameterized ansatz. If only one set of bitstrings is passed, it will be used for both subsystems. For this demo, we will specify different bitstrings for each subsystem."
   ]
  },
  {
   "cell_type": "code",
   "execution_count": 5,
   "metadata": {
    "ExecuteTime": {
     "end_time": "2021-04-27T13:41:08.939346Z",
     "start_time": "2021-04-27T13:41:08.501552Z"
    },
    "scrolled": true
   },
   "outputs": [
    {
     "data": {
      "text/html": [
       "<pre style=\"word-wrap: normal;white-space: pre;background: #fff0;line-height: 1.1;font-family: &quot;Courier New&quot;,Courier,monospace\">                                                                         ┌───────────────┐                                                                        \n",
       "q_0: ────────────────────────────────────────────────────────────────────┤0              ├────────────────────────────────────────────────────────────────────────\n",
       "                                                        ┌───────────────┐│  Hop gate(θ8) │┌───────────────┐                                                       \n",
       "q_1: ───────────────────────────────────────────────────┤0              ├┤1              ├┤0              ├───────────────────────────────────────────────────────\n",
       "                                       ┌───────────────┐│  Hop gate(θ4) │├───────────────┤│  Hop gate(θ9) │ ┌────────────────┐                                    \n",
       "q_2: ──────────────────────────────────┤0              ├┤1              ├┤0              ├┤1              ├─┤0               ├────────────────────────────────────\n",
       "                      ┌───────────────┐│  Hop gate(θ2) │├───────────────┤│  Hop gate(θ7) │├───────────────┴┐│  Hop gate(θ11) │┌────────────────┐                  \n",
       "q_3: ─────────────────┤0              ├┤1              ├┤0              ├┤1              ├┤0               ├┤1               ├┤0               ├──────────────────\n",
       "     ┌───────────────┐│  Hop gate(θ1) │├───────────────┤│  Hop gate(θ5) │├───────────────┤│  Hop gate(θ10) │├────────────────┤│  Hop gate(θ13) │┌────────────────┐\n",
       "q_4: ┤0              ├┤1              ├┤0              ├┤1              ├┤0              ├┤1               ├┤0               ├┤1               ├┤0               ├\n",
       "     │  Hop gate(θ0) │└───────────────┘│  Hop gate(θ3) │└───────────────┘│  Hop gate(θ6) │└────────────────┘│  Hop gate(θ12) │└────────────────┘│  Hop gate(θ14) │\n",
       "q_5: ┤1              ├─────────────────┤1              ├─────────────────┤1              ├──────────────────┤1               ├──────────────────┤1               ├\n",
       "     └───────────────┘                 └───────────────┘                 └───────────────┘                  └────────────────┘                  └────────────────┘</pre>"
      ],
      "text/plain": [
       "                                                                         ┌───────────────┐                                                                        \n",
       "q_0: ────────────────────────────────────────────────────────────────────┤0              ├────────────────────────────────────────────────────────────────────────\n",
       "                                                        ┌───────────────┐│  Hop gate(θ8) │┌───────────────┐                                                       \n",
       "q_1: ───────────────────────────────────────────────────┤0              ├┤1              ├┤0              ├───────────────────────────────────────────────────────\n",
       "                                       ┌───────────────┐│  Hop gate(θ4) │├───────────────┤│  Hop gate(θ9) │ ┌────────────────┐                                    \n",
       "q_2: ──────────────────────────────────┤0              ├┤1              ├┤0              ├┤1              ├─┤0               ├────────────────────────────────────\n",
       "                      ┌───────────────┐│  Hop gate(θ2) │├───────────────┤│  Hop gate(θ7) │├───────────────┴┐│  Hop gate(θ11) │┌────────────────┐                  \n",
       "q_3: ─────────────────┤0              ├┤1              ├┤0              ├┤1              ├┤0               ├┤1               ├┤0               ├──────────────────\n",
       "     ┌───────────────┐│  Hop gate(θ1) │├───────────────┤│  Hop gate(θ5) │├───────────────┤│  Hop gate(θ10) │├────────────────┤│  Hop gate(θ13) │┌────────────────┐\n",
       "q_4: ┤0              ├┤1              ├┤0              ├┤1              ├┤0              ├┤1               ├┤0               ├┤1               ├┤0               ├\n",
       "     │  Hop gate(θ0) │└───────────────┘│  Hop gate(θ3) │└───────────────┘│  Hop gate(θ6) │└────────────────┘│  Hop gate(θ12) │└────────────────┘│  Hop gate(θ14) │\n",
       "q_5: ┤1              ├─────────────────┤1              ├─────────────────┤1              ├──────────────────┤1               ├──────────────────┤1               ├\n",
       "     └───────────────┘                 └───────────────┘                 └───────────────┘                  └────────────────┘                  └────────────────┘"
      ]
     },
     "execution_count": 5,
     "metadata": {},
     "output_type": "execute_result"
    }
   ],
   "source": [
    "bitstrings_u = [\n",
    "    (1, 1, 1, 0, 0, 0),\n",
    "    (0, 1, 1, 0, 0, 1),\n",
    "    (1, 0, 1, 0, 1, 0),\n",
    "    (1, 0, 1, 1, 0, 0),\n",
    "    (0, 1, 1, 1, 0, 0),\n",
    "]\n",
    "bitstrings_v = [\n",
    "    (1, 1, 0, 0, 0, 0),\n",
    "    (0, 1, 0, 0, 0, 1),\n",
    "    (1, 0, 0, 0, 1, 0),\n",
    "    (1, 0, 0, 1, 0, 0),\n",
    "    (0, 1, 0, 1, 0, 0),\n",
    "]\n",
    "\n",
    "# Define ansatz parameters:\n",
    "brickwall = [\n",
    "    (4, 5),\n",
    "    (3, 4),\n",
    "    (2, 3),\n",
    "    (4, 5),\n",
    "    (1, 2),\n",
    "    (3, 4),\n",
    "    (4, 5),\n",
    "    (2, 3),\n",
    "    (0, 1),\n",
    "    (1, 2),\n",
    "    (3, 4),\n",
    "    (2, 3),\n",
    "    (4, 5),\n",
    "    (3, 4),\n",
    "    (4, 5),\n",
    "]\n",
    "\n",
    "n_theta = len(brickwall)\n",
    "nqubit = len(bitstrings_u[0])\n",
    "theta = Parameter(\"θ\")\n",
    "hop_gate = QuantumCircuit(2, name=\"Hop gate\")\n",
    "hop_gate.h(0)\n",
    "hop_gate.cx(1, 0)\n",
    "hop_gate.cx(0, 1)\n",
    "hop_gate.ry(-theta, 0)\n",
    "hop_gate.ry(-theta, 1)\n",
    "hop_gate.cx(0, 1)\n",
    "hop_gate.h(0)\n",
    "\n",
    "theta_vec = [Parameter(\"θ%d\" % i) for i in range(n_theta)]\n",
    "\n",
    "# Create the parametrized circuit (circuit_u). The same circuit will be used for both subsystems, U and V\n",
    "circuit_u = QuantumCircuit(nqubit)\n",
    "for m, (i, j) in enumerate(brickwall):\n",
    "    circuit_u.append(hop_gate.to_gate({theta: theta_vec[m]}), [i, j])\n",
    "\n",
    "ansatz = EntanglementForgingAnsatz(\n",
    "    circuit_u=circuit_u, bitstrings_u=bitstrings_u, bitstrings_v=bitstrings_v\n",
    ")\n",
    "\n",
    "ansatz.circuit_u.draw(\"text\", justify=\"right\", fold=-1)"
   ]
  },
  {
   "cell_type": "markdown",
   "metadata": {},
   "source": [
    "From here, the problem can be solved following the same steps as in the [tutorials](../tutorials/index.rst)."
   ]
  },
  {
   "cell_type": "code",
   "execution_count": 6,
   "metadata": {},
   "outputs": [
    {
     "data": {
      "text/html": [
       "<h3>Version Information</h3><table><tr><th>Qiskit Software</th><th>Version</th></tr><tr><td><code>qiskit-terra</code></td><td>0.23.3</td></tr><tr><td><code>qiskit-aer</code></td><td>0.12.0</td></tr><tr><td><code>qiskit-ibmq-provider</code></td><td>0.20.2</td></tr><tr><td><code>qiskit-nature</code></td><td>0.5.2</td></tr><tr><th>System information</th></tr><tr><td>Python version</td><td>3.8.16</td></tr><tr><td>Python compiler</td><td>Clang 14.0.6 </td></tr><tr><td>Python build</td><td>default, Mar  1 2023 21:19:10</td></tr><tr><td>OS</td><td>Darwin</td></tr><tr><td>CPUs</td><td>8</td></tr><tr><td>Memory (Gb)</td><td>32.0</td></tr><tr><td colspan='2'>Fri Apr 14 14:14:57 2023 CDT</td></tr></table>"
      ],
      "text/plain": [
       "<IPython.core.display.HTML object>"
      ]
     },
     "metadata": {},
     "output_type": "display_data"
    }
   ],
   "source": [
    "import qiskit.tools.jupyter  # noqa: F401\n",
    "\n",
    "%qiskit_version_table"
   ]
  },
  {
   "cell_type": "markdown",
   "metadata": {},
   "source": [
    "### This code is a Qiskit project.\n",
    "\n",
    "© Copyright IBM 2022.\n",
    "\n",
    "This code is licensed under the Apache License, Version 2.0. You may\n",
    "obtain a copy of this license in the LICENSE.txt file in the root directory\n",
    "of this source tree or at http://www.apache.org/licenses/LICENSE-2.0.\n",
    "\n",
    "Any modifications or derivative works of this code must retain this\n",
    "copyright notice, and modified files need to carry a notice indicating\n",
    "that they have been altered from the originals."
   ]
  }
 ],
 "metadata": {
  "kernelspec": {
   "display_name": "Python 3 (ipykernel)",
   "language": "python",
   "name": "python3"
  },
  "language_info": {
   "codemirror_mode": {
    "name": "ipython",
    "version": 3
   },
   "file_extension": ".py",
   "mimetype": "text/x-python",
   "name": "python",
   "nbconvert_exporter": "python",
   "pygments_lexer": "ipython3",
   "version": "3.8.16"
  },
  "nbsphinx": {
   "execute": "never"
  },
  "vscode": {
   "interpreter": {
    "hash": "987cdf5eeb33585dc719bb9ff4378c2f5c2124692c306f8bea7b3d839af38946"
   }
  }
 },
 "nbformat": 4,
 "nbformat_minor": 4
}
