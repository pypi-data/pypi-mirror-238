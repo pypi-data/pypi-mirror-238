{
 "cells": [
  {
   "cell_type": "markdown",
   "id": "52acc23d",
   "metadata": {},
   "source": [
    "# Tutorial 2: Entanglement Forging with Quantum Serverless\n",
    "\n",
    "**Entanglement forging** is a method which allows us to represent expectation values of a 2n-qubit wavefunction as sums of multiple expectation values of n-qubit states, embedded in a classical optimization, thus doubling the size of the system that can be exactly simulated with a fixed number of qubits.\n",
    "\n",
    "See [Tutorial 1](tutorial_1_getting_started.ipynb) for a high-level breakdown of the entanglement forging algorithm, or check out the [explanatory material](../explanation/index.rst) for a more detailed explanation.\n",
    "\n",
    "<span style=\"color:red\"><i>Quantum Serverless does not support Qiskit Nature 0.6.0 yet. In order to use entanglement forging with quantum serverless, users should downgrade to version 0.2 of the Circuit Knitting Toolbox, as it is compatible with Qiskit Nature 0.5.2. There is an [associated issue in the quantum-serverless repo](https://github.com/Qiskit-Extensions/quantum-serverless/issues/413) to address this.</i></span>"
   ]
  },
  {
   "cell_type": "markdown",
   "id": "69a8216f",
   "metadata": {},
   "source": [
    "### Adapting entanglement forging for use with `Quantum Serverless`\n",
    "\n",
    "[**Quantum Serverless**](https://github.com/Qiskit-Extensions/quantum-serverless) is a platform built to enable distributed computing across a variety of classical and quantum backends.\n",
    "\n",
    "In this demo, we will show how to configure a ground state workflow with entanglement forging and seamlessly adapt it to run entirely on the cloud using Quantum Serverless."
   ]
  },
  {
   "cell_type": "markdown",
   "id": "faf77d79",
   "metadata": {},
   "source": [
    "### Instantiate the `ElectronicStructureProblem`\n",
    "\n",
    "For this tutorial, we will model a system in which H2O is split on a magnesium surface, as described in Fig. 1(a) from [arXiv:2203.07536](https://arxiv.org/abs/2203.07536). In particular, we'll compute the ground state energy of the reactant in this reaction. Entanglement forging reduces the total number of qubits needed from 4 to 2.\n",
    "\n",
    "Here we read in the system information, populate an `IntegralDriver` object from `Circuit Knitting Toolbox`, and use that driver to instantiate an `ElectronicStructureProblem` from Qiskit."
   ]
  },
  {
   "cell_type": "code",
   "execution_count": 1,
   "id": "4173c15e",
   "metadata": {},
   "outputs": [],
   "source": [
    "from __future__ import annotations\n",
    "\n",
    "from pathlib import Path\n",
    "import numpy as np\n",
    "from qiskit_nature.second_q.problems import ElectronicStructureProblem\n",
    "from qiskit_nature.second_q.hamiltonians import ElectronicEnergy\n",
    "\n",
    "system_data = np.load(Path(\"data\") / \"reactant_2mo.npz\")\n",
    "num_molecular_orbitals = 2\n",
    "\n",
    "hamiltonian = ElectronicEnergy.from_raw_integrals(\n",
    "    system_data[\"h1\"], system_data[\"Gamma_eri\"]\n",
    ")\n",
    "hamiltonian.nuclear_repulsion_energy = system_data[\"h0\"]\n",
    "problem = ElectronicStructureProblem(hamiltonian)\n",
    "problem.num_particles = (system_data[\"na\"], system_data[\"nb\"])\n",
    "mo_coeff = system_data[\"HF_mo_coeff\"]"
   ]
  },
  {
   "cell_type": "markdown",
   "id": "453dde4f",
   "metadata": {},
   "source": [
    "### Configure the entanglement forging specific inputs\n",
    "\n",
    "The ansatz for Entanglement Forging consists of a set of input bitstrings and a parameterized circuit.  (See the [explanatory material](../explanation/index.rst) for additional background on the method). For this demo, we will use the same bitstrings and ansatz for both the U and V subsystems, and we will use the [TwoLocal](https://qiskit.org/documentation/stubs/qiskit.circuit.library.TwoLocal.html) circuit from Qiskit, along with [hop gates](https://doi.org/10.1103/PRXQuantum.3.010309)."
   ]
  },
  {
   "cell_type": "code",
   "execution_count": 2,
   "id": "f25814e9",
   "metadata": {},
   "outputs": [
    {
     "name": "stdout",
     "output_type": "stream",
     "text": [
      "Hop gate:\n",
      "     ┌───┐┌───┐     ┌────────────┐     ┌───┐\n",
      "q_0: ┤ H ├┤ X ├──■──┤ Ry(-1.0*θ) ├──■──┤ H ├\n",
      "     └───┘└─┬─┘┌─┴─┐├────────────┤┌─┴─┐└───┘\n",
      "q_1: ───────■──┤ X ├┤ Ry(-1.0*θ) ├┤ X ├─────\n",
      "               └───┘└────────────┘└───┘     \n"
     ]
    }
   ],
   "source": [
    "from qiskit.circuit import QuantumCircuit, Parameter\n",
    "\n",
    "theta = Parameter(\"θ\")\n",
    "\n",
    "hop_gate = QuantumCircuit(2, name=\"hop_gate\")\n",
    "hop_gate.h(0)\n",
    "hop_gate.cx(1, 0)\n",
    "hop_gate.cx(0, 1)\n",
    "hop_gate.ry(-theta, 0)\n",
    "hop_gate.ry(-theta, 1)\n",
    "hop_gate.cx(0, 1)\n",
    "hop_gate.h(0)\n",
    "\n",
    "print(f\"Hop gate:\\n{hop_gate.draw()}\")"
   ]
  },
  {
   "cell_type": "code",
   "execution_count": 3,
   "id": "67d53b1a",
   "metadata": {},
   "outputs": [
    {
     "data": {
      "image/png": "[encoded data removed]",
      "text/plain": [
       "<Figure size 287.294x200.667 with 1 Axes>"
      ]
     },
     "execution_count": 3,
     "metadata": {},
     "output_type": "execute_result"
    }
   ],
   "source": [
    "from qiskit.circuit.library import TwoLocal\n",
    "from circuit_knitting.forging import EntanglementForgingAnsatz\n",
    "\n",
    "entangler_map = [[0, 1]]\n",
    "bitstrings_u = [(1, 0), (0, 1)]\n",
    "\n",
    "circuit_u = TwoLocal(num_molecular_orbitals, [], hop_gate, entangler_map, reps=1)\n",
    "ansatz = EntanglementForgingAnsatz(\n",
    "    circuit_u=circuit_u,\n",
    "    bitstrings_u=bitstrings_u,\n",
    ")\n",
    "ansatz.circuit_u.draw(\"mpl\")"
   ]
  },
  {
   "cell_type": "markdown",
   "id": "a88fe497",
   "metadata": {},
   "source": [
    "### Set up the Qiskit Runtime Service\n",
    "\n",
    "The Qiskit Runtime Service provides access to Qiskit Runtime Primitives and quantum backends. See the [Qiskit Runtime documentation](https://qiskit.org/documentation/partners/qiskit_ibm_runtime/) for more information.  Here, we specify the backend(s) to be used to evaluate the circuits. Backends could be [simulator(s) and/or quantum device(s)](https://quantum-computing.ibm.com/services/resources?tab=systems).\n",
    "\n",
    "Alternatively, if a Qiskit Runtime Service is not passed, then a local simulator will be used with the [Qiskit Primitives](https://qiskit.org/documentation/apidoc/primitives.html), and the `backend_names` argument will be ignored."
   ]
  },
  {
   "cell_type": "code",
   "execution_count": 4,
   "id": "76453753",
   "metadata": {},
   "outputs": [],
   "source": [
    "from qiskit_ibm_runtime import QiskitRuntimeService, Options\n",
    "\n",
    "# By default, use a local simulator to implement the Qiskit Runtime Primitives\n",
    "service = None\n",
    "\n",
    "# Uncomment the following line to instead use the Qiskit Runtime Service.\n",
    "# service = QiskitRuntimeService(channel=\"ibm_quantum\")\n",
    "\n",
    "backend_names = [\"ibmq_qasm_simulator\"] * 2\n",
    "\n",
    "# If a single set of options are passed, it will be applied to all backends\n",
    "options = [Options(execution={\"shots\": 1000}), Options(execution={\"shots\": 2000})]"
   ]
  },
  {
   "cell_type": "markdown",
   "id": "5b77cbc9",
   "metadata": {},
   "source": [
    "### Set up Quantum Serverless\n",
    "\n",
    "We can use Quantum Serverless to send the entanglement forging routine to a remote compute resource. For this tutorial, we will use our local CPU cores as the compute cluster. See the [Quantum Serverless](https://github.com/Qiskit-Extensions/quantum-serverless) documentation (and below) for more information about how to use other clusters."
   ]
  },
  {
   "cell_type": "code",
   "execution_count": 5,
   "id": "ec28c8e4",
   "metadata": {},
   "outputs": [
    {
     "data": {
      "text/plain": [
       "[<Provider: local>]"
      ]
     },
     "execution_count": 5,
     "metadata": {},
     "output_type": "execute_result"
    }
   ],
   "source": [
    "from quantum_serverless import QuantumServerless\n",
    "\n",
    "serverless = QuantumServerless()\n",
    "serverless.providers()"
   ]
  },
  {
   "cell_type": "markdown",
   "id": "e00110ce",
   "metadata": {},
   "source": [
    "### Create a wrapper function to send to the remote cluster\n",
    "\n",
    "Use Quantum Serverless to send the `solve_remote` method to a remote cluster.\n",
    "\n",
    "Here we create a wrapper function for `EntanglementForgingGroundStateSolver` and its `solve` method, and we annotate it with the `@run_qiskit_remote()` decorator from Quantum Serverless. This allows us to call this function from a serverless context and have it sent for remote execution on the specified cluster."
   ]
  },
  {
   "cell_type": "code",
   "execution_count": 6,
   "id": "a940a226",
   "metadata": {},
   "outputs": [],
   "source": [
    "from typing import Sequence\n",
    "from qiskit_algorithms.optimizers import Optimizer\n",
    "from qiskit.result import Result\n",
    "from quantum_serverless import distribute_task\n",
    "from circuit_knitting.forging import (\n",
    "    EntanglementForgingGroundStateSolver,\n",
    ")\n",
    "\n",
    "\n",
    "@distribute_task()\n",
    "def solve_remote(\n",
    "    problem: ElectronicStructureProblem,\n",
    "    ansatz: EntanglementForgingAnsatz,\n",
    "    optimizer: Optimizer,\n",
    "    service_args: dict | None = None,\n",
    "    backend_names: str | Sequence[str] | None = None,\n",
    "    options_dicts: dict | Sequence[dict] | None = None,\n",
    "    initial_point: Sequence[float] | None = None,\n",
    "    orbitals_to_reduce: Sequence[int] | None = None,\n",
    "    mo_coeff: np.ndarray | None = None,\n",
    ") -> Result:\n",
    "    \"\"\"\n",
    "    Wrapper function for running entanglement forging VQE on a remote resource.\n",
    "\n",
    "        Args:\n",
    "            - problem: A class encoding the problem to be solved\n",
    "            - ansatz: The ansatz\n",
    "            - optimizer: Optimizer to use to optimize the ansatz circuit parameters\n",
    "            - service_args: The arguments for instantiating a QiskitRuntimeService\n",
    "            - backend_names: List of backend names to use during parallel computation\n",
    "            - options_dicts: Options to use with backends\n",
    "            - initial_point: Initial values for ansatz parameters\n",
    "            - orbitals_to_reduce: List of orbital indices to remove from the problem before\n",
    "                decomposition.\n",
    "            - mo_coeff: Coefficients for converting an input problem to MO basis\n",
    "        Returns:\n",
    "            - An interpreted EigenstateResult\n",
    "    \"\"\"\n",
    "    service = QiskitRuntimeService(**service_args) if service_args else None\n",
    "\n",
    "    # Convert options dictionaries into Options objects\n",
    "    options = None\n",
    "    if options_dicts:\n",
    "        if isinstance(options_dicts, dict):\n",
    "            options_dicts = [options_dicts]\n",
    "        options = [Options(**o) for o in options_dicts]\n",
    "\n",
    "    solver = EntanglementForgingGroundStateSolver(\n",
    "        ansatz=ansatz,\n",
    "        service=service,\n",
    "        optimizer=optimizer,\n",
    "        backend_names=backend_names,\n",
    "        options=options,\n",
    "        initial_point=initial_point,\n",
    "        orbitals_to_reduce=orbitals_to_reduce,\n",
    "        mo_coeff=mo_coeff,\n",
    "    )\n",
    "    result = solver.solve(problem)\n",
    "\n",
    "    return result"
   ]
  },
  {
   "cell_type": "markdown",
   "id": "0a2b14a5",
   "metadata": {},
   "source": [
    "### Run entanglement forging on a remote cluster\n",
    "\n",
    "Once a user has set up their `ElectronicStructureProblem`, `EntanglementForgingAnsatz`, and other program options, the only thing remaining is call `EntanglementForgingGroundStateSolver.solve`, which we have wrapped in the `solve_remote` function.\n",
    "\n",
    "We will call the `solve_remote` function within a QuantumServerless context, which means it will be run on the specified cluster. Remember, the default cluster for this demo will use the cores on our local CPU. To specify a new cluster, the `QuantumServerless.set_provider` method should be used.\n",
    "\n",
    "When the remote function is called, it will return a \"future\" object, and Python will continue interpreting the next line of code. The `get` function is a blocking command which should be used to retrieve the results of the remote function via the \"future\" object. The program will not continue past the `get` call until the results of the remote function are returned."
   ]
  },
  {
   "cell_type": "code",
   "execution_count": 7,
   "id": "7b890400",
   "metadata": {},
   "outputs": [],
   "source": [
    "%%capture\n",
    "\n",
    "from dataclasses import asdict\n",
    "from qiskit_algorithms.optimizers import COBYLA\n",
    "from quantum_serverless import get\n",
    "\n",
    "optimizer = COBYLA()\n",
    "\n",
    "# QiskitRuntimeService is not serializable, so we must convert it to a dictionary before passing to remote function\n",
    "service_args = None if service is None else service.active_account()\n",
    "\n",
    "# The Options class is not serializable, so we must convert it to a dictionary before passing to remote function\n",
    "options_dicts = [asdict(o) for o in options]\n",
    "\n",
    "with serverless.context():\n",
    "    forging_result_future = solve_remote(\n",
    "        problem,\n",
    "        ansatz,\n",
    "        optimizer,\n",
    "        service_args=service_args,\n",
    "        backend_names=backend_names,\n",
    "        options_dicts=options_dicts,\n",
    "        mo_coeff=mo_coeff,\n",
    "    )\n",
    "    results = get(forging_result_future)"
   ]
  },
  {
   "cell_type": "code",
   "execution_count": 8,
   "id": "829fdae1",
   "metadata": {},
   "outputs": [],
   "source": [
    "problem.basis"
   ]
  },
  {
   "cell_type": "markdown",
   "id": "9601ac33",
   "metadata": {},
   "source": [
    "### Visualize the results\n",
    "\n",
    "Visualize the convergence of the estimated ground state energy and the Schmidt coefficients as the ansatz parameters are optimized."
   ]
  },
  {
   "cell_type": "code",
   "execution_count": 9,
   "id": "97ae8342",
   "metadata": {},
   "outputs": [
    {
     "name": "stdout",
     "output_type": "stream",
     "text": [
      "Energy:\n"
     ]
    },
    {
     "data": {
      "image/png": "[encoded data removed]",
      "text/plain": [
       "<Figure size 640x480 with 1 Axes>"
      ]
     },
     "metadata": {},
     "output_type": "display_data"
    },
    {
     "name": "stdout",
     "output_type": "stream",
     "text": [
      "Schmidt Coefficients:\n"
     ]
    },
    {
     "data": {
      "image/png": "[encoded data removed]",
      "text/plain": [
       "<Figure size 640x480 with 1 Axes>"
      ]
     },
     "metadata": {},
     "output_type": "display_data"
    },
    {
     "name": "stdout",
     "output_type": "stream",
     "text": [
      "Parameters:\n"
     ]
    },
    {
     "data": {
      "image/png": "[encoded data removed]",
      "text/plain": [
       "<Figure size 640x480 with 1 Axes>"
      ]
     },
     "metadata": {},
     "output_type": "display_data"
    }
   ],
   "source": [
    "import matplotlib.pyplot as plt\n",
    "\n",
    "print(\"Energy:\")\n",
    "plt.plot([evaluation.eigenvalue for evaluation in results.history])\n",
    "plt.xlabel(\"Iterations\")\n",
    "plt.show()\n",
    "\n",
    "print(\"Schmidt Coefficients:\")\n",
    "plt.plot([abs(evaluation.eigenstate) for evaluation in results.history])\n",
    "plt.xlabel(\"Iterations\")\n",
    "plt.yscale(\"log\")\n",
    "plt.show()\n",
    "\n",
    "print(\"Parameters:\")\n",
    "plt.plot([evaluation.parameters for evaluation in results.history])\n",
    "plt.xlabel(\"Iterations\")\n",
    "plt.show()"
   ]
  },
  {
   "cell_type": "code",
   "execution_count": 10,
   "id": "807204bb",
   "metadata": {},
   "outputs": [
    {
     "data": {
      "text/html": [
       "<h3>Version Information</h3><table><tr><th>Qiskit Software</th><th>Version</th></tr><tr><td><code>qiskit-terra</code></td><td>0.23.3</td></tr><tr><td><code>qiskit-aer</code></td><td>0.12.0</td></tr><tr><td><code>qiskit-ibmq-provider</code></td><td>0.20.2</td></tr><tr><td><code>qiskit-nature</code></td><td>0.5.2</td></tr><tr><th>System information</th></tr><tr><td>Python version</td><td>3.8.16</td></tr><tr><td>Python compiler</td><td>Clang 14.0.6 </td></tr><tr><td>Python build</td><td>default, Mar  1 2023 21:19:10</td></tr><tr><td>OS</td><td>Darwin</td></tr><tr><td>CPUs</td><td>8</td></tr><tr><td>Memory (Gb)</td><td>32.0</td></tr><tr><td colspan='2'>Fri May 05 13:47:24 2023 CDT</td></tr></table>"
      ],
      "text/plain": [
       "<IPython.core.display.HTML object>"
      ]
     },
     "metadata": {},
     "output_type": "display_data"
    }
   ],
   "source": [
    "import qiskit.tools.jupyter  # noqa: F401\n",
    "\n",
    "%qiskit_version_table"
   ]
  },
  {
   "cell_type": "markdown",
   "id": "818d68b2",
   "metadata": {},
   "source": [
    "### This code is a Qiskit project.\n",
    "\n",
    "© Copyright IBM 2022.\n",
    "\n",
    "This code is licensed under the Apache License, Version 2.0. You may\n",
    "obtain a copy of this license in the LICENSE.txt file in the root directory\n",
    "of this source tree or at http://www.apache.org/licenses/LICENSE-2.0.\n",
    "\n",
    "Any modifications or derivative works of this code must retain this\n",
    "copyright notice, and modified files need to carry a notice indicating\n",
    "that they have been altered from the originals."
   ]
  }
 ],
 "metadata": {
  "kernelspec": {
   "display_name": "Python 3 (ipykernel)",
   "language": "python",
   "name": "python3"
  },
  "language_info": {
   "codemirror_mode": {
    "name": "ipython",
    "version": 3
   },
   "file_extension": ".py",
   "mimetype": "text/x-python",
   "name": "python",
   "nbconvert_exporter": "python",
   "pygments_lexer": "ipython3",
   "version": "3.11.3"
  }
 },
 "nbformat": 4,
 "nbformat_minor": 5
}
