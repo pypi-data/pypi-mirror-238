{
 "cells": [
  {
   "cell_type": "code",
   "execution_count": 1,
   "metadata": {},
   "outputs": [],
   "source": [
    "from guerrilla.connection import Session"
   ]
  },
  {
   "cell_type": "code",
   "execution_count": 2,
   "metadata": {},
   "outputs": [
    {
     "name": "stdout",
     "output_type": "stream",
     "text": [
      "\u001b[32m2023-10-26 13:26:55.200\u001b[0m | \u001b[1mINFO    \u001b[0m | \u001b[36mguerrilla.connection.ssh\u001b[0m:\u001b[36m__post_init__\u001b[0m:\u001b[36m22\u001b[0m - \u001b[1mCreated SSH session to 192.168.127.254:22\u001b[0m\n"
     ]
    }
   ],
   "source": [
    "router = \"192.168.127.254\"\n",
    "config = {\n",
    "    \"protocol\": \"ssh\",\n",
    "    \"host\": router,\n",
    "    \"username\": \"admin\",\n",
    "    \"password\": \"moxa\",\n",
    "    \"name\": \"Host\",\n",
    "}\n",
    "s = Session(config)"
   ]
  },
  {
   "cell_type": "code",
   "execution_count": 3,
   "metadata": {},
   "outputs": [
    {
     "name": "stdout",
     "output_type": "stream",
     "text": [
      "\u001b[32m2023-10-26 13:26:55.605\u001b[0m | \u001b[32m\u001b[1mSUCCESS \u001b[0m | \u001b[36mguerrilla.connection.ssh\u001b[0m:\u001b[36mconnect\u001b[0m:\u001b[36m34\u001b[0m - \u001b[32m\u001b[1mConnected to 192.168.127.254:22\u001b[0m\n"
     ]
    }
   ],
   "source": [
    "s.connect()"
   ]
  },
  {
   "cell_type": "code",
   "execution_count": 4,
   "metadata": {},
   "outputs": [
    {
     "name": "stdout",
     "output_type": "stream",
     "text": [
      "\u001b[32m2023-10-26 13:26:55.810\u001b[0m | \u001b[34m\u001b[1mDEBUG   \u001b[0m | \u001b[36mguerrilla.connection.ssh\u001b[0m:\u001b[36mrun\u001b[0m:\u001b[36m103\u001b[0m - \u001b[34m\u001b[1mFrom Host           \u001b[91msent command:\u001b[0m show version\u001b[0m\n",
      "\u001b[32m2023-10-26 13:26:55.910\u001b[0m | \u001b[34m\u001b[1mDEBUG   \u001b[0m | \u001b[36mguerrilla.connection.ssh\u001b[0m:\u001b[36mrun\u001b[0m:\u001b[36m116\u001b[0m - \u001b[34m\u001b[1mFrom Host       \u001b[92mreceived  output:\u001b[0m show version\n",
      "Model Name                   : EDR-G9010-VPN-2MGSFP-T\n",
      "Firmware Version             : V3.2.99 build 23102123\n",
      "Firewall/VPN Router 00000#\u001b[0m\n",
      "show version\n",
      "Model Name                   : EDR-G9010-VPN-2MGSFP-T\n",
      "Firmware Version             : V3.2.99 build 23102123\n",
      "Firewall/VPN Router 00000# \n"
     ]
    },
    {
     "data": {
      "text/plain": [
       "'show version\\r\\nModel Name                   : EDR-G9010-VPN-2MGSFP-T\\r\\r\\nFirmware Version             : V3.2.99 build 23102123\\r\\r\\nFirewall/VPN Router 00000# '"
      ]
     },
     "execution_count": 4,
     "metadata": {},
     "output_type": "execute_result"
    }
   ],
   "source": [
    "s.run('show version', print_output=True)"
   ]
  },
  {
   "cell_type": "code",
   "execution_count": 5,
   "metadata": {},
   "outputs": [
    {
     "name": "stdout",
     "output_type": "stream",
     "text": [
      "\u001b[32m2023-10-26 13:26:55.916\u001b[0m | \u001b[34m\u001b[1mDEBUG   \u001b[0m | \u001b[36mguerrilla.connection.ssh\u001b[0m:\u001b[36mrun\u001b[0m:\u001b[36m103\u001b[0m - \u001b[34m\u001b[1mFrom Host           \u001b[91msent command:\u001b[0m \u001b[0m\n",
      "\u001b[32m2023-10-26 13:26:56.017\u001b[0m | \u001b[34m\u001b[1mDEBUG   \u001b[0m | \u001b[36mguerrilla.connection.ssh\u001b[0m:\u001b[36mrun\u001b[0m:\u001b[36m116\u001b[0m - \u001b[34m\u001b[1mFrom Host       \u001b[92mreceived  output:\u001b[0m Firewall/VPN Router 00000#\u001b[0m\n",
      "\n",
      "Firewall/VPN Router 00000# \n"
     ]
    },
    {
     "data": {
      "text/plain": [
       "'Firewall/VPN Router 00000#'"
      ]
     },
     "execution_count": 5,
     "metadata": {},
     "output_type": "execute_result"
    }
   ],
   "source": [
    "s.find_prompt()"
   ]
  },
  {
   "cell_type": "code",
   "execution_count": 6,
   "metadata": {},
   "outputs": [
    {
     "name": "stdout",
     "output_type": "stream",
     "text": [
      "\u001b[32m2023-10-26 13:26:56.022\u001b[0m | \u001b[34m\u001b[1mDEBUG   \u001b[0m | \u001b[36mguerrilla.connection.ssh\u001b[0m:\u001b[36mrun\u001b[0m:\u001b[36m103\u001b[0m - \u001b[34m\u001b[1mFrom Host           \u001b[91msent command:\u001b[0m \u001b[0m\n",
      "\u001b[32m2023-10-26 13:26:56.123\u001b[0m | \u001b[34m\u001b[1mDEBUG   \u001b[0m | \u001b[36mguerrilla.connection.ssh\u001b[0m:\u001b[36mrun\u001b[0m:\u001b[36m116\u001b[0m - \u001b[34m\u001b[1mFrom Host       \u001b[92mreceived  output:\u001b[0m Firewall/VPN Router 00000#\u001b[0m\n",
      "\n",
      "Firewall/VPN Router 00000# \n"
     ]
    },
    {
     "data": {
      "text/plain": [
       "'main'"
      ]
     },
     "execution_count": 6,
     "metadata": {},
     "output_type": "execute_result"
    }
   ],
   "source": [
    "s.check_mode()"
   ]
  },
  {
   "cell_type": "code",
   "execution_count": 7,
   "metadata": {},
   "outputs": [
    {
     "name": "stdout",
     "output_type": "stream",
     "text": [
      "\u001b[32m2023-10-26 13:26:56.128\u001b[0m | \u001b[34m\u001b[1mDEBUG   \u001b[0m | \u001b[36mguerrilla.connection.ssh\u001b[0m:\u001b[36mrun\u001b[0m:\u001b[36m103\u001b[0m - \u001b[34m\u001b[1mFrom Host           \u001b[91msent command:\u001b[0m show version\u001b[0m\n",
      "\u001b[32m2023-10-26 13:26:56.229\u001b[0m | \u001b[34m\u001b[1mDEBUG   \u001b[0m | \u001b[36mguerrilla.connection.ssh\u001b[0m:\u001b[36mrun\u001b[0m:\u001b[36m116\u001b[0m - \u001b[34m\u001b[1mFrom Host       \u001b[92mreceived  output:\u001b[0m show version\n",
      "Model Name                   : EDR-G9010-VPN-2MGSFP-T\n",
      "Firmware Version             : V3.2.99 build 23102123\n",
      "Firewall/VPN Router 00000#\u001b[0m\n",
      "show version\n",
      "Model Name                   : EDR-G9010-VPN-2MGSFP-T\n",
      "Firmware Version             : V3.2.99 build 23102123\n",
      "Firewall/VPN Router 00000# \n"
     ]
    },
    {
     "data": {
      "text/plain": [
       "'show version\\r\\nModel Name                   : EDR-G9010-VPN-2MGSFP-T\\r\\r\\nFirmware Version             : V3.2.99 build 23102123\\r\\r\\nFirewall/VPN Router 00000# '"
      ]
     },
     "execution_count": 7,
     "metadata": {},
     "output_type": "execute_result"
    }
   ],
   "source": [
    "s.run('show version')"
   ]
  },
  {
   "cell_type": "code",
   "execution_count": 8,
   "metadata": {},
   "outputs": [
    {
     "data": {
      "text/plain": [
       "'connected'"
      ]
     },
     "execution_count": 8,
     "metadata": {},
     "output_type": "execute_result"
    }
   ],
   "source": [
    "s.status"
   ]
  },
  {
   "cell_type": "code",
   "execution_count": 10,
   "metadata": {},
   "outputs": [
    {
     "name": "stdout",
     "output_type": "stream",
     "text": [
      "config_file = show\n",
      "TERM not found.\n",
      "\n"
     ]
    }
   ],
   "source": [
    "_, stdout, stderr = s.client.exec_command('show version')\n",
    "output = stdout.read().decode('utf-8')\n",
    "print(output)"
   ]
  },
  {
   "cell_type": "code",
   "execution_count": null,
   "metadata": {},
   "outputs": [],
   "source": []
  }
 ],
 "metadata": {
  "kernelspec": {
   "display_name": ".venv",
   "language": "python",
   "name": "python3"
  },
  "language_info": {
   "codemirror_mode": {
    "name": "ipython",
    "version": 3
   },
   "file_extension": ".py",
   "mimetype": "text/x-python",
   "name": "python",
   "nbconvert_exporter": "python",
   "pygments_lexer": "ipython3",
   "version": "3.12.0"
  }
 },
 "nbformat": 4,
 "nbformat_minor": 2
}
