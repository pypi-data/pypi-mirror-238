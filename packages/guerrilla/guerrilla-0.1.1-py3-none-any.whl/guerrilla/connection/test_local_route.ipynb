{
 "cells": [
  {
   "cell_type": "code",
   "execution_count": 7,
   "metadata": {},
   "outputs": [],
   "source": [
    "import ipaddress\n",
    "from behave import *\n",
    "from guerrilla.connection import Session\n",
    "from guerrilla.logging import logger\n",
    "import time"
   ]
  },
  {
   "cell_type": "code",
   "execution_count": 8,
   "metadata": {},
   "outputs": [
    {
     "name": "stdout",
     "output_type": "stream",
     "text": [
      "\u001b[32m2023-10-26 17:31:48.452\u001b[0m | \u001b[1mINFO    \u001b[0m | \u001b[36mguerrilla.connection.ssh\u001b[0m:\u001b[36m__post_init__\u001b[0m:\u001b[36m23\u001b[0m - \u001b[1mCreated EDR-G9010's SSH session to 192.168.127.254:22\u001b[0m\n",
      "\u001b[32m2023-10-26 17:31:48.453\u001b[0m | \u001b[1mINFO    \u001b[0m | \u001b[36mguerrilla.connection.ssh\u001b[0m:\u001b[36mdisconnect\u001b[0m:\u001b[36m44\u001b[0m - \u001b[1mClosed connection to 192.168.127.254:22\u001b[0m\n"
     ]
    },
    {
     "name": "stdout",
     "output_type": "stream",
     "text": [
      "\u001b[32m2023-10-26 17:31:48.841\u001b[0m | \u001b[32m\u001b[1mSUCCESS \u001b[0m | \u001b[36mguerrilla.connection.ssh\u001b[0m:\u001b[36mconnect\u001b[0m:\u001b[36m35\u001b[0m - \u001b[32m\u001b[1mConnected to EDR-G9010 192.168.127.254:22\u001b[0m\n"
     ]
    }
   ],
   "source": [
    "config = {\n",
    "    \"protocol\": \"ssh\",\n",
    "    \"host\": \"192.168.127.254\",\n",
    "    \"username\": \"admin\",\n",
    "    \"password\": \"moxa\",\n",
    "    \"name\": \"EDR-G9010\",\n",
    "    \"os_type\": \"edr_g9010\"\n",
    "}\n",
    "device = Session(config)\n",
    "device.connect()"
   ]
  },
  {
   "cell_type": "code",
   "execution_count": 9,
   "metadata": {},
   "outputs": [
    {
     "name": "stdout",
     "output_type": "stream",
     "text": [
      "\u001b[32m2023-10-26 17:31:48.996\u001b[0m | \u001b[34m\u001b[1mDEBUG   \u001b[0m | \u001b[36mguerrilla.connection.ssh\u001b[0m:\u001b[36mrun\u001b[0m:\u001b[36m78\u001b[0m - \u001b[34m\u001b[1mFrom EDR-G9010      \u001b[91msent command:\u001b[0m reload factory-default\u001b[0m\n",
      "\u001b[32m2023-10-26 17:31:49.098\u001b[0m | \u001b[34m\u001b[1mDEBUG   \u001b[0m | \u001b[36mguerrilla.connection.ssh\u001b[0m:\u001b[36mrun\u001b[0m:\u001b[36m96\u001b[0m - \u001b[34m\u001b[1mFrom EDR-G9010  \u001b[92mreceived  output:\u001b[0m reload factory-default\n",
      "Proceed with reload to factory default? [Y/n]\u001b[0m\n",
      "\u001b[32m2023-10-26 17:31:49.099\u001b[0m | \u001b[34m\u001b[1mDEBUG   \u001b[0m | \u001b[36mguerrilla.connection.ssh\u001b[0m:\u001b[36mrun\u001b[0m:\u001b[36m78\u001b[0m - \u001b[34m\u001b[1mFrom EDR-G9010      \u001b[91msent command:\u001b[0m Y\u001b[0m\n",
      "\u001b[32m2023-10-26 17:31:49.199\u001b[0m | \u001b[34m\u001b[1mDEBUG   \u001b[0m | \u001b[36mguerrilla.connection.ssh\u001b[0m:\u001b[36mrun\u001b[0m:\u001b[36m96\u001b[0m - \u001b[34m\u001b[1mFrom EDR-G9010  \u001b[92mreceived  output:\u001b[0m Y\n",
      "Firewall/VPN Router 00000# \n",
      "Firewall/VPN Router 00000#\u001b[0m\n",
      "\u001b[32m2023-10-26 17:32:19.592\u001b[0m | \u001b[32m\u001b[1mSUCCESS \u001b[0m | \u001b[36mguerrilla.connection.ssh\u001b[0m:\u001b[36mconnect\u001b[0m:\u001b[36m35\u001b[0m - \u001b[32m\u001b[1mConnected to EDR-G9010 192.168.127.254:22\u001b[0m\n"
     ]
    }
   ],
   "source": [
    "device.run('reload factory-default')\n",
    "device.run('Y')\n",
    "time.sleep(30)\n",
    "device.connect()"
   ]
  },
  {
   "cell_type": "code",
   "execution_count": 10,
   "metadata": {},
   "outputs": [
    {
     "name": "stdout",
     "output_type": "stream",
     "text": [
      "\u001b[32m2023-10-26 17:32:19.899\u001b[0m | \u001b[1mINFO    \u001b[0m | \u001b[36mguerrilla.connection.ssh\u001b[0m:\u001b[36m__post_init__\u001b[0m:\u001b[36m23\u001b[0m - \u001b[1mCreated HOST A's SSH session to 192.168.121.88:22\u001b[0m\n",
      "\u001b[32m2023-10-26 17:32:19.900\u001b[0m | \u001b[1mINFO    \u001b[0m | \u001b[36mguerrilla.connection.ssh\u001b[0m:\u001b[36mdisconnect\u001b[0m:\u001b[36m44\u001b[0m - \u001b[1mClosed connection to 192.168.121.88:22\u001b[0m\n",
      "\u001b[32m2023-10-26 17:32:20.171\u001b[0m | \u001b[32m\u001b[1mSUCCESS \u001b[0m | \u001b[36mguerrilla.connection.ssh\u001b[0m:\u001b[36mconnect\u001b[0m:\u001b[36m35\u001b[0m - \u001b[32m\u001b[1mConnected to HOST A 192.168.121.88:22\u001b[0m\n",
      "\u001b[32m2023-10-26 17:32:20.322\u001b[0m | \u001b[34m\u001b[1mDEBUG   \u001b[0m | \u001b[36mguerrilla.connection.ssh\u001b[0m:\u001b[36mrun\u001b[0m:\u001b[36m78\u001b[0m - \u001b[34m\u001b[1mFrom HOST A         \u001b[91msent command:\u001b[0m ip addr flush dev eth1\u001b[0m\n",
      "\u001b[32m2023-10-26 17:32:20.423\u001b[0m | \u001b[34m\u001b[1mDEBUG   \u001b[0m | \u001b[36mguerrilla.connection.ssh\u001b[0m:\u001b[36mrun\u001b[0m:\u001b[36m96\u001b[0m - \u001b[34m\u001b[1mFrom HOST A     \u001b[92mreceived  output:\u001b[0m ip addr flush dev eth1\u001b[?1l\u001b>\u001b[?2004l\n",
      "                                                                                \n",
      "\u001b[0m\u0000\u0000\u0000\u0000\u0000\u0000\u0000\u0000\u001b[m\u0000\u0000\u0000\u0000\u0000\u0000\u0000\u0000\u001b[m\u0000\u0000\u0000\u0000\u0000\u0000\u0000\u0000\u001b[J\u0000\u0000\u0000\u0000\u0000\u0000\u0000\u0000\u0000\u0000\u0000\u0000\u0000\u0000\u0000\u0000\u0000\u0000\u0000\u0000\u0000\u0000\u0000\u0000\u0000\u0000\u0000\u0000\u0000\u0000\u0000\u0000\u0000\u0000\u0000\u0000\u0000\u0000\u0000\u0000\u0000\u0000\u0000\u0000\u0000\u0000\u0000\u0000\u0000\u0000\u0000\u0000\u0000\u0000\u0000\u0000\u0000\u0000\u0000\u0000\u0000\u0000\u0000\u0000\u0000\u0000\u0000\u0000\u0000\u0000\u0000\u0000\u0000\u0000\u0000\u0000\u0000\u0000\u0000\u0000\u0000\u0000\u0000\u0000\u0000\u0000\u0000\u0000\u0000\u0000\u0000\u0000\u0000\u0000\u0000\u0000\u0000\u0000\u0000\u0000\u0000\u0000\u0000\u0000\u0000\u0000\u0000\u0000\u0000\u0000\u0000\u0000\u0000\u0000\u0000\u0000\u0000\u0000\u0000\u0000\u0000\u0000\u0000\u0000\u0000\u0000\u0000\u0000\u0000\u0000\u0000\u0000\u0000\u0000\u0000\u0000\u0000\u0000\u0000\u0000\u0000\u0000\u0000\u0000\u0000\u0000\u0000\u0000\u0000\u0000\u0000\u0000\u0000\u0000\u0000\u0000\u0000\u0000\u0000\u0000\u0000\u0000\u0000\u0000\u0000\u0000\u0000\u0000\u0000\u0000\u0000\u0000\u0000\u0000\u0000\u0000\u0000\u0000\u0000\u0000\u0000\u0000\u0000\u0000\u0000\u0000\u0000\u0000\u0000\u0000\u0000\u0000\u0000\u0000\u0000\u0000\u0000\u0000\u0000\u0000\u0000\u0000\u0000\u0000\u0000\u0000\u0000\u0000\u0000\u0000\u0000\u0000\u0000root@guerrilla-host-1:~# \u001b[K\u0000\u0000\u0000\u0000\u0000\u0000\u0000\u0000\u0000\u0000\u0000\u0000\u001b[?1h\u001b=\u001b[?2004h\u001b[0m\n",
      "\u001b[32m2023-10-26 17:32:20.423\u001b[0m | \u001b[34m\u001b[1mDEBUG   \u001b[0m | \u001b[36mguerrilla.connection.ssh\u001b[0m:\u001b[36mrun\u001b[0m:\u001b[36m78\u001b[0m - \u001b[34m\u001b[1mFrom HOST A         \u001b[91msent command:\u001b[0m echo \"source-directory /etc/network/interfaces.d\" > /etc/network/interfaces\u001b[0m\n",
      "c/network/interfaces\u001b[?1l\u001b>\u001b[?2004l\u001b[34m\u001b[1mDEBUG   \u001b[0m | \u001b[36mguerrilla.connection.ssh\u001b[0m:\u001b[36mrun\u001b[0m:\u001b[36m96\u001b[0m - \u001b[34m\u001b[1mFrom HOST A     \u001b[92mreceived  output:\u001b[0m echo \"source-directory /etc/network/interfaces.d\" > /et \n",
      "                                                                                \n",
      "\u001b[0m\u0000\u0000\u0000\u0000\u0000\u0000\u0000\u0000\u001b[m\u0000\u0000\u0000\u0000\u0000\u0000\u0000\u0000\u001b[m\u0000\u0000\u0000\u0000\u0000\u0000\u0000\u0000\u001b[J\u0000\u0000\u0000\u0000\u0000\u0000\u0000\u0000\u0000\u0000\u0000\u0000\u0000\u0000\u0000\u0000\u0000\u0000\u0000\u0000\u0000\u0000\u0000\u0000\u0000\u0000\u0000\u0000\u0000\u0000\u0000\u0000\u0000\u0000\u0000\u0000\u0000\u0000\u0000\u0000\u0000\u0000\u0000\u0000\u0000\u0000\u0000\u0000\u0000\u0000\u0000\u0000\u0000\u0000\u0000\u0000\u0000\u0000\u0000\u0000\u0000\u0000\u0000\u0000\u0000\u0000\u0000\u0000\u0000\u0000\u0000\u0000\u0000\u0000\u0000\u0000\u0000\u0000\u0000\u0000\u0000\u0000\u0000\u0000\u0000\u0000\u0000\u0000\u0000\u0000\u0000\u0000\u0000\u0000\u0000\u0000\u0000\u0000\u0000\u0000\u0000\u0000\u0000\u0000\u0000\u0000\u0000\u0000\u0000\u0000\u0000\u0000\u0000\u0000\u0000\u0000\u0000\u0000\u0000\u0000\u0000\u0000\u0000\u0000\u0000\u0000\u0000\u0000\u0000\u0000\u0000\u0000\u0000\u0000\u0000\u0000\u0000\u0000\u0000\u0000\u0000\u0000\u0000\u0000\u0000\u0000\u0000\u0000\u0000\u0000\u0000\u0000\u0000\u0000\u0000\u0000\u0000\u0000\u0000\u0000\u0000\u0000\u0000\u0000\u0000\u0000\u0000\u0000\u0000\u0000\u0000\u0000\u0000\u0000\u0000\u0000\u0000\u0000\u0000\u0000\u0000\u0000\u0000\u0000\u0000\u0000\u0000\u0000\u0000\u0000\u0000\u0000\u0000\u0000\u0000\u0000\u0000\u0000\u0000\u0000\u0000\u0000\u0000\u0000\u0000\u0000\u0000\u0000\u0000\u0000\u0000\u0000\u0000root@guerrilla-host-1:~# \u001b[K\u0000\u0000\u0000\u0000\u0000\u0000\u0000\u0000\u0000\u0000\u0000\u0000\u001b[?1h\u001b=\u001b[?2004h\u001b[0m\n"
     ]
    }
   ],
   "source": [
    "config = {\n",
    "    \"protocol\": \"ssh\",\n",
    "    \"host\": \"192.168.121.88\",\n",
    "    \"username\": \"root\",\n",
    "    \"password\": \"vagrant\",\n",
    "    \"name\": \"HOST A\",\n",
    "    \"os_type\": \"linux\"\n",
    "}\n",
    "host_a = Session(config)\n",
    "host_a.connect()\n",
    "\n",
    "dev = 'eth1'\n",
    "ip = ['192.168.127.94']\n",
    "mask = ['255.255.255.0']\n",
    "# set networks\n",
    "host_a.run(f'ip addr flush dev {dev}')\n",
    "host_a.run(f'echo \"source-directory /etc/network/interfaces.d\" > /etc/network/interfaces')\n",
    "config = f\"auto {dev}\\niface {dev} inet static\\naddress {ip[0]}\\nnetmask {mask[0]}\"\n",
    "\n",
    "for i in range(1, len(ip)):\n",
    "        host_a.run(f'echo \"up ip addr add {ip[i]}/{mask[i]} dev {dev}\" >> /etc/network/interfaces.d/{dev}')"
   ]
  },
  {
   "cell_type": "code",
   "execution_count": 11,
   "metadata": {},
   "outputs": [
    {
     "name": "stdout",
     "output_type": "stream",
     "text": [
      "\u001b[32m2023-10-26 17:32:20.529\u001b[0m | \u001b[1mINFO    \u001b[0m | \u001b[36mguerrilla.connection.ssh\u001b[0m:\u001b[36m__post_init__\u001b[0m:\u001b[36m23\u001b[0m - \u001b[1mCreated HOST B's SSH session to 192.168.121.134:22\u001b[0m\n",
      "\u001b[32m2023-10-26 17:32:20.530\u001b[0m | \u001b[1mINFO    \u001b[0m | \u001b[36mguerrilla.connection.ssh\u001b[0m:\u001b[36mdisconnect\u001b[0m:\u001b[36m44\u001b[0m - \u001b[1mClosed connection to 192.168.121.134:22\u001b[0m\n",
      "\u001b[32m2023-10-26 17:32:20.800\u001b[0m | \u001b[32m\u001b[1mSUCCESS \u001b[0m | \u001b[36mguerrilla.connection.ssh\u001b[0m:\u001b[36mconnect\u001b[0m:\u001b[36m35\u001b[0m - \u001b[32m\u001b[1mConnected to HOST B 192.168.121.134:22\u001b[0m\n",
      "\u001b[32m2023-10-26 17:32:20.951\u001b[0m | \u001b[34m\u001b[1mDEBUG   \u001b[0m | \u001b[36mguerrilla.connection.ssh\u001b[0m:\u001b[36mrun\u001b[0m:\u001b[36m78\u001b[0m - \u001b[34m\u001b[1mFrom HOST B         \u001b[91msent command:\u001b[0m ip addr flush dev eth1\u001b[0m\n",
      "\u001b[32m2023-10-26 17:32:21.052\u001b[0m | \u001b[34m\u001b[1mDEBUG   \u001b[0m | \u001b[36mguerrilla.connection.ssh\u001b[0m:\u001b[36mrun\u001b[0m:\u001b[36m96\u001b[0m - \u001b[34m\u001b[1mFrom HOST B     \u001b[92mreceived  output:\u001b[0m ip addr flush dev eth1\u001b[?1l\u001b>\u001b[?2004l\n",
      "                                                                                \n",
      "\u001b[0m\u0000\u0000\u0000\u0000\u0000\u0000\u0000\u0000\u001b[m\u0000\u0000\u0000\u0000\u0000\u0000\u0000\u0000\u001b[m\u0000\u0000\u0000\u0000\u0000\u0000\u0000\u0000\u001b[J\u0000\u0000\u0000\u0000\u0000\u0000\u0000\u0000\u0000\u0000\u0000\u0000\u0000\u0000\u0000\u0000\u0000\u0000\u0000\u0000\u0000\u0000\u0000\u0000\u0000\u0000\u0000\u0000\u0000\u0000\u0000\u0000\u0000\u0000\u0000\u0000\u0000\u0000\u0000\u0000\u0000\u0000\u0000\u0000\u0000\u0000\u0000\u0000\u0000\u0000\u0000\u0000\u0000\u0000\u0000\u0000\u0000\u0000\u0000\u0000\u0000\u0000\u0000\u0000\u0000\u0000\u0000\u0000\u0000\u0000\u0000\u0000\u0000\u0000\u0000\u0000\u0000\u0000\u0000\u0000\u0000\u0000\u0000\u0000\u0000\u0000\u0000\u0000\u0000\u0000\u0000\u0000\u0000\u0000\u0000\u0000\u0000\u0000\u0000\u0000\u0000\u0000\u0000\u0000\u0000\u0000\u0000\u0000\u0000\u0000\u0000\u0000\u0000\u0000\u0000\u0000\u0000\u0000\u0000\u0000\u0000\u0000\u0000\u0000\u0000\u0000\u0000\u0000\u0000\u0000\u0000\u0000\u0000\u0000\u0000\u0000\u0000\u0000\u0000\u0000\u0000\u0000\u0000\u0000\u0000\u0000\u0000\u0000\u0000\u0000\u0000\u0000\u0000\u0000\u0000\u0000\u0000\u0000\u0000\u0000\u0000\u0000\u0000\u0000\u0000\u0000\u0000\u0000\u0000\u0000\u0000\u0000\u0000\u0000\u0000\u0000\u0000\u0000\u0000\u0000\u0000\u0000\u0000\u0000\u0000\u0000\u0000\u0000\u0000\u0000\u0000\u0000\u0000\u0000\u0000\u0000\u0000\u0000\u0000\u0000\u0000\u0000\u0000\u0000\u0000\u0000\u0000\u0000\u0000\u0000\u0000\u0000\u0000root@guerrilla-host-2:~# \u001b[K\u0000\u0000\u0000\u0000\u0000\u0000\u0000\u0000\u0000\u0000\u0000\u0000\u001b[?1h\u001b=\u001b[?2004h\u001b[0m\n",
      "\u001b[32m2023-10-26 17:32:21.052\u001b[0m | \u001b[34m\u001b[1mDEBUG   \u001b[0m | \u001b[36mguerrilla.connection.ssh\u001b[0m:\u001b[36mrun\u001b[0m:\u001b[36m78\u001b[0m - \u001b[34m\u001b[1mFrom HOST B         \u001b[91msent command:\u001b[0m echo \"source-directory /etc/network/interfaces.d\" > /etc/network/interfaces\u001b[0m\n",
      "c/network/interfaces\u001b[?1l\u001b>\u001b[?2004l\u001b[34m\u001b[1mDEBUG   \u001b[0m | \u001b[36mguerrilla.connection.ssh\u001b[0m:\u001b[36mrun\u001b[0m:\u001b[36m96\u001b[0m - \u001b[34m\u001b[1mFrom HOST B     \u001b[92mreceived  output:\u001b[0m echo \"source-directory /etc/network/interfaces.d\" > /et \n",
      "                                                                                \n",
      "\u001b[0m\u0000\u0000\u0000\u0000\u0000\u0000\u0000\u0000\u001b[m\u0000\u0000\u0000\u0000\u0000\u0000\u0000\u0000\u001b[m\u0000\u0000\u0000\u0000\u0000\u0000\u0000\u0000\u001b[J\u0000\u0000\u0000\u0000\u0000\u0000\u0000\u0000\u0000\u0000\u0000\u0000\u0000\u0000\u0000\u0000\u0000\u0000\u0000\u0000\u0000\u0000\u0000\u0000\u0000\u0000\u0000\u0000\u0000\u0000\u0000\u0000\u0000\u0000\u0000\u0000\u0000\u0000\u0000\u0000\u0000\u0000\u0000\u0000\u0000\u0000\u0000\u0000\u0000\u0000\u0000\u0000\u0000\u0000\u0000\u0000\u0000\u0000\u0000\u0000\u0000\u0000\u0000\u0000\u0000\u0000\u0000\u0000\u0000\u0000\u0000\u0000\u0000\u0000\u0000\u0000\u0000\u0000\u0000\u0000\u0000\u0000\u0000\u0000\u0000\u0000\u0000\u0000\u0000\u0000\u0000\u0000\u0000\u0000\u0000\u0000\u0000\u0000\u0000\u0000\u0000\u0000\u0000\u0000\u0000\u0000\u0000\u0000\u0000\u0000\u0000\u0000\u0000\u0000\u0000\u0000\u0000\u0000\u0000\u0000\u0000\u0000\u0000\u0000\u0000\u0000\u0000\u0000\u0000\u0000\u0000\u0000\u0000\u0000\u0000\u0000\u0000\u0000\u0000\u0000\u0000\u0000\u0000\u0000\u0000\u0000\u0000\u0000\u0000\u0000\u0000\u0000\u0000\u0000\u0000\u0000\u0000\u0000\u0000\u0000\u0000\u0000\u0000\u0000\u0000\u0000\u0000\u0000\u0000\u0000\u0000\u0000\u0000\u0000\u0000\u0000\u0000\u0000\u0000\u0000\u0000\u0000\u0000\u0000\u0000\u0000\u0000\u0000\u0000\u0000\u0000\u0000\u0000\u0000\u0000\u0000\u0000\u0000\u0000\u0000\u0000\u0000\u0000\u0000\u0000\u0000\u0000\u0000\u0000\u0000\u0000\u0000\u0000root@guerrilla-host-2:~# \u001b[K\u0000\u0000\u0000\u0000\u0000\u0000\u0000\u0000\u0000\u0000\u0000\u0000\u001b[?1h\u001b=\u001b[?2004h\u001b[0m\n"
     ]
    }
   ],
   "source": [
    "config = {\n",
    "    \"protocol\": \"ssh\",\n",
    "    \"host\": \"192.168.121.134\",\n",
    "    \"username\": \"root\",\n",
    "    \"password\": \"vagrant\",\n",
    "    \"name\": \"HOST B\"\n",
    "}\n",
    "host_b = Session(config)\n",
    "host_b.connect()\n",
    "\n",
    "dev = 'eth1'\n",
    "ip = ['192.168.127.93']\n",
    "mask = ['255.255.255.0']\n",
    "\n",
    "# set networks\n",
    "host_b.run(f'ip addr flush dev {dev}')\n",
    "host_b.run(f'echo \"source-directory /etc/network/interfaces.d\" > /etc/network/interfaces')\n",
    "config = f\"auto {dev}\\niface {dev} inet static\\naddress {ip[0]}\\nnetmask {mask[0]}\"\n",
    "\n",
    "for i in range(1, len(ip)):\n",
    "        host_b.run(f'echo \"up ip addr add {ip[i]}/{mask[i]} dev {dev}\" >> /etc/network/interfaces.d/{dev}')"
   ]
  },
  {
   "cell_type": "code",
   "execution_count": 12,
   "metadata": {},
   "outputs": [
    {
     "name": "stdout",
     "output_type": "stream",
     "text": [
      "\u001b[32m2023-10-26 17:32:21.157\u001b[0m | \u001b[34m\u001b[1mDEBUG   \u001b[0m | \u001b[36mguerrilla.connection.ssh\u001b[0m:\u001b[36mrun\u001b[0m:\u001b[36m78\u001b[0m - \u001b[34m\u001b[1mFrom EDR-G9010      \u001b[91msent command:\u001b[0m configure\u001b[0m\n",
      "\u001b[32m2023-10-26 17:32:21.258\u001b[0m | \u001b[34m\u001b[1mDEBUG   \u001b[0m | \u001b[36mguerrilla.connection.ssh\u001b[0m:\u001b[36mrun\u001b[0m:\u001b[36m96\u001b[0m - \u001b[34m\u001b[1mFrom EDR-G9010  \u001b[92mreceived  output:\u001b[0m configure\n",
      "Firewall/VPN Router 00000(config)#\u001b[0m\n",
      "\u001b[32m2023-10-26 17:32:21.259\u001b[0m | \u001b[34m\u001b[1mDEBUG   \u001b[0m | \u001b[36mguerrilla.connection.ssh\u001b[0m:\u001b[36mrun\u001b[0m:\u001b[36m78\u001b[0m - \u001b[34m\u001b[1mFrom EDR-G9010      \u001b[91msent command:\u001b[0m vlan create 2\u001b[0m\n",
      "\u001b[32m2023-10-26 17:32:21.359\u001b[0m | \u001b[34m\u001b[1mDEBUG   \u001b[0m | \u001b[36mguerrilla.connection.ssh\u001b[0m:\u001b[36mrun\u001b[0m:\u001b[36m96\u001b[0m - \u001b[34m\u001b[1mFrom EDR-G9010  \u001b[92mreceived  output:\u001b[0m vlan create 2\n",
      "% create vlan id:2\u001b[0m\n",
      "\u001b[32m2023-10-26 17:32:21.360\u001b[0m | \u001b[34m\u001b[1mDEBUG   \u001b[0m | \u001b[36mguerrilla.connection.ssh\u001b[0m:\u001b[36mrun\u001b[0m:\u001b[36m78\u001b[0m - \u001b[34m\u001b[1mFrom EDR-G9010      \u001b[91msent command:\u001b[0m interface ethernet 1/8\u001b[0m\n",
      "\u001b[32m2023-10-26 17:32:21.460\u001b[0m | \u001b[34m\u001b[1mDEBUG   \u001b[0m | \u001b[36mguerrilla.connection.ssh\u001b[0m:\u001b[36mrun\u001b[0m:\u001b[36m96\u001b[0m - \u001b[34m\u001b[1mFrom EDR-G9010  \u001b[92mreceived  output:\u001b[0m Firewall/VPN Router 00000(config)# interface ethernet 1/8\n",
      "Firewall/VPN Router 00000(config-if)#\u001b[0m\n",
      "\u001b[32m2023-10-26 17:32:21.461\u001b[0m | \u001b[34m\u001b[1mDEBUG   \u001b[0m | \u001b[36mguerrilla.connection.ssh\u001b[0m:\u001b[36mrun\u001b[0m:\u001b[36m78\u001b[0m - \u001b[34m\u001b[1mFrom EDR-G9010      \u001b[91msent command:\u001b[0m switchport access vlan 2\u001b[0m\n",
      "\u001b[32m2023-10-26 17:32:21.562\u001b[0m | \u001b[34m\u001b[1mDEBUG   \u001b[0m | \u001b[36mguerrilla.connection.ssh\u001b[0m:\u001b[36mrun\u001b[0m:\u001b[36m96\u001b[0m - \u001b[34m\u001b[1mFrom EDR-G9010  \u001b[92mreceived  output:\u001b[0m switchport access vlan 2\u001b[0m\n",
      "\u001b[32m2023-10-26 17:32:21.563\u001b[0m | \u001b[34m\u001b[1mDEBUG   \u001b[0m | \u001b[36mguerrilla.connection.ssh\u001b[0m:\u001b[36mrun\u001b[0m:\u001b[36m78\u001b[0m - \u001b[34m\u001b[1mFrom EDR-G9010      \u001b[91msent command:\u001b[0m exit\u001b[0m\n",
      "\u001b[32m2023-10-26 17:32:22.114\u001b[0m | \u001b[34m\u001b[1mDEBUG   \u001b[0m | \u001b[36mguerrilla.connection.ssh\u001b[0m:\u001b[36mrun\u001b[0m:\u001b[36m96\u001b[0m - \u001b[34m\u001b[1mFrom EDR-G9010  \u001b[92mreceived  output:\u001b[0m Firewall/VPN Router 00000(config-if)# exit\n",
      "Firewall/VPN Router 00000(config)#\u001b[0m\n",
      "\u001b[32m2023-10-26 17:32:22.114\u001b[0m | \u001b[34m\u001b[1mDEBUG   \u001b[0m | \u001b[36mguerrilla.connection.ssh\u001b[0m:\u001b[36mrun\u001b[0m:\u001b[36m78\u001b[0m - \u001b[34m\u001b[1mFrom EDR-G9010      \u001b[91msent command:\u001b[0m interface wan\u001b[0m\n",
      "\u001b[32m2023-10-26 17:32:22.215\u001b[0m | \u001b[34m\u001b[1mDEBUG   \u001b[0m | \u001b[36mguerrilla.connection.ssh\u001b[0m:\u001b[36mrun\u001b[0m:\u001b[36m96\u001b[0m - \u001b[34m\u001b[1mFrom EDR-G9010  \u001b[92mreceived  output:\u001b[0m interface wan\n",
      "Firewall/VPN Router 00000(config-if)#\u001b[0m\n",
      "\u001b[32m2023-10-26 17:32:22.216\u001b[0m | \u001b[34m\u001b[1mDEBUG   \u001b[0m | \u001b[36mguerrilla.connection.ssh\u001b[0m:\u001b[36mrun\u001b[0m:\u001b[36m78\u001b[0m - \u001b[34m\u001b[1mFrom EDR-G9010      \u001b[91msent command:\u001b[0m bind vlan 2\u001b[0m\n",
      "\u001b[32m2023-10-26 17:32:22.466\u001b[0m | \u001b[34m\u001b[1mDEBUG   \u001b[0m | \u001b[36mguerrilla.connection.ssh\u001b[0m:\u001b[36mrun\u001b[0m:\u001b[36m96\u001b[0m - \u001b[34m\u001b[1mFrom EDR-G9010  \u001b[92mreceived  output:\u001b[0m bind vlan 2\u001b[0m\n",
      "\u001b[32m2023-10-26 17:32:22.467\u001b[0m | \u001b[34m\u001b[1mDEBUG   \u001b[0m | \u001b[36mguerrilla.connection.ssh\u001b[0m:\u001b[36mrun\u001b[0m:\u001b[36m78\u001b[0m - \u001b[34m\u001b[1mFrom EDR-G9010      \u001b[91msent command:\u001b[0m ip address static 192.168.128.254 255.255.255.0\u001b[0m\n",
      "\u001b[32m2023-10-26 17:32:22.718\u001b[0m | \u001b[34m\u001b[1mDEBUG   \u001b[0m | \u001b[36mguerrilla.connection.ssh\u001b[0m:\u001b[36mrun\u001b[0m:\u001b[36m96\u001b[0m - \u001b[34m\u001b[1mFrom EDR-G9010  \u001b[92mreceived  output:\u001b[0m Firewall/VPN Router 00000(config-if)# ip address static 192.168.128.254 255.255.255.0\u001b[0m\n",
      "\u001b[32m2023-10-26 17:32:22.719\u001b[0m | \u001b[34m\u001b[1mDEBUG   \u001b[0m | \u001b[36mguerrilla.connection.ssh\u001b[0m:\u001b[36mrun\u001b[0m:\u001b[36m78\u001b[0m - \u001b[34m\u001b[1mFrom EDR-G9010      \u001b[91msent command:\u001b[0m exit\u001b[0m\n",
      "\u001b[32m2023-10-26 17:32:23.420\u001b[0m | \u001b[34m\u001b[1mDEBUG   \u001b[0m | \u001b[36mguerrilla.connection.ssh\u001b[0m:\u001b[36mrun\u001b[0m:\u001b[36m96\u001b[0m - \u001b[34m\u001b[1mFrom EDR-G9010  \u001b[92mreceived  output:\u001b[0m Firewall/VPN Router 00000(config-if)# exit\n",
      "Firewall/VPN Router 00000(config)#\u001b[0m\n",
      "\u001b[32m2023-10-26 17:32:23.421\u001b[0m | \u001b[34m\u001b[1mDEBUG   \u001b[0m | \u001b[36mguerrilla.connection.ssh\u001b[0m:\u001b[36mrun\u001b[0m:\u001b[36m78\u001b[0m - \u001b[34m\u001b[1mFrom EDR-G9010      \u001b[91msent command:\u001b[0m exit\u001b[0m\n",
      "\u001b[32m2023-10-26 17:32:23.672\u001b[0m | \u001b[34m\u001b[1mDEBUG   \u001b[0m | \u001b[36mguerrilla.connection.ssh\u001b[0m:\u001b[36mrun\u001b[0m:\u001b[36m96\u001b[0m - \u001b[34m\u001b[1mFrom EDR-G9010  \u001b[92mreceived  output:\u001b[0m exit\n",
      "Firewall/VPN Router 00000#\u001b[0m\n",
      "\u001b[32m2023-10-26 17:32:23.673\u001b[0m | \u001b[34m\u001b[1mDEBUG   \u001b[0m | \u001b[36mguerrilla.connection.ssh\u001b[0m:\u001b[36mrun\u001b[0m:\u001b[36m78\u001b[0m - \u001b[34m\u001b[1mFrom EDR-G9010      \u001b[91msent command:\u001b[0m show interfaces wan\u001b[0m\n",
      "\u001b[32m2023-10-26 17:32:23.923\u001b[0m | \u001b[34m\u001b[1mDEBUG   \u001b[0m | \u001b[36mguerrilla.connection.ssh\u001b[0m:\u001b[36mrun\u001b[0m:\u001b[36m96\u001b[0m - \u001b[34m\u001b[1mFrom EDR-G9010  \u001b[92mreceived  output:\u001b[0m show interfaces wan\n",
      "WAN\n",
      "Vlan ID             : 2      \n",
      "Connect Mode        : Enable \n",
      "Connect Type        : Static \n",
      "IP Address          : 192.168.128.254\n",
      "Netmask             : 255.255.255.0  \n",
      "Gateway             : 0.0.0.0        \n",
      "PPTP Connection     : Disable\n",
      "PPTP IP Address     : 0.0.0.0        \n",
      "PPTP User Name      :                     \n",
      "PPTP Password       : ********\n",
      "PPTP MPPE Encryption: Disable\n",
      "DNS Server          : 0.0.0.0  0.0.0.0  0.0.0.0  \n",
      "\n",
      "Firewall/VPN Router 00000#\u001b[0m\n"
     ]
    }
   ],
   "source": [
    "dut_iface_ip = '192.168.128.254'\n",
    "dut_iface_vlan = '2'\n",
    "dut_iface_port = '8'\n",
    "dut_iface_mask = '255.255.255.0'\n",
    "\n",
    "device.run('configure')\n",
    "device.run(f'vlan create {dut_iface_vlan}')\n",
    "\n",
    "device.run(f'interface ethernet 1/{dut_iface_port}') # config-if\n",
    "device.run(f'switchport access vlan {dut_iface_vlan}') \n",
    "\n",
    "device.run('exit') # return config\n",
    "device.run('interface wan') # config-if wan\n",
    "device.run(f'bind vlan {dut_iface_vlan}')\n",
    "device.run(f'ip address static {dut_iface_ip} {dut_iface_mask}')\n",
    "\n",
    "device.run('exit') # return config\n",
    "device.run('exit') # return main\n",
    "\n",
    "ret = device.run('show interfaces wan')\n",
    "assert dut_iface_ip in ret, f'WAN interface IP is not {dut_iface_ip}'"
   ]
  },
  {
   "cell_type": "code",
   "execution_count": null,
   "metadata": {},
   "outputs": [],
   "source": []
  },
  {
   "cell_type": "code",
   "execution_count": null,
   "metadata": {},
   "outputs": [],
   "source": []
  },
  {
   "cell_type": "code",
   "execution_count": null,
   "metadata": {},
   "outputs": [],
   "source": []
  },
  {
   "cell_type": "code",
   "execution_count": null,
   "metadata": {},
   "outputs": [],
   "source": []
  },
  {
   "cell_type": "code",
   "execution_count": null,
   "metadata": {},
   "outputs": [],
   "source": [
    "dut_iface_ip = '192.168.127.254'\n",
    "dut_iface_vlan = '1'\n",
    "dut_iface_port = '1'\n",
    "dut_iface_mask = '255.255.255.0'\n",
    "\n",
    "device.run('configure')\n",
    "device.run(f'interface ethernet 1/{dut_iface_port}')\n",
    "device.run(f'switchport access vlan {dut_iface_vlan}')\n",
    "\n",
    "device.run('exit') # return config\n",
    "device.run('interface lan')\n",
    "device.run(f'bind vlan {dut_iface_vlan}')\n",
    "device.run(f'ip address static {dut_iface_ip} {dut_iface_mask}')\n",
    "\n",
    "device.run('exit') # return config\n",
    "device.run('exit') # return main\n",
    "\n",
    "ret = device.run('show interface lan')\n",
    "assert dut_iface_ip in ret, f'LAN interface IP is not {dut_iface_ip}'"
   ]
  },
  {
   "cell_type": "code",
   "execution_count": null,
   "metadata": {},
   "outputs": [],
   "source": [
    "# IP Address\n",
    "host_testbed_ip = '192.168.128.10'\n",
    "\n",
    "\n",
    "# Subnet Mask\n",
    "host_testbed_mask = '255.255.255.0'\n",
    "\n",
    "# Network name (subnet)\n",
    "host_testbed_subnet = str(\n",
    "    ipaddress.ip_network(f'{host_testbed_ip}/{host_testbed_mask}',\n",
    "                            strict=False)).split('/')[0]\n",
    "\n",
    "# Gateway IP\n",
    "host_testbed_gw = '192.168.128.254'\n",
    "\n",
    "# context.host_info[host][\"testbed\"][\"cur_host\"] = host_testbed_ip\n",
    "# context.host_info[host][\"testbed\"][\"cur_subnet\"] = host_testbed_subnet\n",
    "# context.host_info[host][\"testbed\"][\"cur_gw\"] = host_testbed_gw\n",
    "\n",
    "# set network\n",
    "dev = 'eth1'\n",
    "config=f\"auto {dev}\\niface {dev} inet static\\naddress {host_testbed_ip}\\nnetmask {host_testbed_mask}\"\n",
    "host_a.run(f'ip addr flush {dev}')\n",
    "host_a.run('echo \"source-directory /etc/network/interfaces.d\" > /etc/network/interfaces')\n",
    "host_a.run(f'echo \"{config}\" > /etc/network/interfaces.d/{dev}')\n",
    "\n",
    "host_a.run(f\"ifdown {dev}\")\n",
    "host_a.run(f\"ifup {dev}\")"
   ]
  },
  {
   "cell_type": "code",
   "execution_count": null,
   "metadata": {},
   "outputs": [],
   "source": [
    "# IP Address\n",
    "host_testbed_ip = '192.168.127.11'\n",
    "\n",
    "# Subnet Mask\n",
    "host_testbed_mask = '255.255.255.0'\n",
    "\n",
    "# Network name (subnet)\n",
    "host_testbed_subnet = str(\n",
    "    ipaddress.ip_network(f'{host_testbed_ip}/{host_testbed_mask}',\n",
    "                            strict=False)).split('/')[0]\n",
    "\n",
    "# Gateway IP\n",
    "host_testbed_gw = '192.168.127.254'\n",
    "\n",
    "# context.host_info[host][\"testbed\"][\"cur_host\"] = host_testbed_ip\n",
    "# context.host_info[host][\"testbed\"][\"cur_subnet\"] = host_testbed_subnet\n",
    "# context.host_info[host][\"testbed\"][\"cur_gw\"] = host_testbed_gw\n",
    "\n",
    "# set network\n",
    "dev = 'eth1'\n",
    "config=f\"auto {dev}\\niface {dev} inet static\\naddress {host_testbed_ip}\\nnetmask {host_testbed_mask}\"\n",
    "host_b.run(f'ip addr flush {dev}')\n",
    "host_b.run('echo \"source-directory /etc/network/interfaces.d\" > /etc/network/interfaces')\n",
    "host_b.run(f'echo \"{config}\" > /etc/network/interfaces.d/{dev}')\n",
    "\n",
    "host_b.run(f\"ifdown {dev}\")\n",
    "host_b.run(f\"ifup {dev}\")"
   ]
  },
  {
   "cell_type": "code",
   "execution_count": null,
   "metadata": {},
   "outputs": [],
   "source": [
    "dev = 'eth1'\n",
    "dip = '192.168.127.0' # host b subnet\n",
    "mask = '255.255.255.0' # host b mask\n",
    "gw = '192.168.128.254' # host a gw\n",
    "\n",
    "\n",
    "host_a.run(f'ip addr flush {dev}')\n",
    "host_a.run(f'echo \"post-up ip route add {dip}/{mask} via {gw}\" >> /etc/network/interfaces.d/{dev}')\n",
    "\n",
    "host_a.run(f\"ifdown {dev}\")\n",
    "host_a.run(f\"ifup {dev}\")"
   ]
  },
  {
   "cell_type": "code",
   "execution_count": null,
   "metadata": {},
   "outputs": [],
   "source": [
    "dev = 'eth1'\n",
    "dip = '192.168.128.0' # host a subnet\n",
    "mask = '255.255.255.0' # host a mask\n",
    "gw = '192.168.127.254' # host b gw\n",
    "\n",
    "host_b.run(f'ip addr flush {dev}')\n",
    "host_b.run(f'echo \"post-up ip route add {dip}/{mask} via {gw}\" >> /etc/network/interfaces.d/{dev}')\n",
    "\n",
    "host_b.run(f\"ifdown {dev}\")\n",
    "host_b.run(f\"ifup {dev}\")\n",
    "\n",
    "# show dut wan ip\n",
    "device.run('show interfaces wan')\n",
    "\n",
    "# show host a ip\n",
    "host_a.run('ip addr show eth1')\n",
    "\n",
    "# show host b ip\n",
    "host_b.run('ip addr show eth1')"
   ]
  },
  {
   "cell_type": "code",
   "execution_count": null,
   "metadata": {},
   "outputs": [],
   "source": [
    "ret = host_a.run('ping -c 3 192.168.127.11', is_shell=True)\n",
    "assert '3 received' in ret, f'HOST_A cannot ping HOST_B'\n",
    "logger.success(f'HOST_A can ping HOST_B')"
   ]
  },
  {
   "cell_type": "code",
   "execution_count": null,
   "metadata": {},
   "outputs": [],
   "source": [
    "ret = host_b.run('ping -c 3 192.168.128.10', is_shell=True)\n",
    "assert '3 received' in ret, f'HOST_B cannot ping HOST_A'\n",
    "logger.success(f'HOST_B can ping HOST_A')\n"
   ]
  }
 ],
 "metadata": {
  "kernelspec": {
   "display_name": ".venv",
   "language": "python",
   "name": "python3"
  },
  "language_info": {
   "codemirror_mode": {
    "name": "ipython",
    "version": 3
   },
   "file_extension": ".py",
   "mimetype": "text/x-python",
   "name": "python",
   "nbconvert_exporter": "python",
   "pygments_lexer": "ipython3",
   "version": "3.12.0"
  }
 },
 "nbformat": 4,
 "nbformat_minor": 2
}
