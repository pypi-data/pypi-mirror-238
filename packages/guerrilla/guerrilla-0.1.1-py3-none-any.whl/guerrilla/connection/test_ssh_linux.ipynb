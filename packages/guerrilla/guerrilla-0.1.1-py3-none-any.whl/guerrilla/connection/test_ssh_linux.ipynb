{
 "cells": [
  {
   "cell_type": "code",
   "execution_count": 7,
   "metadata": {},
   "outputs": [],
   "source": [
    "from guerrilla.connection import Session"
   ]
  },
  {
   "cell_type": "code",
   "execution_count": 8,
   "metadata": {},
   "outputs": [
    {
     "name": "stdout",
     "output_type": "stream",
     "text": [
      "\u001b[32m2023-10-26 13:40:01.069\u001b[0m | \u001b[1mINFO    \u001b[0m | \u001b[36mguerrilla.connection.ssh\u001b[0m:\u001b[36m__post_init__\u001b[0m:\u001b[36m23\u001b[0m - \u001b[1mCreated SSH session to 192.168.121.88:22\u001b[0m\n",
      "\u001b[32m2023-10-26 13:40:01.070\u001b[0m | \u001b[1mINFO    \u001b[0m | \u001b[36mguerrilla.connection.ssh\u001b[0m:\u001b[36mdisconnect\u001b[0m:\u001b[36m44\u001b[0m - \u001b[1mClosed connection to 192.168.121.88:22\u001b[0m\n"
     ]
    }
   ],
   "source": [
    "host = \"192.168.121.88\"\n",
    "config = {\n",
    "    \"protocol\": \"ssh\",\n",
    "    \"host\": host,\n",
    "    \"username\": \"root\",\n",
    "    \"password\": \"vagrant\",\n",
    "    \"os_type\": \"linux\"\n",
    "}\n",
    "s = Session(config)"
   ]
  },
  {
   "cell_type": "code",
   "execution_count": 9,
   "metadata": {},
   "outputs": [
    {
     "name": "stdout",
     "output_type": "stream",
     "text": [
      "\u001b[32m2023-10-26 13:40:01.356\u001b[0m | \u001b[32m\u001b[1mSUCCESS \u001b[0m | \u001b[36mguerrilla.connection.ssh\u001b[0m:\u001b[36mconnect\u001b[0m:\u001b[36m35\u001b[0m - \u001b[32m\u001b[1mConnected to 192.168.121.88:22\u001b[0m\n"
     ]
    }
   ],
   "source": [
    "s.connect()"
   ]
  },
  {
   "cell_type": "code",
   "execution_count": 10,
   "metadata": {},
   "outputs": [
    {
     "name": "stdout",
     "output_type": "stream",
     "text": [
      "\u001b[32m2023-10-26 13:40:01.360\u001b[0m | \u001b[34m\u001b[1mDEBUG   \u001b[0m | \u001b[36mguerrilla.connection.ssh\u001b[0m:\u001b[36mrun\u001b[0m:\u001b[36m104\u001b[0m - \u001b[34m\u001b[1mFrom                \u001b[91msent command:\u001b[0m uname -r\u001b[0m\n",
      "\u001b[32m2023-10-26 13:40:01.368\u001b[0m | \u001b[34m\u001b[1mDEBUG   \u001b[0m | \u001b[36mguerrilla.connection.ssh\u001b[0m:\u001b[36mrun\u001b[0m:\u001b[36m118\u001b[0m - \u001b[34m\u001b[1mFrom            \u001b[92mreceived  output:\u001b[0m 6.4.0-kali3-amd64\u001b[0m\n",
      "6.4.0-kali3-amd64\n",
      "\n"
     ]
    },
    {
     "data": {
      "text/plain": [
       "'6.4.0-kali3-amd64\\n'"
      ]
     },
     "execution_count": 10,
     "metadata": {},
     "output_type": "execute_result"
    }
   ],
   "source": [
    "s.run('uname -r', print_output=True)"
   ]
  },
  {
   "cell_type": "code",
   "execution_count": 11,
   "metadata": {},
   "outputs": [
    {
     "name": "stdout",
     "output_type": "stream",
     "text": [
      "\u001b[32m2023-10-26 13:40:01.380\u001b[0m | \u001b[34m\u001b[1mDEBUG   \u001b[0m | \u001b[36mguerrilla.connection.ssh\u001b[0m:\u001b[36mrun\u001b[0m:\u001b[36m104\u001b[0m - \u001b[34m\u001b[1mFrom                \u001b[91msent command:\u001b[0m ping -c 3 google.com\u001b[0m\n",
      "\u001b[32m2023-10-26 13:40:03.470\u001b[0m | \u001b[34m\u001b[1mDEBUG   \u001b[0m | \u001b[36mguerrilla.connection.ssh\u001b[0m:\u001b[36mrun\u001b[0m:\u001b[36m118\u001b[0m - \u001b[34m\u001b[1mFrom            \u001b[92mreceived  output:\u001b[0m PING google.com (142.251.43.14) 56(84) bytes of data.\n",
      "64 bytes from tsa03s08-in-f14.1e100.net (142.251.43.14): icmp_seq=1 ttl=112 time=58.6 ms\n",
      "64 bytes from tsa03s08-in-f14.1e100.net (142.251.43.14): icmp_seq=2 ttl=112 time=73.8 ms\n",
      "64 bytes from tsa03s08-in-f14.1e100.net (142.251.43.14): icmp_seq=3 ttl=112 time=37.4 ms\n",
      "\n",
      "--- google.com ping statistics ---\n",
      "3 packets transmitted, 3 received, 0% packet loss, time 2002ms\n",
      "rtt min/avg/max/mdev = 37.423/56.606/73.801/14.917 ms\u001b[0m\n",
      "PING google.com (142.251.43.14) 56(84) bytes of data.\n",
      "64 bytes from tsa03s08-in-f14.1e100.net (142.251.43.14): icmp_seq=1 ttl=112 time=58.6 ms\n",
      "64 bytes from tsa03s08-in-f14.1e100.net (142.251.43.14): icmp_seq=2 ttl=112 time=73.8 ms\n",
      "64 bytes from tsa03s08-in-f14.1e100.net (142.251.43.14): icmp_seq=3 ttl=112 time=37.4 ms\n",
      "\n",
      "--- google.com ping statistics ---\n",
      "3 packets transmitted, 3 received, 0% packet loss, time 2002ms\n",
      "rtt min/avg/max/mdev = 37.423/56.606/73.801/14.917 ms\n",
      "\n"
     ]
    }
   ],
   "source": [
    "ret = s.run('ping -c 3 google.com', expect_return=\"3 packets transmitted\")\n",
    "assert '3 received' in ret, f'HOST_A cannot ping HOST_B'"
   ]
  },
  {
   "cell_type": "code",
   "execution_count": 12,
   "metadata": {},
   "outputs": [
    {
     "name": "stdout",
     "output_type": "stream",
     "text": [
      "PING google.com (142.251.43.14) 56(84) bytes of data.\n",
      "64 bytes from tsa03s08-in-f14.1e100.net (142.251.43.14): icmp_seq=1 ttl=112 time=57.5 ms\n",
      "64 bytes from tsa03s08-in-f14.1e100.net (142.251.43.14): icmp_seq=2 ttl=112 time=63.6 ms\n",
      "64 bytes from tsa03s08-in-f14.1e100.net (142.251.43.14): icmp_seq=3 ttl=112 time=81.6 ms\n",
      "\n",
      "--- google.com ping statistics ---\n",
      "3 packets transmitted, 3 received, 0% packet loss, time 2002ms\n",
      "rtt min/avg/max/mdev = 57.505/67.573/81.579/10.215 ms\n",
      "\n"
     ]
    }
   ],
   "source": [
    "stdin, stdout, stderr = s.client.exec_command('ping -c 3 google.com')\n",
    "output = stdout.read().decode()\n",
    "print(output)"
   ]
  },
  {
   "cell_type": "code",
   "execution_count": null,
   "metadata": {},
   "outputs": [],
   "source": []
  }
 ],
 "metadata": {
  "kernelspec": {
   "display_name": ".venv",
   "language": "python",
   "name": "python3"
  },
  "language_info": {
   "codemirror_mode": {
    "name": "ipython",
    "version": 3
   },
   "file_extension": ".py",
   "mimetype": "text/x-python",
   "name": "python",
   "nbconvert_exporter": "python",
   "pygments_lexer": "ipython3",
   "version": "3.12.0"
  }
 },
 "nbformat": 4,
 "nbformat_minor": 2
}
