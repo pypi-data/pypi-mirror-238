{
 "cells": [
  {
   "cell_type": "code",
   "execution_count": 2,
   "metadata": {},
   "outputs": [],
   "source": [
    "from guerrilla.topology import Link, Interface,Device"
   ]
  },
  {
   "cell_type": "code",
   "execution_count": 3,
   "metadata": {},
   "outputs": [],
   "source": [
    "device = Device('myDevice')\n",
    "device1 = Device('myDevice123')"
   ]
  },
  {
   "cell_type": "code",
   "execution_count": 4,
   "metadata": {},
   "outputs": [],
   "source": [
    "interface_a = Interface('eth0', type='ethernet', device=device)\n",
    "interface_b = Interface('eth1', type='ethernet', device=device1)\n",
    "interface_c = Interface('eth2', type='ethernet', alias='ccc')"
   ]
  },
  {
   "cell_type": "code",
   "execution_count": 5,
   "metadata": {},
   "outputs": [],
   "source": [
    "link_a = Link('newLink',\n",
    "              alias = 'myLink',\n",
    "              interfaces = [interface_a, interface_b])"
   ]
  },
  {
   "cell_type": "code",
   "execution_count": 13,
   "metadata": {},
   "outputs": [
    {
     "data": {
      "text/plain": [
       "[<weakref at 0x7f1cf46fe250; to 'Interface' at 0x7f1cf4535e10>,\n",
       " <weakref at 0x7f1cf60c0450; to 'Interface' at 0x7f1cf4535e50>]"
      ]
     },
     "execution_count": 13,
     "metadata": {},
     "output_type": "execute_result"
    }
   ],
   "source": [
    "link_a.interfaces"
   ]
  },
  {
   "cell_type": "code",
   "execution_count": 21,
   "metadata": {},
   "outputs": [],
   "source": [
    "link_a.connect_interface(interface_c)"
   ]
  },
  {
   "cell_type": "code",
   "execution_count": 18,
   "metadata": {},
   "outputs": [
    {
     "data": {
      "text/plain": [
       "[<weakref at 0x7f1cf46fe250; to 'Interface' at 0x7f1cf4535e10>,\n",
       " <weakref at 0x7f1cf60c0450; to 'Interface' at 0x7f1cf4535e50>,\n",
       " <weakref at 0x7f1cf47c3b50; to 'Interface' at 0x7f1cf4535ed0>]"
      ]
     },
     "execution_count": 18,
     "metadata": {},
     "output_type": "execute_result"
    }
   ],
   "source": [
    "link_a.interfaces"
   ]
  },
  {
   "cell_type": "code",
   "execution_count": 16,
   "metadata": {},
   "outputs": [
    {
     "name": "stdout",
     "output_type": "stream",
     "text": [
      "eth0\n",
      "eth1\n",
      "ccc\n"
     ]
    }
   ],
   "source": [
    "for intf in link_a:\n",
    "    print(intf.alias)"
   ]
  },
  {
   "cell_type": "code",
   "execution_count": 23,
   "metadata": {},
   "outputs": [],
   "source": [
    "link_a.disconnect_interface(interface_c)"
   ]
  },
  {
   "cell_type": "code",
   "execution_count": 24,
   "metadata": {},
   "outputs": [
    {
     "name": "stdout",
     "output_type": "stream",
     "text": [
      "eth0\n",
      "eth1\n"
     ]
    }
   ],
   "source": [
    "for intf in link_a:\n",
    "    print(intf.alias)"
   ]
  },
  {
   "cell_type": "code",
   "execution_count": 25,
   "metadata": {},
   "outputs": [
    {
     "data": {
      "text/plain": [
       "{Device(name='myDevice', type=None, id='0c0dc6d6-1f66-4dfe-bf11-75ac6534cb9a', alias=None, os=None, testbed=None, interfaces=Box({}), tacacs={}, passwords={}, credentials=Box({}), connections=Box({}), connection_manager=None, clean=Box({}), custom=Box({})),\n",
       " Device(name='myDevice123', type=None, id='0d3ca298-6ac7-4d99-b515-49d53824354b', alias=None, os=None, testbed=None, interfaces=Box({}), tacacs={}, passwords={}, credentials=Box({}), connections=Box({}), connection_manager=None, clean=Box({}), custom=Box({}))}"
      ]
     },
     "execution_count": 25,
     "metadata": {},
     "output_type": "execute_result"
    }
   ],
   "source": [
    "link_a.connected_devices"
   ]
  },
  {
   "cell_type": "code",
   "execution_count": 27,
   "metadata": {},
   "outputs": [
    {
     "data": {
      "text/plain": [
       "{Interface(name='eth0', type='ethernet', id='c158ce0f-f014-44b0-8a93-bad68b1307cc', alias='eth0', device=Device(name='myDevice', type=None, id='0c0dc6d6-1f66-4dfe-bf11-75ac6534cb9a', alias=None, os=None, testbed=None, interfaces=Box({}), tacacs={}, passwords={}, credentials=Box({}), connections=Box({}), connection_manager=None, clean=Box({}), custom=Box({})), link=None, ipv4=None, ipv6=None),\n",
       " Interface(name='eth1', type='ethernet', id='40e9535a-8ac5-42a2-8891-ea73046a3dd4', alias='eth1', device=Device(name='myDevice123', type=None, id='0d3ca298-6ac7-4d99-b515-49d53824354b', alias=None, os=None, testbed=None, interfaces=Box({}), tacacs={}, passwords={}, credentials=Box({}), connections=Box({}), connection_manager=None, clean=Box({}), custom=Box({})), link=None, ipv4=None, ipv6=None)}"
      ]
     },
     "execution_count": 27,
     "metadata": {},
     "output_type": "execute_result"
    }
   ],
   "source": [
    "link_a.connected_interfaces"
   ]
  },
  {
   "cell_type": "code",
   "execution_count": null,
   "metadata": {},
   "outputs": [],
   "source": []
  }
 ],
 "metadata": {
  "kernelspec": {
   "display_name": ".venv",
   "language": "python",
   "name": "python3"
  },
  "language_info": {
   "codemirror_mode": {
    "name": "ipython",
    "version": 3
   },
   "file_extension": ".py",
   "mimetype": "text/x-python",
   "name": "python",
   "nbconvert_exporter": "python",
   "pygments_lexer": "ipython3",
   "version": "3.11.4"
  },
  "orig_nbformat": 4
 },
 "nbformat": 4,
 "nbformat_minor": 2
}
