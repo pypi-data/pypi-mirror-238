{
 "cells": [
  {
   "cell_type": "code",
   "execution_count": 19,
   "metadata": {},
   "outputs": [
    {
     "name": "stdout",
     "output_type": "stream",
     "text": [
      "Found existing installation: guerrilla 0.1.0\n",
      "Uninstalling guerrilla-0.1.0:\n",
      "  Successfully uninstalled guerrilla-0.1.0\n",
      "Processing /home/kane/Projects/guerrilla\n",
      "  Installing build dependencies ... \u001b[?25ldone\n",
      "\u001b[?25h  Getting requirements to build wheel ... \u001b[?25ldone\n",
      "\u001b[?25h  Preparing metadata (pyproject.toml) ... \u001b[?25ldone\n",
      "\u001b[?25hRequirement already satisfied: scapy>=2.5.0 in /home/kane/Projects/guerrilla/.venv/lib/python3.11/site-packages (from guerrilla==0.1.0) (2.5.0)\n",
      "Requirement already satisfied: pexpect>=4.8.0 in /home/kane/Projects/guerrilla/.venv/lib/python3.11/site-packages (from guerrilla==0.1.0) (4.8.0)\n",
      "Requirement already satisfied: pyserial>=3.5 in /home/kane/Projects/guerrilla/.venv/lib/python3.11/site-packages (from guerrilla==0.1.0) (3.5)\n",
      "Requirement already satisfied: textfsm>=1.1.3 in /home/kane/Projects/guerrilla/.venv/lib/python3.11/site-packages (from guerrilla==0.1.0) (1.1.3)\n",
      "Requirement already satisfied: behave>=1.2.6 in /home/kane/Projects/guerrilla/.venv/lib/python3.11/site-packages (from guerrilla==0.1.0) (1.2.6)\n",
      "Requirement already satisfied: python-box>=7.1.1 in /home/kane/Projects/guerrilla/.venv/lib/python3.11/site-packages (from guerrilla==0.1.0) (7.1.1)\n",
      "Requirement already satisfied: parse>=1.8.2 in /home/kane/Projects/guerrilla/.venv/lib/python3.11/site-packages (from behave>=1.2.6->guerrilla==0.1.0) (1.19.1)\n",
      "Requirement already satisfied: parse-type>=0.4.2 in /home/kane/Projects/guerrilla/.venv/lib/python3.11/site-packages (from behave>=1.2.6->guerrilla==0.1.0) (0.6.2)\n",
      "Requirement already satisfied: six>=1.11 in /home/kane/Projects/guerrilla/.venv/lib/python3.11/site-packages (from behave>=1.2.6->guerrilla==0.1.0) (1.16.0)\n",
      "Requirement already satisfied: ptyprocess>=0.5 in /home/kane/Projects/guerrilla/.venv/lib/python3.11/site-packages (from pexpect>=4.8.0->guerrilla==0.1.0) (0.7.0)\n",
      "Requirement already satisfied: future in /home/kane/Projects/guerrilla/.venv/lib/python3.11/site-packages (from textfsm>=1.1.3->guerrilla==0.1.0) (0.18.3)\n",
      "Building wheels for collected packages: guerrilla\n",
      "  Building wheel for guerrilla (pyproject.toml) ... \u001b[?25ldone\n",
      "\u001b[?25h  Created wheel for guerrilla: filename=guerrilla-0.1.0-py3-none-any.whl size=197853 sha256=652f6f1b69d5ae0e0b58381381ac52b43ef634734540671e9006cf3d22e84083\n",
      "  Stored in directory: /tmp/pip-ephem-wheel-cache-tj5zsvls/wheels/90/79/dc/791091184159897e65326fdb7d0c5fb4108feae11220a99455\n",
      "Successfully built guerrilla\n",
      "Installing collected packages: guerrilla\n",
      "Successfully installed guerrilla-0.1.0\n"
     ]
    }
   ],
   "source": [
    "!pip uninstall guerrilla -y\n",
    "!pip install ../../.."
   ]
  },
  {
   "cell_type": "code",
   "execution_count": 20,
   "metadata": {},
   "outputs": [],
   "source": [
    "from guerrilla.topology import Testbed, Device"
   ]
  },
  {
   "cell_type": "code",
   "execution_count": 21,
   "metadata": {},
   "outputs": [],
   "source": [
    "# create some device objects for demonstration's sake\n",
    "device_a = Device('A')\n",
    "device_b = Device('B')\n",
    "device_c = Device('C')\n",
    "device_d = Device('D')"
   ]
  },
  {
   "cell_type": "code",
   "execution_count": 22,
   "metadata": {},
   "outputs": [],
   "source": [
    "# creating an empty testbed\n",
    "testbed_a = Testbed(name = 'emptyTestbed')"
   ]
  },
  {
   "cell_type": "code",
   "execution_count": 23,
   "metadata": {},
   "outputs": [],
   "source": [
    "# creating a testbed with an alias\n",
    "testbed_b = Testbed(name = 'myTestbed',\n",
    "                    alias = 'yetAnotherTestbed')"
   ]
  },
  {
   "cell_type": "code",
   "execution_count": 24,
   "metadata": {},
   "outputs": [],
   "source": [
    "# creating a testbed with devices\n",
    "testbed_c = Testbed(name = 'testbedWithDevicesFromStart',\n",
    "                    devices = [device_a, device_b])\n"
   ]
  },
  {
   "cell_type": "code",
   "execution_count": 25,
   "metadata": {},
   "outputs": [
    {
     "data": {
      "text/plain": [
       "Box({'A': Device(name='A', type=None, id='a601205e-977b-424e-8f12-1e42e97f4ae3', alias=None, os=None, testbed=None, interfaces=Box({}), tacacs={}, passwords={}, credentials=Box({}), connections=Box({}), connection_manager=None, clean=Box({}), custom=Box({})), 'B': Device(name='B', type=None, id='369b8f14-f0db-438b-9a89-2fe3d91404bd', alias=None, os=None, testbed=None, interfaces=Box({}), tacacs={}, passwords={}, credentials=Box({}), connections=Box({}), connection_manager=None, clean=Box({}), custom=Box({}))})"
      ]
     },
     "execution_count": 25,
     "metadata": {},
     "output_type": "execute_result"
    }
   ],
   "source": [
    "testbed_c.devices"
   ]
  },
  {
   "cell_type": "code",
   "execution_count": 26,
   "metadata": {},
   "outputs": [
    {
     "data": {
      "text/plain": [
       "Box({'C': Device(name='C', type=None, id='f4364c3c-b53d-4c5c-ba3a-185fe6a257e1', alias=None, os=None, testbed=None, interfaces=Box({}), tacacs={}, passwords={}, credentials=Box({}), connections=Box({}), connection_manager=None, clean=Box({}), custom=Box({}))})"
      ]
     },
     "execution_count": 26,
     "metadata": {},
     "output_type": "execute_result"
    }
   ],
   "source": [
    "# adding devices into testbeds\n",
    "testbed_d = Testbed(name = 'testbedToReceiveDevices')\n",
    "testbed_d.add_device(device_c)"
   ]
  },
  {
   "cell_type": "code",
   "execution_count": 27,
   "metadata": {},
   "outputs": [],
   "source": [
    "# removing devices from a testbed\n",
    "testbed_e = Testbed(name = 'testbedToRemoveDevices',\n",
    "                    devices = [device_d])"
   ]
  },
  {
   "cell_type": "code",
   "execution_count": 28,
   "metadata": {},
   "outputs": [
    {
     "data": {
      "text/plain": [
       "Box({})"
      ]
     },
     "execution_count": 28,
     "metadata": {},
     "output_type": "execute_result"
    }
   ],
   "source": [
    "testbed_e.remove_device(device_d)\n",
    "testbed_e.devices"
   ]
  },
  {
   "cell_type": "code",
   "execution_count": 29,
   "metadata": {},
   "outputs": [],
   "source": [
    "# squeezing a testbed to keep only wanted devices\n",
    "testbed_e = Testbed(name = 'testbedToSqueeze',\n",
    "                    devices = [device_a, device_b, device_c])"
   ]
  },
  {
   "cell_type": "code",
   "execution_count": 30,
   "metadata": {},
   "outputs": [
    {
     "data": {
      "text/plain": [
       "{'B': Device(name='B', type=None, id='369b8f14-f0db-438b-9a89-2fe3d91404bd', alias=None, os=None, testbed=None, interfaces=Box({}), tacacs={}, passwords={}, credentials=Box({}), connections=Box({}), connection_manager=None, clean=Box({}), custom=Box({})),\n",
       " 'C': Device(name='C', type=None, id='f4364c3c-b53d-4c5c-ba3a-185fe6a257e1', alias=None, os=None, testbed=None, interfaces=Box({}), tacacs={}, passwords={}, credentials=Box({}), connections=Box({}), connection_manager=None, clean=Box({}), custom=Box({}))}"
      ]
     },
     "execution_count": 30,
     "metadata": {},
     "output_type": "execute_result"
    }
   ],
   "source": [
    "testbed_e.squeeze(device_b.name, device_c.name)"
   ]
  },
  {
   "cell_type": "code",
   "execution_count": 31,
   "metadata": {},
   "outputs": [
    {
     "data": {
      "text/plain": [
       "{'B': Device(name='B', type=None, id='369b8f14-f0db-438b-9a89-2fe3d91404bd', alias=None, os=None, testbed=None, interfaces=Box({}), tacacs={}, passwords={}, credentials=Box({}), connections=Box({}), connection_manager=None, clean=Box({}), custom=Box({})),\n",
       " 'C': Device(name='C', type=None, id='f4364c3c-b53d-4c5c-ba3a-185fe6a257e1', alias=None, os=None, testbed=None, interfaces=Box({}), tacacs={}, passwords={}, credentials=Box({}), connections=Box({}), connection_manager=None, clean=Box({}), custom=Box({}))}"
      ]
     },
     "execution_count": 31,
     "metadata": {},
     "output_type": "execute_result"
    }
   ],
   "source": [
    "testbed_e.devices"
   ]
  },
  {
   "cell_type": "code",
   "execution_count": 32,
   "metadata": {},
   "outputs": [],
   "source": [
    "# testing whether testbed contains a device\n",
    "# use the \"in\" operator\n",
    "assert device_d not in testbed_e\n",
    "assert device_c in testbed_d"
   ]
  },
  {
   "cell_type": "code",
   "execution_count": 33,
   "metadata": {},
   "outputs": [
    {
     "name": "stdout",
     "output_type": "stream",
     "text": [
      "A\n",
      "B\n"
     ]
    }
   ],
   "source": [
    "# looping over a testbed's devices\n",
    "for device in testbed_c:\n",
    "    print(device.name)"
   ]
  },
  {
   "cell_type": "code",
   "execution_count": 34,
   "metadata": {},
   "outputs": [],
   "source": [
    "# Setting default credentials on a testbed\n",
    "# Note that, once set, credentials may be accessed via dot notation.\n",
    "testbed_a.credentials['default'] = dict(username='defaultuser', password='defaultpw')\n",
    "assert testbed_a.credentials.default.username == 'defaultuser'"
   ]
  },
  {
   "cell_type": "code",
   "execution_count": 35,
   "metadata": {},
   "outputs": [],
   "source": [
    "# Setting credentials on a testbed\n",
    "# Note that, once set, credentials may be accessed via dot notation.\n",
    "testbed_a.credentials['tbcreds'] = dict(username='tbuser', password='tbpw')\n",
    "assert testbed_a.credentials.tbcreds.username == 'tbuser'"
   ]
  },
  {
   "cell_type": "code",
   "execution_count": null,
   "metadata": {},
   "outputs": [],
   "source": []
  }
 ],
 "metadata": {
  "kernelspec": {
   "display_name": ".venv",
   "language": "python",
   "name": "python3"
  },
  "language_info": {
   "codemirror_mode": {
    "name": "ipython",
    "version": 3
   },
   "file_extension": ".py",
   "mimetype": "text/x-python",
   "name": "python",
   "nbconvert_exporter": "python",
   "pygments_lexer": "ipython3",
   "version": "3.11.4"
  },
  "orig_nbformat": 4
 },
 "nbformat": 4,
 "nbformat_minor": 2
}
