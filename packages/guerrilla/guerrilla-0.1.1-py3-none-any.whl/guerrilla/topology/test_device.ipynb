{
 "cells": [
  {
   "cell_type": "code",
   "execution_count": 1,
   "metadata": {},
   "outputs": [
    {
     "name": "stdout",
     "output_type": "stream",
     "text": [
      "Found existing installation: guerrilla 0.1.0\n",
      "Uninstalling guerrilla-0.1.0:\n",
      "  Successfully uninstalled guerrilla-0.1.0\n",
      "Processing /home/kane/Projects/guerrilla\n",
      "  Installing build dependencies ... \u001b[?25ldone\n",
      "\u001b[?25h  Getting requirements to build wheel ... \u001b[?25ldone\n",
      "\u001b[?25h  Preparing metadata (pyproject.toml) ... \u001b[?25ldone\n",
      "\u001b[?25hRequirement already satisfied: scapy>=2.5.0 in /home/kane/Projects/guerrilla/.venv/lib/python3.11/site-packages (from guerrilla==0.1.0) (2.5.0)\n",
      "Requirement already satisfied: pexpect>=4.8.0 in /home/kane/Projects/guerrilla/.venv/lib/python3.11/site-packages (from guerrilla==0.1.0) (4.8.0)\n",
      "Requirement already satisfied: pyserial>=3.5 in /home/kane/Projects/guerrilla/.venv/lib/python3.11/site-packages (from guerrilla==0.1.0) (3.5)\n",
      "Requirement already satisfied: textfsm>=1.1.3 in /home/kane/Projects/guerrilla/.venv/lib/python3.11/site-packages (from guerrilla==0.1.0) (1.1.3)\n",
      "Requirement already satisfied: behave>=1.2.6 in /home/kane/Projects/guerrilla/.venv/lib/python3.11/site-packages (from guerrilla==0.1.0) (1.2.6)\n",
      "Requirement already satisfied: python-box>=7.1.1 in /home/kane/Projects/guerrilla/.venv/lib/python3.11/site-packages (from guerrilla==0.1.0) (7.1.1)\n",
      "Requirement already satisfied: parse>=1.8.2 in /home/kane/Projects/guerrilla/.venv/lib/python3.11/site-packages (from behave>=1.2.6->guerrilla==0.1.0) (1.19.1)\n",
      "Requirement already satisfied: parse-type>=0.4.2 in /home/kane/Projects/guerrilla/.venv/lib/python3.11/site-packages (from behave>=1.2.6->guerrilla==0.1.0) (0.6.2)\n",
      "Requirement already satisfied: six>=1.11 in /home/kane/Projects/guerrilla/.venv/lib/python3.11/site-packages (from behave>=1.2.6->guerrilla==0.1.0) (1.16.0)\n",
      "Requirement already satisfied: ptyprocess>=0.5 in /home/kane/Projects/guerrilla/.venv/lib/python3.11/site-packages (from pexpect>=4.8.0->guerrilla==0.1.0) (0.7.0)\n",
      "Requirement already satisfied: future in /home/kane/Projects/guerrilla/.venv/lib/python3.11/site-packages (from textfsm>=1.1.3->guerrilla==0.1.0) (0.18.3)\n",
      "Building wheels for collected packages: guerrilla\n",
      "  Building wheel for guerrilla (pyproject.toml) ... \u001b[?25ldone\n",
      "\u001b[?25h  Created wheel for guerrilla: filename=guerrilla-0.1.0-py3-none-any.whl size=193704 sha256=0f43f8c34883c31b0d6c3813da7312b0da10fd32ae4d961fa3d67544524f7b63\n",
      "  Stored in directory: /tmp/pip-ephem-wheel-cache-czib2_91/wheels/90/79/dc/791091184159897e65326fdb7d0c5fb4108feae11220a99455\n",
      "Successfully built guerrilla\n",
      "Installing collected packages: guerrilla\n",
      "Successfully installed guerrilla-0.1.0\n"
     ]
    }
   ],
   "source": [
    "!pip uninstall guerrilla -y\n",
    "!pip install ../../../"
   ]
  },
  {
   "cell_type": "code",
   "execution_count": 2,
   "metadata": {},
   "outputs": [],
   "source": [
    "from guerrilla.topology import Testbed, Device, Interface, Link\n"
   ]
  },
  {
   "cell_type": "code",
   "execution_count": 3,
   "metadata": {},
   "outputs": [],
   "source": [
    "# create some interfaces for adding to devices\n",
    "intf_a = Interface('Eth1/1', 'ethernet')\n",
    "intf_b = Interface('Eth2/1', 'ethernet')"
   ]
  },
  {
   "cell_type": "code",
   "execution_count": 4,
   "metadata": {},
   "outputs": [],
   "source": [
    "# creating a testbed for demonstration's sake\n",
    "testbed = Testbed('exampleTestbed')"
   ]
  },
  {
   "cell_type": "code",
   "execution_count": 5,
   "metadata": {},
   "outputs": [],
   "source": [
    "# creating an empty device\n",
    "device_a = Device('emptyDevice')\n",
    "# giving device a different alias\n",
    "device_a.alias = 'newAlias'\n",
    "# set device os\n",
    "device_a.os = 'iosxe'"
   ]
  },
  {
   "cell_type": "code",
   "execution_count": 6,
   "metadata": {},
   "outputs": [],
   "source": [
    "# creating a device with connection parameters\n",
    "device_b = Device('deviceThatCanBeConnected',\n",
    "                  os='iosxe',\n",
    "                  connections={\n",
    "                      'mgmt': {\n",
    "                          'protocol': 'telnet',\n",
    "                          'ip': '1.1.1.1'\n",
    "                      },\n",
    "                  })\n"
   ]
  },
  {
   "cell_type": "code",
   "execution_count": 7,
   "metadata": {},
   "outputs": [
    {
     "data": {
      "text/plain": [
       "Device(name='deviceThatCanBeConnected', type=None, id='f9533761-c77c-4770-b706-30f81aca3b50', alias=None, os='iosxe', testbed=None, interfaces=Box({}), tacacs={}, passwords={}, credentials=Box({}), connections={'mgmt': {'protocol': 'telnet', 'ip': '1.1.1.1'}}, connection_manager=None, clean=Box({}), custom=Box({}))"
      ]
     },
     "execution_count": 7,
     "metadata": {},
     "output_type": "execute_result"
    }
   ],
   "source": [
    "device_b"
   ]
  },
  {
   "cell_type": "code",
   "execution_count": 8,
   "metadata": {},
   "outputs": [],
   "source": [
    "# adding interface to device objects\n",
    "device_b.add_interface(intf_a)"
   ]
  },
  {
   "cell_type": "code",
   "execution_count": 9,
   "metadata": {},
   "outputs": [],
   "source": [
    "# creating device with interfaces\n",
    "device_c = Device('deviceCreatedWithIntfs',\n",
    "                  os='iosxe',\n",
    "                  interfaces = [intf_b])"
   ]
  },
  {
   "cell_type": "code",
   "execution_count": 10,
   "metadata": {},
   "outputs": [],
   "source": [
    "# associating a device to a testbed can be done either by performing\n",
    "# a testbed.add_device() call, or directly by setting a device's testbed\n",
    "# attribute, which automatically performs the parent add_device() call\n",
    "device_c.testbed = testbed"
   ]
  },
  {
   "cell_type": "code",
   "execution_count": 11,
   "metadata": {},
   "outputs": [
    {
     "data": {
      "text/plain": [
       "Interface(name='Eth2/1', type='ethernet', id='6236da56-0183-4e93-a40f-97e1cc7a7748', alias='Eth2/1', device=None, link=None, ipv4=None, ipv6=None)"
      ]
     },
     "execution_count": 11,
     "metadata": {},
     "output_type": "execute_result"
    }
   ],
   "source": [
    "intf_b"
   ]
  },
  {
   "cell_type": "code",
   "execution_count": 12,
   "metadata": {},
   "outputs": [
    {
     "name": "stdout",
     "output_type": "stream",
     "text": [
      "Interface(name='Eth2/1', type='ethernet', id='6236da56-0183-4e93-a40f-97e1cc7a7748', alias='Eth2/1', device=None, link=None, ipv4=None, ipv6=None)\n"
     ]
    }
   ],
   "source": [
    "for intf in device_c:\n",
    "    print(intf)"
   ]
  },
  {
   "cell_type": "code",
   "execution_count": 13,
   "metadata": {},
   "outputs": [],
   "source": [
    "# checking if an intf object belongs to a device can be done\n",
    "# using the in operator\n",
    "assert intf_b in device_c"
   ]
  },
  {
   "cell_type": "code",
   "execution_count": 14,
   "metadata": {},
   "outputs": [
    {
     "name": "stdout",
     "output_type": "stream",
     "text": [
      "Eth2/1\n"
     ]
    }
   ],
   "source": [
    "# loop through interfaces on a device\n",
    "for intf in device_c:\n",
    "    print(intf.name)"
   ]
  },
  {
   "cell_type": "code",
   "execution_count": 15,
   "metadata": {},
   "outputs": [],
   "source": [
    "# Setting credentials on a device\n",
    "#\n",
    "# Testbed credentials may be read via device credentials\n",
    "# if they have not been defined at a device level and the device has\n",
    "# an assigned testbed.\n",
    "#\n",
    "# Once set, credentials may be accessed via dot notation.\n",
    "testbed.credentials['default'] = dict(username='defaultuser', password='defaultpw')\n",
    "assert testbed.credentials.default.username == 'defaultuser'"
   ]
  },
  {
   "cell_type": "code",
   "execution_count": 16,
   "metadata": {},
   "outputs": [],
   "source": [
    "testbed.credentials['tbcreds'] = dict(username='tbuser', password='tbpw')\n",
    "device_c.credentials['devcreds'] = dict(username='devuser', password='devpw')\n",
    "assert 'tbcreds' in testbed.credentials\n",
    "assert 'devcreds' in device_c.credentials"
   ]
  },
  {
   "cell_type": "code",
   "execution_count": 17,
   "metadata": {},
   "outputs": [],
   "source": [
    "# Missing credentials fall back to default credential if present\n",
    "assert testbed.credentials.unknowncred.username == 'defaultuser'"
   ]
  },
  {
   "cell_type": "code",
   "execution_count": null,
   "metadata": {},
   "outputs": [],
   "source": []
  }
 ],
 "metadata": {
  "kernelspec": {
   "display_name": ".venv",
   "language": "python",
   "name": "python3"
  },
  "language_info": {
   "codemirror_mode": {
    "name": "ipython",
    "version": 3
   },
   "file_extension": ".py",
   "mimetype": "text/x-python",
   "name": "python",
   "nbconvert_exporter": "python",
   "pygments_lexer": "ipython3",
   "version": "3.11.4"
  },
  "orig_nbformat": 4
 },
 "nbformat": 4,
 "nbformat_minor": 2
}
