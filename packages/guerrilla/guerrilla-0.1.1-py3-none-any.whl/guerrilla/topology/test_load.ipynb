{
 "cells": [
  {
   "cell_type": "code",
   "execution_count": 110,
   "metadata": {},
   "outputs": [],
   "source": [
    "import yaml\n",
    "from pathlib import Path\n",
    "from guerrilla.topology import Testbed, Device, Interface, Link\n",
    "from box import Box\n",
    "\n",
    "def load(file_path: str):\n",
    "    fp = Path(file_path)\n",
    "    assert fp.is_file(), f'File not found: {fp}'\n",
    "    assert fp.suffix in ['.yaml', '.yml'], f'File must be a YAML file: {fp}'\n",
    "    \n",
    "    with open(fp, 'r', encoding='utf-8') as file:\n",
    "        data = Box(yaml.safe_load(file))\n",
    "    \n",
    "    # Create Testbed\n",
    "    testbed = Testbed(**data['testbed'], testbed_file=fp.resolve())\n",
    "\n",
    "    # Load topology (interfaces and links)\n",
    "    link_objects = {}  # Dictionary to store Link objects by their names\n",
    "\n",
    "    # Load devices\n",
    "    for device_name, device_data in data['devices'].items():\n",
    "        device = Device(**device_data)\n",
    "        testbed.add_device(device)\n",
    "\n",
    "    # Load topology (interfaces and links)\n",
    "    for device_name, topology_data in data['topology'].items():\n",
    "        device = testbed.devices[device_name]\n",
    "        # print(topology_data.interfaces.items())\n",
    "        for interface_name, interface_data in topology_data['interfaces'].items():\n",
    "            # print(interface_name, interface_data)\n",
    "            interface = Interface(name=interface_name, **interface_data)\n",
    "            device.add_interface(interface)\n",
    "\n",
    "\n",
    "            # Create or get the link and connect the interface\n",
    "            link_name = interface_data['link']\n",
    "            if link_name not in link_objects:\n",
    "                link_objects[link_name] = Link(name=link_name)\n",
    "            link = link_objects[link_name]\n",
    "            link.connect_interface(interface)\n",
    "            interface.link = link\n",
    "\n",
    "    return data, testbed"
   ]
  },
  {
   "cell_type": "code",
   "execution_count": 111,
   "metadata": {},
   "outputs": [],
   "source": [
    "fp = 'sample_testbed.yaml'\n",
    "data, testbed = load('sample_testbed.yaml')"
   ]
  },
  {
   "cell_type": "code",
   "execution_count": 112,
   "metadata": {},
   "outputs": [
    {
     "data": {
      "text/plain": [
       "PosixPath('/home/kane/Projects/guerrilla/src/guerrilla/topology/sample_testbed.yaml')"
      ]
     },
     "execution_count": 112,
     "metadata": {},
     "output_type": "execute_result"
    }
   ],
   "source": [
    "\n",
    "testbed.testbed_file"
   ]
  },
  {
   "cell_type": "code",
   "execution_count": null,
   "metadata": {},
   "outputs": [],
   "source": []
  }
 ],
 "metadata": {
  "kernelspec": {
   "display_name": ".venv",
   "language": "python",
   "name": "python3"
  },
  "language_info": {
   "codemirror_mode": {
    "name": "ipython",
    "version": 3
   },
   "file_extension": ".py",
   "mimetype": "text/x-python",
   "name": "python",
   "nbconvert_exporter": "python",
   "pygments_lexer": "ipython3",
   "version": "3.11.4"
  },
  "orig_nbformat": 4
 },
 "nbformat": 4,
 "nbformat_minor": 2
}
