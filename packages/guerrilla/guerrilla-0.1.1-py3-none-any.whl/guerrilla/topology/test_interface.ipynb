{
 "cells": [
  {
   "cell_type": "code",
   "execution_count": 2,
   "metadata": {},
   "outputs": [],
   "source": [
    "from guerrilla.topology import Device, Link, Interface"
   ]
  },
  {
   "cell_type": "code",
   "execution_count": 3,
   "metadata": {},
   "outputs": [],
   "source": [
    "device_a = Device('myDevice_a')\n",
    "device_b = Device('myDevice_b')\n",
    "link = Link('newlink')"
   ]
  },
  {
   "cell_type": "code",
   "execution_count": 4,
   "metadata": {},
   "outputs": [
    {
     "data": {
      "text/plain": [
       "Device(name='myDevice_a', type=None, id='04d7e9f1-b205-49d7-be18-eb4915a475d2', alias=None, os=None, testbed=None, interfaces=Box({}), tacacs={}, passwords={}, credentials=Box({}), connections=Box({}), connection_manager=None, clean=Box({}), custom=Box({}))"
      ]
     },
     "execution_count": 4,
     "metadata": {},
     "output_type": "execute_result"
    }
   ],
   "source": [
    "device_a"
   ]
  },
  {
   "cell_type": "code",
   "execution_count": 5,
   "metadata": {},
   "outputs": [
    {
     "data": {
      "text/plain": [
       "Device(name='myDevice_b', type=None, id='4e190673-e290-41a8-a3b0-e7c5e2dda55d', alias=None, os=None, testbed=None, interfaces=Box({}), tacacs={}, passwords={}, credentials=Box({}), connections=Box({}), connection_manager=None, clean=Box({}), custom=Box({}))"
      ]
     },
     "execution_count": 5,
     "metadata": {},
     "output_type": "execute_result"
    }
   ],
   "source": [
    "device_b"
   ]
  },
  {
   "cell_type": "code",
   "execution_count": 6,
   "metadata": {},
   "outputs": [],
   "source": [
    "interface_a = Interface('eth0', type = 'ethernet')"
   ]
  },
  {
   "cell_type": "code",
   "execution_count": 24,
   "metadata": {},
   "outputs": [],
   "source": [
    "link.connect_interface(interface_a)"
   ]
  },
  {
   "cell_type": "code",
   "execution_count": 7,
   "metadata": {},
   "outputs": [],
   "source": [
    "interface_b = Interface('Ethernet1/1',\n",
    "                        type = 'ethernet',\n",
    "                        link = link,\n",
    "                        device = device_a)"
   ]
  },
  {
   "cell_type": "code",
   "execution_count": 8,
   "metadata": {},
   "outputs": [],
   "source": [
    "interface_c = Interface('Ethernet2/1',\n",
    "                        type = 'ethernet',\n",
    "                        alias = 'myinterface',\n",
    "                        link = link,\n",
    "                        device = device_b)"
   ]
  },
  {
   "cell_type": "code",
   "execution_count": 9,
   "metadata": {},
   "outputs": [],
   "source": [
    "link.connect_interface(interface_b)"
   ]
  },
  {
   "cell_type": "code",
   "execution_count": 10,
   "metadata": {},
   "outputs": [],
   "source": [
    "link.connect_interface(interface_c)"
   ]
  },
  {
   "cell_type": "code",
   "execution_count": 11,
   "metadata": {},
   "outputs": [],
   "source": [
    "interface_a.device = device_a"
   ]
  },
  {
   "cell_type": "code",
   "execution_count": 31,
   "metadata": {},
   "outputs": [
    {
     "data": {
      "text/plain": [
       "{Interface(name='Ethernet1/1', type='ethernet', id='b2cdbd00-d288-42cb-a15a-a5810a7f986d', alias='Ethernet1/1', device=Device(name='myDevice_a', type=None, id='04d7e9f1-b205-49d7-be18-eb4915a475d2', alias=None, os=None, testbed=None, interfaces=Box({}), tacacs={}, passwords={}, credentials=Box({}), connections=Box({}), connection_manager=None, clean=Box({}), custom=Box({})), link=<weakref at 0x7fc0cd759030; to 'Link' at 0x7fc0cd721450>, ipv4=None, ipv6=None),\n",
       " Interface(name='eth0', type='ethernet', id='185705e3-45c1-444f-abd8-155d5042c562', alias='eth0', device=Device(name='myDevice_a', type=None, id='04d7e9f1-b205-49d7-be18-eb4915a475d2', alias=None, os=None, testbed=None, interfaces=Box({}), tacacs={}, passwords={}, credentials=Box({}), connections=Box({}), connection_manager=None, clean=Box({}), custom=Box({})), link=<weakref at 0x7fc0cd759030; to 'Link' at 0x7fc0cd721450>, ipv4=None, ipv6=None)}"
      ]
     },
     "execution_count": 31,
     "metadata": {},
     "output_type": "execute_result"
    }
   ],
   "source": [
    "interface_c.remote_interfaces"
   ]
  },
  {
   "cell_type": "code",
   "execution_count": 28,
   "metadata": {},
   "outputs": [
    {
     "data": {
      "text/plain": [
       "{Interface(name='Ethernet2/1', type='ethernet', id='1d06c5f3-d19b-48b5-833c-2021ced3c5b8', alias='myinterface', device=Device(name='myDevice_b', type=None, id='4e190673-e290-41a8-a3b0-e7c5e2dda55d', alias=None, os=None, testbed=None, interfaces=Box({}), tacacs={}, passwords={}, credentials=Box({}), connections=Box({}), connection_manager=None, clean=Box({}), custom=Box({})), link=<weakref at 0x7fc0cd759030; to 'Link' at 0x7fc0cd721450>, ipv4=None, ipv6=None),\n",
       " Interface(name='eth0', type='ethernet', id='185705e3-45c1-444f-abd8-155d5042c562', alias='eth0', device=Device(name='myDevice_a', type=None, id='04d7e9f1-b205-49d7-be18-eb4915a475d2', alias=None, os=None, testbed=None, interfaces=Box({}), tacacs={}, passwords={}, credentials=Box({}), connections=Box({}), connection_manager=None, clean=Box({}), custom=Box({})), link=<weakref at 0x7fc0cd759030; to 'Link' at 0x7fc0cd721450>, ipv4=None, ipv6=None)}"
      ]
     },
     "execution_count": 28,
     "metadata": {},
     "output_type": "execute_result"
    }
   ],
   "source": [
    "interface_b.remote_interfaces"
   ]
  },
  {
   "cell_type": "code",
   "execution_count": 26,
   "metadata": {},
   "outputs": [
    {
     "data": {
      "text/plain": [
       "Device(name='myDevice_b', type=None, id='4e190673-e290-41a8-a3b0-e7c5e2dda55d', alias=None, os=None, testbed=None, interfaces=Box({}), tacacs={}, passwords={}, credentials=Box({}), connections=Box({}), connection_manager=None, clean=Box({}), custom=Box({}))"
      ]
     },
     "execution_count": 26,
     "metadata": {},
     "output_type": "execute_result"
    }
   ],
   "source": [
    "interface_c.device"
   ]
  },
  {
   "cell_type": "code",
   "execution_count": null,
   "metadata": {},
   "outputs": [
    {
     "data": {
      "text/plain": [
       "{Device(name='myDevice_b', id='4efa58da-a1f4-40e2-ac4e-27cbdb66f126', alias=None, os=None, type=None, testbed=None, interfaces={}, tacacs={}, passwords={}, credentials={}, connections={}, connection_manager=None, clean={}, custom={})}"
      ]
     },
     "execution_count": 14,
     "metadata": {},
     "output_type": "execute_result"
    }
   ],
   "source": [
    "interface_b.remote_devices"
   ]
  },
  {
   "cell_type": "code",
   "execution_count": null,
   "metadata": {},
   "outputs": [
    {
     "data": {
      "text/plain": [
       "{Device(name='myDevice_a', id='9b5cdbc7-87ab-4fc3-994d-f16a0773a94e', alias=None, os=None, type=None, testbed=None, interfaces={}, tacacs={}, passwords={}, credentials={}, connections={}, connection_manager=None, clean={}, custom={})}"
      ]
     },
     "execution_count": 15,
     "metadata": {},
     "output_type": "execute_result"
    }
   ],
   "source": [
    "interface_c.remote_devices"
   ]
  },
  {
   "cell_type": "code",
   "execution_count": null,
   "metadata": {},
   "outputs": [
    {
     "data": {
      "text/plain": [
       "{Device(name='myDevice_a', id='9b5cdbc7-87ab-4fc3-994d-f16a0773a94e', alias=None, os=None, type=None, testbed=None, interfaces={}, tacacs={}, passwords={}, credentials={}, connections={}, connection_manager=None, clean={}, custom={})}"
      ]
     },
     "execution_count": 16,
     "metadata": {},
     "output_type": "execute_result"
    }
   ],
   "source": [
    "set(device for device in interface_c.link.connected_devices if device != interface_c.device)"
   ]
  },
  {
   "cell_type": "code",
   "execution_count": null,
   "metadata": {},
   "outputs": [
    {
     "name": "stdout",
     "output_type": "stream",
     "text": [
      "Device(name='myDevice_b', id='4efa58da-a1f4-40e2-ac4e-27cbdb66f126', alias=None, os=None, type=None, testbed=None, interfaces={}, tacacs={}, passwords={}, credentials={}, connections={}, connection_manager=None, clean={}, custom={})\n",
      "Device(name='myDevice_b', id='4efa58da-a1f4-40e2-ac4e-27cbdb66f126', alias=None, os=None, type=None, testbed=None, interfaces={}, tacacs={}, passwords={}, credentials={}, connections={}, connection_manager=None, clean={}, custom={})\n",
      "True\n",
      "Device(name='myDevice_a', id='9b5cdbc7-87ab-4fc3-994d-f16a0773a94e', alias=None, os=None, type=None, testbed=None, interfaces={}, tacacs={}, passwords={}, credentials={}, connections={}, connection_manager=None, clean={}, custom={})\n",
      "Device(name='myDevice_b', id='4efa58da-a1f4-40e2-ac4e-27cbdb66f126', alias=None, os=None, type=None, testbed=None, interfaces={}, tacacs={}, passwords={}, credentials={}, connections={}, connection_manager=None, clean={}, custom={})\n",
      "False\n"
     ]
    }
   ],
   "source": [
    "for device in interface_c.link.connected_devices:\n",
    "    print(device)\n",
    "    print(interface_c.device)\n",
    "    print(device == interface_c.device)"
   ]
  },
  {
   "cell_type": "code",
   "execution_count": null,
   "metadata": {},
   "outputs": [],
   "source": []
  }
 ],
 "metadata": {
  "kernelspec": {
   "display_name": ".venv",
   "language": "python",
   "name": "python3"
  },
  "language_info": {
   "codemirror_mode": {
    "name": "ipython",
    "version": 3
   },
   "file_extension": ".py",
   "mimetype": "text/x-python",
   "name": "python",
   "nbconvert_exporter": "python",
   "pygments_lexer": "ipython3",
   "version": "3.11.4"
  },
  "orig_nbformat": 4
 },
 "nbformat": 4,
 "nbformat_minor": 2
}
