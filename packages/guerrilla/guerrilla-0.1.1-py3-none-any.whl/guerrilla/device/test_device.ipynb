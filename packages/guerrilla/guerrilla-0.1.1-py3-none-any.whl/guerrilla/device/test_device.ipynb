{
 "cells": [
  {
   "cell_type": "code",
   "execution_count": 1,
   "metadata": {},
   "outputs": [],
   "source": [
    "from guerrilla.device import Device"
   ]
  },
  {
   "cell_type": "code",
   "execution_count": 2,
   "metadata": {},
   "outputs": [
    {
     "name": "stdout",
     "output_type": "stream",
     "text": [
      "\u001b[32m2023-10-30 11:16:40.518\u001b[0m | \u001b[1mINFO    \u001b[0m | \u001b[36mguerrilla.connection.ssh\u001b[0m:\u001b[36m__post_init__\u001b[0m:\u001b[36m51\u001b[0m - \u001b[1mCreated EDR-G9010's SSH session to 192.168.127.254:22\u001b[0m\n"
     ]
    }
   ],
   "source": [
    "config = {\n",
    "        \"name\": \"EDR-G9010\",\n",
    "        \"type\": \"router\",\n",
    "        \"connections\": {\n",
    "            \"protocol\": \"ssh\",\n",
    "            \"host\": \"192.168.127.254\",\n",
    "            \"username\": \"admin\",\n",
    "            \"password\": \"moxa\",\n",
    "        },\n",
    "    }\n",
    "device = Device(config)"
   ]
  },
  {
   "cell_type": "code",
   "execution_count": 3,
   "metadata": {},
   "outputs": [
    {
     "name": "stdout",
     "output_type": "stream",
     "text": [
      "\u001b[32m2023-10-30 11:16:40.912\u001b[0m | \u001b[32m\u001b[1mSUCCESS \u001b[0m | \u001b[36mguerrilla.connection.ssh\u001b[0m:\u001b[36mconnect\u001b[0m:\u001b[36m78\u001b[0m - \u001b[32m\u001b[1mConnected to EDR-G9010 192.168.127.254:22\u001b[0m\n"
     ]
    }
   ],
   "source": [
    "device.connect()"
   ]
  },
  {
   "cell_type": "code",
   "execution_count": 4,
   "metadata": {},
   "outputs": [
    {
     "name": "stdout",
     "output_type": "stream",
     "text": [
      "\u001b[32m2023-10-30 11:16:41.117\u001b[0m | \u001b[34m\u001b[1mDEBUG   \u001b[0m | \u001b[36mguerrilla.connection.ssh\u001b[0m:\u001b[36mrun\u001b[0m:\u001b[36m230\u001b[0m - \u001b[34m\u001b[1mFrom \u001b[95mEDR-G9010\u001b[0m     \u001b[91msent command:\u001b[0m \u001b[0m\n",
      "\u001b[32m2023-10-30 11:16:41.619\u001b[0m | \u001b[34m\u001b[1mDEBUG   \u001b[0m | \u001b[36mguerrilla.connection.ssh\u001b[0m:\u001b[36mrun\u001b[0m:\u001b[36m234\u001b[0m - \u001b[34m\u001b[1mFrom \u001b[95mEDR-G9010\u001b[0m \u001b[92mreceived  output:\u001b[0m Firewall/VPN Router 00000#\u001b[0m\n",
      "\u001b[32m2023-10-30 11:16:41.620\u001b[0m | \u001b[34m\u001b[1mDEBUG   \u001b[0m | \u001b[36mguerrilla.connection.ssh\u001b[0m:\u001b[36mrun\u001b[0m:\u001b[36m230\u001b[0m - \u001b[34m\u001b[1mFrom \u001b[95mEDR-G9010\u001b[0m     \u001b[91msent command:\u001b[0m show version\u001b[0m\n",
      "\u001b[32m2023-10-30 11:16:42.121\u001b[0m | \u001b[34m\u001b[1mDEBUG   \u001b[0m | \u001b[36mguerrilla.connection.ssh\u001b[0m:\u001b[36mrun\u001b[0m:\u001b[36m234\u001b[0m - \u001b[34m\u001b[1mFrom \u001b[95mEDR-G9010\u001b[0m \u001b[92mreceived  output:\u001b[0m show version\n",
      "Model Name                   : EDR-G9010-VPN-2MGSFP-T\n",
      "Firmware Version             : V3.2.99 build 23102123\n",
      "Firewall/VPN Router 00000#\u001b[0m\n"
     ]
    },
    {
     "data": {
      "text/plain": [
       "'show version\\r\\nModel Name                   : EDR-G9010-VPN-2MGSFP-T\\r\\r\\nFirmware Version             : V3.2.99 build 23102123\\r\\r\\nFirewall/VPN Router 00000# '"
      ]
     },
     "execution_count": 4,
     "metadata": {},
     "output_type": "execute_result"
    }
   ],
   "source": [
    "device.show_version()"
   ]
  },
  {
   "cell_type": "code",
   "execution_count": 9,
   "metadata": {},
   "outputs": [
    {
     "name": "stdout",
     "output_type": "stream",
     "text": [
      "\u001b[32m2023-10-30 11:20:36.258\u001b[0m | \u001b[34m\u001b[1mDEBUG   \u001b[0m | \u001b[36mguerrilla.connection.ssh\u001b[0m:\u001b[36mrun\u001b[0m:\u001b[36m230\u001b[0m - \u001b[34m\u001b[1mFrom \u001b[95mEDR-G9010\u001b[0m     \u001b[91msent command:\u001b[0m configure\u001b[0m\n",
      "\u001b[32m2023-10-30 11:20:36.759\u001b[0m | \u001b[34m\u001b[1mDEBUG   \u001b[0m | \u001b[36mguerrilla.connection.ssh\u001b[0m:\u001b[36mrun\u001b[0m:\u001b[36m234\u001b[0m - \u001b[34m\u001b[1mFrom \u001b[95mEDR-G9010\u001b[0m \u001b[92mreceived  output:\u001b[0m configure\n",
      "                                         ^Parse error\n",
      "Firewall/VPN Router 00000(config)#\u001b[0m\n",
      "\u001b[32m2023-10-30 11:20:36.760\u001b[0m | \u001b[33m\u001b[1mWARNING \u001b[0m | \u001b[36mguerrilla.device.router.router\u001b[0m:\u001b[36mrun\u001b[0m:\u001b[36m27\u001b[0m - \u001b[33m\u001b[1mCommand 'configure' not accepted\u001b[0m\n"
     ]
    },
    {
     "data": {
      "text/plain": [
       "'configure\\r\\n                                         ^Parse error\\r\\r\\nFirewall/VPN Router 00000(config)# '"
      ]
     },
     "execution_count": 9,
     "metadata": {},
     "output_type": "execute_result"
    }
   ],
   "source": [
    "device.run('configure')"
   ]
  },
  {
   "cell_type": "code",
   "execution_count": null,
   "metadata": {},
   "outputs": [],
   "source": []
  }
 ],
 "metadata": {
  "kernelspec": {
   "display_name": ".venv",
   "language": "python",
   "name": "python3"
  },
  "language_info": {
   "codemirror_mode": {
    "name": "ipython",
    "version": 3
   },
   "file_extension": ".py",
   "mimetype": "text/x-python",
   "name": "python",
   "nbconvert_exporter": "python",
   "pygments_lexer": "ipython3",
   "version": "3.12.0"
  }
 },
 "nbformat": 4,
 "nbformat_minor": 2
}
