{
 "cells": [
  {
   "cell_type": "markdown",
   "id": "2e4b8c0d",
   "metadata": {},
   "source": [
    "Matrix Example \n",
    "============"
   ]
  },
  {
   "cell_type": "code",
   "execution_count": null,
   "id": "98cc909f",
   "metadata": {},
   "outputs": [],
   "source": [
    "from dhllinalg.bla import Matrix"
   ]
  },
  {
   "cell_type": "markdown",
   "id": "9dc43e3c",
   "metadata": {},
   "source": [
    "### Create a matrix object"
   ]
  },
  {
   "cell_type": "code",
   "execution_count": null,
   "id": "3b05b291",
   "metadata": {},
   "outputs": [],
   "source": [
    "A = Matrix(10,10)"
   ]
  },
  {
   "cell_type": "code",
   "execution_count": null,
   "id": "c982c2ff",
   "metadata": {},
   "outputs": [],
   "source": [
    "for i in range(10):\n",
    "    for j in range(10):\n",
    "        A[i,j] = i + 2 * j"
   ]
  },
  {
   "cell_type": "code",
   "execution_count": null,
   "id": "7252a820",
   "metadata": {},
   "outputs": [],
   "source": [
    "print(A)"
   ]
  },
  {
   "cell_type": "markdown",
   "id": "35b2fd08",
   "metadata": {},
   "source": [
    "You can get matrix values by indexing with numbers or slicing"
   ]
  },
  {
   "cell_type": "code",
   "execution_count": null,
   "id": "aed00129",
   "metadata": {},
   "outputs": [],
   "source": [
    "print(f'First row of A: {A[1,:]}')"
   ]
  },
  {
   "cell_type": "markdown",
   "id": "56f084ab",
   "metadata": {},
   "source": [
    "### Matrix operations"
   ]
  },
  {
   "cell_type": "code",
   "execution_count": null,
   "id": "967f0350",
   "metadata": {},
   "outputs": [],
   "source": [
    "B = Matrix(10,10)\n",
    "B[:,:] = 10\n",
    "# matrix with all values equal to 10"
   ]
  },
  {
   "cell_type": "code",
   "execution_count": null,
   "id": "3aff89a4",
   "metadata": {},
   "outputs": [],
   "source": [
    "print(A + B)"
   ]
  },
  {
   "cell_type": "code",
   "execution_count": null,
   "id": "f2fccff7",
   "metadata": {},
   "outputs": [],
   "source": [
    "print(A * B)"
   ]
  },
  {
   "cell_type": "markdown",
   "id": "1065a0bc",
   "metadata": {},
   "source": [
    "### Matrix Vector Multiplication"
   ]
  },
  {
   "cell_type": "code",
   "execution_count": null,
   "id": "b3280182",
   "metadata": {},
   "outputs": [],
   "source": [
    "from dhllinalg.bla import Vector"
   ]
  },
  {
   "cell_type": "code",
   "execution_count": null,
   "id": "3f5659a3",
   "metadata": {},
   "outputs": [],
   "source": [
    "x = Vector(10)\n",
    "for i in range(10):\n",
    "    x[i] = i"
   ]
  },
  {
   "cell_type": "code",
   "execution_count": null,
   "id": "fbdfc041",
   "metadata": {},
   "outputs": [],
   "source": [
    "print(A * x)"
   ]
  },
  {
   "cell_type": "code",
   "execution_count": null,
   "id": "f88ab7fa",
   "metadata": {},
   "outputs": [],
   "source": []
  }
 ],
 "metadata": {
  "kernelspec": {
   "display_name": "Python 3 (ipykernel)",
   "language": "python",
   "name": "python3"
  },
  "language_info": {
   "codemirror_mode": {
    "name": "ipython",
    "version": 3
   },
   "file_extension": ".py",
   "mimetype": "text/x-python",
   "name": "python",
   "nbconvert_exporter": "python",
   "pygments_lexer": "ipython3",
   "version": "3.11.4"
  }
 },
 "nbformat": 4,
 "nbformat_minor": 5
}
