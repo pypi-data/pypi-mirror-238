{
 "cells": [
  {
   "cell_type": "markdown",
   "id": "01fd6b59",
   "metadata": {},
   "source": [
    "Vector Example \n",
    "============"
   ]
  },
  {
   "cell_type": "code",
   "execution_count": 2,
   "id": "870cb920",
   "metadata": {},
   "outputs": [],
   "source": [
    "from dhllinalg.bla import Vector"
   ]
  },
  {
   "cell_type": "code",
   "execution_count": 3,
   "id": "17833e11",
   "metadata": {},
   "outputs": [],
   "source": [
    "x = Vector(10)"
   ]
  },
  {
   "cell_type": "markdown",
   "id": "209a43b4",
   "metadata": {},
   "source": [
    "### Set values with slicing"
   ]
  },
  {
   "cell_type": "code",
   "execution_count": 10,
   "id": "6bff490b",
   "metadata": {},
   "outputs": [],
   "source": [
    "x[:] = 1"
   ]
  },
  {
   "cell_type": "code",
   "execution_count": 11,
   "id": "33993620",
   "metadata": {},
   "outputs": [
    {
     "name": "stdout",
     "output_type": "stream",
     "text": [
      "1, 1, 1, 1, 1, 1, 1, 1, 1, 1\n"
     ]
    }
   ],
   "source": [
    "print(x)"
   ]
  },
  {
   "cell_type": "code",
   "execution_count": 16,
   "id": "cc59657f",
   "metadata": {},
   "outputs": [
    {
     "name": "stdout",
     "output_type": "stream",
     "text": [
      "1, 3, 1, 3, 1, 3, 1, 3, 1, 1\n"
     ]
    }
   ],
   "source": [
    "x[1::2] = 3\n",
    "print(x)"
   ]
  },
  {
   "cell_type": "markdown",
   "id": "6401771c",
   "metadata": {},
   "source": [
    "### Vector Addition"
   ]
  },
  {
   "cell_type": "code",
   "execution_count": 17,
   "id": "1e0d34b6",
   "metadata": {},
   "outputs": [],
   "source": [
    "y = Vector(10) \n",
    "y[:] = 5"
   ]
  },
  {
   "cell_type": "code",
   "execution_count": 18,
   "id": "83f4d379",
   "metadata": {},
   "outputs": [
    {
     "name": "stdout",
     "output_type": "stream",
     "text": [
      "6, 8, 6, 8, 6, 8, 6, 8, 6, 6\n"
     ]
    }
   ],
   "source": [
    "print(x + y)"
   ]
  },
  {
   "cell_type": "code",
   "execution_count": null,
   "id": "19e0da9a",
   "metadata": {},
   "outputs": [],
   "source": []
  }
 ],
 "metadata": {
  "kernelspec": {
   "display_name": "Python 3 (ipykernel)",
   "language": "python",
   "name": "python3"
  },
  "language_info": {
   "codemirror_mode": {
    "name": "ipython",
    "version": 3
   },
   "file_extension": ".py",
   "mimetype": "text/x-python",
   "name": "python",
   "nbconvert_exporter": "python",
   "pygments_lexer": "ipython3",
   "version": "3.11.4"
  }
 },
 "nbformat": 4,
 "nbformat_minor": 5
}
