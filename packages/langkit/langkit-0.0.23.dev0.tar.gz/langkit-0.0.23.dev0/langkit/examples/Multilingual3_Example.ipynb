{
  "nbformat": 4,
  "nbformat_minor": 0,
  "metadata": {
    "colab": {
      "provenance": []
    },
    "kernelspec": {
      "name": "python3",
      "display_name": "Python 3"
    },
    "language_info": {
      "name": "python"
    }
  },
  "cells": [
    {
      "cell_type": "code",
      "execution_count": null,
      "metadata": {
        "id": "ZDUtcLEmtIlk"
      },
      "outputs": [],
      "source": [
        "%pip install -U ./langkit-0.0.22-py3-none-any.whl[all]"
      ]
    },
    {
      "cell_type": "markdown",
      "source": [
        "Let's say we want the standard LLM metrics for English prompts, but we don't want any metrics on the responses since they're in a different unsupported language. We can use the default configurations for the prompt metrics and set the response metric configurations to `None` to turn them off.\n",
        "\n",
        "*Leaves some text stat metrics on response column*"
      ],
      "metadata": {
        "id": "mqPATL2OvFAG"
      }
    },
    {
      "cell_type": "code",
      "source": [
        "import langkit.llm_metrics as llmm\n",
        "from langkit import LangKitConfig\n",
        "\n",
        "no_response_config = LangKitConfig(\n",
        "    response_pattern_file_path=None,  # regexes are semi-international, could leave this as default\n",
        "    response_sentiment_lexicon=None,\n",
        "    response_theme_file_path=None,\n",
        "    response_topic_model_path=None,\n",
        "    response_toxicity_model_path=None,\n",
        "    response_transformer_name=None,\n",
        ")\n",
        "schema = llmm.init(config=no_response_config)"
      ],
      "metadata": {
        "id": "0U_TM-3Xtx-Z"
      },
      "execution_count": null,
      "outputs": []
    },
    {
      "cell_type": "code",
      "source": [
        "import whylogs as why\n",
        "from langkit.whylogs.samples import load_chats, show_first_chat\n",
        "\n",
        "chats = load_chats()\n",
        "results = why.log(chats, schema=schema)\n",
        "\n",
        "for column in results.view().get_columns().keys():\n",
        "  print(column)"
      ],
      "metadata": {
        "colab": {
          "base_uri": "https://localhost:8080/"
        },
        "id": "dQDvPLvR8E_U",
        "outputId": "41b76313-20c5-487f-f914-785f9491fd27"
      },
      "execution_count": 4,
      "outputs": [
        {
          "output_type": "stream",
          "name": "stdout",
          "text": [
            "prompt\n",
            "response\n",
            "prompt.has_patterns\n",
            "prompt.sentiment_nltk\n",
            "prompt.flesch_reading_ease\n",
            "response.flesch_reading_ease\n",
            "prompt.automated_readability_index\n",
            "response.automated_readability_index\n",
            "prompt.aggregate_reading_level\n",
            "response.aggregate_reading_level\n",
            "prompt.syllable_count\n",
            "response.syllable_count\n",
            "prompt.lexicon_count\n",
            "response.lexicon_count\n",
            "prompt.sentence_count\n",
            "response.sentence_count\n",
            "prompt.character_count\n",
            "response.character_count\n",
            "prompt.letter_count\n",
            "response.letter_count\n",
            "prompt.polysyllable_count\n",
            "response.polysyllable_count\n",
            "prompt.monosyllable_count\n",
            "response.monosyllable_count\n",
            "prompt.difficult_words\n",
            "response.difficult_words\n",
            "prompt.jailbreak_similarity\n",
            "prompt.toxicity\n",
            "response.relevance_to_prompt\n"
          ]
        }
      ]
    }
  ]
}
