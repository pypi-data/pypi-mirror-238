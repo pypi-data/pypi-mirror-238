{
 "cells": [
  {
   "cell_type": "markdown",
   "metadata": {},
   "source": [
    "# Monitoring\n",
    "\n",
    "Model drift is a critical problem in any production ML workflow. One key method for detecting drift is model validation, with tooling built directly into the Wallaroo platform.\n",
    "These tools can be used to diagnose and flag anomalous data within production pipelines. This enables fast identification and mitigation of model drift.\n",
    "\n",
    "Some key model validations are so important that immediate action is required when they fail. The SDK allows users to configure custom alerts so they can be notified when these failures occur."
   ]
  },
  {
   "cell_type": "markdown",
   "metadata": {},
   "source": [
    "## Value Validation\n",
    "\n",
    "The simplest form of validation possible is simple boundary checking on model inputs and outputs. Let's use our credit card fraud model to demonstrate:"
   ]
  },
  {
   "cell_type": "code",
   "execution_count": 1,
   "metadata": {},
   "outputs": [],
   "source": [
    "import wallaroo\n",
    "\n",
    "client = wallaroo.Client()\n",
    "fraud = client.upload_model('ccfraud', 'keras_ccfraud.onnx')"
   ]
  },
  {
   "cell_type": "markdown",
   "metadata": {},
   "source": [
    "Suppose we know _a priori_ that the \"likelihood of fraud\" output of this model should never exceed `0.95`. We can create a pipeline with this simple validation to continuously verify this in production:"
   ]
  },
  {
   "cell_type": "code",
   "execution_count": 2,
   "metadata": {},
   "outputs": [
    {
     "name": "stdout",
     "output_type": "stream",
     "text": [
      "Waiting for deployment - this will take up to 45s ..... ok\n"
     ]
    },
    {
     "data": {
      "text/plain": [
       "{'name': 'fraud', 'create_time': datetime.datetime(2022, 3, 3, 22, 49, 12, 101145, tzinfo=tzutc()), 'definition': '[{'ModelInference': {'models': [{'name': 'ccfraud', 'version': 'dae25648-bf42-4eb4-b873-9aa126fbee81', 'sha': 'bc85ce596945f876256f41515c7501c399fd97ebcb9ab3dd41bf03f8937b4507'}]}}, {'Check': {'tree': ['{\"values\": {\"no_high_fraud\": {\"root\": {\"node\": \"binop\", \"op\": \"<\", \"left\": {\"node\": \"variable\", \"variant_id\": {\"name\": \"ccfraud\"}, \"position\": \"output\", \"key\": [0, 0]}, \"right\": {\"node\": \"literal\", \"float\": 0.95}}, \"required_data\": [{\"name\": \"ccfraud\"}]}}, \"gauges\": [], \"validations\": [\"no_high_fraud\"]}']}}]'}"
      ]
     },
     "execution_count": 2,
     "metadata": {},
     "output_type": "execute_result"
    }
   ],
   "source": [
    "p = client.build_pipeline('fraud')\n",
    "p = p.add_model_step(fraud)\n",
    "p = p.add_validation('no_high_fraud', fraud.outputs[0][0] < 0.95)\n",
    "p.deploy()"
   ]
  },
  {
   "cell_type": "markdown",
   "metadata": {},
   "source": [
    "Of particular importance is the input to `.add_validation()`. It's not a python value, it's an unevaluated `Expression`, similar to formulas in R or expressions in SQL builders like SQLAlchemy.\n",
    "\n",
    "We can now run inference directly against this pipeline:"
   ]
  },
  {
   "cell_type": "code",
   "execution_count": 3,
   "metadata": {},
   "outputs": [
    {
     "data": {
      "text/plain": [
       "[InferenceResult({'check_failures': [],\n",
       "  'elapsed': 132317,\n",
       "  'model_name': 'ccfraud',\n",
       "  'model_version': '5a4d7651-17af-41e5-8322-0886a413f198',\n",
       "  'original_data': {'tensor': [[1.0678324729342086,\n",
       "                                0.21778102664937624,\n",
       "                                -1.7115145261843976,\n",
       "                                0.6822857209662413,\n",
       "                                1.0138553066742804,\n",
       "                                -0.43350000129006655,\n",
       "                                0.7395859436561657,\n",
       "                                -0.28828395953577357,\n",
       "                                -0.44726268795990787,\n",
       "                                0.5146124987725894,\n",
       "                                0.3791316964287545,\n",
       "                                0.5190619748123175,\n",
       "                                -0.4904593221655364,\n",
       "                                1.1656456468728569,\n",
       "                                -0.9776307444180006,\n",
       "                                -0.6322198962519854,\n",
       "                                -0.6891477694494687,\n",
       "                                0.17833178574255615,\n",
       "                                0.1397992467197424,\n",
       "                                -0.35542206494183326,\n",
       "                                0.4394217876939808,\n",
       "                                1.4588397511627804,\n",
       "                                -0.3886829614721505,\n",
       "                                0.4353492889350186,\n",
       "                                1.7420053483337177,\n",
       "                                -0.4434654615252943,\n",
       "                                -0.15157478906219238,\n",
       "                                -0.26684517248765616,\n",
       "                                -1.454961775612449]]},\n",
       "  'outputs': [{'Float': {'data': [0.001497417688369751],\n",
       "                         'dim': [1, 1],\n",
       "                         'v': 1}}],\n",
       "  'pipeline_name': 'fraud',\n",
       "  'time': 1643992160482})]"
      ]
     },
     "execution_count": 3,
     "metadata": {},
     "output_type": "execute_result"
    }
   ],
   "source": [
    "p.infer_from_file('./dev_smoke_test.json')"
   ]
  },
  {
   "cell_type": "markdown",
   "metadata": {},
   "source": [
    "This example is a known good value with a low chance of fraud. We can verify this by observing that no validation failures have been logged:"
   ]
  },
  {
   "cell_type": "code",
   "execution_count": 4,
   "metadata": {},
   "outputs": [
    {
     "data": {
      "text/html": [
       "\n",
       "        <table>\n",
       "            <tr>\n",
       "                <th>Timestamp</th>\n",
       "                <th>Output</th>\n",
       "                <th>Input</th>\n",
       "                <th>Anomalies</th>\n",
       "            </tr>\n",
       "            \n",
       "        <tr style=\"\">\n",
       "            <td>2022-04-Feb 16:29:20</td>\n",
       "            <td>[0.001497417688369751]</td>\n",
       "            <td>[[1.0678324729342086, 0.21778102664937624, -1.7115145261843976, 0.6822857209662413, 1.0138553066742804, -0.43350000129006655, 0.7395859436561657, -0.28828395953577357, -0.44726268795990787, 0.5146124987725894, 0.3791316964287545, 0.5190619748123175, -0.4904593221655364, 1.1656456468728569, -0.9776307444180006, -0.6322198962519854, -0.6891477694494687, 0.17833178574255615, 0.1397992467197424, -0.35542206494183326, 0.4394217876939808, 1.4588397511627804, -0.3886829614721505, 0.4353492889350186, 1.7420053483337177, -0.4434654615252943, -0.15157478906219238, -0.26684517248765616, -1.454961775612449]]</td>\n",
       "            <td>0</td>\n",
       "        </tr>\n",
       "        \n",
       "        </table>\n",
       "        "
      ],
      "text/plain": [
       "[<wallaroo.logs.LogEntry at 0x7fdfe319a940>]"
      ]
     },
     "execution_count": 4,
     "metadata": {},
     "output_type": "execute_result"
    }
   ],
   "source": [
    "p.logs()"
   ]
  },
  {
   "cell_type": "markdown",
   "metadata": {},
   "source": [
    "However, if we run inference on data with an abnormally high chance of fraud, we can see an anomaly is logged:"
   ]
  },
  {
   "cell_type": "code",
   "execution_count": 5,
   "metadata": {},
   "outputs": [
    {
     "data": {
      "text/plain": [
       "[InferenceResult({'check_failures': [{'False': {'expr': 'ccfraud.outputs[0][0] < 0.95'}}],\n",
       "  'elapsed': 104293,\n",
       "  'model_name': 'ccfraud',\n",
       "  'model_version': '5a4d7651-17af-41e5-8322-0886a413f198',\n",
       "  'original_data': {'tensor': [[1.0678324729342086,\n",
       "                                18.155556397512136,\n",
       "                                -1.658955105843852,\n",
       "                                5.2111788045436445,\n",
       "                                2.345247064454334,\n",
       "                                10.467083577773014,\n",
       "                                5.0925820522419745,\n",
       "                                12.82951536371218,\n",
       "                                4.953677046849403,\n",
       "                                2.3934736228338225,\n",
       "                                23.912131817957253,\n",
       "                                1.7599568310350209,\n",
       "                                0.8561037518143335,\n",
       "                                1.1656456468728569,\n",
       "                                0.5395988813934498,\n",
       "                                0.7784221343010385,\n",
       "                                6.75806107274245,\n",
       "                                3.927411847659908,\n",
       "                                12.462178276650056,\n",
       "                                12.307538216518656,\n",
       "                                13.787951906620115,\n",
       "                                1.4588397511627804,\n",
       "                                3.681834686805714,\n",
       "                                1.753914366037974,\n",
       "                                8.484355003656184,\n",
       "                                14.6454097666836,\n",
       "                                26.852377436250144,\n",
       "                                2.716529237720336,\n",
       "                                3.061195706890285]]},\n",
       "  'outputs': [{'Float': {'data': [0.9811990261077881], 'dim': [1, 1], 'v': 1}}],\n",
       "  'pipeline_name': 'fraud',\n",
       "  'time': 1643992165536})]"
      ]
     },
     "execution_count": 5,
     "metadata": {},
     "output_type": "execute_result"
    }
   ],
   "source": [
    "p.infer_from_file('./dev_high_fraud.json')"
   ]
  },
  {
   "cell_type": "code",
   "execution_count": 6,
   "metadata": {},
   "outputs": [
    {
     "data": {
      "text/html": [
       "\n",
       "        <table>\n",
       "            <tr>\n",
       "                <th>Timestamp</th>\n",
       "                <th>Output</th>\n",
       "                <th>Input</th>\n",
       "                <th>Anomalies</th>\n",
       "            </tr>\n",
       "            \n",
       "        <tr style=\"\">\n",
       "            <td>2022-04-Feb 16:29:20</td>\n",
       "            <td>[0.001497417688369751]</td>\n",
       "            <td>[[1.0678324729342086, 0.21778102664937624, -1.7115145261843976, 0.6822857209662413, 1.0138553066742804, -0.43350000129006655, 0.7395859436561657, -0.28828395953577357, -0.44726268795990787, 0.5146124987725894, 0.3791316964287545, 0.5190619748123175, -0.4904593221655364, 1.1656456468728569, -0.9776307444180006, -0.6322198962519854, -0.6891477694494687, 0.17833178574255615, 0.1397992467197424, -0.35542206494183326, 0.4394217876939808, 1.4588397511627804, -0.3886829614721505, 0.4353492889350186, 1.7420053483337177, -0.4434654615252943, -0.15157478906219238, -0.26684517248765616, -1.454961775612449]]</td>\n",
       "            <td>0</td>\n",
       "        </tr>\n",
       "        \n",
       "\n",
       "        <tr style=\"color: red;\">\n",
       "            <td>2022-04-Feb 16:29:25</td>\n",
       "            <td>[0.9811990261077881]</td>\n",
       "            <td>[[1.0678324729342086, 18.155556397512136, -1.658955105843852, 5.2111788045436445, 2.345247064454334, 10.467083577773014, 5.0925820522419745, 12.82951536371218, 4.953677046849403, 2.3934736228338225, 23.912131817957253, 1.7599568310350209, 0.8561037518143335, 1.1656456468728569, 0.5395988813934498, 0.7784221343010385, 6.75806107274245, 3.927411847659908, 12.462178276650056, 12.307538216518656, 13.787951906620115, 1.4588397511627804, 3.681834686805714, 1.753914366037974, 8.484355003656184, 14.6454097666836, 26.852377436250144, 2.716529237720336, 3.061195706890285]]</td>\n",
       "            <td>1</td>\n",
       "        </tr>\n",
       "        \n",
       "        </table>\n",
       "        "
      ],
      "text/plain": [
       "[<wallaroo.logs.LogEntry at 0x7fe034568fa0>,\n",
       " <wallaroo.logs.LogEntry at 0x7fdfe319aaf0>]"
      ]
     },
     "execution_count": 6,
     "metadata": {},
     "output_type": "execute_result"
    }
   ],
   "source": [
    "p.logs()"
   ]
  },
  {
   "cell_type": "code",
   "execution_count": 7,
   "metadata": {},
   "outputs": [
    {
     "data": {
      "text/plain": [
       "{'name': 'fraud', 'create_time': datetime.datetime(2022, 3, 3, 22, 49, 12, 101145, tzinfo=tzutc()), 'definition': '[{'ModelInference': {'models': [{'name': 'ccfraud', 'version': 'dae25648-bf42-4eb4-b873-9aa126fbee81', 'sha': 'bc85ce596945f876256f41515c7501c399fd97ebcb9ab3dd41bf03f8937b4507'}]}}, {'Check': {'tree': ['{\"values\": {\"no_high_fraud\": {\"root\": {\"node\": \"binop\", \"op\": \"<\", \"left\": {\"node\": \"variable\", \"variant_id\": {\"name\": \"ccfraud\"}, \"position\": \"output\", \"key\": [0, 0]}, \"right\": {\"node\": \"literal\", \"float\": 0.95}}, \"required_data\": [{\"name\": \"ccfraud\"}]}}, \"gauges\": [], \"validations\": [\"no_high_fraud\"]}']}}]'}"
      ]
     },
     "execution_count": 7,
     "metadata": {},
     "output_type": "execute_result"
    }
   ],
   "source": [
    "p.undeploy()"
   ]
  },
  {
   "cell_type": "markdown",
   "metadata": {},
   "source": [
    "## Baseline Drift Detection\n",
    "\n",
    "Another important method for model validation is checking for model drift against a baseline. First, let's upload our baseline:"
   ]
  },
  {
   "cell_type": "code",
   "execution_count": 8,
   "metadata": {},
   "outputs": [],
   "source": [
    "baseline = client.upload_model('fraud-base', 'xgboost_ccfraud.onnx')\n",
    "production = client.upload_model('fraud-prod', 'keras_ccfraud.onnx')"
   ]
  },
  {
   "cell_type": "markdown",
   "metadata": {},
   "source": [
    "We can now create a shadow deployment, with the baseline shadowing our production model. Then, we can validate their output never drifts further apart than a fixed tolerance:"
   ]
  },
  {
   "cell_type": "code",
   "execution_count": 9,
   "metadata": {},
   "outputs": [
    {
     "name": "stdout",
     "output_type": "stream",
     "text": [
      "Waiting for deployment - this will take up to 45s ...... ok\n"
     ]
    },
    {
     "data": {
      "text/plain": [
       "{'name': 'fraud-shadow', 'create_time': datetime.datetime(2022, 3, 3, 23, 7, 52, 323520, tzinfo=tzutc()), 'definition': '[{'ModelInference': {'models': [{'name': 'fraud-prod', 'version': '661c4e9b-43ec-414f-8f2a-0f3797053da3', 'sha': 'bc85ce596945f876256f41515c7501c399fd97ebcb9ab3dd41bf03f8937b4507'}, {'name': 'fraud-base', 'version': 'ca7cb8c5-32f7-419a-bf66-1e4af58111bd', 'sha': '054810e3e3ebbdd34438d9c1a08ed6a6680ef10bf97b9223f78ebf38e14b3b52'}]}}, {'Check': {'tree': ['{\"values\": {\"no_model_drift\": {\"root\": {\"node\": \"binop\", \"op\": \"<=\", \"left\": {\"node\": \"fn\", \"fn\": \"abs\", \"arguments\": [{\"node\": \"binop\", \"op\": \"-\", \"left\": {\"node\": \"variable\", \"variant_id\": {\"name\": \"fraud-prod\"}, \"position\": \"output\", \"key\": [0, 0]}, \"right\": {\"node\": \"variable\", \"variant_id\": {\"name\": \"fraud-base\"}, \"position\": \"output\", \"key\": [0, 0]}}]}, \"right\": {\"node\": \"literal\", \"float\": 0.05}}, \"required_data\": [{\"name\": \"fraud-prod\"}, {\"name\": \"fraud-base\"}]}}, \"gauges\": [], \"validations\": [\"no_model_drift\"]}']}}, {'AuditResults': {'from': 1, 'to': None}}, {'Nth': {'index': 0}}]'}"
      ]
     },
     "execution_count": 9,
     "metadata": {},
     "output_type": "execute_result"
    }
   ],
   "source": [
    "from wallaroo import functions as fn\n",
    "\n",
    "p = client.build_pipeline('fraud-shadow')\n",
    "p = p.add_shadow_deploy(production, [baseline])\n",
    "p = p.add_validation(\n",
    "    'no_model_drift',\n",
    "    fn.abs(production.outputs[0][0] - baseline.outputs[0][0]) <= 0.05\n",
    ")\n",
    "p.deploy()"
   ]
  },
  {
   "cell_type": "markdown",
   "metadata": {},
   "source": [
    "The usage of `functions.abs` instead of python's built-in `abs` is critical here. `abs` is not compatible with unevaluated `Expression` objects.\n",
    "\n",
    "We can now verify that a normal inference does not log a validation failure:"
   ]
  },
  {
   "cell_type": "code",
   "execution_count": 10,
   "metadata": {},
   "outputs": [
    {
     "data": {
      "text/plain": [
       "[InferenceResult({'check_failures': [],\n",
       "  'elapsed': 119481,\n",
       "  'model_name': 'fraud-prod',\n",
       "  'model_version': '948f3c65-381e-4bef-92c3-ffc30d8c3427',\n",
       "  'original_data': {'tensor': [[1.0678324729342086,\n",
       "                                0.21778102664937624,\n",
       "                                -1.7115145261843976,\n",
       "                                0.6822857209662413,\n",
       "                                1.0138553066742804,\n",
       "                                -0.43350000129006655,\n",
       "                                0.7395859436561657,\n",
       "                                -0.28828395953577357,\n",
       "                                -0.44726268795990787,\n",
       "                                0.5146124987725894,\n",
       "                                0.3791316964287545,\n",
       "                                0.5190619748123175,\n",
       "                                -0.4904593221655364,\n",
       "                                1.1656456468728569,\n",
       "                                -0.9776307444180006,\n",
       "                                -0.6322198962519854,\n",
       "                                -0.6891477694494687,\n",
       "                                0.17833178574255615,\n",
       "                                0.1397992467197424,\n",
       "                                -0.35542206494183326,\n",
       "                                0.4394217876939808,\n",
       "                                1.4588397511627804,\n",
       "                                -0.3886829614721505,\n",
       "                                0.4353492889350186,\n",
       "                                1.7420053483337177,\n",
       "                                -0.4434654615252943,\n",
       "                                -0.15157478906219238,\n",
       "                                -0.26684517248765616,\n",
       "                                -1.454961775612449]]},\n",
       "  'outputs': [{'Float': {'data': [0.001497417688369751],\n",
       "                         'dim': [1, 1],\n",
       "                         'v': 1}}],\n",
       "  'pipeline_name': 'fraud-shadow',\n",
       "  'time': 1643992224943})]"
      ]
     },
     "execution_count": 10,
     "metadata": {},
     "output_type": "execute_result"
    }
   ],
   "source": [
    "p.infer_from_file('./dev_smoke_test.json')"
   ]
  },
  {
   "cell_type": "code",
   "execution_count": 11,
   "metadata": {},
   "outputs": [
    {
     "data": {
      "text/html": [
       "\n",
       "        <table>\n",
       "            <tr>\n",
       "                <th>Timestamp</th>\n",
       "                <th>Output</th>\n",
       "                <th>Input</th>\n",
       "                <th>Anomalies</th>\n",
       "            </tr>\n",
       "            \n",
       "        <tr style=\"\">\n",
       "            <td>2022-04-Feb 16:30:24</td>\n",
       "            <td>[0.001497417688369751]</td>\n",
       "            <td>[[1.0678324729342086, 0.21778102664937624, -1.7115145261843976, 0.6822857209662413, 1.0138553066742804, -0.43350000129006655, 0.7395859436561657, -0.28828395953577357, -0.44726268795990787, 0.5146124987725894, 0.3791316964287545, 0.5190619748123175, -0.4904593221655364, 1.1656456468728569, -0.9776307444180006, -0.6322198962519854, -0.6891477694494687, 0.17833178574255615, 0.1397992467197424, -0.35542206494183326, 0.4394217876939808, 1.4588397511627804, -0.3886829614721505, 0.4353492889350186, 1.7420053483337177, -0.4434654615252943, -0.15157478906219238, -0.26684517248765616, -1.454961775612449]]</td>\n",
       "            <td>0</td>\n",
       "        </tr>\n",
       "        \n",
       "        </table>\n",
       "        "
      ],
      "text/plain": [
       "[<wallaroo.logs.LogEntry at 0x7fdfe31e7670>]"
      ]
     },
     "execution_count": 11,
     "metadata": {},
     "output_type": "execute_result"
    }
   ],
   "source": [
    "p.logs()"
   ]
  },
  {
   "cell_type": "markdown",
   "metadata": {},
   "source": [
    "And that inference when values has drifted does log anomalies:"
   ]
  },
  {
   "cell_type": "code",
   "execution_count": 12,
   "metadata": {},
   "outputs": [
    {
     "data": {
      "text/plain": [
       "[InferenceResult({'check_failures': [{'False': {'expr': 'abs(fraud-prod.outputs[0][0] - '\n",
       "                                        'fraud-base.outputs[0][0]) <= 0.05'}}],\n",
       "  'elapsed': 76097,\n",
       "  'model_name': 'fraud-prod',\n",
       "  'model_version': '948f3c65-381e-4bef-92c3-ffc30d8c3427',\n",
       "  'original_data': {'tensor': [[16.309736909599135,\n",
       "                                6.599583312777217,\n",
       "                                -1.7115145261843976,\n",
       "                                3.843584873057595,\n",
       "                                1.8125832479102169,\n",
       "                                -0.43350000129006655,\n",
       "                                17.30937776667656,\n",
       "                                -0.2807742641284464,\n",
       "                                6.2609333637166005,\n",
       "                                9.713576049131042,\n",
       "                                6.0047041206552,\n",
       "                                10.752836139413064,\n",
       "                                -0.4774067823292544,\n",
       "                                4.1756599181627845,\n",
       "                                -0.6972038718887318,\n",
       "                                1.3471917248192462,\n",
       "                                0.7307732879172534,\n",
       "                                0.17833178574255615,\n",
       "                                1.960185481479672,\n",
       "                                1.3272984903998677,\n",
       "                                1.6581661476267306,\n",
       "                                13.303105662486775,\n",
       "                                -0.32679284503894385,\n",
       "                                5.602161198855116,\n",
       "                                5.098649721637451,\n",
       "                                -0.4434654615252943,\n",
       "                                0.958688640259473,\n",
       "                                -0.15767580972070405,\n",
       "                                1.6405488923696567]]},\n",
       "  'outputs': [{'Float': {'data': [0.0001131892204284668],\n",
       "                         'dim': [1, 1],\n",
       "                         'v': 1}}],\n",
       "  'pipeline_name': 'fraud-shadow',\n",
       "  'time': 1643992231446})]"
      ]
     },
     "execution_count": 12,
     "metadata": {},
     "output_type": "execute_result"
    }
   ],
   "source": [
    "p.infer_from_file('./dev_drift.json')"
   ]
  },
  {
   "cell_type": "code",
   "execution_count": 13,
   "metadata": {},
   "outputs": [
    {
     "data": {
      "text/html": [
       "\n",
       "        <table>\n",
       "            <tr>\n",
       "                <th>Timestamp</th>\n",
       "                <th>Output</th>\n",
       "                <th>Input</th>\n",
       "                <th>Anomalies</th>\n",
       "            </tr>\n",
       "            \n",
       "        <tr style=\"\">\n",
       "            <td>2022-04-Feb 16:30:24</td>\n",
       "            <td>[0.001497417688369751]</td>\n",
       "            <td>[[1.0678324729342086, 0.21778102664937624, -1.7115145261843976, 0.6822857209662413, 1.0138553066742804, -0.43350000129006655, 0.7395859436561657, -0.28828395953577357, -0.44726268795990787, 0.5146124987725894, 0.3791316964287545, 0.5190619748123175, -0.4904593221655364, 1.1656456468728569, -0.9776307444180006, -0.6322198962519854, -0.6891477694494687, 0.17833178574255615, 0.1397992467197424, -0.35542206494183326, 0.4394217876939808, 1.4588397511627804, -0.3886829614721505, 0.4353492889350186, 1.7420053483337177, -0.4434654615252943, -0.15157478906219238, -0.26684517248765616, -1.454961775612449]]</td>\n",
       "            <td>0</td>\n",
       "        </tr>\n",
       "        \n",
       "\n",
       "        <tr style=\"color: red;\">\n",
       "            <td>2022-04-Feb 16:30:31</td>\n",
       "            <td>[0.0001131892204284668]</td>\n",
       "            <td>[[16.309736909599135, 6.599583312777217, -1.7115145261843976, 3.843584873057595, 1.8125832479102169, -0.43350000129006655, 17.30937776667656, -0.2807742641284464, 6.2609333637166005, 9.713576049131042, 6.0047041206552, 10.752836139413064, -0.4774067823292544, 4.1756599181627845, -0.6972038718887318, 1.3471917248192462, 0.7307732879172534, 0.17833178574255615, 1.960185481479672, 1.3272984903998677, 1.6581661476267306, 13.303105662486775, -0.32679284503894385, 5.602161198855116, 5.098649721637451, -0.4434654615252943, 0.958688640259473, -0.15767580972070405, 1.6405488923696567]]</td>\n",
       "            <td>1</td>\n",
       "        </tr>\n",
       "        \n",
       "        </table>\n",
       "        "
      ],
      "text/plain": [
       "[<wallaroo.logs.LogEntry at 0x7fdfe31e7d60>,\n",
       " <wallaroo.logs.LogEntry at 0x7fdfe315ed30>]"
      ]
     },
     "execution_count": 13,
     "metadata": {},
     "output_type": "execute_result"
    }
   ],
   "source": [
    "p.logs()"
   ]
  },
  {
   "cell_type": "markdown",
   "metadata": {},
   "source": [
    "We can see in the logs that the production model has drifted significantly from its baseline sanity check."
   ]
  },
  {
   "cell_type": "code",
   "execution_count": 14,
   "metadata": {},
   "outputs": [
    {
     "data": {
      "text/plain": [
       "{'name': 'fraud-shadow', 'create_time': datetime.datetime(2022, 3, 3, 23, 7, 52, 323520, tzinfo=tzutc()), 'definition': '[{'ModelInference': {'models': [{'name': 'fraud-prod', 'version': '661c4e9b-43ec-414f-8f2a-0f3797053da3', 'sha': 'bc85ce596945f876256f41515c7501c399fd97ebcb9ab3dd41bf03f8937b4507'}, {'name': 'fraud-base', 'version': 'ca7cb8c5-32f7-419a-bf66-1e4af58111bd', 'sha': '054810e3e3ebbdd34438d9c1a08ed6a6680ef10bf97b9223f78ebf38e14b3b52'}]}}, {'Check': {'tree': ['{\"values\": {\"no_model_drift\": {\"root\": {\"node\": \"binop\", \"op\": \"<=\", \"left\": {\"node\": \"fn\", \"fn\": \"abs\", \"arguments\": [{\"node\": \"binop\", \"op\": \"-\", \"left\": {\"node\": \"variable\", \"variant_id\": {\"name\": \"fraud-prod\"}, \"position\": \"output\", \"key\": [0, 0]}, \"right\": {\"node\": \"variable\", \"variant_id\": {\"name\": \"fraud-base\"}, \"position\": \"output\", \"key\": [0, 0]}}]}, \"right\": {\"node\": \"literal\", \"float\": 0.05}}, \"required_data\": [{\"name\": \"fraud-prod\"}, {\"name\": \"fraud-base\"}]}}, \"gauges\": [], \"validations\": [\"no_model_drift\"]}']}}, {'AuditResults': {'from': 1, 'to': None}}, {'Nth': {'index': 0}}]'}"
      ]
     },
     "execution_count": 14,
     "metadata": {},
     "output_type": "execute_result"
    }
   ],
   "source": [
    "p.undeploy()"
   ]
  },
  {
   "cell_type": "markdown",
   "metadata": {},
   "source": [
    "## Alerting\n",
    "\n",
    "Some failures are critical, and require immediate action. The SDK can be configured to send any number of _notifications_ to responsible parties:\n"
   ]
  },
  {
   "cell_type": "code",
   "execution_count": 15,
   "metadata": {},
   "outputs": [],
   "source": [
    "from wallaroo import notify\n",
    "notification = notify.Email(to='<placeholder>@example.com')"
   ]
  },
  {
   "cell_type": "markdown",
   "metadata": {},
   "source": [
    "These notifications can then be attached to a relevant _alert_. Alerts are built directly on top of the same expression syntax used for validations. However, unlike validations, alerts must be defined on a pipeline-wide `Aggregate`.  For example, if high fraud is inferred more than ten times in a five minute window:"
   ]
  },
  {
   "cell_type": "code",
   "execution_count": 16,
   "metadata": {},
   "outputs": [
    {
     "name": "stdout",
     "output_type": "stream",
     "text": [
      "Waiting for deployment - this will take up to 45s ...... ok\n"
     ]
    },
    {
     "data": {
      "text/plain": [
       "{'name': 'fraud-alerting', 'create_time': datetime.datetime(2022, 3, 3, 23, 13, 23, 22692, tzinfo=tzutc()), 'definition': '[{'ModelInference': {'models': [{'name': 'fraud-prod', 'version': 'bc4f9717-4e55-4019-9c9c-3fd84ea94e00', 'sha': 'bc85ce596945f876256f41515c7501c399fd97ebcb9ab3dd41bf03f8937b4507'}]}}, {'Check': {'tree': ['{\"values\": {\"high_fraud_5m:left\": {\"root\": {\"node\": \"fn\", \"fn\": \"count\", \"arguments\": [{\"node\": \"binop\", \"op\": \">\", \"left\": {\"node\": \"variable\", \"variant_id\": {\"name\": \"fraud-prod\"}, \"position\": \"output\", \"key\": [0, 0]}, \"right\": {\"node\": \"literal\", \"float\": 0.95}}, {\"node\": \"literal\", \"timedelta\": \"5m\"}, {\"node\": \"literal\", \"timedelta\": \"1s\"}]}, \"required_data\": [{\"name\": \"fraud-prod\"}]}}, \"gauges\": [\"high_fraud_5m:left\"], \"validations\": []}']}}, {'Check': {'tree': ['{\"values\": {\"low_fraud\": {\"root\": {\"node\": \"binop\", \"op\": \"<=\", \"left\": {\"node\": \"variable\", \"variant_id\": {\"name\": \"fraud-prod\"}, \"position\": \"output\", \"key\": [0, 0]}, \"right\": {\"node\": \"literal\", \"float\": 0.95}}, \"required_data\": [{\"name\": \"fraud-prod\"}]}}, \"gauges\": [], \"validations\": [\"low_fraud\"]}']}}]'}"
      ]
     },
     "execution_count": 16,
     "metadata": {},
     "output_type": "execute_result"
    }
   ],
   "source": [
    "alerted = client.upload_model('fraud-prod', 'keras_ccfraud.onnx')\n",
    "p = client.build_pipeline('fraud-alerting')\n",
    "p.add_model_step(alerted)\n",
    "\n",
    "low_fraud = alerted.outputs[0][0] <= 0.95\n",
    "high_fraud = alerted.outputs[0][0] > 0.95\n",
    "p.add_validation('low_fraud', low_fraud)\n",
    "p.add_alert('high_fraud_5m', fn.count(high_fraud, '5m', '1s') > 10, [notification])\n",
    "p.deploy()"
   ]
  },
  {
   "cell_type": "markdown",
   "metadata": {},
   "source": [
    "`functions.count` here is a windowed aggregate function that collects metrics across the entire pipeline. The first argument is the condition to count; the second is the sliding window of time to operate on, and the final argument is how often the aggregate value is updated.\n",
    "\n",
    "Note that aggregate functions cannot be used in validations, as they track whole pipeline metrics and are not currently available in per-inference gauges.\n",
    "\n",
    "With this alert configured, we can it by sending in a burst of apparent fraud:"
   ]
  },
  {
   "cell_type": "code",
   "execution_count": 17,
   "metadata": {},
   "outputs": [],
   "source": [
    "for _ in range(15):\n",
    "    p.infer_from_file('./dev_high_fraud.json')"
   ]
  },
  {
   "cell_type": "markdown",
   "metadata": {},
   "source": [
    "Now, we can see the fraudulent entry failing our validation in the logs:"
   ]
  },
  {
   "cell_type": "code",
   "execution_count": 18,
   "metadata": {},
   "outputs": [
    {
     "data": {
      "text/html": [
       "\n",
       "        <table>\n",
       "            <tr>\n",
       "                <th>Timestamp</th>\n",
       "                <th>Output</th>\n",
       "                <th>Input</th>\n",
       "                <th>Anomalies</th>\n",
       "            </tr>\n",
       "            \n",
       "        <tr style=\"color: red;\">\n",
       "            <td>2022-04-Feb 16:31:58</td>\n",
       "            <td>[0.9811990261077881]</td>\n",
       "            <td>[[1.0678324729342086, 18.155556397512136, -1.658955105843852, 5.2111788045436445, 2.345247064454334, 10.467083577773014, 5.0925820522419745, 12.82951536371218, 4.953677046849403, 2.3934736228338225, 23.912131817957253, 1.7599568310350209, 0.8561037518143335, 1.1656456468728569, 0.5395988813934498, 0.7784221343010385, 6.75806107274245, 3.927411847659908, 12.462178276650056, 12.307538216518656, 13.787951906620115, 1.4588397511627804, 3.681834686805714, 1.753914366037974, 8.484355003656184, 14.6454097666836, 26.852377436250144, 2.716529237720336, 3.061195706890285]]</td>\n",
       "            <td>2</td>\n",
       "        </tr>\n",
       "        \n",
       "        </table>\n",
       "        "
      ],
      "text/plain": [
       "[<wallaroo.logs.LogEntry at 0x7fdfe31655e0>]"
      ]
     },
     "execution_count": 18,
     "metadata": {},
     "output_type": "execute_result"
    }
   ],
   "source": [
    "p.logs(limit=1)"
   ]
  },
  {
   "cell_type": "markdown",
   "metadata": {},
   "source": [
    "Also, we'll receive an email notification that the alert is active:\n",
    "\n",
    "\n",
    "![example email](email.png)"
   ]
  },
  {
   "cell_type": "code",
   "execution_count": 19,
   "metadata": {},
   "outputs": [
    {
     "data": {
      "text/plain": [
       "{'name': 'fraud-alerting', 'create_time': datetime.datetime(2022, 3, 3, 23, 13, 23, 22692, tzinfo=tzutc()), 'definition': '[{'ModelInference': {'models': [{'name': 'fraud-prod', 'version': 'bc4f9717-4e55-4019-9c9c-3fd84ea94e00', 'sha': 'bc85ce596945f876256f41515c7501c399fd97ebcb9ab3dd41bf03f8937b4507'}]}}, {'Check': {'tree': ['{\"values\": {\"high_fraud_5m:left\": {\"root\": {\"node\": \"fn\", \"fn\": \"count\", \"arguments\": [{\"node\": \"binop\", \"op\": \">\", \"left\": {\"node\": \"variable\", \"variant_id\": {\"name\": \"fraud-prod\"}, \"position\": \"output\", \"key\": [0, 0]}, \"right\": {\"node\": \"literal\", \"float\": 0.95}}, {\"node\": \"literal\", \"timedelta\": \"5m\"}, {\"node\": \"literal\", \"timedelta\": \"1s\"}]}, \"required_data\": [{\"name\": \"fraud-prod\"}]}}, \"gauges\": [\"high_fraud_5m:left\"], \"validations\": []}']}}, {'Check': {'tree': ['{\"values\": {\"low_fraud\": {\"root\": {\"node\": \"binop\", \"op\": \"<=\", \"left\": {\"node\": \"variable\", \"variant_id\": {\"name\": \"fraud-prod\"}, \"position\": \"output\", \"key\": [0, 0]}, \"right\": {\"node\": \"literal\", \"float\": 0.95}}, \"required_data\": [{\"name\": \"fraud-prod\"}]}}, \"gauges\": [], \"validations\": [\"low_fraud\"]}']}}]'}"
      ]
     },
     "execution_count": 19,
     "metadata": {},
     "output_type": "execute_result"
    }
   ],
   "source": [
    "p.undeploy()"
   ]
  }
 ],
 "metadata": {
  "interpreter": {
   "hash": "aee8b7b246df8f9039afb4144a1f6fd8d2ca17a180786b69acc140d282b71a49"
  },
  "kernelspec": {
   "display_name": "Python 3",
   "language": "python",
   "name": "python3"
  },
  "language_info": {
   "codemirror_mode": {
    "name": "ipython",
    "version": 3
   },
   "file_extension": ".py",
   "mimetype": "text/x-python",
   "name": "python",
   "nbconvert_exporter": "python",
   "pygments_lexer": "ipython3",
   "version": "3.8.6"
  }
 },
 "nbformat": 4,
 "nbformat_minor": 4
}
