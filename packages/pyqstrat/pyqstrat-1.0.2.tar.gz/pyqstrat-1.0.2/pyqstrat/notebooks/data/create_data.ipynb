{
  "cells": [
    {
      "cell_type": "code",
      "source": [
        "import pyqstrat as pq\n",
        "import h5py\n",
        "\n",
        "def create_data():\n",
        "    ohlcs = []\n",
        "\n",
        "    with h5py.File('SPX.hdf5', 'r') as f:\n",
        "        dates = np.arange(np.datetime64('2023-01-01'), np.datetime64('2023-01-10'))\n",
        "        for date in dates:\n",
        "            _date = pd.to_datetime(date).to_pydatetime()\n",
        "            key = f'D_{_date:%Y_%m_%d}'\n",
        "            if key not in f: continue\n",
        "            _df = pq.hdf5_to_df('/Users/sal/Developer/ambrus/reports/tail_options/SPX.hdf5', key)\n",
        "            df = _df.copy()\n",
        "            df['expiry'] = pd.to_datetime(df.okey_yr * 10000 + df.okey_mn * 100 + df.okey_dy, format='%Y%m%d')\n",
        "            df = df[['timestamp', 'okey_cp', 'expiry', 'okey_xx', 'prtPrice', 'prtSize', 'prtVolume', 'uBid', 'uAsk', 'prtIv', 'prtDe']]\n",
        "            df['umid'] = 0.5 * (df.uBid + df.uAsk)\n",
        "            del df['uBid']\n",
        "            del df['uAsk']\n",
        "            df.columns = ['timestamp', 'put_call', 'expiry', 'strike', 'prc', 'qty', 'v', 'iv', 'delta', 'umid']\n",
        "            df['symbol'] = df.put_call.str[:1] + '-' + df.strike.astype(int).astype(str) + '-' + df.expiry.astype(str)\n",
        "            df['timestamp'] = pd.to_datetime(df.timestamp)\n",
        "            ohlc = df.set_index('timestamp').groupby(\n",
        "                ['symbol'], as_index=False).resample('5min').agg(\n",
        "                {'symbol': 'last', \n",
        "                 'prc': ['first', 'min', 'max', 'last'], \n",
        "                 'umid': 'last', \n",
        "                 'v': 'sum',\n",
        "                 'iv': 'last',\n",
        "                 'delta': 'last'})\n",
        "            ohlc.reset_index(inplace=True)\n",
        "            ohlc.columns = ['dummy', 'timestamp', 'symbol', 'o', 'h', 'l', 'c', 'umid', 'v', 'iv', 'delta']\n",
        "            ohlc = ohlc[np.isfinite(ohlc.c)]\n",
        "            ohlc = ohlc[['timestamp', 'symbol', 'o', 'h', 'l', 'c', 'v', 'umid', 'iv', 'delta']]\n",
        "            #ohlc = ohlc[['timestamp', 'open', 'high', 'low', 'close']]\n",
        "            ohlcs.append(ohlc)\n",
        "\n",
        "    pd.concat(ohlcs).to_csv('support/spx_options.csv.gz', index=False)\n",
        "    pd.read_csv('support/spx_options.csv.gz')\n",
        ""
      ],
      "metadata": {},
      "id": "42",
      "outputs": [],
      "execution_count": 1
    }
  ],
  "metadata": {
    "kernelspec": {
      "display_name": "Python 3 (ipykernel)",
      "language": "python",
      "name": "python3"
    },
    "language_info": {
      "codemirror_mode": {
        "name": "ipython",
        "version": 3
      },
      "file_extension": ".py",
      "mimetype": "text/x-python",
      "name": "python",
      "nbconvert_exporter": "python",
      "pygments_lexer": "ipython3",
      "version": "3.9.13"
    },
    "latex_envs": {
      "LaTeX_envs_menu_present": true,
      "autoclose": false,
      "autocomplete": true,
      "bibliofile": "biblio.bib",
      "cite_by": "apalike",
      "current_citInitial": 1,
      "eqLabelWithNumbers": true,
      "eqNumInitial": 1,
      "hotkeys": {
        "equation": "Ctrl-E",
        "itemize": "Ctrl-I"
      },
      "labels_anchors": false,
      "latex_user_defs": false,
      "report_style_numbering": false,
      "user_envs_cfg": false
    }
  },
  "nbformat": 4,
  "nbformat_minor": 5
}