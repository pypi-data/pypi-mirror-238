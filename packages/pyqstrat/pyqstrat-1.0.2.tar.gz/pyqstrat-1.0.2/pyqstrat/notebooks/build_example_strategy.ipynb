{
 "cells": [
  {
   "cell_type": "code",
   "execution_count": 2,
   "id": "da389da8",
   "metadata": {
    "ExecuteTime": {
     "end_time": "2023-10-29T16:59:50.519301Z",
     "start_time": "2023-10-29T16:59:49.520746Z"
    }
   },
   "outputs": [
    {
     "name": "stdout",
     "output_type": "stream",
     "text": [
      "running typecheck\n",
      "\u001b[1m\u001b[32mSuccess: no issues found in 1 source file\u001b[m\n",
      "\n",
      "running flake8\n",
      "flake8 success\n"
     ]
    }
   ],
   "source": [
    "%%checkall\n",
    "import pandas as pd\n",
    "import pyqstrat as pq\n",
    "import numpy as np\n",
    "\n",
    "\n",
    "def build_example_strategy(stop_pct: float = -0.002, ret_threshold: float = 0.002) -> pq.Strategy:\n",
    "    # read 1 minute price bars\n",
    "    filename = pq.find_in_subdir('.', 'AAPL.csv.gz')\n",
    "    aapl = pd.read_csv(filename)[['timestamp', 'c']]\n",
    "    aapl.timestamp = pd.to_datetime(aapl.timestamp)\n",
    "    # the date corresponding to each 1minute timestamp\n",
    "    aapl['date'] = aapl.timestamp.values.astype('M8[D]') \n",
    "    # compute overnight return\n",
    "    aapl['overnight_ret'] = np.where(aapl.date > aapl.date.shift(1), aapl.c / aapl.c.shift(1) - 1, np.nan)\n",
    "    aapl['overnight_ret_negative'] = (aapl.overnight_ret < ret_threshold)  # whether overnight return is below threshold\n",
    "    # mark points just before EOD. We enter a marker order at these points so we have one bar to get filled\n",
    "    aapl['eod'] = np.where(aapl.date.shift(-2) > aapl.date, True, False)  \n",
    "    # if the price drops by 1% after we enter in the morning take our loss and get out\n",
    "    aapl['bod_price'] = np.where(aapl.date > aapl.date.shift(1), aapl.c, np.nan)\n",
    "    aapl.bod_price = aapl.bod_price.ffill()\n",
    "    aapl['symbol'] = 'AAPL'\n",
    "    stop_return_func = pq.PriceFuncArrays(aapl.symbol.values, aapl.timestamp.values, np.full(len(aapl), -0.1))\n",
    "    aapl['stop'] = (aapl.c < (aapl.bod_price * (1 + stop_pct)))\n",
    "\n",
    "    strat_builder = pq.StrategyBuilder(data=aapl)   \n",
    "    strat_builder.add_contract('AAPL')\n",
    "    # add the stop price so we can refer to it in\n",
    "    strat_builder.add_series_indicator('c', 'c')\n",
    "    # convert timestamps from nanoseconds (pandas convention) to minutes so they are easier to view\n",
    "    timestamps = aapl.timestamp.values.astype('M8[m]')  \n",
    "    prices = aapl.c.values\n",
    "    # create a dictionary from contract name=>timestamp => price for use in the price function\n",
    "    price_dict = {'AAPL': {timestamps[i]: prices[i] for i in range(len(timestamps))}}\n",
    "    # create the price function that the strategy will use for looking up prices \n",
    "    price_function = pq.PriceFuncDict(price_dict=price_dict)\n",
    "    strat_builder.set_price_function(price_function)\n",
    "\n",
    "    # BracketOrderEntryRule allows us to enter trades and get out with a limited loss when a stop is hit.\n",
    "    # This enters market orders, if you want to use limit orders, set the limit_increment argument\n",
    "    entry_rule = pq.BracketOrderEntryRule(\n",
    "        reason_code='POS_OVERNIGHT_RETURN',  # this is useful to know why we entered a trade\n",
    "        price_func=price_function, \n",
    "        long=True,  # whether we enter a long or short position\n",
    "        percent_of_equity=0.1,  # set the position size so that if the stop is hit, we lose no more than this\n",
    "        # stop price is used for position sizing.  Also, we will not enter if the price is already below \n",
    "        # stop price for long trades and vice versa\n",
    "        stop_return_func=stop_return_func,\n",
    "        single_entry_per_day=True)  # if we are stopped out, do we allow re-entry later in the day\n",
    "\n",
    "    # ClosePositionExitRule fully exits a position using either a market or limit order\n",
    "    # In this case, we want to exit at EOD so we are flat overnight\n",
    "    exit_rule_stop = pq.ClosePositionExitRule(   \n",
    "        reason_code='STOPPED_OUT',\n",
    "        price_func=price_function)\n",
    "    \n",
    "    # Exit when the stop price is reached\n",
    "    exit_rule_eod = pq.ClosePositionExitRule(\n",
    "        reason_code='EOD',\n",
    "        price_func=price_function)\n",
    "\n",
    "    # Setup the rules we setup above so they are only called when the columns below in our data dataframe are true\n",
    "    # position filters allow you to choose when the rule runs, \"zero\" orders it to run only when \n",
    "    # we don't have a current position, positive and negative similarly run the rule when we\n",
    "    # are currently long or short respectively\n",
    "    strat_builder.add_series_rule('overnight_ret_negative', entry_rule, position_filter='zero')\n",
    "    strat_builder.add_series_rule('eod', exit_rule_eod, position_filter='positive')\n",
    "    strat_builder.add_series_rule('stop', exit_rule_stop, position_filter='positive')\n",
    "\n",
    "    # create the strategy and run it\n",
    "    strategy = strat_builder()\n",
    "    return strategy\n"
   ]
  },
  {
   "cell_type": "code",
   "execution_count": null,
   "id": "594ccf54",
   "metadata": {},
   "outputs": [],
   "source": []
  }
 ],
 "metadata": {
  "kernelspec": {
   "display_name": "Python 3 (ipykernel)",
   "language": "python",
   "name": "python3"
  },
  "language_info": {
   "codemirror_mode": {
    "name": "ipython",
    "version": 3
   },
   "file_extension": ".py",
   "mimetype": "text/x-python",
   "name": "python",
   "nbconvert_exporter": "python",
   "pygments_lexer": "ipython3",
   "version": "3.10.12"
  },
  "latex_envs": {
   "LaTeX_envs_menu_present": true,
   "autoclose": false,
   "autocomplete": true,
   "bibliofile": "biblio.bib",
   "cite_by": "apalike",
   "current_citInitial": 1,
   "eqLabelWithNumbers": true,
   "eqNumInitial": 1,
   "hotkeys": {
    "equation": "Ctrl-E",
    "itemize": "Ctrl-I"
   },
   "labels_anchors": false,
   "latex_user_defs": false,
   "report_style_numbering": false,
   "user_envs_cfg": false
  }
 },
 "nbformat": 4,
 "nbformat_minor": 5
}
