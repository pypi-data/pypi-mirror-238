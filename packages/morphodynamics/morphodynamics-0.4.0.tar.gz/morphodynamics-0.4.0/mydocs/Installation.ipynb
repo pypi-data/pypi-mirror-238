{
 "cells": [
  {
   "cell_type": "markdown",
   "metadata": {},
   "source": [
    "# Installation"
   ]
  },
  {
   "cell_type": "markdown",
   "metadata": {},
   "source": [
    "## Initial installation\n",
    "\n",
    "The GitHub repository contains both the package and a series of notebooks to use it. To simply install the package you can use:\n",
    "\n",
    "```\n",
    "pip install git+https://github.com/guiwitz/morphodynamics.git@master#egg=morphodynamics\n",
    "```\n",
    "\n",
    "To use the package with the notebooks, we recommend to create a conda environment. For this you can use the [environment.yml](https://guiwitz.github.io/MorphoDynamics/environment.yml) file provided in the repository (use ```Save as``` in your browser). Download the file, open a terminal, move to the download place and run:\n",
    "\n",
    "```\n",
    "conda env create -f environment.yml\n",
    "```\n",
    "\n",
    "Once installation is complete you can activate the environment with ```conda activate morphodynamics``` to use the software.\n",
    "\n",
    "## Update\n",
    "\n",
    "You can install minor updates to the package without having to recreate the complete environment. You can just activate it and upgrade the package with pip:\n",
    "\n",
    "```\n",
    "conda activate morphodynamics \n",
    "pip install --upgrade git+https://github.com/guiwitz/MorphoDynamics.git@master#egg=morphodynamics\n",
    "```\n",
    "\n",
    "If some major update has been made, including new dependencies, it is recommended to remove the environment and re-create it using a newly downloaded environment file:\n",
    "\n",
    "```\n",
    "conda env remove --name morphodynamics --all\n",
    "conda env create -f environment.yml\n",
    "```\n",
    "\n",
    "It is possible to just upgrade the conda environment, but this often leads to unresolved dependencies."
   ]
  },
  {
   "cell_type": "code",
   "execution_count": null,
   "metadata": {},
   "outputs": [],
   "source": []
  }
 ],
 "metadata": {
  "kernelspec": {
   "display_name": "Python 3",
   "language": "python",
   "name": "python3"
  },
  "language_info": {
   "codemirror_mode": {
    "name": "ipython",
    "version": 3
   },
   "file_extension": ".py",
   "mimetype": "text/x-python",
   "name": "python",
   "nbconvert_exporter": "python",
   "pygments_lexer": "ipython3",
   "version": "3.8.4"
  },
  "toc": {
   "base_numbering": 1,
   "nav_menu": {},
   "number_sections": false,
   "sideBar": true,
   "skip_h1_title": false,
   "title_cell": "Table of Contents",
   "title_sidebar": "Contents",
   "toc_cell": false,
   "toc_position": {},
   "toc_section_display": true,
   "toc_window_display": true
  },
  "varInspector": {
   "cols": {
    "lenName": 16,
    "lenType": 16,
    "lenVar": 40
   },
   "kernels_config": {
    "python": {
     "delete_cmd_postfix": "",
     "delete_cmd_prefix": "del ",
     "library": "var_list.py",
     "varRefreshCmd": "print(var_dic_list())"
    },
    "r": {
     "delete_cmd_postfix": ") ",
     "delete_cmd_prefix": "rm(",
     "library": "var_list.r",
     "varRefreshCmd": "cat(var_dic_list()) "
    }
   },
   "types_to_exclude": [
    "module",
    "function",
    "builtin_function_or_method",
    "instance",
    "_Feature"
   ],
   "window_display": false
  }
 },
 "nbformat": 4,
 "nbformat_minor": 4
}
