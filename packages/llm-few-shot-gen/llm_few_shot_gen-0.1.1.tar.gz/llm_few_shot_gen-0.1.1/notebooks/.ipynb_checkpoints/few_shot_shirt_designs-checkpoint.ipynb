{
 "cells": [
  {
   "cell_type": "markdown",
   "id": "cbd470da-fde7-4b54-b9dc-0c6dec20d37b",
   "metadata": {},
   "source": [
    "# Midjourney Few Shot Example\n",
    "This notebook is a showcase for the midjourney prompt generation module. We will create a `ParsablePromptEngineeringGenerator` instance with the midjourney_prompt_gen template in order to create Text-to-Image prompts. The prompts should create images in the style of t-shirt designs, similar to the few-shot examples. "
   ]
  },
  {
   "cell_type": "markdown",
   "id": "4ade1a3f-1a94-41b1-b4c1-52e3d6316484",
   "metadata": {},
   "source": [
    "## Setup\n",
    "import required modules and create MidjourneyPromptGenerator instance"
   ]
  },
  {
   "cell_type": "code",
   "execution_count": 22,
   "id": "1dea6131-02aa-43f0-bd10-dde7bf849715",
   "metadata": {},
   "outputs": [],
   "source": [
    "import os\n",
    "import sys\n",
    "from IPython.display import JSON\n",
    "from langchain.chat_models import ChatOpenAI\n",
    "from llm_few_shot_gen.generators import ParsablePromptEngineeringGenerator\n",
    "from llm_few_shot_gen.models.output import ImagePromptOutputModel"
   ]
  },
  {
   "cell_type": "code",
   "execution_count": 2,
   "id": "8735d1b4-5222-4224-80f4-e1872bd17409",
   "metadata": {},
   "outputs": [
    {
     "name": "stdout",
     "output_type": "stream",
     "text": [
      "Change working directory to project root\n"
     ]
    }
   ],
   "source": [
    "if \"notebooks\" in os.getcwd():\n",
    "    print(\"Change working directory to project root\")\n",
    "    os.chdir(\"..\")"
   ]
  },
  {
   "cell_type": "markdown",
   "id": "35cd77ee-bc80-4964-b7fd-52b19ae4f5ea",
   "metadata": {},
   "source": [
    "Add your open ai key from https://platform.openai.com/account/api-keys"
   ]
  },
  {
   "cell_type": "code",
   "execution_count": 3,
   "id": "ccea7c22-60aa-4917-ba77-8bc691fcab64",
   "metadata": {},
   "outputs": [],
   "source": [
    "os.environ[\"OPENAI_API_KEY\"] = \"\""
   ]
  },
  {
   "cell_type": "code",
   "execution_count": 16,
   "id": "8b4bb45a-769a-4944-b80f-2e9ab05bed35",
   "metadata": {},
   "outputs": [],
   "source": [
    "llm = ChatOpenAI(temperature=0.7)\n",
    "prompt_generator = ParsablePromptEngineeringGenerator.from_json(\"templates/midjourney_prompt_gen_shirt_design_cartoon_style.json\", llm=llm, pydantic_cls=ImagePromptOutputModel)\n",
    "# Change input text in order to match the pydantic target format\n",
    "prompt_generator.prompt_elements.input = \"\"\"\n",
    "Complete the following tasks in the right order:\n",
    "1. Try to extract the overarching styles or artists from the example prompts given to you by the instructor. Please only extract them if they appear in at least one example prompt.\n",
    "2. Write five concise english prompts with the content \"{text}\". Your suggestions should include your found styles or artists of step 1 and use the same patterns as the example prompts.\n",
    "    \"\"\""
   ]
  },
  {
   "cell_type": "markdown",
   "id": "f045ca3f-4ee2-48e9-9afe-b56217e87eb2",
   "metadata": {},
   "source": [
    "## Few shot prompt examples"
   ]
  },
  {
   "cell_type": "code",
   "execution_count": 17,
   "id": "97aad3cf-a3e6-43e4-91df-2284e4440049",
   "metadata": {},
   "outputs": [
    {
     "name": "stdout",
     "output_type": "stream",
     "text": [
      "Example 0\n",
      "human='Frog' ai='A cartoonish frog, bright colors. T-shirt design graphic, vector, contour, white background, without any text'\n",
      "Example 1\n",
      "human='Skull' ai='realistic patriotic native American skull , cartoon character, vector art, process art, t shirt design, 8K, best quality, trending, perfect line work, perfect stroke, vector illustration, flat design, digital drawing, t shirt design --niji 5 --v 5'\n",
      "Example 2\n",
      "human='Cartoon motorcycle' ai='A cartoonish motocyclist, bright colors. T - shirt design graphic, vector, contour, white background'\n"
     ]
    }
   ],
   "source": [
    "prompt_examples = prompt_generator.prompt_elements.examples.human_ai_interaction\n",
    "for i, example in enumerate(prompt_examples[0:3]):\n",
    "    print(f\"Example {i}\")\n",
    "    print(example)"
   ]
  },
  {
   "cell_type": "markdown",
   "id": "0408eab4-f69f-4b2e-8ace-f45bec8ec353",
   "metadata": {},
   "source": [
    "## Prompt generation playground\n",
    "Choose a simple text which gets transformed into high quality midjournes prompt."
   ]
  },
  {
   "cell_type": "code",
   "execution_count": 29,
   "id": "75e9c0dd-882a-476d-92d8-7f7b61b6053e",
   "metadata": {},
   "outputs": [],
   "source": [
    "text = \"\"\"Sloth on tree\"\"\"\n",
    "parsed_output: ImagePromptOutputModel = prompt_generator.generate(text)"
   ]
  },
  {
   "cell_type": "code",
   "execution_count": 30,
   "id": "2e0493a2-ee71-4a32-a397-e0f226cdb9f8",
   "metadata": {},
   "outputs": [
    {
     "data": {
      "application/json": {
       "few_shot_artists": [],
       "few_shot_styles": [
        "cartoonish",
        "realistic",
        "vector art",
        "process art",
        "flat design"
       ],
       "image_prompts": [
        "A cartoonish sloth on a tree, with bright colors. T-shirt design graphic, vector, contour, white background.",
        "A realistic sloth on a tree, with a detailed fur texture. Painted artwork, high resolution, nature-inspired colors.",
        "A sloth on a tree, portrayed in a colorful vector art style. Process art, vibrant colors, abstract background.",
        "A sloth on a tree, depicted in a flat design style. Digital illustration, minimalistic, pastel colors.",
        "A sloth on a tree, in a whimsical and playful cartoon style. T-shirt design graphic, vector, bright and cheerful colors."
       ]
      },
      "text/plain": [
       "<IPython.core.display.JSON object>"
      ]
     },
     "execution_count": 30,
     "metadata": {
      "application/json": {
       "expanded": false,
       "root": "root"
      }
     },
     "output_type": "execute_result"
    }
   ],
   "source": [
    "JSON(parsed_output.dict())"
   ]
  },
  {
   "cell_type": "markdown",
   "id": "97788d7e-0efa-47b4-a70b-e9c95cbc6f3f",
   "metadata": {},
   "source": [
    "As we can see, we are now able to transform a simple text input into a comprehensive text to image prompt suitable for midjourney."
   ]
  }
 ],
 "metadata": {
  "kernelspec": {
   "display_name": "Python 3 (ipykernel)",
   "language": "python",
   "name": "python3"
  },
  "language_info": {
   "codemirror_mode": {
    "name": "ipython",
    "version": 3
   },
   "file_extension": ".py",
   "mimetype": "text/x-python",
   "name": "python",
   "nbconvert_exporter": "python",
   "pygments_lexer": "ipython3",
   "version": "3.10.10"
  }
 },
 "nbformat": 4,
 "nbformat_minor": 5
}
