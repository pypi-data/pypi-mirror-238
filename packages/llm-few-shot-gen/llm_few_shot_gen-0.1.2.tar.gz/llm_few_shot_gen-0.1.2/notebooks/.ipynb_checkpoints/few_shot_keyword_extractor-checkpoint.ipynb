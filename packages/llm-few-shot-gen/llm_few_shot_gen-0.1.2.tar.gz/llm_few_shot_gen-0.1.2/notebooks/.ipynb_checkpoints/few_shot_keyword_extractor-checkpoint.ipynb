{
 "cells": [
  {
   "cell_type": "markdown",
   "id": "cbd470da-fde7-4b54-b9dc-0c6dec20d37b",
   "metadata": {},
   "source": [
    "# Midjourney Few Shot Example\n",
    "This notebook is a showcase for the midjourney prompt generation module. We will create a `PromptEngineeringGenerator` instance with the midjourney_prompt_gen template in order to create Text-to-Image prompts. The prompts should create images in the style of t-shirt designs, similar to the few-shot examples. "
   ]
  },
  {
   "cell_type": "markdown",
   "id": "4ade1a3f-1a94-41b1-b4c1-52e3d6316484",
   "metadata": {},
   "source": [
    "## Setup\n",
    "import required modules and create MidjourneyPromptGenerator instance"
   ]
  },
  {
   "cell_type": "code",
   "execution_count": 1,
   "id": "1dea6131-02aa-43f0-bd10-dde7bf849715",
   "metadata": {},
   "outputs": [],
   "source": [
    "import os\n",
    "import sys\n",
    "from langchain.chat_models import ChatOpenAI\n",
    "from llm_few_shot_gen.generators import PromptEngineeringGenerator"
   ]
  },
  {
   "cell_type": "code",
   "execution_count": 2,
   "id": "8735d1b4-5222-4224-80f4-e1872bd17409",
   "metadata": {},
   "outputs": [
    {
     "name": "stdout",
     "output_type": "stream",
     "text": [
      "Change working directory to project root\n"
     ]
    }
   ],
   "source": [
    "if \"notebooks\" in os.getcwd():\n",
    "    print(\"Change working directory to project root\")\n",
    "    os.chdir(\"..\")"
   ]
  },
  {
   "cell_type": "markdown",
   "id": "35cd77ee-bc80-4964-b7fd-52b19ae4f5ea",
   "metadata": {},
   "source": [
    "Add your open ai key from https://platform.openai.com/account/api-keys"
   ]
  },
  {
   "cell_type": "code",
   "execution_count": 3,
   "id": "ccea7c22-60aa-4917-ba77-8bc691fcab64",
   "metadata": {},
   "outputs": [],
   "source": [
    "os.environ[\"OPENAI_API_KEY\"] = \"\""
   ]
  },
  {
   "cell_type": "code",
   "execution_count": 4,
   "id": "8b4bb45a-769a-4944-b80f-2e9ab05bed35",
   "metadata": {},
   "outputs": [],
   "source": [
    "llm = ChatOpenAI(temperature=0.7)\n",
    "prompt_generator = PromptEngineeringGenerator.from_json(\"templates/midjourney_prompt_gen_shirt_design_cartoon_style.json\", llm)"
   ]
  },
  {
   "cell_type": "markdown",
   "id": "f045ca3f-4ee2-48e9-9afe-b56217e87eb2",
   "metadata": {},
   "source": [
    "## Add Few Shot examples"
   ]
  },
  {
   "cell_type": "markdown",
   "id": "ae75a067-2098-4844-8ac9-2a218df43e8d",
   "metadata": {},
   "source": [
    "### Few shot prompt examples"
   ]
  },
  {
   "cell_type": "code",
   "execution_count": 5,
   "id": "97aad3cf-a3e6-43e4-91df-2284e4440049",
   "metadata": {},
   "outputs": [
    {
     "name": "stdout",
     "output_type": "stream",
     "text": [
      "Example 0\n",
      "human='Frog' ai='A cartoonish frog, bright colors. T-shirt design graphic, vector, contour, white background, without any text'\n",
      "Example 1\n",
      "human='Skull' ai='realistic patriotic native American skull , cartoon character, vector art, process art, t shirt design, 8K, best quality, trending, perfect line work, perfect stroke, vector illustration, flat design, digital drawing, t shirt design --niji 5 --v 5'\n",
      "Example 2\n",
      "human='Cartoon motorcycle' ai='A cartoonish motocyclist, bright colors. T - shirt design graphic, vector, contour, white background'\n"
     ]
    }
   ],
   "source": [
    "prompt_examples = prompt_generator.prompt_elements.examples.human_ai_interaction\n",
    "for i, example in enumerate(prompt_examples[0:3]):\n",
    "    print(f\"Example {i}\")\n",
    "    print(example)"
   ]
  },
  {
   "cell_type": "markdown",
   "id": "0408eab4-f69f-4b2e-8ace-f45bec8ec353",
   "metadata": {},
   "source": [
    "## Prompt generation playground\n",
    "Choose a simple text which gets transformed into high quality midjournes prompt."
   ]
  },
  {
   "cell_type": "code",
   "execution_count": 7,
   "id": "75e9c0dd-882a-476d-92d8-7f7b61b6053e",
   "metadata": {},
   "outputs": [
    {
     "data": {
      "text/plain": [
       "'A cute sloth hanging from a tree branch, surrounded by lush green leaves. Soft lighting, peaceful mood. Illustration style with pastel colors.'"
      ]
     },
     "execution_count": 7,
     "metadata": {},
     "output_type": "execute_result"
    }
   ],
   "source": [
    "text = \"\"\"Sloth on tree\"\"\"\n",
    "parsed_output = prompt_generator.generate(text)\n",
    "parsed_output"
   ]
  },
  {
   "cell_type": "markdown",
   "id": "97788d7e-0efa-47b4-a70b-e9c95cbc6f3f",
   "metadata": {},
   "source": [
    "As we can see, we are now able to transform a simple text input into a comprehensive text to image prompt suitable for midjourney."
   ]
  }
 ],
 "metadata": {
  "kernelspec": {
   "display_name": "Python 3 (ipykernel)",
   "language": "python",
   "name": "python3"
  },
  "language_info": {
   "codemirror_mode": {
    "name": "ipython",
    "version": 3
   },
   "file_extension": ".py",
   "mimetype": "text/x-python",
   "name": "python",
   "nbconvert_exporter": "python",
   "pygments_lexer": "ipython3",
   "version": "3.10.10"
  }
 },
 "nbformat": 4,
 "nbformat_minor": 5
}
