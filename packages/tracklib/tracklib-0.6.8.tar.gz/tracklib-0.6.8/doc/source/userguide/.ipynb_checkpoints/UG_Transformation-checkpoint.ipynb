{
 "cells": [
  {
   "cell_type": "markdown",
   "id": "f46db32f",
   "metadata": {},
   "source": [
    "# Transformation\n",
    "\n",
    "Ici on parle de lissage, interpolation et simplification"
   ]
  },
  {
   "cell_type": "markdown",
   "id": "d6e4c261",
   "metadata": {},
   "source": [
    "# Simplify, Interpolate & Filter Tracks\n",
    "\n",
    "\n",
    "... Resample, interpolation and smoothing functions (1ère page de la doc)\n",
    "\n",
    "\n",
    "\n",
    "\n",
    "\n",
    "\n",
    "\n",
    "\n",
    "\n",
    "\n"
   ]
  },
  {
   "cell_type": "markdown",
   "id": "3e3f6082",
   "metadata": {},
   "source": [
    "## Simplification\n",
    "\n",
    "Reduce the number of observations in track (while preserving time stamps and other information), but in very different ways\n",
    "\n",
    "Tous les outils qui visent globalement à simplifier une trace pour la rendre moins volumineuse ou plus lisible visuellement. \n",
    "La classe comprend donc entre autres les outils de généralisation. "
   ]
  },
  {
   "cell_type": "markdown",
   "id": "50a59310",
   "metadata": {},
   "source": [
    "## Interpolation \n",
    "\n",
    "\n",
    "Les méthodes qui sur-échantillonnent, sous-échantillonnent ou ré-échantillonnent les traces et qui passent donc nécessairement \n",
    "par une modélisation / description complète de la trajectoire suivie. Lorsque la trace comporte des timestamps, \n",
    "on a alors suppression ou création de nouveaux timestamps. On peut donc considérer que ces méthodes modifient \n",
    "les observations, contrairement aux méthodes de lissage qui ne modifient que les géométries des observations. \n",
    "Il peut s'agir des méthodes locales (e.g. interpolation linéaire, bézier) ou globales (e.g. splines, krigeage, gaussian process...)\n",
    "\n",
    "\n",
    "Ces méthodes ne sont sensées conserver les AF qui pour un sous-échantillonnage strict. La porte porte d'entrée de base \n",
    "des méthodes d'interpolation dans Track est la fonction resample. "
   ]
  },
  {
   "cell_type": "markdown",
   "id": "94e1b092",
   "metadata": {},
   "source": [
    "## Filtering \n",
    "\n",
    "Toutes les méthodes de lissage qui modifient les points, sans changer les timestamps, sans supprimer, ni créer de nouveau points. \n",
    "Ce sont en général des méthodes locales, qui travaillent avec un voisinage (noyau). La classe comporte :\n",
    "- des filtres dynamiques (qui nécessitent des informations sur la dynamique du mobile) : Kalman et Markov\n",
    "- des filtres statistiques (qui étudient par \"apprentissage\" la distribution des données sur un jeu de données d'exemple. Ici, il y aura Karhunen-Loève (ACP fonctionnelle) qui est au statut de \"TO DO\"\n",
    "- des filtres fréquentiels, qui travaillent dans le domaine spectrale pour modifier la trace. Pour l'instant il y a les passe-bas et passe-haut de Fourier et il y aura les ondelette en \"TO DO\".\n",
    "- des filtres séquentiels (ou filtres à noyaux), qui travaillent directement dans le domaine spatial ou temporel et avec un noyau local. \n",
    "\n",
    "\n",
    "A noter que Markov n'est pas stricto sensu un filtre (en fait c'est une méthode globale donc en principe plus proche des méthodes \n",
    "de la classe Interpolation) mais de par sa similarité profonde avec Kalman, je pense que c'est plus logique de le laisser \n",
    "dans Filtering (c'est un genre de super-Kalman quand Kalman n'est pas suffisant et qu'on est prêt à consacrer plus de temps de calcul).\n",
    "\n",
    "\n",
    "Certaines méthodes (en particulier toutes les méthodes d'interpolation non-exactes) permettent aussi de faire du lissage \n",
    "(par exemple les processus gaussiens ou certaines formes de splines). Dans ce cas on fait lissage et interpolation simultanées. \n",
    "\n",
    "\n",
    "Toutes les méthodes de Filtering sont sensées conserver les AF. Elles peuvent s'appliquer aux coordonnées X, Y, Z, ou aux AF. \n",
    "La porte porte d'entrée de base des méthodes de filtrage dans Track est la fonction smooth. "
   ]
  }
 ],
 "metadata": {
  "kernelspec": {
   "display_name": "Python 3 (ipykernel)",
   "language": "python",
   "name": "python3"
  },
  "language_info": {
   "codemirror_mode": {
    "name": "ipython",
    "version": 3
   },
   "file_extension": ".py",
   "mimetype": "text/x-python",
   "name": "python",
   "nbconvert_exporter": "python",
   "pygments_lexer": "ipython3",
   "version": "3.9.1"
  }
 },
 "nbformat": 4,
 "nbformat_minor": 5
}
