{
 "cells": [
  {
   "cell_type": "code",
   "execution_count": null,
   "metadata": {
    "id": "PULWYp1mZIdl"
   },
   "outputs": [],
   "source": [
    "from latentis.relative.projection import Projections\n",
    "from latentis.relative.projection import RelativeProjector\n",
    "from latentis.transforms import Transforms\n",
    "\n",
    "import torch"
   ]
  },
  {
   "cell_type": "code",
   "execution_count": null,
   "metadata": {
    "id": "QETgBS_lah0I"
   },
   "outputs": [],
   "source": [
    "x = torch.randn(5, 10)\n",
    "anchors = x[:3]"
   ]
  },
  {
   "cell_type": "code",
   "execution_count": null,
   "metadata": {
    "colab": {
     "base_uri": "https://localhost:8080/"
    },
    "id": "tB96Jvutanb8",
    "outputId": "50eb1648-7444-4486-e42a-ee8a8ba4b2d7"
   },
   "outputs": [],
   "source": [
    "RelativeProjector(\n",
    "    projection=Projections.COSINE, anchors=anchors, abs_transforms=Transforms.StandardScaling(), rel_transforms=None\n",
    ")(x=x)"
   ]
  },
  {
   "cell_type": "code",
   "execution_count": null,
   "metadata": {
    "colab": {
     "base_uri": "https://localhost:8080/"
    },
    "id": "keHv66YPZtY6",
    "outputId": "add9119a-20d3-4b5a-81bf-51d4224d2bbd"
   },
   "outputs": [],
   "source": [
    "RelativeProjector(projection=Projections.COSINE, abs_transforms=Transforms.StandardScaling(), rel_transforms=None)(\n",
    "    x=x, anchors=anchors\n",
    ")"
   ]
  },
  {
   "cell_type": "code",
   "execution_count": null,
   "metadata": {
    "colab": {
     "base_uri": "https://localhost:8080/"
    },
    "id": "h6ZyakpmcKCa",
    "outputId": "b0e32f91-97a9-4451-b25c-2445339a2787"
   },
   "outputs": [],
   "source": [
    "projector = RelativeProjector(\n",
    "    anchors=anchors,\n",
    "    projection=Projections.COSINE,\n",
    "    abs_transforms=Transforms.StandardScaling(),\n",
    "    rel_transforms=Transforms.L2(),\n",
    ")\n",
    "projector(x=x)"
   ]
  },
  {
   "cell_type": "code",
   "execution_count": null,
   "metadata": {
    "id": "2NZKpscRcZRi"
   },
   "outputs": [],
   "source": []
  }
 ],
 "metadata": {
  "colab": {
   "provenance": []
  },
  "kernelspec": {
   "display_name": "Python 3",
   "name": "python3"
  },
  "language_info": {
   "codemirror_mode": {
    "name": "ipython",
    "version": 3
   },
   "file_extension": ".py",
   "mimetype": "text/x-python",
   "name": "python",
   "nbconvert_exporter": "python",
   "pygments_lexer": "ipython3",
   "version": "3.9.18"
  }
 },
 "nbformat": 4,
 "nbformat_minor": 0
}
