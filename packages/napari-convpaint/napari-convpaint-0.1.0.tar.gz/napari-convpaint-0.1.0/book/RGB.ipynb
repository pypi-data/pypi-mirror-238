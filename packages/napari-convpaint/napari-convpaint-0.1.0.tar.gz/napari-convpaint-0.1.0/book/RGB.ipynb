{
 "cells": [
  {
   "cell_type": "markdown",
   "metadata": {
    "editable": true,
    "slideshow": {
     "slide_type": ""
    },
    "tags": []
   },
   "source": [
    "# RGB images\n",
    "\n",
    "The models used in the plugin to extract features have usually been trained on the Imagenet dataset composed of RGB images. Therefore the plugin can also deal directly with such RGB images and exploit the full information of the image (when working with gray-scale images, the input is simply replicated three times). By default, the plugin will detect that a layer is an RGB image.\n",
    "\n",
    "Here for example we segmented the pattern of the floor in the Main Building of University of Bern, where the plugin has been developed.\n",
    "\n",
    "The model is not limited to background and foreground: multiple classes can be annotated and predicted. Note that this is only possible because we consider the three channels as input and don't average channels to a gray-scale image. This is demonstrated in the video below:"
   ]
  },
  {
   "cell_type": "markdown",
   "metadata": {
    "editable": true,
    "slideshow": {
     "slide_type": ""
    },
    "tags": []
   },
   "source": [
    "<video width=\"620\" controls \n",
    "        src=../images/HB_Floor_movie.webm\n",
    "        type=video/webm> \n",
    "</video>"
   ]
  },
  {
   "cell_type": "markdown",
   "metadata": {
    "editable": true,
    "slideshow": {
     "slide_type": ""
    },
    "tags": []
   },
   "source": [
    "## More classes\n",
    "\n",
    "In this other example we segment 5 different classes of a more complex floor pattern. The training and prediction for more classes might take a little bit longer, but the prediction is excellent considering the very small number of annotated pixels."
   ]
  },
  {
   "cell_type": "markdown",
   "metadata": {
    "editable": true,
    "slideshow": {
     "slide_type": ""
    },
    "tags": []
   },
   "source": [
    "<video width=\"620\" controls \n",
    "        src=../images/5classes.webm\n",
    "        type=video/webm> \n",
    "</video>"
   ]
  },
  {
   "cell_type": "markdown",
   "metadata": {},
   "source": [
    "To speed up the process there are different approaches, as for example downsampling the image, which results in a loss of prediction accuracy, or using GPU processing. For more details, please refer to the \"In-depth explanations\"  "
   ]
  },
  {
   "cell_type": "markdown",
   "metadata": {},
   "source": []
  }
 ],
 "metadata": {
  "kernelspec": {
   "display_name": "Python 3 (ipykernel)",
   "language": "python",
   "name": "python3"
  },
  "language_info": {
   "codemirror_mode": {
    "name": "ipython",
    "version": 3
   },
   "file_extension": ".py",
   "mimetype": "text/x-python",
   "name": "python",
   "nbconvert_exporter": "python",
   "pygments_lexer": "ipython3",
   "version": "3.9.18"
  }
 },
 "nbformat": 4,
 "nbformat_minor": 4
}
